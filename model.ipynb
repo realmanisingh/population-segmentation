{
 "cells": [
  {
   "cell_type": "code",
   "execution_count": 1,
   "metadata": {},
   "outputs": [],
   "source": [
    "import pandas as pd\n",
    "import numpy as np\n",
    "import matplotlib.pyplot as plt\n",
    "import seaborn as sns"
   ]
  },
  {
   "cell_type": "code",
   "execution_count": 2,
   "metadata": {},
   "outputs": [],
   "source": [
    "# Reading in the data\n",
    "general_data = pd.read_csv(\"../population-segmentation-data/general_data.csv\", sep=\";\")\n",
    "customer_data = pd.read_csv(\"../population-segmentation-data/customer_data.csv\", sep=\";\")\n",
    "train_data = pd.read_csv(\"../population-segmentation-data/train_data.csv\", sep=\";\")\n",
    "test_data = pd.read_csv(\"../population-segmentation-data/test_data.csv\", sep=\";\")"
   ]
  },
  {
   "cell_type": "code",
   "execution_count": 3,
   "metadata": {},
   "outputs": [
    {
     "data": {
      "text/html": [
       "<div>\n",
       "<style scoped>\n",
       "    .dataframe tbody tr th:only-of-type {\n",
       "        vertical-align: middle;\n",
       "    }\n",
       "\n",
       "    .dataframe tbody tr th {\n",
       "        vertical-align: top;\n",
       "    }\n",
       "\n",
       "    .dataframe thead th {\n",
       "        text-align: right;\n",
       "    }\n",
       "</style>\n",
       "<table border=\"1\" class=\"dataframe\">\n",
       "  <thead>\n",
       "    <tr style=\"text-align: right;\">\n",
       "      <th></th>\n",
       "      <th>Unnamed: 0</th>\n",
       "      <th>AGER_TYP</th>\n",
       "      <th>AKT_DAT_KL</th>\n",
       "      <th>ALTER_HH</th>\n",
       "      <th>ALTERSKATEGORIE_FEIN</th>\n",
       "      <th>ANZ_HAUSHALTE_AKTIV</th>\n",
       "      <th>ANZ_HH_TITEL</th>\n",
       "      <th>ANZ_KINDER</th>\n",
       "      <th>ANZ_PERSONEN</th>\n",
       "      <th>ANZ_STATISTISCHE_HAUSHALTE</th>\n",
       "      <th>...</th>\n",
       "      <th>VK_DHT4A</th>\n",
       "      <th>VK_DISTANZ</th>\n",
       "      <th>VK_ZG11</th>\n",
       "      <th>W_KEIT_KIND_HH</th>\n",
       "      <th>WOHNDAUER_2008</th>\n",
       "      <th>WOHNLAGE</th>\n",
       "      <th>ZABEOTYP</th>\n",
       "      <th>RESPONSE</th>\n",
       "      <th>ANREDE_KZ</th>\n",
       "      <th>ALTERSKATEGORIE_GROB</th>\n",
       "    </tr>\n",
       "  </thead>\n",
       "  <tbody>\n",
       "    <tr>\n",
       "      <th>0</th>\n",
       "      <td>0</td>\n",
       "      <td>2</td>\n",
       "      <td>1.0</td>\n",
       "      <td>8.0</td>\n",
       "      <td>8.0</td>\n",
       "      <td>15.0</td>\n",
       "      <td>0.0</td>\n",
       "      <td>0.0</td>\n",
       "      <td>1.0</td>\n",
       "      <td>13.0</td>\n",
       "      <td>...</td>\n",
       "      <td>5.0</td>\n",
       "      <td>2.0</td>\n",
       "      <td>1.0</td>\n",
       "      <td>6.0</td>\n",
       "      <td>9.0</td>\n",
       "      <td>3.0</td>\n",
       "      <td>3</td>\n",
       "      <td>0</td>\n",
       "      <td>2</td>\n",
       "      <td>4</td>\n",
       "    </tr>\n",
       "    <tr>\n",
       "      <th>1</th>\n",
       "      <td>1</td>\n",
       "      <td>1</td>\n",
       "      <td>4.0</td>\n",
       "      <td>13.0</td>\n",
       "      <td>13.0</td>\n",
       "      <td>1.0</td>\n",
       "      <td>0.0</td>\n",
       "      <td>0.0</td>\n",
       "      <td>2.0</td>\n",
       "      <td>1.0</td>\n",
       "      <td>...</td>\n",
       "      <td>1.0</td>\n",
       "      <td>2.0</td>\n",
       "      <td>1.0</td>\n",
       "      <td>4.0</td>\n",
       "      <td>9.0</td>\n",
       "      <td>7.0</td>\n",
       "      <td>1</td>\n",
       "      <td>0</td>\n",
       "      <td>2</td>\n",
       "      <td>3</td>\n",
       "    </tr>\n",
       "    <tr>\n",
       "      <th>2</th>\n",
       "      <td>2</td>\n",
       "      <td>1</td>\n",
       "      <td>1.0</td>\n",
       "      <td>9.0</td>\n",
       "      <td>7.0</td>\n",
       "      <td>0.0</td>\n",
       "      <td>-1.0</td>\n",
       "      <td>0.0</td>\n",
       "      <td>0.0</td>\n",
       "      <td>1.0</td>\n",
       "      <td>...</td>\n",
       "      <td>6.0</td>\n",
       "      <td>4.0</td>\n",
       "      <td>2.0</td>\n",
       "      <td>-1.0</td>\n",
       "      <td>9.0</td>\n",
       "      <td>2.0</td>\n",
       "      <td>3</td>\n",
       "      <td>0</td>\n",
       "      <td>1</td>\n",
       "      <td>4</td>\n",
       "    </tr>\n",
       "    <tr>\n",
       "      <th>3</th>\n",
       "      <td>3</td>\n",
       "      <td>2</td>\n",
       "      <td>1.0</td>\n",
       "      <td>6.0</td>\n",
       "      <td>6.0</td>\n",
       "      <td>4.0</td>\n",
       "      <td>0.0</td>\n",
       "      <td>0.0</td>\n",
       "      <td>2.0</td>\n",
       "      <td>4.0</td>\n",
       "      <td>...</td>\n",
       "      <td>8.0</td>\n",
       "      <td>11.0</td>\n",
       "      <td>11.0</td>\n",
       "      <td>6.0</td>\n",
       "      <td>9.0</td>\n",
       "      <td>1.0</td>\n",
       "      <td>3</td>\n",
       "      <td>0</td>\n",
       "      <td>2</td>\n",
       "      <td>4</td>\n",
       "    </tr>\n",
       "    <tr>\n",
       "      <th>4</th>\n",
       "      <td>4</td>\n",
       "      <td>2</td>\n",
       "      <td>1.0</td>\n",
       "      <td>9.0</td>\n",
       "      <td>9.0</td>\n",
       "      <td>53.0</td>\n",
       "      <td>0.0</td>\n",
       "      <td>0.0</td>\n",
       "      <td>1.0</td>\n",
       "      <td>44.0</td>\n",
       "      <td>...</td>\n",
       "      <td>2.0</td>\n",
       "      <td>2.0</td>\n",
       "      <td>1.0</td>\n",
       "      <td>6.0</td>\n",
       "      <td>9.0</td>\n",
       "      <td>3.0</td>\n",
       "      <td>3</td>\n",
       "      <td>0</td>\n",
       "      <td>1</td>\n",
       "      <td>3</td>\n",
       "    </tr>\n",
       "  </tbody>\n",
       "</table>\n",
       "<p>5 rows × 360 columns</p>\n",
       "</div>"
      ],
      "text/plain": [
       "   Unnamed: 0  AGER_TYP  AKT_DAT_KL  ALTER_HH  ALTERSKATEGORIE_FEIN  \\\n",
       "0           0         2         1.0       8.0                   8.0   \n",
       "1           1         1         4.0      13.0                  13.0   \n",
       "2           2         1         1.0       9.0                   7.0   \n",
       "3           3         2         1.0       6.0                   6.0   \n",
       "4           4         2         1.0       9.0                   9.0   \n",
       "\n",
       "   ANZ_HAUSHALTE_AKTIV  ANZ_HH_TITEL  ANZ_KINDER  ANZ_PERSONEN  \\\n",
       "0                 15.0           0.0         0.0           1.0   \n",
       "1                  1.0           0.0         0.0           2.0   \n",
       "2                  0.0          -1.0         0.0           0.0   \n",
       "3                  4.0           0.0         0.0           2.0   \n",
       "4                 53.0           0.0         0.0           1.0   \n",
       "\n",
       "   ANZ_STATISTISCHE_HAUSHALTE  ...  VK_DHT4A  VK_DISTANZ  VK_ZG11  \\\n",
       "0                        13.0  ...       5.0         2.0      1.0   \n",
       "1                         1.0  ...       1.0         2.0      1.0   \n",
       "2                         1.0  ...       6.0         4.0      2.0   \n",
       "3                         4.0  ...       8.0        11.0     11.0   \n",
       "4                        44.0  ...       2.0         2.0      1.0   \n",
       "\n",
       "   W_KEIT_KIND_HH  WOHNDAUER_2008  WOHNLAGE  ZABEOTYP  RESPONSE  ANREDE_KZ  \\\n",
       "0             6.0             9.0       3.0         3         0          2   \n",
       "1             4.0             9.0       7.0         1         0          2   \n",
       "2            -1.0             9.0       2.0         3         0          1   \n",
       "3             6.0             9.0       1.0         3         0          2   \n",
       "4             6.0             9.0       3.0         3         0          1   \n",
       "\n",
       "   ALTERSKATEGORIE_GROB  \n",
       "0                     4  \n",
       "1                     3  \n",
       "2                     4  \n",
       "3                     4  \n",
       "4                     3  \n",
       "\n",
       "[5 rows x 360 columns]"
      ]
     },
     "execution_count": 3,
     "metadata": {},
     "output_type": "execute_result"
    }
   ],
   "source": [
    "train_data.head()"
   ]
  },
  {
   "cell_type": "code",
   "execution_count": 4,
   "metadata": {},
   "outputs": [
    {
     "name": "stdout",
     "output_type": "stream",
     "text": [
      "Unnamed: 0\n"
     ]
    }
   ],
   "source": [
    "# Getting the name of the extra column\n",
    "extra_col = list(general_data.columns)[0]\n",
    "print(extra_col)\n",
    "\n",
    "# Removing the extra column in every dataframe since it is redundant\n",
    "general_data.drop(extra_col, axis=1, inplace=True)\n",
    "customer_data.drop(extra_col, axis=1, inplace=True)\n",
    "train_data.drop(extra_col, axis=1, inplace=True)\n",
    "test_data.drop(extra_col, axis=1, inplace=True)"
   ]
  },
  {
   "cell_type": "code",
   "execution_count": 5,
   "metadata": {},
   "outputs": [
    {
     "data": {
      "text/html": [
       "<div>\n",
       "<style scoped>\n",
       "    .dataframe tbody tr th:only-of-type {\n",
       "        vertical-align: middle;\n",
       "    }\n",
       "\n",
       "    .dataframe tbody tr th {\n",
       "        vertical-align: top;\n",
       "    }\n",
       "\n",
       "    .dataframe thead th {\n",
       "        text-align: right;\n",
       "    }\n",
       "</style>\n",
       "<table border=\"1\" class=\"dataframe\">\n",
       "  <thead>\n",
       "    <tr style=\"text-align: right;\">\n",
       "      <th></th>\n",
       "      <th>AGER_TYP</th>\n",
       "      <th>AKT_DAT_KL</th>\n",
       "      <th>ALTER_HH</th>\n",
       "      <th>ALTERSKATEGORIE_FEIN</th>\n",
       "      <th>ANZ_HAUSHALTE_AKTIV</th>\n",
       "      <th>ANZ_HH_TITEL</th>\n",
       "      <th>ANZ_KINDER</th>\n",
       "      <th>ANZ_PERSONEN</th>\n",
       "      <th>ANZ_STATISTISCHE_HAUSHALTE</th>\n",
       "      <th>ANZ_TITEL</th>\n",
       "      <th>...</th>\n",
       "      <th>VK_DHT4A</th>\n",
       "      <th>VK_DISTANZ</th>\n",
       "      <th>VK_ZG11</th>\n",
       "      <th>W_KEIT_KIND_HH</th>\n",
       "      <th>WOHNDAUER_2008</th>\n",
       "      <th>WOHNLAGE</th>\n",
       "      <th>ZABEOTYP</th>\n",
       "      <th>RESPONSE</th>\n",
       "      <th>ANREDE_KZ</th>\n",
       "      <th>ALTERSKATEGORIE_GROB</th>\n",
       "    </tr>\n",
       "  </thead>\n",
       "  <tbody>\n",
       "    <tr>\n",
       "      <th>0</th>\n",
       "      <td>2</td>\n",
       "      <td>1.0</td>\n",
       "      <td>8.0</td>\n",
       "      <td>8.0</td>\n",
       "      <td>15.0</td>\n",
       "      <td>0.0</td>\n",
       "      <td>0.0</td>\n",
       "      <td>1.0</td>\n",
       "      <td>13.0</td>\n",
       "      <td>0.0</td>\n",
       "      <td>...</td>\n",
       "      <td>5.0</td>\n",
       "      <td>2.0</td>\n",
       "      <td>1.0</td>\n",
       "      <td>6.0</td>\n",
       "      <td>9.0</td>\n",
       "      <td>3.0</td>\n",
       "      <td>3</td>\n",
       "      <td>0</td>\n",
       "      <td>2</td>\n",
       "      <td>4</td>\n",
       "    </tr>\n",
       "    <tr>\n",
       "      <th>1</th>\n",
       "      <td>1</td>\n",
       "      <td>4.0</td>\n",
       "      <td>13.0</td>\n",
       "      <td>13.0</td>\n",
       "      <td>1.0</td>\n",
       "      <td>0.0</td>\n",
       "      <td>0.0</td>\n",
       "      <td>2.0</td>\n",
       "      <td>1.0</td>\n",
       "      <td>0.0</td>\n",
       "      <td>...</td>\n",
       "      <td>1.0</td>\n",
       "      <td>2.0</td>\n",
       "      <td>1.0</td>\n",
       "      <td>4.0</td>\n",
       "      <td>9.0</td>\n",
       "      <td>7.0</td>\n",
       "      <td>1</td>\n",
       "      <td>0</td>\n",
       "      <td>2</td>\n",
       "      <td>3</td>\n",
       "    </tr>\n",
       "    <tr>\n",
       "      <th>2</th>\n",
       "      <td>1</td>\n",
       "      <td>1.0</td>\n",
       "      <td>9.0</td>\n",
       "      <td>7.0</td>\n",
       "      <td>0.0</td>\n",
       "      <td>-1.0</td>\n",
       "      <td>0.0</td>\n",
       "      <td>0.0</td>\n",
       "      <td>1.0</td>\n",
       "      <td>0.0</td>\n",
       "      <td>...</td>\n",
       "      <td>6.0</td>\n",
       "      <td>4.0</td>\n",
       "      <td>2.0</td>\n",
       "      <td>-1.0</td>\n",
       "      <td>9.0</td>\n",
       "      <td>2.0</td>\n",
       "      <td>3</td>\n",
       "      <td>0</td>\n",
       "      <td>1</td>\n",
       "      <td>4</td>\n",
       "    </tr>\n",
       "    <tr>\n",
       "      <th>3</th>\n",
       "      <td>2</td>\n",
       "      <td>1.0</td>\n",
       "      <td>6.0</td>\n",
       "      <td>6.0</td>\n",
       "      <td>4.0</td>\n",
       "      <td>0.0</td>\n",
       "      <td>0.0</td>\n",
       "      <td>2.0</td>\n",
       "      <td>4.0</td>\n",
       "      <td>0.0</td>\n",
       "      <td>...</td>\n",
       "      <td>8.0</td>\n",
       "      <td>11.0</td>\n",
       "      <td>11.0</td>\n",
       "      <td>6.0</td>\n",
       "      <td>9.0</td>\n",
       "      <td>1.0</td>\n",
       "      <td>3</td>\n",
       "      <td>0</td>\n",
       "      <td>2</td>\n",
       "      <td>4</td>\n",
       "    </tr>\n",
       "    <tr>\n",
       "      <th>4</th>\n",
       "      <td>2</td>\n",
       "      <td>1.0</td>\n",
       "      <td>9.0</td>\n",
       "      <td>9.0</td>\n",
       "      <td>53.0</td>\n",
       "      <td>0.0</td>\n",
       "      <td>0.0</td>\n",
       "      <td>1.0</td>\n",
       "      <td>44.0</td>\n",
       "      <td>0.0</td>\n",
       "      <td>...</td>\n",
       "      <td>2.0</td>\n",
       "      <td>2.0</td>\n",
       "      <td>1.0</td>\n",
       "      <td>6.0</td>\n",
       "      <td>9.0</td>\n",
       "      <td>3.0</td>\n",
       "      <td>3</td>\n",
       "      <td>0</td>\n",
       "      <td>1</td>\n",
       "      <td>3</td>\n",
       "    </tr>\n",
       "  </tbody>\n",
       "</table>\n",
       "<p>5 rows × 359 columns</p>\n",
       "</div>"
      ],
      "text/plain": [
       "   AGER_TYP  AKT_DAT_KL  ALTER_HH  ALTERSKATEGORIE_FEIN  ANZ_HAUSHALTE_AKTIV  \\\n",
       "0         2         1.0       8.0                   8.0                 15.0   \n",
       "1         1         4.0      13.0                  13.0                  1.0   \n",
       "2         1         1.0       9.0                   7.0                  0.0   \n",
       "3         2         1.0       6.0                   6.0                  4.0   \n",
       "4         2         1.0       9.0                   9.0                 53.0   \n",
       "\n",
       "   ANZ_HH_TITEL  ANZ_KINDER  ANZ_PERSONEN  ANZ_STATISTISCHE_HAUSHALTE  \\\n",
       "0           0.0         0.0           1.0                        13.0   \n",
       "1           0.0         0.0           2.0                         1.0   \n",
       "2          -1.0         0.0           0.0                         1.0   \n",
       "3           0.0         0.0           2.0                         4.0   \n",
       "4           0.0         0.0           1.0                        44.0   \n",
       "\n",
       "   ANZ_TITEL  ...  VK_DHT4A  VK_DISTANZ  VK_ZG11  W_KEIT_KIND_HH  \\\n",
       "0        0.0  ...       5.0         2.0      1.0             6.0   \n",
       "1        0.0  ...       1.0         2.0      1.0             4.0   \n",
       "2        0.0  ...       6.0         4.0      2.0            -1.0   \n",
       "3        0.0  ...       8.0        11.0     11.0             6.0   \n",
       "4        0.0  ...       2.0         2.0      1.0             6.0   \n",
       "\n",
       "   WOHNDAUER_2008  WOHNLAGE  ZABEOTYP  RESPONSE  ANREDE_KZ  \\\n",
       "0             9.0       3.0         3         0          2   \n",
       "1             9.0       7.0         1         0          2   \n",
       "2             9.0       2.0         3         0          1   \n",
       "3             9.0       1.0         3         0          2   \n",
       "4             9.0       3.0         3         0          1   \n",
       "\n",
       "   ALTERSKATEGORIE_GROB  \n",
       "0                     4  \n",
       "1                     3  \n",
       "2                     4  \n",
       "3                     4  \n",
       "4                     3  \n",
       "\n",
       "[5 rows x 359 columns]"
      ]
     },
     "execution_count": 5,
     "metadata": {},
     "output_type": "execute_result"
    }
   ],
   "source": [
    "train_data.head()"
   ]
  },
  {
   "cell_type": "code",
   "execution_count": 6,
   "metadata": {},
   "outputs": [
    {
     "data": {
      "text/plain": [
       "(array([42419.,     0.,     0.,     0.,     0.,     0.,     0.,     0.,\n",
       "            0.,   532.]),\n",
       " array([0. , 0.1, 0.2, 0.3, 0.4, 0.5, 0.6, 0.7, 0.8, 0.9, 1. ]),\n",
       " <a list of 10 Patch objects>)"
      ]
     },
     "execution_count": 6,
     "metadata": {},
     "output_type": "execute_result"
    },
    {
     "data": {
      "image/png": "[encoded data removed]",
      "text/plain": [
       "<Figure size 432x288 with 1 Axes>"
      ]
     },
     "metadata": {
      "needs_background": "light"
     },
     "output_type": "display_data"
    }
   ],
   "source": [
    "# Graphing the distribution of the RESPONSE variable for the training data\n",
    "plt.hist(train_data[\"RESPONSE\"])"
   ]
  },
  {
   "cell_type": "code",
   "execution_count": 7,
   "metadata": {},
   "outputs": [
    {
     "data": {
      "text/plain": [
       "0.01238620753882331"
      ]
     },
     "execution_count": 7,
     "metadata": {},
     "output_type": "execute_result"
    }
   ],
   "source": [
    "# Calculating the percentage of positive outcomes for the training data\n",
    "len(train_data[train_data[\"RESPONSE\"]==1]) / len(train_data)"
   ]
  },
  {
   "cell_type": "code",
   "execution_count": 8,
   "metadata": {},
   "outputs": [],
   "source": [
    "# Using logistic regrsssion to create the benchmark model\n",
    "\n",
    "# importing the logistic regression model\n",
    "from sklearn.linear_model import LogisticRegression\n",
    "\n",
    "# Creating the logistic regression model with lasso regularization\n",
    "lr_baseline = LogisticRegression(penalty='l1',\n",
    "                                 class_weight='balanced',\n",
    "                                 solver='saga',\n",
    "                                 max_iter=5000)"
   ]
  },
  {
   "cell_type": "code",
   "execution_count": 9,
   "metadata": {},
   "outputs": [],
   "source": [
    "# Splitting the training data into features and labels\n",
    "X_train = train_data.loc[:, train_data.columns != 'RESPONSE']\n",
    "y_train = train_data['RESPONSE']"
   ]
  },
  {
   "cell_type": "code",
   "execution_count": 10,
   "metadata": {},
   "outputs": [
    {
     "name": "stderr",
     "output_type": "stream",
     "text": [
      "/anaconda3/lib/python3.7/site-packages/sklearn/linear_model/_sag.py:330: ConvergenceWarning: The max_iter was reached which means the coef_ did not converge\n",
      "  \"the coef_ did not converge\", ConvergenceWarning)\n"
     ]
    },
    {
     "data": {
      "text/plain": [
       "LogisticRegression(class_weight='balanced', max_iter=5000, penalty='l1',\n",
       "                   solver='saga')"
      ]
     },
     "execution_count": 10,
     "metadata": {},
     "output_type": "execute_result"
    }
   ],
   "source": [
    "# Training the baseline model\n",
    "lr_baseline.fit(X_train, y_train)"
   ]
  },
  {
   "cell_type": "code",
   "execution_count": 11,
   "metadata": {},
   "outputs": [],
   "source": [
    "# Importing functions for calculating accuracy, precision, and recall\n",
    "from sklearn.metrics import recall_score\n",
    "from sklearn.metrics import precision_score\n",
    "from sklearn.metrics import accuracy_score"
   ]
  },
  {
   "cell_type": "code",
   "execution_count": 12,
   "metadata": {},
   "outputs": [],
   "source": [
    "# Getting predictions for the training set\n",
    "y_pred = lr_baseline.predict(X_train)"
   ]
  },
  {
   "cell_type": "code",
   "execution_count": 13,
   "metadata": {},
   "outputs": [
    {
     "name": "stdout",
     "output_type": "stream",
     "text": [
      "The accuracy is 0.9669390701031408\n",
      "The recall is 0.03007518796992481\n",
      "The precision is 0.017391304347826087\n"
     ]
    }
   ],
   "source": [
    "# Calculating the accuracy, precision, and recall\n",
    "print(\"The accuracy is\", accuracy_score(y_train, y_pred))\n",
    "print(\"The recall is\", recall_score(y_train, y_pred))\n",
    "print(\"The precision is\", precision_score(y_train, y_pred))"
   ]
  },
  {
   "cell_type": "code",
   "execution_count": 14,
   "metadata": {},
   "outputs": [
    {
     "name": "stdout",
     "output_type": "stream",
     "text": [
      "[[ 1.82412374e-01 -2.05964717e-01 -2.15469814e-02 -9.61548525e-02\n",
      "  -1.49622347e-01  9.82935169e-02  1.88281323e-01  5.71469812e-02\n",
      "   1.33836078e-01  3.67708615e-02 -1.16476446e-04  1.13137463e-01\n",
      "  -1.58973469e-01 -1.87991094e-02 -1.56318610e-01 -1.28247893e-01\n",
      "   8.09685482e-02 -2.34751329e-02  4.01861648e-02  3.49127847e-02\n",
      "   7.35268549e-02 -4.60560280e-02  2.32292860e-02  5.25285924e-02\n",
      "   1.15832060e-01 -3.11725675e-01 -1.57269000e-02 -2.35702372e-01\n",
      "   9.21890392e-02 -9.28846180e-02  1.63144245e-01 -1.18039705e-01\n",
      "   1.56167154e-01 -8.63791933e-02 -1.58261687e-01  3.08860044e-03\n",
      "  -7.48185505e-02 -7.66403466e-02 -5.70312069e-02  1.50259870e-01\n",
      "   5.43324998e-02 -1.00404193e-01 -1.14898385e-01 -1.27747130e-01\n",
      "   3.09555835e-01 -1.17768963e-01  1.27161695e-01  7.96396984e-03\n",
      "   8.43813749e-02  4.15168794e-02 -1.23951625e-01 -4.80327698e-01\n",
      "  -9.81048044e-01  9.04135436e-02 -8.15590054e-02 -1.05832353e-01\n",
      "   1.10317556e-01 -1.60729295e-01  1.09788242e-01  5.44859563e-02\n",
      "  -8.06574275e-02  1.77617413e-01 -9.91690714e-01 -1.41490043e-01\n",
      "  -5.08783463e-02 -2.42314905e-02 -3.06342279e-02  1.84206541e-01\n",
      "   1.79147406e-01 -4.68376041e-02  1.01740740e-01 -5.30429011e-02\n",
      "  -2.66603231e-01 -4.91810226e-02 -5.50912090e-02 -5.12092926e-03\n",
      "  -1.17351236e-01 -6.33818590e-02  2.70239373e-02  2.10264494e-01\n",
      "  -2.58482340e-02 -2.19193190e-02  7.07574676e-02  4.85875859e-02\n",
      "  -6.09460358e-02  3.48162625e-02  8.58862316e-04 -6.93602004e-02\n",
      "   4.72358652e-02 -2.98022654e-03  1.14000090e-04  2.14612240e-01\n",
      "  -2.17814035e-02  3.48199678e-02 -1.51935005e-02  5.22786397e-02\n",
      "  -1.53550600e-01  9.86580048e-02  1.62131078e-01  2.61534097e-02\n",
      "   4.47204085e-02 -2.57075963e-02 -3.43553277e-02 -4.83897126e-03\n",
      "   3.98234516e-02  1.35270550e-01 -2.37643478e-02  2.87944592e-02\n",
      "   5.51277950e-02 -1.18589765e-01 -2.70984819e-01  1.45569474e-01\n",
      "   5.31852978e-02 -2.00562201e-01 -3.39942795e-02 -1.77390478e-01\n",
      "  -6.88657922e-02  5.93151068e-02 -3.94172081e-02 -1.42497632e-02\n",
      "  -2.19904690e-01 -1.73007858e-01  4.17776466e-02 -1.05252336e-01\n",
      "   1.47778670e-02  3.27188383e-01  4.03480439e-01 -5.66924212e-02\n",
      "   7.10445998e-02 -1.45836372e-01 -6.46618467e-02  5.06758353e-02\n",
      "   1.80159924e-01 -1.12399322e-01  2.18692222e-01  2.21281499e-02\n",
      "  -1.68552303e-01 -4.48805624e-02 -9.69702382e-02  1.27586276e-01\n",
      "  -1.17328872e-02 -9.43514246e-02  1.18243634e-01  3.01509952e-02\n",
      "  -1.11201467e-01  1.81689926e-01  4.60941205e-02 -1.60074184e-01\n",
      "   1.30730366e-01 -1.83835687e-01 -1.22571979e-02  8.69490727e-02\n",
      "   1.97756783e-01  3.03728666e-02 -6.26197319e-02 -1.48869545e-01\n",
      "   3.92746904e-02 -1.65391919e-01  1.87592931e-01 -1.37347002e-01\n",
      "  -1.64504941e-01  2.60880528e-01 -7.97005183e-03  5.02038637e-02\n",
      "  -4.60041892e-02  1.66153103e-01 -3.25954407e-02 -8.43020459e-02\n",
      "  -3.56529555e-02  2.38398629e-01  3.10656973e-02 -4.49894134e-02\n",
      "   1.38271584e-01 -1.21423630e-01 -4.06628964e-02  2.54183587e-01\n",
      "   4.43477136e-02 -6.90947222e-02 -1.71901431e-02  2.70536082e-02\n",
      "   8.12829415e-02 -3.84265023e-02 -4.01705748e-02  5.81500042e-02\n",
      "  -3.15131748e-03  3.04326887e-02 -5.44505674e-02 -2.90719060e-02\n",
      "  -8.55402046e-02 -9.01155787e-02  2.06597152e-02  1.19165270e-01\n",
      "  -1.00748287e-01  6.82343924e-02 -1.01503644e-01 -1.21892188e-01\n",
      "   1.49394785e-01 -2.00956418e-01  3.29709574e-02  1.64567119e-02\n",
      "   1.50250797e-02 -1.18802009e-01  1.62645892e-01  3.43953092e-03\n",
      "  -1.90297552e-01  1.47004543e-01  2.17698694e-01 -1.43460685e-01\n",
      "   6.43172405e-02 -1.07766264e-01  8.17308663e-02 -3.03615638e-03\n",
      "   6.75438939e-04  8.94163249e-02 -1.24006348e-01  7.15822830e-02\n",
      "  -6.70511165e-02 -5.49988511e-02  4.90529502e-03 -2.66649696e-02\n",
      "  -3.85537678e-02  1.03197456e-01  1.05007090e-01  5.33922900e-02\n",
      "   7.20218265e-02  3.48253951e-02  5.86505199e-02  7.97797386e-02\n",
      "  -6.24121746e-02 -1.07766264e-01 -6.16094838e-02  1.20366070e-01\n",
      "   1.61710870e-01  9.90929690e-03 -5.99263474e-02  1.31464553e-02\n",
      "  -4.66125756e-02 -2.06215109e-02  1.32320783e-02 -8.44813166e-02\n",
      "   2.33819519e-02 -1.19725588e-01  1.23316172e-01 -1.70398197e-01\n",
      "  -2.99965370e-03  9.34067719e-03 -1.32611548e-01  3.77660594e-02\n",
      "  -1.91237242e-02 -1.42184208e-01 -1.57536388e-01  5.57809950e-02\n",
      "   2.42364061e-01 -9.84858761e-02  1.36062633e-01 -1.20091807e-01\n",
      "  -4.56695973e-02  8.97416308e-02 -6.17436330e-02  9.35300658e-02\n",
      "  -1.29064839e-01  1.34862515e-02  8.45635619e-02  9.68096995e-02\n",
      "  -7.24024826e-02 -4.57144100e-02  7.47326313e-02  1.40329713e-01\n",
      "   4.96849386e-03  1.37029791e-04 -1.23944171e-02 -3.59801761e-02\n",
      "  -1.81194262e-01 -1.13823753e-01 -1.15515827e-01 -1.97646123e-01\n",
      "  -3.23118687e-02  1.05729765e-01 -9.36952766e-02  2.21307302e-03\n",
      "  -1.07356573e-01  2.60565489e-01 -8.74406405e-02 -1.19867734e-01\n",
      "   1.32130630e-01 -2.61743435e-02 -1.79275567e-02  1.79129242e-01\n",
      "  -2.06492098e-02 -1.64842137e-01 -7.87101794e-02  7.70822248e-02\n",
      "  -7.78530064e-02  1.28081757e-01  6.99861870e-02 -1.89635708e-01\n",
      "   1.21033386e-01  1.17033648e-02  2.64364091e-02 -6.01201086e-02\n",
      "   1.34251036e-01 -1.70614535e-02 -5.80129796e-02 -5.72680271e-03\n",
      "   6.14886475e-02 -1.64979364e-01 -1.50782522e-02 -1.16193299e-01\n",
      "  -9.24550482e-02  4.83896511e-02  2.35773710e-03 -7.83899447e-02\n",
      "   1.81331847e-02  1.22579442e-01  6.01569485e-02 -9.63715100e-02\n",
      "  -5.56515743e-02 -7.08870455e-02  5.63310807e-02  2.39118765e-01\n",
      "  -6.44864486e-02 -4.00977458e-02  3.03420252e-01  1.72808644e-01\n",
      "   6.43093281e-02 -1.60323086e-01  4.02020827e-02  6.99111708e-02\n",
      "   1.37872718e-01  1.59035037e-01  2.25373523e-01  7.93577474e-02\n",
      "  -1.56826542e-02 -2.18365035e-03  4.04286741e-02  1.59824774e-01\n",
      "  -1.25830816e-01 -1.78309244e-01 -1.01190983e-01  1.75959287e-02\n",
      "   1.24922522e-01 -6.95698824e-05  9.34476238e-02  4.02054895e-02\n",
      "   3.96751372e-02  2.33176096e-02  1.19566478e-01 -9.57399314e-02\n",
      "  -7.00608354e-03 -3.62077834e-02 -1.18514680e-01 -1.13032168e-02\n",
      "   1.60894084e-01  1.89041608e-01  2.09072927e-01 -2.22506157e-01\n",
      "  -7.55774369e-02 -9.39577649e-02]]\n"
     ]
    }
   ],
   "source": [
    "# Viewing the coefficents learned by the model\n",
    "coefs = lr_baseline.coef_\n",
    "print(coefs)"
   ]
  },
  {
   "cell_type": "code",
   "execution_count": 15,
   "metadata": {},
   "outputs": [
    {
     "name": "stdout",
     "output_type": "stream",
     "text": [
      "358\n"
     ]
    }
   ],
   "source": [
    "print(len(coefs[0]))"
   ]
  },
  {
   "cell_type": "code",
   "execution_count": 16,
   "metadata": {},
   "outputs": [],
   "source": [
    "# Importing the SMOTE class in order to oversample the positive class\n",
    "from imblearn.over_sampling import SMOTE\n",
    "\n",
    "# Creating the SMOTE model\n",
    "smote = SMOTE()"
   ]
  },
  {
   "cell_type": "code",
   "execution_count": 17,
   "metadata": {},
   "outputs": [],
   "source": [
    "# Fitting the SMOTE model to the training data and resampling the training data\n",
    "X_train_over, y_train_over = smote.fit_resample(X_train, y_train)"
   ]
  },
  {
   "cell_type": "code",
   "execution_count": 18,
   "metadata": {},
   "outputs": [
    {
     "data": {
      "text/plain": [
       "<matplotlib.axes._subplots.AxesSubplot at 0x1307cabe0>"
      ]
     },
     "execution_count": 18,
     "metadata": {},
     "output_type": "execute_result"
    },
    {
     "data": {
      "image/png": "[encoded data removed]",
      "text/plain": [
       "<Figure size 432x288 with 1 Axes>"
      ]
     },
     "metadata": {
      "needs_background": "light"
     },
     "output_type": "display_data"
    }
   ],
   "source": [
    "# Visualizing the new distribution of the RESPONSE column\n",
    "y_train_over.hist()"
   ]
  },
  {
   "cell_type": "code",
   "execution_count": 24,
   "metadata": {},
   "outputs": [],
   "source": [
    "# Using cross validation to select a model\n",
    "\n",
    "# Importing the cross validation function\n",
    "from sklearn.model_selection import cross_validate\n",
    "\n",
    "# Importing the classes that will be used to create the models\n",
    "from sklearn.ensemble import RandomForestClassifier\n",
    "from sklearn.ensemble import GradientBoostingClassifier\n",
    "from sklearn.neighbors import KNeighborsClassifier\n",
    "from sklearn.naive_bayes import GaussianNB\n",
    "from xgboost import XGBClassifier\n",
    "\n",
    "# Creating the models\n",
    "\n",
    "# Random forest model\n",
    "rf_classifier = RandomForestClassifier(n_estimators=200)\n",
    "# Gradient boosting model\n",
    "gb_classifier = GradientBoostingClassifier(n_estimators=200)\n",
    "# XGBoost model\n",
    "xgb_classifier = XGBClassifier()\n",
    "# K nearest neighbors model\n",
    "knn_classifier= KNeighborsClassifier()\n",
    "# Naive bayes model\n",
    "nb_classifier = GaussianNB()\n",
    "\n",
    "# Dictionary that will hold the accuracy, recall, and precision values for the cross validation process for each model\n",
    "cv_scores = {\"Random Forest\": None, \"Gradient Boosting\": None, \"XGBoost\": None,\n",
    "             \"K Nearest Neighbors\": None, \"Naive Bayes\": None}"
   ]
  },
  {
   "cell_type": "code",
   "execution_count": 25,
   "metadata": {},
   "outputs": [],
   "source": [
    "# Getting a random sample from the data to reduce the runtime of the cross validation iterations\n",
    "df_sample = train_data.sample(10000)"
   ]
  },
  {
   "cell_type": "code",
   "execution_count": 26,
   "metadata": {},
   "outputs": [
    {
     "data": {
      "text/html": [
       "<div>\n",
       "<style scoped>\n",
       "    .dataframe tbody tr th:only-of-type {\n",
       "        vertical-align: middle;\n",
       "    }\n",
       "\n",
       "    .dataframe tbody tr th {\n",
       "        vertical-align: top;\n",
       "    }\n",
       "\n",
       "    .dataframe thead th {\n",
       "        text-align: right;\n",
       "    }\n",
       "</style>\n",
       "<table border=\"1\" class=\"dataframe\">\n",
       "  <thead>\n",
       "    <tr style=\"text-align: right;\">\n",
       "      <th></th>\n",
       "      <th>AGER_TYP</th>\n",
       "      <th>AKT_DAT_KL</th>\n",
       "      <th>ALTER_HH</th>\n",
       "      <th>ALTERSKATEGORIE_FEIN</th>\n",
       "      <th>ANZ_HAUSHALTE_AKTIV</th>\n",
       "      <th>ANZ_HH_TITEL</th>\n",
       "      <th>ANZ_KINDER</th>\n",
       "      <th>ANZ_PERSONEN</th>\n",
       "      <th>ANZ_STATISTISCHE_HAUSHALTE</th>\n",
       "      <th>ANZ_TITEL</th>\n",
       "      <th>...</th>\n",
       "      <th>VK_DHT4A</th>\n",
       "      <th>VK_DISTANZ</th>\n",
       "      <th>VK_ZG11</th>\n",
       "      <th>W_KEIT_KIND_HH</th>\n",
       "      <th>WOHNDAUER_2008</th>\n",
       "      <th>WOHNLAGE</th>\n",
       "      <th>ZABEOTYP</th>\n",
       "      <th>RESPONSE</th>\n",
       "      <th>ANREDE_KZ</th>\n",
       "      <th>ALTERSKATEGORIE_GROB</th>\n",
       "    </tr>\n",
       "  </thead>\n",
       "  <tbody>\n",
       "    <tr>\n",
       "      <th>2603</th>\n",
       "      <td>2</td>\n",
       "      <td>1.0</td>\n",
       "      <td>13.0</td>\n",
       "      <td>13.0</td>\n",
       "      <td>2.0</td>\n",
       "      <td>0.0</td>\n",
       "      <td>0.0</td>\n",
       "      <td>1.0</td>\n",
       "      <td>2.0</td>\n",
       "      <td>0.0</td>\n",
       "      <td>...</td>\n",
       "      <td>5.0</td>\n",
       "      <td>8.0</td>\n",
       "      <td>5.0</td>\n",
       "      <td>4.0</td>\n",
       "      <td>9.0</td>\n",
       "      <td>7.0</td>\n",
       "      <td>1</td>\n",
       "      <td>0</td>\n",
       "      <td>1</td>\n",
       "      <td>3</td>\n",
       "    </tr>\n",
       "    <tr>\n",
       "      <th>42791</th>\n",
       "      <td>2</td>\n",
       "      <td>1.0</td>\n",
       "      <td>19.0</td>\n",
       "      <td>8.0</td>\n",
       "      <td>1.0</td>\n",
       "      <td>0.0</td>\n",
       "      <td>0.0</td>\n",
       "      <td>2.0</td>\n",
       "      <td>1.0</td>\n",
       "      <td>0.0</td>\n",
       "      <td>...</td>\n",
       "      <td>10.0</td>\n",
       "      <td>11.0</td>\n",
       "      <td>8.0</td>\n",
       "      <td>6.0</td>\n",
       "      <td>9.0</td>\n",
       "      <td>5.0</td>\n",
       "      <td>3</td>\n",
       "      <td>0</td>\n",
       "      <td>2</td>\n",
       "      <td>4</td>\n",
       "    </tr>\n",
       "    <tr>\n",
       "      <th>40245</th>\n",
       "      <td>-1</td>\n",
       "      <td>1.0</td>\n",
       "      <td>15.0</td>\n",
       "      <td>15.0</td>\n",
       "      <td>0.0</td>\n",
       "      <td>-1.0</td>\n",
       "      <td>0.0</td>\n",
       "      <td>0.0</td>\n",
       "      <td>1.0</td>\n",
       "      <td>0.0</td>\n",
       "      <td>...</td>\n",
       "      <td>7.0</td>\n",
       "      <td>10.0</td>\n",
       "      <td>7.0</td>\n",
       "      <td>-1.0</td>\n",
       "      <td>9.0</td>\n",
       "      <td>4.0</td>\n",
       "      <td>3</td>\n",
       "      <td>0</td>\n",
       "      <td>2</td>\n",
       "      <td>4</td>\n",
       "    </tr>\n",
       "    <tr>\n",
       "      <th>24880</th>\n",
       "      <td>2</td>\n",
       "      <td>1.0</td>\n",
       "      <td>8.0</td>\n",
       "      <td>8.0</td>\n",
       "      <td>6.0</td>\n",
       "      <td>0.0</td>\n",
       "      <td>0.0</td>\n",
       "      <td>1.0</td>\n",
       "      <td>6.0</td>\n",
       "      <td>0.0</td>\n",
       "      <td>...</td>\n",
       "      <td>8.0</td>\n",
       "      <td>6.0</td>\n",
       "      <td>3.0</td>\n",
       "      <td>6.0</td>\n",
       "      <td>9.0</td>\n",
       "      <td>1.0</td>\n",
       "      <td>3</td>\n",
       "      <td>0</td>\n",
       "      <td>2</td>\n",
       "      <td>4</td>\n",
       "    </tr>\n",
       "    <tr>\n",
       "      <th>18583</th>\n",
       "      <td>1</td>\n",
       "      <td>1.0</td>\n",
       "      <td>16.0</td>\n",
       "      <td>10.0</td>\n",
       "      <td>2.0</td>\n",
       "      <td>0.0</td>\n",
       "      <td>0.0</td>\n",
       "      <td>4.0</td>\n",
       "      <td>2.0</td>\n",
       "      <td>0.0</td>\n",
       "      <td>...</td>\n",
       "      <td>1.0</td>\n",
       "      <td>1.0</td>\n",
       "      <td>1.0</td>\n",
       "      <td>2.0</td>\n",
       "      <td>9.0</td>\n",
       "      <td>3.0</td>\n",
       "      <td>1</td>\n",
       "      <td>0</td>\n",
       "      <td>1</td>\n",
       "      <td>4</td>\n",
       "    </tr>\n",
       "  </tbody>\n",
       "</table>\n",
       "<p>5 rows × 359 columns</p>\n",
       "</div>"
      ],
      "text/plain": [
       "       AGER_TYP  AKT_DAT_KL  ALTER_HH  ALTERSKATEGORIE_FEIN  \\\n",
       "2603          2         1.0      13.0                  13.0   \n",
       "42791         2         1.0      19.0                   8.0   \n",
       "40245        -1         1.0      15.0                  15.0   \n",
       "24880         2         1.0       8.0                   8.0   \n",
       "18583         1         1.0      16.0                  10.0   \n",
       "\n",
       "       ANZ_HAUSHALTE_AKTIV  ANZ_HH_TITEL  ANZ_KINDER  ANZ_PERSONEN  \\\n",
       "2603                   2.0           0.0         0.0           1.0   \n",
       "42791                  1.0           0.0         0.0           2.0   \n",
       "40245                  0.0          -1.0         0.0           0.0   \n",
       "24880                  6.0           0.0         0.0           1.0   \n",
       "18583                  2.0           0.0         0.0           4.0   \n",
       "\n",
       "       ANZ_STATISTISCHE_HAUSHALTE  ANZ_TITEL  ...  VK_DHT4A  VK_DISTANZ  \\\n",
       "2603                          2.0        0.0  ...       5.0         8.0   \n",
       "42791                         1.0        0.0  ...      10.0        11.0   \n",
       "40245                         1.0        0.0  ...       7.0        10.0   \n",
       "24880                         6.0        0.0  ...       8.0         6.0   \n",
       "18583                         2.0        0.0  ...       1.0         1.0   \n",
       "\n",
       "       VK_ZG11  W_KEIT_KIND_HH  WOHNDAUER_2008  WOHNLAGE  ZABEOTYP  RESPONSE  \\\n",
       "2603       5.0             4.0             9.0       7.0         1         0   \n",
       "42791      8.0             6.0             9.0       5.0         3         0   \n",
       "40245      7.0            -1.0             9.0       4.0         3         0   \n",
       "24880      3.0             6.0             9.0       1.0         3         0   \n",
       "18583      1.0             2.0             9.0       3.0         1         0   \n",
       "\n",
       "       ANREDE_KZ  ALTERSKATEGORIE_GROB  \n",
       "2603           1                     3  \n",
       "42791          2                     4  \n",
       "40245          2                     4  \n",
       "24880          2                     4  \n",
       "18583          1                     4  \n",
       "\n",
       "[5 rows x 359 columns]"
      ]
     },
     "execution_count": 26,
     "metadata": {},
     "output_type": "execute_result"
    }
   ],
   "source": [
    "df_sample.head()"
   ]
  },
  {
   "cell_type": "code",
   "execution_count": null,
   "metadata": {},
   "outputs": [],
   "source": []
  },
  {
   "cell_type": "code",
   "execution_count": 38,
   "metadata": {},
   "outputs": [
    {
     "name": "stdout",
     "output_type": "stream",
     "text": [
      "(4296, 358)\n"
     ]
    }
   ],
   "source": [
    "# Splitting the training data into train and test to get an idea of the variance\n",
    "from sklearn.model_selection import train_test_split\n",
    "X_train, X_test, y_train, y_test = train_test_split(X_train, y_train, test_size=0.1)\n",
    "print(X_test.shape)"
   ]
  },
  {
   "cell_type": "code",
   "execution_count": 17,
   "metadata": {},
   "outputs": [],
   "source": [
    "# Creating an random forest model with untuned hyperparameters\n",
    "\n",
    "# Importing the random forest model from scikit learn\n",
    "from sklearn.ensemble import RandomForestClassifier\n",
    "\n",
    "# Creating the random forest model\n",
    "rf_classifier = RandomForestClassifier(n_estimators=200,\n",
    "                                       oob_score=True,\n",
    "                                       class_weight='balanced')\n"
   ]
  },
  {
   "cell_type": "code",
   "execution_count": 18,
   "metadata": {},
   "outputs": [
    {
     "data": {
      "text/plain": [
       "RandomForestClassifier(bootstrap=True, ccp_alpha=0.0, class_weight='balanced',\n",
       "                       criterion='gini', max_depth=None, max_features='auto',\n",
       "                       max_leaf_nodes=None, max_samples=None,\n",
       "                       min_impurity_decrease=0.0, min_impurity_split=None,\n",
       "                       min_samples_leaf=1, min_samples_split=2,\n",
       "                       min_weight_fraction_leaf=0.0, n_estimators=200,\n",
       "                       n_jobs=None, oob_score=True, random_state=None,\n",
       "                       verbose=0, warm_start=False)"
      ]
     },
     "execution_count": 18,
     "metadata": {},
     "output_type": "execute_result"
    }
   ],
   "source": [
    "# Training the random forest model\n",
    "rf_classifier.fit(X_train, y_train)"
   ]
  },
  {
   "cell_type": "code",
   "execution_count": 19,
   "metadata": {},
   "outputs": [
    {
     "name": "stdout",
     "output_type": "stream",
     "text": [
      "The accuracy is 0.9762773250549734\n",
      "The recall is 0.920997920997921\n",
      "The precision is 0.3350983358547655\n"
     ]
    }
   ],
   "source": [
    "# Calculating the accuracy, precision, and recall for the training set\n",
    "y_pred = rf_classifier.predict(X_train)\n",
    "\n",
    "print(\"The accuracy is\", accuracy_score(y_train, y_pred))\n",
    "print(\"The recall is\", recall_score(y_train, y_pred))\n",
    "print(\"The precision is\", precision_score(y_train, y_pred))"
   ]
  },
  {
   "cell_type": "code",
   "execution_count": 20,
   "metadata": {},
   "outputs": [
    {
     "name": "stdout",
     "output_type": "stream",
     "text": [
      "0.9652567585047213\n"
     ]
    }
   ],
   "source": [
    "# Getting the out of bag score\n",
    "print(rf_classifier.oob_score_)"
   ]
  },
  {
   "cell_type": "code",
   "execution_count": 21,
   "metadata": {},
   "outputs": [
    {
     "name": "stdout",
     "output_type": "stream",
     "text": [
      "The accuracy is 0.9671787709497207\n",
      "The recall is 0.058823529411764705\n",
      "The precision is 0.03125\n"
     ]
    }
   ],
   "source": [
    "# Calculating the evaluation metrics for the test data\n",
    "y_pred = rf_classifier.predict(X_test)\n",
    "\n",
    "print(\"The accuracy is\", accuracy_score(y_test, y_pred))\n",
    "print(\"The recall is\", recall_score(y_test, y_pred))\n",
    "print(\"The precision is\", precision_score(y_test, y_pred))"
   ]
  },
  {
   "cell_type": "code",
   "execution_count": 22,
   "metadata": {},
   "outputs": [
    {
     "data": {
      "text/plain": [
       "532"
      ]
     },
     "execution_count": 22,
     "metadata": {},
     "output_type": "execute_result"
    }
   ],
   "source": [
    "len(train_data[train_data[\"RESPONSE\"]==1])"
   ]
  },
  {
   "cell_type": "code",
   "execution_count": 23,
   "metadata": {},
   "outputs": [
    {
     "data": {
      "text/plain": [
       "42419"
      ]
     },
     "execution_count": 23,
     "metadata": {},
     "output_type": "execute_result"
    }
   ],
   "source": [
    "len(train_data[train_data[\"RESPONSE\"]==0])"
   ]
  },
  {
   "cell_type": "code",
   "execution_count": 24,
   "metadata": {},
   "outputs": [
    {
     "data": {
      "text/plain": [
       "79.73496240601504"
      ]
     },
     "execution_count": 24,
     "metadata": {},
     "output_type": "execute_result"
    }
   ],
   "source": [
    "42419 / 532"
   ]
  },
  {
   "cell_type": "code",
   "execution_count": 25,
   "metadata": {},
   "outputs": [],
   "source": [
    "# Creating an gradient boosting model with untuned hyperparameters\n",
    "\n",
    "# Importing the random forest model from scikit learn\n",
    "from sklearn.ensemble import GradientBoostingClassifier\n",
    "\n",
    "# Creating the random forest model\n",
    "gb_classifier = GradientBoostingClassifier(n_estimators=200)"
   ]
  },
  {
   "cell_type": "code",
   "execution_count": 26,
   "metadata": {},
   "outputs": [
    {
     "data": {
      "text/plain": [
       "GradientBoostingClassifier(ccp_alpha=0.0, criterion='friedman_mse', init=None,\n",
       "                           learning_rate=0.1, loss='deviance', max_depth=3,\n",
       "                           max_features=None, max_leaf_nodes=None,\n",
       "                           min_impurity_decrease=0.0, min_impurity_split=None,\n",
       "                           min_samples_leaf=1, min_samples_split=2,\n",
       "                           min_weight_fraction_leaf=0.0, n_estimators=200,\n",
       "                           n_iter_no_change=None, presort='deprecated',\n",
       "                           random_state=None, subsample=1.0, tol=0.0001,\n",
       "                           validation_fraction=0.1, verbose=0,\n",
       "                           warm_start=False)"
      ]
     },
     "execution_count": 26,
     "metadata": {},
     "output_type": "execute_result"
    }
   ],
   "source": [
    "# Training the gradient boosting model\n",
    "gb_classifier.fit(X_train, y_train)"
   ]
  },
  {
   "cell_type": "code",
   "execution_count": 27,
   "metadata": {},
   "outputs": [
    {
     "name": "stdout",
     "output_type": "stream",
     "text": [
      "The accuracy is 0.9885913853317811\n",
      "The recall is 0.08316008316008316\n",
      "The precision is 1.0\n"
     ]
    }
   ],
   "source": [
    "# Calculating the accuracy, precision, and recall for the training set\n",
    "y_pred = gb_classifier.predict(X_train)\n",
    "\n",
    "print(\"The accuracy is\", accuracy_score(y_train, y_pred))\n",
    "print(\"The recall is\", recall_score(y_train, y_pred))\n",
    "print(\"The precision is\", precision_score(y_train, y_pred))"
   ]
  },
  {
   "cell_type": "code",
   "execution_count": 28,
   "metadata": {},
   "outputs": [
    {
     "name": "stdout",
     "output_type": "stream",
     "text": [
      "The accuracy is 0.9871973929236499\n",
      "The recall is 0.0\n",
      "The precision is 0.0\n"
     ]
    }
   ],
   "source": [
    "# Calculating the accuracy, precision, and recall for the test set\n",
    "y_pred = gb_classifier.predict(X_test)\n",
    "\n",
    "print(\"The accuracy is\", accuracy_score(y_test, y_pred))\n",
    "print(\"The recall is\", recall_score(y_test, y_pred))\n",
    "print(\"The precision is\", precision_score(y_test, y_pred))"
   ]
  },
  {
   "cell_type": "code",
   "execution_count": 11,
   "metadata": {},
   "outputs": [],
   "source": [
    "# Importing the SMOTE class in order to oversample the positive class\n",
    "from imblearn.over_sampling import SMOTE\n",
    "\n",
    "# Creating the SMOTE model\n",
    "smote = SMOTE()"
   ]
  },
  {
   "cell_type": "code",
   "execution_count": 12,
   "metadata": {},
   "outputs": [],
   "source": [
    "# Redefining X_train and y_train to include all the training data that will be oversampled \n",
    "X_train = train_data.loc[:, train_data.columns != 'RESPONSE']\n",
    "y_train = train_data['RESPONSE']"
   ]
  },
  {
   "cell_type": "code",
   "execution_count": 13,
   "metadata": {},
   "outputs": [
    {
     "data": {
      "text/plain": [
       "(42951, 358)"
      ]
     },
     "execution_count": 13,
     "metadata": {},
     "output_type": "execute_result"
    }
   ],
   "source": [
    "X_train.shape"
   ]
  },
  {
   "cell_type": "code",
   "execution_count": 14,
   "metadata": {},
   "outputs": [],
   "source": [
    "# Fitting the SMOTE model to the training data and resampling the training data\n",
    "X_train_over, y_train_over = smote.fit_resample(X_train, y_train)"
   ]
  },
  {
   "cell_type": "code",
   "execution_count": 15,
   "metadata": {},
   "outputs": [
    {
     "data": {
      "text/plain": [
       "<matplotlib.axes._subplots.AxesSubplot at 0x1271c2898>"
      ]
     },
     "execution_count": 15,
     "metadata": {},
     "output_type": "execute_result"
    },
    {
     "data": {
      "image/png": "[encoded data removed]",
      "text/plain": [
       "<Figure size 432x288 with 1 Axes>"
      ]
     },
     "metadata": {
      "needs_background": "light"
     },
     "output_type": "display_data"
    }
   ],
   "source": [
    "# Visualizing the new distribution of the RESPONSE column\n",
    "y_train_over.hist()"
   ]
  },
  {
   "cell_type": "code",
   "execution_count": 17,
   "metadata": {},
   "outputs": [
    {
     "name": "stdout",
     "output_type": "stream",
     "text": [
      "(8484, 358)\n"
     ]
    }
   ],
   "source": [
    "# Re-training the random forest model to see if there is any change in the recall\n",
    "\n",
    "# Creating a small test from the training data to get an idea of what the variance is\n",
    "from sklearn.model_selection import train_test_split\n",
    "X_train, X_test, y_train, y_test = train_test_split(X_train_over, y_train_over, test_size=0.1)\n",
    "print(X_test.shape)\n",
    "\n",
    "# Importing the random forest model from scikit learn\n",
    "from sklearn.ensemble import RandomForestClassifier\n",
    "\n",
    "# Creating the random forest model\n",
    "rf_classifier = RandomForestClassifier(n_estimators=200,\n",
    "                                       oob_score=True)"
   ]
  },
  {
   "cell_type": "code",
   "execution_count": 18,
   "metadata": {},
   "outputs": [
    {
     "data": {
      "text/plain": [
       "RandomForestClassifier(n_estimators=200, oob_score=True)"
      ]
     },
     "execution_count": 18,
     "metadata": {},
     "output_type": "execute_result"
    }
   ],
   "source": [
    "# Training the random forest model\n",
    "rf_classifier.fit(X_train, y_train)"
   ]
  },
  {
   "cell_type": "code",
   "execution_count": 19,
   "metadata": {},
   "outputs": [
    {
     "name": "stdout",
     "output_type": "stream",
     "text": [
      "The accuracy is 0.948568509835765\n",
      "The recall is 0.9199202350965575\n",
      "The precision is 0.9756504800333936\n"
     ]
    }
   ],
   "source": [
    "# Calculating the accuracy, precision, and recall for the training set\n",
    "y_pred = rf_classifier.predict(X_train)\n",
    "\n",
    "print(\"The accuracy is\", accuracy_score(y_train, y_pred))\n",
    "print(\"The recall is\", recall_score(y_train, y_pred))\n",
    "print(\"The precision is\", precision_score(y_train, y_pred))"
   ]
  },
  {
   "cell_type": "code",
   "execution_count": 20,
   "metadata": {},
   "outputs": [
    {
     "name": "stdout",
     "output_type": "stream",
     "text": [
      "The accuracy is 0.9414191419141914\n",
      "The recall is 0.9071279312746692\n",
      "The precision is 0.9757742257742258\n"
     ]
    }
   ],
   "source": [
    "# Calculating the evaluation metrics for the test data\n",
    "y_pred = rf_classifier.predict(X_test)\n",
    "\n",
    "print(\"The accuracy is\", accuracy_score(y_test, y_pred))\n",
    "print(\"The recall is\", recall_score(y_test, y_pred))\n",
    "print(\"The precision is\", precision_score(y_test, y_pred))"
   ]
  },
  {
   "cell_type": "code",
   "execution_count": 32,
   "metadata": {},
   "outputs": [],
   "source": [
    "# Repeating the process for the gbm and xgb models\n",
    "# Creating an gradient boosting model with untuned hyperparameters\n",
    "\n",
    "# Importing the random forest model from scikit learn\n",
    "from sklearn.ensemble import GradientBoostingClassifier\n",
    "\n",
    "# Creating the random forest model\n",
    "gb_classifier = GradientBoostingClassifier(n_estimators=200)"
   ]
  },
  {
   "cell_type": "code",
   "execution_count": 33,
   "metadata": {},
   "outputs": [
    {
     "data": {
      "text/plain": [
       "GradientBoostingClassifier(n_estimators=200)"
      ]
     },
     "execution_count": 33,
     "metadata": {},
     "output_type": "execute_result"
    }
   ],
   "source": [
    "# Training the gradient boosting model\n",
    "gb_classifier.fit(X_train, y_train)"
   ]
  },
  {
   "cell_type": "code",
   "execution_count": 34,
   "metadata": {},
   "outputs": [
    {
     "name": "stdout",
     "output_type": "stream",
     "text": [
      "The accuracy is 0.9431463970453414\n",
      "The recall is 0.9090575146935348\n",
      "The precision is 0.975366684496495\n",
      "The accuracy is 0.9411834040546911\n",
      "The recall is 0.9071279312746692\n",
      "The precision is 0.9752870693959061\n"
     ]
    }
   ],
   "source": [
    "# Calculating the accuracy, precision, and recall for the training set\n",
    "y_pred = gb_classifier.predict(X_train)\n",
    "\n",
    "print(\"The accuracy is\", accuracy_score(y_train, y_pred))\n",
    "print(\"The recall is\", recall_score(y_train, y_pred))\n",
    "print(\"The precision is\", precision_score(y_train, y_pred))\n",
    "\n",
    "# Calculating the accuracy, precision, and recall for the test set\n",
    "y_pred = gb_classifier.predict(X_test)\n",
    "\n",
    "print(\"The accuracy is\", accuracy_score(y_test, y_pred))\n",
    "print(\"The recall is\", recall_score(y_test, y_pred))\n",
    "print(\"The precision is\", precision_score(y_test, y_pred))"
   ]
  },
  {
   "cell_type": "code",
   "execution_count": 35,
   "metadata": {},
   "outputs": [],
   "source": [
    "# Importing the xgboost classifier\n",
    "from xgboost import XGBClassifier\n",
    "\n",
    "# Creating an untuned xgb model that will be trained on the oversampled data\n",
    "xgb = XGBClassifier()"
   ]
  },
  {
   "cell_type": "code",
   "execution_count": 36,
   "metadata": {},
   "outputs": [
    {
     "data": {
      "text/plain": [
       "XGBClassifier(base_score=0.5, booster='gbtree', colsample_bylevel=1,\n",
       "              colsample_bynode=1, colsample_bytree=1, gamma=0, gpu_id=-1,\n",
       "              importance_type='gain', interaction_constraints='',\n",
       "              learning_rate=0.300000012, max_delta_step=0, max_depth=6,\n",
       "              min_child_weight=1, missing=nan, monotone_constraints='()',\n",
       "              n_estimators=100, n_jobs=0, num_parallel_tree=1, random_state=0,\n",
       "              reg_alpha=0, reg_lambda=1, scale_pos_weight=1, subsample=1,\n",
       "              tree_method='exact', validate_parameters=1, verbosity=None)"
      ]
     },
     "execution_count": 36,
     "metadata": {},
     "output_type": "execute_result"
    }
   ],
   "source": [
    "# Training the model on oversampled training data\n",
    "xgb.fit(X_train, y_train)"
   ]
  },
  {
   "cell_type": "code",
   "execution_count": 38,
   "metadata": {},
   "outputs": [
    {
     "name": "stdout",
     "output_type": "stream",
     "text": [
      "The accuracy is 0.9484244440369857\n",
      "The recall is 0.9196578505457599\n",
      "The precision is 0.9756165451205255\n",
      "The accuracy is 0.9414191419141914\n",
      "The recall is 0.9071279312746692\n",
      "The precision is 0.9757742257742258\n"
     ]
    }
   ],
   "source": [
    "# Calculating the accuracy, precision, and recall for the training set\n",
    "y_pred = xgb.predict(X_train)\n",
    "\n",
    "print(\"The accuracy is\", accuracy_score(y_train, y_pred))\n",
    "print(\"The recall is\", recall_score(y_train, y_pred))\n",
    "print(\"The precision is\", precision_score(y_train, y_pred))\n",
    "\n",
    "# Calculating the accuracy, precision, and recall for the test set\n",
    "y_pred = xgb.predict(X_test)\n",
    "\n",
    "print(\"The accuracy is\", accuracy_score(y_test, y_pred))\n",
    "print(\"The recall is\", recall_score(y_test, y_pred))\n",
    "print(\"The precision is\", precision_score(y_test, y_pred))"
   ]
  },
  {
   "cell_type": "code",
   "execution_count": 26,
   "metadata": {},
   "outputs": [],
   "source": [
    "# Training a naive bayes model on the oversampled data\n",
    "\n",
    "# Importing the naive bayes model\n",
    "from sklearn.naive_bayes import GaussianNB\n",
    "\n",
    "# Creating the model\n",
    "nb = GaussianNB()"
   ]
  },
  {
   "cell_type": "code",
   "execution_count": 27,
   "metadata": {},
   "outputs": [
    {
     "data": {
      "text/plain": [
       "GaussianNB()"
      ]
     },
     "execution_count": 27,
     "metadata": {},
     "output_type": "execute_result"
    }
   ],
   "source": [
    "# Training the naive bayes model on the oversampled data\n",
    "nb.fit(X_train, y_train)"
   ]
  },
  {
   "cell_type": "code",
   "execution_count": 29,
   "metadata": {},
   "outputs": [
    {
     "name": "stdout",
     "output_type": "stream",
     "text": [
      "The accuracy is 0.6454278754223747\n",
      "The recall is 0.7300587741393787\n",
      "The precision is 0.62373063731534\n"
     ]
    }
   ],
   "source": [
    "# Calculating the accuracy, precision, and recall for the training set\n",
    "y_pred = nb.predict(X_train)\n",
    "\n",
    "print(\"The accuracy is\", accuracy_score(y_train, y_pred))\n",
    "print(\"The recall is\", recall_score(y_train, y_pred))\n",
    "print(\"The precision is\", precision_score(y_train, y_pred))"
   ]
  },
  {
   "cell_type": "code",
   "execution_count": 30,
   "metadata": {},
   "outputs": [
    {
     "name": "stdout",
     "output_type": "stream",
     "text": [
      "The accuracy is 0.6479255068363979\n",
      "The recall is 0.7306710006965406\n",
      "The precision is 0.6326899879372738\n"
     ]
    }
   ],
   "source": [
    "# Calculating the accuracy, precision, and recall for the test set\n",
    "y_pred = nb.predict(X_test)\n",
    "\n",
    "print(\"The accuracy is\", accuracy_score(y_test, y_pred))\n",
    "print(\"The recall is\", recall_score(y_test, y_pred))\n",
    "print(\"The precision is\", precision_score(y_test, y_pred))"
   ]
  },
  {
   "cell_type": "code",
   "execution_count": 39,
   "metadata": {},
   "outputs": [],
   "source": [
    "# Training a support vector machine\n",
    "\n",
    "# Importing the model\n",
    "from sklearn.svm import SVC\n",
    "\n",
    "# Creating the model\n",
    "svm = SVC()"
   ]
  },
  {
   "cell_type": "code",
   "execution_count": null,
   "metadata": {},
   "outputs": [],
   "source": [
    "svm.fit(X_train, y_train)"
   ]
  },
  {
   "cell_type": "code",
   "execution_count": null,
   "metadata": {},
   "outputs": [],
   "source": []
  }
 ],
 "metadata": {
  "kernelspec": {
   "display_name": "Python 3",
   "language": "python",
   "name": "python3"
  },
  "language_info": {
   "codemirror_mode": {
    "name": "ipython",
    "version": 3
   },
   "file_extension": ".py",
   "mimetype": "text/x-python",
   "name": "python",
   "nbconvert_exporter": "python",
   "pygments_lexer": "ipython3",
   "version": "3.7.3"
  }
 },
 "nbformat": 4,
 "nbformat_minor": 2
}
