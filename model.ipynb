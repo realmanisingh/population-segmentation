{
 "cells": [
  {
   "cell_type": "code",
   "execution_count": 1,
   "metadata": {},
   "outputs": [],
   "source": [
    "import pandas as pd\n",
    "import numpy as np\n",
    "import matplotlib.pyplot as plt\n",
    "import seaborn as sns"
   ]
  },
  {
   "cell_type": "code",
   "execution_count": 2,
   "metadata": {},
   "outputs": [],
   "source": [
    "# Reading in the data\n",
    "train_data = pd.read_csv(\"../population-segmentation-data/train_data.csv\", sep=\";\", index_col=0)\n",
    "test_data = pd.read_csv(\"../population-segmentation-data/test_data.csv\", sep=\";\", index_col=0)"
   ]
  },
  {
   "cell_type": "code",
   "execution_count": 3,
   "metadata": {},
   "outputs": [
    {
     "data": {
      "text/html": [
       "<div>\n",
       "<style scoped>\n",
       "    .dataframe tbody tr th:only-of-type {\n",
       "        vertical-align: middle;\n",
       "    }\n",
       "\n",
       "    .dataframe tbody tr th {\n",
       "        vertical-align: top;\n",
       "    }\n",
       "\n",
       "    .dataframe thead th {\n",
       "        text-align: right;\n",
       "    }\n",
       "</style>\n",
       "<table border=\"1\" class=\"dataframe\">\n",
       "  <thead>\n",
       "    <tr style=\"text-align: right;\">\n",
       "      <th></th>\n",
       "      <th>AGER_TYP</th>\n",
       "      <th>AKT_DAT_KL</th>\n",
       "      <th>ALTER_HH</th>\n",
       "      <th>ALTERSKATEGORIE_FEIN</th>\n",
       "      <th>ANZ_HAUSHALTE_AKTIV</th>\n",
       "      <th>ANZ_HH_TITEL</th>\n",
       "      <th>ANZ_KINDER</th>\n",
       "      <th>ANZ_PERSONEN</th>\n",
       "      <th>ANZ_STATISTISCHE_HAUSHALTE</th>\n",
       "      <th>ANZ_TITEL</th>\n",
       "      <th>...</th>\n",
       "      <th>VK_DHT4A</th>\n",
       "      <th>VK_DISTANZ</th>\n",
       "      <th>VK_ZG11</th>\n",
       "      <th>W_KEIT_KIND_HH</th>\n",
       "      <th>WOHNDAUER_2008</th>\n",
       "      <th>WOHNLAGE</th>\n",
       "      <th>ZABEOTYP</th>\n",
       "      <th>RESPONSE</th>\n",
       "      <th>ANREDE_KZ</th>\n",
       "      <th>ALTERSKATEGORIE_GROB</th>\n",
       "    </tr>\n",
       "  </thead>\n",
       "  <tbody>\n",
       "    <tr>\n",
       "      <th>0</th>\n",
       "      <td>2</td>\n",
       "      <td>1.0</td>\n",
       "      <td>8.0</td>\n",
       "      <td>8.0</td>\n",
       "      <td>15.0</td>\n",
       "      <td>0.0</td>\n",
       "      <td>0.0</td>\n",
       "      <td>1.0</td>\n",
       "      <td>13.0</td>\n",
       "      <td>0.0</td>\n",
       "      <td>...</td>\n",
       "      <td>5.0</td>\n",
       "      <td>2.0</td>\n",
       "      <td>1.0</td>\n",
       "      <td>6.0</td>\n",
       "      <td>9.0</td>\n",
       "      <td>3.0</td>\n",
       "      <td>3</td>\n",
       "      <td>0</td>\n",
       "      <td>2</td>\n",
       "      <td>4</td>\n",
       "    </tr>\n",
       "    <tr>\n",
       "      <th>1</th>\n",
       "      <td>1</td>\n",
       "      <td>4.0</td>\n",
       "      <td>13.0</td>\n",
       "      <td>13.0</td>\n",
       "      <td>1.0</td>\n",
       "      <td>0.0</td>\n",
       "      <td>0.0</td>\n",
       "      <td>2.0</td>\n",
       "      <td>1.0</td>\n",
       "      <td>0.0</td>\n",
       "      <td>...</td>\n",
       "      <td>1.0</td>\n",
       "      <td>2.0</td>\n",
       "      <td>1.0</td>\n",
       "      <td>4.0</td>\n",
       "      <td>9.0</td>\n",
       "      <td>7.0</td>\n",
       "      <td>1</td>\n",
       "      <td>0</td>\n",
       "      <td>2</td>\n",
       "      <td>3</td>\n",
       "    </tr>\n",
       "    <tr>\n",
       "      <th>2</th>\n",
       "      <td>1</td>\n",
       "      <td>1.0</td>\n",
       "      <td>9.0</td>\n",
       "      <td>7.0</td>\n",
       "      <td>0.0</td>\n",
       "      <td>-1.0</td>\n",
       "      <td>0.0</td>\n",
       "      <td>0.0</td>\n",
       "      <td>1.0</td>\n",
       "      <td>0.0</td>\n",
       "      <td>...</td>\n",
       "      <td>6.0</td>\n",
       "      <td>4.0</td>\n",
       "      <td>2.0</td>\n",
       "      <td>-1.0</td>\n",
       "      <td>9.0</td>\n",
       "      <td>2.0</td>\n",
       "      <td>3</td>\n",
       "      <td>0</td>\n",
       "      <td>1</td>\n",
       "      <td>4</td>\n",
       "    </tr>\n",
       "    <tr>\n",
       "      <th>3</th>\n",
       "      <td>2</td>\n",
       "      <td>1.0</td>\n",
       "      <td>6.0</td>\n",
       "      <td>6.0</td>\n",
       "      <td>4.0</td>\n",
       "      <td>0.0</td>\n",
       "      <td>0.0</td>\n",
       "      <td>2.0</td>\n",
       "      <td>4.0</td>\n",
       "      <td>0.0</td>\n",
       "      <td>...</td>\n",
       "      <td>8.0</td>\n",
       "      <td>11.0</td>\n",
       "      <td>11.0</td>\n",
       "      <td>6.0</td>\n",
       "      <td>9.0</td>\n",
       "      <td>1.0</td>\n",
       "      <td>3</td>\n",
       "      <td>0</td>\n",
       "      <td>2</td>\n",
       "      <td>4</td>\n",
       "    </tr>\n",
       "    <tr>\n",
       "      <th>4</th>\n",
       "      <td>2</td>\n",
       "      <td>1.0</td>\n",
       "      <td>9.0</td>\n",
       "      <td>9.0</td>\n",
       "      <td>53.0</td>\n",
       "      <td>0.0</td>\n",
       "      <td>0.0</td>\n",
       "      <td>1.0</td>\n",
       "      <td>44.0</td>\n",
       "      <td>0.0</td>\n",
       "      <td>...</td>\n",
       "      <td>2.0</td>\n",
       "      <td>2.0</td>\n",
       "      <td>1.0</td>\n",
       "      <td>6.0</td>\n",
       "      <td>9.0</td>\n",
       "      <td>3.0</td>\n",
       "      <td>3</td>\n",
       "      <td>0</td>\n",
       "      <td>1</td>\n",
       "      <td>3</td>\n",
       "    </tr>\n",
       "  </tbody>\n",
       "</table>\n",
       "<p>5 rows × 359 columns</p>\n",
       "</div>"
      ],
      "text/plain": [
       "   AGER_TYP  AKT_DAT_KL  ALTER_HH  ALTERSKATEGORIE_FEIN  ANZ_HAUSHALTE_AKTIV  \\\n",
       "0         2         1.0       8.0                   8.0                 15.0   \n",
       "1         1         4.0      13.0                  13.0                  1.0   \n",
       "2         1         1.0       9.0                   7.0                  0.0   \n",
       "3         2         1.0       6.0                   6.0                  4.0   \n",
       "4         2         1.0       9.0                   9.0                 53.0   \n",
       "\n",
       "   ANZ_HH_TITEL  ANZ_KINDER  ANZ_PERSONEN  ANZ_STATISTISCHE_HAUSHALTE  \\\n",
       "0           0.0         0.0           1.0                        13.0   \n",
       "1           0.0         0.0           2.0                         1.0   \n",
       "2          -1.0         0.0           0.0                         1.0   \n",
       "3           0.0         0.0           2.0                         4.0   \n",
       "4           0.0         0.0           1.0                        44.0   \n",
       "\n",
       "   ANZ_TITEL  ...  VK_DHT4A  VK_DISTANZ  VK_ZG11  W_KEIT_KIND_HH  \\\n",
       "0        0.0  ...       5.0         2.0      1.0             6.0   \n",
       "1        0.0  ...       1.0         2.0      1.0             4.0   \n",
       "2        0.0  ...       6.0         4.0      2.0            -1.0   \n",
       "3        0.0  ...       8.0        11.0     11.0             6.0   \n",
       "4        0.0  ...       2.0         2.0      1.0             6.0   \n",
       "\n",
       "   WOHNDAUER_2008  WOHNLAGE  ZABEOTYP  RESPONSE  ANREDE_KZ  \\\n",
       "0             9.0       3.0         3         0          2   \n",
       "1             9.0       7.0         1         0          2   \n",
       "2             9.0       2.0         3         0          1   \n",
       "3             9.0       1.0         3         0          2   \n",
       "4             9.0       3.0         3         0          1   \n",
       "\n",
       "   ALTERSKATEGORIE_GROB  \n",
       "0                     4  \n",
       "1                     3  \n",
       "2                     4  \n",
       "3                     4  \n",
       "4                     3  \n",
       "\n",
       "[5 rows x 359 columns]"
      ]
     },
     "execution_count": 3,
     "metadata": {},
     "output_type": "execute_result"
    }
   ],
   "source": [
    "train_data.head()"
   ]
  },
  {
   "cell_type": "code",
   "execution_count": 4,
   "metadata": {},
   "outputs": [
    {
     "data": {
      "text/plain": [
       "(array([42419.,     0.,     0.,     0.,     0.,     0.,     0.,     0.,\n",
       "            0.,   532.]),\n",
       " array([0. , 0.1, 0.2, 0.3, 0.4, 0.5, 0.6, 0.7, 0.8, 0.9, 1. ]),\n",
       " <a list of 10 Patch objects>)"
      ]
     },
     "execution_count": 4,
     "metadata": {},
     "output_type": "execute_result"
    },
    {
     "data": {
      "image/png": "[encoded data removed]",
      "text/plain": [
       "<Figure size 432x288 with 1 Axes>"
      ]
     },
     "metadata": {
      "needs_background": "light"
     },
     "output_type": "display_data"
    }
   ],
   "source": [
    "# Graphing the distribution of the RESPONSE variable for the training data\n",
    "plt.hist(train_data[\"RESPONSE\"])"
   ]
  },
  {
   "cell_type": "code",
   "execution_count": 5,
   "metadata": {},
   "outputs": [
    {
     "data": {
      "text/plain": [
       "0.01238620753882331"
      ]
     },
     "execution_count": 5,
     "metadata": {},
     "output_type": "execute_result"
    }
   ],
   "source": [
    "# Calculating the percentage of positive outcomes for the training data\n",
    "len(train_data[train_data[\"RESPONSE\"]==1]) / len(train_data)"
   ]
  },
  {
   "cell_type": "code",
   "execution_count": 6,
   "metadata": {},
   "outputs": [],
   "source": [
    "# Splitting the training data into features and labels\n",
    "X_train = train_data.loc[:, train_data.columns != 'RESPONSE']\n",
    "y_train = train_data['RESPONSE']"
   ]
  },
  {
   "cell_type": "code",
   "execution_count": 12,
   "metadata": {},
   "outputs": [],
   "source": [
    "# Using logistic regrsssion to create the benchmark model\n",
    "\n",
    "# importing the logistic regression model\n",
    "from sklearn.linear_model import LogisticRegression\n",
    "\n",
    "# Creating the logistic regression model with lasso regularization\n",
    "lr_baseline = LogisticRegression(penalty='l1',\n",
    "                                 class_weight='balanced',\n",
    "                                 solver='saga',\n",
    "                                 max_iter=5000)"
   ]
  },
  {
   "cell_type": "code",
   "execution_count": 10,
   "metadata": {},
   "outputs": [
    {
     "name": "stderr",
     "output_type": "stream",
     "text": [
      "/anaconda3/lib/python3.7/site-packages/sklearn/linear_model/_sag.py:330: ConvergenceWarning: The max_iter was reached which means the coef_ did not converge\n",
      "  \"the coef_ did not converge\", ConvergenceWarning)\n"
     ]
    },
    {
     "data": {
      "text/plain": [
       "LogisticRegression(class_weight='balanced', max_iter=5000, penalty='l1',\n",
       "                   solver='saga')"
      ]
     },
     "execution_count": 10,
     "metadata": {},
     "output_type": "execute_result"
    }
   ],
   "source": [
    "# Training the baseline model\n",
    "lr_baseline.fit(X_train, y_train)"
   ]
  },
  {
   "cell_type": "code",
   "execution_count": 7,
   "metadata": {},
   "outputs": [],
   "source": [
    "# Importing functions for calculating accuracy, precision, and recall\n",
    "from sklearn.metrics import recall_score\n",
    "from sklearn.metrics import precision_score\n",
    "from sklearn.metrics import accuracy_score"
   ]
  },
  {
   "cell_type": "code",
   "execution_count": 12,
   "metadata": {},
   "outputs": [],
   "source": [
    "# Getting predictions for the training set\n",
    "y_pred = lr_baseline.predict(X_train)"
   ]
  },
  {
   "cell_type": "code",
   "execution_count": 13,
   "metadata": {},
   "outputs": [
    {
     "name": "stdout",
     "output_type": "stream",
     "text": [
      "The accuracy is 0.9669390701031408\n",
      "The recall is 0.03007518796992481\n",
      "The precision is 0.017391304347826087\n"
     ]
    }
   ],
   "source": [
    "# Calculating the accuracy, precision, and recall\n",
    "print(\"The accuracy is\", accuracy_score(y_train, y_pred))\n",
    "print(\"The recall is\", recall_score(y_train, y_pred))\n",
    "print(\"The precision is\", precision_score(y_train, y_pred))"
   ]
  },
  {
   "cell_type": "code",
   "execution_count": 14,
   "metadata": {},
   "outputs": [
    {
     "name": "stdout",
     "output_type": "stream",
     "text": [
      "[[ 1.82412374e-01 -2.05964717e-01 -2.15469814e-02 -9.61548525e-02\n",
      "  -1.49622347e-01  9.82935169e-02  1.88281323e-01  5.71469812e-02\n",
      "   1.33836078e-01  3.67708615e-02 -1.16476446e-04  1.13137463e-01\n",
      "  -1.58973469e-01 -1.87991094e-02 -1.56318610e-01 -1.28247893e-01\n",
      "   8.09685482e-02 -2.34751329e-02  4.01861648e-02  3.49127847e-02\n",
      "   7.35268549e-02 -4.60560280e-02  2.32292860e-02  5.25285924e-02\n",
      "   1.15832060e-01 -3.11725675e-01 -1.57269000e-02 -2.35702372e-01\n",
      "   9.21890392e-02 -9.28846180e-02  1.63144245e-01 -1.18039705e-01\n",
      "   1.56167154e-01 -8.63791933e-02 -1.58261687e-01  3.08860044e-03\n",
      "  -7.48185505e-02 -7.66403466e-02 -5.70312069e-02  1.50259870e-01\n",
      "   5.43324998e-02 -1.00404193e-01 -1.14898385e-01 -1.27747130e-01\n",
      "   3.09555835e-01 -1.17768963e-01  1.27161695e-01  7.96396984e-03\n",
      "   8.43813749e-02  4.15168794e-02 -1.23951625e-01 -4.80327698e-01\n",
      "  -9.81048044e-01  9.04135436e-02 -8.15590054e-02 -1.05832353e-01\n",
      "   1.10317556e-01 -1.60729295e-01  1.09788242e-01  5.44859563e-02\n",
      "  -8.06574275e-02  1.77617413e-01 -9.91690714e-01 -1.41490043e-01\n",
      "  -5.08783463e-02 -2.42314905e-02 -3.06342279e-02  1.84206541e-01\n",
      "   1.79147406e-01 -4.68376041e-02  1.01740740e-01 -5.30429011e-02\n",
      "  -2.66603231e-01 -4.91810226e-02 -5.50912090e-02 -5.12092926e-03\n",
      "  -1.17351236e-01 -6.33818590e-02  2.70239373e-02  2.10264494e-01\n",
      "  -2.58482340e-02 -2.19193190e-02  7.07574676e-02  4.85875859e-02\n",
      "  -6.09460358e-02  3.48162625e-02  8.58862316e-04 -6.93602004e-02\n",
      "   4.72358652e-02 -2.98022654e-03  1.14000090e-04  2.14612240e-01\n",
      "  -2.17814035e-02  3.48199678e-02 -1.51935005e-02  5.22786397e-02\n",
      "  -1.53550600e-01  9.86580048e-02  1.62131078e-01  2.61534097e-02\n",
      "   4.47204085e-02 -2.57075963e-02 -3.43553277e-02 -4.83897126e-03\n",
      "   3.98234516e-02  1.35270550e-01 -2.37643478e-02  2.87944592e-02\n",
      "   5.51277950e-02 -1.18589765e-01 -2.70984819e-01  1.45569474e-01\n",
      "   5.31852978e-02 -2.00562201e-01 -3.39942795e-02 -1.77390478e-01\n",
      "  -6.88657922e-02  5.93151068e-02 -3.94172081e-02 -1.42497632e-02\n",
      "  -2.19904690e-01 -1.73007858e-01  4.17776466e-02 -1.05252336e-01\n",
      "   1.47778670e-02  3.27188383e-01  4.03480439e-01 -5.66924212e-02\n",
      "   7.10445998e-02 -1.45836372e-01 -6.46618467e-02  5.06758353e-02\n",
      "   1.80159924e-01 -1.12399322e-01  2.18692222e-01  2.21281499e-02\n",
      "  -1.68552303e-01 -4.48805624e-02 -9.69702382e-02  1.27586276e-01\n",
      "  -1.17328872e-02 -9.43514246e-02  1.18243634e-01  3.01509952e-02\n",
      "  -1.11201467e-01  1.81689926e-01  4.60941205e-02 -1.60074184e-01\n",
      "   1.30730366e-01 -1.83835687e-01 -1.22571979e-02  8.69490727e-02\n",
      "   1.97756783e-01  3.03728666e-02 -6.26197319e-02 -1.48869545e-01\n",
      "   3.92746904e-02 -1.65391919e-01  1.87592931e-01 -1.37347002e-01\n",
      "  -1.64504941e-01  2.60880528e-01 -7.97005183e-03  5.02038637e-02\n",
      "  -4.60041892e-02  1.66153103e-01 -3.25954407e-02 -8.43020459e-02\n",
      "  -3.56529555e-02  2.38398629e-01  3.10656973e-02 -4.49894134e-02\n",
      "   1.38271584e-01 -1.21423630e-01 -4.06628964e-02  2.54183587e-01\n",
      "   4.43477136e-02 -6.90947222e-02 -1.71901431e-02  2.70536082e-02\n",
      "   8.12829415e-02 -3.84265023e-02 -4.01705748e-02  5.81500042e-02\n",
      "  -3.15131748e-03  3.04326887e-02 -5.44505674e-02 -2.90719060e-02\n",
      "  -8.55402046e-02 -9.01155787e-02  2.06597152e-02  1.19165270e-01\n",
      "  -1.00748287e-01  6.82343924e-02 -1.01503644e-01 -1.21892188e-01\n",
      "   1.49394785e-01 -2.00956418e-01  3.29709574e-02  1.64567119e-02\n",
      "   1.50250797e-02 -1.18802009e-01  1.62645892e-01  3.43953092e-03\n",
      "  -1.90297552e-01  1.47004543e-01  2.17698694e-01 -1.43460685e-01\n",
      "   6.43172405e-02 -1.07766264e-01  8.17308663e-02 -3.03615638e-03\n",
      "   6.75438939e-04  8.94163249e-02 -1.24006348e-01  7.15822830e-02\n",
      "  -6.70511165e-02 -5.49988511e-02  4.90529502e-03 -2.66649696e-02\n",
      "  -3.85537678e-02  1.03197456e-01  1.05007090e-01  5.33922900e-02\n",
      "   7.20218265e-02  3.48253951e-02  5.86505199e-02  7.97797386e-02\n",
      "  -6.24121746e-02 -1.07766264e-01 -6.16094838e-02  1.20366070e-01\n",
      "   1.61710870e-01  9.90929690e-03 -5.99263474e-02  1.31464553e-02\n",
      "  -4.66125756e-02 -2.06215109e-02  1.32320783e-02 -8.44813166e-02\n",
      "   2.33819519e-02 -1.19725588e-01  1.23316172e-01 -1.70398197e-01\n",
      "  -2.99965370e-03  9.34067719e-03 -1.32611548e-01  3.77660594e-02\n",
      "  -1.91237242e-02 -1.42184208e-01 -1.57536388e-01  5.57809950e-02\n",
      "   2.42364061e-01 -9.84858761e-02  1.36062633e-01 -1.20091807e-01\n",
      "  -4.56695973e-02  8.97416308e-02 -6.17436330e-02  9.35300658e-02\n",
      "  -1.29064839e-01  1.34862515e-02  8.45635619e-02  9.68096995e-02\n",
      "  -7.24024826e-02 -4.57144100e-02  7.47326313e-02  1.40329713e-01\n",
      "   4.96849386e-03  1.37029791e-04 -1.23944171e-02 -3.59801761e-02\n",
      "  -1.81194262e-01 -1.13823753e-01 -1.15515827e-01 -1.97646123e-01\n",
      "  -3.23118687e-02  1.05729765e-01 -9.36952766e-02  2.21307302e-03\n",
      "  -1.07356573e-01  2.60565489e-01 -8.74406405e-02 -1.19867734e-01\n",
      "   1.32130630e-01 -2.61743435e-02 -1.79275567e-02  1.79129242e-01\n",
      "  -2.06492098e-02 -1.64842137e-01 -7.87101794e-02  7.70822248e-02\n",
      "  -7.78530064e-02  1.28081757e-01  6.99861870e-02 -1.89635708e-01\n",
      "   1.21033386e-01  1.17033648e-02  2.64364091e-02 -6.01201086e-02\n",
      "   1.34251036e-01 -1.70614535e-02 -5.80129796e-02 -5.72680271e-03\n",
      "   6.14886475e-02 -1.64979364e-01 -1.50782522e-02 -1.16193299e-01\n",
      "  -9.24550482e-02  4.83896511e-02  2.35773710e-03 -7.83899447e-02\n",
      "   1.81331847e-02  1.22579442e-01  6.01569485e-02 -9.63715100e-02\n",
      "  -5.56515743e-02 -7.08870455e-02  5.63310807e-02  2.39118765e-01\n",
      "  -6.44864486e-02 -4.00977458e-02  3.03420252e-01  1.72808644e-01\n",
      "   6.43093281e-02 -1.60323086e-01  4.02020827e-02  6.99111708e-02\n",
      "   1.37872718e-01  1.59035037e-01  2.25373523e-01  7.93577474e-02\n",
      "  -1.56826542e-02 -2.18365035e-03  4.04286741e-02  1.59824774e-01\n",
      "  -1.25830816e-01 -1.78309244e-01 -1.01190983e-01  1.75959287e-02\n",
      "   1.24922522e-01 -6.95698824e-05  9.34476238e-02  4.02054895e-02\n",
      "   3.96751372e-02  2.33176096e-02  1.19566478e-01 -9.57399314e-02\n",
      "  -7.00608354e-03 -3.62077834e-02 -1.18514680e-01 -1.13032168e-02\n",
      "   1.60894084e-01  1.89041608e-01  2.09072927e-01 -2.22506157e-01\n",
      "  -7.55774369e-02 -9.39577649e-02]]\n"
     ]
    }
   ],
   "source": [
    "# Viewing the coefficents learned by the model\n",
    "coefs = lr_baseline.coef_\n",
    "print(coefs)"
   ]
  },
  {
   "cell_type": "code",
   "execution_count": 15,
   "metadata": {},
   "outputs": [
    {
     "name": "stdout",
     "output_type": "stream",
     "text": [
      "358\n"
     ]
    }
   ],
   "source": [
    "print(len(coefs[0]))"
   ]
  },
  {
   "cell_type": "code",
   "execution_count": 8,
   "metadata": {},
   "outputs": [],
   "source": [
    "# Importing the SMOTE class in order to oversample the positive class\n",
    "from imblearn.over_sampling import SMOTE\n",
    "\n",
    "# Creating the SMOTE model\n",
    "smote = SMOTE()"
   ]
  },
  {
   "cell_type": "code",
   "execution_count": 9,
   "metadata": {},
   "outputs": [],
   "source": [
    "# Fitting the SMOTE model to the training data and resampling the training data\n",
    "X_train_over, y_train_over = smote.fit_resample(X_train, y_train)"
   ]
  },
  {
   "cell_type": "code",
   "execution_count": 10,
   "metadata": {},
   "outputs": [
    {
     "data": {
      "text/plain": [
       "<matplotlib.axes._subplots.AxesSubplot at 0x7f92a78ab3d0>"
      ]
     },
     "execution_count": 10,
     "metadata": {},
     "output_type": "execute_result"
    },
    {
     "data": {
      "image/png": "[encoded data removed]",
      "text/plain": [
       "<Figure size 432x288 with 1 Axes>"
      ]
     },
     "metadata": {
      "needs_background": "light"
     },
     "output_type": "display_data"
    }
   ],
   "source": [
    "# Visualizing the new distribution of the RESPONSE column\n",
    "y_train_over.hist()"
   ]
  },
  {
   "cell_type": "code",
   "execution_count": 13,
   "metadata": {},
   "outputs": [],
   "source": [
    "# Retraining the baseline with the balanced data\n",
    "\n",
    "# Creating the logistic regression model with lasso regularization\n",
    "lr_baseline = LogisticRegression(penalty='l1',\n",
    "                                 class_weight='balanced',\n",
    "                                 solver='saga',\n",
    "                                 max_iter=10000)"
   ]
  },
  {
   "cell_type": "code",
   "execution_count": 13,
   "metadata": {},
   "outputs": [
    {
     "data": {
      "text/plain": [
       "LogisticRegression(class_weight='balanced', max_iter=10000, penalty='l1',\n",
       "                   solver='saga')"
      ]
     },
     "execution_count": 13,
     "metadata": {},
     "output_type": "execute_result"
    }
   ],
   "source": [
    "# Training the baseline model with the balanced data\n",
    "lr_baseline.fit(X_train_over, y_train_over)"
   ]
  },
  {
   "cell_type": "code",
   "execution_count": 14,
   "metadata": {},
   "outputs": [],
   "source": [
    "# Getting predictions for the training set\n",
    "y_pred = lr_baseline.predict(X_train_over)"
   ]
  },
  {
   "cell_type": "code",
   "execution_count": 16,
   "metadata": {},
   "outputs": [
    {
     "name": "stdout",
     "output_type": "stream",
     "text": [
      "The accuracy is 0.8624555034300667\n",
      "The recall is 0.8970508498550178\n",
      "The precision is 0.8389998677073687\n"
     ]
    }
   ],
   "source": [
    "# Calculating the accuracy, precision, and recall\n",
    "print(\"The accuracy is\", accuracy_score(y_train_over, y_pred))\n",
    "print(\"The recall is\", recall_score(y_train_over, y_pred))\n",
    "print(\"The precision is\", precision_score(y_train_over, y_pred))"
   ]
  },
  {
   "cell_type": "code",
   "execution_count": 14,
   "metadata": {},
   "outputs": [],
   "source": [
    "# Using cross validation to select a model\n",
    "\n",
    "# Importing the cross validation function\n",
    "from sklearn.model_selection import cross_validate\n",
    "\n",
    "# Importing the classes that will be used to create the models\n",
    "from sklearn.ensemble import RandomForestClassifier\n",
    "from sklearn.ensemble import GradientBoostingClassifier\n",
    "from sklearn.neighbors import KNeighborsClassifier\n",
    "from sklearn.naive_bayes import GaussianNB\n",
    "from sklearn.svm import SVC\n",
    "from xgboost import XGBClassifier\n",
    "\n",
    "# Creating the models\n",
    "\n",
    "# Random forest model\n",
    "rf_classifier = RandomForestClassifier(n_estimators=200)\n",
    "# Gradient boosting model\n",
    "gb_classifier = GradientBoostingClassifier(n_estimators=200)\n",
    "# XGBoost model\n",
    "xgb_classifier = XGBClassifier()\n",
    "# K nearest neighbors model\n",
    "knn_classifier= KNeighborsClassifier()\n",
    "# Naive bayes model\n",
    "nb_classifier = GaussianNB()\n",
    "# Support vector machine model\n",
    "svm_classifier = SVC(max_iter=500)\n",
    "# Logistic regression classifier\n",
    "lr_classifier = LogisticRegression(penalty='l1',\n",
    "                                   solver='saga',\n",
    "                                   max_iter=10000)\n",
    "\n",
    "# Dictionary that will hold the accuracy, recall, and precision values for the cross validation process for each model\n",
    "cv_scores = {\"Random Forest\": None, \"Gradient Boosting\": None, \"XGBoost\": None,\n",
    "             \"K Nearest Neighbors\": None, \"Naive Bayes\": None, \"Logistic Regression\": None}"
   ]
  },
  {
   "cell_type": "code",
   "execution_count": 33,
   "metadata": {},
   "outputs": [],
   "source": [
    "# Combining the feature and the labels to get a random sample\n",
    "X_train_over[\"RESPONSE\"] = y_train_over\n",
    "# Renaming the dataframe\n",
    "sampled_combined = X_train_over.copy()\n",
    "# Getting a random sample from the data to reduce the runtime of the cross validation iterations\n",
    "df_sample = sampled_combined.sample(10000)"
   ]
  },
  {
   "cell_type": "code",
   "execution_count": 34,
   "metadata": {},
   "outputs": [
    {
     "data": {
      "text/html": [
       "<div>\n",
       "<style scoped>\n",
       "    .dataframe tbody tr th:only-of-type {\n",
       "        vertical-align: middle;\n",
       "    }\n",
       "\n",
       "    .dataframe tbody tr th {\n",
       "        vertical-align: top;\n",
       "    }\n",
       "\n",
       "    .dataframe thead th {\n",
       "        text-align: right;\n",
       "    }\n",
       "</style>\n",
       "<table border=\"1\" class=\"dataframe\">\n",
       "  <thead>\n",
       "    <tr style=\"text-align: right;\">\n",
       "      <th></th>\n",
       "      <th>AGER_TYP</th>\n",
       "      <th>AKT_DAT_KL</th>\n",
       "      <th>ALTER_HH</th>\n",
       "      <th>ALTERSKATEGORIE_FEIN</th>\n",
       "      <th>ANZ_HAUSHALTE_AKTIV</th>\n",
       "      <th>ANZ_HH_TITEL</th>\n",
       "      <th>ANZ_KINDER</th>\n",
       "      <th>ANZ_PERSONEN</th>\n",
       "      <th>ANZ_STATISTISCHE_HAUSHALTE</th>\n",
       "      <th>ANZ_TITEL</th>\n",
       "      <th>...</th>\n",
       "      <th>VK_DHT4A</th>\n",
       "      <th>VK_DISTANZ</th>\n",
       "      <th>VK_ZG11</th>\n",
       "      <th>W_KEIT_KIND_HH</th>\n",
       "      <th>WOHNDAUER_2008</th>\n",
       "      <th>WOHNLAGE</th>\n",
       "      <th>ZABEOTYP</th>\n",
       "      <th>ANREDE_KZ</th>\n",
       "      <th>ALTERSKATEGORIE_GROB</th>\n",
       "      <th>RESPONSE</th>\n",
       "    </tr>\n",
       "  </thead>\n",
       "  <tbody>\n",
       "    <tr>\n",
       "      <th>84714</th>\n",
       "      <td>1</td>\n",
       "      <td>1.000000</td>\n",
       "      <td>15.705560</td>\n",
       "      <td>9.073610</td>\n",
       "      <td>1.000000</td>\n",
       "      <td>0.000000</td>\n",
       "      <td>0.0</td>\n",
       "      <td>3.963195</td>\n",
       "      <td>1.000000</td>\n",
       "      <td>0.0</td>\n",
       "      <td>...</td>\n",
       "      <td>1.981598</td>\n",
       "      <td>2.963195</td>\n",
       "      <td>1.981598</td>\n",
       "      <td>2.055207</td>\n",
       "      <td>9.0</td>\n",
       "      <td>2.963195</td>\n",
       "      <td>1</td>\n",
       "      <td>1</td>\n",
       "      <td>4</td>\n",
       "      <td>1</td>\n",
       "    </tr>\n",
       "    <tr>\n",
       "      <th>49511</th>\n",
       "      <td>1</td>\n",
       "      <td>5.949205</td>\n",
       "      <td>11.525397</td>\n",
       "      <td>11.144048</td>\n",
       "      <td>0.381349</td>\n",
       "      <td>-0.618651</td>\n",
       "      <td>0.0</td>\n",
       "      <td>0.762699</td>\n",
       "      <td>0.381349</td>\n",
       "      <td>0.0</td>\n",
       "      <td>...</td>\n",
       "      <td>6.381349</td>\n",
       "      <td>8.618651</td>\n",
       "      <td>6.237301</td>\n",
       "      <td>1.669446</td>\n",
       "      <td>9.0</td>\n",
       "      <td>7.000000</td>\n",
       "      <td>2</td>\n",
       "      <td>1</td>\n",
       "      <td>4</td>\n",
       "      <td>1</td>\n",
       "    </tr>\n",
       "    <tr>\n",
       "      <th>36567</th>\n",
       "      <td>1</td>\n",
       "      <td>1.000000</td>\n",
       "      <td>10.000000</td>\n",
       "      <td>10.000000</td>\n",
       "      <td>1.000000</td>\n",
       "      <td>0.000000</td>\n",
       "      <td>0.0</td>\n",
       "      <td>2.000000</td>\n",
       "      <td>1.000000</td>\n",
       "      <td>0.0</td>\n",
       "      <td>...</td>\n",
       "      <td>1.000000</td>\n",
       "      <td>1.000000</td>\n",
       "      <td>1.000000</td>\n",
       "      <td>6.000000</td>\n",
       "      <td>9.0</td>\n",
       "      <td>7.000000</td>\n",
       "      <td>3</td>\n",
       "      <td>2</td>\n",
       "      <td>3</td>\n",
       "      <td>0</td>\n",
       "    </tr>\n",
       "    <tr>\n",
       "      <th>30738</th>\n",
       "      <td>-1</td>\n",
       "      <td>1.000000</td>\n",
       "      <td>21.000000</td>\n",
       "      <td>15.000000</td>\n",
       "      <td>1.000000</td>\n",
       "      <td>0.000000</td>\n",
       "      <td>0.0</td>\n",
       "      <td>4.000000</td>\n",
       "      <td>1.000000</td>\n",
       "      <td>0.0</td>\n",
       "      <td>...</td>\n",
       "      <td>3.000000</td>\n",
       "      <td>5.000000</td>\n",
       "      <td>3.000000</td>\n",
       "      <td>4.000000</td>\n",
       "      <td>9.0</td>\n",
       "      <td>2.000000</td>\n",
       "      <td>1</td>\n",
       "      <td>1</td>\n",
       "      <td>3</td>\n",
       "      <td>0</td>\n",
       "    </tr>\n",
       "    <tr>\n",
       "      <th>76344</th>\n",
       "      <td>-1</td>\n",
       "      <td>1.000000</td>\n",
       "      <td>0.000000</td>\n",
       "      <td>0.000000</td>\n",
       "      <td>1.819184</td>\n",
       "      <td>0.000000</td>\n",
       "      <td>0.0</td>\n",
       "      <td>1.542448</td>\n",
       "      <td>1.819184</td>\n",
       "      <td>0.0</td>\n",
       "      <td>...</td>\n",
       "      <td>8.553471</td>\n",
       "      <td>11.191839</td>\n",
       "      <td>9.553471</td>\n",
       "      <td>5.276736</td>\n",
       "      <td>9.0</td>\n",
       "      <td>4.638368</td>\n",
       "      <td>2</td>\n",
       "      <td>1</td>\n",
       "      <td>3</td>\n",
       "      <td>1</td>\n",
       "    </tr>\n",
       "  </tbody>\n",
       "</table>\n",
       "<p>5 rows × 359 columns</p>\n",
       "</div>"
      ],
      "text/plain": [
       "       AGER_TYP  AKT_DAT_KL   ALTER_HH  ALTERSKATEGORIE_FEIN  \\\n",
       "84714         1    1.000000  15.705560              9.073610   \n",
       "49511         1    5.949205  11.525397             11.144048   \n",
       "36567         1    1.000000  10.000000             10.000000   \n",
       "30738        -1    1.000000  21.000000             15.000000   \n",
       "76344        -1    1.000000   0.000000              0.000000   \n",
       "\n",
       "       ANZ_HAUSHALTE_AKTIV  ANZ_HH_TITEL  ANZ_KINDER  ANZ_PERSONEN  \\\n",
       "84714             1.000000      0.000000         0.0      3.963195   \n",
       "49511             0.381349     -0.618651         0.0      0.762699   \n",
       "36567             1.000000      0.000000         0.0      2.000000   \n",
       "30738             1.000000      0.000000         0.0      4.000000   \n",
       "76344             1.819184      0.000000         0.0      1.542448   \n",
       "\n",
       "       ANZ_STATISTISCHE_HAUSHALTE  ANZ_TITEL  ...  VK_DHT4A  VK_DISTANZ  \\\n",
       "84714                    1.000000        0.0  ...  1.981598    2.963195   \n",
       "49511                    0.381349        0.0  ...  6.381349    8.618651   \n",
       "36567                    1.000000        0.0  ...  1.000000    1.000000   \n",
       "30738                    1.000000        0.0  ...  3.000000    5.000000   \n",
       "76344                    1.819184        0.0  ...  8.553471   11.191839   \n",
       "\n",
       "        VK_ZG11  W_KEIT_KIND_HH  WOHNDAUER_2008  WOHNLAGE  ZABEOTYP  \\\n",
       "84714  1.981598        2.055207             9.0  2.963195         1   \n",
       "49511  6.237301        1.669446             9.0  7.000000         2   \n",
       "36567  1.000000        6.000000             9.0  7.000000         3   \n",
       "30738  3.000000        4.000000             9.0  2.000000         1   \n",
       "76344  9.553471        5.276736             9.0  4.638368         2   \n",
       "\n",
       "       ANREDE_KZ  ALTERSKATEGORIE_GROB  RESPONSE  \n",
       "84714          1                     4         1  \n",
       "49511          1                     4         1  \n",
       "36567          2                     3         0  \n",
       "30738          1                     3         0  \n",
       "76344          1                     3         1  \n",
       "\n",
       "[5 rows x 359 columns]"
      ]
     },
     "execution_count": 34,
     "metadata": {},
     "output_type": "execute_result"
    }
   ],
   "source": [
    "df_sample.head()"
   ]
  },
  {
   "cell_type": "code",
   "execution_count": 35,
   "metadata": {},
   "outputs": [],
   "source": [
    "# Separating the data into features and labels\n",
    "X_sample = df_sample.loc[:, df_sample.columns != \"RESPONSE\"]\n",
    "y_sample = df_sample[\"RESPONSE\"]"
   ]
  },
  {
   "cell_type": "code",
   "execution_count": 23,
   "metadata": {},
   "outputs": [
    {
     "name": "stdout",
     "output_type": "stream",
     "text": [
      "Random forest \n",
      "\n",
      "The mean training accuracy is 0.949775\n",
      "The mean training recall is 0.9279618473895581\n",
      "The mean training precision is 0.969964198008823\n",
      "\n",
      "\n",
      "The mean test accuracy is 0.9422\n",
      "The mean test recall is 0.9128514056224899\n",
      "The mean test precision is 0.9694681101562276\n",
      "\n",
      "\n",
      "GBM \n",
      "\n",
      "The mean training accuracy is 0.9460750000000001\n",
      "The mean training recall is 0.9170682730923694\n",
      "The mean training precision is 0.9731015139101732\n",
      "\n",
      "\n",
      "The mean test accuracy is 0.9439\n",
      "The mean test recall is 0.9128514056224899\n",
      "The mean test precision is 0.9728557423346883\n",
      "\n",
      "\n",
      "XGBoost \n",
      "\n",
      "The mean training accuracy is 0.949775\n",
      "The mean training recall is 0.9279618473895581\n",
      "The mean training precision is 0.969964198008823\n",
      "\n",
      "\n",
      "The mean test accuracy is 0.9429000000000001\n",
      "The mean test recall is 0.9142570281124497\n",
      "The mean test precision is 0.969490048426581\n",
      "\n",
      "\n",
      "KNN \n",
      "\n",
      "The mean training accuracy is 0.77055\n",
      "The mean training recall is 0.9625502008032129\n",
      "The mean training precision is 0.694895105568955\n",
      "\n",
      "\n",
      "The mean test accuracy is 0.7198\n",
      "The mean test recall is 0.9614457831325302\n",
      "The mean test precision is 0.6473524638021894\n",
      "\n",
      "\n",
      "Naive Bayes \n",
      "\n",
      "The mean training accuracy is 0.64495\n",
      "The mean training recall is 0.7383032128514057\n",
      "The mean training precision is 0.6206565546730447\n",
      "\n",
      "\n",
      "The mean test accuracy is 0.6437999999999999\n",
      "The mean test recall is 0.7375502008032128\n",
      "The mean test precision is 0.6197377408503414\n",
      "\n",
      "\n"
     ]
    },
    {
     "name": "stderr",
     "output_type": "stream",
     "text": [
      "/opt/anaconda3/lib/python3.7/site-packages/sklearn/svm/_base.py:249: ConvergenceWarning: Solver terminated early (max_iter=500).  Consider pre-processing your data with StandardScaler or MinMaxScaler.\n",
      "  % self.max_iter, ConvergenceWarning)\n",
      "/opt/anaconda3/lib/python3.7/site-packages/sklearn/svm/_base.py:249: ConvergenceWarning: Solver terminated early (max_iter=500).  Consider pre-processing your data with StandardScaler or MinMaxScaler.\n",
      "  % self.max_iter, ConvergenceWarning)\n",
      "/opt/anaconda3/lib/python3.7/site-packages/sklearn/svm/_base.py:249: ConvergenceWarning: Solver terminated early (max_iter=500).  Consider pre-processing your data with StandardScaler or MinMaxScaler.\n",
      "  % self.max_iter, ConvergenceWarning)\n",
      "/opt/anaconda3/lib/python3.7/site-packages/sklearn/svm/_base.py:249: ConvergenceWarning: Solver terminated early (max_iter=500).  Consider pre-processing your data with StandardScaler or MinMaxScaler.\n",
      "  % self.max_iter, ConvergenceWarning)\n",
      "/opt/anaconda3/lib/python3.7/site-packages/sklearn/svm/_base.py:249: ConvergenceWarning: Solver terminated early (max_iter=500).  Consider pre-processing your data with StandardScaler or MinMaxScaler.\n",
      "  % self.max_iter, ConvergenceWarning)\n"
     ]
    },
    {
     "name": "stdout",
     "output_type": "stream",
     "text": [
      "Support Vector Machine \n",
      "\n",
      "The mean training accuracy is 0.5039999999999999\n",
      "The mean training recall is 0.4971385542168674\n",
      "The mean training precision is 0.49699478021027427\n",
      "\n",
      "\n",
      "The mean test accuracy is 0.5031\n",
      "The mean test recall is 0.5014056224899599\n",
      "The mean test precision is 0.4992858592332758\n",
      "\n",
      "\n",
      "Logistic Regression \n",
      "\n",
      "The mean training accuracy is 0.8291000000000001\n",
      "The mean training recall is 0.8257028112449799\n",
      "The mean training precision is 0.8303287656856421\n",
      "\n",
      "\n",
      "The mean test accuracy is 0.8169000000000001\n",
      "The mean test recall is 0.8138554216867468\n",
      "The mean test precision is 0.8176011897028355\n",
      "\n",
      "\n"
     ]
    }
   ],
   "source": [
    "# Evaluating each machine learning model using cross validation\n",
    "\n",
    "# Importing the cross validation function\n",
    "from sklearn.model_selection import cross_validate\n",
    "\n",
    "# Creating a dictionary where each the key is the model name and the value is the model\n",
    "models = {\"Random forest\":rf_classifier, \"GBM\":gb_classifier, \"XGBoost\":xgb_classifier,\n",
    "          \"KNN\":knn_classifier, \"Naive Bayes\":nb_classifier, \"Support Vector Machine\":svm_classifier,\n",
    "          \"Logistic Regression\":lr_classifier}\n",
    "\n",
    "# Looping through all the models\n",
    "for model_name in models:\n",
    "    # Performing 5 fold cross validation\n",
    "    results = cross_validate(models[model_name], X_sample, y_sample, cv=5,\n",
    "                             scoring=[\"recall\", \"precision\", \"accuracy\"],\n",
    "                             return_train_score=True)\n",
    "    # Displaying the results\n",
    "    print(model_name, '\\n')\n",
    "    \n",
    "    # Displaying the training accuracy metrics\n",
    "    print(\"The mean training accuracy is\", results[\"train_accuracy\"].mean())\n",
    "    print(\"The mean training recall is\", results[\"train_recall\"].mean())\n",
    "    print(\"The mean training precision is\", results[\"train_precision\"].mean())\n",
    "\n",
    "    print('\\n')\n",
    "\n",
    "    # Displaying the test accuracy metrics\n",
    "    print(\"The mean test accuracy is\", results[\"test_accuracy\"].mean())\n",
    "    print(\"The mean test recall is\", results[\"test_recall\"].mean())\n",
    "    print(\"The mean test precision is\", results[\"test_precision\"].mean())\n",
    "    \n",
    "    print('\\n')"
   ]
  },
  {
   "cell_type": "code",
   "execution_count": 25,
   "metadata": {},
   "outputs": [],
   "source": [
    "# Performing feature selection and hyperparameter tuning for the best models\n",
    "\n",
    "# Importing the libraries\n",
    "from sklearn.feature_selection import SelectKBest,f_classif\n",
    "from sklearn.pipeline import Pipeline\n",
    "from sklearn.model_selection import GridSearchCV\n",
    "\n",
    "# Creating pipelines for the different models\n",
    "rf_pipline = Pipeline([\n",
    "    ('selector', SelectKBest(f_classif)),\n",
    "    ('model', RandomForestClassifier())\n",
    "])\n",
    "\n",
    "xgb_pipline = Pipeline([\n",
    "    ('selector', SelectKBest(f_classif)),\n",
    "    ('model', XGBClassifier())\n",
    "])\n",
    "\n",
    "knn_pipline = Pipeline([\n",
    "    ('selector', SelectKBest(f_classif)),\n",
    "    ('model', KNeighborsClassifier())\n",
    "])\n",
    "\n",
    "# Creating the parameter grids for each model\n",
    "rf_param_grid = {\n",
    "    'selector__k': [100, 230, 270, 300, 350],\n",
    "    'model__max_depth': [3, 10, 20, 50, 100, 150, 200],\n",
    "    'model__n_estimators': [100, 200, 300]\n",
    "}\n",
    "\n",
    "# Creating the grid search models for each model\n",
    "rf_search = GridSearchCV(\n",
    "    estimator = rf_pipline,\n",
    "    param_grid = rf_param_grid,\n",
    "    n_jobs=-1,\n",
    "    scoring=['accuracy', 'recall', 'precision'],\n",
    "    verbose=3,\n",
    "    refit=\"accuracy\"\n",
    ")\n",
    "\n",
    "xgb_param_grid = {\n",
    "    'selector__k': [100, 230, 270, 300, 350],\n",
    "    'model__max_depth': [3, 10, 20, 50, 100, 150, 200],\n",
    "    'model__learning_rate': [0.001, 0.01, 0.05, 0.1]\n",
    "}\n",
    "\n",
    "xgb_search = GridSearchCV(\n",
    "    estimator = xgb_pipline,\n",
    "    param_grid = xgb_param_grid,\n",
    "    n_jobs=-1,\n",
    "    scoring=['accuracy', 'recall', 'precision'],\n",
    "    verbose=3,\n",
    "    refit=\"accuracy\"\n",
    ")"
   ]
  },
  {
   "cell_type": "code",
   "execution_count": 26,
   "metadata": {},
   "outputs": [],
   "source": [
    "# Getting a random sample of 5000 points from the data in order to speed up the run time\n",
    "\n",
    "# Combining the feature and the labels to get a random sample\n",
    "X_train_over[\"RESPONSE\"] = y_train_over\n",
    "# Renaming the dataframe\n",
    "sampled_combined = X_train_over.copy()\n",
    "# Getting a random sample from the data to reduce the runtime of the cross validation iterations\n",
    "df_sample = sampled_combined.sample(5000)"
   ]
  },
  {
   "cell_type": "code",
   "execution_count": 27,
   "metadata": {},
   "outputs": [],
   "source": [
    "# Separating the data into features and labels\n",
    "X_sample = df_sample.loc[:, df_sample.columns != \"RESPONSE\"]\n",
    "y_sample = df_sample[\"RESPONSE\"]"
   ]
  },
  {
   "cell_type": "code",
   "execution_count": 18,
   "metadata": {},
   "outputs": [
    {
     "name": "stdout",
     "output_type": "stream",
     "text": [
      "Fitting 5 folds for each of 105 candidates, totalling 525 fits\n"
     ]
    },
    {
     "name": "stderr",
     "output_type": "stream",
     "text": [
      "[Parallel(n_jobs=-1)]: Using backend LokyBackend with 8 concurrent workers.\n",
      "[Parallel(n_jobs=-1)]: Done  16 tasks      | elapsed:    4.1s\n",
      "[Parallel(n_jobs=-1)]: Done 112 tasks      | elapsed:   28.2s\n",
      "[Parallel(n_jobs=-1)]: Done 272 tasks      | elapsed:  2.1min\n",
      "[Parallel(n_jobs=-1)]: Done 496 tasks      | elapsed:  4.5min\n",
      "[Parallel(n_jobs=-1)]: Done 525 out of 525 | elapsed:  5.0min finished\n"
     ]
    },
    {
     "data": {
      "text/plain": [
       "GridSearchCV(estimator=Pipeline(steps=[('selector', SelectKBest()),\n",
       "                                       ('model', RandomForestClassifier())]),\n",
       "             n_jobs=-1,\n",
       "             param_grid={'model__max_depth': [3, 10, 20, 50, 100, 150, 200],\n",
       "                         'model__n_estimators': [100, 200, 300],\n",
       "                         'selector__k': [100, 230, 270, 300, 350]},\n",
       "             refit='accuracy', scoring=['accuracy', 'recall', 'precision'],\n",
       "             verbose=3)"
      ]
     },
     "execution_count": 18,
     "metadata": {},
     "output_type": "execute_result"
    }
   ],
   "source": [
    "rf_search.fit(X_sample, y_sample)"
   ]
  },
  {
   "cell_type": "code",
   "execution_count": 19,
   "metadata": {},
   "outputs": [
    {
     "data": {
      "text/plain": [
       "{'model__max_depth': 20, 'model__n_estimators': 300, 'selector__k': 350}"
      ]
     },
     "execution_count": 19,
     "metadata": {},
     "output_type": "execute_result"
    }
   ],
   "source": [
    "# Viewing the best model parameters\n",
    "rf_search.best_params_"
   ]
  },
  {
   "cell_type": "code",
   "execution_count": 20,
   "metadata": {},
   "outputs": [
    {
     "data": {
      "text/plain": [
       "0.9322000000000001"
      ]
     },
     "execution_count": 20,
     "metadata": {},
     "output_type": "execute_result"
    }
   ],
   "source": [
    "rf_search.best_score_"
   ]
  },
  {
   "cell_type": "code",
   "execution_count": 21,
   "metadata": {},
   "outputs": [],
   "source": [
    "# Using cross validation to evaluate the best random forest model\n",
    "rf_tuned_results = cross_validate(rf_search.best_estimator_, X_sample, y_sample, cv=5,\n",
    "                                  scoring=[\"recall\", \"precision\", \"accuracy\"],\n",
    "                                  return_train_score=True)"
   ]
  },
  {
   "cell_type": "code",
   "execution_count": 24,
   "metadata": {},
   "outputs": [
    {
     "name": "stdout",
     "output_type": "stream",
     "text": [
      "The mean training accuracy is 0.94345\n",
      "The mean training recall is 0.9175728244088729\n",
      "The mean training precision is 0.9669338707834945\n",
      "\n",
      "\n",
      "The mean test accuracy is 0.9312000000000001\n",
      "The mean test recall is 0.8984325306678782\n",
      "The mean test precision is 0.9607043774434718\n"
     ]
    }
   ],
   "source": [
    "# Displaying the evaluation metrics\n",
    "display_metrics(rf_tuned_results)"
   ]
  },
  {
   "cell_type": "code",
   "execution_count": 28,
   "metadata": {},
   "outputs": [
    {
     "name": "stdout",
     "output_type": "stream",
     "text": [
      "Fitting 5 folds for each of 140 candidates, totalling 700 fits\n"
     ]
    },
    {
     "name": "stderr",
     "output_type": "stream",
     "text": [
      "[Parallel(n_jobs=-1)]: Using backend LokyBackend with 8 concurrent workers.\n",
      "[Parallel(n_jobs=-1)]: Done  16 tasks      | elapsed:   15.6s\n",
      "[Parallel(n_jobs=-1)]: Done 112 tasks      | elapsed:  5.3min\n",
      "[Parallel(n_jobs=-1)]: Done 272 tasks      | elapsed: 13.9min\n",
      "[Parallel(n_jobs=-1)]: Done 496 tasks      | elapsed: 26.2min\n",
      "[Parallel(n_jobs=-1)]: Done 700 out of 700 | elapsed: 34.9min finished\n"
     ]
    },
    {
     "data": {
      "text/plain": [
       "GridSearchCV(estimator=Pipeline(steps=[('selector', SelectKBest()),\n",
       "                                       ('model',\n",
       "                                        XGBClassifier(base_score=None,\n",
       "                                                      booster=None,\n",
       "                                                      colsample_bylevel=None,\n",
       "                                                      colsample_bynode=None,\n",
       "                                                      colsample_bytree=None,\n",
       "                                                      gamma=None, gpu_id=None,\n",
       "                                                      importance_type='gain',\n",
       "                                                      interaction_constraints=None,\n",
       "                                                      learning_rate=None,\n",
       "                                                      max_delta_step=None,\n",
       "                                                      max_depth=None,\n",
       "                                                      min_child_weight=None,\n",
       "                                                      missing=nan,\n",
       "                                                      mo...\n",
       "                                                      random_state=None,\n",
       "                                                      reg_alpha=None,\n",
       "                                                      reg_lambda=None,\n",
       "                                                      scale_pos_weight=None,\n",
       "                                                      subsample=None,\n",
       "                                                      tree_method=None,\n",
       "                                                      validate_parameters=None,\n",
       "                                                      verbosity=None))]),\n",
       "             n_jobs=-1,\n",
       "             param_grid={'model__learning_rate': [0.001, 0.01, 0.05, 0.1],\n",
       "                         'model__max_depth': [3, 10, 20, 50, 100, 150, 200],\n",
       "                         'selector__k': [100, 230, 270, 300, 350]},\n",
       "             refit='accuracy', scoring=['accuracy', 'recall', 'precision'],\n",
       "             verbose=3)"
      ]
     },
     "execution_count": 28,
     "metadata": {},
     "output_type": "execute_result"
    }
   ],
   "source": [
    "xgb_search.fit(X_sample, y_sample)"
   ]
  },
  {
   "cell_type": "code",
   "execution_count": 30,
   "metadata": {},
   "outputs": [
    {
     "data": {
      "text/plain": [
       "{'model__learning_rate': 0.1, 'model__max_depth': 10, 'selector__k': 230}"
      ]
     },
     "execution_count": 30,
     "metadata": {},
     "output_type": "execute_result"
    }
   ],
   "source": [
    "# Viewing the best model parameters\n",
    "xgb_search.best_params_"
   ]
  },
  {
   "cell_type": "code",
   "execution_count": 36,
   "metadata": {},
   "outputs": [],
   "source": [
    "# Using cross validation to evaluate the best random forest model\n",
    "xgb_tuned_results = cross_validate(xgb_search.best_estimator_, X_sample, y_sample, cv=5,\n",
    "                                   scoring=[\"recall\", \"precision\", \"accuracy\"],\n",
    "                                   return_train_score=True)"
   ]
  },
  {
   "cell_type": "code",
   "execution_count": 37,
   "metadata": {},
   "outputs": [
    {
     "name": "stdout",
     "output_type": "stream",
     "text": [
      "The mean training accuracy is 0.9492750000000001\n",
      "The mean training recall is 0.9190910328175397\n",
      "The mean training precision is 0.9778013438996311\n",
      "\n",
      "\n",
      "The mean test accuracy is 0.9423\n",
      "The mean test recall is 0.9058978139236988\n",
      "The mean test precision is 0.9766745782030386\n"
     ]
    }
   ],
   "source": [
    "display_metrics(xgb_tuned_results)"
   ]
  },
  {
   "cell_type": "code",
   "execution_count": null,
   "metadata": {},
   "outputs": [],
   "source": []
  },
  {
   "cell_type": "code",
   "execution_count": 57,
   "metadata": {},
   "outputs": [],
   "source": [
    "k_best = SelectKBest(f_classif, k=100)"
   ]
  },
  {
   "cell_type": "code",
   "execution_count": 60,
   "metadata": {},
   "outputs": [
    {
     "data": {
      "text/plain": [
       "SelectKBest(k=100)"
      ]
     },
     "execution_count": 60,
     "metadata": {},
     "output_type": "execute_result"
    }
   ],
   "source": [
    "k_best.fit(X_sample, y_sample)"
   ]
  },
  {
   "cell_type": "code",
   "execution_count": 62,
   "metadata": {},
   "outputs": [
    {
     "data": {
      "text/plain": [
       "array([[ 1.        , 12.        , 12.        , ...,  3.        ,\n",
       "         2.        ,  3.        ],\n",
       "       [ 1.        , 10.        ,  5.68180793, ...,  3.        ,\n",
       "         2.        ,  3.        ],\n",
       "       [ 1.        ,  9.37433509,  3.16755322, ...,  2.        ,\n",
       "         1.        ,  4.        ],\n",
       "       ...,\n",
       "       [ 1.        ,  7.        , 10.        , ...,  3.        ,\n",
       "         1.        ,  4.        ],\n",
       "       [ 1.        , 10.        ,  1.        , ...,  3.        ,\n",
       "         2.        ,  4.        ],\n",
       "       [ 1.        ,  6.        ,  1.        , ...,  3.        ,\n",
       "         2.        ,  3.        ]])"
      ]
     },
     "execution_count": 62,
     "metadata": {},
     "output_type": "execute_result"
    }
   ],
   "source": [
    "k_best.transform(X_sample)"
   ]
  },
  {
   "cell_type": "code",
   "execution_count": 42,
   "metadata": {},
   "outputs": [],
   "source": [
    "# Using random search to tune the hyperparamaters of the tree based models\n",
    "\n",
    "from sklearn.model_selection import RandomizedSearchCV\n",
    "\n",
    "# Number of trees in random forest\n",
    "n_estimators = [int(x) for x in np.linspace(start = 200, stop = 2000, num = 10)]\n",
    "# Number of features to consider at every split\n",
    "max_features = ['auto', 'log2']\n",
    "# Maximum number of levels in tree\n",
    "max_depth = [int(x) for x in np.linspace(3, 300, num = 20)]\n",
    "max_depth.append(None)\n",
    "# Minimum number of samples required to split a node\n",
    "min_samples_split = [2, 5, 10]\n",
    "# Minimum number of samples required at each leaf node\n",
    "min_samples_leaf = [1, 2, 4, 10, 30, 80, 100]\n",
    "# Method of selecting samples for training each tree\n",
    "bootstrap = [True, False]\n",
    "\n",
    "# Create the random grid\n",
    "random_grid = {'n_estimators': n_estimators,\n",
    "               'max_features': max_features,\n",
    "               'max_depth': max_depth,\n",
    "               'min_samples_split': min_samples_split,\n",
    "               'min_samples_leaf': min_samples_leaf,\n",
    "               'bootstrap': bootstrap}"
   ]
  },
  {
   "cell_type": "code",
   "execution_count": null,
   "metadata": {},
   "outputs": [],
   "source": []
  },
  {
   "cell_type": "code",
   "execution_count": 44,
   "metadata": {},
   "outputs": [
    {
     "name": "stdout",
     "output_type": "stream",
     "text": [
      "Fitting 3 folds for each of 100 candidates, totalling 300 fits\n"
     ]
    },
    {
     "name": "stderr",
     "output_type": "stream",
     "text": [
      "[Parallel(n_jobs=-1)]: Using backend LokyBackend with 8 concurrent workers.\n",
      "[Parallel(n_jobs=-1)]: Done  25 tasks      | elapsed:  2.6min\n",
      "[Parallel(n_jobs=-1)]: Done 146 tasks      | elapsed: 15.7min\n",
      "[Parallel(n_jobs=-1)]: Done 300 out of 300 | elapsed: 29.5min finished\n"
     ]
    },
    {
     "data": {
      "text/plain": [
       "RandomizedSearchCV(cv=3, estimator=RandomForestClassifier(), n_iter=100,\n",
       "                   n_jobs=-1,\n",
       "                   param_distributions={'bootstrap': [True, False],\n",
       "                                        'max_depth': [3, 18, 34, 49, 65, 81, 96,\n",
       "                                                      112, 128, 143, 159, 174,\n",
       "                                                      190, 206, 221, 237, 253,\n",
       "                                                      268, 284, 300, None],\n",
       "                                        'max_features': ['auto', 'log2'],\n",
       "                                        'min_samples_leaf': [1, 2, 4, 10, 30,\n",
       "                                                             80, 100],\n",
       "                                        'min_samples_split': [2, 5, 10],\n",
       "                                        'n_estimators': [200, 400, 600, 800,\n",
       "                                                         1000, 1200, 1400, 1600,\n",
       "                                                         1800, 2000]},\n",
       "                   verbose=2)"
      ]
     },
     "execution_count": 44,
     "metadata": {},
     "output_type": "execute_result"
    }
   ],
   "source": [
    "# Using random search to find for best hyperparameters\n",
    "\n",
    "# Baseline model that will be tuned, all hyperparameters are set to default\n",
    "rf_classifier = RandomForestClassifier()\n",
    "\n",
    "# Random search of parameters using 3 fold cross validation, \n",
    "# search across 100 different combinations and use all available cores to speed up search\n",
    "rf_random_search = RandomizedSearchCV(estimator = rf_classifier, param_distributions = random_grid,\n",
    "                                      n_iter = 100, cv = 3, verbose=2, n_jobs = -1)\n",
    "# Fit the random search model\n",
    "rf_random_search.fit(X_sample, y_sample)"
   ]
  },
  {
   "cell_type": "code",
   "execution_count": 45,
   "metadata": {},
   "outputs": [
    {
     "data": {
      "text/plain": [
       "{'n_estimators': 1400,\n",
       " 'min_samples_split': 5,\n",
       " 'min_samples_leaf': 2,\n",
       " 'max_features': 'log2',\n",
       " 'max_depth': 190,\n",
       " 'bootstrap': False}"
      ]
     },
     "execution_count": 45,
     "metadata": {},
     "output_type": "execute_result"
    }
   ],
   "source": [
    "# Viewing the best set of parameters\n",
    "rf_random_search.best_params_"
   ]
  },
  {
   "cell_type": "code",
   "execution_count": 46,
   "metadata": {},
   "outputs": [],
   "source": [
    "# Evaluating the random forest model with the tuned hyperparameters using cross validation\n",
    "\n",
    "tuned_results = cross_validate(rf_random_search.best_estimator_, X_sample, y_sample, cv=5,\n",
    "                               scoring=[\"recall\", \"precision\", \"accuracy\"],\n",
    "                               return_train_score=True)"
   ]
  },
  {
   "cell_type": "code",
   "execution_count": 23,
   "metadata": {},
   "outputs": [],
   "source": [
    "def display_metrics(results):\n",
    "    \"\"\"\n",
    "    Displays the accuracy, precision, and recall of a model that it trained using cross validation\n",
    "    param results: A dictionary that holds the accuracy, recall, and precision of a model\n",
    "    return: Displays the accuracy, recall, and precision of the model\n",
    "    \"\"\"\n",
    "    \n",
    "    # Displaying the training accuracy metrics\n",
    "    print(\"The mean training accuracy is\", results[\"train_accuracy\"].mean())\n",
    "    print(\"The mean training recall is\", results[\"train_recall\"].mean())\n",
    "    print(\"The mean training precision is\", results[\"train_precision\"].mean())\n",
    "\n",
    "    print('\\n')\n",
    "\n",
    "    # Displaying the test accuracy metrics\n",
    "    print(\"The mean test accuracy is\", results[\"test_accuracy\"].mean())\n",
    "    print(\"The mean test recall is\", results[\"test_recall\"].mean())\n",
    "    print(\"The mean test precision is\", results[\"test_precision\"].mean())"
   ]
  },
  {
   "cell_type": "code",
   "execution_count": 48,
   "metadata": {},
   "outputs": [
    {
     "name": "stdout",
     "output_type": "stream",
     "text": [
      "The mean training accuracy is 0.949325\n",
      "The mean training recall is 0.9269743622945551\n",
      "The mean training precision is 0.9719815306072966\n",
      "\n",
      "\n",
      "The mean test accuracy is 0.9404\n",
      "The mean test recall is 0.9113661223381561\n",
      "The mean test precision is 0.9694884885105516\n"
     ]
    }
   ],
   "source": [
    "# Displaying the evaluation metrics\n",
    "display_metrics(tuned_results)"
   ]
  },
  {
   "cell_type": "code",
   "execution_count": null,
   "metadata": {},
   "outputs": [],
   "source": []
  }
 ],
 "metadata": {
  "kernelspec": {
   "display_name": "Python 3",
   "language": "python",
   "name": "python3"
  },
  "language_info": {
   "codemirror_mode": {
    "name": "ipython",
    "version": 3
   },
   "file_extension": ".py",
   "mimetype": "text/x-python",
   "name": "python",
   "nbconvert_exporter": "python",
   "pygments_lexer": "ipython3",
   "version": "3.7.6"
  }
 },
 "nbformat": 4,
 "nbformat_minor": 2
}
