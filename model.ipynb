{
 "cells": [
  {
   "cell_type": "code",
   "execution_count": 14,
   "metadata": {},
   "outputs": [],
   "source": [
    "import pandas as pd\n",
    "import numpy as np\n",
    "import matplotlib.pyplot as plt\n",
    "import seaborn as sns"
   ]
  },
  {
   "cell_type": "code",
   "execution_count": 15,
   "metadata": {},
   "outputs": [],
   "source": [
    "# Reading in the data\n",
    "train_data = pd.read_csv(\"../population-segmentation-data/train_data.csv\", sep=\";\", index_col=0)\n",
    "test_data = pd.read_csv(\"../population-segmentation-data/test_data.csv\", sep=\";\", index_col=0)"
   ]
  },
  {
   "cell_type": "code",
   "execution_count": 16,
   "metadata": {},
   "outputs": [
    {
     "output_type": "execute_result",
     "data": {
      "text/plain": "   AGER_TYP  AKT_DAT_KL  ALTER_HH  ALTERSKATEGORIE_FEIN  ANZ_HAUSHALTE_AKTIV  \\\n0         2         1.0       8.0                   8.0                 15.0   \n1         1         4.0      13.0                  13.0                  1.0   \n2         1         1.0       9.0                   7.0                  0.0   \n3         2         1.0       6.0                   6.0                  4.0   \n4         2         1.0       9.0                   9.0                 53.0   \n\n   ANZ_HH_TITEL  ANZ_KINDER  ANZ_PERSONEN  ANZ_STATISTISCHE_HAUSHALTE  \\\n0           0.0         0.0           1.0                        13.0   \n1           0.0         0.0           2.0                         1.0   \n2          -1.0         0.0           0.0                         1.0   \n3           0.0         0.0           2.0                         4.0   \n4           0.0         0.0           1.0                        44.0   \n\n   ANZ_TITEL  ...  VK_DHT4A  VK_DISTANZ  VK_ZG11  W_KEIT_KIND_HH  \\\n0        0.0  ...       5.0         2.0      1.0             6.0   \n1        0.0  ...       1.0         2.0      1.0             4.0   \n2        0.0  ...       6.0         4.0      2.0            -1.0   \n3        0.0  ...       8.0        11.0     11.0             6.0   \n4        0.0  ...       2.0         2.0      1.0             6.0   \n\n   WOHNDAUER_2008  WOHNLAGE  ZABEOTYP  RESPONSE  ANREDE_KZ  \\\n0             9.0       3.0         3         0          2   \n1             9.0       7.0         1         0          2   \n2             9.0       2.0         3         0          1   \n3             9.0       1.0         3         0          2   \n4             9.0       3.0         3         0          1   \n\n   ALTERSKATEGORIE_GROB  \n0                     4  \n1                     3  \n2                     4  \n3                     4  \n4                     3  \n\n[5 rows x 359 columns]",
      "text/html": "<div>\n<style scoped>\n    .dataframe tbody tr th:only-of-type {\n        vertical-align: middle;\n    }\n\n    .dataframe tbody tr th {\n        vertical-align: top;\n    }\n\n    .dataframe thead th {\n        text-align: right;\n    }\n</style>\n<table border=\"1\" class=\"dataframe\">\n  <thead>\n    <tr style=\"text-align: right;\">\n      <th></th>\n      <th>AGER_TYP</th>\n      <th>AKT_DAT_KL</th>\n      <th>ALTER_HH</th>\n      <th>ALTERSKATEGORIE_FEIN</th>\n      <th>ANZ_HAUSHALTE_AKTIV</th>\n      <th>ANZ_HH_TITEL</th>\n      <th>ANZ_KINDER</th>\n      <th>ANZ_PERSONEN</th>\n      <th>ANZ_STATISTISCHE_HAUSHALTE</th>\n      <th>ANZ_TITEL</th>\n      <th>...</th>\n      <th>VK_DHT4A</th>\n      <th>VK_DISTANZ</th>\n      <th>VK_ZG11</th>\n      <th>W_KEIT_KIND_HH</th>\n      <th>WOHNDAUER_2008</th>\n      <th>WOHNLAGE</th>\n      <th>ZABEOTYP</th>\n      <th>RESPONSE</th>\n      <th>ANREDE_KZ</th>\n      <th>ALTERSKATEGORIE_GROB</th>\n    </tr>\n  </thead>\n  <tbody>\n    <tr>\n      <th>0</th>\n      <td>2</td>\n      <td>1.0</td>\n      <td>8.0</td>\n      <td>8.0</td>\n      <td>15.0</td>\n      <td>0.0</td>\n      <td>0.0</td>\n      <td>1.0</td>\n      <td>13.0</td>\n      <td>0.0</td>\n      <td>...</td>\n      <td>5.0</td>\n      <td>2.0</td>\n      <td>1.0</td>\n      <td>6.0</td>\n      <td>9.0</td>\n      <td>3.0</td>\n      <td>3</td>\n      <td>0</td>\n      <td>2</td>\n      <td>4</td>\n    </tr>\n    <tr>\n      <th>1</th>\n      <td>1</td>\n      <td>4.0</td>\n      <td>13.0</td>\n      <td>13.0</td>\n      <td>1.0</td>\n      <td>0.0</td>\n      <td>0.0</td>\n      <td>2.0</td>\n      <td>1.0</td>\n      <td>0.0</td>\n      <td>...</td>\n      <td>1.0</td>\n      <td>2.0</td>\n      <td>1.0</td>\n      <td>4.0</td>\n      <td>9.0</td>\n      <td>7.0</td>\n      <td>1</td>\n      <td>0</td>\n      <td>2</td>\n      <td>3</td>\n    </tr>\n    <tr>\n      <th>2</th>\n      <td>1</td>\n      <td>1.0</td>\n      <td>9.0</td>\n      <td>7.0</td>\n      <td>0.0</td>\n      <td>-1.0</td>\n      <td>0.0</td>\n      <td>0.0</td>\n      <td>1.0</td>\n      <td>0.0</td>\n      <td>...</td>\n      <td>6.0</td>\n      <td>4.0</td>\n      <td>2.0</td>\n      <td>-1.0</td>\n      <td>9.0</td>\n      <td>2.0</td>\n      <td>3</td>\n      <td>0</td>\n      <td>1</td>\n      <td>4</td>\n    </tr>\n    <tr>\n      <th>3</th>\n      <td>2</td>\n      <td>1.0</td>\n      <td>6.0</td>\n      <td>6.0</td>\n      <td>4.0</td>\n      <td>0.0</td>\n      <td>0.0</td>\n      <td>2.0</td>\n      <td>4.0</td>\n      <td>0.0</td>\n      <td>...</td>\n      <td>8.0</td>\n      <td>11.0</td>\n      <td>11.0</td>\n      <td>6.0</td>\n      <td>9.0</td>\n      <td>1.0</td>\n      <td>3</td>\n      <td>0</td>\n      <td>2</td>\n      <td>4</td>\n    </tr>\n    <tr>\n      <th>4</th>\n      <td>2</td>\n      <td>1.0</td>\n      <td>9.0</td>\n      <td>9.0</td>\n      <td>53.0</td>\n      <td>0.0</td>\n      <td>0.0</td>\n      <td>1.0</td>\n      <td>44.0</td>\n      <td>0.0</td>\n      <td>...</td>\n      <td>2.0</td>\n      <td>2.0</td>\n      <td>1.0</td>\n      <td>6.0</td>\n      <td>9.0</td>\n      <td>3.0</td>\n      <td>3</td>\n      <td>0</td>\n      <td>1</td>\n      <td>3</td>\n    </tr>\n  </tbody>\n</table>\n<p>5 rows × 359 columns</p>\n</div>"
     },
     "metadata": {},
     "execution_count": 16
    }
   ],
   "source": [
    "train_data.head()"
   ]
  },
  {
   "cell_type": "code",
   "execution_count": 5,
   "metadata": {},
   "outputs": [
    {
     "output_type": "display_data",
     "data": {
      "text/plain": "<Figure size 604.8x489.6 with 1 Axes>",
      "image/svg+xml": "<?xml version=\"1.0\" encoding=\"utf-8\" standalone=\"no\"?>\n<!DOCTYPE svg PUBLIC \"-//W3C//DTD SVG 1.1//EN\"\n  \"http://www.w3.org/Graphics/SVG/1.1/DTD/svg11.dtd\">\n<!-- Created with matplotlib (https://matplotlib.org/) -->\n<svg height=\"415.84425pt\" version=\"1.1\" viewBox=\"0 0 521.9325 415.84425\" width=\"521.9325pt\" xmlns=\"http://www.w3.org/2000/svg\" xmlns:xlink=\"http://www.w3.org/1999/xlink\">\n <defs>\n  <style type=\"text/css\">\n*{stroke-linecap:butt;stroke-linejoin:round;}\n  </style>\n </defs>\n <g id=\"figure_1\">\n  <g id=\"patch_1\">\n   <path d=\"M 0 415.84425 \nL 521.9325 415.84425 \nL 521.9325 0 \nL 0 0 \nz\n\" style=\"fill:none;\"/>\n  </g>\n  <g id=\"axes_1\">\n   <g id=\"patch_2\">\n    <path d=\"M 46.0125 391.966125 \nL 514.7325 391.966125 \nL 514.7325 22.318125 \nL 46.0125 22.318125 \nz\n\" style=\"fill:#ebedf0;\"/>\n   </g>\n   <g id=\"patch_3\">\n    <path clip-path=\"url(#p87837629a6)\" d=\"M 67.317955 391.966125 \nL 109.928864 391.966125 \nL 109.928864 39.920411 \nL 67.317955 39.920411 \nz\n\" style=\"fill:#1f77b4;\"/>\n   </g>\n   <g id=\"patch_4\">\n    <path clip-path=\"url(#p87837629a6)\" d=\"M 109.928864 391.966125 \nL 152.539773 391.966125 \nL 152.539773 391.966125 \nL 109.928864 391.966125 \nz\n\" style=\"fill:#1f77b4;\"/>\n   </g>\n   <g id=\"patch_5\">\n    <path clip-path=\"url(#p87837629a6)\" d=\"M 152.539773 391.966125 \nL 195.150682 391.966125 \nL 195.150682 391.966125 \nL 152.539773 391.966125 \nz\n\" style=\"fill:#1f77b4;\"/>\n   </g>\n   <g id=\"patch_6\">\n    <path clip-path=\"url(#p87837629a6)\" d=\"M 195.150682 391.966125 \nL 237.761591 391.966125 \nL 237.761591 391.966125 \nL 195.150682 391.966125 \nz\n\" style=\"fill:#1f77b4;\"/>\n   </g>\n   <g id=\"patch_7\">\n    <path clip-path=\"url(#p87837629a6)\" d=\"M 237.761591 391.966125 \nL 280.3725 391.966125 \nL 280.3725 391.966125 \nL 237.761591 391.966125 \nz\n\" style=\"fill:#1f77b4;\"/>\n   </g>\n   <g id=\"patch_8\">\n    <path clip-path=\"url(#p87837629a6)\" d=\"M 280.3725 391.966125 \nL 322.983409 391.966125 \nL 322.983409 391.966125 \nL 280.3725 391.966125 \nz\n\" style=\"fill:#1f77b4;\"/>\n   </g>\n   <g id=\"patch_9\">\n    <path clip-path=\"url(#p87837629a6)\" d=\"M 322.983409 391.966125 \nL 365.594318 391.966125 \nL 365.594318 391.966125 \nL 322.983409 391.966125 \nz\n\" style=\"fill:#1f77b4;\"/>\n   </g>\n   <g id=\"patch_10\">\n    <path clip-path=\"url(#p87837629a6)\" d=\"M 365.594318 391.966125 \nL 408.205227 391.966125 \nL 408.205227 391.966125 \nL 365.594318 391.966125 \nz\n\" style=\"fill:#1f77b4;\"/>\n   </g>\n   <g id=\"patch_11\">\n    <path clip-path=\"url(#p87837629a6)\" d=\"M 408.205227 391.966125 \nL 450.816136 391.966125 \nL 450.816136 391.966125 \nL 408.205227 391.966125 \nz\n\" style=\"fill:#1f77b4;\"/>\n   </g>\n   <g id=\"patch_12\">\n    <path clip-path=\"url(#p87837629a6)\" d=\"M 450.816136 391.966125 \nL 493.427045 391.966125 \nL 493.427045 387.552071 \nL 450.816136 387.552071 \nz\n\" style=\"fill:#1f77b4;\"/>\n   </g>\n   <g id=\"matplotlib.axis_1\">\n    <g id=\"xtick_1\">\n     <g id=\"line2d_1\">\n      <path clip-path=\"url(#p87837629a6)\" d=\"M 67.317955 391.966125 \nL 67.317955 22.318125 \n\" style=\"fill:none;stroke:#808080;stroke-linecap:square;stroke-opacity:0.5;stroke-width:0.25;\"/>\n     </g>\n     <g id=\"line2d_2\">\n      <defs>\n       <path d=\"M 0 0 \nL 0 3.5 \n\" id=\"m78e8c02063\" style=\"stroke:#000000;stroke-width:0.8;\"/>\n      </defs>\n      <g>\n       <use style=\"stroke:#000000;stroke-width:0.8;\" x=\"67.317955\" xlink:href=\"#m78e8c02063\" y=\"391.966125\"/>\n      </g>\n     </g>\n     <g id=\"text_1\">\n      <!-- 0.0 -->\n      <defs>\n       <path d=\"M 31.78125 66.40625 \nQ 24.171875 66.40625 20.328125 58.90625 \nQ 16.5 51.421875 16.5 36.375 \nQ 16.5 21.390625 20.328125 13.890625 \nQ 24.171875 6.390625 31.78125 6.390625 \nQ 39.453125 6.390625 43.28125 13.890625 \nQ 47.125 21.390625 47.125 36.375 \nQ 47.125 51.421875 43.28125 58.90625 \nQ 39.453125 66.40625 31.78125 66.40625 \nz\nM 31.78125 74.21875 \nQ 44.046875 74.21875 50.515625 64.515625 \nQ 56.984375 54.828125 56.984375 36.375 \nQ 56.984375 17.96875 50.515625 8.265625 \nQ 44.046875 -1.421875 31.78125 -1.421875 \nQ 19.53125 -1.421875 13.0625 8.265625 \nQ 6.59375 17.96875 6.59375 36.375 \nQ 6.59375 54.828125 13.0625 64.515625 \nQ 19.53125 74.21875 31.78125 74.21875 \nz\n\" id=\"DejaVuSans-48\"/>\n       <path d=\"M 10.6875 12.40625 \nL 21 12.40625 \nL 21 0 \nL 10.6875 0 \nz\n\" id=\"DejaVuSans-46\"/>\n      </defs>\n      <g transform=\"translate(59.366392 406.564562)scale(0.1 -0.1)\">\n       <use xlink:href=\"#DejaVuSans-48\"/>\n       <use x=\"63.623047\" xlink:href=\"#DejaVuSans-46\"/>\n       <use x=\"95.410156\" xlink:href=\"#DejaVuSans-48\"/>\n      </g>\n     </g>\n    </g>\n    <g id=\"xtick_2\">\n     <g id=\"line2d_3\">\n      <path clip-path=\"url(#p87837629a6)\" d=\"M 152.539773 391.966125 \nL 152.539773 22.318125 \n\" style=\"fill:none;stroke:#808080;stroke-linecap:square;stroke-opacity:0.5;stroke-width:0.25;\"/>\n     </g>\n     <g id=\"line2d_4\">\n      <g>\n       <use style=\"stroke:#000000;stroke-width:0.8;\" x=\"152.539773\" xlink:href=\"#m78e8c02063\" y=\"391.966125\"/>\n      </g>\n     </g>\n     <g id=\"text_2\">\n      <!-- 0.2 -->\n      <defs>\n       <path d=\"M 19.1875 8.296875 \nL 53.609375 8.296875 \nL 53.609375 0 \nL 7.328125 0 \nL 7.328125 8.296875 \nQ 12.9375 14.109375 22.625 23.890625 \nQ 32.328125 33.6875 34.8125 36.53125 \nQ 39.546875 41.84375 41.421875 45.53125 \nQ 43.3125 49.21875 43.3125 52.78125 \nQ 43.3125 58.59375 39.234375 62.25 \nQ 35.15625 65.921875 28.609375 65.921875 \nQ 23.96875 65.921875 18.8125 64.3125 \nQ 13.671875 62.703125 7.8125 59.421875 \nL 7.8125 69.390625 \nQ 13.765625 71.78125 18.9375 73 \nQ 24.125 74.21875 28.421875 74.21875 \nQ 39.75 74.21875 46.484375 68.546875 \nQ 53.21875 62.890625 53.21875 53.421875 \nQ 53.21875 48.921875 51.53125 44.890625 \nQ 49.859375 40.875 45.40625 35.40625 \nQ 44.1875 33.984375 37.640625 27.21875 \nQ 31.109375 20.453125 19.1875 8.296875 \nz\n\" id=\"DejaVuSans-50\"/>\n      </defs>\n      <g transform=\"translate(144.58821 406.564562)scale(0.1 -0.1)\">\n       <use xlink:href=\"#DejaVuSans-48\"/>\n       <use x=\"63.623047\" xlink:href=\"#DejaVuSans-46\"/>\n       <use x=\"95.410156\" xlink:href=\"#DejaVuSans-50\"/>\n      </g>\n     </g>\n    </g>\n    <g id=\"xtick_3\">\n     <g id=\"line2d_5\">\n      <path clip-path=\"url(#p87837629a6)\" d=\"M 237.761591 391.966125 \nL 237.761591 22.318125 \n\" style=\"fill:none;stroke:#808080;stroke-linecap:square;stroke-opacity:0.5;stroke-width:0.25;\"/>\n     </g>\n     <g id=\"line2d_6\">\n      <g>\n       <use style=\"stroke:#000000;stroke-width:0.8;\" x=\"237.761591\" xlink:href=\"#m78e8c02063\" y=\"391.966125\"/>\n      </g>\n     </g>\n     <g id=\"text_3\">\n      <!-- 0.4 -->\n      <defs>\n       <path d=\"M 37.796875 64.3125 \nL 12.890625 25.390625 \nL 37.796875 25.390625 \nz\nM 35.203125 72.90625 \nL 47.609375 72.90625 \nL 47.609375 25.390625 \nL 58.015625 25.390625 \nL 58.015625 17.1875 \nL 47.609375 17.1875 \nL 47.609375 0 \nL 37.796875 0 \nL 37.796875 17.1875 \nL 4.890625 17.1875 \nL 4.890625 26.703125 \nz\n\" id=\"DejaVuSans-52\"/>\n      </defs>\n      <g transform=\"translate(229.810028 406.564562)scale(0.1 -0.1)\">\n       <use xlink:href=\"#DejaVuSans-48\"/>\n       <use x=\"63.623047\" xlink:href=\"#DejaVuSans-46\"/>\n       <use x=\"95.410156\" xlink:href=\"#DejaVuSans-52\"/>\n      </g>\n     </g>\n    </g>\n    <g id=\"xtick_4\">\n     <g id=\"line2d_7\">\n      <path clip-path=\"url(#p87837629a6)\" d=\"M 322.983409 391.966125 \nL 322.983409 22.318125 \n\" style=\"fill:none;stroke:#808080;stroke-linecap:square;stroke-opacity:0.5;stroke-width:0.25;\"/>\n     </g>\n     <g id=\"line2d_8\">\n      <g>\n       <use style=\"stroke:#000000;stroke-width:0.8;\" x=\"322.983409\" xlink:href=\"#m78e8c02063\" y=\"391.966125\"/>\n      </g>\n     </g>\n     <g id=\"text_4\">\n      <!-- 0.6 -->\n      <defs>\n       <path d=\"M 33.015625 40.375 \nQ 26.375 40.375 22.484375 35.828125 \nQ 18.609375 31.296875 18.609375 23.390625 \nQ 18.609375 15.53125 22.484375 10.953125 \nQ 26.375 6.390625 33.015625 6.390625 \nQ 39.65625 6.390625 43.53125 10.953125 \nQ 47.40625 15.53125 47.40625 23.390625 \nQ 47.40625 31.296875 43.53125 35.828125 \nQ 39.65625 40.375 33.015625 40.375 \nz\nM 52.59375 71.296875 \nL 52.59375 62.3125 \nQ 48.875 64.0625 45.09375 64.984375 \nQ 41.3125 65.921875 37.59375 65.921875 \nQ 27.828125 65.921875 22.671875 59.328125 \nQ 17.53125 52.734375 16.796875 39.40625 \nQ 19.671875 43.65625 24.015625 45.921875 \nQ 28.375 48.1875 33.59375 48.1875 \nQ 44.578125 48.1875 50.953125 41.515625 \nQ 57.328125 34.859375 57.328125 23.390625 \nQ 57.328125 12.15625 50.6875 5.359375 \nQ 44.046875 -1.421875 33.015625 -1.421875 \nQ 20.359375 -1.421875 13.671875 8.265625 \nQ 6.984375 17.96875 6.984375 36.375 \nQ 6.984375 53.65625 15.1875 63.9375 \nQ 23.390625 74.21875 37.203125 74.21875 \nQ 40.921875 74.21875 44.703125 73.484375 \nQ 48.484375 72.75 52.59375 71.296875 \nz\n\" id=\"DejaVuSans-54\"/>\n      </defs>\n      <g transform=\"translate(315.031847 406.564562)scale(0.1 -0.1)\">\n       <use xlink:href=\"#DejaVuSans-48\"/>\n       <use x=\"63.623047\" xlink:href=\"#DejaVuSans-46\"/>\n       <use x=\"95.410156\" xlink:href=\"#DejaVuSans-54\"/>\n      </g>\n     </g>\n    </g>\n    <g id=\"xtick_5\">\n     <g id=\"line2d_9\">\n      <path clip-path=\"url(#p87837629a6)\" d=\"M 408.205227 391.966125 \nL 408.205227 22.318125 \n\" style=\"fill:none;stroke:#808080;stroke-linecap:square;stroke-opacity:0.5;stroke-width:0.25;\"/>\n     </g>\n     <g id=\"line2d_10\">\n      <g>\n       <use style=\"stroke:#000000;stroke-width:0.8;\" x=\"408.205227\" xlink:href=\"#m78e8c02063\" y=\"391.966125\"/>\n      </g>\n     </g>\n     <g id=\"text_5\">\n      <!-- 0.8 -->\n      <defs>\n       <path d=\"M 31.78125 34.625 \nQ 24.75 34.625 20.71875 30.859375 \nQ 16.703125 27.09375 16.703125 20.515625 \nQ 16.703125 13.921875 20.71875 10.15625 \nQ 24.75 6.390625 31.78125 6.390625 \nQ 38.8125 6.390625 42.859375 10.171875 \nQ 46.921875 13.96875 46.921875 20.515625 \nQ 46.921875 27.09375 42.890625 30.859375 \nQ 38.875 34.625 31.78125 34.625 \nz\nM 21.921875 38.8125 \nQ 15.578125 40.375 12.03125 44.71875 \nQ 8.5 49.078125 8.5 55.328125 \nQ 8.5 64.0625 14.71875 69.140625 \nQ 20.953125 74.21875 31.78125 74.21875 \nQ 42.671875 74.21875 48.875 69.140625 \nQ 55.078125 64.0625 55.078125 55.328125 \nQ 55.078125 49.078125 51.53125 44.71875 \nQ 48 40.375 41.703125 38.8125 \nQ 48.828125 37.15625 52.796875 32.3125 \nQ 56.78125 27.484375 56.78125 20.515625 \nQ 56.78125 9.90625 50.3125 4.234375 \nQ 43.84375 -1.421875 31.78125 -1.421875 \nQ 19.734375 -1.421875 13.25 4.234375 \nQ 6.78125 9.90625 6.78125 20.515625 \nQ 6.78125 27.484375 10.78125 32.3125 \nQ 14.796875 37.15625 21.921875 38.8125 \nz\nM 18.3125 54.390625 \nQ 18.3125 48.734375 21.84375 45.5625 \nQ 25.390625 42.390625 31.78125 42.390625 \nQ 38.140625 42.390625 41.71875 45.5625 \nQ 45.3125 48.734375 45.3125 54.390625 \nQ 45.3125 60.0625 41.71875 63.234375 \nQ 38.140625 66.40625 31.78125 66.40625 \nQ 25.390625 66.40625 21.84375 63.234375 \nQ 18.3125 60.0625 18.3125 54.390625 \nz\n\" id=\"DejaVuSans-56\"/>\n      </defs>\n      <g transform=\"translate(400.253665 406.564562)scale(0.1 -0.1)\">\n       <use xlink:href=\"#DejaVuSans-48\"/>\n       <use x=\"63.623047\" xlink:href=\"#DejaVuSans-46\"/>\n       <use x=\"95.410156\" xlink:href=\"#DejaVuSans-56\"/>\n      </g>\n     </g>\n    </g>\n    <g id=\"xtick_6\">\n     <g id=\"line2d_11\">\n      <path clip-path=\"url(#p87837629a6)\" d=\"M 493.427045 391.966125 \nL 493.427045 22.318125 \n\" style=\"fill:none;stroke:#808080;stroke-linecap:square;stroke-opacity:0.5;stroke-width:0.25;\"/>\n     </g>\n     <g id=\"line2d_12\">\n      <g>\n       <use style=\"stroke:#000000;stroke-width:0.8;\" x=\"493.427045\" xlink:href=\"#m78e8c02063\" y=\"391.966125\"/>\n      </g>\n     </g>\n     <g id=\"text_6\">\n      <!-- 1.0 -->\n      <defs>\n       <path d=\"M 12.40625 8.296875 \nL 28.515625 8.296875 \nL 28.515625 63.921875 \nL 10.984375 60.40625 \nL 10.984375 69.390625 \nL 28.421875 72.90625 \nL 38.28125 72.90625 \nL 38.28125 8.296875 \nL 54.390625 8.296875 \nL 54.390625 0 \nL 12.40625 0 \nz\n\" id=\"DejaVuSans-49\"/>\n      </defs>\n      <g transform=\"translate(485.475483 406.564562)scale(0.1 -0.1)\">\n       <use xlink:href=\"#DejaVuSans-49\"/>\n       <use x=\"63.623047\" xlink:href=\"#DejaVuSans-46\"/>\n       <use x=\"95.410156\" xlink:href=\"#DejaVuSans-48\"/>\n      </g>\n     </g>\n    </g>\n   </g>\n   <g id=\"matplotlib.axis_2\">\n    <g id=\"ytick_1\">\n     <g id=\"line2d_13\">\n      <path clip-path=\"url(#p87837629a6)\" d=\"M 46.0125 391.966125 \nL 514.7325 391.966125 \n\" style=\"fill:none;stroke:#808080;stroke-linecap:square;stroke-opacity:0.5;stroke-width:0.25;\"/>\n     </g>\n     <g id=\"line2d_14\">\n      <defs>\n       <path d=\"M 0 0 \nL -3.5 0 \n\" id=\"m70bd39825b\" style=\"stroke:#000000;stroke-width:0.8;\"/>\n      </defs>\n      <g>\n       <use style=\"stroke:#000000;stroke-width:0.8;\" x=\"46.0125\" xlink:href=\"#m70bd39825b\" y=\"391.966125\"/>\n      </g>\n     </g>\n     <g id=\"text_7\">\n      <!-- 0 -->\n      <g transform=\"translate(32.65 395.765344)scale(0.1 -0.1)\">\n       <use xlink:href=\"#DejaVuSans-48\"/>\n      </g>\n     </g>\n    </g>\n    <g id=\"ytick_2\">\n     <g id=\"line2d_15\">\n      <path clip-path=\"url(#p87837629a6)\" d=\"M 46.0125 350.480653 \nL 514.7325 350.480653 \n\" style=\"fill:none;stroke:#808080;stroke-linecap:square;stroke-opacity:0.5;stroke-width:0.25;\"/>\n     </g>\n     <g id=\"line2d_16\">\n      <g>\n       <use style=\"stroke:#000000;stroke-width:0.8;\" x=\"46.0125\" xlink:href=\"#m70bd39825b\" y=\"350.480653\"/>\n      </g>\n     </g>\n     <g id=\"text_8\">\n      <!-- 5000 -->\n      <defs>\n       <path d=\"M 10.796875 72.90625 \nL 49.515625 72.90625 \nL 49.515625 64.59375 \nL 19.828125 64.59375 \nL 19.828125 46.734375 \nQ 21.96875 47.46875 24.109375 47.828125 \nQ 26.265625 48.1875 28.421875 48.1875 \nQ 40.625 48.1875 47.75 41.5 \nQ 54.890625 34.8125 54.890625 23.390625 \nQ 54.890625 11.625 47.5625 5.09375 \nQ 40.234375 -1.421875 26.90625 -1.421875 \nQ 22.3125 -1.421875 17.546875 -0.640625 \nQ 12.796875 0.140625 7.71875 1.703125 \nL 7.71875 11.625 \nQ 12.109375 9.234375 16.796875 8.0625 \nQ 21.484375 6.890625 26.703125 6.890625 \nQ 35.15625 6.890625 40.078125 11.328125 \nQ 45.015625 15.765625 45.015625 23.390625 \nQ 45.015625 31 40.078125 35.4375 \nQ 35.15625 39.890625 26.703125 39.890625 \nQ 22.75 39.890625 18.8125 39.015625 \nQ 14.890625 38.140625 10.796875 36.28125 \nz\n\" id=\"DejaVuSans-53\"/>\n      </defs>\n      <g transform=\"translate(13.5625 354.279872)scale(0.1 -0.1)\">\n       <use xlink:href=\"#DejaVuSans-53\"/>\n       <use x=\"63.623047\" xlink:href=\"#DejaVuSans-48\"/>\n       <use x=\"127.246094\" xlink:href=\"#DejaVuSans-48\"/>\n       <use x=\"190.869141\" xlink:href=\"#DejaVuSans-48\"/>\n      </g>\n     </g>\n    </g>\n    <g id=\"ytick_3\">\n     <g id=\"line2d_17\">\n      <path clip-path=\"url(#p87837629a6)\" d=\"M 46.0125 308.995181 \nL 514.7325 308.995181 \n\" style=\"fill:none;stroke:#808080;stroke-linecap:square;stroke-opacity:0.5;stroke-width:0.25;\"/>\n     </g>\n     <g id=\"line2d_18\">\n      <g>\n       <use style=\"stroke:#000000;stroke-width:0.8;\" x=\"46.0125\" xlink:href=\"#m70bd39825b\" y=\"308.995181\"/>\n      </g>\n     </g>\n     <g id=\"text_9\">\n      <!-- 10000 -->\n      <g transform=\"translate(7.2 312.7944)scale(0.1 -0.1)\">\n       <use xlink:href=\"#DejaVuSans-49\"/>\n       <use x=\"63.623047\" xlink:href=\"#DejaVuSans-48\"/>\n       <use x=\"127.246094\" xlink:href=\"#DejaVuSans-48\"/>\n       <use x=\"190.869141\" xlink:href=\"#DejaVuSans-48\"/>\n       <use x=\"254.492188\" xlink:href=\"#DejaVuSans-48\"/>\n      </g>\n     </g>\n    </g>\n    <g id=\"ytick_4\">\n     <g id=\"line2d_19\">\n      <path clip-path=\"url(#p87837629a6)\" d=\"M 46.0125 267.509709 \nL 514.7325 267.509709 \n\" style=\"fill:none;stroke:#808080;stroke-linecap:square;stroke-opacity:0.5;stroke-width:0.25;\"/>\n     </g>\n     <g id=\"line2d_20\">\n      <g>\n       <use style=\"stroke:#000000;stroke-width:0.8;\" x=\"46.0125\" xlink:href=\"#m70bd39825b\" y=\"267.509709\"/>\n      </g>\n     </g>\n     <g id=\"text_10\">\n      <!-- 15000 -->\n      <g transform=\"translate(7.2 271.308928)scale(0.1 -0.1)\">\n       <use xlink:href=\"#DejaVuSans-49\"/>\n       <use x=\"63.623047\" xlink:href=\"#DejaVuSans-53\"/>\n       <use x=\"127.246094\" xlink:href=\"#DejaVuSans-48\"/>\n       <use x=\"190.869141\" xlink:href=\"#DejaVuSans-48\"/>\n       <use x=\"254.492188\" xlink:href=\"#DejaVuSans-48\"/>\n      </g>\n     </g>\n    </g>\n    <g id=\"ytick_5\">\n     <g id=\"line2d_21\">\n      <path clip-path=\"url(#p87837629a6)\" d=\"M 46.0125 226.024238 \nL 514.7325 226.024238 \n\" style=\"fill:none;stroke:#808080;stroke-linecap:square;stroke-opacity:0.5;stroke-width:0.25;\"/>\n     </g>\n     <g id=\"line2d_22\">\n      <g>\n       <use style=\"stroke:#000000;stroke-width:0.8;\" x=\"46.0125\" xlink:href=\"#m70bd39825b\" y=\"226.024238\"/>\n      </g>\n     </g>\n     <g id=\"text_11\">\n      <!-- 20000 -->\n      <g transform=\"translate(7.2 229.823456)scale(0.1 -0.1)\">\n       <use xlink:href=\"#DejaVuSans-50\"/>\n       <use x=\"63.623047\" xlink:href=\"#DejaVuSans-48\"/>\n       <use x=\"127.246094\" xlink:href=\"#DejaVuSans-48\"/>\n       <use x=\"190.869141\" xlink:href=\"#DejaVuSans-48\"/>\n       <use x=\"254.492188\" xlink:href=\"#DejaVuSans-48\"/>\n      </g>\n     </g>\n    </g>\n    <g id=\"ytick_6\">\n     <g id=\"line2d_23\">\n      <path clip-path=\"url(#p87837629a6)\" d=\"M 46.0125 184.538766 \nL 514.7325 184.538766 \n\" style=\"fill:none;stroke:#808080;stroke-linecap:square;stroke-opacity:0.5;stroke-width:0.25;\"/>\n     </g>\n     <g id=\"line2d_24\">\n      <g>\n       <use style=\"stroke:#000000;stroke-width:0.8;\" x=\"46.0125\" xlink:href=\"#m70bd39825b\" y=\"184.538766\"/>\n      </g>\n     </g>\n     <g id=\"text_12\">\n      <!-- 25000 -->\n      <g transform=\"translate(7.2 188.337984)scale(0.1 -0.1)\">\n       <use xlink:href=\"#DejaVuSans-50\"/>\n       <use x=\"63.623047\" xlink:href=\"#DejaVuSans-53\"/>\n       <use x=\"127.246094\" xlink:href=\"#DejaVuSans-48\"/>\n       <use x=\"190.869141\" xlink:href=\"#DejaVuSans-48\"/>\n       <use x=\"254.492188\" xlink:href=\"#DejaVuSans-48\"/>\n      </g>\n     </g>\n    </g>\n    <g id=\"ytick_7\">\n     <g id=\"line2d_25\">\n      <path clip-path=\"url(#p87837629a6)\" d=\"M 46.0125 143.053294 \nL 514.7325 143.053294 \n\" style=\"fill:none;stroke:#808080;stroke-linecap:square;stroke-opacity:0.5;stroke-width:0.25;\"/>\n     </g>\n     <g id=\"line2d_26\">\n      <g>\n       <use style=\"stroke:#000000;stroke-width:0.8;\" x=\"46.0125\" xlink:href=\"#m70bd39825b\" y=\"143.053294\"/>\n      </g>\n     </g>\n     <g id=\"text_13\">\n      <!-- 30000 -->\n      <defs>\n       <path d=\"M 40.578125 39.3125 \nQ 47.65625 37.796875 51.625 33 \nQ 55.609375 28.21875 55.609375 21.1875 \nQ 55.609375 10.40625 48.1875 4.484375 \nQ 40.765625 -1.421875 27.09375 -1.421875 \nQ 22.515625 -1.421875 17.65625 -0.515625 \nQ 12.796875 0.390625 7.625 2.203125 \nL 7.625 11.71875 \nQ 11.71875 9.328125 16.59375 8.109375 \nQ 21.484375 6.890625 26.8125 6.890625 \nQ 36.078125 6.890625 40.9375 10.546875 \nQ 45.796875 14.203125 45.796875 21.1875 \nQ 45.796875 27.640625 41.28125 31.265625 \nQ 36.765625 34.90625 28.71875 34.90625 \nL 20.21875 34.90625 \nL 20.21875 43.015625 \nL 29.109375 43.015625 \nQ 36.375 43.015625 40.234375 45.921875 \nQ 44.09375 48.828125 44.09375 54.296875 \nQ 44.09375 59.90625 40.109375 62.90625 \nQ 36.140625 65.921875 28.71875 65.921875 \nQ 24.65625 65.921875 20.015625 65.03125 \nQ 15.375 64.15625 9.8125 62.3125 \nL 9.8125 71.09375 \nQ 15.4375 72.65625 20.34375 73.4375 \nQ 25.25 74.21875 29.59375 74.21875 \nQ 40.828125 74.21875 47.359375 69.109375 \nQ 53.90625 64.015625 53.90625 55.328125 \nQ 53.90625 49.265625 50.4375 45.09375 \nQ 46.96875 40.921875 40.578125 39.3125 \nz\n\" id=\"DejaVuSans-51\"/>\n      </defs>\n      <g transform=\"translate(7.2 146.852513)scale(0.1 -0.1)\">\n       <use xlink:href=\"#DejaVuSans-51\"/>\n       <use x=\"63.623047\" xlink:href=\"#DejaVuSans-48\"/>\n       <use x=\"127.246094\" xlink:href=\"#DejaVuSans-48\"/>\n       <use x=\"190.869141\" xlink:href=\"#DejaVuSans-48\"/>\n       <use x=\"254.492188\" xlink:href=\"#DejaVuSans-48\"/>\n      </g>\n     </g>\n    </g>\n    <g id=\"ytick_8\">\n     <g id=\"line2d_27\">\n      <path clip-path=\"url(#p87837629a6)\" d=\"M 46.0125 101.567822 \nL 514.7325 101.567822 \n\" style=\"fill:none;stroke:#808080;stroke-linecap:square;stroke-opacity:0.5;stroke-width:0.25;\"/>\n     </g>\n     <g id=\"line2d_28\">\n      <g>\n       <use style=\"stroke:#000000;stroke-width:0.8;\" x=\"46.0125\" xlink:href=\"#m70bd39825b\" y=\"101.567822\"/>\n      </g>\n     </g>\n     <g id=\"text_14\">\n      <!-- 35000 -->\n      <g transform=\"translate(7.2 105.367041)scale(0.1 -0.1)\">\n       <use xlink:href=\"#DejaVuSans-51\"/>\n       <use x=\"63.623047\" xlink:href=\"#DejaVuSans-53\"/>\n       <use x=\"127.246094\" xlink:href=\"#DejaVuSans-48\"/>\n       <use x=\"190.869141\" xlink:href=\"#DejaVuSans-48\"/>\n       <use x=\"254.492188\" xlink:href=\"#DejaVuSans-48\"/>\n      </g>\n     </g>\n    </g>\n    <g id=\"ytick_9\">\n     <g id=\"line2d_29\">\n      <path clip-path=\"url(#p87837629a6)\" d=\"M 46.0125 60.08235 \nL 514.7325 60.08235 \n\" style=\"fill:none;stroke:#808080;stroke-linecap:square;stroke-opacity:0.5;stroke-width:0.25;\"/>\n     </g>\n     <g id=\"line2d_30\">\n      <g>\n       <use style=\"stroke:#000000;stroke-width:0.8;\" x=\"46.0125\" xlink:href=\"#m70bd39825b\" y=\"60.08235\"/>\n      </g>\n     </g>\n     <g id=\"text_15\">\n      <!-- 40000 -->\n      <g transform=\"translate(7.2 63.881569)scale(0.1 -0.1)\">\n       <use xlink:href=\"#DejaVuSans-52\"/>\n       <use x=\"63.623047\" xlink:href=\"#DejaVuSans-48\"/>\n       <use x=\"127.246094\" xlink:href=\"#DejaVuSans-48\"/>\n       <use x=\"190.869141\" xlink:href=\"#DejaVuSans-48\"/>\n       <use x=\"254.492188\" xlink:href=\"#DejaVuSans-48\"/>\n      </g>\n     </g>\n    </g>\n   </g>\n   <g id=\"patch_13\">\n    <path d=\"M 46.0125 391.966125 \nL 46.0125 22.318125 \n\" style=\"fill:none;stroke:#000000;stroke-linecap:square;stroke-linejoin:miter;stroke-width:0.8;\"/>\n   </g>\n   <g id=\"patch_14\">\n    <path d=\"M 514.7325 391.966125 \nL 514.7325 22.318125 \n\" style=\"fill:none;stroke:#000000;stroke-linecap:square;stroke-linejoin:miter;stroke-width:0.8;\"/>\n   </g>\n   <g id=\"patch_15\">\n    <path d=\"M 46.0125 391.966125 \nL 514.7325 391.966125 \n\" style=\"fill:none;stroke:#000000;stroke-linecap:square;stroke-linejoin:miter;stroke-width:0.8;\"/>\n   </g>\n   <g id=\"patch_16\">\n    <path d=\"M 46.0125 22.318125 \nL 514.7325 22.318125 \n\" style=\"fill:none;stroke:#000000;stroke-linecap:square;stroke-linejoin:miter;stroke-width:0.8;\"/>\n   </g>\n   <g id=\"text_16\">\n    <!-- Distribution of Responses -->\n    <defs>\n     <path d=\"M 19.671875 64.796875 \nL 19.671875 8.109375 \nL 31.59375 8.109375 \nQ 46.6875 8.109375 53.6875 14.9375 \nQ 60.6875 21.78125 60.6875 36.53125 \nQ 60.6875 51.171875 53.6875 57.984375 \nQ 46.6875 64.796875 31.59375 64.796875 \nz\nM 9.8125 72.90625 \nL 30.078125 72.90625 \nQ 51.265625 72.90625 61.171875 64.09375 \nQ 71.09375 55.28125 71.09375 36.53125 \nQ 71.09375 17.671875 61.125 8.828125 \nQ 51.171875 0 30.078125 0 \nL 9.8125 0 \nz\n\" id=\"DejaVuSans-68\"/>\n     <path d=\"M 9.421875 54.6875 \nL 18.40625 54.6875 \nL 18.40625 0 \nL 9.421875 0 \nz\nM 9.421875 75.984375 \nL 18.40625 75.984375 \nL 18.40625 64.59375 \nL 9.421875 64.59375 \nz\n\" id=\"DejaVuSans-105\"/>\n     <path d=\"M 44.28125 53.078125 \nL 44.28125 44.578125 \nQ 40.484375 46.53125 36.375 47.5 \nQ 32.28125 48.484375 27.875 48.484375 \nQ 21.1875 48.484375 17.84375 46.4375 \nQ 14.5 44.390625 14.5 40.28125 \nQ 14.5 37.15625 16.890625 35.375 \nQ 19.28125 33.59375 26.515625 31.984375 \nL 29.59375 31.296875 \nQ 39.15625 29.25 43.1875 25.515625 \nQ 47.21875 21.78125 47.21875 15.09375 \nQ 47.21875 7.46875 41.1875 3.015625 \nQ 35.15625 -1.421875 24.609375 -1.421875 \nQ 20.21875 -1.421875 15.453125 -0.5625 \nQ 10.6875 0.296875 5.421875 2 \nL 5.421875 11.28125 \nQ 10.40625 8.6875 15.234375 7.390625 \nQ 20.0625 6.109375 24.8125 6.109375 \nQ 31.15625 6.109375 34.5625 8.28125 \nQ 37.984375 10.453125 37.984375 14.40625 \nQ 37.984375 18.0625 35.515625 20.015625 \nQ 33.0625 21.96875 24.703125 23.78125 \nL 21.578125 24.515625 \nQ 13.234375 26.265625 9.515625 29.90625 \nQ 5.8125 33.546875 5.8125 39.890625 \nQ 5.8125 47.609375 11.28125 51.796875 \nQ 16.75 56 26.8125 56 \nQ 31.78125 56 36.171875 55.265625 \nQ 40.578125 54.546875 44.28125 53.078125 \nz\n\" id=\"DejaVuSans-115\"/>\n     <path d=\"M 18.3125 70.21875 \nL 18.3125 54.6875 \nL 36.8125 54.6875 \nL 36.8125 47.703125 \nL 18.3125 47.703125 \nL 18.3125 18.015625 \nQ 18.3125 11.328125 20.140625 9.421875 \nQ 21.96875 7.515625 27.59375 7.515625 \nL 36.8125 7.515625 \nL 36.8125 0 \nL 27.59375 0 \nQ 17.1875 0 13.234375 3.875 \nQ 9.28125 7.765625 9.28125 18.015625 \nL 9.28125 47.703125 \nL 2.6875 47.703125 \nL 2.6875 54.6875 \nL 9.28125 54.6875 \nL 9.28125 70.21875 \nz\n\" id=\"DejaVuSans-116\"/>\n     <path d=\"M 41.109375 46.296875 \nQ 39.59375 47.171875 37.8125 47.578125 \nQ 36.03125 48 33.890625 48 \nQ 26.265625 48 22.1875 43.046875 \nQ 18.109375 38.09375 18.109375 28.8125 \nL 18.109375 0 \nL 9.078125 0 \nL 9.078125 54.6875 \nL 18.109375 54.6875 \nL 18.109375 46.1875 \nQ 20.953125 51.171875 25.484375 53.578125 \nQ 30.03125 56 36.53125 56 \nQ 37.453125 56 38.578125 55.875 \nQ 39.703125 55.765625 41.0625 55.515625 \nz\n\" id=\"DejaVuSans-114\"/>\n     <path d=\"M 48.6875 27.296875 \nQ 48.6875 37.203125 44.609375 42.84375 \nQ 40.53125 48.484375 33.40625 48.484375 \nQ 26.265625 48.484375 22.1875 42.84375 \nQ 18.109375 37.203125 18.109375 27.296875 \nQ 18.109375 17.390625 22.1875 11.75 \nQ 26.265625 6.109375 33.40625 6.109375 \nQ 40.53125 6.109375 44.609375 11.75 \nQ 48.6875 17.390625 48.6875 27.296875 \nz\nM 18.109375 46.390625 \nQ 20.953125 51.265625 25.265625 53.625 \nQ 29.59375 56 35.59375 56 \nQ 45.5625 56 51.78125 48.09375 \nQ 58.015625 40.1875 58.015625 27.296875 \nQ 58.015625 14.40625 51.78125 6.484375 \nQ 45.5625 -1.421875 35.59375 -1.421875 \nQ 29.59375 -1.421875 25.265625 0.953125 \nQ 20.953125 3.328125 18.109375 8.203125 \nL 18.109375 0 \nL 9.078125 0 \nL 9.078125 75.984375 \nL 18.109375 75.984375 \nz\n\" id=\"DejaVuSans-98\"/>\n     <path d=\"M 8.5 21.578125 \nL 8.5 54.6875 \nL 17.484375 54.6875 \nL 17.484375 21.921875 \nQ 17.484375 14.15625 20.5 10.265625 \nQ 23.53125 6.390625 29.59375 6.390625 \nQ 36.859375 6.390625 41.078125 11.03125 \nQ 45.3125 15.671875 45.3125 23.6875 \nL 45.3125 54.6875 \nL 54.296875 54.6875 \nL 54.296875 0 \nL 45.3125 0 \nL 45.3125 8.40625 \nQ 42.046875 3.421875 37.71875 1 \nQ 33.40625 -1.421875 27.6875 -1.421875 \nQ 18.265625 -1.421875 13.375 4.4375 \nQ 8.5 10.296875 8.5 21.578125 \nz\nM 31.109375 56 \nz\n\" id=\"DejaVuSans-117\"/>\n     <path d=\"M 30.609375 48.390625 \nQ 23.390625 48.390625 19.1875 42.75 \nQ 14.984375 37.109375 14.984375 27.296875 \nQ 14.984375 17.484375 19.15625 11.84375 \nQ 23.34375 6.203125 30.609375 6.203125 \nQ 37.796875 6.203125 41.984375 11.859375 \nQ 46.1875 17.53125 46.1875 27.296875 \nQ 46.1875 37.015625 41.984375 42.703125 \nQ 37.796875 48.390625 30.609375 48.390625 \nz\nM 30.609375 56 \nQ 42.328125 56 49.015625 48.375 \nQ 55.71875 40.765625 55.71875 27.296875 \nQ 55.71875 13.875 49.015625 6.21875 \nQ 42.328125 -1.421875 30.609375 -1.421875 \nQ 18.84375 -1.421875 12.171875 6.21875 \nQ 5.515625 13.875 5.515625 27.296875 \nQ 5.515625 40.765625 12.171875 48.375 \nQ 18.84375 56 30.609375 56 \nz\n\" id=\"DejaVuSans-111\"/>\n     <path d=\"M 54.890625 33.015625 \nL 54.890625 0 \nL 45.90625 0 \nL 45.90625 32.71875 \nQ 45.90625 40.484375 42.875 44.328125 \nQ 39.84375 48.1875 33.796875 48.1875 \nQ 26.515625 48.1875 22.3125 43.546875 \nQ 18.109375 38.921875 18.109375 30.90625 \nL 18.109375 0 \nL 9.078125 0 \nL 9.078125 54.6875 \nL 18.109375 54.6875 \nL 18.109375 46.1875 \nQ 21.34375 51.125 25.703125 53.5625 \nQ 30.078125 56 35.796875 56 \nQ 45.21875 56 50.046875 50.171875 \nQ 54.890625 44.34375 54.890625 33.015625 \nz\n\" id=\"DejaVuSans-110\"/>\n     <path id=\"DejaVuSans-32\"/>\n     <path d=\"M 37.109375 75.984375 \nL 37.109375 68.5 \nL 28.515625 68.5 \nQ 23.6875 68.5 21.796875 66.546875 \nQ 19.921875 64.59375 19.921875 59.515625 \nL 19.921875 54.6875 \nL 34.71875 54.6875 \nL 34.71875 47.703125 \nL 19.921875 47.703125 \nL 19.921875 0 \nL 10.890625 0 \nL 10.890625 47.703125 \nL 2.296875 47.703125 \nL 2.296875 54.6875 \nL 10.890625 54.6875 \nL 10.890625 58.5 \nQ 10.890625 67.625 15.140625 71.796875 \nQ 19.390625 75.984375 28.609375 75.984375 \nz\n\" id=\"DejaVuSans-102\"/>\n     <path d=\"M 44.390625 34.1875 \nQ 47.5625 33.109375 50.5625 29.59375 \nQ 53.5625 26.078125 56.59375 19.921875 \nL 66.609375 0 \nL 56 0 \nL 46.6875 18.703125 \nQ 43.0625 26.03125 39.671875 28.421875 \nQ 36.28125 30.8125 30.421875 30.8125 \nL 19.671875 30.8125 \nL 19.671875 0 \nL 9.8125 0 \nL 9.8125 72.90625 \nL 32.078125 72.90625 \nQ 44.578125 72.90625 50.734375 67.671875 \nQ 56.890625 62.453125 56.890625 51.90625 \nQ 56.890625 45.015625 53.6875 40.46875 \nQ 50.484375 35.9375 44.390625 34.1875 \nz\nM 19.671875 64.796875 \nL 19.671875 38.921875 \nL 32.078125 38.921875 \nQ 39.203125 38.921875 42.84375 42.21875 \nQ 46.484375 45.515625 46.484375 51.90625 \nQ 46.484375 58.296875 42.84375 61.546875 \nQ 39.203125 64.796875 32.078125 64.796875 \nz\n\" id=\"DejaVuSans-82\"/>\n     <path d=\"M 56.203125 29.59375 \nL 56.203125 25.203125 \nL 14.890625 25.203125 \nQ 15.484375 15.921875 20.484375 11.0625 \nQ 25.484375 6.203125 34.421875 6.203125 \nQ 39.59375 6.203125 44.453125 7.46875 \nQ 49.3125 8.734375 54.109375 11.28125 \nL 54.109375 2.78125 \nQ 49.265625 0.734375 44.1875 -0.34375 \nQ 39.109375 -1.421875 33.890625 -1.421875 \nQ 20.796875 -1.421875 13.15625 6.1875 \nQ 5.515625 13.8125 5.515625 26.8125 \nQ 5.515625 40.234375 12.765625 48.109375 \nQ 20.015625 56 32.328125 56 \nQ 43.359375 56 49.78125 48.890625 \nQ 56.203125 41.796875 56.203125 29.59375 \nz\nM 47.21875 32.234375 \nQ 47.125 39.59375 43.09375 43.984375 \nQ 39.0625 48.390625 32.421875 48.390625 \nQ 24.90625 48.390625 20.390625 44.140625 \nQ 15.875 39.890625 15.1875 32.171875 \nz\n\" id=\"DejaVuSans-101\"/>\n     <path d=\"M 18.109375 8.203125 \nL 18.109375 -20.796875 \nL 9.078125 -20.796875 \nL 9.078125 54.6875 \nL 18.109375 54.6875 \nL 18.109375 46.390625 \nQ 20.953125 51.265625 25.265625 53.625 \nQ 29.59375 56 35.59375 56 \nQ 45.5625 56 51.78125 48.09375 \nQ 58.015625 40.1875 58.015625 27.296875 \nQ 58.015625 14.40625 51.78125 6.484375 \nQ 45.5625 -1.421875 35.59375 -1.421875 \nQ 29.59375 -1.421875 25.265625 0.953125 \nQ 20.953125 3.328125 18.109375 8.203125 \nz\nM 48.6875 27.296875 \nQ 48.6875 37.203125 44.609375 42.84375 \nQ 40.53125 48.484375 33.40625 48.484375 \nQ 26.265625 48.484375 22.1875 42.84375 \nQ 18.109375 37.203125 18.109375 27.296875 \nQ 18.109375 17.390625 22.1875 11.75 \nQ 26.265625 6.109375 33.40625 6.109375 \nQ 40.53125 6.109375 44.609375 11.75 \nQ 48.6875 17.390625 48.6875 27.296875 \nz\n\" id=\"DejaVuSans-112\"/>\n    </defs>\n    <g transform=\"translate(203.564063 16.318125)scale(0.12 -0.12)\">\n     <use xlink:href=\"#DejaVuSans-68\"/>\n     <use x=\"77.001953\" xlink:href=\"#DejaVuSans-105\"/>\n     <use x=\"104.785156\" xlink:href=\"#DejaVuSans-115\"/>\n     <use x=\"156.884766\" xlink:href=\"#DejaVuSans-116\"/>\n     <use x=\"196.09375\" xlink:href=\"#DejaVuSans-114\"/>\n     <use x=\"237.207031\" xlink:href=\"#DejaVuSans-105\"/>\n     <use x=\"264.990234\" xlink:href=\"#DejaVuSans-98\"/>\n     <use x=\"328.466797\" xlink:href=\"#DejaVuSans-117\"/>\n     <use x=\"391.845703\" xlink:href=\"#DejaVuSans-116\"/>\n     <use x=\"431.054688\" xlink:href=\"#DejaVuSans-105\"/>\n     <use x=\"458.837891\" xlink:href=\"#DejaVuSans-111\"/>\n     <use x=\"520.019531\" xlink:href=\"#DejaVuSans-110\"/>\n     <use x=\"583.398438\" xlink:href=\"#DejaVuSans-32\"/>\n     <use x=\"615.185547\" xlink:href=\"#DejaVuSans-111\"/>\n     <use x=\"676.367188\" xlink:href=\"#DejaVuSans-102\"/>\n     <use x=\"711.572266\" xlink:href=\"#DejaVuSans-32\"/>\n     <use x=\"743.359375\" xlink:href=\"#DejaVuSans-82\"/>\n     <use x=\"812.779297\" xlink:href=\"#DejaVuSans-101\"/>\n     <use x=\"874.302734\" xlink:href=\"#DejaVuSans-115\"/>\n     <use x=\"926.402344\" xlink:href=\"#DejaVuSans-112\"/>\n     <use x=\"989.878906\" xlink:href=\"#DejaVuSans-111\"/>\n     <use x=\"1051.060547\" xlink:href=\"#DejaVuSans-110\"/>\n     <use x=\"1114.439453\" xlink:href=\"#DejaVuSans-115\"/>\n     <use x=\"1166.539062\" xlink:href=\"#DejaVuSans-101\"/>\n     <use x=\"1228.0625\" xlink:href=\"#DejaVuSans-115\"/>\n    </g>\n   </g>\n  </g>\n </g>\n <defs>\n  <clipPath id=\"p87837629a6\">\n   <rect height=\"369.648\" width=\"468.72\" x=\"46.0125\" y=\"22.318125\"/>\n  </clipPath>\n </defs>\n</svg>\n",
      "image/png": "[encoded data removed]"
     },
     "metadata": {
      "needs_background": "light"
     }
    }
   ],
   "source": [
    "# Graphing the distribution of the RESPONSE variable for the training data\n",
    "plt.figure(figsize=(8.4, 6.8))\n",
    "plt.hist(train_data[\"RESPONSE\"])\n",
    "ax = plt.gca()\n",
    "ax.set_facecolor('#ebedf0')\n",
    "plt.title(\"Distribution of Responses\")\n",
    "plt.grid(color='grey', linestyle='-', linewidth=0.25, alpha=0.5)\n",
    "plt.savefig('images/responses_hist')"
   ]
  },
  {
   "cell_type": "code",
   "execution_count": 6,
   "metadata": {},
   "outputs": [
    {
     "output_type": "execute_result",
     "data": {
      "text/plain": "0.012383036171500396"
     },
     "metadata": {},
     "execution_count": 6
    }
   ],
   "source": [
    "# Calculating the percentage of positive outcomes for the training data\n",
    "len(train_data[train_data[\"RESPONSE\"]==1]) / len(train_data)"
   ]
  },
  {
   "cell_type": "code",
   "execution_count": 17,
   "metadata": {},
   "outputs": [],
   "source": [
    "# Splitting the training data into features and labels\n",
    "X_train = train_data.loc[:, train_data.columns != 'RESPONSE']\n",
    "y_train = train_data['RESPONSE']"
   ]
  },
  {
   "cell_type": "code",
   "execution_count": 8,
   "metadata": {},
   "outputs": [],
   "source": [
    "# Using logistic regrsssion to create the benchmark model\n",
    "\n",
    "# importing the logistic regression model\n",
    "from sklearn.linear_model import LogisticRegression\n",
    "\n",
    "# Creating the logistic regression model with lasso regularization\n",
    "lr_baseline = LogisticRegression(penalty='l1',\n",
    "                                 class_weight='balanced',\n",
    "                                 solver='saga',\n",
    "                                 max_iter=5000)"
   ]
  },
  {
   "cell_type": "code",
   "execution_count": 9,
   "metadata": {},
   "outputs": [
    {
     "output_type": "execute_result",
     "data": {
      "text/plain": "LogisticRegression(class_weight='balanced', max_iter=5000, penalty='l1',\n                   solver='saga')"
     },
     "metadata": {},
     "execution_count": 9
    }
   ],
   "source": [
    "# Training the baseline model\n",
    "lr_baseline.fit(X_train, y_train)"
   ]
  },
  {
   "cell_type": "code",
   "execution_count": 8,
   "metadata": {},
   "outputs": [],
   "source": [
    "# Importing functions for calculating accuracy, precision, and recall\n",
    "from sklearn.metrics import recall_score\n",
    "from sklearn.metrics import precision_score\n",
    "from sklearn.metrics import accuracy_score"
   ]
  },
  {
   "cell_type": "code",
   "execution_count": 11,
   "metadata": {},
   "outputs": [],
   "source": [
    "# Getting predictions for the training set\n",
    "y_pred = lr_baseline.predict(X_train)"
   ]
  },
  {
   "cell_type": "code",
   "execution_count": 12,
   "metadata": {},
   "outputs": [
    {
     "output_type": "execute_result",
     "data": {
      "text/plain": "0    42430\n1      532\nName: RESPONSE, dtype: int64"
     },
     "metadata": {},
     "execution_count": 12
    }
   ],
   "source": [
    "y_train.value_counts()"
   ]
  },
  {
   "cell_type": "code",
   "execution_count": 13,
   "metadata": {
    "tags": []
   },
   "outputs": [
    {
     "output_type": "stream",
     "name": "stdout",
     "text": "The accuracy is 0.6927750104743727\nThe recall is 0.6033834586466166\nThe precision is 0.024119017206401683\n"
    }
   ],
   "source": [
    "# Calculating the accuracy, precision, and recall\n",
    "print(\"The accuracy is\", accuracy_score(y_train, y_pred))\n",
    "print(\"The recall is\", recall_score(y_train, y_pred))\n",
    "print(\"The precision is\", precision_score(y_train, y_pred))"
   ]
  },
  {
   "cell_type": "code",
   "execution_count": 14,
   "metadata": {
    "tags": []
   },
   "outputs": [
    {
     "output_type": "stream",
     "name": "stdout",
     "text": "[[ 1.84193006e-01 -2.08295847e-01 -2.22455245e-02 -9.12754311e-02\n  -1.47698069e-01  9.91378306e-02  1.88730522e-01  5.84308074e-02\n   1.35197286e-01  3.81220314e-02 -1.21448160e-03  1.06939763e-01\n  -1.55086276e-01 -1.70419089e-02 -1.57224694e-01 -1.23067595e-01\n   8.48365563e-02 -2.04623146e-02  4.11235285e-02  3.65846556e-02\n   7.44170286e-02 -4.56633621e-02  2.20316440e-02  5.21517019e-02\n   1.16008716e-01 -3.06089754e-01 -1.98483858e-02 -2.37443124e-01\n   9.23035653e-02 -9.50171876e-02  1.60189163e-01 -1.21329162e-01\n   1.59633168e-01 -8.80138034e-02 -1.55534768e-01  5.36830753e-03\n  -7.79909519e-02 -7.45420614e-02 -6.13334957e-02  1.53918448e-01\n   5.51104311e-02 -9.30898680e-02 -1.18499863e-01 -1.27144609e-01\n   3.05624926e-01 -1.18348482e-01  1.30752613e-01  2.15535047e-03\n   9.04879141e-02  4.30147311e-02 -1.22635459e-01 -4.85115547e-01\n  -9.81385572e-01  8.52208369e-02 -7.97882348e-02 -1.04793183e-01\n   1.07607888e-01 -1.67739350e-01  1.08417395e-01  5.36499726e-02\n  -8.30091266e-02  1.79326898e-01 -9.92036339e-01 -1.42824069e-01\n  -5.13483240e-02 -2.48165260e-02 -2.99619587e-02  1.78950076e-01\n   1.80682639e-01 -4.83104187e-02  1.05523453e-01 -5.23249894e-02\n  -2.65511275e-01 -5.26321846e-02 -5.85038005e-02 -8.88669478e-03\n  -1.18874292e-01 -6.10393001e-02  3.05578589e-02  2.13180335e-01\n  -2.69544988e-02 -1.94788666e-02  7.24051413e-02  4.80177089e-02\n  -6.00397367e-02  3.50077091e-02 -7.01274069e-04 -7.35026508e-02\n   5.10389856e-02 -3.00718557e-03 -2.69349387e-03  2.14211135e-01\n  -2.21884701e-02  3.85449535e-02 -1.89855570e-02  5.11902259e-02\n  -1.50572287e-01  9.67712490e-02  1.62857291e-01  3.30068392e-02\n   4.60070576e-02 -2.56962383e-02 -3.41648367e-02 -3.15671840e-03\n   3.86552348e-02  1.37843285e-01 -2.58390092e-02  3.25593151e-02\n   5.21052795e-02 -1.21369138e-01 -2.69071066e-01  1.40621646e-01\n   5.39731151e-02 -1.96310460e-01 -3.45218830e-02 -1.84424760e-01\n  -6.65998005e-02  6.35994405e-02 -3.32893932e-02 -1.57803168e-02\n  -2.20882449e-01 -1.73493154e-01  4.32321720e-02 -1.01538535e-01\n   1.42728526e-02  3.21433726e-01  4.02281329e-01 -5.59610840e-02\n   6.98797021e-02 -1.41597752e-01 -6.57447399e-02  4.66052067e-02\n   1.82527418e-01 -1.08281379e-01  2.14585258e-01  1.92867779e-02\n  -1.63970484e-01 -4.91671649e-02 -9.93612606e-02  1.28589107e-01\n  -1.14634505e-02 -9.25414212e-02  1.17714369e-01  3.35465158e-02\n  -1.16135240e-01  1.82069114e-01  4.70103530e-02 -1.56650305e-01\n   1.30405991e-01 -1.86376270e-01 -1.27564801e-02  8.73173876e-02\n   1.96730509e-01  3.03949034e-02 -6.10884469e-02 -1.45655675e-01\n   4.03347400e-02 -1.70903020e-01  1.94654730e-01 -1.36485651e-01\n  -1.61875190e-01  2.62892907e-01 -8.37004696e-03  4.83854941e-02\n  -4.85056228e-02  1.64498014e-01 -3.16065113e-02 -8.75426304e-02\n  -3.33405996e-02  2.43116149e-01  2.72485702e-02 -4.90782246e-02\n   1.36146698e-01 -1.21363373e-01 -3.87813702e-02  2.60030388e-01\n   4.38004454e-02 -6.78969842e-02 -1.61125036e-02  2.90651888e-02\n   8.14622462e-02 -3.61957408e-02 -3.95175271e-02  5.68680257e-02\n  -1.20128459e-03  2.60126444e-02 -5.54990647e-02 -3.05095052e-02\n  -8.33410517e-02 -8.60255768e-02  2.04112664e-02  1.14466804e-01\n  -9.64148159e-02  6.96240920e-02 -9.63157080e-02 -1.17858173e-01\n   1.46975622e-01 -2.00135648e-01  3.53834222e-02  2.11322211e-02\n   1.64268890e-02 -1.21298013e-01  1.64213054e-01  4.27167467e-03\n  -1.88363506e-01  1.46923583e-01  2.16524662e-01 -1.52458931e-01\n   6.60401140e-02 -1.04239986e-01  8.94935723e-02 -5.03690544e-03\n   9.73537531e-04  8.88832814e-02 -1.26236322e-01  7.03966125e-02\n  -6.16651563e-02 -5.84838709e-02  6.48673791e-03 -2.83196673e-02\n  -4.31272115e-02  1.07687711e-01  1.07655147e-01  5.59537180e-02\n   7.23024487e-02  3.50830184e-02  6.19818919e-02  8.25836110e-02\n  -6.76438776e-02 -1.04239986e-01 -6.47598108e-02  1.16343905e-01\n   1.65989359e-01  2.95917893e-03 -6.01714652e-02  1.56378995e-02\n  -4.82698284e-02 -1.74207292e-02  1.56038997e-02 -8.42142628e-02\n   2.49636321e-02 -1.18775545e-01  1.25903184e-01 -1.75737561e-01\n  -1.93177245e-03  7.77327709e-03 -1.33038979e-01  3.59221378e-02\n  -1.74610806e-02 -1.40813477e-01 -1.56500842e-01  5.75144354e-02\n   2.44333501e-01 -9.64607480e-02  1.35497039e-01 -1.22190207e-01\n  -4.52556279e-02  8.45964652e-02 -6.62903650e-02  9.53447883e-02\n  -1.32108150e-01  1.47683545e-02  8.28257378e-02  9.48431815e-02\n  -7.65135826e-02 -4.47047817e-02  7.40844886e-02  1.36821597e-01\n   2.30670410e-04  1.87541652e-04 -1.46305608e-02 -3.66330434e-02\n  -1.81043964e-01 -1.15869046e-01 -1.12259875e-01 -1.97306843e-01\n  -2.69629327e-02  1.06058997e-01 -9.35548281e-02  3.21315672e-03\n  -1.05105788e-01  2.63019411e-01 -9.00390558e-02 -1.20795897e-01\n   1.35613621e-01 -2.70627628e-02 -2.10084648e-02  1.76326939e-01\n  -2.09245694e-02 -1.60876997e-01 -7.88895810e-02  7.95148452e-02\n  -7.73162275e-02  1.26902371e-01  6.89897567e-02 -1.84630010e-01\n   1.21603700e-01  8.43435792e-03  2.58449387e-02 -5.98537334e-02\n   1.35149479e-01 -1.75109959e-02 -5.90911840e-02  6.14523831e-03\n   5.95652740e-02 -1.62534810e-01 -1.52234662e-02 -1.12369906e-01\n  -9.80103918e-02  4.95129695e-02  3.36833091e-03 -7.95261523e-02\n   1.75149610e-02  1.20700470e-01  5.78660804e-02 -9.73983057e-02\n  -5.96209346e-02 -6.65356702e-02  5.64546802e-02  2.41647190e-01\n  -6.46613914e-02 -4.19669541e-02  3.01800932e-01  1.77394735e-01\n   6.47515302e-02 -1.59338144e-01  3.48775762e-02  7.09910928e-02\n   1.42558849e-01  1.54018861e-01  2.24517631e-01  7.98107891e-02\n  -1.40320827e-02 -2.52445858e-04  3.86434224e-02  1.56008936e-01\n  -1.26065451e-01 -1.85757226e-01 -1.02120532e-01  1.78444134e-02\n   1.22945309e-01 -2.08386444e-04  9.10773484e-02  3.88302405e-02\n   4.03678638e-02  2.81596945e-02  1.20623532e-01 -9.64213569e-02\n  -6.78646694e-03 -3.32632100e-02 -1.13272756e-01 -9.03478563e-03\n   1.59395983e-01  1.85413286e-01  2.11161402e-01 -2.24324292e-01\n  -7.43512639e-02 -9.48351435e-02]]\n"
    }
   ],
   "source": [
    "# Viewing the coefficents learned by the model\n",
    "coefs = lr_baseline.coef_\n",
    "print(coefs)"
   ]
  },
  {
   "cell_type": "code",
   "execution_count": 15,
   "metadata": {
    "tags": []
   },
   "outputs": [
    {
     "output_type": "stream",
     "name": "stdout",
     "text": "358\n"
    }
   ],
   "source": [
    "print(len(coefs[0]))"
   ]
  },
  {
   "cell_type": "code",
   "execution_count": 20,
   "metadata": {},
   "outputs": [],
   "source": [
    "# Importing the SMOTE class in order to oversample the positive class\n",
    "from imblearn.over_sampling import SMOTE\n",
    "\n",
    "# Creating the SMOTE model\n",
    "smote = SMOTE()"
   ]
  },
  {
   "cell_type": "code",
   "execution_count": 21,
   "metadata": {},
   "outputs": [],
   "source": [
    "# Fitting the SMOTE model to the training data and resampling the training data\n",
    "X_train_over, y_train_over = smote.fit_resample(X_train, y_train)"
   ]
  },
  {
   "cell_type": "code",
   "execution_count": 12,
   "metadata": {},
   "outputs": [
    {
     "output_type": "display_data",
     "data": {
      "text/plain": "<Figure size 604.8x489.6 with 1 Axes>",
      "image/svg+xml": "<?xml version=\"1.0\" encoding=\"utf-8\" standalone=\"no\"?>\n<!DOCTYPE svg PUBLIC \"-//W3C//DTD SVG 1.1//EN\"\n  \"http://www.w3.org/Graphics/SVG/1.1/DTD/svg11.dtd\">\n<!-- Created with matplotlib (https://matplotlib.org/) -->\n<svg height=\"415.84425pt\" version=\"1.1\" viewBox=\"0 0 521.9325 415.84425\" width=\"521.9325pt\" xmlns=\"http://www.w3.org/2000/svg\" xmlns:xlink=\"http://www.w3.org/1999/xlink\">\n <defs>\n  <style type=\"text/css\">\n*{stroke-linecap:butt;stroke-linejoin:round;}\n  </style>\n </defs>\n <g id=\"figure_1\">\n  <g id=\"patch_1\">\n   <path d=\"M 0 415.84425 \nL 521.9325 415.84425 \nL 521.9325 0 \nL 0 0 \nz\n\" style=\"fill:none;\"/>\n  </g>\n  <g id=\"axes_1\">\n   <g id=\"patch_2\">\n    <path d=\"M 46.0125 391.966125 \nL 514.7325 391.966125 \nL 514.7325 22.318125 \nL 46.0125 22.318125 \nz\n\" style=\"fill:#ebedf0;\"/>\n   </g>\n   <g id=\"patch_3\">\n    <path clip-path=\"url(#p849a6eca59)\" d=\"M 67.317955 391.966125 \nL 109.928864 391.966125 \nL 109.928864 39.920411 \nL 67.317955 39.920411 \nz\n\" style=\"fill:#1f77b4;\"/>\n   </g>\n   <g id=\"patch_4\">\n    <path clip-path=\"url(#p849a6eca59)\" d=\"M 109.928864 391.966125 \nL 152.539773 391.966125 \nL 152.539773 391.966125 \nL 109.928864 391.966125 \nz\n\" style=\"fill:#1f77b4;\"/>\n   </g>\n   <g id=\"patch_5\">\n    <path clip-path=\"url(#p849a6eca59)\" d=\"M 152.539773 391.966125 \nL 195.150682 391.966125 \nL 195.150682 391.966125 \nL 152.539773 391.966125 \nz\n\" style=\"fill:#1f77b4;\"/>\n   </g>\n   <g id=\"patch_6\">\n    <path clip-path=\"url(#p849a6eca59)\" d=\"M 195.150682 391.966125 \nL 237.761591 391.966125 \nL 237.761591 391.966125 \nL 195.150682 391.966125 \nz\n\" style=\"fill:#1f77b4;\"/>\n   </g>\n   <g id=\"patch_7\">\n    <path clip-path=\"url(#p849a6eca59)\" d=\"M 237.761591 391.966125 \nL 280.3725 391.966125 \nL 280.3725 391.966125 \nL 237.761591 391.966125 \nz\n\" style=\"fill:#1f77b4;\"/>\n   </g>\n   <g id=\"patch_8\">\n    <path clip-path=\"url(#p849a6eca59)\" d=\"M 280.3725 391.966125 \nL 322.983409 391.966125 \nL 322.983409 391.966125 \nL 280.3725 391.966125 \nz\n\" style=\"fill:#1f77b4;\"/>\n   </g>\n   <g id=\"patch_9\">\n    <path clip-path=\"url(#p849a6eca59)\" d=\"M 322.983409 391.966125 \nL 365.594318 391.966125 \nL 365.594318 391.966125 \nL 322.983409 391.966125 \nz\n\" style=\"fill:#1f77b4;\"/>\n   </g>\n   <g id=\"patch_10\">\n    <path clip-path=\"url(#p849a6eca59)\" d=\"M 365.594318 391.966125 \nL 408.205227 391.966125 \nL 408.205227 391.966125 \nL 365.594318 391.966125 \nz\n\" style=\"fill:#1f77b4;\"/>\n   </g>\n   <g id=\"patch_11\">\n    <path clip-path=\"url(#p849a6eca59)\" d=\"M 408.205227 391.966125 \nL 450.816136 391.966125 \nL 450.816136 391.966125 \nL 408.205227 391.966125 \nz\n\" style=\"fill:#1f77b4;\"/>\n   </g>\n   <g id=\"patch_12\">\n    <path clip-path=\"url(#p849a6eca59)\" d=\"M 450.816136 391.966125 \nL 493.427045 391.966125 \nL 493.427045 39.920411 \nL 450.816136 39.920411 \nz\n\" style=\"fill:#1f77b4;\"/>\n   </g>\n   <g id=\"matplotlib.axis_1\">\n    <g id=\"xtick_1\">\n     <g id=\"line2d_1\">\n      <path clip-path=\"url(#p849a6eca59)\" d=\"M 67.317955 391.966125 \nL 67.317955 22.318125 \n\" style=\"fill:none;stroke:#808080;stroke-linecap:square;stroke-opacity:0.5;stroke-width:0.25;\"/>\n     </g>\n     <g id=\"line2d_2\">\n      <defs>\n       <path d=\"M 0 0 \nL 0 3.5 \n\" id=\"m019154d662\" style=\"stroke:#000000;stroke-width:0.8;\"/>\n      </defs>\n      <g>\n       <use style=\"stroke:#000000;stroke-width:0.8;\" x=\"67.317955\" xlink:href=\"#m019154d662\" y=\"391.966125\"/>\n      </g>\n     </g>\n     <g id=\"text_1\">\n      <!-- 0.0 -->\n      <defs>\n       <path d=\"M 31.78125 66.40625 \nQ 24.171875 66.40625 20.328125 58.90625 \nQ 16.5 51.421875 16.5 36.375 \nQ 16.5 21.390625 20.328125 13.890625 \nQ 24.171875 6.390625 31.78125 6.390625 \nQ 39.453125 6.390625 43.28125 13.890625 \nQ 47.125 21.390625 47.125 36.375 \nQ 47.125 51.421875 43.28125 58.90625 \nQ 39.453125 66.40625 31.78125 66.40625 \nz\nM 31.78125 74.21875 \nQ 44.046875 74.21875 50.515625 64.515625 \nQ 56.984375 54.828125 56.984375 36.375 \nQ 56.984375 17.96875 50.515625 8.265625 \nQ 44.046875 -1.421875 31.78125 -1.421875 \nQ 19.53125 -1.421875 13.0625 8.265625 \nQ 6.59375 17.96875 6.59375 36.375 \nQ 6.59375 54.828125 13.0625 64.515625 \nQ 19.53125 74.21875 31.78125 74.21875 \nz\n\" id=\"DejaVuSans-48\"/>\n       <path d=\"M 10.6875 12.40625 \nL 21 12.40625 \nL 21 0 \nL 10.6875 0 \nz\n\" id=\"DejaVuSans-46\"/>\n      </defs>\n      <g transform=\"translate(59.366392 406.564562)scale(0.1 -0.1)\">\n       <use xlink:href=\"#DejaVuSans-48\"/>\n       <use x=\"63.623047\" xlink:href=\"#DejaVuSans-46\"/>\n       <use x=\"95.410156\" xlink:href=\"#DejaVuSans-48\"/>\n      </g>\n     </g>\n    </g>\n    <g id=\"xtick_2\">\n     <g id=\"line2d_3\">\n      <path clip-path=\"url(#p849a6eca59)\" d=\"M 152.539773 391.966125 \nL 152.539773 22.318125 \n\" style=\"fill:none;stroke:#808080;stroke-linecap:square;stroke-opacity:0.5;stroke-width:0.25;\"/>\n     </g>\n     <g id=\"line2d_4\">\n      <g>\n       <use style=\"stroke:#000000;stroke-width:0.8;\" x=\"152.539773\" xlink:href=\"#m019154d662\" y=\"391.966125\"/>\n      </g>\n     </g>\n     <g id=\"text_2\">\n      <!-- 0.2 -->\n      <defs>\n       <path d=\"M 19.1875 8.296875 \nL 53.609375 8.296875 \nL 53.609375 0 \nL 7.328125 0 \nL 7.328125 8.296875 \nQ 12.9375 14.109375 22.625 23.890625 \nQ 32.328125 33.6875 34.8125 36.53125 \nQ 39.546875 41.84375 41.421875 45.53125 \nQ 43.3125 49.21875 43.3125 52.78125 \nQ 43.3125 58.59375 39.234375 62.25 \nQ 35.15625 65.921875 28.609375 65.921875 \nQ 23.96875 65.921875 18.8125 64.3125 \nQ 13.671875 62.703125 7.8125 59.421875 \nL 7.8125 69.390625 \nQ 13.765625 71.78125 18.9375 73 \nQ 24.125 74.21875 28.421875 74.21875 \nQ 39.75 74.21875 46.484375 68.546875 \nQ 53.21875 62.890625 53.21875 53.421875 \nQ 53.21875 48.921875 51.53125 44.890625 \nQ 49.859375 40.875 45.40625 35.40625 \nQ 44.1875 33.984375 37.640625 27.21875 \nQ 31.109375 20.453125 19.1875 8.296875 \nz\n\" id=\"DejaVuSans-50\"/>\n      </defs>\n      <g transform=\"translate(144.58821 406.564562)scale(0.1 -0.1)\">\n       <use xlink:href=\"#DejaVuSans-48\"/>\n       <use x=\"63.623047\" xlink:href=\"#DejaVuSans-46\"/>\n       <use x=\"95.410156\" xlink:href=\"#DejaVuSans-50\"/>\n      </g>\n     </g>\n    </g>\n    <g id=\"xtick_3\">\n     <g id=\"line2d_5\">\n      <path clip-path=\"url(#p849a6eca59)\" d=\"M 237.761591 391.966125 \nL 237.761591 22.318125 \n\" style=\"fill:none;stroke:#808080;stroke-linecap:square;stroke-opacity:0.5;stroke-width:0.25;\"/>\n     </g>\n     <g id=\"line2d_6\">\n      <g>\n       <use style=\"stroke:#000000;stroke-width:0.8;\" x=\"237.761591\" xlink:href=\"#m019154d662\" y=\"391.966125\"/>\n      </g>\n     </g>\n     <g id=\"text_3\">\n      <!-- 0.4 -->\n      <defs>\n       <path d=\"M 37.796875 64.3125 \nL 12.890625 25.390625 \nL 37.796875 25.390625 \nz\nM 35.203125 72.90625 \nL 47.609375 72.90625 \nL 47.609375 25.390625 \nL 58.015625 25.390625 \nL 58.015625 17.1875 \nL 47.609375 17.1875 \nL 47.609375 0 \nL 37.796875 0 \nL 37.796875 17.1875 \nL 4.890625 17.1875 \nL 4.890625 26.703125 \nz\n\" id=\"DejaVuSans-52\"/>\n      </defs>\n      <g transform=\"translate(229.810028 406.564562)scale(0.1 -0.1)\">\n       <use xlink:href=\"#DejaVuSans-48\"/>\n       <use x=\"63.623047\" xlink:href=\"#DejaVuSans-46\"/>\n       <use x=\"95.410156\" xlink:href=\"#DejaVuSans-52\"/>\n      </g>\n     </g>\n    </g>\n    <g id=\"xtick_4\">\n     <g id=\"line2d_7\">\n      <path clip-path=\"url(#p849a6eca59)\" d=\"M 322.983409 391.966125 \nL 322.983409 22.318125 \n\" style=\"fill:none;stroke:#808080;stroke-linecap:square;stroke-opacity:0.5;stroke-width:0.25;\"/>\n     </g>\n     <g id=\"line2d_8\">\n      <g>\n       <use style=\"stroke:#000000;stroke-width:0.8;\" x=\"322.983409\" xlink:href=\"#m019154d662\" y=\"391.966125\"/>\n      </g>\n     </g>\n     <g id=\"text_4\">\n      <!-- 0.6 -->\n      <defs>\n       <path d=\"M 33.015625 40.375 \nQ 26.375 40.375 22.484375 35.828125 \nQ 18.609375 31.296875 18.609375 23.390625 \nQ 18.609375 15.53125 22.484375 10.953125 \nQ 26.375 6.390625 33.015625 6.390625 \nQ 39.65625 6.390625 43.53125 10.953125 \nQ 47.40625 15.53125 47.40625 23.390625 \nQ 47.40625 31.296875 43.53125 35.828125 \nQ 39.65625 40.375 33.015625 40.375 \nz\nM 52.59375 71.296875 \nL 52.59375 62.3125 \nQ 48.875 64.0625 45.09375 64.984375 \nQ 41.3125 65.921875 37.59375 65.921875 \nQ 27.828125 65.921875 22.671875 59.328125 \nQ 17.53125 52.734375 16.796875 39.40625 \nQ 19.671875 43.65625 24.015625 45.921875 \nQ 28.375 48.1875 33.59375 48.1875 \nQ 44.578125 48.1875 50.953125 41.515625 \nQ 57.328125 34.859375 57.328125 23.390625 \nQ 57.328125 12.15625 50.6875 5.359375 \nQ 44.046875 -1.421875 33.015625 -1.421875 \nQ 20.359375 -1.421875 13.671875 8.265625 \nQ 6.984375 17.96875 6.984375 36.375 \nQ 6.984375 53.65625 15.1875 63.9375 \nQ 23.390625 74.21875 37.203125 74.21875 \nQ 40.921875 74.21875 44.703125 73.484375 \nQ 48.484375 72.75 52.59375 71.296875 \nz\n\" id=\"DejaVuSans-54\"/>\n      </defs>\n      <g transform=\"translate(315.031847 406.564562)scale(0.1 -0.1)\">\n       <use xlink:href=\"#DejaVuSans-48\"/>\n       <use x=\"63.623047\" xlink:href=\"#DejaVuSans-46\"/>\n       <use x=\"95.410156\" xlink:href=\"#DejaVuSans-54\"/>\n      </g>\n     </g>\n    </g>\n    <g id=\"xtick_5\">\n     <g id=\"line2d_9\">\n      <path clip-path=\"url(#p849a6eca59)\" d=\"M 408.205227 391.966125 \nL 408.205227 22.318125 \n\" style=\"fill:none;stroke:#808080;stroke-linecap:square;stroke-opacity:0.5;stroke-width:0.25;\"/>\n     </g>\n     <g id=\"line2d_10\">\n      <g>\n       <use style=\"stroke:#000000;stroke-width:0.8;\" x=\"408.205227\" xlink:href=\"#m019154d662\" y=\"391.966125\"/>\n      </g>\n     </g>\n     <g id=\"text_5\">\n      <!-- 0.8 -->\n      <defs>\n       <path d=\"M 31.78125 34.625 \nQ 24.75 34.625 20.71875 30.859375 \nQ 16.703125 27.09375 16.703125 20.515625 \nQ 16.703125 13.921875 20.71875 10.15625 \nQ 24.75 6.390625 31.78125 6.390625 \nQ 38.8125 6.390625 42.859375 10.171875 \nQ 46.921875 13.96875 46.921875 20.515625 \nQ 46.921875 27.09375 42.890625 30.859375 \nQ 38.875 34.625 31.78125 34.625 \nz\nM 21.921875 38.8125 \nQ 15.578125 40.375 12.03125 44.71875 \nQ 8.5 49.078125 8.5 55.328125 \nQ 8.5 64.0625 14.71875 69.140625 \nQ 20.953125 74.21875 31.78125 74.21875 \nQ 42.671875 74.21875 48.875 69.140625 \nQ 55.078125 64.0625 55.078125 55.328125 \nQ 55.078125 49.078125 51.53125 44.71875 \nQ 48 40.375 41.703125 38.8125 \nQ 48.828125 37.15625 52.796875 32.3125 \nQ 56.78125 27.484375 56.78125 20.515625 \nQ 56.78125 9.90625 50.3125 4.234375 \nQ 43.84375 -1.421875 31.78125 -1.421875 \nQ 19.734375 -1.421875 13.25 4.234375 \nQ 6.78125 9.90625 6.78125 20.515625 \nQ 6.78125 27.484375 10.78125 32.3125 \nQ 14.796875 37.15625 21.921875 38.8125 \nz\nM 18.3125 54.390625 \nQ 18.3125 48.734375 21.84375 45.5625 \nQ 25.390625 42.390625 31.78125 42.390625 \nQ 38.140625 42.390625 41.71875 45.5625 \nQ 45.3125 48.734375 45.3125 54.390625 \nQ 45.3125 60.0625 41.71875 63.234375 \nQ 38.140625 66.40625 31.78125 66.40625 \nQ 25.390625 66.40625 21.84375 63.234375 \nQ 18.3125 60.0625 18.3125 54.390625 \nz\n\" id=\"DejaVuSans-56\"/>\n      </defs>\n      <g transform=\"translate(400.253665 406.564562)scale(0.1 -0.1)\">\n       <use xlink:href=\"#DejaVuSans-48\"/>\n       <use x=\"63.623047\" xlink:href=\"#DejaVuSans-46\"/>\n       <use x=\"95.410156\" xlink:href=\"#DejaVuSans-56\"/>\n      </g>\n     </g>\n    </g>\n    <g id=\"xtick_6\">\n     <g id=\"line2d_11\">\n      <path clip-path=\"url(#p849a6eca59)\" d=\"M 493.427045 391.966125 \nL 493.427045 22.318125 \n\" style=\"fill:none;stroke:#808080;stroke-linecap:square;stroke-opacity:0.5;stroke-width:0.25;\"/>\n     </g>\n     <g id=\"line2d_12\">\n      <g>\n       <use style=\"stroke:#000000;stroke-width:0.8;\" x=\"493.427045\" xlink:href=\"#m019154d662\" y=\"391.966125\"/>\n      </g>\n     </g>\n     <g id=\"text_6\">\n      <!-- 1.0 -->\n      <defs>\n       <path d=\"M 12.40625 8.296875 \nL 28.515625 8.296875 \nL 28.515625 63.921875 \nL 10.984375 60.40625 \nL 10.984375 69.390625 \nL 28.421875 72.90625 \nL 38.28125 72.90625 \nL 38.28125 8.296875 \nL 54.390625 8.296875 \nL 54.390625 0 \nL 12.40625 0 \nz\n\" id=\"DejaVuSans-49\"/>\n      </defs>\n      <g transform=\"translate(485.475483 406.564562)scale(0.1 -0.1)\">\n       <use xlink:href=\"#DejaVuSans-49\"/>\n       <use x=\"63.623047\" xlink:href=\"#DejaVuSans-46\"/>\n       <use x=\"95.410156\" xlink:href=\"#DejaVuSans-48\"/>\n      </g>\n     </g>\n    </g>\n   </g>\n   <g id=\"matplotlib.axis_2\">\n    <g id=\"ytick_1\">\n     <g id=\"line2d_13\">\n      <path clip-path=\"url(#p849a6eca59)\" d=\"M 46.0125 391.966125 \nL 514.7325 391.966125 \n\" style=\"fill:none;stroke:#808080;stroke-linecap:square;stroke-opacity:0.5;stroke-width:0.25;\"/>\n     </g>\n     <g id=\"line2d_14\">\n      <defs>\n       <path d=\"M 0 0 \nL -3.5 0 \n\" id=\"m0f4ea1553e\" style=\"stroke:#000000;stroke-width:0.8;\"/>\n      </defs>\n      <g>\n       <use style=\"stroke:#000000;stroke-width:0.8;\" x=\"46.0125\" xlink:href=\"#m0f4ea1553e\" y=\"391.966125\"/>\n      </g>\n     </g>\n     <g id=\"text_7\">\n      <!-- 0 -->\n      <g transform=\"translate(32.65 395.765344)scale(0.1 -0.1)\">\n       <use xlink:href=\"#DejaVuSans-48\"/>\n      </g>\n     </g>\n    </g>\n    <g id=\"ytick_2\">\n     <g id=\"line2d_15\">\n      <path clip-path=\"url(#p849a6eca59)\" d=\"M 46.0125 350.480653 \nL 514.7325 350.480653 \n\" style=\"fill:none;stroke:#808080;stroke-linecap:square;stroke-opacity:0.5;stroke-width:0.25;\"/>\n     </g>\n     <g id=\"line2d_16\">\n      <g>\n       <use style=\"stroke:#000000;stroke-width:0.8;\" x=\"46.0125\" xlink:href=\"#m0f4ea1553e\" y=\"350.480653\"/>\n      </g>\n     </g>\n     <g id=\"text_8\">\n      <!-- 5000 -->\n      <defs>\n       <path d=\"M 10.796875 72.90625 \nL 49.515625 72.90625 \nL 49.515625 64.59375 \nL 19.828125 64.59375 \nL 19.828125 46.734375 \nQ 21.96875 47.46875 24.109375 47.828125 \nQ 26.265625 48.1875 28.421875 48.1875 \nQ 40.625 48.1875 47.75 41.5 \nQ 54.890625 34.8125 54.890625 23.390625 \nQ 54.890625 11.625 47.5625 5.09375 \nQ 40.234375 -1.421875 26.90625 -1.421875 \nQ 22.3125 -1.421875 17.546875 -0.640625 \nQ 12.796875 0.140625 7.71875 1.703125 \nL 7.71875 11.625 \nQ 12.109375 9.234375 16.796875 8.0625 \nQ 21.484375 6.890625 26.703125 6.890625 \nQ 35.15625 6.890625 40.078125 11.328125 \nQ 45.015625 15.765625 45.015625 23.390625 \nQ 45.015625 31 40.078125 35.4375 \nQ 35.15625 39.890625 26.703125 39.890625 \nQ 22.75 39.890625 18.8125 39.015625 \nQ 14.890625 38.140625 10.796875 36.28125 \nz\n\" id=\"DejaVuSans-53\"/>\n      </defs>\n      <g transform=\"translate(13.5625 354.279872)scale(0.1 -0.1)\">\n       <use xlink:href=\"#DejaVuSans-53\"/>\n       <use x=\"63.623047\" xlink:href=\"#DejaVuSans-48\"/>\n       <use x=\"127.246094\" xlink:href=\"#DejaVuSans-48\"/>\n       <use x=\"190.869141\" xlink:href=\"#DejaVuSans-48\"/>\n      </g>\n     </g>\n    </g>\n    <g id=\"ytick_3\">\n     <g id=\"line2d_17\">\n      <path clip-path=\"url(#p849a6eca59)\" d=\"M 46.0125 308.995181 \nL 514.7325 308.995181 \n\" style=\"fill:none;stroke:#808080;stroke-linecap:square;stroke-opacity:0.5;stroke-width:0.25;\"/>\n     </g>\n     <g id=\"line2d_18\">\n      <g>\n       <use style=\"stroke:#000000;stroke-width:0.8;\" x=\"46.0125\" xlink:href=\"#m0f4ea1553e\" y=\"308.995181\"/>\n      </g>\n     </g>\n     <g id=\"text_9\">\n      <!-- 10000 -->\n      <g transform=\"translate(7.2 312.7944)scale(0.1 -0.1)\">\n       <use xlink:href=\"#DejaVuSans-49\"/>\n       <use x=\"63.623047\" xlink:href=\"#DejaVuSans-48\"/>\n       <use x=\"127.246094\" xlink:href=\"#DejaVuSans-48\"/>\n       <use x=\"190.869141\" xlink:href=\"#DejaVuSans-48\"/>\n       <use x=\"254.492188\" xlink:href=\"#DejaVuSans-48\"/>\n      </g>\n     </g>\n    </g>\n    <g id=\"ytick_4\">\n     <g id=\"line2d_19\">\n      <path clip-path=\"url(#p849a6eca59)\" d=\"M 46.0125 267.509709 \nL 514.7325 267.509709 \n\" style=\"fill:none;stroke:#808080;stroke-linecap:square;stroke-opacity:0.5;stroke-width:0.25;\"/>\n     </g>\n     <g id=\"line2d_20\">\n      <g>\n       <use style=\"stroke:#000000;stroke-width:0.8;\" x=\"46.0125\" xlink:href=\"#m0f4ea1553e\" y=\"267.509709\"/>\n      </g>\n     </g>\n     <g id=\"text_10\">\n      <!-- 15000 -->\n      <g transform=\"translate(7.2 271.308928)scale(0.1 -0.1)\">\n       <use xlink:href=\"#DejaVuSans-49\"/>\n       <use x=\"63.623047\" xlink:href=\"#DejaVuSans-53\"/>\n       <use x=\"127.246094\" xlink:href=\"#DejaVuSans-48\"/>\n       <use x=\"190.869141\" xlink:href=\"#DejaVuSans-48\"/>\n       <use x=\"254.492188\" xlink:href=\"#DejaVuSans-48\"/>\n      </g>\n     </g>\n    </g>\n    <g id=\"ytick_5\">\n     <g id=\"line2d_21\">\n      <path clip-path=\"url(#p849a6eca59)\" d=\"M 46.0125 226.024238 \nL 514.7325 226.024238 \n\" style=\"fill:none;stroke:#808080;stroke-linecap:square;stroke-opacity:0.5;stroke-width:0.25;\"/>\n     </g>\n     <g id=\"line2d_22\">\n      <g>\n       <use style=\"stroke:#000000;stroke-width:0.8;\" x=\"46.0125\" xlink:href=\"#m0f4ea1553e\" y=\"226.024238\"/>\n      </g>\n     </g>\n     <g id=\"text_11\">\n      <!-- 20000 -->\n      <g transform=\"translate(7.2 229.823456)scale(0.1 -0.1)\">\n       <use xlink:href=\"#DejaVuSans-50\"/>\n       <use x=\"63.623047\" xlink:href=\"#DejaVuSans-48\"/>\n       <use x=\"127.246094\" xlink:href=\"#DejaVuSans-48\"/>\n       <use x=\"190.869141\" xlink:href=\"#DejaVuSans-48\"/>\n       <use x=\"254.492188\" xlink:href=\"#DejaVuSans-48\"/>\n      </g>\n     </g>\n    </g>\n    <g id=\"ytick_6\">\n     <g id=\"line2d_23\">\n      <path clip-path=\"url(#p849a6eca59)\" d=\"M 46.0125 184.538766 \nL 514.7325 184.538766 \n\" style=\"fill:none;stroke:#808080;stroke-linecap:square;stroke-opacity:0.5;stroke-width:0.25;\"/>\n     </g>\n     <g id=\"line2d_24\">\n      <g>\n       <use style=\"stroke:#000000;stroke-width:0.8;\" x=\"46.0125\" xlink:href=\"#m0f4ea1553e\" y=\"184.538766\"/>\n      </g>\n     </g>\n     <g id=\"text_12\">\n      <!-- 25000 -->\n      <g transform=\"translate(7.2 188.337984)scale(0.1 -0.1)\">\n       <use xlink:href=\"#DejaVuSans-50\"/>\n       <use x=\"63.623047\" xlink:href=\"#DejaVuSans-53\"/>\n       <use x=\"127.246094\" xlink:href=\"#DejaVuSans-48\"/>\n       <use x=\"190.869141\" xlink:href=\"#DejaVuSans-48\"/>\n       <use x=\"254.492188\" xlink:href=\"#DejaVuSans-48\"/>\n      </g>\n     </g>\n    </g>\n    <g id=\"ytick_7\">\n     <g id=\"line2d_25\">\n      <path clip-path=\"url(#p849a6eca59)\" d=\"M 46.0125 143.053294 \nL 514.7325 143.053294 \n\" style=\"fill:none;stroke:#808080;stroke-linecap:square;stroke-opacity:0.5;stroke-width:0.25;\"/>\n     </g>\n     <g id=\"line2d_26\">\n      <g>\n       <use style=\"stroke:#000000;stroke-width:0.8;\" x=\"46.0125\" xlink:href=\"#m0f4ea1553e\" y=\"143.053294\"/>\n      </g>\n     </g>\n     <g id=\"text_13\">\n      <!-- 30000 -->\n      <defs>\n       <path d=\"M 40.578125 39.3125 \nQ 47.65625 37.796875 51.625 33 \nQ 55.609375 28.21875 55.609375 21.1875 \nQ 55.609375 10.40625 48.1875 4.484375 \nQ 40.765625 -1.421875 27.09375 -1.421875 \nQ 22.515625 -1.421875 17.65625 -0.515625 \nQ 12.796875 0.390625 7.625 2.203125 \nL 7.625 11.71875 \nQ 11.71875 9.328125 16.59375 8.109375 \nQ 21.484375 6.890625 26.8125 6.890625 \nQ 36.078125 6.890625 40.9375 10.546875 \nQ 45.796875 14.203125 45.796875 21.1875 \nQ 45.796875 27.640625 41.28125 31.265625 \nQ 36.765625 34.90625 28.71875 34.90625 \nL 20.21875 34.90625 \nL 20.21875 43.015625 \nL 29.109375 43.015625 \nQ 36.375 43.015625 40.234375 45.921875 \nQ 44.09375 48.828125 44.09375 54.296875 \nQ 44.09375 59.90625 40.109375 62.90625 \nQ 36.140625 65.921875 28.71875 65.921875 \nQ 24.65625 65.921875 20.015625 65.03125 \nQ 15.375 64.15625 9.8125 62.3125 \nL 9.8125 71.09375 \nQ 15.4375 72.65625 20.34375 73.4375 \nQ 25.25 74.21875 29.59375 74.21875 \nQ 40.828125 74.21875 47.359375 69.109375 \nQ 53.90625 64.015625 53.90625 55.328125 \nQ 53.90625 49.265625 50.4375 45.09375 \nQ 46.96875 40.921875 40.578125 39.3125 \nz\n\" id=\"DejaVuSans-51\"/>\n      </defs>\n      <g transform=\"translate(7.2 146.852513)scale(0.1 -0.1)\">\n       <use xlink:href=\"#DejaVuSans-51\"/>\n       <use x=\"63.623047\" xlink:href=\"#DejaVuSans-48\"/>\n       <use x=\"127.246094\" xlink:href=\"#DejaVuSans-48\"/>\n       <use x=\"190.869141\" xlink:href=\"#DejaVuSans-48\"/>\n       <use x=\"254.492188\" xlink:href=\"#DejaVuSans-48\"/>\n      </g>\n     </g>\n    </g>\n    <g id=\"ytick_8\">\n     <g id=\"line2d_27\">\n      <path clip-path=\"url(#p849a6eca59)\" d=\"M 46.0125 101.567822 \nL 514.7325 101.567822 \n\" style=\"fill:none;stroke:#808080;stroke-linecap:square;stroke-opacity:0.5;stroke-width:0.25;\"/>\n     </g>\n     <g id=\"line2d_28\">\n      <g>\n       <use style=\"stroke:#000000;stroke-width:0.8;\" x=\"46.0125\" xlink:href=\"#m0f4ea1553e\" y=\"101.567822\"/>\n      </g>\n     </g>\n     <g id=\"text_14\">\n      <!-- 35000 -->\n      <g transform=\"translate(7.2 105.367041)scale(0.1 -0.1)\">\n       <use xlink:href=\"#DejaVuSans-51\"/>\n       <use x=\"63.623047\" xlink:href=\"#DejaVuSans-53\"/>\n       <use x=\"127.246094\" xlink:href=\"#DejaVuSans-48\"/>\n       <use x=\"190.869141\" xlink:href=\"#DejaVuSans-48\"/>\n       <use x=\"254.492188\" xlink:href=\"#DejaVuSans-48\"/>\n      </g>\n     </g>\n    </g>\n    <g id=\"ytick_9\">\n     <g id=\"line2d_29\">\n      <path clip-path=\"url(#p849a6eca59)\" d=\"M 46.0125 60.08235 \nL 514.7325 60.08235 \n\" style=\"fill:none;stroke:#808080;stroke-linecap:square;stroke-opacity:0.5;stroke-width:0.25;\"/>\n     </g>\n     <g id=\"line2d_30\">\n      <g>\n       <use style=\"stroke:#000000;stroke-width:0.8;\" x=\"46.0125\" xlink:href=\"#m0f4ea1553e\" y=\"60.08235\"/>\n      </g>\n     </g>\n     <g id=\"text_15\">\n      <!-- 40000 -->\n      <g transform=\"translate(7.2 63.881569)scale(0.1 -0.1)\">\n       <use xlink:href=\"#DejaVuSans-52\"/>\n       <use x=\"63.623047\" xlink:href=\"#DejaVuSans-48\"/>\n       <use x=\"127.246094\" xlink:href=\"#DejaVuSans-48\"/>\n       <use x=\"190.869141\" xlink:href=\"#DejaVuSans-48\"/>\n       <use x=\"254.492188\" xlink:href=\"#DejaVuSans-48\"/>\n      </g>\n     </g>\n    </g>\n   </g>\n   <g id=\"patch_13\">\n    <path d=\"M 46.0125 391.966125 \nL 46.0125 22.318125 \n\" style=\"fill:none;stroke:#000000;stroke-linecap:square;stroke-linejoin:miter;stroke-width:0.8;\"/>\n   </g>\n   <g id=\"patch_14\">\n    <path d=\"M 514.7325 391.966125 \nL 514.7325 22.318125 \n\" style=\"fill:none;stroke:#000000;stroke-linecap:square;stroke-linejoin:miter;stroke-width:0.8;\"/>\n   </g>\n   <g id=\"patch_15\">\n    <path d=\"M 46.0125 391.966125 \nL 514.7325 391.966125 \n\" style=\"fill:none;stroke:#000000;stroke-linecap:square;stroke-linejoin:miter;stroke-width:0.8;\"/>\n   </g>\n   <g id=\"patch_16\">\n    <path d=\"M 46.0125 22.318125 \nL 514.7325 22.318125 \n\" style=\"fill:none;stroke:#000000;stroke-linecap:square;stroke-linejoin:miter;stroke-width:0.8;\"/>\n   </g>\n   <g id=\"text_16\">\n    <!-- Distribution of Oversampled Data -->\n    <defs>\n     <path d=\"M 19.671875 64.796875 \nL 19.671875 8.109375 \nL 31.59375 8.109375 \nQ 46.6875 8.109375 53.6875 14.9375 \nQ 60.6875 21.78125 60.6875 36.53125 \nQ 60.6875 51.171875 53.6875 57.984375 \nQ 46.6875 64.796875 31.59375 64.796875 \nz\nM 9.8125 72.90625 \nL 30.078125 72.90625 \nQ 51.265625 72.90625 61.171875 64.09375 \nQ 71.09375 55.28125 71.09375 36.53125 \nQ 71.09375 17.671875 61.125 8.828125 \nQ 51.171875 0 30.078125 0 \nL 9.8125 0 \nz\n\" id=\"DejaVuSans-68\"/>\n     <path d=\"M 9.421875 54.6875 \nL 18.40625 54.6875 \nL 18.40625 0 \nL 9.421875 0 \nz\nM 9.421875 75.984375 \nL 18.40625 75.984375 \nL 18.40625 64.59375 \nL 9.421875 64.59375 \nz\n\" id=\"DejaVuSans-105\"/>\n     <path d=\"M 44.28125 53.078125 \nL 44.28125 44.578125 \nQ 40.484375 46.53125 36.375 47.5 \nQ 32.28125 48.484375 27.875 48.484375 \nQ 21.1875 48.484375 17.84375 46.4375 \nQ 14.5 44.390625 14.5 40.28125 \nQ 14.5 37.15625 16.890625 35.375 \nQ 19.28125 33.59375 26.515625 31.984375 \nL 29.59375 31.296875 \nQ 39.15625 29.25 43.1875 25.515625 \nQ 47.21875 21.78125 47.21875 15.09375 \nQ 47.21875 7.46875 41.1875 3.015625 \nQ 35.15625 -1.421875 24.609375 -1.421875 \nQ 20.21875 -1.421875 15.453125 -0.5625 \nQ 10.6875 0.296875 5.421875 2 \nL 5.421875 11.28125 \nQ 10.40625 8.6875 15.234375 7.390625 \nQ 20.0625 6.109375 24.8125 6.109375 \nQ 31.15625 6.109375 34.5625 8.28125 \nQ 37.984375 10.453125 37.984375 14.40625 \nQ 37.984375 18.0625 35.515625 20.015625 \nQ 33.0625 21.96875 24.703125 23.78125 \nL 21.578125 24.515625 \nQ 13.234375 26.265625 9.515625 29.90625 \nQ 5.8125 33.546875 5.8125 39.890625 \nQ 5.8125 47.609375 11.28125 51.796875 \nQ 16.75 56 26.8125 56 \nQ 31.78125 56 36.171875 55.265625 \nQ 40.578125 54.546875 44.28125 53.078125 \nz\n\" id=\"DejaVuSans-115\"/>\n     <path d=\"M 18.3125 70.21875 \nL 18.3125 54.6875 \nL 36.8125 54.6875 \nL 36.8125 47.703125 \nL 18.3125 47.703125 \nL 18.3125 18.015625 \nQ 18.3125 11.328125 20.140625 9.421875 \nQ 21.96875 7.515625 27.59375 7.515625 \nL 36.8125 7.515625 \nL 36.8125 0 \nL 27.59375 0 \nQ 17.1875 0 13.234375 3.875 \nQ 9.28125 7.765625 9.28125 18.015625 \nL 9.28125 47.703125 \nL 2.6875 47.703125 \nL 2.6875 54.6875 \nL 9.28125 54.6875 \nL 9.28125 70.21875 \nz\n\" id=\"DejaVuSans-116\"/>\n     <path d=\"M 41.109375 46.296875 \nQ 39.59375 47.171875 37.8125 47.578125 \nQ 36.03125 48 33.890625 48 \nQ 26.265625 48 22.1875 43.046875 \nQ 18.109375 38.09375 18.109375 28.8125 \nL 18.109375 0 \nL 9.078125 0 \nL 9.078125 54.6875 \nL 18.109375 54.6875 \nL 18.109375 46.1875 \nQ 20.953125 51.171875 25.484375 53.578125 \nQ 30.03125 56 36.53125 56 \nQ 37.453125 56 38.578125 55.875 \nQ 39.703125 55.765625 41.0625 55.515625 \nz\n\" id=\"DejaVuSans-114\"/>\n     <path d=\"M 48.6875 27.296875 \nQ 48.6875 37.203125 44.609375 42.84375 \nQ 40.53125 48.484375 33.40625 48.484375 \nQ 26.265625 48.484375 22.1875 42.84375 \nQ 18.109375 37.203125 18.109375 27.296875 \nQ 18.109375 17.390625 22.1875 11.75 \nQ 26.265625 6.109375 33.40625 6.109375 \nQ 40.53125 6.109375 44.609375 11.75 \nQ 48.6875 17.390625 48.6875 27.296875 \nz\nM 18.109375 46.390625 \nQ 20.953125 51.265625 25.265625 53.625 \nQ 29.59375 56 35.59375 56 \nQ 45.5625 56 51.78125 48.09375 \nQ 58.015625 40.1875 58.015625 27.296875 \nQ 58.015625 14.40625 51.78125 6.484375 \nQ 45.5625 -1.421875 35.59375 -1.421875 \nQ 29.59375 -1.421875 25.265625 0.953125 \nQ 20.953125 3.328125 18.109375 8.203125 \nL 18.109375 0 \nL 9.078125 0 \nL 9.078125 75.984375 \nL 18.109375 75.984375 \nz\n\" id=\"DejaVuSans-98\"/>\n     <path d=\"M 8.5 21.578125 \nL 8.5 54.6875 \nL 17.484375 54.6875 \nL 17.484375 21.921875 \nQ 17.484375 14.15625 20.5 10.265625 \nQ 23.53125 6.390625 29.59375 6.390625 \nQ 36.859375 6.390625 41.078125 11.03125 \nQ 45.3125 15.671875 45.3125 23.6875 \nL 45.3125 54.6875 \nL 54.296875 54.6875 \nL 54.296875 0 \nL 45.3125 0 \nL 45.3125 8.40625 \nQ 42.046875 3.421875 37.71875 1 \nQ 33.40625 -1.421875 27.6875 -1.421875 \nQ 18.265625 -1.421875 13.375 4.4375 \nQ 8.5 10.296875 8.5 21.578125 \nz\nM 31.109375 56 \nz\n\" id=\"DejaVuSans-117\"/>\n     <path d=\"M 30.609375 48.390625 \nQ 23.390625 48.390625 19.1875 42.75 \nQ 14.984375 37.109375 14.984375 27.296875 \nQ 14.984375 17.484375 19.15625 11.84375 \nQ 23.34375 6.203125 30.609375 6.203125 \nQ 37.796875 6.203125 41.984375 11.859375 \nQ 46.1875 17.53125 46.1875 27.296875 \nQ 46.1875 37.015625 41.984375 42.703125 \nQ 37.796875 48.390625 30.609375 48.390625 \nz\nM 30.609375 56 \nQ 42.328125 56 49.015625 48.375 \nQ 55.71875 40.765625 55.71875 27.296875 \nQ 55.71875 13.875 49.015625 6.21875 \nQ 42.328125 -1.421875 30.609375 -1.421875 \nQ 18.84375 -1.421875 12.171875 6.21875 \nQ 5.515625 13.875 5.515625 27.296875 \nQ 5.515625 40.765625 12.171875 48.375 \nQ 18.84375 56 30.609375 56 \nz\n\" id=\"DejaVuSans-111\"/>\n     <path d=\"M 54.890625 33.015625 \nL 54.890625 0 \nL 45.90625 0 \nL 45.90625 32.71875 \nQ 45.90625 40.484375 42.875 44.328125 \nQ 39.84375 48.1875 33.796875 48.1875 \nQ 26.515625 48.1875 22.3125 43.546875 \nQ 18.109375 38.921875 18.109375 30.90625 \nL 18.109375 0 \nL 9.078125 0 \nL 9.078125 54.6875 \nL 18.109375 54.6875 \nL 18.109375 46.1875 \nQ 21.34375 51.125 25.703125 53.5625 \nQ 30.078125 56 35.796875 56 \nQ 45.21875 56 50.046875 50.171875 \nQ 54.890625 44.34375 54.890625 33.015625 \nz\n\" id=\"DejaVuSans-110\"/>\n     <path id=\"DejaVuSans-32\"/>\n     <path d=\"M 37.109375 75.984375 \nL 37.109375 68.5 \nL 28.515625 68.5 \nQ 23.6875 68.5 21.796875 66.546875 \nQ 19.921875 64.59375 19.921875 59.515625 \nL 19.921875 54.6875 \nL 34.71875 54.6875 \nL 34.71875 47.703125 \nL 19.921875 47.703125 \nL 19.921875 0 \nL 10.890625 0 \nL 10.890625 47.703125 \nL 2.296875 47.703125 \nL 2.296875 54.6875 \nL 10.890625 54.6875 \nL 10.890625 58.5 \nQ 10.890625 67.625 15.140625 71.796875 \nQ 19.390625 75.984375 28.609375 75.984375 \nz\n\" id=\"DejaVuSans-102\"/>\n     <path d=\"M 39.40625 66.21875 \nQ 28.65625 66.21875 22.328125 58.203125 \nQ 16.015625 50.203125 16.015625 36.375 \nQ 16.015625 22.609375 22.328125 14.59375 \nQ 28.65625 6.59375 39.40625 6.59375 \nQ 50.140625 6.59375 56.421875 14.59375 \nQ 62.703125 22.609375 62.703125 36.375 \nQ 62.703125 50.203125 56.421875 58.203125 \nQ 50.140625 66.21875 39.40625 66.21875 \nz\nM 39.40625 74.21875 \nQ 54.734375 74.21875 63.90625 63.9375 \nQ 73.09375 53.65625 73.09375 36.375 \nQ 73.09375 19.140625 63.90625 8.859375 \nQ 54.734375 -1.421875 39.40625 -1.421875 \nQ 24.03125 -1.421875 14.8125 8.828125 \nQ 5.609375 19.09375 5.609375 36.375 \nQ 5.609375 53.65625 14.8125 63.9375 \nQ 24.03125 74.21875 39.40625 74.21875 \nz\n\" id=\"DejaVuSans-79\"/>\n     <path d=\"M 2.984375 54.6875 \nL 12.5 54.6875 \nL 29.59375 8.796875 \nL 46.6875 54.6875 \nL 56.203125 54.6875 \nL 35.6875 0 \nL 23.484375 0 \nz\n\" id=\"DejaVuSans-118\"/>\n     <path d=\"M 56.203125 29.59375 \nL 56.203125 25.203125 \nL 14.890625 25.203125 \nQ 15.484375 15.921875 20.484375 11.0625 \nQ 25.484375 6.203125 34.421875 6.203125 \nQ 39.59375 6.203125 44.453125 7.46875 \nQ 49.3125 8.734375 54.109375 11.28125 \nL 54.109375 2.78125 \nQ 49.265625 0.734375 44.1875 -0.34375 \nQ 39.109375 -1.421875 33.890625 -1.421875 \nQ 20.796875 -1.421875 13.15625 6.1875 \nQ 5.515625 13.8125 5.515625 26.8125 \nQ 5.515625 40.234375 12.765625 48.109375 \nQ 20.015625 56 32.328125 56 \nQ 43.359375 56 49.78125 48.890625 \nQ 56.203125 41.796875 56.203125 29.59375 \nz\nM 47.21875 32.234375 \nQ 47.125 39.59375 43.09375 43.984375 \nQ 39.0625 48.390625 32.421875 48.390625 \nQ 24.90625 48.390625 20.390625 44.140625 \nQ 15.875 39.890625 15.1875 32.171875 \nz\n\" id=\"DejaVuSans-101\"/>\n     <path d=\"M 34.28125 27.484375 \nQ 23.390625 27.484375 19.1875 25 \nQ 14.984375 22.515625 14.984375 16.5 \nQ 14.984375 11.71875 18.140625 8.90625 \nQ 21.296875 6.109375 26.703125 6.109375 \nQ 34.1875 6.109375 38.703125 11.40625 \nQ 43.21875 16.703125 43.21875 25.484375 \nL 43.21875 27.484375 \nz\nM 52.203125 31.203125 \nL 52.203125 0 \nL 43.21875 0 \nL 43.21875 8.296875 \nQ 40.140625 3.328125 35.546875 0.953125 \nQ 30.953125 -1.421875 24.3125 -1.421875 \nQ 15.921875 -1.421875 10.953125 3.296875 \nQ 6 8.015625 6 15.921875 \nQ 6 25.140625 12.171875 29.828125 \nQ 18.359375 34.515625 30.609375 34.515625 \nL 43.21875 34.515625 \nL 43.21875 35.40625 \nQ 43.21875 41.609375 39.140625 45 \nQ 35.0625 48.390625 27.6875 48.390625 \nQ 23 48.390625 18.546875 47.265625 \nQ 14.109375 46.140625 10.015625 43.890625 \nL 10.015625 52.203125 \nQ 14.9375 54.109375 19.578125 55.046875 \nQ 24.21875 56 28.609375 56 \nQ 40.484375 56 46.34375 49.84375 \nQ 52.203125 43.703125 52.203125 31.203125 \nz\n\" id=\"DejaVuSans-97\"/>\n     <path d=\"M 52 44.1875 \nQ 55.375 50.25 60.0625 53.125 \nQ 64.75 56 71.09375 56 \nQ 79.640625 56 84.28125 50.015625 \nQ 88.921875 44.046875 88.921875 33.015625 \nL 88.921875 0 \nL 79.890625 0 \nL 79.890625 32.71875 \nQ 79.890625 40.578125 77.09375 44.375 \nQ 74.3125 48.1875 68.609375 48.1875 \nQ 61.625 48.1875 57.5625 43.546875 \nQ 53.515625 38.921875 53.515625 30.90625 \nL 53.515625 0 \nL 44.484375 0 \nL 44.484375 32.71875 \nQ 44.484375 40.625 41.703125 44.40625 \nQ 38.921875 48.1875 33.109375 48.1875 \nQ 26.21875 48.1875 22.15625 43.53125 \nQ 18.109375 38.875 18.109375 30.90625 \nL 18.109375 0 \nL 9.078125 0 \nL 9.078125 54.6875 \nL 18.109375 54.6875 \nL 18.109375 46.1875 \nQ 21.1875 51.21875 25.484375 53.609375 \nQ 29.78125 56 35.6875 56 \nQ 41.65625 56 45.828125 52.96875 \nQ 50 49.953125 52 44.1875 \nz\n\" id=\"DejaVuSans-109\"/>\n     <path d=\"M 18.109375 8.203125 \nL 18.109375 -20.796875 \nL 9.078125 -20.796875 \nL 9.078125 54.6875 \nL 18.109375 54.6875 \nL 18.109375 46.390625 \nQ 20.953125 51.265625 25.265625 53.625 \nQ 29.59375 56 35.59375 56 \nQ 45.5625 56 51.78125 48.09375 \nQ 58.015625 40.1875 58.015625 27.296875 \nQ 58.015625 14.40625 51.78125 6.484375 \nQ 45.5625 -1.421875 35.59375 -1.421875 \nQ 29.59375 -1.421875 25.265625 0.953125 \nQ 20.953125 3.328125 18.109375 8.203125 \nz\nM 48.6875 27.296875 \nQ 48.6875 37.203125 44.609375 42.84375 \nQ 40.53125 48.484375 33.40625 48.484375 \nQ 26.265625 48.484375 22.1875 42.84375 \nQ 18.109375 37.203125 18.109375 27.296875 \nQ 18.109375 17.390625 22.1875 11.75 \nQ 26.265625 6.109375 33.40625 6.109375 \nQ 40.53125 6.109375 44.609375 11.75 \nQ 48.6875 17.390625 48.6875 27.296875 \nz\n\" id=\"DejaVuSans-112\"/>\n     <path d=\"M 9.421875 75.984375 \nL 18.40625 75.984375 \nL 18.40625 0 \nL 9.421875 0 \nz\n\" id=\"DejaVuSans-108\"/>\n     <path d=\"M 45.40625 46.390625 \nL 45.40625 75.984375 \nL 54.390625 75.984375 \nL 54.390625 0 \nL 45.40625 0 \nL 45.40625 8.203125 \nQ 42.578125 3.328125 38.25 0.953125 \nQ 33.9375 -1.421875 27.875 -1.421875 \nQ 17.96875 -1.421875 11.734375 6.484375 \nQ 5.515625 14.40625 5.515625 27.296875 \nQ 5.515625 40.1875 11.734375 48.09375 \nQ 17.96875 56 27.875 56 \nQ 33.9375 56 38.25 53.625 \nQ 42.578125 51.265625 45.40625 46.390625 \nz\nM 14.796875 27.296875 \nQ 14.796875 17.390625 18.875 11.75 \nQ 22.953125 6.109375 30.078125 6.109375 \nQ 37.203125 6.109375 41.296875 11.75 \nQ 45.40625 17.390625 45.40625 27.296875 \nQ 45.40625 37.203125 41.296875 42.84375 \nQ 37.203125 48.484375 30.078125 48.484375 \nQ 22.953125 48.484375 18.875 42.84375 \nQ 14.796875 37.203125 14.796875 27.296875 \nz\n\" id=\"DejaVuSans-100\"/>\n    </defs>\n    <g transform=\"translate(179.483438 16.318125)scale(0.12 -0.12)\">\n     <use xlink:href=\"#DejaVuSans-68\"/>\n     <use x=\"77.001953\" xlink:href=\"#DejaVuSans-105\"/>\n     <use x=\"104.785156\" xlink:href=\"#DejaVuSans-115\"/>\n     <use x=\"156.884766\" xlink:href=\"#DejaVuSans-116\"/>\n     <use x=\"196.09375\" xlink:href=\"#DejaVuSans-114\"/>\n     <use x=\"237.207031\" xlink:href=\"#DejaVuSans-105\"/>\n     <use x=\"264.990234\" xlink:href=\"#DejaVuSans-98\"/>\n     <use x=\"328.466797\" xlink:href=\"#DejaVuSans-117\"/>\n     <use x=\"391.845703\" xlink:href=\"#DejaVuSans-116\"/>\n     <use x=\"431.054688\" xlink:href=\"#DejaVuSans-105\"/>\n     <use x=\"458.837891\" xlink:href=\"#DejaVuSans-111\"/>\n     <use x=\"520.019531\" xlink:href=\"#DejaVuSans-110\"/>\n     <use x=\"583.398438\" xlink:href=\"#DejaVuSans-32\"/>\n     <use x=\"615.185547\" xlink:href=\"#DejaVuSans-111\"/>\n     <use x=\"676.367188\" xlink:href=\"#DejaVuSans-102\"/>\n     <use x=\"711.572266\" xlink:href=\"#DejaVuSans-32\"/>\n     <use x=\"743.359375\" xlink:href=\"#DejaVuSans-79\"/>\n     <use x=\"822.070312\" xlink:href=\"#DejaVuSans-118\"/>\n     <use x=\"881.25\" xlink:href=\"#DejaVuSans-101\"/>\n     <use x=\"942.773438\" xlink:href=\"#DejaVuSans-114\"/>\n     <use x=\"983.886719\" xlink:href=\"#DejaVuSans-115\"/>\n     <use x=\"1035.986328\" xlink:href=\"#DejaVuSans-97\"/>\n     <use x=\"1097.265625\" xlink:href=\"#DejaVuSans-109\"/>\n     <use x=\"1194.677734\" xlink:href=\"#DejaVuSans-112\"/>\n     <use x=\"1258.154297\" xlink:href=\"#DejaVuSans-108\"/>\n     <use x=\"1285.9375\" xlink:href=\"#DejaVuSans-101\"/>\n     <use x=\"1347.460938\" xlink:href=\"#DejaVuSans-100\"/>\n     <use x=\"1410.9375\" xlink:href=\"#DejaVuSans-32\"/>\n     <use x=\"1442.724609\" xlink:href=\"#DejaVuSans-68\"/>\n     <use x=\"1519.726562\" xlink:href=\"#DejaVuSans-97\"/>\n     <use x=\"1581.005859\" xlink:href=\"#DejaVuSans-116\"/>\n     <use x=\"1620.214844\" xlink:href=\"#DejaVuSans-97\"/>\n    </g>\n   </g>\n  </g>\n </g>\n <defs>\n  <clipPath id=\"p849a6eca59\">\n   <rect height=\"369.648\" width=\"468.72\" x=\"46.0125\" y=\"22.318125\"/>\n  </clipPath>\n </defs>\n</svg>\n",
      "image/png": "[encoded data removed]"
     },
     "metadata": {
      "needs_background": "light"
     }
    }
   ],
   "source": [
    "# Visualizing the new distribution of the RESPONSE column\n",
    "plt.figure(figsize=(8.4, 6.8))\n",
    "y_train_over.hist()\n",
    "ax = plt.gca()\n",
    "ax.set_facecolor('#ebedf0')\n",
    "plt.title(\"Distribution of Oversampled Data\")\n",
    "plt.grid(color='grey', linestyle='-', linewidth=0.25, alpha=0.5)\n",
    "plt.savefig('images/over_hist')"
   ]
  },
  {
   "cell_type": "code",
   "execution_count": 12,
   "metadata": {},
   "outputs": [
    {
     "output_type": "execute_result",
     "data": {
      "text/plain": "   AGER_TYP  AKT_DAT_KL  ALTER_HH  ALTERSKATEGORIE_FEIN  ANZ_HAUSHALTE_AKTIV  \\\n0         2         1.0       8.0                   8.0                 15.0   \n1         1         4.0      13.0                  13.0                  1.0   \n2         1         1.0       9.0                   7.0                  0.0   \n3         2         1.0       6.0                   6.0                  4.0   \n4         2         1.0       9.0                   9.0                 53.0   \n\n   ANZ_HH_TITEL  ANZ_KINDER  ANZ_PERSONEN  ANZ_STATISTISCHE_HAUSHALTE  \\\n0           0.0         0.0           1.0                        13.0   \n1           0.0         0.0           2.0                         1.0   \n2          -1.0         0.0           0.0                         1.0   \n3           0.0         0.0           2.0                         4.0   \n4           0.0         0.0           1.0                        44.0   \n\n   ANZ_TITEL  ...  VHN  VK_DHT4A  VK_DISTANZ  VK_ZG11  W_KEIT_KIND_HH  \\\n0        0.0  ...  2.0       5.0         2.0      1.0             6.0   \n1        0.0  ...  3.0       1.0         2.0      1.0             4.0   \n2        0.0  ...  1.0       6.0         4.0      2.0            -1.0   \n3        0.0  ...  4.0       8.0        11.0     11.0             6.0   \n4        0.0  ...  4.0       2.0         2.0      1.0             6.0   \n\n   WOHNDAUER_2008  WOHNLAGE  ZABEOTYP  ANREDE_KZ  ALTERSKATEGORIE_GROB  \n0             9.0       3.0         3          2                     4  \n1             9.0       7.0         1          2                     3  \n2             9.0       2.0         3          1                     4  \n3             9.0       1.0         3          2                     4  \n4             9.0       3.0         3          1                     3  \n\n[5 rows x 358 columns]",
      "text/html": "<div>\n<style scoped>\n    .dataframe tbody tr th:only-of-type {\n        vertical-align: middle;\n    }\n\n    .dataframe tbody tr th {\n        vertical-align: top;\n    }\n\n    .dataframe thead th {\n        text-align: right;\n    }\n</style>\n<table border=\"1\" class=\"dataframe\">\n  <thead>\n    <tr style=\"text-align: right;\">\n      <th></th>\n      <th>AGER_TYP</th>\n      <th>AKT_DAT_KL</th>\n      <th>ALTER_HH</th>\n      <th>ALTERSKATEGORIE_FEIN</th>\n      <th>ANZ_HAUSHALTE_AKTIV</th>\n      <th>ANZ_HH_TITEL</th>\n      <th>ANZ_KINDER</th>\n      <th>ANZ_PERSONEN</th>\n      <th>ANZ_STATISTISCHE_HAUSHALTE</th>\n      <th>ANZ_TITEL</th>\n      <th>...</th>\n      <th>VHN</th>\n      <th>VK_DHT4A</th>\n      <th>VK_DISTANZ</th>\n      <th>VK_ZG11</th>\n      <th>W_KEIT_KIND_HH</th>\n      <th>WOHNDAUER_2008</th>\n      <th>WOHNLAGE</th>\n      <th>ZABEOTYP</th>\n      <th>ANREDE_KZ</th>\n      <th>ALTERSKATEGORIE_GROB</th>\n    </tr>\n  </thead>\n  <tbody>\n    <tr>\n      <th>0</th>\n      <td>2</td>\n      <td>1.0</td>\n      <td>8.0</td>\n      <td>8.0</td>\n      <td>15.0</td>\n      <td>0.0</td>\n      <td>0.0</td>\n      <td>1.0</td>\n      <td>13.0</td>\n      <td>0.0</td>\n      <td>...</td>\n      <td>2.0</td>\n      <td>5.0</td>\n      <td>2.0</td>\n      <td>1.0</td>\n      <td>6.0</td>\n      <td>9.0</td>\n      <td>3.0</td>\n      <td>3</td>\n      <td>2</td>\n      <td>4</td>\n    </tr>\n    <tr>\n      <th>1</th>\n      <td>1</td>\n      <td>4.0</td>\n      <td>13.0</td>\n      <td>13.0</td>\n      <td>1.0</td>\n      <td>0.0</td>\n      <td>0.0</td>\n      <td>2.0</td>\n      <td>1.0</td>\n      <td>0.0</td>\n      <td>...</td>\n      <td>3.0</td>\n      <td>1.0</td>\n      <td>2.0</td>\n      <td>1.0</td>\n      <td>4.0</td>\n      <td>9.0</td>\n      <td>7.0</td>\n      <td>1</td>\n      <td>2</td>\n      <td>3</td>\n    </tr>\n    <tr>\n      <th>2</th>\n      <td>1</td>\n      <td>1.0</td>\n      <td>9.0</td>\n      <td>7.0</td>\n      <td>0.0</td>\n      <td>-1.0</td>\n      <td>0.0</td>\n      <td>0.0</td>\n      <td>1.0</td>\n      <td>0.0</td>\n      <td>...</td>\n      <td>1.0</td>\n      <td>6.0</td>\n      <td>4.0</td>\n      <td>2.0</td>\n      <td>-1.0</td>\n      <td>9.0</td>\n      <td>2.0</td>\n      <td>3</td>\n      <td>1</td>\n      <td>4</td>\n    </tr>\n    <tr>\n      <th>3</th>\n      <td>2</td>\n      <td>1.0</td>\n      <td>6.0</td>\n      <td>6.0</td>\n      <td>4.0</td>\n      <td>0.0</td>\n      <td>0.0</td>\n      <td>2.0</td>\n      <td>4.0</td>\n      <td>0.0</td>\n      <td>...</td>\n      <td>4.0</td>\n      <td>8.0</td>\n      <td>11.0</td>\n      <td>11.0</td>\n      <td>6.0</td>\n      <td>9.0</td>\n      <td>1.0</td>\n      <td>3</td>\n      <td>2</td>\n      <td>4</td>\n    </tr>\n    <tr>\n      <th>4</th>\n      <td>2</td>\n      <td>1.0</td>\n      <td>9.0</td>\n      <td>9.0</td>\n      <td>53.0</td>\n      <td>0.0</td>\n      <td>0.0</td>\n      <td>1.0</td>\n      <td>44.0</td>\n      <td>0.0</td>\n      <td>...</td>\n      <td>4.0</td>\n      <td>2.0</td>\n      <td>2.0</td>\n      <td>1.0</td>\n      <td>6.0</td>\n      <td>9.0</td>\n      <td>3.0</td>\n      <td>3</td>\n      <td>1</td>\n      <td>3</td>\n    </tr>\n  </tbody>\n</table>\n<p>5 rows × 358 columns</p>\n</div>"
     },
     "metadata": {},
     "execution_count": 12
    }
   ],
   "source": [
    "X_train_over.head()"
   ]
  },
  {
   "cell_type": "code",
   "execution_count": 13,
   "metadata": {},
   "outputs": [],
   "source": [
    "# Retraining the baseline with the balanced data\n",
    "\n",
    "# Creating the logistic regression model with lasso regularization\n",
    "lr_baseline = LogisticRegression(penalty='l1',\n",
    "                                 class_weight='balanced',\n",
    "                                 solver='saga',\n",
    "                                 max_iter=10000)"
   ]
  },
  {
   "cell_type": "code",
   "execution_count": 19,
   "metadata": {},
   "outputs": [
    {
     "output_type": "execute_result",
     "data": {
      "text/plain": "LogisticRegression(class_weight='balanced', max_iter=10000, penalty='l1',\n                   solver='saga')"
     },
     "metadata": {},
     "execution_count": 19
    }
   ],
   "source": [
    "# Training the baseline model with the balanced data\n",
    "lr_baseline.fit(X_train_over, y_train_over)"
   ]
  },
  {
   "cell_type": "code",
   "execution_count": 20,
   "metadata": {},
   "outputs": [],
   "source": [
    "# Getting predictions for the training set\n",
    "y_pred = lr_baseline.predict(X_train_over)"
   ]
  },
  {
   "cell_type": "code",
   "execution_count": 21,
   "metadata": {
    "tags": []
   },
   "outputs": [
    {
     "output_type": "stream",
     "name": "stdout",
     "text": "The accuracy is 0.867911854819703\nThe recall is 0.8610417157671458\nThe precision is 0.8730374937271489\n"
    }
   ],
   "source": [
    "# Calculating the accuracy, precision, and recall\n",
    "print(\"The accuracy is\", accuracy_score(y_train_over, y_pred))\n",
    "print(\"The recall is\", recall_score(y_train_over, y_pred))\n",
    "print(\"The precision is\", precision_score(y_train_over, y_pred))"
   ]
  },
  {
   "cell_type": "code",
   "execution_count": 18,
   "metadata": {},
   "outputs": [],
   "source": [
    "# Using cross validation to select a model\n",
    "\n",
    "# Importing the cross validation function\n",
    "from sklearn.model_selection import cross_validate\n",
    "\n",
    "# Importing the classes that will be used to create the models\n",
    "from sklearn.ensemble import RandomForestClassifier\n",
    "from sklearn.ensemble import GradientBoostingClassifier\n",
    "from sklearn.neighbors import KNeighborsClassifier\n",
    "from sklearn.naive_bayes import GaussianNB\n",
    "from sklearn.svm import SVC\n",
    "from xgboost import XGBClassifier\n",
    "\n",
    "# Creating the models\n",
    "\n",
    "# Random forest model\n",
    "rf_classifier = RandomForestClassifier(n_estimators=200)\n",
    "# Gradient boosting model\n",
    "gb_classifier = GradientBoostingClassifier(n_estimators=200)\n",
    "# XGBoost model\n",
    "xgb_classifier = XGBClassifier()\n",
    "# K nearest neighbors model\n",
    "knn_classifier= KNeighborsClassifier()\n",
    "# Naive bayes model\n",
    "nb_classifier = GaussianNB()\n",
    "# Support vector machine model\n",
    "svm_classifier = SVC(max_iter=500)\n",
    "# Logistic regression classifier\n",
    "lr_classifier = LogisticRegression(penalty='l1',\n",
    "                                   solver='saga',\n",
    "                                   max_iter=10000)\n",
    "\n",
    "# Dictionary that will hold the accuracy, recall, and precision values for the cross validation process for each model\n",
    "cv_scores = {\"Random Forest\": None, \"Gradient Boosting\": None, \"XGBoost\": None,\n",
    "             \"K Nearest Neighbors\": None, \"Naive Bayes\": None, \"Logistic Regression\": None}"
   ]
  },
  {
   "cell_type": "code",
   "execution_count": 15,
   "metadata": {},
   "outputs": [],
   "source": [
    "# Combining the feature and the labels to get a random sample\n",
    "X_train_over[\"RESPONSE\"] = y_train_over\n",
    "# Renaming the dataframe\n",
    "sampled_combined = X_train_over.copy()\n",
    "# Getting a random sample from the data to reduce the runtime of the cross validation iterations\n",
    "df_sample = sampled_combined.sample(10000)"
   ]
  },
  {
   "cell_type": "code",
   "execution_count": 16,
   "metadata": {},
   "outputs": [
    {
     "output_type": "execute_result",
     "data": {
      "text/plain": "       AGER_TYP  AKT_DAT_KL  ALTER_HH  ALTERSKATEGORIE_FEIN  \\\n19790         1         1.0      12.0                  12.0   \n9615          3         1.0      10.0                   9.0   \n21507        -1         1.0       0.0                   0.0   \n212           1         1.0       8.0                   7.0   \n36975        -1         2.0      15.0                  15.0   \n\n       ANZ_HAUSHALTE_AKTIV  ANZ_HH_TITEL  ANZ_KINDER  ANZ_PERSONEN  \\\n19790                  7.0           0.0         0.0           1.0   \n9615                   3.0           1.0         0.0           2.0   \n21507                 36.0           1.0         0.0           2.0   \n212                   12.0           0.0         0.0           2.0   \n36975                 15.0           0.0         0.0           2.0   \n\n       ANZ_STATISTISCHE_HAUSHALTE  ANZ_TITEL  ...  VK_DHT4A  VK_DISTANZ  \\\n19790                         7.0        0.0  ...       1.0         1.0   \n9615                          3.0        0.0  ...       1.0         1.0   \n21507                        35.0        0.0  ...       9.0         8.0   \n212                          11.0        0.0  ...       1.0         1.0   \n36975                        14.0        0.0  ...       1.0         1.0   \n\n       VK_ZG11  W_KEIT_KIND_HH  WOHNDAUER_2008  WOHNLAGE  ZABEOTYP  ANREDE_KZ  \\\n19790      1.0             6.0             9.0       2.0         4          1   \n9615       1.0             6.0             4.0       2.0         1          1   \n21507      5.0             6.0             9.0       1.0         3          1   \n212        1.0             6.0             9.0       2.0         3          1   \n36975      1.0             5.0             9.0       2.0         2          1   \n\n       ALTERSKATEGORIE_GROB  RESPONSE  \n19790                     4         0  \n9615                      3         0  \n21507                     4         0  \n212                       4         0  \n36975                     3         0  \n\n[5 rows x 359 columns]",
      "text/html": "<div>\n<style scoped>\n    .dataframe tbody tr th:only-of-type {\n        vertical-align: middle;\n    }\n\n    .dataframe tbody tr th {\n        vertical-align: top;\n    }\n\n    .dataframe thead th {\n        text-align: right;\n    }\n</style>\n<table border=\"1\" class=\"dataframe\">\n  <thead>\n    <tr style=\"text-align: right;\">\n      <th></th>\n      <th>AGER_TYP</th>\n      <th>AKT_DAT_KL</th>\n      <th>ALTER_HH</th>\n      <th>ALTERSKATEGORIE_FEIN</th>\n      <th>ANZ_HAUSHALTE_AKTIV</th>\n      <th>ANZ_HH_TITEL</th>\n      <th>ANZ_KINDER</th>\n      <th>ANZ_PERSONEN</th>\n      <th>ANZ_STATISTISCHE_HAUSHALTE</th>\n      <th>ANZ_TITEL</th>\n      <th>...</th>\n      <th>VK_DHT4A</th>\n      <th>VK_DISTANZ</th>\n      <th>VK_ZG11</th>\n      <th>W_KEIT_KIND_HH</th>\n      <th>WOHNDAUER_2008</th>\n      <th>WOHNLAGE</th>\n      <th>ZABEOTYP</th>\n      <th>ANREDE_KZ</th>\n      <th>ALTERSKATEGORIE_GROB</th>\n      <th>RESPONSE</th>\n    </tr>\n  </thead>\n  <tbody>\n    <tr>\n      <th>19790</th>\n      <td>1</td>\n      <td>1.0</td>\n      <td>12.0</td>\n      <td>12.0</td>\n      <td>7.0</td>\n      <td>0.0</td>\n      <td>0.0</td>\n      <td>1.0</td>\n      <td>7.0</td>\n      <td>0.0</td>\n      <td>...</td>\n      <td>1.0</td>\n      <td>1.0</td>\n      <td>1.0</td>\n      <td>6.0</td>\n      <td>9.0</td>\n      <td>2.0</td>\n      <td>4</td>\n      <td>1</td>\n      <td>4</td>\n      <td>0</td>\n    </tr>\n    <tr>\n      <th>9615</th>\n      <td>3</td>\n      <td>1.0</td>\n      <td>10.0</td>\n      <td>9.0</td>\n      <td>3.0</td>\n      <td>1.0</td>\n      <td>0.0</td>\n      <td>2.0</td>\n      <td>3.0</td>\n      <td>0.0</td>\n      <td>...</td>\n      <td>1.0</td>\n      <td>1.0</td>\n      <td>1.0</td>\n      <td>6.0</td>\n      <td>4.0</td>\n      <td>2.0</td>\n      <td>1</td>\n      <td>1</td>\n      <td>3</td>\n      <td>0</td>\n    </tr>\n    <tr>\n      <th>21507</th>\n      <td>-1</td>\n      <td>1.0</td>\n      <td>0.0</td>\n      <td>0.0</td>\n      <td>36.0</td>\n      <td>1.0</td>\n      <td>0.0</td>\n      <td>2.0</td>\n      <td>35.0</td>\n      <td>0.0</td>\n      <td>...</td>\n      <td>9.0</td>\n      <td>8.0</td>\n      <td>5.0</td>\n      <td>6.0</td>\n      <td>9.0</td>\n      <td>1.0</td>\n      <td>3</td>\n      <td>1</td>\n      <td>4</td>\n      <td>0</td>\n    </tr>\n    <tr>\n      <th>212</th>\n      <td>1</td>\n      <td>1.0</td>\n      <td>8.0</td>\n      <td>7.0</td>\n      <td>12.0</td>\n      <td>0.0</td>\n      <td>0.0</td>\n      <td>2.0</td>\n      <td>11.0</td>\n      <td>0.0</td>\n      <td>...</td>\n      <td>1.0</td>\n      <td>1.0</td>\n      <td>1.0</td>\n      <td>6.0</td>\n      <td>9.0</td>\n      <td>2.0</td>\n      <td>3</td>\n      <td>1</td>\n      <td>4</td>\n      <td>0</td>\n    </tr>\n    <tr>\n      <th>36975</th>\n      <td>-1</td>\n      <td>2.0</td>\n      <td>15.0</td>\n      <td>15.0</td>\n      <td>15.0</td>\n      <td>0.0</td>\n      <td>0.0</td>\n      <td>2.0</td>\n      <td>14.0</td>\n      <td>0.0</td>\n      <td>...</td>\n      <td>1.0</td>\n      <td>1.0</td>\n      <td>1.0</td>\n      <td>5.0</td>\n      <td>9.0</td>\n      <td>2.0</td>\n      <td>2</td>\n      <td>1</td>\n      <td>3</td>\n      <td>0</td>\n    </tr>\n  </tbody>\n</table>\n<p>5 rows × 359 columns</p>\n</div>"
     },
     "metadata": {},
     "execution_count": 16
    }
   ],
   "source": [
    "df_sample.head()"
   ]
  },
  {
   "cell_type": "code",
   "execution_count": 17,
   "metadata": {},
   "outputs": [],
   "source": [
    "# Separating the data into features and labels\n",
    "X_sample = df_sample.loc[:, df_sample.columns != \"RESPONSE\"]\n",
    "y_sample = df_sample[\"RESPONSE\"]"
   ]
  },
  {
   "cell_type": "code",
   "execution_count": 31,
   "metadata": {
    "tags": []
   },
   "outputs": [
    {
     "output_type": "stream",
     "name": "stdout",
     "text": "Random forest \n\nThe mean training accuracy is 0.9509000000000001\nThe mean training recall is 0.9244640420334784\nThe mean training precision is 0.9758910012968487\n\n\nThe mean test accuracy is 0.9435\nThe mean test recall is 0.9104390964110403\nThe mean test precision is 0.9747298643448786\n\n\nGBM \n\nThe mean training accuracy is 0.94725\nThe mean training recall is 0.9172009809752237\nThe mean training precision is 0.9756525426710896\n\n\nThe mean test accuracy is 0.9454\nThe mean test recall is 0.9136451080338854\nThe mean test precision is 0.9754541360370474\n\n\nXGBoost \n\nThe mean training accuracy is 0.9509000000000001\nThe mean training recall is 0.9244640420334784\nThe mean training precision is 0.9758910012968487\n\n\nThe mean test accuracy is 0.9456\nThe mean test recall is 0.9142461098372922\nThe mean test precision is 0.9752584617477863\n\n\nKNN \n\nThe mean training accuracy is 0.7727499999999999\nThe mean training recall is 0.9373865687799341\nThe mean training precision is 0.7047947060307644\n\n\nThe mean test accuracy is 0.7219\nThe mean test recall is 0.9340833819791736\nThe mean test precision is 0.6554323930752523\n\n\nNaive Bayes \n\nThe mean training accuracy is 0.647575\nThe mean training recall is 0.7425863497593734\nThe mean training precision is 0.6234087319942433\n\n\nThe mean test accuracy is 0.6477\nThe mean test recall is 0.7419323130745977\nThe mean test precision is 0.6236178867244365\n\n\nSupport Vector Machine \n\nThe mean training accuracy is 0.499125\nThe mean training recall is 0.4366251034500757\nThe mean training precision is 0.49117013812647226\n\n\nThe mean test accuracy is 0.49960000000000004\nThe mean test recall is 0.438232019594745\nThe mean test precision is 0.4908424844099536\n\n\nLogistic Regression \n\nThe mean training accuracy is 0.8366499999999999\nThe mean training recall is 0.8350031894492715\nThe mean training precision is 0.8372680258290215\n\n\nThe mean test accuracy is 0.8269\nThe mean test recall is 0.8290932214779911\nThe mean test precision is 0.8253935646131175\n\n\n"
    }
   ],
   "source": [
    "# Evaluating each machine learning model using cross validation\n",
    "\n",
    "# Importing the cross validation function\n",
    "from sklearn.model_selection import cross_validate\n",
    "\n",
    "# Creating a dictionary where each the key is the model name and the value is the model\n",
    "models = {\"Random forest\":rf_classifier, \"GBM\":gb_classifier, \"XGBoost\":xgb_classifier,\n",
    "          \"KNN\":knn_classifier, \"Naive Bayes\":nb_classifier, \"Support Vector Machine\":svm_classifier,\n",
    "          \"Logistic Regression\":lr_classifier}\n",
    "\n",
    "# Looping through all the models\n",
    "for model_name in models:\n",
    "    # Performing 5 fold cross validation\n",
    "    results = cross_validate(models[model_name], X_sample, y_sample, cv=5,\n",
    "                             scoring=[\"recall\", \"precision\", \"accuracy\"],\n",
    "                             return_train_score=True)\n",
    "    # Displaying the results\n",
    "    print(model_name, '\\n')\n",
    "    \n",
    "    # Displaying the training accuracy metrics\n",
    "    print(\"The mean training accuracy is\", results[\"train_accuracy\"].mean())\n",
    "    print(\"The mean training recall is\", results[\"train_recall\"].mean())\n",
    "    print(\"The mean training precision is\", results[\"train_precision\"].mean())\n",
    "\n",
    "    print('\\n')\n",
    "\n",
    "    # Displaying the test accuracy metrics\n",
    "    print(\"The mean test accuracy is\", results[\"test_accuracy\"].mean())\n",
    "    print(\"The mean test recall is\", results[\"test_recall\"].mean())\n",
    "    print(\"The mean test precision is\", results[\"test_precision\"].mean())\n",
    "    \n",
    "    print('\\n')"
   ]
  },
  {
   "cell_type": "code",
   "execution_count": 25,
   "metadata": {},
   "outputs": [],
   "source": [
    "# Performing feature selection and hyperparameter tuning for the best models\n",
    "\n",
    "# Importing the libraries\n",
    "from sklearn.feature_selection import SelectKBest,f_classif\n",
    "from sklearn.pipeline import Pipeline\n",
    "from sklearn.model_selection import GridSearchCV\n",
    "\n",
    "# Creating pipelines for the different models\n",
    "rf_pipline = Pipeline([\n",
    "    ('selector', SelectKBest(f_classif)),\n",
    "    ('model', RandomForestClassifier())\n",
    "])\n",
    "\n",
    "xgb_pipline = Pipeline([\n",
    "    ('selector', SelectKBest(f_classif)),\n",
    "    ('model', XGBClassifier())\n",
    "])\n",
    "\n",
    "knn_pipline = Pipeline([\n",
    "    ('selector', SelectKBest(f_classif)),\n",
    "    ('model', KNeighborsClassifier())\n",
    "])\n",
    "\n",
    "# Creating the parameter grids for each model\n",
    "rf_param_grid = {\n",
    "    'selector__k': [100, 230, 270, 300, 350],\n",
    "    'model__max_depth': [3, 10, 20, 50, 100, 150, 200],\n",
    "    'model__n_estimators': [100, 200, 300]\n",
    "}\n",
    "\n",
    "# Creating the grid search models for each model\n",
    "rf_search = GridSearchCV(\n",
    "    estimator = rf_pipline,\n",
    "    param_grid = rf_param_grid,\n",
    "    n_jobs=-1,\n",
    "    scoring=['accuracy', 'recall', 'precision'],\n",
    "    verbose=3,\n",
    "    refit=\"accuracy\"\n",
    ")\n",
    "\n",
    "xgb_param_grid = {\n",
    "    'selector__k': [100, 230, 270, 300, 350],\n",
    "    'model__max_depth': [3, 10, 20, 50, 100, 150, 200],\n",
    "    'model__learning_rate': [0.001, 0.01, 0.05, 0.1]\n",
    "}\n",
    "\n",
    "xgb_search = GridSearchCV(\n",
    "    estimator = xgb_pipline,\n",
    "    param_grid = xgb_param_grid,\n",
    "    n_jobs=-1,\n",
    "    scoring=['accuracy', 'recall', 'precision'],\n",
    "    verbose=3,\n",
    "    refit=\"accuracy\"\n",
    ")"
   ]
  },
  {
   "cell_type": "code",
   "execution_count": 18,
   "metadata": {},
   "outputs": [],
   "source": [
    "# Getting a random sample of 5000 points from the data in order to speed up the run time\n",
    "\n",
    "# Combining the feature and the labels to get a random sample\n",
    "X_train_over[\"RESPONSE\"] = y_train_over\n",
    "# Renaming the dataframe\n",
    "sampled_combined = X_train_over.copy()\n",
    "# Getting a random sample from the data to reduce the runtime of the cross validation iterations\n",
    "df_sample = sampled_combined.sample(5000)"
   ]
  },
  {
   "cell_type": "code",
   "execution_count": 19,
   "metadata": {},
   "outputs": [],
   "source": [
    "# Separating the data into features and labels\n",
    "X_sample = df_sample.loc[:, df_sample.columns != \"RESPONSE\"]\n",
    "y_sample = df_sample[\"RESPONSE\"]"
   ]
  },
  {
   "cell_type": "code",
   "execution_count": 18,
   "metadata": {},
   "outputs": [
    {
     "name": "stdout",
     "output_type": "stream",
     "text": [
      "Fitting 5 folds for each of 105 candidates, totalling 525 fits\n"
     ]
    },
    {
     "name": "stderr",
     "output_type": "stream",
     "text": [
      "[Parallel(n_jobs=-1)]: Using backend LokyBackend with 8 concurrent workers.\n",
      "[Parallel(n_jobs=-1)]: Done  16 tasks      | elapsed:    4.1s\n",
      "[Parallel(n_jobs=-1)]: Done 112 tasks      | elapsed:   28.2s\n",
      "[Parallel(n_jobs=-1)]: Done 272 tasks      | elapsed:  2.1min\n",
      "[Parallel(n_jobs=-1)]: Done 496 tasks      | elapsed:  4.5min\n",
      "[Parallel(n_jobs=-1)]: Done 525 out of 525 | elapsed:  5.0min finished\n"
     ]
    },
    {
     "data": {
      "text/plain": [
       "GridSearchCV(estimator=Pipeline(steps=[('selector', SelectKBest()),\n",
       "                                       ('model', RandomForestClassifier())]),\n",
       "             n_jobs=-1,\n",
       "             param_grid={'model__max_depth': [3, 10, 20, 50, 100, 150, 200],\n",
       "                         'model__n_estimators': [100, 200, 300],\n",
       "                         'selector__k': [100, 230, 270, 300, 350]},\n",
       "             refit='accuracy', scoring=['accuracy', 'recall', 'precision'],\n",
       "             verbose=3)"
      ]
     },
     "execution_count": 18,
     "metadata": {},
     "output_type": "execute_result"
    }
   ],
   "source": [
    "rf_search.fit(X_sample, y_sample)"
   ]
  },
  {
   "cell_type": "code",
   "execution_count": 19,
   "metadata": {},
   "outputs": [
    {
     "data": {
      "text/plain": [
       "{'model__max_depth': 20, 'model__n_estimators': 300, 'selector__k': 350}"
      ]
     },
     "execution_count": 19,
     "metadata": {},
     "output_type": "execute_result"
    }
   ],
   "source": [
    "# Viewing the best model parameters\n",
    "rf_search.best_params_"
   ]
  },
  {
   "cell_type": "code",
   "execution_count": 20,
   "metadata": {},
   "outputs": [
    {
     "data": {
      "text/plain": [
       "0.9322000000000001"
      ]
     },
     "execution_count": 20,
     "metadata": {},
     "output_type": "execute_result"
    }
   ],
   "source": [
    "rf_search.best_score_"
   ]
  },
  {
   "cell_type": "code",
   "execution_count": 21,
   "metadata": {},
   "outputs": [],
   "source": [
    "# Using cross validation to evaluate the best random forest model\n",
    "rf_tuned_results = cross_validate(rf_search.best_estimator_, X_sample, y_sample, cv=5,\n",
    "                                  scoring=[\"recall\", \"precision\", \"accuracy\"],\n",
    "                                  return_train_score=True)"
   ]
  },
  {
   "cell_type": "code",
   "execution_count": 24,
   "metadata": {},
   "outputs": [
    {
     "name": "stdout",
     "output_type": "stream",
     "text": [
      "The mean training accuracy is 0.94345\n",
      "The mean training recall is 0.9175728244088729\n",
      "The mean training precision is 0.9669338707834945\n",
      "\n",
      "\n",
      "The mean test accuracy is 0.9312000000000001\n",
      "The mean test recall is 0.8984325306678782\n",
      "The mean test precision is 0.9607043774434718\n"
     ]
    }
   ],
   "source": [
    "# Displaying the evaluation metrics\n",
    "display_metrics(rf_tuned_results)"
   ]
  },
  {
   "cell_type": "code",
   "execution_count": 28,
   "metadata": {},
   "outputs": [
    {
     "name": "stdout",
     "output_type": "stream",
     "text": [
      "Fitting 5 folds for each of 140 candidates, totalling 700 fits\n"
     ]
    },
    {
     "name": "stderr",
     "output_type": "stream",
     "text": [
      "[Parallel(n_jobs=-1)]: Using backend LokyBackend with 8 concurrent workers.\n",
      "[Parallel(n_jobs=-1)]: Done  16 tasks      | elapsed:   15.6s\n",
      "[Parallel(n_jobs=-1)]: Done 112 tasks      | elapsed:  5.3min\n",
      "[Parallel(n_jobs=-1)]: Done 272 tasks      | elapsed: 13.9min\n",
      "[Parallel(n_jobs=-1)]: Done 496 tasks      | elapsed: 26.2min\n",
      "[Parallel(n_jobs=-1)]: Done 700 out of 700 | elapsed: 34.9min finished\n"
     ]
    },
    {
     "data": {
      "text/plain": [
       "GridSearchCV(estimator=Pipeline(steps=[('selector', SelectKBest()),\n",
       "                                       ('model',\n",
       "                                        XGBClassifier(base_score=None,\n",
       "                                                      booster=None,\n",
       "                                                      colsample_bylevel=None,\n",
       "                                                      colsample_bynode=None,\n",
       "                                                      colsample_bytree=None,\n",
       "                                                      gamma=None, gpu_id=None,\n",
       "                                                      importance_type='gain',\n",
       "                                                      interaction_constraints=None,\n",
       "                                                      learning_rate=None,\n",
       "                                                      max_delta_step=None,\n",
       "                                                      max_depth=None,\n",
       "                                                      min_child_weight=None,\n",
       "                                                      missing=nan,\n",
       "                                                      mo...\n",
       "                                                      random_state=None,\n",
       "                                                      reg_alpha=None,\n",
       "                                                      reg_lambda=None,\n",
       "                                                      scale_pos_weight=None,\n",
       "                                                      subsample=None,\n",
       "                                                      tree_method=None,\n",
       "                                                      validate_parameters=None,\n",
       "                                                      verbosity=None))]),\n",
       "             n_jobs=-1,\n",
       "             param_grid={'model__learning_rate': [0.001, 0.01, 0.05, 0.1],\n",
       "                         'model__max_depth': [3, 10, 20, 50, 100, 150, 200],\n",
       "                         'selector__k': [100, 230, 270, 300, 350]},\n",
       "             refit='accuracy', scoring=['accuracy', 'recall', 'precision'],\n",
       "             verbose=3)"
      ]
     },
     "execution_count": 28,
     "metadata": {},
     "output_type": "execute_result"
    }
   ],
   "source": [
    "xgb_search.fit(X_sample, y_sample)"
   ]
  },
  {
   "cell_type": "code",
   "execution_count": 30,
   "metadata": {},
   "outputs": [
    {
     "data": {
      "text/plain": [
       "{'model__learning_rate': 0.1, 'model__max_depth': 10, 'selector__k': 230}"
      ]
     },
     "execution_count": 30,
     "metadata": {},
     "output_type": "execute_result"
    }
   ],
   "source": [
    "# Viewing the best model parameters\n",
    "xgb_search.best_params_"
   ]
  },
  {
   "cell_type": "code",
   "execution_count": 36,
   "metadata": {},
   "outputs": [],
   "source": [
    "# Using cross validation to evaluate the best random forest model\n",
    "xgb_tuned_results = cross_validate(xgb_search.best_estimator_, X_sample, y_sample, cv=5,\n",
    "                                   scoring=[\"recall\", \"precision\", \"accuracy\"],\n",
    "                                   return_train_score=True)"
   ]
  },
  {
   "cell_type": "code",
   "execution_count": 37,
   "metadata": {},
   "outputs": [
    {
     "name": "stdout",
     "output_type": "stream",
     "text": [
      "The mean training accuracy is 0.9492750000000001\n",
      "The mean training recall is 0.9190910328175397\n",
      "The mean training precision is 0.9778013438996311\n",
      "\n",
      "\n",
      "The mean test accuracy is 0.9423\n",
      "The mean test recall is 0.9058978139236988\n",
      "The mean test precision is 0.9766745782030386\n"
     ]
    }
   ],
   "source": [
    "display_metrics(xgb_tuned_results)"
   ]
  },
  {
   "cell_type": "code",
   "execution_count": 20,
   "metadata": {},
   "outputs": [],
   "source": [
    "# Using random search to tune the hyperparamaters of the tree based models\n",
    "\n",
    "from sklearn.model_selection import RandomizedSearchCV\n",
    "\n",
    "# Number of trees in random forest\n",
    "n_estimators = [int(x) for x in np.linspace(start = 200, stop = 2000, num = 10)]\n",
    "# Number of features to consider at every split\n",
    "max_features = ['auto', 'log2']\n",
    "# Maximum number of levels in tree\n",
    "max_depth = [int(x) for x in np.linspace(3, 300, num = 20)]\n",
    "max_depth.append(None)\n",
    "# Minimum number of samples required to split a node\n",
    "min_samples_split = [2, 5, 10]\n",
    "# Minimum number of samples required at each leaf node\n",
    "min_samples_leaf = [1, 2, 4, 10, 30, 80, 100]\n",
    "# Method of selecting samples for training each tree\n",
    "bootstrap = [True, False]\n",
    "\n",
    "# Create the random grid\n",
    "random_grid = {'n_estimators': n_estimators,\n",
    "               'max_features': max_features,\n",
    "               'max_depth': max_depth,\n",
    "               'min_samples_split': min_samples_split,\n",
    "               'min_samples_leaf': min_samples_leaf,\n",
    "               'bootstrap': bootstrap}"
   ]
  },
  {
   "cell_type": "code",
   "execution_count": 44,
   "metadata": {},
   "outputs": [
    {
     "name": "stdout",
     "output_type": "stream",
     "text": [
      "Fitting 3 folds for each of 100 candidates, totalling 300 fits\n"
     ]
    },
    {
     "name": "stderr",
     "output_type": "stream",
     "text": [
      "[Parallel(n_jobs=-1)]: Using backend LokyBackend with 8 concurrent workers.\n",
      "[Parallel(n_jobs=-1)]: Done  25 tasks      | elapsed:  2.6min\n",
      "[Parallel(n_jobs=-1)]: Done 146 tasks      | elapsed: 15.7min\n",
      "[Parallel(n_jobs=-1)]: Done 300 out of 300 | elapsed: 29.5min finished\n"
     ]
    },
    {
     "data": {
      "text/plain": [
       "RandomizedSearchCV(cv=3, estimator=RandomForestClassifier(), n_iter=100,\n",
       "                   n_jobs=-1,\n",
       "                   param_distributions={'bootstrap': [True, False],\n",
       "                                        'max_depth': [3, 18, 34, 49, 65, 81, 96,\n",
       "                                                      112, 128, 143, 159, 174,\n",
       "                                                      190, 206, 221, 237, 253,\n",
       "                                                      268, 284, 300, None],\n",
       "                                        'max_features': ['auto', 'log2'],\n",
       "                                        'min_samples_leaf': [1, 2, 4, 10, 30,\n",
       "                                                             80, 100],\n",
       "                                        'min_samples_split': [2, 5, 10],\n",
       "                                        'n_estimators': [200, 400, 600, 800,\n",
       "                                                         1000, 1200, 1400, 1600,\n",
       "                                                         1800, 2000]},\n",
       "                   verbose=2)"
      ]
     },
     "execution_count": 44,
     "metadata": {},
     "output_type": "execute_result"
    }
   ],
   "source": [
    "# Using random search to find for best hyperparameters\n",
    "\n",
    "# Baseline model that will be tuned, all hyperparameters are set to default\n",
    "rf_classifier = RandomForestClassifier()\n",
    "\n",
    "# Random search of parameters using 3 fold cross validation, \n",
    "# search across 100 different combinations and use all available cores to speed up search\n",
    "rf_random_search = RandomizedSearchCV(estimator = rf_classifier, param_distributions = random_grid,\n",
    "                                      n_iter = 100, cv = 3, verbose=2, n_jobs = -1)\n",
    "# Fit the random search model\n",
    "rf_random_search.fit(X_sample, y_sample)"
   ]
  },
  {
   "cell_type": "code",
   "execution_count": 45,
   "metadata": {
    "scrolled": true
   },
   "outputs": [
    {
     "data": {
      "text/plain": [
       "{'n_estimators': 1400,\n",
       " 'min_samples_split': 5,\n",
       " 'min_samples_leaf': 2,\n",
       " 'max_features': 'log2',\n",
       " 'max_depth': 190,\n",
       " 'bootstrap': False}"
      ]
     },
     "execution_count": 45,
     "metadata": {},
     "output_type": "execute_result"
    }
   ],
   "source": [
    "# Viewing the best set of parameters\n",
    "rf_random_search.best_params_"
   ]
  },
  {
   "cell_type": "code",
   "execution_count": 46,
   "metadata": {},
   "outputs": [],
   "source": [
    "# Evaluating the random forest model with the tuned hyperparameters using cross validation\n",
    "\n",
    "tuned_results = cross_validate(rf_random_search.best_estimator_, X_sample, y_sample, cv=5,\n",
    "                               scoring=[\"recall\", \"precision\", \"accuracy\"],\n",
    "                               return_train_score=True)"
   ]
  },
  {
   "cell_type": "code",
   "execution_count": 23,
   "metadata": {},
   "outputs": [],
   "source": [
    "def display_metrics(results):\n",
    "    \"\"\"\n",
    "    Displays the accuracy, precision, and recall of a model that it trained using cross validation\n",
    "    param results: A dictionary that holds the accuracy, recall, and precision of a model\n",
    "    return: Displays the accuracy, recall, and precision of the model\n",
    "    \"\"\"\n",
    "    \n",
    "    # Displaying the training accuracy metrics\n",
    "    print(\"The mean training accuracy is\", results[\"train_accuracy\"].mean())\n",
    "    print(\"The mean training recall is\", results[\"train_recall\"].mean())\n",
    "    print(\"The mean training precision is\", results[\"train_precision\"].mean())\n",
    "\n",
    "    print('\\n')\n",
    "\n",
    "    # Displaying the test accuracy metrics\n",
    "    print(\"The mean test accuracy is\", results[\"test_accuracy\"].mean())\n",
    "    print(\"The mean test recall is\", results[\"test_recall\"].mean())\n",
    "    print(\"The mean test precision is\", results[\"test_precision\"].mean())"
   ]
  },
  {
   "cell_type": "code",
   "execution_count": 48,
   "metadata": {},
   "outputs": [
    {
     "name": "stdout",
     "output_type": "stream",
     "text": [
      "The mean training accuracy is 0.949325\n",
      "The mean training recall is 0.9269743622945551\n",
      "The mean training precision is 0.9719815306072966\n",
      "\n",
      "\n",
      "The mean test accuracy is 0.9404\n",
      "The mean test recall is 0.9113661223381561\n",
      "The mean test precision is 0.9694884885105516\n"
     ]
    }
   ],
   "source": [
    "# Displaying the evaluation metrics\n",
    "display_metrics(tuned_results)"
   ]
  },
  {
   "cell_type": "code",
   "execution_count": 40,
   "metadata": {},
   "outputs": [
    {
     "output_type": "execute_result",
     "data": {
      "text/plain": "'HELLO'"
     },
     "metadata": {},
     "execution_count": 40
    }
   ],
   "source": [
    "\"HELLO\""
   ]
  },
  {
   "cell_type": "code",
   "execution_count": 41,
   "metadata": {},
   "outputs": [],
   "source": [
    "# Scaling the oversampled data so that all the columns are in the same range\n",
    "\n",
    "# Putting the oversampled data into one dataframe since that is the expected format for the standard scalar\n",
    "X_train_over[\"RESPONSE\"] = y_train_over\n",
    "df_over_sampled = X_train_over\n",
    "\n",
    "# Scaling the data\n",
    "from sklearn.preprocessing import StandardScaler\n",
    "scalar = StandardScaler()\n",
    "df_scaled = scalar.fit_transform(df_over_sampled)"
   ]
  },
  {
   "cell_type": "code",
   "execution_count": 47,
   "metadata": {},
   "outputs": [
    {
     "output_type": "execute_result",
     "data": {
      "text/plain": "   AGER_TYP  AKT_DAT_KL  ALTER_HH  ALTERSKATEGORIE_FEIN  ANZ_HAUSHALTE_AKTIV  \\\n0  1.139585   -0.014216 -0.034661              0.070508             0.900149   \n1  0.345722    1.856093  0.744575              0.993902            -0.320849   \n2  0.345722   -0.014216  0.121187             -0.114171            -0.408063   \n3  1.139585   -0.014216 -0.346355             -0.298850            -0.059206   \n4  1.139585   -0.014216  0.121187              0.255187             4.214287   \n\n   ANZ_HH_TITEL  ANZ_KINDER  ANZ_PERSONEN  ANZ_STATISTISCHE_HAUSHALTE  \\\n0      0.284068    0.165324     -0.325409                    0.789696   \n1      0.284068    0.165324      0.317737                   -0.314571   \n2     -1.731860    0.165324     -0.968555                   -0.314571   \n3      0.284068    0.165324      0.317737                   -0.038504   \n4      0.284068    0.165324     -0.325409                    3.642388   \n\n   ANZ_TITEL  ...  VK_DHT4A  VK_DISTANZ   VK_ZG11  W_KEIT_KIND_HH  \\\n0    0.38145  ...  0.474843   -0.430255 -0.510681        0.927139   \n1    0.38145  ... -0.712362   -0.430255 -0.510681        0.188633   \n2    0.38145  ...  0.771644    0.153220 -0.121747       -1.657633   \n3    0.38145  ...  1.365247    2.195384  3.378664        0.927139   \n4    0.38145  ... -0.415561   -0.430255 -0.510681        0.927139   \n\n   WOHNDAUER_2008  WOHNLAGE  ZABEOTYP  ANREDE_KZ  ALTERSKATEGORIE_GROB  \\\n0        0.482756 -0.059760  0.360488   1.055160              0.813570   \n1        0.482756  1.488301 -1.547337   1.055160             -0.145193   \n2        0.482756 -0.446775  0.360488  -0.947723              0.813570   \n3        0.482756 -0.833791  0.360488   1.055160              0.813570   \n4        0.482756 -0.059760  0.360488  -0.947723             -0.145193   \n\n   RESPONSE  \n0      -1.0  \n1      -1.0  \n2      -1.0  \n3      -1.0  \n4      -1.0  \n\n[5 rows x 359 columns]",
      "text/html": "<div>\n<style scoped>\n    .dataframe tbody tr th:only-of-type {\n        vertical-align: middle;\n    }\n\n    .dataframe tbody tr th {\n        vertical-align: top;\n    }\n\n    .dataframe thead th {\n        text-align: right;\n    }\n</style>\n<table border=\"1\" class=\"dataframe\">\n  <thead>\n    <tr style=\"text-align: right;\">\n      <th></th>\n      <th>AGER_TYP</th>\n      <th>AKT_DAT_KL</th>\n      <th>ALTER_HH</th>\n      <th>ALTERSKATEGORIE_FEIN</th>\n      <th>ANZ_HAUSHALTE_AKTIV</th>\n      <th>ANZ_HH_TITEL</th>\n      <th>ANZ_KINDER</th>\n      <th>ANZ_PERSONEN</th>\n      <th>ANZ_STATISTISCHE_HAUSHALTE</th>\n      <th>ANZ_TITEL</th>\n      <th>...</th>\n      <th>VK_DHT4A</th>\n      <th>VK_DISTANZ</th>\n      <th>VK_ZG11</th>\n      <th>W_KEIT_KIND_HH</th>\n      <th>WOHNDAUER_2008</th>\n      <th>WOHNLAGE</th>\n      <th>ZABEOTYP</th>\n      <th>ANREDE_KZ</th>\n      <th>ALTERSKATEGORIE_GROB</th>\n      <th>RESPONSE</th>\n    </tr>\n  </thead>\n  <tbody>\n    <tr>\n      <th>0</th>\n      <td>1.139585</td>\n      <td>-0.014216</td>\n      <td>-0.034661</td>\n      <td>0.070508</td>\n      <td>0.900149</td>\n      <td>0.284068</td>\n      <td>0.165324</td>\n      <td>-0.325409</td>\n      <td>0.789696</td>\n      <td>0.38145</td>\n      <td>...</td>\n      <td>0.474843</td>\n      <td>-0.430255</td>\n      <td>-0.510681</td>\n      <td>0.927139</td>\n      <td>0.482756</td>\n      <td>-0.059760</td>\n      <td>0.360488</td>\n      <td>1.055160</td>\n      <td>0.813570</td>\n      <td>-1.0</td>\n    </tr>\n    <tr>\n      <th>1</th>\n      <td>0.345722</td>\n      <td>1.856093</td>\n      <td>0.744575</td>\n      <td>0.993902</td>\n      <td>-0.320849</td>\n      <td>0.284068</td>\n      <td>0.165324</td>\n      <td>0.317737</td>\n      <td>-0.314571</td>\n      <td>0.38145</td>\n      <td>...</td>\n      <td>-0.712362</td>\n      <td>-0.430255</td>\n      <td>-0.510681</td>\n      <td>0.188633</td>\n      <td>0.482756</td>\n      <td>1.488301</td>\n      <td>-1.547337</td>\n      <td>1.055160</td>\n      <td>-0.145193</td>\n      <td>-1.0</td>\n    </tr>\n    <tr>\n      <th>2</th>\n      <td>0.345722</td>\n      <td>-0.014216</td>\n      <td>0.121187</td>\n      <td>-0.114171</td>\n      <td>-0.408063</td>\n      <td>-1.731860</td>\n      <td>0.165324</td>\n      <td>-0.968555</td>\n      <td>-0.314571</td>\n      <td>0.38145</td>\n      <td>...</td>\n      <td>0.771644</td>\n      <td>0.153220</td>\n      <td>-0.121747</td>\n      <td>-1.657633</td>\n      <td>0.482756</td>\n      <td>-0.446775</td>\n      <td>0.360488</td>\n      <td>-0.947723</td>\n      <td>0.813570</td>\n      <td>-1.0</td>\n    </tr>\n    <tr>\n      <th>3</th>\n      <td>1.139585</td>\n      <td>-0.014216</td>\n      <td>-0.346355</td>\n      <td>-0.298850</td>\n      <td>-0.059206</td>\n      <td>0.284068</td>\n      <td>0.165324</td>\n      <td>0.317737</td>\n      <td>-0.038504</td>\n      <td>0.38145</td>\n      <td>...</td>\n      <td>1.365247</td>\n      <td>2.195384</td>\n      <td>3.378664</td>\n      <td>0.927139</td>\n      <td>0.482756</td>\n      <td>-0.833791</td>\n      <td>0.360488</td>\n      <td>1.055160</td>\n      <td>0.813570</td>\n      <td>-1.0</td>\n    </tr>\n    <tr>\n      <th>4</th>\n      <td>1.139585</td>\n      <td>-0.014216</td>\n      <td>0.121187</td>\n      <td>0.255187</td>\n      <td>4.214287</td>\n      <td>0.284068</td>\n      <td>0.165324</td>\n      <td>-0.325409</td>\n      <td>3.642388</td>\n      <td>0.38145</td>\n      <td>...</td>\n      <td>-0.415561</td>\n      <td>-0.430255</td>\n      <td>-0.510681</td>\n      <td>0.927139</td>\n      <td>0.482756</td>\n      <td>-0.059760</td>\n      <td>0.360488</td>\n      <td>-0.947723</td>\n      <td>-0.145193</td>\n      <td>-1.0</td>\n    </tr>\n  </tbody>\n</table>\n<p>5 rows × 359 columns</p>\n</div>"
     },
     "metadata": {},
     "execution_count": 47
    }
   ],
   "source": [
    "# Changing the type of the scaled data to a pandas dataframe\n",
    "df_scaled = pd.DataFrame(df_scaled)\n",
    "df_scaled.columns = df_over_sampled.columns\n",
    "df_scaled.head()"
   ]
  },
  {
   "cell_type": "code",
   "execution_count": 48,
   "metadata": {},
   "outputs": [],
   "source": [
    "# Spliting the scaled data into features and labels\n",
    "X_scaled = df_scaled.loc[:, df_scaled.columns != \"RESPONSE\"]\n",
    "y_scaled = df_scaled[\"RESPONSE\"]"
   ]
  },
  {
   "cell_type": "code",
   "execution_count": 49,
   "metadata": {},
   "outputs": [],
   "source": [
    "# Creating an XGBoost model\n",
    "xgb_classifier = XGBClassifier()"
   ]
  },
  {
   "cell_type": "code",
   "execution_count": 23,
   "metadata": {},
   "outputs": [
    {
     "output_type": "execute_result",
     "data": {
      "text/plain": "XGBClassifier(base_score=0.5, booster='gbtree', colsample_bylevel=1,\n              colsample_bynode=1, colsample_bytree=1, gamma=0, gpu_id=-1,\n              importance_type='gain', interaction_constraints='',\n              learning_rate=0.300000012, max_delta_step=0, max_depth=6,\n              min_child_weight=1, missing=nan, monotone_constraints='()',\n              n_estimators=100, n_jobs=0, num_parallel_tree=1, random_state=0,\n              reg_alpha=0, reg_lambda=1, scale_pos_weight=1, subsample=1,\n              tree_method='exact', validate_parameters=1, verbosity=None)"
     },
     "metadata": {},
     "execution_count": 23
    }
   ],
   "source": [
    "# Training the XGBoost model\n",
    "xgb_classifier.fit(X_scaled, y_scaled)"
   ]
  },
  {
   "cell_type": "code",
   "execution_count": 24,
   "metadata": {},
   "outputs": [
    {
     "output_type": "execute_result",
     "data": {
      "text/plain": "[<matplotlib.lines.Line2D at 0x7fc4ce54b850>]"
     },
     "metadata": {},
     "execution_count": 24
    },
    {
     "output_type": "display_data",
     "data": {
      "text/plain": "<Figure size 432x288 with 1 Axes>",
      "image/svg+xml": "<?xml version=\"1.0\" encoding=\"utf-8\" standalone=\"no\"?>\n<!DOCTYPE svg PUBLIC \"-//W3C//DTD SVG 1.1//EN\"\n  \"http://www.w3.org/Graphics/SVG/1.1/DTD/svg11.dtd\">\n<!-- Created with matplotlib (https://matplotlib.org/) -->\n<svg height=\"248.518125pt\" version=\"1.1\" viewBox=\"0 0 378.465625 248.518125\" width=\"378.465625pt\" xmlns=\"http://www.w3.org/2000/svg\" xmlns:xlink=\"http://www.w3.org/1999/xlink\">\n <defs>\n  <style type=\"text/css\">\n*{stroke-linecap:butt;stroke-linejoin:round;}\n  </style>\n </defs>\n <g id=\"figure_1\">\n  <g id=\"patch_1\">\n   <path d=\"M 0 248.518125 \nL 378.465625 248.518125 \nL 378.465625 0 \nL 0 0 \nz\n\" style=\"fill:none;\"/>\n  </g>\n  <g id=\"axes_1\">\n   <g id=\"patch_2\">\n    <path d=\"M 36.465625 224.64 \nL 371.265625 224.64 \nL 371.265625 7.2 \nL 36.465625 7.2 \nz\n\" style=\"fill:#ffffff;\"/>\n   </g>\n   <g id=\"matplotlib.axis_1\">\n    <g id=\"xtick_1\">\n     <g id=\"line2d_1\">\n      <defs>\n       <path d=\"M 0 0 \nL 0 3.5 \n\" id=\"m47c5afdf4e\" style=\"stroke:#000000;stroke-width:0.8;\"/>\n      </defs>\n      <g>\n       <use style=\"stroke:#000000;stroke-width:0.8;\" x=\"51.683807\" xlink:href=\"#m47c5afdf4e\" y=\"224.64\"/>\n      </g>\n     </g>\n     <g id=\"text_1\">\n      <!-- 0 -->\n      <defs>\n       <path d=\"M 31.78125 66.40625 \nQ 24.171875 66.40625 20.328125 58.90625 \nQ 16.5 51.421875 16.5 36.375 \nQ 16.5 21.390625 20.328125 13.890625 \nQ 24.171875 6.390625 31.78125 6.390625 \nQ 39.453125 6.390625 43.28125 13.890625 \nQ 47.125 21.390625 47.125 36.375 \nQ 47.125 51.421875 43.28125 58.90625 \nQ 39.453125 66.40625 31.78125 66.40625 \nz\nM 31.78125 74.21875 \nQ 44.046875 74.21875 50.515625 64.515625 \nQ 56.984375 54.828125 56.984375 36.375 \nQ 56.984375 17.96875 50.515625 8.265625 \nQ 44.046875 -1.421875 31.78125 -1.421875 \nQ 19.53125 -1.421875 13.0625 8.265625 \nQ 6.59375 17.96875 6.59375 36.375 \nQ 6.59375 54.828125 13.0625 64.515625 \nQ 19.53125 74.21875 31.78125 74.21875 \nz\n\" id=\"DejaVuSans-48\"/>\n      </defs>\n      <g transform=\"translate(48.502557 239.238437)scale(0.1 -0.1)\">\n       <use xlink:href=\"#DejaVuSans-48\"/>\n      </g>\n     </g>\n    </g>\n    <g id=\"xtick_2\">\n     <g id=\"line2d_2\">\n      <g>\n       <use style=\"stroke:#000000;stroke-width:0.8;\" x=\"94.311767\" xlink:href=\"#m47c5afdf4e\" y=\"224.64\"/>\n      </g>\n     </g>\n     <g id=\"text_2\">\n      <!-- 50 -->\n      <defs>\n       <path d=\"M 10.796875 72.90625 \nL 49.515625 72.90625 \nL 49.515625 64.59375 \nL 19.828125 64.59375 \nL 19.828125 46.734375 \nQ 21.96875 47.46875 24.109375 47.828125 \nQ 26.265625 48.1875 28.421875 48.1875 \nQ 40.625 48.1875 47.75 41.5 \nQ 54.890625 34.8125 54.890625 23.390625 \nQ 54.890625 11.625 47.5625 5.09375 \nQ 40.234375 -1.421875 26.90625 -1.421875 \nQ 22.3125 -1.421875 17.546875 -0.640625 \nQ 12.796875 0.140625 7.71875 1.703125 \nL 7.71875 11.625 \nQ 12.109375 9.234375 16.796875 8.0625 \nQ 21.484375 6.890625 26.703125 6.890625 \nQ 35.15625 6.890625 40.078125 11.328125 \nQ 45.015625 15.765625 45.015625 23.390625 \nQ 45.015625 31 40.078125 35.4375 \nQ 35.15625 39.890625 26.703125 39.890625 \nQ 22.75 39.890625 18.8125 39.015625 \nQ 14.890625 38.140625 10.796875 36.28125 \nz\n\" id=\"DejaVuSans-53\"/>\n      </defs>\n      <g transform=\"translate(87.949267 239.238437)scale(0.1 -0.1)\">\n       <use xlink:href=\"#DejaVuSans-53\"/>\n       <use x=\"63.623047\" xlink:href=\"#DejaVuSans-48\"/>\n      </g>\n     </g>\n    </g>\n    <g id=\"xtick_3\">\n     <g id=\"line2d_3\">\n      <g>\n       <use style=\"stroke:#000000;stroke-width:0.8;\" x=\"136.939727\" xlink:href=\"#m47c5afdf4e\" y=\"224.64\"/>\n      </g>\n     </g>\n     <g id=\"text_3\">\n      <!-- 100 -->\n      <defs>\n       <path d=\"M 12.40625 8.296875 \nL 28.515625 8.296875 \nL 28.515625 63.921875 \nL 10.984375 60.40625 \nL 10.984375 69.390625 \nL 28.421875 72.90625 \nL 38.28125 72.90625 \nL 38.28125 8.296875 \nL 54.390625 8.296875 \nL 54.390625 0 \nL 12.40625 0 \nz\n\" id=\"DejaVuSans-49\"/>\n      </defs>\n      <g transform=\"translate(127.395977 239.238437)scale(0.1 -0.1)\">\n       <use xlink:href=\"#DejaVuSans-49\"/>\n       <use x=\"63.623047\" xlink:href=\"#DejaVuSans-48\"/>\n       <use x=\"127.246094\" xlink:href=\"#DejaVuSans-48\"/>\n      </g>\n     </g>\n    </g>\n    <g id=\"xtick_4\">\n     <g id=\"line2d_4\">\n      <g>\n       <use style=\"stroke:#000000;stroke-width:0.8;\" x=\"179.567688\" xlink:href=\"#m47c5afdf4e\" y=\"224.64\"/>\n      </g>\n     </g>\n     <g id=\"text_4\">\n      <!-- 150 -->\n      <g transform=\"translate(170.023938 239.238437)scale(0.1 -0.1)\">\n       <use xlink:href=\"#DejaVuSans-49\"/>\n       <use x=\"63.623047\" xlink:href=\"#DejaVuSans-53\"/>\n       <use x=\"127.246094\" xlink:href=\"#DejaVuSans-48\"/>\n      </g>\n     </g>\n    </g>\n    <g id=\"xtick_5\">\n     <g id=\"line2d_5\">\n      <g>\n       <use style=\"stroke:#000000;stroke-width:0.8;\" x=\"222.195648\" xlink:href=\"#m47c5afdf4e\" y=\"224.64\"/>\n      </g>\n     </g>\n     <g id=\"text_5\">\n      <!-- 200 -->\n      <defs>\n       <path d=\"M 19.1875 8.296875 \nL 53.609375 8.296875 \nL 53.609375 0 \nL 7.328125 0 \nL 7.328125 8.296875 \nQ 12.9375 14.109375 22.625 23.890625 \nQ 32.328125 33.6875 34.8125 36.53125 \nQ 39.546875 41.84375 41.421875 45.53125 \nQ 43.3125 49.21875 43.3125 52.78125 \nQ 43.3125 58.59375 39.234375 62.25 \nQ 35.15625 65.921875 28.609375 65.921875 \nQ 23.96875 65.921875 18.8125 64.3125 \nQ 13.671875 62.703125 7.8125 59.421875 \nL 7.8125 69.390625 \nQ 13.765625 71.78125 18.9375 73 \nQ 24.125 74.21875 28.421875 74.21875 \nQ 39.75 74.21875 46.484375 68.546875 \nQ 53.21875 62.890625 53.21875 53.421875 \nQ 53.21875 48.921875 51.53125 44.890625 \nQ 49.859375 40.875 45.40625 35.40625 \nQ 44.1875 33.984375 37.640625 27.21875 \nQ 31.109375 20.453125 19.1875 8.296875 \nz\n\" id=\"DejaVuSans-50\"/>\n      </defs>\n      <g transform=\"translate(212.651898 239.238437)scale(0.1 -0.1)\">\n       <use xlink:href=\"#DejaVuSans-50\"/>\n       <use x=\"63.623047\" xlink:href=\"#DejaVuSans-48\"/>\n       <use x=\"127.246094\" xlink:href=\"#DejaVuSans-48\"/>\n      </g>\n     </g>\n    </g>\n    <g id=\"xtick_6\">\n     <g id=\"line2d_6\">\n      <g>\n       <use style=\"stroke:#000000;stroke-width:0.8;\" x=\"264.823608\" xlink:href=\"#m47c5afdf4e\" y=\"224.64\"/>\n      </g>\n     </g>\n     <g id=\"text_6\">\n      <!-- 250 -->\n      <g transform=\"translate(255.279858 239.238437)scale(0.1 -0.1)\">\n       <use xlink:href=\"#DejaVuSans-50\"/>\n       <use x=\"63.623047\" xlink:href=\"#DejaVuSans-53\"/>\n       <use x=\"127.246094\" xlink:href=\"#DejaVuSans-48\"/>\n      </g>\n     </g>\n    </g>\n    <g id=\"xtick_7\">\n     <g id=\"line2d_7\">\n      <g>\n       <use style=\"stroke:#000000;stroke-width:0.8;\" x=\"307.451568\" xlink:href=\"#m47c5afdf4e\" y=\"224.64\"/>\n      </g>\n     </g>\n     <g id=\"text_7\">\n      <!-- 300 -->\n      <defs>\n       <path d=\"M 40.578125 39.3125 \nQ 47.65625 37.796875 51.625 33 \nQ 55.609375 28.21875 55.609375 21.1875 \nQ 55.609375 10.40625 48.1875 4.484375 \nQ 40.765625 -1.421875 27.09375 -1.421875 \nQ 22.515625 -1.421875 17.65625 -0.515625 \nQ 12.796875 0.390625 7.625 2.203125 \nL 7.625 11.71875 \nQ 11.71875 9.328125 16.59375 8.109375 \nQ 21.484375 6.890625 26.8125 6.890625 \nQ 36.078125 6.890625 40.9375 10.546875 \nQ 45.796875 14.203125 45.796875 21.1875 \nQ 45.796875 27.640625 41.28125 31.265625 \nQ 36.765625 34.90625 28.71875 34.90625 \nL 20.21875 34.90625 \nL 20.21875 43.015625 \nL 29.109375 43.015625 \nQ 36.375 43.015625 40.234375 45.921875 \nQ 44.09375 48.828125 44.09375 54.296875 \nQ 44.09375 59.90625 40.109375 62.90625 \nQ 36.140625 65.921875 28.71875 65.921875 \nQ 24.65625 65.921875 20.015625 65.03125 \nQ 15.375 64.15625 9.8125 62.3125 \nL 9.8125 71.09375 \nQ 15.4375 72.65625 20.34375 73.4375 \nQ 25.25 74.21875 29.59375 74.21875 \nQ 40.828125 74.21875 47.359375 69.109375 \nQ 53.90625 64.015625 53.90625 55.328125 \nQ 53.90625 49.265625 50.4375 45.09375 \nQ 46.96875 40.921875 40.578125 39.3125 \nz\n\" id=\"DejaVuSans-51\"/>\n      </defs>\n      <g transform=\"translate(297.907818 239.238437)scale(0.1 -0.1)\">\n       <use xlink:href=\"#DejaVuSans-51\"/>\n       <use x=\"63.623047\" xlink:href=\"#DejaVuSans-48\"/>\n       <use x=\"127.246094\" xlink:href=\"#DejaVuSans-48\"/>\n      </g>\n     </g>\n    </g>\n    <g id=\"xtick_8\">\n     <g id=\"line2d_8\">\n      <g>\n       <use style=\"stroke:#000000;stroke-width:0.8;\" x=\"350.079529\" xlink:href=\"#m47c5afdf4e\" y=\"224.64\"/>\n      </g>\n     </g>\n     <g id=\"text_8\">\n      <!-- 350 -->\n      <g transform=\"translate(340.535779 239.238437)scale(0.1 -0.1)\">\n       <use xlink:href=\"#DejaVuSans-51\"/>\n       <use x=\"63.623047\" xlink:href=\"#DejaVuSans-53\"/>\n       <use x=\"127.246094\" xlink:href=\"#DejaVuSans-48\"/>\n      </g>\n     </g>\n    </g>\n   </g>\n   <g id=\"matplotlib.axis_2\">\n    <g id=\"ytick_1\">\n     <g id=\"line2d_9\">\n      <defs>\n       <path d=\"M 0 0 \nL -3.5 0 \n\" id=\"m3841872ec3\" style=\"stroke:#000000;stroke-width:0.8;\"/>\n      </defs>\n      <g>\n       <use style=\"stroke:#000000;stroke-width:0.8;\" x=\"36.465625\" xlink:href=\"#m3841872ec3\" y=\"214.756364\"/>\n      </g>\n     </g>\n     <g id=\"text_9\">\n      <!-- 0.00 -->\n      <defs>\n       <path d=\"M 10.6875 12.40625 \nL 21 12.40625 \nL 21 0 \nL 10.6875 0 \nz\n\" id=\"DejaVuSans-46\"/>\n      </defs>\n      <g transform=\"translate(7.2 218.555582)scale(0.1 -0.1)\">\n       <use xlink:href=\"#DejaVuSans-48\"/>\n       <use x=\"63.623047\" xlink:href=\"#DejaVuSans-46\"/>\n       <use x=\"95.410156\" xlink:href=\"#DejaVuSans-48\"/>\n       <use x=\"159.033203\" xlink:href=\"#DejaVuSans-48\"/>\n      </g>\n     </g>\n    </g>\n    <g id=\"ytick_2\">\n     <g id=\"line2d_10\">\n      <g>\n       <use style=\"stroke:#000000;stroke-width:0.8;\" x=\"36.465625\" xlink:href=\"#m3841872ec3\" y=\"187.334926\"/>\n      </g>\n     </g>\n     <g id=\"text_10\">\n      <!-- 0.01 -->\n      <g transform=\"translate(7.2 191.134145)scale(0.1 -0.1)\">\n       <use xlink:href=\"#DejaVuSans-48\"/>\n       <use x=\"63.623047\" xlink:href=\"#DejaVuSans-46\"/>\n       <use x=\"95.410156\" xlink:href=\"#DejaVuSans-48\"/>\n       <use x=\"159.033203\" xlink:href=\"#DejaVuSans-49\"/>\n      </g>\n     </g>\n    </g>\n    <g id=\"ytick_3\">\n     <g id=\"line2d_11\">\n      <g>\n       <use style=\"stroke:#000000;stroke-width:0.8;\" x=\"36.465625\" xlink:href=\"#m3841872ec3\" y=\"159.913488\"/>\n      </g>\n     </g>\n     <g id=\"text_11\">\n      <!-- 0.02 -->\n      <g transform=\"translate(7.2 163.712707)scale(0.1 -0.1)\">\n       <use xlink:href=\"#DejaVuSans-48\"/>\n       <use x=\"63.623047\" xlink:href=\"#DejaVuSans-46\"/>\n       <use x=\"95.410156\" xlink:href=\"#DejaVuSans-48\"/>\n       <use x=\"159.033203\" xlink:href=\"#DejaVuSans-50\"/>\n      </g>\n     </g>\n    </g>\n    <g id=\"ytick_4\">\n     <g id=\"line2d_12\">\n      <g>\n       <use style=\"stroke:#000000;stroke-width:0.8;\" x=\"36.465625\" xlink:href=\"#m3841872ec3\" y=\"132.49205\"/>\n      </g>\n     </g>\n     <g id=\"text_12\">\n      <!-- 0.03 -->\n      <g transform=\"translate(7.2 136.291269)scale(0.1 -0.1)\">\n       <use xlink:href=\"#DejaVuSans-48\"/>\n       <use x=\"63.623047\" xlink:href=\"#DejaVuSans-46\"/>\n       <use x=\"95.410156\" xlink:href=\"#DejaVuSans-48\"/>\n       <use x=\"159.033203\" xlink:href=\"#DejaVuSans-51\"/>\n      </g>\n     </g>\n    </g>\n    <g id=\"ytick_5\">\n     <g id=\"line2d_13\">\n      <g>\n       <use style=\"stroke:#000000;stroke-width:0.8;\" x=\"36.465625\" xlink:href=\"#m3841872ec3\" y=\"105.070613\"/>\n      </g>\n     </g>\n     <g id=\"text_13\">\n      <!-- 0.04 -->\n      <defs>\n       <path d=\"M 37.796875 64.3125 \nL 12.890625 25.390625 \nL 37.796875 25.390625 \nz\nM 35.203125 72.90625 \nL 47.609375 72.90625 \nL 47.609375 25.390625 \nL 58.015625 25.390625 \nL 58.015625 17.1875 \nL 47.609375 17.1875 \nL 47.609375 0 \nL 37.796875 0 \nL 37.796875 17.1875 \nL 4.890625 17.1875 \nL 4.890625 26.703125 \nz\n\" id=\"DejaVuSans-52\"/>\n      </defs>\n      <g transform=\"translate(7.2 108.869831)scale(0.1 -0.1)\">\n       <use xlink:href=\"#DejaVuSans-48\"/>\n       <use x=\"63.623047\" xlink:href=\"#DejaVuSans-46\"/>\n       <use x=\"95.410156\" xlink:href=\"#DejaVuSans-48\"/>\n       <use x=\"159.033203\" xlink:href=\"#DejaVuSans-52\"/>\n      </g>\n     </g>\n    </g>\n    <g id=\"ytick_6\">\n     <g id=\"line2d_14\">\n      <g>\n       <use style=\"stroke:#000000;stroke-width:0.8;\" x=\"36.465625\" xlink:href=\"#m3841872ec3\" y=\"77.649175\"/>\n      </g>\n     </g>\n     <g id=\"text_14\">\n      <!-- 0.05 -->\n      <g transform=\"translate(7.2 81.448394)scale(0.1 -0.1)\">\n       <use xlink:href=\"#DejaVuSans-48\"/>\n       <use x=\"63.623047\" xlink:href=\"#DejaVuSans-46\"/>\n       <use x=\"95.410156\" xlink:href=\"#DejaVuSans-48\"/>\n       <use x=\"159.033203\" xlink:href=\"#DejaVuSans-53\"/>\n      </g>\n     </g>\n    </g>\n    <g id=\"ytick_7\">\n     <g id=\"line2d_15\">\n      <g>\n       <use style=\"stroke:#000000;stroke-width:0.8;\" x=\"36.465625\" xlink:href=\"#m3841872ec3\" y=\"50.227737\"/>\n      </g>\n     </g>\n     <g id=\"text_15\">\n      <!-- 0.06 -->\n      <defs>\n       <path d=\"M 33.015625 40.375 \nQ 26.375 40.375 22.484375 35.828125 \nQ 18.609375 31.296875 18.609375 23.390625 \nQ 18.609375 15.53125 22.484375 10.953125 \nQ 26.375 6.390625 33.015625 6.390625 \nQ 39.65625 6.390625 43.53125 10.953125 \nQ 47.40625 15.53125 47.40625 23.390625 \nQ 47.40625 31.296875 43.53125 35.828125 \nQ 39.65625 40.375 33.015625 40.375 \nz\nM 52.59375 71.296875 \nL 52.59375 62.3125 \nQ 48.875 64.0625 45.09375 64.984375 \nQ 41.3125 65.921875 37.59375 65.921875 \nQ 27.828125 65.921875 22.671875 59.328125 \nQ 17.53125 52.734375 16.796875 39.40625 \nQ 19.671875 43.65625 24.015625 45.921875 \nQ 28.375 48.1875 33.59375 48.1875 \nQ 44.578125 48.1875 50.953125 41.515625 \nQ 57.328125 34.859375 57.328125 23.390625 \nQ 57.328125 12.15625 50.6875 5.359375 \nQ 44.046875 -1.421875 33.015625 -1.421875 \nQ 20.359375 -1.421875 13.671875 8.265625 \nQ 6.984375 17.96875 6.984375 36.375 \nQ 6.984375 53.65625 15.1875 63.9375 \nQ 23.390625 74.21875 37.203125 74.21875 \nQ 40.921875 74.21875 44.703125 73.484375 \nQ 48.484375 72.75 52.59375 71.296875 \nz\n\" id=\"DejaVuSans-54\"/>\n      </defs>\n      <g transform=\"translate(7.2 54.026956)scale(0.1 -0.1)\">\n       <use xlink:href=\"#DejaVuSans-48\"/>\n       <use x=\"63.623047\" xlink:href=\"#DejaVuSans-46\"/>\n       <use x=\"95.410156\" xlink:href=\"#DejaVuSans-48\"/>\n       <use x=\"159.033203\" xlink:href=\"#DejaVuSans-54\"/>\n      </g>\n     </g>\n    </g>\n    <g id=\"ytick_8\">\n     <g id=\"line2d_16\">\n      <g>\n       <use style=\"stroke:#000000;stroke-width:0.8;\" x=\"36.465625\" xlink:href=\"#m3841872ec3\" y=\"22.806299\"/>\n      </g>\n     </g>\n     <g id=\"text_16\">\n      <!-- 0.07 -->\n      <defs>\n       <path d=\"M 8.203125 72.90625 \nL 55.078125 72.90625 \nL 55.078125 68.703125 \nL 28.609375 0 \nL 18.3125 0 \nL 43.21875 64.59375 \nL 8.203125 64.59375 \nz\n\" id=\"DejaVuSans-55\"/>\n      </defs>\n      <g transform=\"translate(7.2 26.605518)scale(0.1 -0.1)\">\n       <use xlink:href=\"#DejaVuSans-48\"/>\n       <use x=\"63.623047\" xlink:href=\"#DejaVuSans-46\"/>\n       <use x=\"95.410156\" xlink:href=\"#DejaVuSans-48\"/>\n       <use x=\"159.033203\" xlink:href=\"#DejaVuSans-55\"/>\n      </g>\n     </g>\n    </g>\n   </g>\n   <g id=\"line2d_17\">\n    <path clip-path=\"url(#p17c66d0cdc)\" d=\"M 51.683807 177.117681 \nL 52.536366 214.365844 \nL 53.388925 214.140636 \nL 54.241484 205.275706 \nL 55.094044 212.781573 \nL 55.946603 38.577529 \nL 56.799162 212.112364 \nL 57.651721 213.737265 \nL 58.50428 214.042004 \nL 59.35684 213.512454 \nL 60.209399 214.266306 \nL 61.061958 209.72114 \nL 61.914517 213.942554 \nL 62.767076 214.235071 \nL 64.472195 212.105024 \nL 65.324754 202.154121 \nL 66.177313 195.666209 \nL 67.029873 211.004364 \nL 67.882432 196.57289 \nL 68.734991 194.09279 \nL 69.58755 206.750447 \nL 70.440109 214.483102 \nL 71.292669 214.053565 \nL 72.145228 213.327532 \nL 72.997787 214.046277 \nL 73.850346 214.106019 \nL 75.555465 214.558441 \nL 77.260583 213.356939 \nL 78.113142 214.639059 \nL 78.965701 205.289725 \nL 79.818261 214.24959 \nL 80.67082 211.93497 \nL 81.523379 214.340976 \nL 82.375938 211.651459 \nL 83.228497 213.653185 \nL 84.081057 214.388374 \nL 84.933616 212.905055 \nL 85.786175 213.66025 \nL 87.491293 214.070409 \nL 88.343853 214.496839 \nL 89.196412 213.843962 \nL 90.90153 214.52352 \nL 91.754089 214.543635 \nL 92.606649 213.708528 \nL 93.459208 192.89065 \nL 94.311767 214.337653 \nL 95.164326 193.117838 \nL 96.016886 213.967412 \nL 96.869445 214.162592 \nL 97.722004 214.14081 \nL 98.574563 69.8937 \nL 99.427122 214.092008 \nL 100.279682 159.800386 \nL 101.132241 214.022435 \nL 101.9848 214.13956 \nL 102.837359 212.89948 \nL 103.689918 197.157876 \nL 104.542478 17.083636 \nL 105.395037 154.649846 \nL 106.247596 214.756364 \nL 107.100155 202.664915 \nL 107.952714 211.762821 \nL 108.805274 207.950333 \nL 109.657833 209.43984 \nL 110.510392 209.904547 \nL 111.362951 214.756364 \nL 112.21551 211.800573 \nL 113.06807 214.452235 \nL 113.920629 211.004451 \nL 114.773188 214.023216 \nL 115.625747 214.006041 \nL 116.478306 187.384511 \nL 117.330866 214.274169 \nL 118.183425 205.849997 \nL 119.035984 214.261295 \nL 119.888543 214.521445 \nL 120.741102 214.290424 \nL 121.593662 213.704612 \nL 122.446221 214.756364 \nL 123.29878 210.227339 \nL 124.151339 214.756364 \nL 125.003898 214.206306 \nL 125.856458 193.749238 \nL 126.709017 213.703896 \nL 127.561576 214.005174 \nL 128.414135 196.860518 \nL 129.266695 214.485035 \nL 130.119254 214.201931 \nL 130.971813 214.397497 \nL 131.824372 213.969448 \nL 133.529491 213.557723 \nL 134.38205 214.192755 \nL 135.234609 213.912658 \nL 136.087168 172.375796 \nL 136.939727 211.07494 \nL 137.792287 197.681953 \nL 138.644846 211.883701 \nL 139.497405 214.161377 \nL 140.349964 207.013114 \nL 141.202523 207.801877 \nL 142.055083 214.222165 \nL 142.907642 204.461739 \nL 143.760201 213.610334 \nL 144.61276 213.319998 \nL 145.465319 214.219544 \nL 146.317879 206.184418 \nL 147.170438 214.220835 \nL 148.022997 211.234622 \nL 148.875556 214.166025 \nL 149.728115 212.164822 \nL 150.580675 213.083213 \nL 151.433234 173.704865 \nL 152.285793 200.779886 \nL 153.138352 211.044672 \nL 153.990911 201.147725 \nL 154.843471 184.52446 \nL 155.69603 214.157127 \nL 156.548589 213.533477 \nL 157.401148 213.798193 \nL 158.253708 213.934702 \nL 159.106267 193.694367 \nL 159.958826 214.284831 \nL 160.811385 212.654598 \nL 161.663944 214.270087 \nL 162.516504 213.990173 \nL 163.369063 214.144244 \nL 164.221622 212.968215 \nL 165.074181 213.870235 \nL 165.92674 173.454356 \nL 166.7793 214.299565 \nL 167.631859 213.681089 \nL 168.484418 213.743556 \nL 169.336977 214.11352 \nL 170.189536 203.532043 \nL 171.042096 213.475435 \nL 171.894655 180.59841 \nL 172.747214 208.68021 \nL 173.599773 213.787035 \nL 174.452332 210.82402 \nL 175.304892 213.783969 \nL 176.157451 213.932226 \nL 177.01001 182.604058 \nL 177.862569 214.075425 \nL 178.715128 213.902973 \nL 179.567688 79.596737 \nL 180.420247 214.293276 \nL 181.272806 213.64592 \nL 182.125365 211.080956 \nL 182.977924 214.203957 \nL 183.830484 213.181611 \nL 184.683043 213.994511 \nL 185.535602 214.023686 \nL 186.388161 209.786597 \nL 187.24072 213.588867 \nL 188.09328 214.141798 \nL 188.945839 202.189365 \nL 189.798398 214.242982 \nL 190.650957 213.836776 \nL 191.503517 214.19887 \nL 192.356076 209.516653 \nL 193.208635 214.195303 \nL 194.913753 214.119434 \nL 195.766313 212.866921 \nL 196.618872 202.213779 \nL 197.471431 200.498374 \nL 198.32399 209.831951 \nL 199.176549 210.697816 \nL 200.029109 213.924331 \nL 200.881668 212.903642 \nL 201.734227 209.345596 \nL 202.586786 213.680539 \nL 203.439345 213.970477 \nL 204.291905 214.431215 \nL 205.144464 214.026027 \nL 205.997023 207.574124 \nL 206.849582 214.366825 \nL 207.702141 86.787181 \nL 208.554701 214.056092 \nL 209.40726 196.453982 \nL 210.259819 213.779865 \nL 211.112378 214.361774 \nL 211.964937 213.976142 \nL 212.817497 161.061605 \nL 213.670056 206.635776 \nL 214.522615 214.28985 \nL 215.375174 213.929443 \nL 216.227733 214.195288 \nL 217.080293 199.902172 \nL 217.932852 214.249584 \nL 218.785411 214.204149 \nL 219.63797 213.776284 \nL 220.49053 213.965996 \nL 221.343089 212.156282 \nL 222.195648 214.120859 \nL 223.048207 213.20458 \nL 223.900766 205.554216 \nL 224.753326 213.909867 \nL 225.605885 213.709691 \nL 226.458444 213.967259 \nL 227.311003 214.104448 \nL 228.163562 213.599104 \nL 229.016122 214.050108 \nL 229.868681 213.81132 \nL 230.72124 206.888265 \nL 231.573799 189.055622 \nL 232.426358 213.779452 \nL 233.278918 214.436332 \nL 234.131477 213.703662 \nL 234.984036 214.168459 \nL 235.836595 214.078208 \nL 236.689154 213.761476 \nL 237.541714 207.889326 \nL 238.394273 214.046412 \nL 239.246832 214.092941 \nL 240.099391 213.932187 \nL 240.95195 214.040321 \nL 241.80451 214.504973 \nL 242.657069 213.712132 \nL 243.509628 211.245345 \nL 244.362187 214.343334 \nL 245.214746 211.218586 \nL 246.067306 214.37653 \nL 246.919865 214.756364 \nL 247.772424 214.28437 \nL 249.477542 213.884106 \nL 250.330102 213.98954 \nL 251.182661 213.733981 \nL 252.03522 212.643289 \nL 252.887779 203.981714 \nL 253.740339 214.301966 \nL 254.592898 213.625103 \nL 255.445457 213.710202 \nL 256.298016 214.193053 \nL 257.150575 199.066318 \nL 258.003135 211.991637 \nL 258.855694 190.005296 \nL 259.708253 211.842314 \nL 260.560812 212.32678 \nL 261.413371 213.760768 \nL 263.11849 182.271722 \nL 263.971049 213.534271 \nL 264.823608 212.112677 \nL 265.676167 214.198551 \nL 266.528727 204.540866 \nL 267.381286 214.331315 \nL 268.233845 189.876504 \nL 269.086404 213.959195 \nL 269.938963 213.942766 \nL 270.791523 214.056417 \nL 272.496641 213.940786 \nL 273.3492 213.643425 \nL 274.201759 190.769095 \nL 275.054319 213.984225 \nL 275.906878 213.771637 \nL 276.759437 203.56973 \nL 277.611996 210.290792 \nL 278.464555 214.210745 \nL 279.317115 210.380983 \nL 280.169674 213.566472 \nL 281.022233 214.270319 \nL 281.874792 213.512336 \nL 282.727352 212.969411 \nL 283.579911 181.390274 \nL 284.43247 190.121303 \nL 285.285029 214.239186 \nL 286.137588 208.507367 \nL 286.990148 214.245639 \nL 287.842707 212.077474 \nL 288.695266 213.958101 \nL 289.547825 211.481545 \nL 290.400384 197.712584 \nL 291.252944 213.839531 \nL 292.105503 198.965257 \nL 292.958062 210.572598 \nL 293.810621 213.850596 \nL 294.66318 209.404648 \nL 295.51574 212.622383 \nL 296.368299 213.784018 \nL 297.220858 214.24937 \nL 298.073417 203.150098 \nL 298.925976 214.160078 \nL 299.778536 214.452526 \nL 300.631095 211.751553 \nL 301.483654 214.143724 \nL 302.336213 214.756364 \nL 303.188772 193.60079 \nL 304.893891 211.775301 \nL 305.74645 213.384347 \nL 306.599009 214.120817 \nL 307.451568 208.487421 \nL 308.304128 187.510285 \nL 309.156687 208.907171 \nL 310.009246 213.647247 \nL 310.861805 214.156832 \nL 312.566924 214.377343 \nL 313.419483 207.076877 \nL 314.272042 214.325979 \nL 315.124601 214.340546 \nL 315.977161 213.973503 \nL 316.82972 213.985184 \nL 317.682279 214.189189 \nL 318.534838 200.942969 \nL 319.387397 213.797602 \nL 320.239957 213.936009 \nL 321.092516 214.500243 \nL 321.945075 213.977195 \nL 322.797634 212.557252 \nL 323.650193 214.101696 \nL 324.502753 210.145271 \nL 325.355312 202.572938 \nL 326.207871 213.313306 \nL 327.06043 204.854055 \nL 327.912989 213.846244 \nL 328.765549 205.509414 \nL 329.618108 194.19233 \nL 330.470667 214.451397 \nL 331.323226 214.35084 \nL 332.175785 213.867579 \nL 333.028345 214.29257 \nL 333.880904 212.592785 \nL 334.733463 214.141265 \nL 335.586022 213.541042 \nL 336.438581 209.897247 \nL 337.291141 190.951864 \nL 338.1437 208.914941 \nL 338.996259 202.036449 \nL 339.848818 163.713589 \nL 340.701377 207.965726 \nL 341.553937 188.51496 \nL 342.406496 203.443934 \nL 343.259055 213.721122 \nL 344.111614 204.958491 \nL 344.964174 214.756364 \nL 345.816733 213.249493 \nL 346.669292 198.005595 \nL 347.521851 208.754437 \nL 348.37441 212.249876 \nL 349.22697 214.045538 \nL 350.079529 214.048597 \nL 350.932088 214.219613 \nL 351.784647 212.254148 \nL 352.637206 213.757134 \nL 353.489766 182.776168 \nL 354.342325 213.065393 \nL 355.194884 170.521753 \nL 356.047443 197.346413 \nL 356.047443 197.346413 \n\" style=\"fill:none;stroke:#1f77b4;stroke-linecap:square;stroke-width:1.5;\"/>\n   </g>\n   <g id=\"patch_3\">\n    <path d=\"M 36.465625 224.64 \nL 36.465625 7.2 \n\" style=\"fill:none;stroke:#000000;stroke-linecap:square;stroke-linejoin:miter;stroke-width:0.8;\"/>\n   </g>\n   <g id=\"patch_4\">\n    <path d=\"M 371.265625 224.64 \nL 371.265625 7.2 \n\" style=\"fill:none;stroke:#000000;stroke-linecap:square;stroke-linejoin:miter;stroke-width:0.8;\"/>\n   </g>\n   <g id=\"patch_5\">\n    <path d=\"M 36.465625 224.64 \nL 371.265625 224.64 \n\" style=\"fill:none;stroke:#000000;stroke-linecap:square;stroke-linejoin:miter;stroke-width:0.8;\"/>\n   </g>\n   <g id=\"patch_6\">\n    <path d=\"M 36.465625 7.2 \nL 371.265625 7.2 \n\" style=\"fill:none;stroke:#000000;stroke-linecap:square;stroke-linejoin:miter;stroke-width:0.8;\"/>\n   </g>\n  </g>\n </g>\n <defs>\n  <clipPath id=\"p17c66d0cdc\">\n   <rect height=\"217.44\" width=\"334.8\" x=\"36.465625\" y=\"7.2\"/>\n  </clipPath>\n </defs>\n</svg>\n",
      "image/png": "[encoded data removed]"
     },
     "metadata": {
      "needs_background": "light"
     }
    }
   ],
   "source": [
    "plt.plot(xgb_classifier.feature_importances_)"
   ]
  },
  {
   "cell_type": "code",
   "execution_count": null,
   "metadata": {},
   "outputs": [],
   "source": []
  },
  {
   "cell_type": "code",
   "execution_count": 25,
   "metadata": {},
   "outputs": [],
   "source": [
    "# Getting predictions for the test data\n",
    "predictions = xgb_classifier.predict(test_data)"
   ]
  },
  {
   "cell_type": "code",
   "execution_count": 26,
   "metadata": {},
   "outputs": [
    {
     "output_type": "execute_result",
     "data": {
      "text/plain": "42833"
     },
     "metadata": {},
     "execution_count": 26
    }
   ],
   "source": [
    "# Making sure that there are 42826 predictions\n",
    "len(predictions)"
   ]
  },
  {
   "cell_type": "code",
   "execution_count": 27,
   "metadata": {},
   "outputs": [
    {
     "output_type": "execute_result",
     "data": {
      "text/plain": "42833"
     },
     "metadata": {},
     "execution_count": 27
    }
   ],
   "source": [
    "len(test_data)"
   ]
  },
  {
   "cell_type": "code",
   "execution_count": 28,
   "metadata": {},
   "outputs": [],
   "source": [
    "test_data_orig = pd.read_csv(\"../population-segmentation-data/Udacity_MAILOUT_052018_TEST.csv\", sep=\";\")"
   ]
  },
  {
   "cell_type": "code",
   "execution_count": 29,
   "metadata": {},
   "outputs": [
    {
     "output_type": "execute_result",
     "data": {
      "text/plain": "    LNR  AGER_TYP  AKT_DAT_KL  ALTER_HH  ALTER_KIND1  ALTER_KIND2  \\\n0  1754         2         1.0       7.0          NaN          NaN   \n1  1770        -1         1.0       0.0          NaN          NaN   \n2  1465         2         9.0      16.0          NaN          NaN   \n3  1470        -1         7.0       0.0          NaN          NaN   \n4  1478         1         1.0      21.0          NaN          NaN   \n\n   ALTER_KIND3  ALTER_KIND4  ALTERSKATEGORIE_FEIN  ANZ_HAUSHALTE_AKTIV  ...  \\\n0          NaN          NaN                   6.0                  2.0  ...   \n1          NaN          NaN                   0.0                 20.0  ...   \n2          NaN          NaN                  11.0                  2.0  ...   \n3          NaN          NaN                   0.0                  1.0  ...   \n4          NaN          NaN                  13.0                  1.0  ...   \n\n   VHN  VK_DHT4A  VK_DISTANZ  VK_ZG11  W_KEIT_KIND_HH  WOHNDAUER_2008  \\\n0  4.0       5.0         6.0      3.0             6.0             9.0   \n1  1.0       5.0         2.0      1.0             6.0             9.0   \n2  3.0       9.0         6.0      3.0             2.0             9.0   \n3  2.0       6.0         6.0      3.0             NaN             9.0   \n4  1.0       2.0         4.0      3.0             3.0             9.0   \n\n   WOHNLAGE ZABEOTYP ANREDE_KZ ALTERSKATEGORIE_GROB  \n0       3.0        3         1                    4  \n1       5.0        3         1                    4  \n2       4.0        3         2                    4  \n3       2.0        3         2                    4  \n4       7.0        4         2                    4  \n\n[5 rows x 366 columns]",
      "text/html": "<div>\n<style scoped>\n    .dataframe tbody tr th:only-of-type {\n        vertical-align: middle;\n    }\n\n    .dataframe tbody tr th {\n        vertical-align: top;\n    }\n\n    .dataframe thead th {\n        text-align: right;\n    }\n</style>\n<table border=\"1\" class=\"dataframe\">\n  <thead>\n    <tr style=\"text-align: right;\">\n      <th></th>\n      <th>LNR</th>\n      <th>AGER_TYP</th>\n      <th>AKT_DAT_KL</th>\n      <th>ALTER_HH</th>\n      <th>ALTER_KIND1</th>\n      <th>ALTER_KIND2</th>\n      <th>ALTER_KIND3</th>\n      <th>ALTER_KIND4</th>\n      <th>ALTERSKATEGORIE_FEIN</th>\n      <th>ANZ_HAUSHALTE_AKTIV</th>\n      <th>...</th>\n      <th>VHN</th>\n      <th>VK_DHT4A</th>\n      <th>VK_DISTANZ</th>\n      <th>VK_ZG11</th>\n      <th>W_KEIT_KIND_HH</th>\n      <th>WOHNDAUER_2008</th>\n      <th>WOHNLAGE</th>\n      <th>ZABEOTYP</th>\n      <th>ANREDE_KZ</th>\n      <th>ALTERSKATEGORIE_GROB</th>\n    </tr>\n  </thead>\n  <tbody>\n    <tr>\n      <th>0</th>\n      <td>1754</td>\n      <td>2</td>\n      <td>1.0</td>\n      <td>7.0</td>\n      <td>NaN</td>\n      <td>NaN</td>\n      <td>NaN</td>\n      <td>NaN</td>\n      <td>6.0</td>\n      <td>2.0</td>\n      <td>...</td>\n      <td>4.0</td>\n      <td>5.0</td>\n      <td>6.0</td>\n      <td>3.0</td>\n      <td>6.0</td>\n      <td>9.0</td>\n      <td>3.0</td>\n      <td>3</td>\n      <td>1</td>\n      <td>4</td>\n    </tr>\n    <tr>\n      <th>1</th>\n      <td>1770</td>\n      <td>-1</td>\n      <td>1.0</td>\n      <td>0.0</td>\n      <td>NaN</td>\n      <td>NaN</td>\n      <td>NaN</td>\n      <td>NaN</td>\n      <td>0.0</td>\n      <td>20.0</td>\n      <td>...</td>\n      <td>1.0</td>\n      <td>5.0</td>\n      <td>2.0</td>\n      <td>1.0</td>\n      <td>6.0</td>\n      <td>9.0</td>\n      <td>5.0</td>\n      <td>3</td>\n      <td>1</td>\n      <td>4</td>\n    </tr>\n    <tr>\n      <th>2</th>\n      <td>1465</td>\n      <td>2</td>\n      <td>9.0</td>\n      <td>16.0</td>\n      <td>NaN</td>\n      <td>NaN</td>\n      <td>NaN</td>\n      <td>NaN</td>\n      <td>11.0</td>\n      <td>2.0</td>\n      <td>...</td>\n      <td>3.0</td>\n      <td>9.0</td>\n      <td>6.0</td>\n      <td>3.0</td>\n      <td>2.0</td>\n      <td>9.0</td>\n      <td>4.0</td>\n      <td>3</td>\n      <td>2</td>\n      <td>4</td>\n    </tr>\n    <tr>\n      <th>3</th>\n      <td>1470</td>\n      <td>-1</td>\n      <td>7.0</td>\n      <td>0.0</td>\n      <td>NaN</td>\n      <td>NaN</td>\n      <td>NaN</td>\n      <td>NaN</td>\n      <td>0.0</td>\n      <td>1.0</td>\n      <td>...</td>\n      <td>2.0</td>\n      <td>6.0</td>\n      <td>6.0</td>\n      <td>3.0</td>\n      <td>NaN</td>\n      <td>9.0</td>\n      <td>2.0</td>\n      <td>3</td>\n      <td>2</td>\n      <td>4</td>\n    </tr>\n    <tr>\n      <th>4</th>\n      <td>1478</td>\n      <td>1</td>\n      <td>1.0</td>\n      <td>21.0</td>\n      <td>NaN</td>\n      <td>NaN</td>\n      <td>NaN</td>\n      <td>NaN</td>\n      <td>13.0</td>\n      <td>1.0</td>\n      <td>...</td>\n      <td>1.0</td>\n      <td>2.0</td>\n      <td>4.0</td>\n      <td>3.0</td>\n      <td>3.0</td>\n      <td>9.0</td>\n      <td>7.0</td>\n      <td>4</td>\n      <td>2</td>\n      <td>4</td>\n    </tr>\n  </tbody>\n</table>\n<p>5 rows × 366 columns</p>\n</div>"
     },
     "metadata": {},
     "execution_count": 29
    }
   ],
   "source": [
    "test_data_orig.head()"
   ]
  },
  {
   "cell_type": "code",
   "execution_count": 30,
   "metadata": {},
   "outputs": [
    {
     "output_type": "execute_result",
     "data": {
      "text/plain": "(42833, 366)"
     },
     "metadata": {},
     "execution_count": 30
    }
   ],
   "source": [
    "test_data_orig.shape"
   ]
  },
  {
   "cell_type": "code",
   "execution_count": 31,
   "metadata": {},
   "outputs": [],
   "source": [
    "# Getting the LNR from the original test data\n",
    "LNR = test_data_orig[\"LNR\"]"
   ]
  },
  {
   "cell_type": "code",
   "execution_count": 32,
   "metadata": {
    "tags": []
   },
   "outputs": [
    {
     "output_type": "stream",
     "name": "stdout",
     "text": "0    1754\n1    1770\n2    1465\n3    1470\n4    1478\n5    1782\n6    1485\n7    1519\n8    1835\n9    1522\nName: LNR, dtype: int64\n"
    }
   ],
   "source": [
    "print(LNR[:10])"
   ]
  },
  {
   "cell_type": "code",
   "execution_count": 33,
   "metadata": {},
   "outputs": [],
   "source": [
    "# Creating a dataframe that contains the LNR and predictions\n",
    "submission_df = pd.DataFrame({'LNR': LNR, 'RESPONSE': predictions})"
   ]
  },
  {
   "cell_type": "code",
   "execution_count": 34,
   "metadata": {},
   "outputs": [
    {
     "output_type": "execute_result",
     "data": {
      "text/plain": "894"
     },
     "metadata": {},
     "execution_count": 34
    }
   ],
   "source": [
    "len(submission_df[submission_df[\"RESPONSE\"]==1])"
   ]
  },
  {
   "cell_type": "code",
   "execution_count": 35,
   "metadata": {},
   "outputs": [],
   "source": [
    "submission_df.to_csv('/Users/mani/Desktop/population-segmentation-data/results.csv')"
   ]
  },
  {
   "cell_type": "code",
   "execution_count": null,
   "metadata": {},
   "outputs": [],
   "source": []
  }
 ],
 "metadata": {
  "kernelspec": {
   "display_name": "Python 3.7.6 64-bit ('base': conda)",
   "language": "python",
   "name": "python_defaultSpec_1594686282669"
  },
  "language_info": {
   "codemirror_mode": {
    "name": "ipython",
    "version": 3
   },
   "file_extension": ".py",
   "mimetype": "text/x-python",
   "name": "python",
   "nbconvert_exporter": "python",
   "pygments_lexer": "ipython3",
   "version": "3.7.6-final"
  }
 },
 "nbformat": 4,
 "nbformat_minor": 2
}