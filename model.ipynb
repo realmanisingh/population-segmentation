{
 "cells": [
  {
   "cell_type": "code",
   "execution_count": 694,
   "metadata": {},
   "outputs": [],
   "source": [
    "import pandas as pd\n",
    "import numpy as np\n",
    "import matplotlib.pyplot as plt\n",
    "import seaborn as sns"
   ]
  },
  {
   "cell_type": "code",
   "execution_count": 695,
   "metadata": {},
   "outputs": [],
   "source": [
    "# Reading in the data\n",
    "train_data = pd.read_csv(\"../population-segmentation-data/train_data.csv\", sep=\";\", index_col=0)\n",
    "test_data = pd.read_csv(\"../population-segmentation-data/test_data.csv\", sep=\";\", index_col=0)"
   ]
  },
  {
   "cell_type": "code",
   "execution_count": 696,
   "metadata": {},
   "outputs": [
    {
     "output_type": "execute_result",
     "data": {
      "text/plain": "   AGER_TYP  AKT_DAT_KL  ALTER_HH  ALTERSKATEGORIE_FEIN  ANZ_HAUSHALTE_AKTIV  \\\n0         2         1.0       8.0                   8.0                 15.0   \n1         1         4.0      13.0                  13.0                  1.0   \n2         1         1.0       9.0                   7.0                  0.0   \n3         2         1.0       6.0                   6.0                  4.0   \n4         2         1.0       9.0                   9.0                 53.0   \n\n   ANZ_HH_TITEL  ANZ_KINDER  ANZ_PERSONEN  ANZ_STATISTISCHE_HAUSHALTE  \\\n0           0.0         0.0           1.0                        13.0   \n1           0.0         0.0           2.0                         1.0   \n2          -1.0         0.0           0.0                         1.0   \n3           0.0         0.0           2.0                         4.0   \n4           0.0         0.0           1.0                        44.0   \n\n   ANZ_TITEL  ...  VK_DHT4A  VK_DISTANZ  VK_ZG11  W_KEIT_KIND_HH  \\\n0        0.0  ...       5.0         2.0      1.0             6.0   \n1        0.0  ...       1.0         2.0      1.0             4.0   \n2        0.0  ...       6.0         4.0      2.0            -1.0   \n3        0.0  ...       8.0        11.0     11.0             6.0   \n4        0.0  ...       2.0         2.0      1.0             6.0   \n\n   WOHNDAUER_2008  WOHNLAGE  ZABEOTYP  RESPONSE  ANREDE_KZ  \\\n0             9.0       3.0         3         0          2   \n1             9.0       7.0         1         0          2   \n2             9.0       2.0         3         0          1   \n3             9.0       1.0         3         0          2   \n4             9.0       3.0         3         0          1   \n\n   ALTERSKATEGORIE_GROB  \n0                     4  \n1                     3  \n2                     4  \n3                     4  \n4                     3  \n\n[5 rows x 359 columns]",
      "text/html": "<div>\n<style scoped>\n    .dataframe tbody tr th:only-of-type {\n        vertical-align: middle;\n    }\n\n    .dataframe tbody tr th {\n        vertical-align: top;\n    }\n\n    .dataframe thead th {\n        text-align: right;\n    }\n</style>\n<table border=\"1\" class=\"dataframe\">\n  <thead>\n    <tr style=\"text-align: right;\">\n      <th></th>\n      <th>AGER_TYP</th>\n      <th>AKT_DAT_KL</th>\n      <th>ALTER_HH</th>\n      <th>ALTERSKATEGORIE_FEIN</th>\n      <th>ANZ_HAUSHALTE_AKTIV</th>\n      <th>ANZ_HH_TITEL</th>\n      <th>ANZ_KINDER</th>\n      <th>ANZ_PERSONEN</th>\n      <th>ANZ_STATISTISCHE_HAUSHALTE</th>\n      <th>ANZ_TITEL</th>\n      <th>...</th>\n      <th>VK_DHT4A</th>\n      <th>VK_DISTANZ</th>\n      <th>VK_ZG11</th>\n      <th>W_KEIT_KIND_HH</th>\n      <th>WOHNDAUER_2008</th>\n      <th>WOHNLAGE</th>\n      <th>ZABEOTYP</th>\n      <th>RESPONSE</th>\n      <th>ANREDE_KZ</th>\n      <th>ALTERSKATEGORIE_GROB</th>\n    </tr>\n  </thead>\n  <tbody>\n    <tr>\n      <th>0</th>\n      <td>2</td>\n      <td>1.0</td>\n      <td>8.0</td>\n      <td>8.0</td>\n      <td>15.0</td>\n      <td>0.0</td>\n      <td>0.0</td>\n      <td>1.0</td>\n      <td>13.0</td>\n      <td>0.0</td>\n      <td>...</td>\n      <td>5.0</td>\n      <td>2.0</td>\n      <td>1.0</td>\n      <td>6.0</td>\n      <td>9.0</td>\n      <td>3.0</td>\n      <td>3</td>\n      <td>0</td>\n      <td>2</td>\n      <td>4</td>\n    </tr>\n    <tr>\n      <th>1</th>\n      <td>1</td>\n      <td>4.0</td>\n      <td>13.0</td>\n      <td>13.0</td>\n      <td>1.0</td>\n      <td>0.0</td>\n      <td>0.0</td>\n      <td>2.0</td>\n      <td>1.0</td>\n      <td>0.0</td>\n      <td>...</td>\n      <td>1.0</td>\n      <td>2.0</td>\n      <td>1.0</td>\n      <td>4.0</td>\n      <td>9.0</td>\n      <td>7.0</td>\n      <td>1</td>\n      <td>0</td>\n      <td>2</td>\n      <td>3</td>\n    </tr>\n    <tr>\n      <th>2</th>\n      <td>1</td>\n      <td>1.0</td>\n      <td>9.0</td>\n      <td>7.0</td>\n      <td>0.0</td>\n      <td>-1.0</td>\n      <td>0.0</td>\n      <td>0.0</td>\n      <td>1.0</td>\n      <td>0.0</td>\n      <td>...</td>\n      <td>6.0</td>\n      <td>4.0</td>\n      <td>2.0</td>\n      <td>-1.0</td>\n      <td>9.0</td>\n      <td>2.0</td>\n      <td>3</td>\n      <td>0</td>\n      <td>1</td>\n      <td>4</td>\n    </tr>\n    <tr>\n      <th>3</th>\n      <td>2</td>\n      <td>1.0</td>\n      <td>6.0</td>\n      <td>6.0</td>\n      <td>4.0</td>\n      <td>0.0</td>\n      <td>0.0</td>\n      <td>2.0</td>\n      <td>4.0</td>\n      <td>0.0</td>\n      <td>...</td>\n      <td>8.0</td>\n      <td>11.0</td>\n      <td>11.0</td>\n      <td>6.0</td>\n      <td>9.0</td>\n      <td>1.0</td>\n      <td>3</td>\n      <td>0</td>\n      <td>2</td>\n      <td>4</td>\n    </tr>\n    <tr>\n      <th>4</th>\n      <td>2</td>\n      <td>1.0</td>\n      <td>9.0</td>\n      <td>9.0</td>\n      <td>53.0</td>\n      <td>0.0</td>\n      <td>0.0</td>\n      <td>1.0</td>\n      <td>44.0</td>\n      <td>0.0</td>\n      <td>...</td>\n      <td>2.0</td>\n      <td>2.0</td>\n      <td>1.0</td>\n      <td>6.0</td>\n      <td>9.0</td>\n      <td>3.0</td>\n      <td>3</td>\n      <td>0</td>\n      <td>1</td>\n      <td>3</td>\n    </tr>\n  </tbody>\n</table>\n<p>5 rows × 359 columns</p>\n</div>"
     },
     "metadata": {},
     "execution_count": 696
    }
   ],
   "source": [
    "train_data.head()"
   ]
  },
  {
   "cell_type": "code",
   "execution_count": 697,
   "metadata": {},
   "outputs": [
    {
     "output_type": "display_data",
     "data": {
      "text/plain": "<Figure size 604.8x489.6 with 1 Axes>",
      "image/svg+xml": "<?xml version=\"1.0\" encoding=\"utf-8\" standalone=\"no\"?>\n<!DOCTYPE svg PUBLIC \"-//W3C//DTD SVG 1.1//EN\"\n  \"http://www.w3.org/Graphics/SVG/1.1/DTD/svg11.dtd\">\n<!-- Created with matplotlib (https://matplotlib.org/) -->\n<svg height=\"415.84425pt\" version=\"1.1\" viewBox=\"0 0 521.9325 415.84425\" width=\"521.9325pt\" xmlns=\"http://www.w3.org/2000/svg\" xmlns:xlink=\"http://www.w3.org/1999/xlink\">\n <defs>\n  <style type=\"text/css\">\n*{stroke-linecap:butt;stroke-linejoin:round;}\n  </style>\n </defs>\n <g id=\"figure_1\">\n  <g id=\"patch_1\">\n   <path d=\"M 0 415.84425 \nL 521.9325 415.84425 \nL 521.9325 0 \nL 0 0 \nz\n\" style=\"fill:none;\"/>\n  </g>\n  <g id=\"axes_1\">\n   <g id=\"patch_2\">\n    <path d=\"M 46.0125 391.966125 \nL 514.7325 391.966125 \nL 514.7325 22.318125 \nL 46.0125 22.318125 \nz\n\" style=\"fill:#ebedf0;\"/>\n   </g>\n   <g id=\"patch_3\">\n    <path clip-path=\"url(#p6c7063552a)\" d=\"M 67.317955 391.966125 \nL 109.928864 391.966125 \nL 109.928864 39.920411 \nL 67.317955 39.920411 \nz\n\" style=\"fill:#1f77b4;\"/>\n   </g>\n   <g id=\"patch_4\">\n    <path clip-path=\"url(#p6c7063552a)\" d=\"M 109.928864 391.966125 \nL 152.539773 391.966125 \nL 152.539773 391.966125 \nL 109.928864 391.966125 \nz\n\" style=\"fill:#1f77b4;\"/>\n   </g>\n   <g id=\"patch_5\">\n    <path clip-path=\"url(#p6c7063552a)\" d=\"M 152.539773 391.966125 \nL 195.150682 391.966125 \nL 195.150682 391.966125 \nL 152.539773 391.966125 \nz\n\" style=\"fill:#1f77b4;\"/>\n   </g>\n   <g id=\"patch_6\">\n    <path clip-path=\"url(#p6c7063552a)\" d=\"M 195.150682 391.966125 \nL 237.761591 391.966125 \nL 237.761591 391.966125 \nL 195.150682 391.966125 \nz\n\" style=\"fill:#1f77b4;\"/>\n   </g>\n   <g id=\"patch_7\">\n    <path clip-path=\"url(#p6c7063552a)\" d=\"M 237.761591 391.966125 \nL 280.3725 391.966125 \nL 280.3725 391.966125 \nL 237.761591 391.966125 \nz\n\" style=\"fill:#1f77b4;\"/>\n   </g>\n   <g id=\"patch_8\">\n    <path clip-path=\"url(#p6c7063552a)\" d=\"M 280.3725 391.966125 \nL 322.983409 391.966125 \nL 322.983409 391.966125 \nL 280.3725 391.966125 \nz\n\" style=\"fill:#1f77b4;\"/>\n   </g>\n   <g id=\"patch_9\">\n    <path clip-path=\"url(#p6c7063552a)\" d=\"M 322.983409 391.966125 \nL 365.594318 391.966125 \nL 365.594318 391.966125 \nL 322.983409 391.966125 \nz\n\" style=\"fill:#1f77b4;\"/>\n   </g>\n   <g id=\"patch_10\">\n    <path clip-path=\"url(#p6c7063552a)\" d=\"M 365.594318 391.966125 \nL 408.205227 391.966125 \nL 408.205227 391.966125 \nL 365.594318 391.966125 \nz\n\" style=\"fill:#1f77b4;\"/>\n   </g>\n   <g id=\"patch_11\">\n    <path clip-path=\"url(#p6c7063552a)\" d=\"M 408.205227 391.966125 \nL 450.816136 391.966125 \nL 450.816136 391.966125 \nL 408.205227 391.966125 \nz\n\" style=\"fill:#1f77b4;\"/>\n   </g>\n   <g id=\"patch_12\">\n    <path clip-path=\"url(#p6c7063552a)\" d=\"M 450.816136 391.966125 \nL 493.427045 391.966125 \nL 493.427045 387.552071 \nL 450.816136 387.552071 \nz\n\" style=\"fill:#1f77b4;\"/>\n   </g>\n   <g id=\"matplotlib.axis_1\">\n    <g id=\"xtick_1\">\n     <g id=\"line2d_1\">\n      <path clip-path=\"url(#p6c7063552a)\" d=\"M 67.317955 391.966125 \nL 67.317955 22.318125 \n\" style=\"fill:none;stroke:#808080;stroke-linecap:square;stroke-opacity:0.5;stroke-width:0.25;\"/>\n     </g>\n     <g id=\"line2d_2\">\n      <defs>\n       <path d=\"M 0 0 \nL 0 3.5 \n\" id=\"m78124fb26f\" style=\"stroke:#000000;stroke-width:0.8;\"/>\n      </defs>\n      <g>\n       <use style=\"stroke:#000000;stroke-width:0.8;\" x=\"67.317955\" xlink:href=\"#m78124fb26f\" y=\"391.966125\"/>\n      </g>\n     </g>\n     <g id=\"text_1\">\n      <!-- 0.0 -->\n      <defs>\n       <path d=\"M 31.78125 66.40625 \nQ 24.171875 66.40625 20.328125 58.90625 \nQ 16.5 51.421875 16.5 36.375 \nQ 16.5 21.390625 20.328125 13.890625 \nQ 24.171875 6.390625 31.78125 6.390625 \nQ 39.453125 6.390625 43.28125 13.890625 \nQ 47.125 21.390625 47.125 36.375 \nQ 47.125 51.421875 43.28125 58.90625 \nQ 39.453125 66.40625 31.78125 66.40625 \nz\nM 31.78125 74.21875 \nQ 44.046875 74.21875 50.515625 64.515625 \nQ 56.984375 54.828125 56.984375 36.375 \nQ 56.984375 17.96875 50.515625 8.265625 \nQ 44.046875 -1.421875 31.78125 -1.421875 \nQ 19.53125 -1.421875 13.0625 8.265625 \nQ 6.59375 17.96875 6.59375 36.375 \nQ 6.59375 54.828125 13.0625 64.515625 \nQ 19.53125 74.21875 31.78125 74.21875 \nz\n\" id=\"DejaVuSans-48\"/>\n       <path d=\"M 10.6875 12.40625 \nL 21 12.40625 \nL 21 0 \nL 10.6875 0 \nz\n\" id=\"DejaVuSans-46\"/>\n      </defs>\n      <g transform=\"translate(59.366392 406.564562)scale(0.1 -0.1)\">\n       <use xlink:href=\"#DejaVuSans-48\"/>\n       <use x=\"63.623047\" xlink:href=\"#DejaVuSans-46\"/>\n       <use x=\"95.410156\" xlink:href=\"#DejaVuSans-48\"/>\n      </g>\n     </g>\n    </g>\n    <g id=\"xtick_2\">\n     <g id=\"line2d_3\">\n      <path clip-path=\"url(#p6c7063552a)\" d=\"M 152.539773 391.966125 \nL 152.539773 22.318125 \n\" style=\"fill:none;stroke:#808080;stroke-linecap:square;stroke-opacity:0.5;stroke-width:0.25;\"/>\n     </g>\n     <g id=\"line2d_4\">\n      <g>\n       <use style=\"stroke:#000000;stroke-width:0.8;\" x=\"152.539773\" xlink:href=\"#m78124fb26f\" y=\"391.966125\"/>\n      </g>\n     </g>\n     <g id=\"text_2\">\n      <!-- 0.2 -->\n      <defs>\n       <path d=\"M 19.1875 8.296875 \nL 53.609375 8.296875 \nL 53.609375 0 \nL 7.328125 0 \nL 7.328125 8.296875 \nQ 12.9375 14.109375 22.625 23.890625 \nQ 32.328125 33.6875 34.8125 36.53125 \nQ 39.546875 41.84375 41.421875 45.53125 \nQ 43.3125 49.21875 43.3125 52.78125 \nQ 43.3125 58.59375 39.234375 62.25 \nQ 35.15625 65.921875 28.609375 65.921875 \nQ 23.96875 65.921875 18.8125 64.3125 \nQ 13.671875 62.703125 7.8125 59.421875 \nL 7.8125 69.390625 \nQ 13.765625 71.78125 18.9375 73 \nQ 24.125 74.21875 28.421875 74.21875 \nQ 39.75 74.21875 46.484375 68.546875 \nQ 53.21875 62.890625 53.21875 53.421875 \nQ 53.21875 48.921875 51.53125 44.890625 \nQ 49.859375 40.875 45.40625 35.40625 \nQ 44.1875 33.984375 37.640625 27.21875 \nQ 31.109375 20.453125 19.1875 8.296875 \nz\n\" id=\"DejaVuSans-50\"/>\n      </defs>\n      <g transform=\"translate(144.58821 406.564562)scale(0.1 -0.1)\">\n       <use xlink:href=\"#DejaVuSans-48\"/>\n       <use x=\"63.623047\" xlink:href=\"#DejaVuSans-46\"/>\n       <use x=\"95.410156\" xlink:href=\"#DejaVuSans-50\"/>\n      </g>\n     </g>\n    </g>\n    <g id=\"xtick_3\">\n     <g id=\"line2d_5\">\n      <path clip-path=\"url(#p6c7063552a)\" d=\"M 237.761591 391.966125 \nL 237.761591 22.318125 \n\" style=\"fill:none;stroke:#808080;stroke-linecap:square;stroke-opacity:0.5;stroke-width:0.25;\"/>\n     </g>\n     <g id=\"line2d_6\">\n      <g>\n       <use style=\"stroke:#000000;stroke-width:0.8;\" x=\"237.761591\" xlink:href=\"#m78124fb26f\" y=\"391.966125\"/>\n      </g>\n     </g>\n     <g id=\"text_3\">\n      <!-- 0.4 -->\n      <defs>\n       <path d=\"M 37.796875 64.3125 \nL 12.890625 25.390625 \nL 37.796875 25.390625 \nz\nM 35.203125 72.90625 \nL 47.609375 72.90625 \nL 47.609375 25.390625 \nL 58.015625 25.390625 \nL 58.015625 17.1875 \nL 47.609375 17.1875 \nL 47.609375 0 \nL 37.796875 0 \nL 37.796875 17.1875 \nL 4.890625 17.1875 \nL 4.890625 26.703125 \nz\n\" id=\"DejaVuSans-52\"/>\n      </defs>\n      <g transform=\"translate(229.810028 406.564562)scale(0.1 -0.1)\">\n       <use xlink:href=\"#DejaVuSans-48\"/>\n       <use x=\"63.623047\" xlink:href=\"#DejaVuSans-46\"/>\n       <use x=\"95.410156\" xlink:href=\"#DejaVuSans-52\"/>\n      </g>\n     </g>\n    </g>\n    <g id=\"xtick_4\">\n     <g id=\"line2d_7\">\n      <path clip-path=\"url(#p6c7063552a)\" d=\"M 322.983409 391.966125 \nL 322.983409 22.318125 \n\" style=\"fill:none;stroke:#808080;stroke-linecap:square;stroke-opacity:0.5;stroke-width:0.25;\"/>\n     </g>\n     <g id=\"line2d_8\">\n      <g>\n       <use style=\"stroke:#000000;stroke-width:0.8;\" x=\"322.983409\" xlink:href=\"#m78124fb26f\" y=\"391.966125\"/>\n      </g>\n     </g>\n     <g id=\"text_4\">\n      <!-- 0.6 -->\n      <defs>\n       <path d=\"M 33.015625 40.375 \nQ 26.375 40.375 22.484375 35.828125 \nQ 18.609375 31.296875 18.609375 23.390625 \nQ 18.609375 15.53125 22.484375 10.953125 \nQ 26.375 6.390625 33.015625 6.390625 \nQ 39.65625 6.390625 43.53125 10.953125 \nQ 47.40625 15.53125 47.40625 23.390625 \nQ 47.40625 31.296875 43.53125 35.828125 \nQ 39.65625 40.375 33.015625 40.375 \nz\nM 52.59375 71.296875 \nL 52.59375 62.3125 \nQ 48.875 64.0625 45.09375 64.984375 \nQ 41.3125 65.921875 37.59375 65.921875 \nQ 27.828125 65.921875 22.671875 59.328125 \nQ 17.53125 52.734375 16.796875 39.40625 \nQ 19.671875 43.65625 24.015625 45.921875 \nQ 28.375 48.1875 33.59375 48.1875 \nQ 44.578125 48.1875 50.953125 41.515625 \nQ 57.328125 34.859375 57.328125 23.390625 \nQ 57.328125 12.15625 50.6875 5.359375 \nQ 44.046875 -1.421875 33.015625 -1.421875 \nQ 20.359375 -1.421875 13.671875 8.265625 \nQ 6.984375 17.96875 6.984375 36.375 \nQ 6.984375 53.65625 15.1875 63.9375 \nQ 23.390625 74.21875 37.203125 74.21875 \nQ 40.921875 74.21875 44.703125 73.484375 \nQ 48.484375 72.75 52.59375 71.296875 \nz\n\" id=\"DejaVuSans-54\"/>\n      </defs>\n      <g transform=\"translate(315.031847 406.564562)scale(0.1 -0.1)\">\n       <use xlink:href=\"#DejaVuSans-48\"/>\n       <use x=\"63.623047\" xlink:href=\"#DejaVuSans-46\"/>\n       <use x=\"95.410156\" xlink:href=\"#DejaVuSans-54\"/>\n      </g>\n     </g>\n    </g>\n    <g id=\"xtick_5\">\n     <g id=\"line2d_9\">\n      <path clip-path=\"url(#p6c7063552a)\" d=\"M 408.205227 391.966125 \nL 408.205227 22.318125 \n\" style=\"fill:none;stroke:#808080;stroke-linecap:square;stroke-opacity:0.5;stroke-width:0.25;\"/>\n     </g>\n     <g id=\"line2d_10\">\n      <g>\n       <use style=\"stroke:#000000;stroke-width:0.8;\" x=\"408.205227\" xlink:href=\"#m78124fb26f\" y=\"391.966125\"/>\n      </g>\n     </g>\n     <g id=\"text_5\">\n      <!-- 0.8 -->\n      <defs>\n       <path d=\"M 31.78125 34.625 \nQ 24.75 34.625 20.71875 30.859375 \nQ 16.703125 27.09375 16.703125 20.515625 \nQ 16.703125 13.921875 20.71875 10.15625 \nQ 24.75 6.390625 31.78125 6.390625 \nQ 38.8125 6.390625 42.859375 10.171875 \nQ 46.921875 13.96875 46.921875 20.515625 \nQ 46.921875 27.09375 42.890625 30.859375 \nQ 38.875 34.625 31.78125 34.625 \nz\nM 21.921875 38.8125 \nQ 15.578125 40.375 12.03125 44.71875 \nQ 8.5 49.078125 8.5 55.328125 \nQ 8.5 64.0625 14.71875 69.140625 \nQ 20.953125 74.21875 31.78125 74.21875 \nQ 42.671875 74.21875 48.875 69.140625 \nQ 55.078125 64.0625 55.078125 55.328125 \nQ 55.078125 49.078125 51.53125 44.71875 \nQ 48 40.375 41.703125 38.8125 \nQ 48.828125 37.15625 52.796875 32.3125 \nQ 56.78125 27.484375 56.78125 20.515625 \nQ 56.78125 9.90625 50.3125 4.234375 \nQ 43.84375 -1.421875 31.78125 -1.421875 \nQ 19.734375 -1.421875 13.25 4.234375 \nQ 6.78125 9.90625 6.78125 20.515625 \nQ 6.78125 27.484375 10.78125 32.3125 \nQ 14.796875 37.15625 21.921875 38.8125 \nz\nM 18.3125 54.390625 \nQ 18.3125 48.734375 21.84375 45.5625 \nQ 25.390625 42.390625 31.78125 42.390625 \nQ 38.140625 42.390625 41.71875 45.5625 \nQ 45.3125 48.734375 45.3125 54.390625 \nQ 45.3125 60.0625 41.71875 63.234375 \nQ 38.140625 66.40625 31.78125 66.40625 \nQ 25.390625 66.40625 21.84375 63.234375 \nQ 18.3125 60.0625 18.3125 54.390625 \nz\n\" id=\"DejaVuSans-56\"/>\n      </defs>\n      <g transform=\"translate(400.253665 406.564562)scale(0.1 -0.1)\">\n       <use xlink:href=\"#DejaVuSans-48\"/>\n       <use x=\"63.623047\" xlink:href=\"#DejaVuSans-46\"/>\n       <use x=\"95.410156\" xlink:href=\"#DejaVuSans-56\"/>\n      </g>\n     </g>\n    </g>\n    <g id=\"xtick_6\">\n     <g id=\"line2d_11\">\n      <path clip-path=\"url(#p6c7063552a)\" d=\"M 493.427045 391.966125 \nL 493.427045 22.318125 \n\" style=\"fill:none;stroke:#808080;stroke-linecap:square;stroke-opacity:0.5;stroke-width:0.25;\"/>\n     </g>\n     <g id=\"line2d_12\">\n      <g>\n       <use style=\"stroke:#000000;stroke-width:0.8;\" x=\"493.427045\" xlink:href=\"#m78124fb26f\" y=\"391.966125\"/>\n      </g>\n     </g>\n     <g id=\"text_6\">\n      <!-- 1.0 -->\n      <defs>\n       <path d=\"M 12.40625 8.296875 \nL 28.515625 8.296875 \nL 28.515625 63.921875 \nL 10.984375 60.40625 \nL 10.984375 69.390625 \nL 28.421875 72.90625 \nL 38.28125 72.90625 \nL 38.28125 8.296875 \nL 54.390625 8.296875 \nL 54.390625 0 \nL 12.40625 0 \nz\n\" id=\"DejaVuSans-49\"/>\n      </defs>\n      <g transform=\"translate(485.475483 406.564562)scale(0.1 -0.1)\">\n       <use xlink:href=\"#DejaVuSans-49\"/>\n       <use x=\"63.623047\" xlink:href=\"#DejaVuSans-46\"/>\n       <use x=\"95.410156\" xlink:href=\"#DejaVuSans-48\"/>\n      </g>\n     </g>\n    </g>\n   </g>\n   <g id=\"matplotlib.axis_2\">\n    <g id=\"ytick_1\">\n     <g id=\"line2d_13\">\n      <path clip-path=\"url(#p6c7063552a)\" d=\"M 46.0125 391.966125 \nL 514.7325 391.966125 \n\" style=\"fill:none;stroke:#808080;stroke-linecap:square;stroke-opacity:0.5;stroke-width:0.25;\"/>\n     </g>\n     <g id=\"line2d_14\">\n      <defs>\n       <path d=\"M 0 0 \nL -3.5 0 \n\" id=\"mf7d8d874b4\" style=\"stroke:#000000;stroke-width:0.8;\"/>\n      </defs>\n      <g>\n       <use style=\"stroke:#000000;stroke-width:0.8;\" x=\"46.0125\" xlink:href=\"#mf7d8d874b4\" y=\"391.966125\"/>\n      </g>\n     </g>\n     <g id=\"text_7\">\n      <!-- 0 -->\n      <g transform=\"translate(32.65 395.765344)scale(0.1 -0.1)\">\n       <use xlink:href=\"#DejaVuSans-48\"/>\n      </g>\n     </g>\n    </g>\n    <g id=\"ytick_2\">\n     <g id=\"line2d_15\">\n      <path clip-path=\"url(#p6c7063552a)\" d=\"M 46.0125 350.480653 \nL 514.7325 350.480653 \n\" style=\"fill:none;stroke:#808080;stroke-linecap:square;stroke-opacity:0.5;stroke-width:0.25;\"/>\n     </g>\n     <g id=\"line2d_16\">\n      <g>\n       <use style=\"stroke:#000000;stroke-width:0.8;\" x=\"46.0125\" xlink:href=\"#mf7d8d874b4\" y=\"350.480653\"/>\n      </g>\n     </g>\n     <g id=\"text_8\">\n      <!-- 5000 -->\n      <defs>\n       <path d=\"M 10.796875 72.90625 \nL 49.515625 72.90625 \nL 49.515625 64.59375 \nL 19.828125 64.59375 \nL 19.828125 46.734375 \nQ 21.96875 47.46875 24.109375 47.828125 \nQ 26.265625 48.1875 28.421875 48.1875 \nQ 40.625 48.1875 47.75 41.5 \nQ 54.890625 34.8125 54.890625 23.390625 \nQ 54.890625 11.625 47.5625 5.09375 \nQ 40.234375 -1.421875 26.90625 -1.421875 \nQ 22.3125 -1.421875 17.546875 -0.640625 \nQ 12.796875 0.140625 7.71875 1.703125 \nL 7.71875 11.625 \nQ 12.109375 9.234375 16.796875 8.0625 \nQ 21.484375 6.890625 26.703125 6.890625 \nQ 35.15625 6.890625 40.078125 11.328125 \nQ 45.015625 15.765625 45.015625 23.390625 \nQ 45.015625 31 40.078125 35.4375 \nQ 35.15625 39.890625 26.703125 39.890625 \nQ 22.75 39.890625 18.8125 39.015625 \nQ 14.890625 38.140625 10.796875 36.28125 \nz\n\" id=\"DejaVuSans-53\"/>\n      </defs>\n      <g transform=\"translate(13.5625 354.279872)scale(0.1 -0.1)\">\n       <use xlink:href=\"#DejaVuSans-53\"/>\n       <use x=\"63.623047\" xlink:href=\"#DejaVuSans-48\"/>\n       <use x=\"127.246094\" xlink:href=\"#DejaVuSans-48\"/>\n       <use x=\"190.869141\" xlink:href=\"#DejaVuSans-48\"/>\n      </g>\n     </g>\n    </g>\n    <g id=\"ytick_3\">\n     <g id=\"line2d_17\">\n      <path clip-path=\"url(#p6c7063552a)\" d=\"M 46.0125 308.995181 \nL 514.7325 308.995181 \n\" style=\"fill:none;stroke:#808080;stroke-linecap:square;stroke-opacity:0.5;stroke-width:0.25;\"/>\n     </g>\n     <g id=\"line2d_18\">\n      <g>\n       <use style=\"stroke:#000000;stroke-width:0.8;\" x=\"46.0125\" xlink:href=\"#mf7d8d874b4\" y=\"308.995181\"/>\n      </g>\n     </g>\n     <g id=\"text_9\">\n      <!-- 10000 -->\n      <g transform=\"translate(7.2 312.7944)scale(0.1 -0.1)\">\n       <use xlink:href=\"#DejaVuSans-49\"/>\n       <use x=\"63.623047\" xlink:href=\"#DejaVuSans-48\"/>\n       <use x=\"127.246094\" xlink:href=\"#DejaVuSans-48\"/>\n       <use x=\"190.869141\" xlink:href=\"#DejaVuSans-48\"/>\n       <use x=\"254.492188\" xlink:href=\"#DejaVuSans-48\"/>\n      </g>\n     </g>\n    </g>\n    <g id=\"ytick_4\">\n     <g id=\"line2d_19\">\n      <path clip-path=\"url(#p6c7063552a)\" d=\"M 46.0125 267.509709 \nL 514.7325 267.509709 \n\" style=\"fill:none;stroke:#808080;stroke-linecap:square;stroke-opacity:0.5;stroke-width:0.25;\"/>\n     </g>\n     <g id=\"line2d_20\">\n      <g>\n       <use style=\"stroke:#000000;stroke-width:0.8;\" x=\"46.0125\" xlink:href=\"#mf7d8d874b4\" y=\"267.509709\"/>\n      </g>\n     </g>\n     <g id=\"text_10\">\n      <!-- 15000 -->\n      <g transform=\"translate(7.2 271.308928)scale(0.1 -0.1)\">\n       <use xlink:href=\"#DejaVuSans-49\"/>\n       <use x=\"63.623047\" xlink:href=\"#DejaVuSans-53\"/>\n       <use x=\"127.246094\" xlink:href=\"#DejaVuSans-48\"/>\n       <use x=\"190.869141\" xlink:href=\"#DejaVuSans-48\"/>\n       <use x=\"254.492188\" xlink:href=\"#DejaVuSans-48\"/>\n      </g>\n     </g>\n    </g>\n    <g id=\"ytick_5\">\n     <g id=\"line2d_21\">\n      <path clip-path=\"url(#p6c7063552a)\" d=\"M 46.0125 226.024238 \nL 514.7325 226.024238 \n\" style=\"fill:none;stroke:#808080;stroke-linecap:square;stroke-opacity:0.5;stroke-width:0.25;\"/>\n     </g>\n     <g id=\"line2d_22\">\n      <g>\n       <use style=\"stroke:#000000;stroke-width:0.8;\" x=\"46.0125\" xlink:href=\"#mf7d8d874b4\" y=\"226.024238\"/>\n      </g>\n     </g>\n     <g id=\"text_11\">\n      <!-- 20000 -->\n      <g transform=\"translate(7.2 229.823456)scale(0.1 -0.1)\">\n       <use xlink:href=\"#DejaVuSans-50\"/>\n       <use x=\"63.623047\" xlink:href=\"#DejaVuSans-48\"/>\n       <use x=\"127.246094\" xlink:href=\"#DejaVuSans-48\"/>\n       <use x=\"190.869141\" xlink:href=\"#DejaVuSans-48\"/>\n       <use x=\"254.492188\" xlink:href=\"#DejaVuSans-48\"/>\n      </g>\n     </g>\n    </g>\n    <g id=\"ytick_6\">\n     <g id=\"line2d_23\">\n      <path clip-path=\"url(#p6c7063552a)\" d=\"M 46.0125 184.538766 \nL 514.7325 184.538766 \n\" style=\"fill:none;stroke:#808080;stroke-linecap:square;stroke-opacity:0.5;stroke-width:0.25;\"/>\n     </g>\n     <g id=\"line2d_24\">\n      <g>\n       <use style=\"stroke:#000000;stroke-width:0.8;\" x=\"46.0125\" xlink:href=\"#mf7d8d874b4\" y=\"184.538766\"/>\n      </g>\n     </g>\n     <g id=\"text_12\">\n      <!-- 25000 -->\n      <g transform=\"translate(7.2 188.337984)scale(0.1 -0.1)\">\n       <use xlink:href=\"#DejaVuSans-50\"/>\n       <use x=\"63.623047\" xlink:href=\"#DejaVuSans-53\"/>\n       <use x=\"127.246094\" xlink:href=\"#DejaVuSans-48\"/>\n       <use x=\"190.869141\" xlink:href=\"#DejaVuSans-48\"/>\n       <use x=\"254.492188\" xlink:href=\"#DejaVuSans-48\"/>\n      </g>\n     </g>\n    </g>\n    <g id=\"ytick_7\">\n     <g id=\"line2d_25\">\n      <path clip-path=\"url(#p6c7063552a)\" d=\"M 46.0125 143.053294 \nL 514.7325 143.053294 \n\" style=\"fill:none;stroke:#808080;stroke-linecap:square;stroke-opacity:0.5;stroke-width:0.25;\"/>\n     </g>\n     <g id=\"line2d_26\">\n      <g>\n       <use style=\"stroke:#000000;stroke-width:0.8;\" x=\"46.0125\" xlink:href=\"#mf7d8d874b4\" y=\"143.053294\"/>\n      </g>\n     </g>\n     <g id=\"text_13\">\n      <!-- 30000 -->\n      <defs>\n       <path d=\"M 40.578125 39.3125 \nQ 47.65625 37.796875 51.625 33 \nQ 55.609375 28.21875 55.609375 21.1875 \nQ 55.609375 10.40625 48.1875 4.484375 \nQ 40.765625 -1.421875 27.09375 -1.421875 \nQ 22.515625 -1.421875 17.65625 -0.515625 \nQ 12.796875 0.390625 7.625 2.203125 \nL 7.625 11.71875 \nQ 11.71875 9.328125 16.59375 8.109375 \nQ 21.484375 6.890625 26.8125 6.890625 \nQ 36.078125 6.890625 40.9375 10.546875 \nQ 45.796875 14.203125 45.796875 21.1875 \nQ 45.796875 27.640625 41.28125 31.265625 \nQ 36.765625 34.90625 28.71875 34.90625 \nL 20.21875 34.90625 \nL 20.21875 43.015625 \nL 29.109375 43.015625 \nQ 36.375 43.015625 40.234375 45.921875 \nQ 44.09375 48.828125 44.09375 54.296875 \nQ 44.09375 59.90625 40.109375 62.90625 \nQ 36.140625 65.921875 28.71875 65.921875 \nQ 24.65625 65.921875 20.015625 65.03125 \nQ 15.375 64.15625 9.8125 62.3125 \nL 9.8125 71.09375 \nQ 15.4375 72.65625 20.34375 73.4375 \nQ 25.25 74.21875 29.59375 74.21875 \nQ 40.828125 74.21875 47.359375 69.109375 \nQ 53.90625 64.015625 53.90625 55.328125 \nQ 53.90625 49.265625 50.4375 45.09375 \nQ 46.96875 40.921875 40.578125 39.3125 \nz\n\" id=\"DejaVuSans-51\"/>\n      </defs>\n      <g transform=\"translate(7.2 146.852513)scale(0.1 -0.1)\">\n       <use xlink:href=\"#DejaVuSans-51\"/>\n       <use x=\"63.623047\" xlink:href=\"#DejaVuSans-48\"/>\n       <use x=\"127.246094\" xlink:href=\"#DejaVuSans-48\"/>\n       <use x=\"190.869141\" xlink:href=\"#DejaVuSans-48\"/>\n       <use x=\"254.492188\" xlink:href=\"#DejaVuSans-48\"/>\n      </g>\n     </g>\n    </g>\n    <g id=\"ytick_8\">\n     <g id=\"line2d_27\">\n      <path clip-path=\"url(#p6c7063552a)\" d=\"M 46.0125 101.567822 \nL 514.7325 101.567822 \n\" style=\"fill:none;stroke:#808080;stroke-linecap:square;stroke-opacity:0.5;stroke-width:0.25;\"/>\n     </g>\n     <g id=\"line2d_28\">\n      <g>\n       <use style=\"stroke:#000000;stroke-width:0.8;\" x=\"46.0125\" xlink:href=\"#mf7d8d874b4\" y=\"101.567822\"/>\n      </g>\n     </g>\n     <g id=\"text_14\">\n      <!-- 35000 -->\n      <g transform=\"translate(7.2 105.367041)scale(0.1 -0.1)\">\n       <use xlink:href=\"#DejaVuSans-51\"/>\n       <use x=\"63.623047\" xlink:href=\"#DejaVuSans-53\"/>\n       <use x=\"127.246094\" xlink:href=\"#DejaVuSans-48\"/>\n       <use x=\"190.869141\" xlink:href=\"#DejaVuSans-48\"/>\n       <use x=\"254.492188\" xlink:href=\"#DejaVuSans-48\"/>\n      </g>\n     </g>\n    </g>\n    <g id=\"ytick_9\">\n     <g id=\"line2d_29\">\n      <path clip-path=\"url(#p6c7063552a)\" d=\"M 46.0125 60.08235 \nL 514.7325 60.08235 \n\" style=\"fill:none;stroke:#808080;stroke-linecap:square;stroke-opacity:0.5;stroke-width:0.25;\"/>\n     </g>\n     <g id=\"line2d_30\">\n      <g>\n       <use style=\"stroke:#000000;stroke-width:0.8;\" x=\"46.0125\" xlink:href=\"#mf7d8d874b4\" y=\"60.08235\"/>\n      </g>\n     </g>\n     <g id=\"text_15\">\n      <!-- 40000 -->\n      <g transform=\"translate(7.2 63.881569)scale(0.1 -0.1)\">\n       <use xlink:href=\"#DejaVuSans-52\"/>\n       <use x=\"63.623047\" xlink:href=\"#DejaVuSans-48\"/>\n       <use x=\"127.246094\" xlink:href=\"#DejaVuSans-48\"/>\n       <use x=\"190.869141\" xlink:href=\"#DejaVuSans-48\"/>\n       <use x=\"254.492188\" xlink:href=\"#DejaVuSans-48\"/>\n      </g>\n     </g>\n    </g>\n   </g>\n   <g id=\"patch_13\">\n    <path d=\"M 46.0125 391.966125 \nL 46.0125 22.318125 \n\" style=\"fill:none;stroke:#000000;stroke-linecap:square;stroke-linejoin:miter;stroke-width:0.8;\"/>\n   </g>\n   <g id=\"patch_14\">\n    <path d=\"M 514.7325 391.966125 \nL 514.7325 22.318125 \n\" style=\"fill:none;stroke:#000000;stroke-linecap:square;stroke-linejoin:miter;stroke-width:0.8;\"/>\n   </g>\n   <g id=\"patch_15\">\n    <path d=\"M 46.0125 391.966125 \nL 514.7325 391.966125 \n\" style=\"fill:none;stroke:#000000;stroke-linecap:square;stroke-linejoin:miter;stroke-width:0.8;\"/>\n   </g>\n   <g id=\"patch_16\">\n    <path d=\"M 46.0125 22.318125 \nL 514.7325 22.318125 \n\" style=\"fill:none;stroke:#000000;stroke-linecap:square;stroke-linejoin:miter;stroke-width:0.8;\"/>\n   </g>\n   <g id=\"text_16\">\n    <!-- Distribution of Responses -->\n    <defs>\n     <path d=\"M 19.671875 64.796875 \nL 19.671875 8.109375 \nL 31.59375 8.109375 \nQ 46.6875 8.109375 53.6875 14.9375 \nQ 60.6875 21.78125 60.6875 36.53125 \nQ 60.6875 51.171875 53.6875 57.984375 \nQ 46.6875 64.796875 31.59375 64.796875 \nz\nM 9.8125 72.90625 \nL 30.078125 72.90625 \nQ 51.265625 72.90625 61.171875 64.09375 \nQ 71.09375 55.28125 71.09375 36.53125 \nQ 71.09375 17.671875 61.125 8.828125 \nQ 51.171875 0 30.078125 0 \nL 9.8125 0 \nz\n\" id=\"DejaVuSans-68\"/>\n     <path d=\"M 9.421875 54.6875 \nL 18.40625 54.6875 \nL 18.40625 0 \nL 9.421875 0 \nz\nM 9.421875 75.984375 \nL 18.40625 75.984375 \nL 18.40625 64.59375 \nL 9.421875 64.59375 \nz\n\" id=\"DejaVuSans-105\"/>\n     <path d=\"M 44.28125 53.078125 \nL 44.28125 44.578125 \nQ 40.484375 46.53125 36.375 47.5 \nQ 32.28125 48.484375 27.875 48.484375 \nQ 21.1875 48.484375 17.84375 46.4375 \nQ 14.5 44.390625 14.5 40.28125 \nQ 14.5 37.15625 16.890625 35.375 \nQ 19.28125 33.59375 26.515625 31.984375 \nL 29.59375 31.296875 \nQ 39.15625 29.25 43.1875 25.515625 \nQ 47.21875 21.78125 47.21875 15.09375 \nQ 47.21875 7.46875 41.1875 3.015625 \nQ 35.15625 -1.421875 24.609375 -1.421875 \nQ 20.21875 -1.421875 15.453125 -0.5625 \nQ 10.6875 0.296875 5.421875 2 \nL 5.421875 11.28125 \nQ 10.40625 8.6875 15.234375 7.390625 \nQ 20.0625 6.109375 24.8125 6.109375 \nQ 31.15625 6.109375 34.5625 8.28125 \nQ 37.984375 10.453125 37.984375 14.40625 \nQ 37.984375 18.0625 35.515625 20.015625 \nQ 33.0625 21.96875 24.703125 23.78125 \nL 21.578125 24.515625 \nQ 13.234375 26.265625 9.515625 29.90625 \nQ 5.8125 33.546875 5.8125 39.890625 \nQ 5.8125 47.609375 11.28125 51.796875 \nQ 16.75 56 26.8125 56 \nQ 31.78125 56 36.171875 55.265625 \nQ 40.578125 54.546875 44.28125 53.078125 \nz\n\" id=\"DejaVuSans-115\"/>\n     <path d=\"M 18.3125 70.21875 \nL 18.3125 54.6875 \nL 36.8125 54.6875 \nL 36.8125 47.703125 \nL 18.3125 47.703125 \nL 18.3125 18.015625 \nQ 18.3125 11.328125 20.140625 9.421875 \nQ 21.96875 7.515625 27.59375 7.515625 \nL 36.8125 7.515625 \nL 36.8125 0 \nL 27.59375 0 \nQ 17.1875 0 13.234375 3.875 \nQ 9.28125 7.765625 9.28125 18.015625 \nL 9.28125 47.703125 \nL 2.6875 47.703125 \nL 2.6875 54.6875 \nL 9.28125 54.6875 \nL 9.28125 70.21875 \nz\n\" id=\"DejaVuSans-116\"/>\n     <path d=\"M 41.109375 46.296875 \nQ 39.59375 47.171875 37.8125 47.578125 \nQ 36.03125 48 33.890625 48 \nQ 26.265625 48 22.1875 43.046875 \nQ 18.109375 38.09375 18.109375 28.8125 \nL 18.109375 0 \nL 9.078125 0 \nL 9.078125 54.6875 \nL 18.109375 54.6875 \nL 18.109375 46.1875 \nQ 20.953125 51.171875 25.484375 53.578125 \nQ 30.03125 56 36.53125 56 \nQ 37.453125 56 38.578125 55.875 \nQ 39.703125 55.765625 41.0625 55.515625 \nz\n\" id=\"DejaVuSans-114\"/>\n     <path d=\"M 48.6875 27.296875 \nQ 48.6875 37.203125 44.609375 42.84375 \nQ 40.53125 48.484375 33.40625 48.484375 \nQ 26.265625 48.484375 22.1875 42.84375 \nQ 18.109375 37.203125 18.109375 27.296875 \nQ 18.109375 17.390625 22.1875 11.75 \nQ 26.265625 6.109375 33.40625 6.109375 \nQ 40.53125 6.109375 44.609375 11.75 \nQ 48.6875 17.390625 48.6875 27.296875 \nz\nM 18.109375 46.390625 \nQ 20.953125 51.265625 25.265625 53.625 \nQ 29.59375 56 35.59375 56 \nQ 45.5625 56 51.78125 48.09375 \nQ 58.015625 40.1875 58.015625 27.296875 \nQ 58.015625 14.40625 51.78125 6.484375 \nQ 45.5625 -1.421875 35.59375 -1.421875 \nQ 29.59375 -1.421875 25.265625 0.953125 \nQ 20.953125 3.328125 18.109375 8.203125 \nL 18.109375 0 \nL 9.078125 0 \nL 9.078125 75.984375 \nL 18.109375 75.984375 \nz\n\" id=\"DejaVuSans-98\"/>\n     <path d=\"M 8.5 21.578125 \nL 8.5 54.6875 \nL 17.484375 54.6875 \nL 17.484375 21.921875 \nQ 17.484375 14.15625 20.5 10.265625 \nQ 23.53125 6.390625 29.59375 6.390625 \nQ 36.859375 6.390625 41.078125 11.03125 \nQ 45.3125 15.671875 45.3125 23.6875 \nL 45.3125 54.6875 \nL 54.296875 54.6875 \nL 54.296875 0 \nL 45.3125 0 \nL 45.3125 8.40625 \nQ 42.046875 3.421875 37.71875 1 \nQ 33.40625 -1.421875 27.6875 -1.421875 \nQ 18.265625 -1.421875 13.375 4.4375 \nQ 8.5 10.296875 8.5 21.578125 \nz\nM 31.109375 56 \nz\n\" id=\"DejaVuSans-117\"/>\n     <path d=\"M 30.609375 48.390625 \nQ 23.390625 48.390625 19.1875 42.75 \nQ 14.984375 37.109375 14.984375 27.296875 \nQ 14.984375 17.484375 19.15625 11.84375 \nQ 23.34375 6.203125 30.609375 6.203125 \nQ 37.796875 6.203125 41.984375 11.859375 \nQ 46.1875 17.53125 46.1875 27.296875 \nQ 46.1875 37.015625 41.984375 42.703125 \nQ 37.796875 48.390625 30.609375 48.390625 \nz\nM 30.609375 56 \nQ 42.328125 56 49.015625 48.375 \nQ 55.71875 40.765625 55.71875 27.296875 \nQ 55.71875 13.875 49.015625 6.21875 \nQ 42.328125 -1.421875 30.609375 -1.421875 \nQ 18.84375 -1.421875 12.171875 6.21875 \nQ 5.515625 13.875 5.515625 27.296875 \nQ 5.515625 40.765625 12.171875 48.375 \nQ 18.84375 56 30.609375 56 \nz\n\" id=\"DejaVuSans-111\"/>\n     <path d=\"M 54.890625 33.015625 \nL 54.890625 0 \nL 45.90625 0 \nL 45.90625 32.71875 \nQ 45.90625 40.484375 42.875 44.328125 \nQ 39.84375 48.1875 33.796875 48.1875 \nQ 26.515625 48.1875 22.3125 43.546875 \nQ 18.109375 38.921875 18.109375 30.90625 \nL 18.109375 0 \nL 9.078125 0 \nL 9.078125 54.6875 \nL 18.109375 54.6875 \nL 18.109375 46.1875 \nQ 21.34375 51.125 25.703125 53.5625 \nQ 30.078125 56 35.796875 56 \nQ 45.21875 56 50.046875 50.171875 \nQ 54.890625 44.34375 54.890625 33.015625 \nz\n\" id=\"DejaVuSans-110\"/>\n     <path id=\"DejaVuSans-32\"/>\n     <path d=\"M 37.109375 75.984375 \nL 37.109375 68.5 \nL 28.515625 68.5 \nQ 23.6875 68.5 21.796875 66.546875 \nQ 19.921875 64.59375 19.921875 59.515625 \nL 19.921875 54.6875 \nL 34.71875 54.6875 \nL 34.71875 47.703125 \nL 19.921875 47.703125 \nL 19.921875 0 \nL 10.890625 0 \nL 10.890625 47.703125 \nL 2.296875 47.703125 \nL 2.296875 54.6875 \nL 10.890625 54.6875 \nL 10.890625 58.5 \nQ 10.890625 67.625 15.140625 71.796875 \nQ 19.390625 75.984375 28.609375 75.984375 \nz\n\" id=\"DejaVuSans-102\"/>\n     <path d=\"M 44.390625 34.1875 \nQ 47.5625 33.109375 50.5625 29.59375 \nQ 53.5625 26.078125 56.59375 19.921875 \nL 66.609375 0 \nL 56 0 \nL 46.6875 18.703125 \nQ 43.0625 26.03125 39.671875 28.421875 \nQ 36.28125 30.8125 30.421875 30.8125 \nL 19.671875 30.8125 \nL 19.671875 0 \nL 9.8125 0 \nL 9.8125 72.90625 \nL 32.078125 72.90625 \nQ 44.578125 72.90625 50.734375 67.671875 \nQ 56.890625 62.453125 56.890625 51.90625 \nQ 56.890625 45.015625 53.6875 40.46875 \nQ 50.484375 35.9375 44.390625 34.1875 \nz\nM 19.671875 64.796875 \nL 19.671875 38.921875 \nL 32.078125 38.921875 \nQ 39.203125 38.921875 42.84375 42.21875 \nQ 46.484375 45.515625 46.484375 51.90625 \nQ 46.484375 58.296875 42.84375 61.546875 \nQ 39.203125 64.796875 32.078125 64.796875 \nz\n\" id=\"DejaVuSans-82\"/>\n     <path d=\"M 56.203125 29.59375 \nL 56.203125 25.203125 \nL 14.890625 25.203125 \nQ 15.484375 15.921875 20.484375 11.0625 \nQ 25.484375 6.203125 34.421875 6.203125 \nQ 39.59375 6.203125 44.453125 7.46875 \nQ 49.3125 8.734375 54.109375 11.28125 \nL 54.109375 2.78125 \nQ 49.265625 0.734375 44.1875 -0.34375 \nQ 39.109375 -1.421875 33.890625 -1.421875 \nQ 20.796875 -1.421875 13.15625 6.1875 \nQ 5.515625 13.8125 5.515625 26.8125 \nQ 5.515625 40.234375 12.765625 48.109375 \nQ 20.015625 56 32.328125 56 \nQ 43.359375 56 49.78125 48.890625 \nQ 56.203125 41.796875 56.203125 29.59375 \nz\nM 47.21875 32.234375 \nQ 47.125 39.59375 43.09375 43.984375 \nQ 39.0625 48.390625 32.421875 48.390625 \nQ 24.90625 48.390625 20.390625 44.140625 \nQ 15.875 39.890625 15.1875 32.171875 \nz\n\" id=\"DejaVuSans-101\"/>\n     <path d=\"M 18.109375 8.203125 \nL 18.109375 -20.796875 \nL 9.078125 -20.796875 \nL 9.078125 54.6875 \nL 18.109375 54.6875 \nL 18.109375 46.390625 \nQ 20.953125 51.265625 25.265625 53.625 \nQ 29.59375 56 35.59375 56 \nQ 45.5625 56 51.78125 48.09375 \nQ 58.015625 40.1875 58.015625 27.296875 \nQ 58.015625 14.40625 51.78125 6.484375 \nQ 45.5625 -1.421875 35.59375 -1.421875 \nQ 29.59375 -1.421875 25.265625 0.953125 \nQ 20.953125 3.328125 18.109375 8.203125 \nz\nM 48.6875 27.296875 \nQ 48.6875 37.203125 44.609375 42.84375 \nQ 40.53125 48.484375 33.40625 48.484375 \nQ 26.265625 48.484375 22.1875 42.84375 \nQ 18.109375 37.203125 18.109375 27.296875 \nQ 18.109375 17.390625 22.1875 11.75 \nQ 26.265625 6.109375 33.40625 6.109375 \nQ 40.53125 6.109375 44.609375 11.75 \nQ 48.6875 17.390625 48.6875 27.296875 \nz\n\" id=\"DejaVuSans-112\"/>\n    </defs>\n    <g transform=\"translate(203.564063 16.318125)scale(0.12 -0.12)\">\n     <use xlink:href=\"#DejaVuSans-68\"/>\n     <use x=\"77.001953\" xlink:href=\"#DejaVuSans-105\"/>\n     <use x=\"104.785156\" xlink:href=\"#DejaVuSans-115\"/>\n     <use x=\"156.884766\" xlink:href=\"#DejaVuSans-116\"/>\n     <use x=\"196.09375\" xlink:href=\"#DejaVuSans-114\"/>\n     <use x=\"237.207031\" xlink:href=\"#DejaVuSans-105\"/>\n     <use x=\"264.990234\" xlink:href=\"#DejaVuSans-98\"/>\n     <use x=\"328.466797\" xlink:href=\"#DejaVuSans-117\"/>\n     <use x=\"391.845703\" xlink:href=\"#DejaVuSans-116\"/>\n     <use x=\"431.054688\" xlink:href=\"#DejaVuSans-105\"/>\n     <use x=\"458.837891\" xlink:href=\"#DejaVuSans-111\"/>\n     <use x=\"520.019531\" xlink:href=\"#DejaVuSans-110\"/>\n     <use x=\"583.398438\" xlink:href=\"#DejaVuSans-32\"/>\n     <use x=\"615.185547\" xlink:href=\"#DejaVuSans-111\"/>\n     <use x=\"676.367188\" xlink:href=\"#DejaVuSans-102\"/>\n     <use x=\"711.572266\" xlink:href=\"#DejaVuSans-32\"/>\n     <use x=\"743.359375\" xlink:href=\"#DejaVuSans-82\"/>\n     <use x=\"812.779297\" xlink:href=\"#DejaVuSans-101\"/>\n     <use x=\"874.302734\" xlink:href=\"#DejaVuSans-115\"/>\n     <use x=\"926.402344\" xlink:href=\"#DejaVuSans-112\"/>\n     <use x=\"989.878906\" xlink:href=\"#DejaVuSans-111\"/>\n     <use x=\"1051.060547\" xlink:href=\"#DejaVuSans-110\"/>\n     <use x=\"1114.439453\" xlink:href=\"#DejaVuSans-115\"/>\n     <use x=\"1166.539062\" xlink:href=\"#DejaVuSans-101\"/>\n     <use x=\"1228.0625\" xlink:href=\"#DejaVuSans-115\"/>\n    </g>\n   </g>\n  </g>\n </g>\n <defs>\n  <clipPath id=\"p6c7063552a\">\n   <rect height=\"369.648\" width=\"468.72\" x=\"46.0125\" y=\"22.318125\"/>\n  </clipPath>\n </defs>\n</svg>\n",
      "image/png": "[encoded data removed]"
     },
     "metadata": {
      "needs_background": "light"
     }
    }
   ],
   "source": [
    "# Graphing the distribution of the RESPONSE variable for the training data\n",
    "plt.figure(figsize=(8.4, 6.8))\n",
    "plt.hist(train_data[\"RESPONSE\"])\n",
    "ax = plt.gca()\n",
    "ax.set_facecolor('#ebedf0')\n",
    "plt.title(\"Distribution of Responses\")\n",
    "plt.grid(color='grey', linestyle='-', linewidth=0.25, alpha=0.5)\n",
    "plt.savefig('images/responses_hist')"
   ]
  },
  {
   "cell_type": "code",
   "execution_count": 698,
   "metadata": {},
   "outputs": [
    {
     "output_type": "execute_result",
     "data": {
      "text/plain": "0.012383036171500396"
     },
     "metadata": {},
     "execution_count": 698
    }
   ],
   "source": [
    "# Calculating the percentage of positive outcomes for the training data\n",
    "len(train_data[train_data[\"RESPONSE\"]==1]) / len(train_data)"
   ]
  },
  {
   "cell_type": "code",
   "execution_count": 699,
   "metadata": {},
   "outputs": [],
   "source": [
    "# Splitting the training data into features and labels\n",
    "X_train = train_data.loc[:, train_data.columns != 'RESPONSE']\n",
    "y_train = train_data['RESPONSE']"
   ]
  },
  {
   "cell_type": "code",
   "execution_count": 700,
   "metadata": {},
   "outputs": [],
   "source": [
    "# Using logistic regrsssion to create the benchmark model\n",
    "\n",
    "# importing the logistic regression model\n",
    "from sklearn.linear_model import LogisticRegression\n",
    "\n",
    "# Creating the logistic regression model with lasso regularization\n",
    "lr_baseline = LogisticRegression(penalty='l1',\n",
    "                                 class_weight='balanced',\n",
    "                                 solver='saga',\n",
    "                                 max_iter=5000)"
   ]
  },
  {
   "cell_type": "code",
   "execution_count": 9,
   "metadata": {},
   "outputs": [
    {
     "output_type": "execute_result",
     "data": {
      "text/plain": "LogisticRegression(class_weight='balanced', max_iter=5000, penalty='l1',\n                   solver='saga')"
     },
     "metadata": {},
     "execution_count": 9
    }
   ],
   "source": [
    "# Training the baseline model\n",
    "lr_baseline.fit(X_train, y_train)"
   ]
  },
  {
   "cell_type": "code",
   "execution_count": 8,
   "metadata": {},
   "outputs": [],
   "source": [
    "# Importing functions for calculating accuracy, precision, and recall\n",
    "from sklearn.metrics import recall_score\n",
    "from sklearn.metrics import precision_score\n",
    "from sklearn.metrics import accuracy_score"
   ]
  },
  {
   "cell_type": "code",
   "execution_count": 693,
   "metadata": {},
   "outputs": [
    {
     "output_type": "error",
     "ename": "NotFittedError",
     "evalue": "This LogisticRegression instance is not fitted yet. Call 'fit' with appropriate arguments before using this estimator.",
     "traceback": [
      "\u001b[0;31m---------------------------------------------------------------------------\u001b[0m",
      "\u001b[0;31mNotFittedError\u001b[0m                            Traceback (most recent call last)",
      "\u001b[0;32m<ipython-input-693-72b0526efc28>\u001b[0m in \u001b[0;36m<module>\u001b[0;34m\u001b[0m\n\u001b[1;32m      1\u001b[0m \u001b[0;31m# Getting predictions for the training set\u001b[0m\u001b[0;34m\u001b[0m\u001b[0;34m\u001b[0m\u001b[0;34m\u001b[0m\u001b[0m\n\u001b[0;32m----> 2\u001b[0;31m \u001b[0my_pred\u001b[0m \u001b[0;34m=\u001b[0m \u001b[0mlr_baseline\u001b[0m\u001b[0;34m.\u001b[0m\u001b[0mpredict\u001b[0m\u001b[0;34m(\u001b[0m\u001b[0mX_train\u001b[0m\u001b[0;34m)\u001b[0m\u001b[0;34m\u001b[0m\u001b[0;34m\u001b[0m\u001b[0m\n\u001b[0m",
      "\u001b[0;32m/opt/anaconda3/lib/python3.7/site-packages/sklearn/linear_model/_base.py\u001b[0m in \u001b[0;36mpredict\u001b[0;34m(self, X)\u001b[0m\n\u001b[1;32m    305\u001b[0m             \u001b[0mPredicted\u001b[0m \u001b[0;32mclass\u001b[0m \u001b[0mlabel\u001b[0m \u001b[0mper\u001b[0m \u001b[0msample\u001b[0m\u001b[0;34m.\u001b[0m\u001b[0;34m\u001b[0m\u001b[0;34m\u001b[0m\u001b[0m\n\u001b[1;32m    306\u001b[0m         \"\"\"\n\u001b[0;32m--> 307\u001b[0;31m         \u001b[0mscores\u001b[0m \u001b[0;34m=\u001b[0m \u001b[0mself\u001b[0m\u001b[0;34m.\u001b[0m\u001b[0mdecision_function\u001b[0m\u001b[0;34m(\u001b[0m\u001b[0mX\u001b[0m\u001b[0;34m)\u001b[0m\u001b[0;34m\u001b[0m\u001b[0;34m\u001b[0m\u001b[0m\n\u001b[0m\u001b[1;32m    308\u001b[0m         \u001b[0;32mif\u001b[0m \u001b[0mlen\u001b[0m\u001b[0;34m(\u001b[0m\u001b[0mscores\u001b[0m\u001b[0;34m.\u001b[0m\u001b[0mshape\u001b[0m\u001b[0;34m)\u001b[0m \u001b[0;34m==\u001b[0m \u001b[0;36m1\u001b[0m\u001b[0;34m:\u001b[0m\u001b[0;34m\u001b[0m\u001b[0;34m\u001b[0m\u001b[0m\n\u001b[1;32m    309\u001b[0m             \u001b[0mindices\u001b[0m \u001b[0;34m=\u001b[0m \u001b[0;34m(\u001b[0m\u001b[0mscores\u001b[0m \u001b[0;34m>\u001b[0m \u001b[0;36m0\u001b[0m\u001b[0;34m)\u001b[0m\u001b[0;34m.\u001b[0m\u001b[0mastype\u001b[0m\u001b[0;34m(\u001b[0m\u001b[0mnp\u001b[0m\u001b[0;34m.\u001b[0m\u001b[0mint\u001b[0m\u001b[0;34m)\u001b[0m\u001b[0;34m\u001b[0m\u001b[0;34m\u001b[0m\u001b[0m\n",
      "\u001b[0;32m/opt/anaconda3/lib/python3.7/site-packages/sklearn/linear_model/_base.py\u001b[0m in \u001b[0;36mdecision_function\u001b[0;34m(self, X)\u001b[0m\n\u001b[1;32m    278\u001b[0m             \u001b[0;32mclass\u001b[0m \u001b[0mwould\u001b[0m \u001b[0mbe\u001b[0m \u001b[0mpredicted\u001b[0m\u001b[0;34m.\u001b[0m\u001b[0;34m\u001b[0m\u001b[0;34m\u001b[0m\u001b[0m\n\u001b[1;32m    279\u001b[0m         \"\"\"\n\u001b[0;32m--> 280\u001b[0;31m         \u001b[0mcheck_is_fitted\u001b[0m\u001b[0;34m(\u001b[0m\u001b[0mself\u001b[0m\u001b[0;34m)\u001b[0m\u001b[0;34m\u001b[0m\u001b[0;34m\u001b[0m\u001b[0m\n\u001b[0m\u001b[1;32m    281\u001b[0m \u001b[0;34m\u001b[0m\u001b[0m\n\u001b[1;32m    282\u001b[0m         \u001b[0mX\u001b[0m \u001b[0;34m=\u001b[0m \u001b[0mcheck_array\u001b[0m\u001b[0;34m(\u001b[0m\u001b[0mX\u001b[0m\u001b[0;34m,\u001b[0m \u001b[0maccept_sparse\u001b[0m\u001b[0;34m=\u001b[0m\u001b[0;34m'csr'\u001b[0m\u001b[0;34m)\u001b[0m\u001b[0;34m\u001b[0m\u001b[0;34m\u001b[0m\u001b[0m\n",
      "\u001b[0;32m/opt/anaconda3/lib/python3.7/site-packages/sklearn/utils/validation.py\u001b[0m in \u001b[0;36minner_f\u001b[0;34m(*args, **kwargs)\u001b[0m\n\u001b[1;32m     71\u001b[0m                           FutureWarning)\n\u001b[1;32m     72\u001b[0m         \u001b[0mkwargs\u001b[0m\u001b[0;34m.\u001b[0m\u001b[0mupdate\u001b[0m\u001b[0;34m(\u001b[0m\u001b[0;34m{\u001b[0m\u001b[0mk\u001b[0m\u001b[0;34m:\u001b[0m \u001b[0marg\u001b[0m \u001b[0;32mfor\u001b[0m \u001b[0mk\u001b[0m\u001b[0;34m,\u001b[0m \u001b[0marg\u001b[0m \u001b[0;32min\u001b[0m \u001b[0mzip\u001b[0m\u001b[0;34m(\u001b[0m\u001b[0msig\u001b[0m\u001b[0;34m.\u001b[0m\u001b[0mparameters\u001b[0m\u001b[0;34m,\u001b[0m \u001b[0margs\u001b[0m\u001b[0;34m)\u001b[0m\u001b[0;34m}\u001b[0m\u001b[0;34m)\u001b[0m\u001b[0;34m\u001b[0m\u001b[0;34m\u001b[0m\u001b[0m\n\u001b[0;32m---> 73\u001b[0;31m         \u001b[0;32mreturn\u001b[0m \u001b[0mf\u001b[0m\u001b[0;34m(\u001b[0m\u001b[0;34m**\u001b[0m\u001b[0mkwargs\u001b[0m\u001b[0;34m)\u001b[0m\u001b[0;34m\u001b[0m\u001b[0;34m\u001b[0m\u001b[0m\n\u001b[0m\u001b[1;32m     74\u001b[0m     \u001b[0;32mreturn\u001b[0m \u001b[0minner_f\u001b[0m\u001b[0;34m\u001b[0m\u001b[0;34m\u001b[0m\u001b[0m\n\u001b[1;32m     75\u001b[0m \u001b[0;34m\u001b[0m\u001b[0m\n",
      "\u001b[0;32m/opt/anaconda3/lib/python3.7/site-packages/sklearn/utils/validation.py\u001b[0m in \u001b[0;36mcheck_is_fitted\u001b[0;34m(estimator, attributes, msg, all_or_any)\u001b[0m\n\u001b[1;32m   1018\u001b[0m \u001b[0;34m\u001b[0m\u001b[0m\n\u001b[1;32m   1019\u001b[0m     \u001b[0;32mif\u001b[0m \u001b[0;32mnot\u001b[0m \u001b[0mattrs\u001b[0m\u001b[0;34m:\u001b[0m\u001b[0;34m\u001b[0m\u001b[0;34m\u001b[0m\u001b[0m\n\u001b[0;32m-> 1020\u001b[0;31m         \u001b[0;32mraise\u001b[0m \u001b[0mNotFittedError\u001b[0m\u001b[0;34m(\u001b[0m\u001b[0mmsg\u001b[0m \u001b[0;34m%\u001b[0m \u001b[0;34m{\u001b[0m\u001b[0;34m'name'\u001b[0m\u001b[0;34m:\u001b[0m \u001b[0mtype\u001b[0m\u001b[0;34m(\u001b[0m\u001b[0mestimator\u001b[0m\u001b[0;34m)\u001b[0m\u001b[0;34m.\u001b[0m\u001b[0m__name__\u001b[0m\u001b[0;34m}\u001b[0m\u001b[0;34m)\u001b[0m\u001b[0;34m\u001b[0m\u001b[0;34m\u001b[0m\u001b[0m\n\u001b[0m\u001b[1;32m   1021\u001b[0m \u001b[0;34m\u001b[0m\u001b[0m\n\u001b[1;32m   1022\u001b[0m \u001b[0;34m\u001b[0m\u001b[0m\n",
      "\u001b[0;31mNotFittedError\u001b[0m: This LogisticRegression instance is not fitted yet. Call 'fit' with appropriate arguments before using this estimator."
     ]
    }
   ],
   "source": [
    "# Getting predictions for the training set\n",
    "y_pred = lr_baseline.predict(X_train)"
   ]
  },
  {
   "cell_type": "code",
   "execution_count": 12,
   "metadata": {},
   "outputs": [
    {
     "output_type": "execute_result",
     "data": {
      "text/plain": "0    42430\n1      532\nName: RESPONSE, dtype: int64"
     },
     "metadata": {},
     "execution_count": 12
    }
   ],
   "source": [
    "y_train.value_counts()"
   ]
  },
  {
   "cell_type": "code",
   "execution_count": 13,
   "metadata": {
    "tags": []
   },
   "outputs": [
    {
     "output_type": "stream",
     "name": "stdout",
     "text": "The accuracy is 0.6927750104743727\nThe recall is 0.6033834586466166\nThe precision is 0.024119017206401683\n"
    }
   ],
   "source": [
    "# Calculating the accuracy, precision, and recall\n",
    "print(\"The accuracy is\", accuracy_score(y_train, y_pred))\n",
    "print(\"The recall is\", recall_score(y_train, y_pred))\n",
    "print(\"The precision is\", precision_score(y_train, y_pred))"
   ]
  },
  {
   "cell_type": "code",
   "execution_count": 14,
   "metadata": {
    "tags": []
   },
   "outputs": [
    {
     "output_type": "stream",
     "name": "stdout",
     "text": "[[ 1.84193006e-01 -2.08295847e-01 -2.22455245e-02 -9.12754311e-02\n  -1.47698069e-01  9.91378306e-02  1.88730522e-01  5.84308074e-02\n   1.35197286e-01  3.81220314e-02 -1.21448160e-03  1.06939763e-01\n  -1.55086276e-01 -1.70419089e-02 -1.57224694e-01 -1.23067595e-01\n   8.48365563e-02 -2.04623146e-02  4.11235285e-02  3.65846556e-02\n   7.44170286e-02 -4.56633621e-02  2.20316440e-02  5.21517019e-02\n   1.16008716e-01 -3.06089754e-01 -1.98483858e-02 -2.37443124e-01\n   9.23035653e-02 -9.50171876e-02  1.60189163e-01 -1.21329162e-01\n   1.59633168e-01 -8.80138034e-02 -1.55534768e-01  5.36830753e-03\n  -7.79909519e-02 -7.45420614e-02 -6.13334957e-02  1.53918448e-01\n   5.51104311e-02 -9.30898680e-02 -1.18499863e-01 -1.27144609e-01\n   3.05624926e-01 -1.18348482e-01  1.30752613e-01  2.15535047e-03\n   9.04879141e-02  4.30147311e-02 -1.22635459e-01 -4.85115547e-01\n  -9.81385572e-01  8.52208369e-02 -7.97882348e-02 -1.04793183e-01\n   1.07607888e-01 -1.67739350e-01  1.08417395e-01  5.36499726e-02\n  -8.30091266e-02  1.79326898e-01 -9.92036339e-01 -1.42824069e-01\n  -5.13483240e-02 -2.48165260e-02 -2.99619587e-02  1.78950076e-01\n   1.80682639e-01 -4.83104187e-02  1.05523453e-01 -5.23249894e-02\n  -2.65511275e-01 -5.26321846e-02 -5.85038005e-02 -8.88669478e-03\n  -1.18874292e-01 -6.10393001e-02  3.05578589e-02  2.13180335e-01\n  -2.69544988e-02 -1.94788666e-02  7.24051413e-02  4.80177089e-02\n  -6.00397367e-02  3.50077091e-02 -7.01274069e-04 -7.35026508e-02\n   5.10389856e-02 -3.00718557e-03 -2.69349387e-03  2.14211135e-01\n  -2.21884701e-02  3.85449535e-02 -1.89855570e-02  5.11902259e-02\n  -1.50572287e-01  9.67712490e-02  1.62857291e-01  3.30068392e-02\n   4.60070576e-02 -2.56962383e-02 -3.41648367e-02 -3.15671840e-03\n   3.86552348e-02  1.37843285e-01 -2.58390092e-02  3.25593151e-02\n   5.21052795e-02 -1.21369138e-01 -2.69071066e-01  1.40621646e-01\n   5.39731151e-02 -1.96310460e-01 -3.45218830e-02 -1.84424760e-01\n  -6.65998005e-02  6.35994405e-02 -3.32893932e-02 -1.57803168e-02\n  -2.20882449e-01 -1.73493154e-01  4.32321720e-02 -1.01538535e-01\n   1.42728526e-02  3.21433726e-01  4.02281329e-01 -5.59610840e-02\n   6.98797021e-02 -1.41597752e-01 -6.57447399e-02  4.66052067e-02\n   1.82527418e-01 -1.08281379e-01  2.14585258e-01  1.92867779e-02\n  -1.63970484e-01 -4.91671649e-02 -9.93612606e-02  1.28589107e-01\n  -1.14634505e-02 -9.25414212e-02  1.17714369e-01  3.35465158e-02\n  -1.16135240e-01  1.82069114e-01  4.70103530e-02 -1.56650305e-01\n   1.30405991e-01 -1.86376270e-01 -1.27564801e-02  8.73173876e-02\n   1.96730509e-01  3.03949034e-02 -6.10884469e-02 -1.45655675e-01\n   4.03347400e-02 -1.70903020e-01  1.94654730e-01 -1.36485651e-01\n  -1.61875190e-01  2.62892907e-01 -8.37004696e-03  4.83854941e-02\n  -4.85056228e-02  1.64498014e-01 -3.16065113e-02 -8.75426304e-02\n  -3.33405996e-02  2.43116149e-01  2.72485702e-02 -4.90782246e-02\n   1.36146698e-01 -1.21363373e-01 -3.87813702e-02  2.60030388e-01\n   4.38004454e-02 -6.78969842e-02 -1.61125036e-02  2.90651888e-02\n   8.14622462e-02 -3.61957408e-02 -3.95175271e-02  5.68680257e-02\n  -1.20128459e-03  2.60126444e-02 -5.54990647e-02 -3.05095052e-02\n  -8.33410517e-02 -8.60255768e-02  2.04112664e-02  1.14466804e-01\n  -9.64148159e-02  6.96240920e-02 -9.63157080e-02 -1.17858173e-01\n   1.46975622e-01 -2.00135648e-01  3.53834222e-02  2.11322211e-02\n   1.64268890e-02 -1.21298013e-01  1.64213054e-01  4.27167467e-03\n  -1.88363506e-01  1.46923583e-01  2.16524662e-01 -1.52458931e-01\n   6.60401140e-02 -1.04239986e-01  8.94935723e-02 -5.03690544e-03\n   9.73537531e-04  8.88832814e-02 -1.26236322e-01  7.03966125e-02\n  -6.16651563e-02 -5.84838709e-02  6.48673791e-03 -2.83196673e-02\n  -4.31272115e-02  1.07687711e-01  1.07655147e-01  5.59537180e-02\n   7.23024487e-02  3.50830184e-02  6.19818919e-02  8.25836110e-02\n  -6.76438776e-02 -1.04239986e-01 -6.47598108e-02  1.16343905e-01\n   1.65989359e-01  2.95917893e-03 -6.01714652e-02  1.56378995e-02\n  -4.82698284e-02 -1.74207292e-02  1.56038997e-02 -8.42142628e-02\n   2.49636321e-02 -1.18775545e-01  1.25903184e-01 -1.75737561e-01\n  -1.93177245e-03  7.77327709e-03 -1.33038979e-01  3.59221378e-02\n  -1.74610806e-02 -1.40813477e-01 -1.56500842e-01  5.75144354e-02\n   2.44333501e-01 -9.64607480e-02  1.35497039e-01 -1.22190207e-01\n  -4.52556279e-02  8.45964652e-02 -6.62903650e-02  9.53447883e-02\n  -1.32108150e-01  1.47683545e-02  8.28257378e-02  9.48431815e-02\n  -7.65135826e-02 -4.47047817e-02  7.40844886e-02  1.36821597e-01\n   2.30670410e-04  1.87541652e-04 -1.46305608e-02 -3.66330434e-02\n  -1.81043964e-01 -1.15869046e-01 -1.12259875e-01 -1.97306843e-01\n  -2.69629327e-02  1.06058997e-01 -9.35548281e-02  3.21315672e-03\n  -1.05105788e-01  2.63019411e-01 -9.00390558e-02 -1.20795897e-01\n   1.35613621e-01 -2.70627628e-02 -2.10084648e-02  1.76326939e-01\n  -2.09245694e-02 -1.60876997e-01 -7.88895810e-02  7.95148452e-02\n  -7.73162275e-02  1.26902371e-01  6.89897567e-02 -1.84630010e-01\n   1.21603700e-01  8.43435792e-03  2.58449387e-02 -5.98537334e-02\n   1.35149479e-01 -1.75109959e-02 -5.90911840e-02  6.14523831e-03\n   5.95652740e-02 -1.62534810e-01 -1.52234662e-02 -1.12369906e-01\n  -9.80103918e-02  4.95129695e-02  3.36833091e-03 -7.95261523e-02\n   1.75149610e-02  1.20700470e-01  5.78660804e-02 -9.73983057e-02\n  -5.96209346e-02 -6.65356702e-02  5.64546802e-02  2.41647190e-01\n  -6.46613914e-02 -4.19669541e-02  3.01800932e-01  1.77394735e-01\n   6.47515302e-02 -1.59338144e-01  3.48775762e-02  7.09910928e-02\n   1.42558849e-01  1.54018861e-01  2.24517631e-01  7.98107891e-02\n  -1.40320827e-02 -2.52445858e-04  3.86434224e-02  1.56008936e-01\n  -1.26065451e-01 -1.85757226e-01 -1.02120532e-01  1.78444134e-02\n   1.22945309e-01 -2.08386444e-04  9.10773484e-02  3.88302405e-02\n   4.03678638e-02  2.81596945e-02  1.20623532e-01 -9.64213569e-02\n  -6.78646694e-03 -3.32632100e-02 -1.13272756e-01 -9.03478563e-03\n   1.59395983e-01  1.85413286e-01  2.11161402e-01 -2.24324292e-01\n  -7.43512639e-02 -9.48351435e-02]]\n"
    }
   ],
   "source": [
    "# Viewing the coefficents learned by the model\n",
    "coefs = lr_baseline.coef_\n",
    "print(coefs)"
   ]
  },
  {
   "cell_type": "code",
   "execution_count": 15,
   "metadata": {
    "tags": []
   },
   "outputs": [
    {
     "output_type": "stream",
     "name": "stdout",
     "text": "358\n"
    }
   ],
   "source": [
    "print(len(coefs[0]))"
   ]
  },
  {
   "cell_type": "code",
   "execution_count": 473,
   "metadata": {},
   "outputs": [],
   "source": [
    "# Scaling the data\n",
    "from sklearn.preprocessing import StandardScaler\n",
    "scalar = StandardScaler()\n",
    "scalar.fit(X_train)\n",
    "features_scaled = scalar.transform(X_train)"
   ]
  },
  {
   "cell_type": "code",
   "execution_count": 502,
   "metadata": {},
   "outputs": [],
   "source": [
    "# Importing the SMOTE class in order to oversample the positive class\n",
    "from imblearn.over_sampling import SMOTE\n",
    "\n",
    "# Creating the SMOTE model\n",
    "smote = SMOTE(sampling_strategy=0.6, k_neighbors=12)"
   ]
  },
  {
   "cell_type": "code",
   "execution_count": 503,
   "metadata": {},
   "outputs": [],
   "source": [
    "# Fitting the SMOTE model to the training data and resampling the training data\n",
    "X_train_over, y_train_over = smote.fit_resample(features_scaled, y_train)"
   ]
  },
  {
   "cell_type": "code",
   "execution_count": 504,
   "metadata": {},
   "outputs": [
    {
     "output_type": "display_data",
     "data": {
      "text/plain": "<Figure size 604.8x489.6 with 1 Axes>",
      "image/svg+xml": "<?xml version=\"1.0\" encoding=\"utf-8\" standalone=\"no\"?>\n<!DOCTYPE svg PUBLIC \"-//W3C//DTD SVG 1.1//EN\"\n  \"http://www.w3.org/Graphics/SVG/1.1/DTD/svg11.dtd\">\n<!-- Created with matplotlib (https://matplotlib.org/) -->\n<svg height=\"415.84425pt\" version=\"1.1\" viewBox=\"0 0 521.9325 415.84425\" width=\"521.9325pt\" xmlns=\"http://www.w3.org/2000/svg\" xmlns:xlink=\"http://www.w3.org/1999/xlink\">\n <defs>\n  <style type=\"text/css\">\n*{stroke-linecap:butt;stroke-linejoin:round;}\n  </style>\n </defs>\n <g id=\"figure_1\">\n  <g id=\"patch_1\">\n   <path d=\"M 0 415.84425 \nL 521.9325 415.84425 \nL 521.9325 0 \nL 0 0 \nz\n\" style=\"fill:none;\"/>\n  </g>\n  <g id=\"axes_1\">\n   <g id=\"patch_2\">\n    <path d=\"M 46.0125 391.966125 \nL 514.7325 391.966125 \nL 514.7325 22.318125 \nL 46.0125 22.318125 \nz\n\" style=\"fill:#ebedf0;\"/>\n   </g>\n   <g id=\"patch_3\">\n    <path clip-path=\"url(#p94755b14b9)\" d=\"M 67.317955 391.966125 \nL 109.928864 391.966125 \nL 109.928864 39.920411 \nL 67.317955 39.920411 \nz\n\" style=\"fill:#1f77b4;\"/>\n   </g>\n   <g id=\"patch_4\">\n    <path clip-path=\"url(#p94755b14b9)\" d=\"M 109.928864 391.966125 \nL 152.539773 391.966125 \nL 152.539773 391.966125 \nL 109.928864 391.966125 \nz\n\" style=\"fill:#1f77b4;\"/>\n   </g>\n   <g id=\"patch_5\">\n    <path clip-path=\"url(#p94755b14b9)\" d=\"M 152.539773 391.966125 \nL 195.150682 391.966125 \nL 195.150682 391.966125 \nL 152.539773 391.966125 \nz\n\" style=\"fill:#1f77b4;\"/>\n   </g>\n   <g id=\"patch_6\">\n    <path clip-path=\"url(#p94755b14b9)\" d=\"M 195.150682 391.966125 \nL 237.761591 391.966125 \nL 237.761591 391.966125 \nL 195.150682 391.966125 \nz\n\" style=\"fill:#1f77b4;\"/>\n   </g>\n   <g id=\"patch_7\">\n    <path clip-path=\"url(#p94755b14b9)\" d=\"M 237.761591 391.966125 \nL 280.3725 391.966125 \nL 280.3725 391.966125 \nL 237.761591 391.966125 \nz\n\" style=\"fill:#1f77b4;\"/>\n   </g>\n   <g id=\"patch_8\">\n    <path clip-path=\"url(#p94755b14b9)\" d=\"M 280.3725 391.966125 \nL 322.983409 391.966125 \nL 322.983409 391.966125 \nL 280.3725 391.966125 \nz\n\" style=\"fill:#1f77b4;\"/>\n   </g>\n   <g id=\"patch_9\">\n    <path clip-path=\"url(#p94755b14b9)\" d=\"M 322.983409 391.966125 \nL 365.594318 391.966125 \nL 365.594318 391.966125 \nL 322.983409 391.966125 \nz\n\" style=\"fill:#1f77b4;\"/>\n   </g>\n   <g id=\"patch_10\">\n    <path clip-path=\"url(#p94755b14b9)\" d=\"M 365.594318 391.966125 \nL 408.205227 391.966125 \nL 408.205227 391.966125 \nL 365.594318 391.966125 \nz\n\" style=\"fill:#1f77b4;\"/>\n   </g>\n   <g id=\"patch_11\">\n    <path clip-path=\"url(#p94755b14b9)\" d=\"M 408.205227 391.966125 \nL 450.816136 391.966125 \nL 450.816136 391.966125 \nL 408.205227 391.966125 \nz\n\" style=\"fill:#1f77b4;\"/>\n   </g>\n   <g id=\"patch_12\">\n    <path clip-path=\"url(#p94755b14b9)\" d=\"M 450.816136 391.966125 \nL 493.427045 391.966125 \nL 493.427045 180.738696 \nL 450.816136 180.738696 \nz\n\" style=\"fill:#1f77b4;\"/>\n   </g>\n   <g id=\"matplotlib.axis_1\">\n    <g id=\"xtick_1\">\n     <g id=\"line2d_1\">\n      <path clip-path=\"url(#p94755b14b9)\" d=\"M 67.317955 391.966125 \nL 67.317955 22.318125 \n\" style=\"fill:none;stroke:#808080;stroke-linecap:square;stroke-opacity:0.5;stroke-width:0.25;\"/>\n     </g>\n     <g id=\"line2d_2\">\n      <defs>\n       <path d=\"M 0 0 \nL 0 3.5 \n\" id=\"m1263ebe0f8\" style=\"stroke:#000000;stroke-width:0.8;\"/>\n      </defs>\n      <g>\n       <use style=\"stroke:#000000;stroke-width:0.8;\" x=\"67.317955\" xlink:href=\"#m1263ebe0f8\" y=\"391.966125\"/>\n      </g>\n     </g>\n     <g id=\"text_1\">\n      <!-- 0.0 -->\n      <defs>\n       <path d=\"M 31.78125 66.40625 \nQ 24.171875 66.40625 20.328125 58.90625 \nQ 16.5 51.421875 16.5 36.375 \nQ 16.5 21.390625 20.328125 13.890625 \nQ 24.171875 6.390625 31.78125 6.390625 \nQ 39.453125 6.390625 43.28125 13.890625 \nQ 47.125 21.390625 47.125 36.375 \nQ 47.125 51.421875 43.28125 58.90625 \nQ 39.453125 66.40625 31.78125 66.40625 \nz\nM 31.78125 74.21875 \nQ 44.046875 74.21875 50.515625 64.515625 \nQ 56.984375 54.828125 56.984375 36.375 \nQ 56.984375 17.96875 50.515625 8.265625 \nQ 44.046875 -1.421875 31.78125 -1.421875 \nQ 19.53125 -1.421875 13.0625 8.265625 \nQ 6.59375 17.96875 6.59375 36.375 \nQ 6.59375 54.828125 13.0625 64.515625 \nQ 19.53125 74.21875 31.78125 74.21875 \nz\n\" id=\"DejaVuSans-48\"/>\n       <path d=\"M 10.6875 12.40625 \nL 21 12.40625 \nL 21 0 \nL 10.6875 0 \nz\n\" id=\"DejaVuSans-46\"/>\n      </defs>\n      <g transform=\"translate(59.366392 406.564562)scale(0.1 -0.1)\">\n       <use xlink:href=\"#DejaVuSans-48\"/>\n       <use x=\"63.623047\" xlink:href=\"#DejaVuSans-46\"/>\n       <use x=\"95.410156\" xlink:href=\"#DejaVuSans-48\"/>\n      </g>\n     </g>\n    </g>\n    <g id=\"xtick_2\">\n     <g id=\"line2d_3\">\n      <path clip-path=\"url(#p94755b14b9)\" d=\"M 152.539773 391.966125 \nL 152.539773 22.318125 \n\" style=\"fill:none;stroke:#808080;stroke-linecap:square;stroke-opacity:0.5;stroke-width:0.25;\"/>\n     </g>\n     <g id=\"line2d_4\">\n      <g>\n       <use style=\"stroke:#000000;stroke-width:0.8;\" x=\"152.539773\" xlink:href=\"#m1263ebe0f8\" y=\"391.966125\"/>\n      </g>\n     </g>\n     <g id=\"text_2\">\n      <!-- 0.2 -->\n      <defs>\n       <path d=\"M 19.1875 8.296875 \nL 53.609375 8.296875 \nL 53.609375 0 \nL 7.328125 0 \nL 7.328125 8.296875 \nQ 12.9375 14.109375 22.625 23.890625 \nQ 32.328125 33.6875 34.8125 36.53125 \nQ 39.546875 41.84375 41.421875 45.53125 \nQ 43.3125 49.21875 43.3125 52.78125 \nQ 43.3125 58.59375 39.234375 62.25 \nQ 35.15625 65.921875 28.609375 65.921875 \nQ 23.96875 65.921875 18.8125 64.3125 \nQ 13.671875 62.703125 7.8125 59.421875 \nL 7.8125 69.390625 \nQ 13.765625 71.78125 18.9375 73 \nQ 24.125 74.21875 28.421875 74.21875 \nQ 39.75 74.21875 46.484375 68.546875 \nQ 53.21875 62.890625 53.21875 53.421875 \nQ 53.21875 48.921875 51.53125 44.890625 \nQ 49.859375 40.875 45.40625 35.40625 \nQ 44.1875 33.984375 37.640625 27.21875 \nQ 31.109375 20.453125 19.1875 8.296875 \nz\n\" id=\"DejaVuSans-50\"/>\n      </defs>\n      <g transform=\"translate(144.58821 406.564562)scale(0.1 -0.1)\">\n       <use xlink:href=\"#DejaVuSans-48\"/>\n       <use x=\"63.623047\" xlink:href=\"#DejaVuSans-46\"/>\n       <use x=\"95.410156\" xlink:href=\"#DejaVuSans-50\"/>\n      </g>\n     </g>\n    </g>\n    <g id=\"xtick_3\">\n     <g id=\"line2d_5\">\n      <path clip-path=\"url(#p94755b14b9)\" d=\"M 237.761591 391.966125 \nL 237.761591 22.318125 \n\" style=\"fill:none;stroke:#808080;stroke-linecap:square;stroke-opacity:0.5;stroke-width:0.25;\"/>\n     </g>\n     <g id=\"line2d_6\">\n      <g>\n       <use style=\"stroke:#000000;stroke-width:0.8;\" x=\"237.761591\" xlink:href=\"#m1263ebe0f8\" y=\"391.966125\"/>\n      </g>\n     </g>\n     <g id=\"text_3\">\n      <!-- 0.4 -->\n      <defs>\n       <path d=\"M 37.796875 64.3125 \nL 12.890625 25.390625 \nL 37.796875 25.390625 \nz\nM 35.203125 72.90625 \nL 47.609375 72.90625 \nL 47.609375 25.390625 \nL 58.015625 25.390625 \nL 58.015625 17.1875 \nL 47.609375 17.1875 \nL 47.609375 0 \nL 37.796875 0 \nL 37.796875 17.1875 \nL 4.890625 17.1875 \nL 4.890625 26.703125 \nz\n\" id=\"DejaVuSans-52\"/>\n      </defs>\n      <g transform=\"translate(229.810028 406.564562)scale(0.1 -0.1)\">\n       <use xlink:href=\"#DejaVuSans-48\"/>\n       <use x=\"63.623047\" xlink:href=\"#DejaVuSans-46\"/>\n       <use x=\"95.410156\" xlink:href=\"#DejaVuSans-52\"/>\n      </g>\n     </g>\n    </g>\n    <g id=\"xtick_4\">\n     <g id=\"line2d_7\">\n      <path clip-path=\"url(#p94755b14b9)\" d=\"M 322.983409 391.966125 \nL 322.983409 22.318125 \n\" style=\"fill:none;stroke:#808080;stroke-linecap:square;stroke-opacity:0.5;stroke-width:0.25;\"/>\n     </g>\n     <g id=\"line2d_8\">\n      <g>\n       <use style=\"stroke:#000000;stroke-width:0.8;\" x=\"322.983409\" xlink:href=\"#m1263ebe0f8\" y=\"391.966125\"/>\n      </g>\n     </g>\n     <g id=\"text_4\">\n      <!-- 0.6 -->\n      <defs>\n       <path d=\"M 33.015625 40.375 \nQ 26.375 40.375 22.484375 35.828125 \nQ 18.609375 31.296875 18.609375 23.390625 \nQ 18.609375 15.53125 22.484375 10.953125 \nQ 26.375 6.390625 33.015625 6.390625 \nQ 39.65625 6.390625 43.53125 10.953125 \nQ 47.40625 15.53125 47.40625 23.390625 \nQ 47.40625 31.296875 43.53125 35.828125 \nQ 39.65625 40.375 33.015625 40.375 \nz\nM 52.59375 71.296875 \nL 52.59375 62.3125 \nQ 48.875 64.0625 45.09375 64.984375 \nQ 41.3125 65.921875 37.59375 65.921875 \nQ 27.828125 65.921875 22.671875 59.328125 \nQ 17.53125 52.734375 16.796875 39.40625 \nQ 19.671875 43.65625 24.015625 45.921875 \nQ 28.375 48.1875 33.59375 48.1875 \nQ 44.578125 48.1875 50.953125 41.515625 \nQ 57.328125 34.859375 57.328125 23.390625 \nQ 57.328125 12.15625 50.6875 5.359375 \nQ 44.046875 -1.421875 33.015625 -1.421875 \nQ 20.359375 -1.421875 13.671875 8.265625 \nQ 6.984375 17.96875 6.984375 36.375 \nQ 6.984375 53.65625 15.1875 63.9375 \nQ 23.390625 74.21875 37.203125 74.21875 \nQ 40.921875 74.21875 44.703125 73.484375 \nQ 48.484375 72.75 52.59375 71.296875 \nz\n\" id=\"DejaVuSans-54\"/>\n      </defs>\n      <g transform=\"translate(315.031847 406.564562)scale(0.1 -0.1)\">\n       <use xlink:href=\"#DejaVuSans-48\"/>\n       <use x=\"63.623047\" xlink:href=\"#DejaVuSans-46\"/>\n       <use x=\"95.410156\" xlink:href=\"#DejaVuSans-54\"/>\n      </g>\n     </g>\n    </g>\n    <g id=\"xtick_5\">\n     <g id=\"line2d_9\">\n      <path clip-path=\"url(#p94755b14b9)\" d=\"M 408.205227 391.966125 \nL 408.205227 22.318125 \n\" style=\"fill:none;stroke:#808080;stroke-linecap:square;stroke-opacity:0.5;stroke-width:0.25;\"/>\n     </g>\n     <g id=\"line2d_10\">\n      <g>\n       <use style=\"stroke:#000000;stroke-width:0.8;\" x=\"408.205227\" xlink:href=\"#m1263ebe0f8\" y=\"391.966125\"/>\n      </g>\n     </g>\n     <g id=\"text_5\">\n      <!-- 0.8 -->\n      <defs>\n       <path d=\"M 31.78125 34.625 \nQ 24.75 34.625 20.71875 30.859375 \nQ 16.703125 27.09375 16.703125 20.515625 \nQ 16.703125 13.921875 20.71875 10.15625 \nQ 24.75 6.390625 31.78125 6.390625 \nQ 38.8125 6.390625 42.859375 10.171875 \nQ 46.921875 13.96875 46.921875 20.515625 \nQ 46.921875 27.09375 42.890625 30.859375 \nQ 38.875 34.625 31.78125 34.625 \nz\nM 21.921875 38.8125 \nQ 15.578125 40.375 12.03125 44.71875 \nQ 8.5 49.078125 8.5 55.328125 \nQ 8.5 64.0625 14.71875 69.140625 \nQ 20.953125 74.21875 31.78125 74.21875 \nQ 42.671875 74.21875 48.875 69.140625 \nQ 55.078125 64.0625 55.078125 55.328125 \nQ 55.078125 49.078125 51.53125 44.71875 \nQ 48 40.375 41.703125 38.8125 \nQ 48.828125 37.15625 52.796875 32.3125 \nQ 56.78125 27.484375 56.78125 20.515625 \nQ 56.78125 9.90625 50.3125 4.234375 \nQ 43.84375 -1.421875 31.78125 -1.421875 \nQ 19.734375 -1.421875 13.25 4.234375 \nQ 6.78125 9.90625 6.78125 20.515625 \nQ 6.78125 27.484375 10.78125 32.3125 \nQ 14.796875 37.15625 21.921875 38.8125 \nz\nM 18.3125 54.390625 \nQ 18.3125 48.734375 21.84375 45.5625 \nQ 25.390625 42.390625 31.78125 42.390625 \nQ 38.140625 42.390625 41.71875 45.5625 \nQ 45.3125 48.734375 45.3125 54.390625 \nQ 45.3125 60.0625 41.71875 63.234375 \nQ 38.140625 66.40625 31.78125 66.40625 \nQ 25.390625 66.40625 21.84375 63.234375 \nQ 18.3125 60.0625 18.3125 54.390625 \nz\n\" id=\"DejaVuSans-56\"/>\n      </defs>\n      <g transform=\"translate(400.253665 406.564562)scale(0.1 -0.1)\">\n       <use xlink:href=\"#DejaVuSans-48\"/>\n       <use x=\"63.623047\" xlink:href=\"#DejaVuSans-46\"/>\n       <use x=\"95.410156\" xlink:href=\"#DejaVuSans-56\"/>\n      </g>\n     </g>\n    </g>\n    <g id=\"xtick_6\">\n     <g id=\"line2d_11\">\n      <path clip-path=\"url(#p94755b14b9)\" d=\"M 493.427045 391.966125 \nL 493.427045 22.318125 \n\" style=\"fill:none;stroke:#808080;stroke-linecap:square;stroke-opacity:0.5;stroke-width:0.25;\"/>\n     </g>\n     <g id=\"line2d_12\">\n      <g>\n       <use style=\"stroke:#000000;stroke-width:0.8;\" x=\"493.427045\" xlink:href=\"#m1263ebe0f8\" y=\"391.966125\"/>\n      </g>\n     </g>\n     <g id=\"text_6\">\n      <!-- 1.0 -->\n      <defs>\n       <path d=\"M 12.40625 8.296875 \nL 28.515625 8.296875 \nL 28.515625 63.921875 \nL 10.984375 60.40625 \nL 10.984375 69.390625 \nL 28.421875 72.90625 \nL 38.28125 72.90625 \nL 38.28125 8.296875 \nL 54.390625 8.296875 \nL 54.390625 0 \nL 12.40625 0 \nz\n\" id=\"DejaVuSans-49\"/>\n      </defs>\n      <g transform=\"translate(485.475483 406.564562)scale(0.1 -0.1)\">\n       <use xlink:href=\"#DejaVuSans-49\"/>\n       <use x=\"63.623047\" xlink:href=\"#DejaVuSans-46\"/>\n       <use x=\"95.410156\" xlink:href=\"#DejaVuSans-48\"/>\n      </g>\n     </g>\n    </g>\n   </g>\n   <g id=\"matplotlib.axis_2\">\n    <g id=\"ytick_1\">\n     <g id=\"line2d_13\">\n      <path clip-path=\"url(#p94755b14b9)\" d=\"M 46.0125 391.966125 \nL 514.7325 391.966125 \n\" style=\"fill:none;stroke:#808080;stroke-linecap:square;stroke-opacity:0.5;stroke-width:0.25;\"/>\n     </g>\n     <g id=\"line2d_14\">\n      <defs>\n       <path d=\"M 0 0 \nL -3.5 0 \n\" id=\"md3bf2cb66b\" style=\"stroke:#000000;stroke-width:0.8;\"/>\n      </defs>\n      <g>\n       <use style=\"stroke:#000000;stroke-width:0.8;\" x=\"46.0125\" xlink:href=\"#md3bf2cb66b\" y=\"391.966125\"/>\n      </g>\n     </g>\n     <g id=\"text_7\">\n      <!-- 0 -->\n      <g transform=\"translate(32.65 395.765344)scale(0.1 -0.1)\">\n       <use xlink:href=\"#DejaVuSans-48\"/>\n      </g>\n     </g>\n    </g>\n    <g id=\"ytick_2\">\n     <g id=\"line2d_15\">\n      <path clip-path=\"url(#p94755b14b9)\" d=\"M 46.0125 350.480653 \nL 514.7325 350.480653 \n\" style=\"fill:none;stroke:#808080;stroke-linecap:square;stroke-opacity:0.5;stroke-width:0.25;\"/>\n     </g>\n     <g id=\"line2d_16\">\n      <g>\n       <use style=\"stroke:#000000;stroke-width:0.8;\" x=\"46.0125\" xlink:href=\"#md3bf2cb66b\" y=\"350.480653\"/>\n      </g>\n     </g>\n     <g id=\"text_8\">\n      <!-- 5000 -->\n      <defs>\n       <path d=\"M 10.796875 72.90625 \nL 49.515625 72.90625 \nL 49.515625 64.59375 \nL 19.828125 64.59375 \nL 19.828125 46.734375 \nQ 21.96875 47.46875 24.109375 47.828125 \nQ 26.265625 48.1875 28.421875 48.1875 \nQ 40.625 48.1875 47.75 41.5 \nQ 54.890625 34.8125 54.890625 23.390625 \nQ 54.890625 11.625 47.5625 5.09375 \nQ 40.234375 -1.421875 26.90625 -1.421875 \nQ 22.3125 -1.421875 17.546875 -0.640625 \nQ 12.796875 0.140625 7.71875 1.703125 \nL 7.71875 11.625 \nQ 12.109375 9.234375 16.796875 8.0625 \nQ 21.484375 6.890625 26.703125 6.890625 \nQ 35.15625 6.890625 40.078125 11.328125 \nQ 45.015625 15.765625 45.015625 23.390625 \nQ 45.015625 31 40.078125 35.4375 \nQ 35.15625 39.890625 26.703125 39.890625 \nQ 22.75 39.890625 18.8125 39.015625 \nQ 14.890625 38.140625 10.796875 36.28125 \nz\n\" id=\"DejaVuSans-53\"/>\n      </defs>\n      <g transform=\"translate(13.5625 354.279872)scale(0.1 -0.1)\">\n       <use xlink:href=\"#DejaVuSans-53\"/>\n       <use x=\"63.623047\" xlink:href=\"#DejaVuSans-48\"/>\n       <use x=\"127.246094\" xlink:href=\"#DejaVuSans-48\"/>\n       <use x=\"190.869141\" xlink:href=\"#DejaVuSans-48\"/>\n      </g>\n     </g>\n    </g>\n    <g id=\"ytick_3\">\n     <g id=\"line2d_17\">\n      <path clip-path=\"url(#p94755b14b9)\" d=\"M 46.0125 308.995181 \nL 514.7325 308.995181 \n\" style=\"fill:none;stroke:#808080;stroke-linecap:square;stroke-opacity:0.5;stroke-width:0.25;\"/>\n     </g>\n     <g id=\"line2d_18\">\n      <g>\n       <use style=\"stroke:#000000;stroke-width:0.8;\" x=\"46.0125\" xlink:href=\"#md3bf2cb66b\" y=\"308.995181\"/>\n      </g>\n     </g>\n     <g id=\"text_9\">\n      <!-- 10000 -->\n      <g transform=\"translate(7.2 312.7944)scale(0.1 -0.1)\">\n       <use xlink:href=\"#DejaVuSans-49\"/>\n       <use x=\"63.623047\" xlink:href=\"#DejaVuSans-48\"/>\n       <use x=\"127.246094\" xlink:href=\"#DejaVuSans-48\"/>\n       <use x=\"190.869141\" xlink:href=\"#DejaVuSans-48\"/>\n       <use x=\"254.492188\" xlink:href=\"#DejaVuSans-48\"/>\n      </g>\n     </g>\n    </g>\n    <g id=\"ytick_4\">\n     <g id=\"line2d_19\">\n      <path clip-path=\"url(#p94755b14b9)\" d=\"M 46.0125 267.509709 \nL 514.7325 267.509709 \n\" style=\"fill:none;stroke:#808080;stroke-linecap:square;stroke-opacity:0.5;stroke-width:0.25;\"/>\n     </g>\n     <g id=\"line2d_20\">\n      <g>\n       <use style=\"stroke:#000000;stroke-width:0.8;\" x=\"46.0125\" xlink:href=\"#md3bf2cb66b\" y=\"267.509709\"/>\n      </g>\n     </g>\n     <g id=\"text_10\">\n      <!-- 15000 -->\n      <g transform=\"translate(7.2 271.308928)scale(0.1 -0.1)\">\n       <use xlink:href=\"#DejaVuSans-49\"/>\n       <use x=\"63.623047\" xlink:href=\"#DejaVuSans-53\"/>\n       <use x=\"127.246094\" xlink:href=\"#DejaVuSans-48\"/>\n       <use x=\"190.869141\" xlink:href=\"#DejaVuSans-48\"/>\n       <use x=\"254.492188\" xlink:href=\"#DejaVuSans-48\"/>\n      </g>\n     </g>\n    </g>\n    <g id=\"ytick_5\">\n     <g id=\"line2d_21\">\n      <path clip-path=\"url(#p94755b14b9)\" d=\"M 46.0125 226.024238 \nL 514.7325 226.024238 \n\" style=\"fill:none;stroke:#808080;stroke-linecap:square;stroke-opacity:0.5;stroke-width:0.25;\"/>\n     </g>\n     <g id=\"line2d_22\">\n      <g>\n       <use style=\"stroke:#000000;stroke-width:0.8;\" x=\"46.0125\" xlink:href=\"#md3bf2cb66b\" y=\"226.024238\"/>\n      </g>\n     </g>\n     <g id=\"text_11\">\n      <!-- 20000 -->\n      <g transform=\"translate(7.2 229.823456)scale(0.1 -0.1)\">\n       <use xlink:href=\"#DejaVuSans-50\"/>\n       <use x=\"63.623047\" xlink:href=\"#DejaVuSans-48\"/>\n       <use x=\"127.246094\" xlink:href=\"#DejaVuSans-48\"/>\n       <use x=\"190.869141\" xlink:href=\"#DejaVuSans-48\"/>\n       <use x=\"254.492188\" xlink:href=\"#DejaVuSans-48\"/>\n      </g>\n     </g>\n    </g>\n    <g id=\"ytick_6\">\n     <g id=\"line2d_23\">\n      <path clip-path=\"url(#p94755b14b9)\" d=\"M 46.0125 184.538766 \nL 514.7325 184.538766 \n\" style=\"fill:none;stroke:#808080;stroke-linecap:square;stroke-opacity:0.5;stroke-width:0.25;\"/>\n     </g>\n     <g id=\"line2d_24\">\n      <g>\n       <use style=\"stroke:#000000;stroke-width:0.8;\" x=\"46.0125\" xlink:href=\"#md3bf2cb66b\" y=\"184.538766\"/>\n      </g>\n     </g>\n     <g id=\"text_12\">\n      <!-- 25000 -->\n      <g transform=\"translate(7.2 188.337984)scale(0.1 -0.1)\">\n       <use xlink:href=\"#DejaVuSans-50\"/>\n       <use x=\"63.623047\" xlink:href=\"#DejaVuSans-53\"/>\n       <use x=\"127.246094\" xlink:href=\"#DejaVuSans-48\"/>\n       <use x=\"190.869141\" xlink:href=\"#DejaVuSans-48\"/>\n       <use x=\"254.492188\" xlink:href=\"#DejaVuSans-48\"/>\n      </g>\n     </g>\n    </g>\n    <g id=\"ytick_7\">\n     <g id=\"line2d_25\">\n      <path clip-path=\"url(#p94755b14b9)\" d=\"M 46.0125 143.053294 \nL 514.7325 143.053294 \n\" style=\"fill:none;stroke:#808080;stroke-linecap:square;stroke-opacity:0.5;stroke-width:0.25;\"/>\n     </g>\n     <g id=\"line2d_26\">\n      <g>\n       <use style=\"stroke:#000000;stroke-width:0.8;\" x=\"46.0125\" xlink:href=\"#md3bf2cb66b\" y=\"143.053294\"/>\n      </g>\n     </g>\n     <g id=\"text_13\">\n      <!-- 30000 -->\n      <defs>\n       <path d=\"M 40.578125 39.3125 \nQ 47.65625 37.796875 51.625 33 \nQ 55.609375 28.21875 55.609375 21.1875 \nQ 55.609375 10.40625 48.1875 4.484375 \nQ 40.765625 -1.421875 27.09375 -1.421875 \nQ 22.515625 -1.421875 17.65625 -0.515625 \nQ 12.796875 0.390625 7.625 2.203125 \nL 7.625 11.71875 \nQ 11.71875 9.328125 16.59375 8.109375 \nQ 21.484375 6.890625 26.8125 6.890625 \nQ 36.078125 6.890625 40.9375 10.546875 \nQ 45.796875 14.203125 45.796875 21.1875 \nQ 45.796875 27.640625 41.28125 31.265625 \nQ 36.765625 34.90625 28.71875 34.90625 \nL 20.21875 34.90625 \nL 20.21875 43.015625 \nL 29.109375 43.015625 \nQ 36.375 43.015625 40.234375 45.921875 \nQ 44.09375 48.828125 44.09375 54.296875 \nQ 44.09375 59.90625 40.109375 62.90625 \nQ 36.140625 65.921875 28.71875 65.921875 \nQ 24.65625 65.921875 20.015625 65.03125 \nQ 15.375 64.15625 9.8125 62.3125 \nL 9.8125 71.09375 \nQ 15.4375 72.65625 20.34375 73.4375 \nQ 25.25 74.21875 29.59375 74.21875 \nQ 40.828125 74.21875 47.359375 69.109375 \nQ 53.90625 64.015625 53.90625 55.328125 \nQ 53.90625 49.265625 50.4375 45.09375 \nQ 46.96875 40.921875 40.578125 39.3125 \nz\n\" id=\"DejaVuSans-51\"/>\n      </defs>\n      <g transform=\"translate(7.2 146.852513)scale(0.1 -0.1)\">\n       <use xlink:href=\"#DejaVuSans-51\"/>\n       <use x=\"63.623047\" xlink:href=\"#DejaVuSans-48\"/>\n       <use x=\"127.246094\" xlink:href=\"#DejaVuSans-48\"/>\n       <use x=\"190.869141\" xlink:href=\"#DejaVuSans-48\"/>\n       <use x=\"254.492188\" xlink:href=\"#DejaVuSans-48\"/>\n      </g>\n     </g>\n    </g>\n    <g id=\"ytick_8\">\n     <g id=\"line2d_27\">\n      <path clip-path=\"url(#p94755b14b9)\" d=\"M 46.0125 101.567822 \nL 514.7325 101.567822 \n\" style=\"fill:none;stroke:#808080;stroke-linecap:square;stroke-opacity:0.5;stroke-width:0.25;\"/>\n     </g>\n     <g id=\"line2d_28\">\n      <g>\n       <use style=\"stroke:#000000;stroke-width:0.8;\" x=\"46.0125\" xlink:href=\"#md3bf2cb66b\" y=\"101.567822\"/>\n      </g>\n     </g>\n     <g id=\"text_14\">\n      <!-- 35000 -->\n      <g transform=\"translate(7.2 105.367041)scale(0.1 -0.1)\">\n       <use xlink:href=\"#DejaVuSans-51\"/>\n       <use x=\"63.623047\" xlink:href=\"#DejaVuSans-53\"/>\n       <use x=\"127.246094\" xlink:href=\"#DejaVuSans-48\"/>\n       <use x=\"190.869141\" xlink:href=\"#DejaVuSans-48\"/>\n       <use x=\"254.492188\" xlink:href=\"#DejaVuSans-48\"/>\n      </g>\n     </g>\n    </g>\n    <g id=\"ytick_9\">\n     <g id=\"line2d_29\">\n      <path clip-path=\"url(#p94755b14b9)\" d=\"M 46.0125 60.08235 \nL 514.7325 60.08235 \n\" style=\"fill:none;stroke:#808080;stroke-linecap:square;stroke-opacity:0.5;stroke-width:0.25;\"/>\n     </g>\n     <g id=\"line2d_30\">\n      <g>\n       <use style=\"stroke:#000000;stroke-width:0.8;\" x=\"46.0125\" xlink:href=\"#md3bf2cb66b\" y=\"60.08235\"/>\n      </g>\n     </g>\n     <g id=\"text_15\">\n      <!-- 40000 -->\n      <g transform=\"translate(7.2 63.881569)scale(0.1 -0.1)\">\n       <use xlink:href=\"#DejaVuSans-52\"/>\n       <use x=\"63.623047\" xlink:href=\"#DejaVuSans-48\"/>\n       <use x=\"127.246094\" xlink:href=\"#DejaVuSans-48\"/>\n       <use x=\"190.869141\" xlink:href=\"#DejaVuSans-48\"/>\n       <use x=\"254.492188\" xlink:href=\"#DejaVuSans-48\"/>\n      </g>\n     </g>\n    </g>\n   </g>\n   <g id=\"patch_13\">\n    <path d=\"M 46.0125 391.966125 \nL 46.0125 22.318125 \n\" style=\"fill:none;stroke:#000000;stroke-linecap:square;stroke-linejoin:miter;stroke-width:0.8;\"/>\n   </g>\n   <g id=\"patch_14\">\n    <path d=\"M 514.7325 391.966125 \nL 514.7325 22.318125 \n\" style=\"fill:none;stroke:#000000;stroke-linecap:square;stroke-linejoin:miter;stroke-width:0.8;\"/>\n   </g>\n   <g id=\"patch_15\">\n    <path d=\"M 46.0125 391.966125 \nL 514.7325 391.966125 \n\" style=\"fill:none;stroke:#000000;stroke-linecap:square;stroke-linejoin:miter;stroke-width:0.8;\"/>\n   </g>\n   <g id=\"patch_16\">\n    <path d=\"M 46.0125 22.318125 \nL 514.7325 22.318125 \n\" style=\"fill:none;stroke:#000000;stroke-linecap:square;stroke-linejoin:miter;stroke-width:0.8;\"/>\n   </g>\n   <g id=\"text_16\">\n    <!-- Distribution of Oversampled Data -->\n    <defs>\n     <path d=\"M 19.671875 64.796875 \nL 19.671875 8.109375 \nL 31.59375 8.109375 \nQ 46.6875 8.109375 53.6875 14.9375 \nQ 60.6875 21.78125 60.6875 36.53125 \nQ 60.6875 51.171875 53.6875 57.984375 \nQ 46.6875 64.796875 31.59375 64.796875 \nz\nM 9.8125 72.90625 \nL 30.078125 72.90625 \nQ 51.265625 72.90625 61.171875 64.09375 \nQ 71.09375 55.28125 71.09375 36.53125 \nQ 71.09375 17.671875 61.125 8.828125 \nQ 51.171875 0 30.078125 0 \nL 9.8125 0 \nz\n\" id=\"DejaVuSans-68\"/>\n     <path d=\"M 9.421875 54.6875 \nL 18.40625 54.6875 \nL 18.40625 0 \nL 9.421875 0 \nz\nM 9.421875 75.984375 \nL 18.40625 75.984375 \nL 18.40625 64.59375 \nL 9.421875 64.59375 \nz\n\" id=\"DejaVuSans-105\"/>\n     <path d=\"M 44.28125 53.078125 \nL 44.28125 44.578125 \nQ 40.484375 46.53125 36.375 47.5 \nQ 32.28125 48.484375 27.875 48.484375 \nQ 21.1875 48.484375 17.84375 46.4375 \nQ 14.5 44.390625 14.5 40.28125 \nQ 14.5 37.15625 16.890625 35.375 \nQ 19.28125 33.59375 26.515625 31.984375 \nL 29.59375 31.296875 \nQ 39.15625 29.25 43.1875 25.515625 \nQ 47.21875 21.78125 47.21875 15.09375 \nQ 47.21875 7.46875 41.1875 3.015625 \nQ 35.15625 -1.421875 24.609375 -1.421875 \nQ 20.21875 -1.421875 15.453125 -0.5625 \nQ 10.6875 0.296875 5.421875 2 \nL 5.421875 11.28125 \nQ 10.40625 8.6875 15.234375 7.390625 \nQ 20.0625 6.109375 24.8125 6.109375 \nQ 31.15625 6.109375 34.5625 8.28125 \nQ 37.984375 10.453125 37.984375 14.40625 \nQ 37.984375 18.0625 35.515625 20.015625 \nQ 33.0625 21.96875 24.703125 23.78125 \nL 21.578125 24.515625 \nQ 13.234375 26.265625 9.515625 29.90625 \nQ 5.8125 33.546875 5.8125 39.890625 \nQ 5.8125 47.609375 11.28125 51.796875 \nQ 16.75 56 26.8125 56 \nQ 31.78125 56 36.171875 55.265625 \nQ 40.578125 54.546875 44.28125 53.078125 \nz\n\" id=\"DejaVuSans-115\"/>\n     <path d=\"M 18.3125 70.21875 \nL 18.3125 54.6875 \nL 36.8125 54.6875 \nL 36.8125 47.703125 \nL 18.3125 47.703125 \nL 18.3125 18.015625 \nQ 18.3125 11.328125 20.140625 9.421875 \nQ 21.96875 7.515625 27.59375 7.515625 \nL 36.8125 7.515625 \nL 36.8125 0 \nL 27.59375 0 \nQ 17.1875 0 13.234375 3.875 \nQ 9.28125 7.765625 9.28125 18.015625 \nL 9.28125 47.703125 \nL 2.6875 47.703125 \nL 2.6875 54.6875 \nL 9.28125 54.6875 \nL 9.28125 70.21875 \nz\n\" id=\"DejaVuSans-116\"/>\n     <path d=\"M 41.109375 46.296875 \nQ 39.59375 47.171875 37.8125 47.578125 \nQ 36.03125 48 33.890625 48 \nQ 26.265625 48 22.1875 43.046875 \nQ 18.109375 38.09375 18.109375 28.8125 \nL 18.109375 0 \nL 9.078125 0 \nL 9.078125 54.6875 \nL 18.109375 54.6875 \nL 18.109375 46.1875 \nQ 20.953125 51.171875 25.484375 53.578125 \nQ 30.03125 56 36.53125 56 \nQ 37.453125 56 38.578125 55.875 \nQ 39.703125 55.765625 41.0625 55.515625 \nz\n\" id=\"DejaVuSans-114\"/>\n     <path d=\"M 48.6875 27.296875 \nQ 48.6875 37.203125 44.609375 42.84375 \nQ 40.53125 48.484375 33.40625 48.484375 \nQ 26.265625 48.484375 22.1875 42.84375 \nQ 18.109375 37.203125 18.109375 27.296875 \nQ 18.109375 17.390625 22.1875 11.75 \nQ 26.265625 6.109375 33.40625 6.109375 \nQ 40.53125 6.109375 44.609375 11.75 \nQ 48.6875 17.390625 48.6875 27.296875 \nz\nM 18.109375 46.390625 \nQ 20.953125 51.265625 25.265625 53.625 \nQ 29.59375 56 35.59375 56 \nQ 45.5625 56 51.78125 48.09375 \nQ 58.015625 40.1875 58.015625 27.296875 \nQ 58.015625 14.40625 51.78125 6.484375 \nQ 45.5625 -1.421875 35.59375 -1.421875 \nQ 29.59375 -1.421875 25.265625 0.953125 \nQ 20.953125 3.328125 18.109375 8.203125 \nL 18.109375 0 \nL 9.078125 0 \nL 9.078125 75.984375 \nL 18.109375 75.984375 \nz\n\" id=\"DejaVuSans-98\"/>\n     <path d=\"M 8.5 21.578125 \nL 8.5 54.6875 \nL 17.484375 54.6875 \nL 17.484375 21.921875 \nQ 17.484375 14.15625 20.5 10.265625 \nQ 23.53125 6.390625 29.59375 6.390625 \nQ 36.859375 6.390625 41.078125 11.03125 \nQ 45.3125 15.671875 45.3125 23.6875 \nL 45.3125 54.6875 \nL 54.296875 54.6875 \nL 54.296875 0 \nL 45.3125 0 \nL 45.3125 8.40625 \nQ 42.046875 3.421875 37.71875 1 \nQ 33.40625 -1.421875 27.6875 -1.421875 \nQ 18.265625 -1.421875 13.375 4.4375 \nQ 8.5 10.296875 8.5 21.578125 \nz\nM 31.109375 56 \nz\n\" id=\"DejaVuSans-117\"/>\n     <path d=\"M 30.609375 48.390625 \nQ 23.390625 48.390625 19.1875 42.75 \nQ 14.984375 37.109375 14.984375 27.296875 \nQ 14.984375 17.484375 19.15625 11.84375 \nQ 23.34375 6.203125 30.609375 6.203125 \nQ 37.796875 6.203125 41.984375 11.859375 \nQ 46.1875 17.53125 46.1875 27.296875 \nQ 46.1875 37.015625 41.984375 42.703125 \nQ 37.796875 48.390625 30.609375 48.390625 \nz\nM 30.609375 56 \nQ 42.328125 56 49.015625 48.375 \nQ 55.71875 40.765625 55.71875 27.296875 \nQ 55.71875 13.875 49.015625 6.21875 \nQ 42.328125 -1.421875 30.609375 -1.421875 \nQ 18.84375 -1.421875 12.171875 6.21875 \nQ 5.515625 13.875 5.515625 27.296875 \nQ 5.515625 40.765625 12.171875 48.375 \nQ 18.84375 56 30.609375 56 \nz\n\" id=\"DejaVuSans-111\"/>\n     <path d=\"M 54.890625 33.015625 \nL 54.890625 0 \nL 45.90625 0 \nL 45.90625 32.71875 \nQ 45.90625 40.484375 42.875 44.328125 \nQ 39.84375 48.1875 33.796875 48.1875 \nQ 26.515625 48.1875 22.3125 43.546875 \nQ 18.109375 38.921875 18.109375 30.90625 \nL 18.109375 0 \nL 9.078125 0 \nL 9.078125 54.6875 \nL 18.109375 54.6875 \nL 18.109375 46.1875 \nQ 21.34375 51.125 25.703125 53.5625 \nQ 30.078125 56 35.796875 56 \nQ 45.21875 56 50.046875 50.171875 \nQ 54.890625 44.34375 54.890625 33.015625 \nz\n\" id=\"DejaVuSans-110\"/>\n     <path id=\"DejaVuSans-32\"/>\n     <path d=\"M 37.109375 75.984375 \nL 37.109375 68.5 \nL 28.515625 68.5 \nQ 23.6875 68.5 21.796875 66.546875 \nQ 19.921875 64.59375 19.921875 59.515625 \nL 19.921875 54.6875 \nL 34.71875 54.6875 \nL 34.71875 47.703125 \nL 19.921875 47.703125 \nL 19.921875 0 \nL 10.890625 0 \nL 10.890625 47.703125 \nL 2.296875 47.703125 \nL 2.296875 54.6875 \nL 10.890625 54.6875 \nL 10.890625 58.5 \nQ 10.890625 67.625 15.140625 71.796875 \nQ 19.390625 75.984375 28.609375 75.984375 \nz\n\" id=\"DejaVuSans-102\"/>\n     <path d=\"M 39.40625 66.21875 \nQ 28.65625 66.21875 22.328125 58.203125 \nQ 16.015625 50.203125 16.015625 36.375 \nQ 16.015625 22.609375 22.328125 14.59375 \nQ 28.65625 6.59375 39.40625 6.59375 \nQ 50.140625 6.59375 56.421875 14.59375 \nQ 62.703125 22.609375 62.703125 36.375 \nQ 62.703125 50.203125 56.421875 58.203125 \nQ 50.140625 66.21875 39.40625 66.21875 \nz\nM 39.40625 74.21875 \nQ 54.734375 74.21875 63.90625 63.9375 \nQ 73.09375 53.65625 73.09375 36.375 \nQ 73.09375 19.140625 63.90625 8.859375 \nQ 54.734375 -1.421875 39.40625 -1.421875 \nQ 24.03125 -1.421875 14.8125 8.828125 \nQ 5.609375 19.09375 5.609375 36.375 \nQ 5.609375 53.65625 14.8125 63.9375 \nQ 24.03125 74.21875 39.40625 74.21875 \nz\n\" id=\"DejaVuSans-79\"/>\n     <path d=\"M 2.984375 54.6875 \nL 12.5 54.6875 \nL 29.59375 8.796875 \nL 46.6875 54.6875 \nL 56.203125 54.6875 \nL 35.6875 0 \nL 23.484375 0 \nz\n\" id=\"DejaVuSans-118\"/>\n     <path d=\"M 56.203125 29.59375 \nL 56.203125 25.203125 \nL 14.890625 25.203125 \nQ 15.484375 15.921875 20.484375 11.0625 \nQ 25.484375 6.203125 34.421875 6.203125 \nQ 39.59375 6.203125 44.453125 7.46875 \nQ 49.3125 8.734375 54.109375 11.28125 \nL 54.109375 2.78125 \nQ 49.265625 0.734375 44.1875 -0.34375 \nQ 39.109375 -1.421875 33.890625 -1.421875 \nQ 20.796875 -1.421875 13.15625 6.1875 \nQ 5.515625 13.8125 5.515625 26.8125 \nQ 5.515625 40.234375 12.765625 48.109375 \nQ 20.015625 56 32.328125 56 \nQ 43.359375 56 49.78125 48.890625 \nQ 56.203125 41.796875 56.203125 29.59375 \nz\nM 47.21875 32.234375 \nQ 47.125 39.59375 43.09375 43.984375 \nQ 39.0625 48.390625 32.421875 48.390625 \nQ 24.90625 48.390625 20.390625 44.140625 \nQ 15.875 39.890625 15.1875 32.171875 \nz\n\" id=\"DejaVuSans-101\"/>\n     <path d=\"M 34.28125 27.484375 \nQ 23.390625 27.484375 19.1875 25 \nQ 14.984375 22.515625 14.984375 16.5 \nQ 14.984375 11.71875 18.140625 8.90625 \nQ 21.296875 6.109375 26.703125 6.109375 \nQ 34.1875 6.109375 38.703125 11.40625 \nQ 43.21875 16.703125 43.21875 25.484375 \nL 43.21875 27.484375 \nz\nM 52.203125 31.203125 \nL 52.203125 0 \nL 43.21875 0 \nL 43.21875 8.296875 \nQ 40.140625 3.328125 35.546875 0.953125 \nQ 30.953125 -1.421875 24.3125 -1.421875 \nQ 15.921875 -1.421875 10.953125 3.296875 \nQ 6 8.015625 6 15.921875 \nQ 6 25.140625 12.171875 29.828125 \nQ 18.359375 34.515625 30.609375 34.515625 \nL 43.21875 34.515625 \nL 43.21875 35.40625 \nQ 43.21875 41.609375 39.140625 45 \nQ 35.0625 48.390625 27.6875 48.390625 \nQ 23 48.390625 18.546875 47.265625 \nQ 14.109375 46.140625 10.015625 43.890625 \nL 10.015625 52.203125 \nQ 14.9375 54.109375 19.578125 55.046875 \nQ 24.21875 56 28.609375 56 \nQ 40.484375 56 46.34375 49.84375 \nQ 52.203125 43.703125 52.203125 31.203125 \nz\n\" id=\"DejaVuSans-97\"/>\n     <path d=\"M 52 44.1875 \nQ 55.375 50.25 60.0625 53.125 \nQ 64.75 56 71.09375 56 \nQ 79.640625 56 84.28125 50.015625 \nQ 88.921875 44.046875 88.921875 33.015625 \nL 88.921875 0 \nL 79.890625 0 \nL 79.890625 32.71875 \nQ 79.890625 40.578125 77.09375 44.375 \nQ 74.3125 48.1875 68.609375 48.1875 \nQ 61.625 48.1875 57.5625 43.546875 \nQ 53.515625 38.921875 53.515625 30.90625 \nL 53.515625 0 \nL 44.484375 0 \nL 44.484375 32.71875 \nQ 44.484375 40.625 41.703125 44.40625 \nQ 38.921875 48.1875 33.109375 48.1875 \nQ 26.21875 48.1875 22.15625 43.53125 \nQ 18.109375 38.875 18.109375 30.90625 \nL 18.109375 0 \nL 9.078125 0 \nL 9.078125 54.6875 \nL 18.109375 54.6875 \nL 18.109375 46.1875 \nQ 21.1875 51.21875 25.484375 53.609375 \nQ 29.78125 56 35.6875 56 \nQ 41.65625 56 45.828125 52.96875 \nQ 50 49.953125 52 44.1875 \nz\n\" id=\"DejaVuSans-109\"/>\n     <path d=\"M 18.109375 8.203125 \nL 18.109375 -20.796875 \nL 9.078125 -20.796875 \nL 9.078125 54.6875 \nL 18.109375 54.6875 \nL 18.109375 46.390625 \nQ 20.953125 51.265625 25.265625 53.625 \nQ 29.59375 56 35.59375 56 \nQ 45.5625 56 51.78125 48.09375 \nQ 58.015625 40.1875 58.015625 27.296875 \nQ 58.015625 14.40625 51.78125 6.484375 \nQ 45.5625 -1.421875 35.59375 -1.421875 \nQ 29.59375 -1.421875 25.265625 0.953125 \nQ 20.953125 3.328125 18.109375 8.203125 \nz\nM 48.6875 27.296875 \nQ 48.6875 37.203125 44.609375 42.84375 \nQ 40.53125 48.484375 33.40625 48.484375 \nQ 26.265625 48.484375 22.1875 42.84375 \nQ 18.109375 37.203125 18.109375 27.296875 \nQ 18.109375 17.390625 22.1875 11.75 \nQ 26.265625 6.109375 33.40625 6.109375 \nQ 40.53125 6.109375 44.609375 11.75 \nQ 48.6875 17.390625 48.6875 27.296875 \nz\n\" id=\"DejaVuSans-112\"/>\n     <path d=\"M 9.421875 75.984375 \nL 18.40625 75.984375 \nL 18.40625 0 \nL 9.421875 0 \nz\n\" id=\"DejaVuSans-108\"/>\n     <path d=\"M 45.40625 46.390625 \nL 45.40625 75.984375 \nL 54.390625 75.984375 \nL 54.390625 0 \nL 45.40625 0 \nL 45.40625 8.203125 \nQ 42.578125 3.328125 38.25 0.953125 \nQ 33.9375 -1.421875 27.875 -1.421875 \nQ 17.96875 -1.421875 11.734375 6.484375 \nQ 5.515625 14.40625 5.515625 27.296875 \nQ 5.515625 40.1875 11.734375 48.09375 \nQ 17.96875 56 27.875 56 \nQ 33.9375 56 38.25 53.625 \nQ 42.578125 51.265625 45.40625 46.390625 \nz\nM 14.796875 27.296875 \nQ 14.796875 17.390625 18.875 11.75 \nQ 22.953125 6.109375 30.078125 6.109375 \nQ 37.203125 6.109375 41.296875 11.75 \nQ 45.40625 17.390625 45.40625 27.296875 \nQ 45.40625 37.203125 41.296875 42.84375 \nQ 37.203125 48.484375 30.078125 48.484375 \nQ 22.953125 48.484375 18.875 42.84375 \nQ 14.796875 37.203125 14.796875 27.296875 \nz\n\" id=\"DejaVuSans-100\"/>\n    </defs>\n    <g transform=\"translate(179.483438 16.318125)scale(0.12 -0.12)\">\n     <use xlink:href=\"#DejaVuSans-68\"/>\n     <use x=\"77.001953\" xlink:href=\"#DejaVuSans-105\"/>\n     <use x=\"104.785156\" xlink:href=\"#DejaVuSans-115\"/>\n     <use x=\"156.884766\" xlink:href=\"#DejaVuSans-116\"/>\n     <use x=\"196.09375\" xlink:href=\"#DejaVuSans-114\"/>\n     <use x=\"237.207031\" xlink:href=\"#DejaVuSans-105\"/>\n     <use x=\"264.990234\" xlink:href=\"#DejaVuSans-98\"/>\n     <use x=\"328.466797\" xlink:href=\"#DejaVuSans-117\"/>\n     <use x=\"391.845703\" xlink:href=\"#DejaVuSans-116\"/>\n     <use x=\"431.054688\" xlink:href=\"#DejaVuSans-105\"/>\n     <use x=\"458.837891\" xlink:href=\"#DejaVuSans-111\"/>\n     <use x=\"520.019531\" xlink:href=\"#DejaVuSans-110\"/>\n     <use x=\"583.398438\" xlink:href=\"#DejaVuSans-32\"/>\n     <use x=\"615.185547\" xlink:href=\"#DejaVuSans-111\"/>\n     <use x=\"676.367188\" xlink:href=\"#DejaVuSans-102\"/>\n     <use x=\"711.572266\" xlink:href=\"#DejaVuSans-32\"/>\n     <use x=\"743.359375\" xlink:href=\"#DejaVuSans-79\"/>\n     <use x=\"822.070312\" xlink:href=\"#DejaVuSans-118\"/>\n     <use x=\"881.25\" xlink:href=\"#DejaVuSans-101\"/>\n     <use x=\"942.773438\" xlink:href=\"#DejaVuSans-114\"/>\n     <use x=\"983.886719\" xlink:href=\"#DejaVuSans-115\"/>\n     <use x=\"1035.986328\" xlink:href=\"#DejaVuSans-97\"/>\n     <use x=\"1097.265625\" xlink:href=\"#DejaVuSans-109\"/>\n     <use x=\"1194.677734\" xlink:href=\"#DejaVuSans-112\"/>\n     <use x=\"1258.154297\" xlink:href=\"#DejaVuSans-108\"/>\n     <use x=\"1285.9375\" xlink:href=\"#DejaVuSans-101\"/>\n     <use x=\"1347.460938\" xlink:href=\"#DejaVuSans-100\"/>\n     <use x=\"1410.9375\" xlink:href=\"#DejaVuSans-32\"/>\n     <use x=\"1442.724609\" xlink:href=\"#DejaVuSans-68\"/>\n     <use x=\"1519.726562\" xlink:href=\"#DejaVuSans-97\"/>\n     <use x=\"1581.005859\" xlink:href=\"#DejaVuSans-116\"/>\n     <use x=\"1620.214844\" xlink:href=\"#DejaVuSans-97\"/>\n    </g>\n   </g>\n  </g>\n </g>\n <defs>\n  <clipPath id=\"p94755b14b9\">\n   <rect height=\"369.648\" width=\"468.72\" x=\"46.0125\" y=\"22.318125\"/>\n  </clipPath>\n </defs>\n</svg>\n",
      "image/png": "[encoded data removed]"
     },
     "metadata": {
      "needs_background": "light"
     }
    }
   ],
   "source": [
    "# Visualizing the new distribution of the RESPONSE column\n",
    "plt.figure(figsize=(8.4, 6.8))\n",
    "y_train_over.hist()\n",
    "ax = plt.gca()\n",
    "ax.set_facecolor('#ebedf0')\n",
    "plt.title(\"Distribution of Oversampled Data\")\n",
    "plt.grid(color='grey', linestyle='-', linewidth=0.25, alpha=0.5)\n",
    "plt.savefig('images/over_hist')"
   ]
  },
  {
   "cell_type": "code",
   "execution_count": 505,
   "metadata": {},
   "outputs": [
    {
     "output_type": "execute_result",
     "data": {
      "text/plain": "   AGER_TYP  AKT_DAT_KL  ALTER_HH  ALTERSKATEGORIE_FEIN  ANZ_HAUSHALTE_AKTIV  \\\n0  1.031262   -0.062632 -0.065451              0.035432             0.690624   \n1  0.323502    1.562578  0.653960              0.897786            -0.307298   \n2  0.323502   -0.062632  0.078431             -0.137039            -0.378579   \n3  1.031262   -0.062632 -0.353215             -0.309510            -0.093458   \n4  1.031262   -0.062632  0.078431              0.207903             3.399269   \n\n   ANZ_HH_TITEL  ANZ_KINDER  ANZ_PERSONEN  ANZ_STATISTISCHE_HAUSHALTE  \\\n0      0.283135    0.162072     -0.316350                    0.606244   \n1      0.283135    0.162072      0.283166                   -0.298460   \n2     -1.581088    0.162072     -0.915866                   -0.298460   \n3      0.283135    0.162072      0.283166                   -0.072284   \n4      0.283135    0.162072     -0.316350                    2.943396   \n\n   ANZ_TITEL  ...       VHN  VK_DHT4A  VK_DISTANZ   VK_ZG11  W_KEIT_KIND_HH  \\\n0   0.401211  ...  0.165672  0.450811   -0.432571 -0.511335        0.970149   \n1   0.401211  ...  0.756098 -0.689760   -0.432571 -0.511335        0.264063   \n2   0.401211  ... -0.424755  0.735954    0.116857 -0.151387       -1.501151   \n3   0.401211  ...  1.346524  1.306239    2.039853  3.088141        0.970149   \n4   0.401211  ...  1.346524 -0.404617   -0.432571 -0.511335        0.970149   \n\n   WOHNDAUER_2008  WOHNLAGE  ZABEOTYP  ANREDE_KZ  ALTERSKATEGORIE_GROB  \n0        0.498989 -0.053487  0.174577   0.824885              0.736410  \n1        0.498989  1.434552 -1.608634   0.824885             -0.200391  \n2        0.498989 -0.425497  0.174577  -1.212290              0.736410  \n3        0.498989 -0.797506  0.174577   0.824885              0.736410  \n4        0.498989 -0.053487  0.174577  -1.212290             -0.200391  \n\n[5 rows x 358 columns]",
      "text/html": "<div>\n<style scoped>\n    .dataframe tbody tr th:only-of-type {\n        vertical-align: middle;\n    }\n\n    .dataframe tbody tr th {\n        vertical-align: top;\n    }\n\n    .dataframe thead th {\n        text-align: right;\n    }\n</style>\n<table border=\"1\" class=\"dataframe\">\n  <thead>\n    <tr style=\"text-align: right;\">\n      <th></th>\n      <th>AGER_TYP</th>\n      <th>AKT_DAT_KL</th>\n      <th>ALTER_HH</th>\n      <th>ALTERSKATEGORIE_FEIN</th>\n      <th>ANZ_HAUSHALTE_AKTIV</th>\n      <th>ANZ_HH_TITEL</th>\n      <th>ANZ_KINDER</th>\n      <th>ANZ_PERSONEN</th>\n      <th>ANZ_STATISTISCHE_HAUSHALTE</th>\n      <th>ANZ_TITEL</th>\n      <th>...</th>\n      <th>VHN</th>\n      <th>VK_DHT4A</th>\n      <th>VK_DISTANZ</th>\n      <th>VK_ZG11</th>\n      <th>W_KEIT_KIND_HH</th>\n      <th>WOHNDAUER_2008</th>\n      <th>WOHNLAGE</th>\n      <th>ZABEOTYP</th>\n      <th>ANREDE_KZ</th>\n      <th>ALTERSKATEGORIE_GROB</th>\n    </tr>\n  </thead>\n  <tbody>\n    <tr>\n      <th>0</th>\n      <td>1.031262</td>\n      <td>-0.062632</td>\n      <td>-0.065451</td>\n      <td>0.035432</td>\n      <td>0.690624</td>\n      <td>0.283135</td>\n      <td>0.162072</td>\n      <td>-0.316350</td>\n      <td>0.606244</td>\n      <td>0.401211</td>\n      <td>...</td>\n      <td>0.165672</td>\n      <td>0.450811</td>\n      <td>-0.432571</td>\n      <td>-0.511335</td>\n      <td>0.970149</td>\n      <td>0.498989</td>\n      <td>-0.053487</td>\n      <td>0.174577</td>\n      <td>0.824885</td>\n      <td>0.736410</td>\n    </tr>\n    <tr>\n      <th>1</th>\n      <td>0.323502</td>\n      <td>1.562578</td>\n      <td>0.653960</td>\n      <td>0.897786</td>\n      <td>-0.307298</td>\n      <td>0.283135</td>\n      <td>0.162072</td>\n      <td>0.283166</td>\n      <td>-0.298460</td>\n      <td>0.401211</td>\n      <td>...</td>\n      <td>0.756098</td>\n      <td>-0.689760</td>\n      <td>-0.432571</td>\n      <td>-0.511335</td>\n      <td>0.264063</td>\n      <td>0.498989</td>\n      <td>1.434552</td>\n      <td>-1.608634</td>\n      <td>0.824885</td>\n      <td>-0.200391</td>\n    </tr>\n    <tr>\n      <th>2</th>\n      <td>0.323502</td>\n      <td>-0.062632</td>\n      <td>0.078431</td>\n      <td>-0.137039</td>\n      <td>-0.378579</td>\n      <td>-1.581088</td>\n      <td>0.162072</td>\n      <td>-0.915866</td>\n      <td>-0.298460</td>\n      <td>0.401211</td>\n      <td>...</td>\n      <td>-0.424755</td>\n      <td>0.735954</td>\n      <td>0.116857</td>\n      <td>-0.151387</td>\n      <td>-1.501151</td>\n      <td>0.498989</td>\n      <td>-0.425497</td>\n      <td>0.174577</td>\n      <td>-1.212290</td>\n      <td>0.736410</td>\n    </tr>\n    <tr>\n      <th>3</th>\n      <td>1.031262</td>\n      <td>-0.062632</td>\n      <td>-0.353215</td>\n      <td>-0.309510</td>\n      <td>-0.093458</td>\n      <td>0.283135</td>\n      <td>0.162072</td>\n      <td>0.283166</td>\n      <td>-0.072284</td>\n      <td>0.401211</td>\n      <td>...</td>\n      <td>1.346524</td>\n      <td>1.306239</td>\n      <td>2.039853</td>\n      <td>3.088141</td>\n      <td>0.970149</td>\n      <td>0.498989</td>\n      <td>-0.797506</td>\n      <td>0.174577</td>\n      <td>0.824885</td>\n      <td>0.736410</td>\n    </tr>\n    <tr>\n      <th>4</th>\n      <td>1.031262</td>\n      <td>-0.062632</td>\n      <td>0.078431</td>\n      <td>0.207903</td>\n      <td>3.399269</td>\n      <td>0.283135</td>\n      <td>0.162072</td>\n      <td>-0.316350</td>\n      <td>2.943396</td>\n      <td>0.401211</td>\n      <td>...</td>\n      <td>1.346524</td>\n      <td>-0.404617</td>\n      <td>-0.432571</td>\n      <td>-0.511335</td>\n      <td>0.970149</td>\n      <td>0.498989</td>\n      <td>-0.053487</td>\n      <td>0.174577</td>\n      <td>-1.212290</td>\n      <td>-0.200391</td>\n    </tr>\n  </tbody>\n</table>\n<p>5 rows × 358 columns</p>\n</div>"
     },
     "metadata": {},
     "execution_count": 505
    }
   ],
   "source": [
    "X_train_over = pd.DataFrame(X_train_over)\n",
    "X_train_over.columns = X_train.columns\n",
    "X_train_over[:5]"
   ]
  },
  {
   "cell_type": "code",
   "execution_count": 13,
   "metadata": {},
   "outputs": [],
   "source": [
    "# Retraining the baseline with the balanced data\n",
    "\n",
    "# Creating the logistic regression model with lasso regularization\n",
    "lr_baseline = LogisticRegression(penalty='l1',\n",
    "                                 class_weight='balanced',\n",
    "                                 solver='saga',\n",
    "                                 max_iter=10000)"
   ]
  },
  {
   "cell_type": "code",
   "execution_count": 19,
   "metadata": {},
   "outputs": [
    {
     "output_type": "execute_result",
     "data": {
      "text/plain": "LogisticRegression(class_weight='balanced', max_iter=10000, penalty='l1',\n                   solver='saga')"
     },
     "metadata": {},
     "execution_count": 19
    }
   ],
   "source": [
    "# Training the baseline model with the balanced data\n",
    "lr_baseline.fit(X_train_over, y_train_over)"
   ]
  },
  {
   "cell_type": "code",
   "execution_count": 20,
   "metadata": {},
   "outputs": [],
   "source": [
    "# Getting predictions for the training set\n",
    "y_pred = lr_baseline.predict(X_train_over)"
   ]
  },
  {
   "cell_type": "code",
   "execution_count": 21,
   "metadata": {
    "tags": []
   },
   "outputs": [
    {
     "output_type": "stream",
     "name": "stdout",
     "text": "The accuracy is 0.867911854819703\nThe recall is 0.8610417157671458\nThe precision is 0.8730374937271489\n"
    }
   ],
   "source": [
    "# Calculating the accuracy, precision, and recall\n",
    "print(\"The accuracy is\", accuracy_score(y_train_over, y_pred))\n",
    "print(\"The recall is\", recall_score(y_train_over, y_pred))\n",
    "print(\"The precision is\", precision_score(y_train_over, y_pred))"
   ]
  },
  {
   "cell_type": "code",
   "execution_count": 549,
   "metadata": {},
   "outputs": [],
   "source": [
    "# Using cross validation to select a model\n",
    "\n",
    "# Importing the cross validation function\n",
    "from sklearn.model_selection import cross_validate\n",
    "\n",
    "# Importing the classes that will be used to create the models\n",
    "from sklearn.ensemble import RandomForestClassifier\n",
    "from sklearn.ensemble import GradientBoostingClassifier\n",
    "from sklearn.neighbors import KNeighborsClassifier\n",
    "from sklearn.naive_bayes import GaussianNB\n",
    "from sklearn.svm import SVC\n",
    "from xgboost import XGBClassifier\n",
    "\n",
    "# Creating the models\n",
    "\n",
    "# Random forest model\n",
    "rf_classifier = RandomForestClassifier(n_estimators=200)\n",
    "# Gradient boosting model\n",
    "gb_classifier = GradientBoostingClassifier(n_estimators=200)\n",
    "# XGBoost model\n",
    "xgb_classifier = XGBClassifier()\n",
    "# K nearest neighbors model\n",
    "knn_classifier= KNeighborsClassifier()\n",
    "# Naive bayes model\n",
    "nb_classifier = GaussianNB()\n",
    "# Support vector machine model\n",
    "svm_classifier = SVC(max_iter=500)\n",
    "# Logistic regression classifier\n",
    "lr_classifier = LogisticRegression(penalty='l1',\n",
    "                                   solver='saga',\n",
    "                                   max_iter=10000)\n",
    "\n",
    "# Dictionary that will hold the accuracy, recall, and precision values for the cross validation process for each model\n",
    "cv_scores = {\"Random Forest\": None, \"Gradient Boosting\": None, \"XGBoost\": None,\n",
    "             \"K Nearest Neighbors\": None, \"Naive Bayes\": None, \"Logistic Regression\": None}"
   ]
  },
  {
   "cell_type": "code",
   "execution_count": 15,
   "metadata": {},
   "outputs": [],
   "source": [
    "# Combining the feature and the labels to get a random sample\n",
    "X_train_over[\"RESPONSE\"] = y_train_over\n",
    "# Renaming the dataframe\n",
    "sampled_combined = X_train_over.copy()\n",
    "# Getting a random sample from the data to reduce the runtime of the cross validation iterations\n",
    "df_sample = sampled_combined.sample(10000)"
   ]
  },
  {
   "cell_type": "code",
   "execution_count": 16,
   "metadata": {},
   "outputs": [
    {
     "output_type": "execute_result",
     "data": {
      "text/plain": "       AGER_TYP  AKT_DAT_KL  ALTER_HH  ALTERSKATEGORIE_FEIN  \\\n19790         1         1.0      12.0                  12.0   \n9615          3         1.0      10.0                   9.0   \n21507        -1         1.0       0.0                   0.0   \n212           1         1.0       8.0                   7.0   \n36975        -1         2.0      15.0                  15.0   \n\n       ANZ_HAUSHALTE_AKTIV  ANZ_HH_TITEL  ANZ_KINDER  ANZ_PERSONEN  \\\n19790                  7.0           0.0         0.0           1.0   \n9615                   3.0           1.0         0.0           2.0   \n21507                 36.0           1.0         0.0           2.0   \n212                   12.0           0.0         0.0           2.0   \n36975                 15.0           0.0         0.0           2.0   \n\n       ANZ_STATISTISCHE_HAUSHALTE  ANZ_TITEL  ...  VK_DHT4A  VK_DISTANZ  \\\n19790                         7.0        0.0  ...       1.0         1.0   \n9615                          3.0        0.0  ...       1.0         1.0   \n21507                        35.0        0.0  ...       9.0         8.0   \n212                          11.0        0.0  ...       1.0         1.0   \n36975                        14.0        0.0  ...       1.0         1.0   \n\n       VK_ZG11  W_KEIT_KIND_HH  WOHNDAUER_2008  WOHNLAGE  ZABEOTYP  ANREDE_KZ  \\\n19790      1.0             6.0             9.0       2.0         4          1   \n9615       1.0             6.0             4.0       2.0         1          1   \n21507      5.0             6.0             9.0       1.0         3          1   \n212        1.0             6.0             9.0       2.0         3          1   \n36975      1.0             5.0             9.0       2.0         2          1   \n\n       ALTERSKATEGORIE_GROB  RESPONSE  \n19790                     4         0  \n9615                      3         0  \n21507                     4         0  \n212                       4         0  \n36975                     3         0  \n\n[5 rows x 359 columns]",
      "text/html": "<div>\n<style scoped>\n    .dataframe tbody tr th:only-of-type {\n        vertical-align: middle;\n    }\n\n    .dataframe tbody tr th {\n        vertical-align: top;\n    }\n\n    .dataframe thead th {\n        text-align: right;\n    }\n</style>\n<table border=\"1\" class=\"dataframe\">\n  <thead>\n    <tr style=\"text-align: right;\">\n      <th></th>\n      <th>AGER_TYP</th>\n      <th>AKT_DAT_KL</th>\n      <th>ALTER_HH</th>\n      <th>ALTERSKATEGORIE_FEIN</th>\n      <th>ANZ_HAUSHALTE_AKTIV</th>\n      <th>ANZ_HH_TITEL</th>\n      <th>ANZ_KINDER</th>\n      <th>ANZ_PERSONEN</th>\n      <th>ANZ_STATISTISCHE_HAUSHALTE</th>\n      <th>ANZ_TITEL</th>\n      <th>...</th>\n      <th>VK_DHT4A</th>\n      <th>VK_DISTANZ</th>\n      <th>VK_ZG11</th>\n      <th>W_KEIT_KIND_HH</th>\n      <th>WOHNDAUER_2008</th>\n      <th>WOHNLAGE</th>\n      <th>ZABEOTYP</th>\n      <th>ANREDE_KZ</th>\n      <th>ALTERSKATEGORIE_GROB</th>\n      <th>RESPONSE</th>\n    </tr>\n  </thead>\n  <tbody>\n    <tr>\n      <th>19790</th>\n      <td>1</td>\n      <td>1.0</td>\n      <td>12.0</td>\n      <td>12.0</td>\n      <td>7.0</td>\n      <td>0.0</td>\n      <td>0.0</td>\n      <td>1.0</td>\n      <td>7.0</td>\n      <td>0.0</td>\n      <td>...</td>\n      <td>1.0</td>\n      <td>1.0</td>\n      <td>1.0</td>\n      <td>6.0</td>\n      <td>9.0</td>\n      <td>2.0</td>\n      <td>4</td>\n      <td>1</td>\n      <td>4</td>\n      <td>0</td>\n    </tr>\n    <tr>\n      <th>9615</th>\n      <td>3</td>\n      <td>1.0</td>\n      <td>10.0</td>\n      <td>9.0</td>\n      <td>3.0</td>\n      <td>1.0</td>\n      <td>0.0</td>\n      <td>2.0</td>\n      <td>3.0</td>\n      <td>0.0</td>\n      <td>...</td>\n      <td>1.0</td>\n      <td>1.0</td>\n      <td>1.0</td>\n      <td>6.0</td>\n      <td>4.0</td>\n      <td>2.0</td>\n      <td>1</td>\n      <td>1</td>\n      <td>3</td>\n      <td>0</td>\n    </tr>\n    <tr>\n      <th>21507</th>\n      <td>-1</td>\n      <td>1.0</td>\n      <td>0.0</td>\n      <td>0.0</td>\n      <td>36.0</td>\n      <td>1.0</td>\n      <td>0.0</td>\n      <td>2.0</td>\n      <td>35.0</td>\n      <td>0.0</td>\n      <td>...</td>\n      <td>9.0</td>\n      <td>8.0</td>\n      <td>5.0</td>\n      <td>6.0</td>\n      <td>9.0</td>\n      <td>1.0</td>\n      <td>3</td>\n      <td>1</td>\n      <td>4</td>\n      <td>0</td>\n    </tr>\n    <tr>\n      <th>212</th>\n      <td>1</td>\n      <td>1.0</td>\n      <td>8.0</td>\n      <td>7.0</td>\n      <td>12.0</td>\n      <td>0.0</td>\n      <td>0.0</td>\n      <td>2.0</td>\n      <td>11.0</td>\n      <td>0.0</td>\n      <td>...</td>\n      <td>1.0</td>\n      <td>1.0</td>\n      <td>1.0</td>\n      <td>6.0</td>\n      <td>9.0</td>\n      <td>2.0</td>\n      <td>3</td>\n      <td>1</td>\n      <td>4</td>\n      <td>0</td>\n    </tr>\n    <tr>\n      <th>36975</th>\n      <td>-1</td>\n      <td>2.0</td>\n      <td>15.0</td>\n      <td>15.0</td>\n      <td>15.0</td>\n      <td>0.0</td>\n      <td>0.0</td>\n      <td>2.0</td>\n      <td>14.0</td>\n      <td>0.0</td>\n      <td>...</td>\n      <td>1.0</td>\n      <td>1.0</td>\n      <td>1.0</td>\n      <td>5.0</td>\n      <td>9.0</td>\n      <td>2.0</td>\n      <td>2</td>\n      <td>1</td>\n      <td>3</td>\n      <td>0</td>\n    </tr>\n  </tbody>\n</table>\n<p>5 rows × 359 columns</p>\n</div>"
     },
     "metadata": {},
     "execution_count": 16
    }
   ],
   "source": [
    "df_sample.head()"
   ]
  },
  {
   "cell_type": "code",
   "execution_count": 17,
   "metadata": {},
   "outputs": [],
   "source": [
    "# Separating the data into features and labels\n",
    "X_sample = df_sample.loc[:, df_sample.columns != \"RESPONSE\"]\n",
    "y_sample = df_sample[\"RESPONSE\"]"
   ]
  },
  {
   "cell_type": "code",
   "execution_count": 31,
   "metadata": {
    "tags": []
   },
   "outputs": [
    {
     "output_type": "stream",
     "name": "stdout",
     "text": "Random forest \n\nThe mean training accuracy is 0.9509000000000001\nThe mean training recall is 0.9244640420334784\nThe mean training precision is 0.9758910012968487\n\n\nThe mean test accuracy is 0.9435\nThe mean test recall is 0.9104390964110403\nThe mean test precision is 0.9747298643448786\n\n\nGBM \n\nThe mean training accuracy is 0.94725\nThe mean training recall is 0.9172009809752237\nThe mean training precision is 0.9756525426710896\n\n\nThe mean test accuracy is 0.9454\nThe mean test recall is 0.9136451080338854\nThe mean test precision is 0.9754541360370474\n\n\nXGBoost \n\nThe mean training accuracy is 0.9509000000000001\nThe mean training recall is 0.9244640420334784\nThe mean training precision is 0.9758910012968487\n\n\nThe mean test accuracy is 0.9456\nThe mean test recall is 0.9142461098372922\nThe mean test precision is 0.9752584617477863\n\n\nKNN \n\nThe mean training accuracy is 0.7727499999999999\nThe mean training recall is 0.9373865687799341\nThe mean training precision is 0.7047947060307644\n\n\nThe mean test accuracy is 0.7219\nThe mean test recall is 0.9340833819791736\nThe mean test precision is 0.6554323930752523\n\n\nNaive Bayes \n\nThe mean training accuracy is 0.647575\nThe mean training recall is 0.7425863497593734\nThe mean training precision is 0.6234087319942433\n\n\nThe mean test accuracy is 0.6477\nThe mean test recall is 0.7419323130745977\nThe mean test precision is 0.6236178867244365\n\n\nSupport Vector Machine \n\nThe mean training accuracy is 0.499125\nThe mean training recall is 0.4366251034500757\nThe mean training precision is 0.49117013812647226\n\n\nThe mean test accuracy is 0.49960000000000004\nThe mean test recall is 0.438232019594745\nThe mean test precision is 0.4908424844099536\n\n\nLogistic Regression \n\nThe mean training accuracy is 0.8366499999999999\nThe mean training recall is 0.8350031894492715\nThe mean training precision is 0.8372680258290215\n\n\nThe mean test accuracy is 0.8269\nThe mean test recall is 0.8290932214779911\nThe mean test precision is 0.8253935646131175\n\n\n"
    }
   ],
   "source": [
    "# Evaluating each machine learning model using cross validation\n",
    "\n",
    "# Importing the cross validation function\n",
    "from sklearn.model_selection import cross_validate\n",
    "\n",
    "# Creating a dictionary where each the key is the model name and the value is the model\n",
    "models = {\"Random forest\":rf_classifier, \"GBM\":gb_classifier, \"XGBoost\":xgb_classifier,\n",
    "          \"KNN\":knn_classifier, \"Naive Bayes\":nb_classifier, \"Support Vector Machine\":svm_classifier,\n",
    "          \"Logistic Regression\":lr_classifier}\n",
    "\n",
    "# Looping through all the models\n",
    "for model_name in models:\n",
    "    # Performing 5 fold cross validation\n",
    "    results = cross_validate(models[model_name], X_sample, y_sample, cv=5,\n",
    "                             scoring=[\"recall\", \"precision\", \"accuracy\"],\n",
    "                             return_train_score=True)\n",
    "    # Displaying the results\n",
    "    print(model_name, '\\n')\n",
    "    \n",
    "    # Displaying the training accuracy metrics\n",
    "    print(\"The mean training accuracy is\", results[\"train_accuracy\"].mean())\n",
    "    print(\"The mean training recall is\", results[\"train_recall\"].mean())\n",
    "    print(\"The mean training precision is\", results[\"train_precision\"].mean())\n",
    "\n",
    "    print('\\n')\n",
    "\n",
    "    # Displaying the test accuracy metrics\n",
    "    print(\"The mean test accuracy is\", results[\"test_accuracy\"].mean())\n",
    "    print(\"The mean test recall is\", results[\"test_recall\"].mean())\n",
    "    print(\"The mean test precision is\", results[\"test_precision\"].mean())\n",
    "    \n",
    "    print('\\n')"
   ]
  },
  {
   "cell_type": "code",
   "execution_count": 25,
   "metadata": {},
   "outputs": [],
   "source": [
    "# Performing feature selection and hyperparameter tuning for the best models\n",
    "\n",
    "# Importing the libraries\n",
    "from sklearn.feature_selection import SelectKBest,f_classif\n",
    "from sklearn.pipeline import Pipeline\n",
    "from sklearn.model_selection import GridSearchCV\n",
    "\n",
    "# Creating pipelines for the different models\n",
    "rf_pipline = Pipeline([\n",
    "    ('selector', SelectKBest(f_classif)),\n",
    "    ('model', RandomForestClassifier())\n",
    "])\n",
    "\n",
    "xgb_pipline = Pipeline([\n",
    "    ('selector', SelectKBest(f_classif)),\n",
    "    ('model', XGBClassifier())\n",
    "])\n",
    "\n",
    "knn_pipline = Pipeline([\n",
    "    ('selector', SelectKBest(f_classif)),\n",
    "    ('model', KNeighborsClassifier())\n",
    "])\n",
    "\n",
    "# Creating the parameter grids for each model\n",
    "rf_param_grid = {\n",
    "    'selector__k': [100, 230, 270, 300, 350],\n",
    "    'model__max_depth': [3, 10, 20, 50, 100, 150, 200],\n",
    "    'model__n_estimators': [100, 200, 300]\n",
    "}\n",
    "\n",
    "# Creating the grid search models for each model\n",
    "rf_search = GridSearchCV(\n",
    "    estimator = rf_pipline,\n",
    "    param_grid = rf_param_grid,\n",
    "    n_jobs=-1,\n",
    "    scoring=['accuracy', 'recall', 'precision'],\n",
    "    verbose=3,\n",
    "    refit=\"accuracy\"\n",
    ")\n",
    "\n",
    "xgb_param_grid = {\n",
    "    'selector__k': [100, 230, 270, 300, 350],\n",
    "    'model__max_depth': [3, 10, 20, 50, 100, 150, 200],\n",
    "    'model__learning_rate': [0.001, 0.01, 0.05, 0.1]\n",
    "}\n",
    "\n",
    "xgb_search = GridSearchCV(\n",
    "    estimator = xgb_pipline,\n",
    "    param_grid = xgb_param_grid,\n",
    "    n_jobs=-1,\n",
    "    scoring=['accuracy', 'recall', 'precision'],\n",
    "    verbose=3,\n",
    "    refit=\"accuracy\"\n",
    ")"
   ]
  },
  {
   "cell_type": "code",
   "execution_count": 18,
   "metadata": {},
   "outputs": [],
   "source": [
    "# Getting a random sample of 5000 points from the data in order to speed up the run time\n",
    "\n",
    "# Combining the feature and the labels to get a random sample\n",
    "X_train_over[\"RESPONSE\"] = y_train_over\n",
    "# Renaming the dataframe\n",
    "sampled_combined = X_train_over.copy()\n",
    "# Getting a random sample from the data to reduce the runtime of the cross validation iterations\n",
    "df_sample = sampled_combined.sample(5000)"
   ]
  },
  {
   "cell_type": "code",
   "execution_count": 19,
   "metadata": {},
   "outputs": [],
   "source": [
    "# Separating the data into features and labels\n",
    "X_sample = df_sample.loc[:, df_sample.columns != \"RESPONSE\"]\n",
    "y_sample = df_sample[\"RESPONSE\"]"
   ]
  },
  {
   "cell_type": "code",
   "execution_count": 18,
   "metadata": {},
   "outputs": [
    {
     "name": "stdout",
     "output_type": "stream",
     "text": [
      "Fitting 5 folds for each of 105 candidates, totalling 525 fits\n"
     ]
    },
    {
     "name": "stderr",
     "output_type": "stream",
     "text": [
      "[Parallel(n_jobs=-1)]: Using backend LokyBackend with 8 concurrent workers.\n",
      "[Parallel(n_jobs=-1)]: Done  16 tasks      | elapsed:    4.1s\n",
      "[Parallel(n_jobs=-1)]: Done 112 tasks      | elapsed:   28.2s\n",
      "[Parallel(n_jobs=-1)]: Done 272 tasks      | elapsed:  2.1min\n",
      "[Parallel(n_jobs=-1)]: Done 496 tasks      | elapsed:  4.5min\n",
      "[Parallel(n_jobs=-1)]: Done 525 out of 525 | elapsed:  5.0min finished\n"
     ]
    },
    {
     "data": {
      "text/plain": [
       "GridSearchCV(estimator=Pipeline(steps=[('selector', SelectKBest()),\n",
       "                                       ('model', RandomForestClassifier())]),\n",
       "             n_jobs=-1,\n",
       "             param_grid={'model__max_depth': [3, 10, 20, 50, 100, 150, 200],\n",
       "                         'model__n_estimators': [100, 200, 300],\n",
       "                         'selector__k': [100, 230, 270, 300, 350]},\n",
       "             refit='accuracy', scoring=['accuracy', 'recall', 'precision'],\n",
       "             verbose=3)"
      ]
     },
     "execution_count": 18,
     "metadata": {},
     "output_type": "execute_result"
    }
   ],
   "source": [
    "rf_search.fit(X_sample, y_sample)"
   ]
  },
  {
   "cell_type": "code",
   "execution_count": 19,
   "metadata": {},
   "outputs": [
    {
     "data": {
      "text/plain": [
       "{'model__max_depth': 20, 'model__n_estimators': 300, 'selector__k': 350}"
      ]
     },
     "execution_count": 19,
     "metadata": {},
     "output_type": "execute_result"
    }
   ],
   "source": [
    "# Viewing the best model parameters\n",
    "rf_search.best_params_"
   ]
  },
  {
   "cell_type": "code",
   "execution_count": 20,
   "metadata": {},
   "outputs": [
    {
     "data": {
      "text/plain": [
       "0.9322000000000001"
      ]
     },
     "execution_count": 20,
     "metadata": {},
     "output_type": "execute_result"
    }
   ],
   "source": [
    "rf_search.best_score_"
   ]
  },
  {
   "cell_type": "code",
   "execution_count": 21,
   "metadata": {},
   "outputs": [],
   "source": [
    "# Using cross validation to evaluate the best random forest model\n",
    "rf_tuned_results = cross_validate(rf_search.best_estimator_, X_sample, y_sample, cv=5,\n",
    "                                  scoring=[\"recall\", \"precision\", \"accuracy\"],\n",
    "                                  return_train_score=True)"
   ]
  },
  {
   "cell_type": "code",
   "execution_count": 24,
   "metadata": {},
   "outputs": [
    {
     "name": "stdout",
     "output_type": "stream",
     "text": [
      "The mean training accuracy is 0.94345\n",
      "The mean training recall is 0.9175728244088729\n",
      "The mean training precision is 0.9669338707834945\n",
      "\n",
      "\n",
      "The mean test accuracy is 0.9312000000000001\n",
      "The mean test recall is 0.8984325306678782\n",
      "The mean test precision is 0.9607043774434718\n"
     ]
    }
   ],
   "source": [
    "# Displaying the evaluation metrics\n",
    "display_metrics(rf_tuned_results)"
   ]
  },
  {
   "cell_type": "code",
   "execution_count": 28,
   "metadata": {},
   "outputs": [
    {
     "name": "stdout",
     "output_type": "stream",
     "text": [
      "Fitting 5 folds for each of 140 candidates, totalling 700 fits\n"
     ]
    },
    {
     "name": "stderr",
     "output_type": "stream",
     "text": [
      "[Parallel(n_jobs=-1)]: Using backend LokyBackend with 8 concurrent workers.\n",
      "[Parallel(n_jobs=-1)]: Done  16 tasks      | elapsed:   15.6s\n",
      "[Parallel(n_jobs=-1)]: Done 112 tasks      | elapsed:  5.3min\n",
      "[Parallel(n_jobs=-1)]: Done 272 tasks      | elapsed: 13.9min\n",
      "[Parallel(n_jobs=-1)]: Done 496 tasks      | elapsed: 26.2min\n",
      "[Parallel(n_jobs=-1)]: Done 700 out of 700 | elapsed: 34.9min finished\n"
     ]
    },
    {
     "data": {
      "text/plain": [
       "GridSearchCV(estimator=Pipeline(steps=[('selector', SelectKBest()),\n",
       "                                       ('model',\n",
       "                                        XGBClassifier(base_score=None,\n",
       "                                                      booster=None,\n",
       "                                                      colsample_bylevel=None,\n",
       "                                                      colsample_bynode=None,\n",
       "                                                      colsample_bytree=None,\n",
       "                                                      gamma=None, gpu_id=None,\n",
       "                                                      importance_type='gain',\n",
       "                                                      interaction_constraints=None,\n",
       "                                                      learning_rate=None,\n",
       "                                                      max_delta_step=None,\n",
       "                                                      max_depth=None,\n",
       "                                                      min_child_weight=None,\n",
       "                                                      missing=nan,\n",
       "                                                      mo...\n",
       "                                                      random_state=None,\n",
       "                                                      reg_alpha=None,\n",
       "                                                      reg_lambda=None,\n",
       "                                                      scale_pos_weight=None,\n",
       "                                                      subsample=None,\n",
       "                                                      tree_method=None,\n",
       "                                                      validate_parameters=None,\n",
       "                                                      verbosity=None))]),\n",
       "             n_jobs=-1,\n",
       "             param_grid={'model__learning_rate': [0.001, 0.01, 0.05, 0.1],\n",
       "                         'model__max_depth': [3, 10, 20, 50, 100, 150, 200],\n",
       "                         'selector__k': [100, 230, 270, 300, 350]},\n",
       "             refit='accuracy', scoring=['accuracy', 'recall', 'precision'],\n",
       "             verbose=3)"
      ]
     },
     "execution_count": 28,
     "metadata": {},
     "output_type": "execute_result"
    }
   ],
   "source": [
    "xgb_search.fit(X_sample, y_sample)"
   ]
  },
  {
   "cell_type": "code",
   "execution_count": 30,
   "metadata": {},
   "outputs": [
    {
     "data": {
      "text/plain": [
       "{'model__learning_rate': 0.1, 'model__max_depth': 10, 'selector__k': 230}"
      ]
     },
     "execution_count": 30,
     "metadata": {},
     "output_type": "execute_result"
    }
   ],
   "source": [
    "# Viewing the best model parameters\n",
    "xgb_search.best_params_"
   ]
  },
  {
   "cell_type": "code",
   "execution_count": 36,
   "metadata": {},
   "outputs": [],
   "source": [
    "# Using cross validation to evaluate the best random forest model\n",
    "xgb_tuned_results = cross_validate(xgb_search.best_estimator_, X_sample, y_sample, cv=5,\n",
    "                                   scoring=[\"recall\", \"precision\", \"accuracy\"],\n",
    "                                   return_train_score=True)"
   ]
  },
  {
   "cell_type": "code",
   "execution_count": 37,
   "metadata": {},
   "outputs": [
    {
     "name": "stdout",
     "output_type": "stream",
     "text": [
      "The mean training accuracy is 0.9492750000000001\n",
      "The mean training recall is 0.9190910328175397\n",
      "The mean training precision is 0.9778013438996311\n",
      "\n",
      "\n",
      "The mean test accuracy is 0.9423\n",
      "The mean test recall is 0.9058978139236988\n",
      "The mean test precision is 0.9766745782030386\n"
     ]
    }
   ],
   "source": [
    "display_metrics(xgb_tuned_results)"
   ]
  },
  {
   "cell_type": "code",
   "execution_count": 20,
   "metadata": {},
   "outputs": [],
   "source": [
    "# Using random search to tune the hyperparamaters of the tree based models\n",
    "\n",
    "from sklearn.model_selection import RandomizedSearchCV\n",
    "\n",
    "# Number of trees in random forest\n",
    "n_estimators = [int(x) for x in np.linspace(start = 200, stop = 2000, num = 10)]\n",
    "# Number of features to consider at every split\n",
    "max_features = ['auto', 'log2']\n",
    "# Maximum number of levels in tree\n",
    "max_depth = [int(x) for x in np.linspace(3, 300, num = 20)]\n",
    "max_depth.append(None)\n",
    "# Minimum number of samples required to split a node\n",
    "min_samples_split = [2, 5, 10]\n",
    "# Minimum number of samples required at each leaf node\n",
    "min_samples_leaf = [1, 2, 4, 10, 30, 80, 100]\n",
    "# Method of selecting samples for training each tree\n",
    "bootstrap = [True, False]\n",
    "\n",
    "# Create the random grid\n",
    "random_grid = {'n_estimators': n_estimators,\n",
    "               'max_features': max_features,\n",
    "               'max_depth': max_depth,\n",
    "               'min_samples_split': min_samples_split,\n",
    "               'min_samples_leaf': min_samples_leaf,\n",
    "               'bootstrap': bootstrap}"
   ]
  },
  {
   "cell_type": "code",
   "execution_count": 44,
   "metadata": {},
   "outputs": [
    {
     "name": "stdout",
     "output_type": "stream",
     "text": [
      "Fitting 3 folds for each of 100 candidates, totalling 300 fits\n"
     ]
    },
    {
     "name": "stderr",
     "output_type": "stream",
     "text": [
      "[Parallel(n_jobs=-1)]: Using backend LokyBackend with 8 concurrent workers.\n",
      "[Parallel(n_jobs=-1)]: Done  25 tasks      | elapsed:  2.6min\n",
      "[Parallel(n_jobs=-1)]: Done 146 tasks      | elapsed: 15.7min\n",
      "[Parallel(n_jobs=-1)]: Done 300 out of 300 | elapsed: 29.5min finished\n"
     ]
    },
    {
     "data": {
      "text/plain": [
       "RandomizedSearchCV(cv=3, estimator=RandomForestClassifier(), n_iter=100,\n",
       "                   n_jobs=-1,\n",
       "                   param_distributions={'bootstrap': [True, False],\n",
       "                                        'max_depth': [3, 18, 34, 49, 65, 81, 96,\n",
       "                                                      112, 128, 143, 159, 174,\n",
       "                                                      190, 206, 221, 237, 253,\n",
       "                                                      268, 284, 300, None],\n",
       "                                        'max_features': ['auto', 'log2'],\n",
       "                                        'min_samples_leaf': [1, 2, 4, 10, 30,\n",
       "                                                             80, 100],\n",
       "                                        'min_samples_split': [2, 5, 10],\n",
       "                                        'n_estimators': [200, 400, 600, 800,\n",
       "                                                         1000, 1200, 1400, 1600,\n",
       "                                                         1800, 2000]},\n",
       "                   verbose=2)"
      ]
     },
     "execution_count": 44,
     "metadata": {},
     "output_type": "execute_result"
    }
   ],
   "source": [
    "# Using random search to find for best hyperparameters\n",
    "\n",
    "# Baseline model that will be tuned, all hyperparameters are set to default\n",
    "rf_classifier = RandomForestClassifier()\n",
    "\n",
    "# Random search of parameters using 3 fold cross validation, \n",
    "# search across 100 different combinations and use all available cores to speed up search\n",
    "rf_random_search = RandomizedSearchCV(estimator = rf_classifier, param_distributions = random_grid,\n",
    "                                      n_iter = 100, cv = 3, verbose=2, n_jobs = -1)\n",
    "# Fit the random search model\n",
    "rf_random_search.fit(X_sample, y_sample)"
   ]
  },
  {
   "cell_type": "code",
   "execution_count": 45,
   "metadata": {
    "scrolled": true
   },
   "outputs": [
    {
     "data": {
      "text/plain": [
       "{'n_estimators': 1400,\n",
       " 'min_samples_split': 5,\n",
       " 'min_samples_leaf': 2,\n",
       " 'max_features': 'log2',\n",
       " 'max_depth': 190,\n",
       " 'bootstrap': False}"
      ]
     },
     "execution_count": 45,
     "metadata": {},
     "output_type": "execute_result"
    }
   ],
   "source": [
    "# Viewing the best set of parameters\n",
    "rf_random_search.best_params_"
   ]
  },
  {
   "cell_type": "code",
   "execution_count": 46,
   "metadata": {},
   "outputs": [],
   "source": [
    "# Evaluating the random forest model with the tuned hyperparameters using cross validation\n",
    "\n",
    "tuned_results = cross_validate(rf_random_search.best_estimator_, X_sample, y_sample, cv=5,\n",
    "                               scoring=[\"recall\", \"precision\", \"accuracy\"],\n",
    "                               return_train_score=True)"
   ]
  },
  {
   "cell_type": "code",
   "execution_count": 23,
   "metadata": {},
   "outputs": [],
   "source": [
    "def display_metrics(results):\n",
    "    \"\"\"\n",
    "    Displays the accuracy, precision, and recall of a model that it trained using cross validation\n",
    "    param results: A dictionary that holds the accuracy, recall, and precision of a model\n",
    "    return: Displays the accuracy, recall, and precision of the model\n",
    "    \"\"\"\n",
    "    \n",
    "    # Displaying the training accuracy metrics\n",
    "    print(\"The mean training accuracy is\", results[\"train_accuracy\"].mean())\n",
    "    print(\"The mean training recall is\", results[\"train_recall\"].mean())\n",
    "    print(\"The mean training precision is\", results[\"train_precision\"].mean())\n",
    "\n",
    "    print('\\n')\n",
    "\n",
    "    # Displaying the test accuracy metrics\n",
    "    print(\"The mean test accuracy is\", results[\"test_accuracy\"].mean())\n",
    "    print(\"The mean test recall is\", results[\"test_recall\"].mean())\n",
    "    print(\"The mean test precision is\", results[\"test_precision\"].mean())"
   ]
  },
  {
   "cell_type": "code",
   "execution_count": 48,
   "metadata": {},
   "outputs": [
    {
     "name": "stdout",
     "output_type": "stream",
     "text": [
      "The mean training accuracy is 0.949325\n",
      "The mean training recall is 0.9269743622945551\n",
      "The mean training precision is 0.9719815306072966\n",
      "\n",
      "\n",
      "The mean test accuracy is 0.9404\n",
      "The mean test recall is 0.9113661223381561\n",
      "The mean test precision is 0.9694884885105516\n"
     ]
    }
   ],
   "source": [
    "# Displaying the evaluation metrics\n",
    "display_metrics(tuned_results)"
   ]
  },
  {
   "cell_type": "code",
   "execution_count": 40,
   "metadata": {},
   "outputs": [
    {
     "output_type": "execute_result",
     "data": {
      "text/plain": "'HELLO'"
     },
     "metadata": {},
     "execution_count": 40
    }
   ],
   "source": [
    "\"HELLO\""
   ]
  },
  {
   "cell_type": "code",
   "execution_count": 684,
   "metadata": {},
   "outputs": [],
   "source": [
    "# Scaling the oversampled data so that all the columns are in the same range\n",
    "\n",
    "# Scaling the data\n",
    "from sklearn.preprocessing import StandardScaler\n",
    "scalar = StandardScaler()\n",
    "scalar.fit(X_train)\n",
    "features_scaled = scalar.transform(X_train)"
   ]
  },
  {
   "cell_type": "code",
   "execution_count": 685,
   "metadata": {},
   "outputs": [
    {
     "output_type": "execute_result",
     "data": {
      "text/plain": "   AGER_TYP  AKT_DAT_KL  ALTER_HH  ALTERSKATEGORIE_FEIN  ANZ_HAUSHALTE_AKTIV  \\\n0  1.031262   -0.062632 -0.065451              0.035432             0.690624   \n1  0.323502    1.562578  0.653960              0.897786            -0.307298   \n2  0.323502   -0.062632  0.078431             -0.137039            -0.378579   \n3  1.031262   -0.062632 -0.353215             -0.309510            -0.093458   \n4  1.031262   -0.062632  0.078431              0.207903             3.399269   \n\n   ANZ_HH_TITEL  ANZ_KINDER  ANZ_PERSONEN  ANZ_STATISTISCHE_HAUSHALTE  \\\n0      0.283135    0.162072     -0.316350                    0.606244   \n1      0.283135    0.162072      0.283166                   -0.298460   \n2     -1.581088    0.162072     -0.915866                   -0.298460   \n3      0.283135    0.162072      0.283166                   -0.072284   \n4      0.283135    0.162072     -0.316350                    2.943396   \n\n   ANZ_TITEL  ...       VHN  VK_DHT4A  VK_DISTANZ   VK_ZG11  W_KEIT_KIND_HH  \\\n0   0.401211  ...  0.165672  0.450811   -0.432571 -0.511335        0.970149   \n1   0.401211  ...  0.756098 -0.689760   -0.432571 -0.511335        0.264063   \n2   0.401211  ... -0.424755  0.735954    0.116857 -0.151387       -1.501151   \n3   0.401211  ...  1.346524  1.306239    2.039853  3.088141        0.970149   \n4   0.401211  ...  1.346524 -0.404617   -0.432571 -0.511335        0.970149   \n\n   WOHNDAUER_2008  WOHNLAGE  ZABEOTYP  ANREDE_KZ  ALTERSKATEGORIE_GROB  \n0        0.498989 -0.053487  0.174577   0.824885              0.736410  \n1        0.498989  1.434552 -1.608634   0.824885             -0.200391  \n2        0.498989 -0.425497  0.174577  -1.212290              0.736410  \n3        0.498989 -0.797506  0.174577   0.824885              0.736410  \n4        0.498989 -0.053487  0.174577  -1.212290             -0.200391  \n\n[5 rows x 358 columns]",
      "text/html": "<div>\n<style scoped>\n    .dataframe tbody tr th:only-of-type {\n        vertical-align: middle;\n    }\n\n    .dataframe tbody tr th {\n        vertical-align: top;\n    }\n\n    .dataframe thead th {\n        text-align: right;\n    }\n</style>\n<table border=\"1\" class=\"dataframe\">\n  <thead>\n    <tr style=\"text-align: right;\">\n      <th></th>\n      <th>AGER_TYP</th>\n      <th>AKT_DAT_KL</th>\n      <th>ALTER_HH</th>\n      <th>ALTERSKATEGORIE_FEIN</th>\n      <th>ANZ_HAUSHALTE_AKTIV</th>\n      <th>ANZ_HH_TITEL</th>\n      <th>ANZ_KINDER</th>\n      <th>ANZ_PERSONEN</th>\n      <th>ANZ_STATISTISCHE_HAUSHALTE</th>\n      <th>ANZ_TITEL</th>\n      <th>...</th>\n      <th>VHN</th>\n      <th>VK_DHT4A</th>\n      <th>VK_DISTANZ</th>\n      <th>VK_ZG11</th>\n      <th>W_KEIT_KIND_HH</th>\n      <th>WOHNDAUER_2008</th>\n      <th>WOHNLAGE</th>\n      <th>ZABEOTYP</th>\n      <th>ANREDE_KZ</th>\n      <th>ALTERSKATEGORIE_GROB</th>\n    </tr>\n  </thead>\n  <tbody>\n    <tr>\n      <th>0</th>\n      <td>1.031262</td>\n      <td>-0.062632</td>\n      <td>-0.065451</td>\n      <td>0.035432</td>\n      <td>0.690624</td>\n      <td>0.283135</td>\n      <td>0.162072</td>\n      <td>-0.316350</td>\n      <td>0.606244</td>\n      <td>0.401211</td>\n      <td>...</td>\n      <td>0.165672</td>\n      <td>0.450811</td>\n      <td>-0.432571</td>\n      <td>-0.511335</td>\n      <td>0.970149</td>\n      <td>0.498989</td>\n      <td>-0.053487</td>\n      <td>0.174577</td>\n      <td>0.824885</td>\n      <td>0.736410</td>\n    </tr>\n    <tr>\n      <th>1</th>\n      <td>0.323502</td>\n      <td>1.562578</td>\n      <td>0.653960</td>\n      <td>0.897786</td>\n      <td>-0.307298</td>\n      <td>0.283135</td>\n      <td>0.162072</td>\n      <td>0.283166</td>\n      <td>-0.298460</td>\n      <td>0.401211</td>\n      <td>...</td>\n      <td>0.756098</td>\n      <td>-0.689760</td>\n      <td>-0.432571</td>\n      <td>-0.511335</td>\n      <td>0.264063</td>\n      <td>0.498989</td>\n      <td>1.434552</td>\n      <td>-1.608634</td>\n      <td>0.824885</td>\n      <td>-0.200391</td>\n    </tr>\n    <tr>\n      <th>2</th>\n      <td>0.323502</td>\n      <td>-0.062632</td>\n      <td>0.078431</td>\n      <td>-0.137039</td>\n      <td>-0.378579</td>\n      <td>-1.581088</td>\n      <td>0.162072</td>\n      <td>-0.915866</td>\n      <td>-0.298460</td>\n      <td>0.401211</td>\n      <td>...</td>\n      <td>-0.424755</td>\n      <td>0.735954</td>\n      <td>0.116857</td>\n      <td>-0.151387</td>\n      <td>-1.501151</td>\n      <td>0.498989</td>\n      <td>-0.425497</td>\n      <td>0.174577</td>\n      <td>-1.212290</td>\n      <td>0.736410</td>\n    </tr>\n    <tr>\n      <th>3</th>\n      <td>1.031262</td>\n      <td>-0.062632</td>\n      <td>-0.353215</td>\n      <td>-0.309510</td>\n      <td>-0.093458</td>\n      <td>0.283135</td>\n      <td>0.162072</td>\n      <td>0.283166</td>\n      <td>-0.072284</td>\n      <td>0.401211</td>\n      <td>...</td>\n      <td>1.346524</td>\n      <td>1.306239</td>\n      <td>2.039853</td>\n      <td>3.088141</td>\n      <td>0.970149</td>\n      <td>0.498989</td>\n      <td>-0.797506</td>\n      <td>0.174577</td>\n      <td>0.824885</td>\n      <td>0.736410</td>\n    </tr>\n    <tr>\n      <th>4</th>\n      <td>1.031262</td>\n      <td>-0.062632</td>\n      <td>0.078431</td>\n      <td>0.207903</td>\n      <td>3.399269</td>\n      <td>0.283135</td>\n      <td>0.162072</td>\n      <td>-0.316350</td>\n      <td>2.943396</td>\n      <td>0.401211</td>\n      <td>...</td>\n      <td>1.346524</td>\n      <td>-0.404617</td>\n      <td>-0.432571</td>\n      <td>-0.511335</td>\n      <td>0.970149</td>\n      <td>0.498989</td>\n      <td>-0.053487</td>\n      <td>0.174577</td>\n      <td>-1.212290</td>\n      <td>-0.200391</td>\n    </tr>\n  </tbody>\n</table>\n<p>5 rows × 358 columns</p>\n</div>"
     },
     "metadata": {},
     "execution_count": 685
    }
   ],
   "source": [
    "# Changing the type of the scaled data to a pandas dataframe\n",
    "features_scaled = pd.DataFrame(features_scaled)\n",
    "features_scaled.columns = X_train.columns\n",
    "features_scaled.head()"
   ]
  },
  {
   "cell_type": "code",
   "execution_count": 547,
   "metadata": {},
   "outputs": [],
   "source": []
  },
  {
   "cell_type": "code",
   "execution_count": 607,
   "metadata": {
    "tags": []
   },
   "outputs": [
    {
     "output_type": "stream",
     "name": "stdout",
     "text": "Or some parameters are not used but slip through this\n  verification. Please open an issue if you find above cases.\n\n\n 22%|██▎       | 18/80 [17:38<54:03, 52.32s/trial, best loss: -0.7703334499346335][15:08:40] WARNING: /Users/travis/build/dmlc/xgboost/src/learner.cc:480: \nParameters: { colsample_bytree, max_depth } might not be used.\n\n  This may not be accurate due to some parameters are only used in language bindings but\n  passed down to XGBoost core.  Or some parameters are not used but slip through this\n  verification. Please open an issue if you find above cases.\n\n\n 22%|██▎       | 18/80 [17:42<54:03, 52.32s/trial, best loss: -0.7703334499346335][15:08:43] WARNING: /Users/travis/build/dmlc/xgboost/src/learner.cc:480: \nParameters: { colsample_bytree, max_depth } might not be used.\n\n  This may not be accurate due to some parameters are only used in language bindings but\n  passed down to XGBoost core.  Or some parameters are not used but slip through this\n  verification. Please open an issue if you find above cases.\n\n\n 22%|██▎       | 18/80 [17:44<54:03, 52.32s/trial, best loss: -0.7703334499346335][15:08:46] WARNING: /Users/travis/build/dmlc/xgboost/src/learner.cc:480: \nParameters: { colsample_bytree, max_depth } might not be used.\n\n  This may not be accurate due to some parameters are only used in language bindings but\n  passed down to XGBoost core.  Or some parameters are not used but slip through this\n  verification. Please open an issue if you find above cases.\n\n\n 48%|████▊     | 38/80 [40:01<1:08:31, 97.89s/trial, best loss: -0.7711482193560124][15:31:00] WARNING: /Users/travis/build/dmlc/xgboost/src/learner.cc:480: \nParameters: { colsample_bytree, max_depth } might not be used.\n\n  This may not be accurate due to some parameters are only used in language bindings but\n  passed down to XGBoost core.  Or some parameters are not used but slip through this\n  verification. Please open an issue if you find above cases.\n\n\n 48%|████▊     | 38/80 [40:02<1:08:31, 97.89s/trial, best loss: -0.7711482193560124][15:31:04] WARNING: /Users/travis/build/dmlc/xgboost/src/learner.cc:480: \nParameters: { colsample_bytree, max_depth } might not be used.\n\n  This may not be accurate due to some parameters are only used in language bindings but\n  passed down to XGBoost core.  Or some parameters are not used but slip through this\n  verification. Please open an issue if you find above cases.\n\n\n 48%|████▊     | 38/80 [40:06<1:08:31, 97.89s/trial, best loss: -0.7711482193560124][15:31:08] WARNING: /Users/travis/build/dmlc/xgboost/src/learner.cc:480: \nParameters: { colsample_bytree, max_depth } might not be used.\n\n  This may not be accurate due to some parameters are only used in language bindings but\n  passed down to XGBoost core.  Or some parameters are not used but slip through this\n  verification. Please open an issue if you find above cases.\n\n\n 48%|████▊     | 38/80 [40:10<1:08:31, 97.89s/trial, best loss: -0.7711482193560124][15:31:12] WARNING: /Users/travis/build/dmlc/xgboost/src/learner.cc:480: \nParameters: { colsample_bytree, max_depth } might not be used.\n\n  This may not be accurate due to some parameters are only used in language bindings but\n  passed down to XGBoost core.  Or some parameters are not used but slip through this\n  verification. Please open an issue if you find above cases.\n\n\n 48%|████▊     | 38/80 [40:14<1:08:31, 97.89s/trial, best loss: -0.7711482193560124][15:31:15] WARNING: /Users/travis/build/dmlc/xgboost/src/learner.cc:480: \nParameters: { colsample_bytree, max_depth } might not be used.\n\n  This may not be accurate due to some parameters are only used in language bindings but\n  passed down to XGBoost core.  Or some parameters are not used but slip through this\n  verification. Please open an issue if you find above cases.\n\n\n 51%|█████▏    | 41/80 [42:36<46:28, 71.51s/trial, best loss: -0.7711482193560124][15:33:35] WARNING: /Users/travis/build/dmlc/xgboost/src/learner.cc:480: \nParameters: { colsample_bytree, max_depth } might not be used.\n\n  This may not be accurate due to some parameters are only used in language bindings but\n  passed down to XGBoost core.  Or some parameters are not used but slip through this\n  verification. Please open an issue if you find above cases.\n\n\n 51%|█████▏    | 41/80 [42:36<46:28, 71.51s/trial, best loss: -0.7711482193560124][15:33:39] WARNING: /Users/travis/build/dmlc/xgboost/src/learner.cc:480: \nParameters: { colsample_bytree, max_depth } might not be used.\n\n  This may not be accurate due to some parameters are only used in language bindings but\n  passed down to XGBoost core.  Or some parameters are not used but slip through this\n  verification. Please open an issue if you find above cases.\n\n\n 51%|█████▏    | 41/80 [42:41<46:28, 71.51s/trial, best loss: -0.7711482193560124][15:33:43] WARNING: /Users/travis/build/dmlc/xgboost/src/learner.cc:480: \nParameters: { colsample_bytree, max_depth } might not be used.\n\n  This may not be accurate due to some parameters are only used in language bindings but\n  passed down to XGBoost core.  Or some parameters are not used but slip through this\n  verification. Please open an issue if you find above cases.\n\n\n 51%|█████▏    | 41/80 [42:44<46:28, 71.51s/trial, best loss: -0.7711482193560124][15:33:47] WARNING: /Users/travis/build/dmlc/xgboost/src/learner.cc:480: \nParameters: { colsample_bytree, max_depth } might not be used.\n\n  This may not be accurate due to some parameters are only used in language bindings but\n  passed down to XGBoost core.  Or some parameters are not used but slip through this\n  verification. Please open an issue if you find above cases.\n\n\n 51%|█████▏    | 41/80 [42:48<46:28, 71.51s/trial, best loss: -0.7711482193560124][15:33:50] WARNING: /Users/travis/build/dmlc/xgboost/src/learner.cc:480: \nParameters: { colsample_bytree, max_depth } might not be used.\n\n  This may not be accurate due to some parameters are only used in language bindings but\n  passed down to XGBoost core.  Or some parameters are not used but slip through this\n  verification. Please open an issue if you find above cases.\n\n\n 55%|█████▌    | 44/80 [47:22<1:00:01, 100.03s/trial, best loss: -0.7711482193560124][15:38:21] WARNING: /Users/travis/build/dmlc/xgboost/src/learner.cc:480: \nParameters: { colsample_bytree, max_depth } might not be used.\n\n  This may not be accurate due to some parameters are only used in language bindings but\n  passed down to XGBoost core.  Or some parameters are not used but slip through this\n  verification. Please open an issue if you find above cases.\n\n\n 55%|█████▌    | 44/80 [47:23<1:00:01, 100.03s/trial, best loss: -0.7711482193560124][15:38:26] WARNING: /Users/travis/build/dmlc/xgboost/src/learner.cc:480: \nParameters: { colsample_bytree, max_depth } might not be used.\n\n  This may not be accurate due to some parameters are only used in language bindings but\n  passed down to XGBoost core.  Or some parameters are not used but slip through this\n  verification. Please open an issue if you find above cases.\n\n\n 55%|█████▌    | 44/80 [47:27<1:00:01, 100.03s/trial, best loss: -0.7711482193560124][15:38:30] WARNING: /Users/travis/build/dmlc/xgboost/src/learner.cc:480: \nParameters: { colsample_bytree, max_depth } might not be used.\n\n  This may not be accurate due to some parameters are only used in language bindings but\n  passed down to XGBoost core.  Or some parameters are not used but slip through this\n  verification. Please open an issue if you find above cases.\n\n\n 55%|█████▌    | 44/80 [47:31<1:00:01, 100.03s/trial, best loss: -0.7711482193560124][15:38:33] WARNING: /Users/travis/build/dmlc/xgboost/src/learner.cc:480: \nParameters: { colsample_bytree, max_depth } might not be used.\n\n  This may not be accurate due to some parameters are only used in language bindings but\n  passed down to XGBoost core.  Or some parameters are not used but slip through this\n  verification. Please open an issue if you find above cases.\n\n\n 55%|█████▌    | 44/80 [47:35<1:00:01, 100.03s/trial, best loss: -0.7711482193560124][15:38:37] WARNING: /Users/travis/build/dmlc/xgboost/src/learner.cc:480: \nParameters: { colsample_bytree, max_depth } might not be used.\n\n  This may not be accurate due to some parameters are only used in language bindings but\n  passed down to XGBoost core.  Or some parameters are not used but slip through this\n  verification. Please open an issue if you find above cases.\n\n\n 60%|██████    | 48/80 [50:46<36:14, 67.95s/trial, best loss: -0.7711482193560124][15:41:45] WARNING: /Users/travis/build/dmlc/xgboost/src/learner.cc:480: \nParameters: { colsample_bytree, max_depth } might not be used.\n\n  This may not be accurate due to some parameters are only used in language bindings but\n  passed down to XGBoost core.  Or some parameters are not used but slip through this\n  verification. Please open an issue if you find above cases.\n\n\n 60%|██████    | 48/80 [50:47<36:14, 67.95s/trial, best loss: -0.7711482193560124][15:41:49] WARNING: /Users/travis/build/dmlc/xgboost/src/learner.cc:480: \nParameters: { colsample_bytree, max_depth } might not be used.\n\n  This may not be accurate due to some parameters are only used in language bindings but\n  passed down to XGBoost core.  Or some parameters are not used but slip through this\n  verification. Please open an issue if you find above cases.\n\n\n 60%|██████    | 48/80 [50:51<36:14, 67.95s/trial, best loss: -0.7711482193560124][15:41:53] WARNING: /Users/travis/build/dmlc/xgboost/src/learner.cc:480: \nParameters: { colsample_bytree, max_depth } might not be used.\n\n  This may not be accurate due to some parameters are only used in language bindings but\n  passed down to XGBoost core.  Or some parameters are not used but slip through this\n  verification. Please open an issue if you find above cases.\n\n\n 60%|██████    | 48/80 [50:54<36:14, 67.95s/trial, best loss: -0.7711482193560124][15:41:57] WARNING: /Users/travis/build/dmlc/xgboost/src/learner.cc:480: \nParameters: { colsample_bytree, max_depth } might not be used.\n\n  This may not be accurate due to some parameters are only used in language bindings but\n  passed down to XGBoost core.  Or some parameters are not used but slip through this\n  verification. Please open an issue if you find above cases.\n\n\n 60%|██████    | 48/80 [50:58<36:14, 67.95s/trial, best loss: -0.7711482193560124][15:42:01] WARNING: /Users/travis/build/dmlc/xgboost/src/learner.cc:480: \nParameters: { colsample_bytree, max_depth } might not be used.\n\n  This may not be accurate due to some parameters are only used in language bindings but\n  passed down to XGBoost core.  Or some parameters are not used but slip through this\n  verification. Please open an issue if you find above cases.\n\n\n 65%|██████▌   | 52/80 [56:32<37:17, 79.92s/trial, best loss: -0.7711482193560124][15:47:31] WARNING: /Users/travis/build/dmlc/xgboost/src/learner.cc:480: \nParameters: { colsample_bytree, max_depth } might not be used.\n\n  This may not be accurate due to some parameters are only used in language bindings but\n  passed down to XGBoost core.  Or some parameters are not used but slip through this\n  verification. Please open an issue if you find above cases.\n\n\n 65%|██████▌   | 52/80 [56:32<37:17, 79.92s/trial, best loss: -0.7711482193560124][15:47:35] WARNING: /Users/travis/build/dmlc/xgboost/src/learner.cc:480: \nParameters: { colsample_bytree, max_depth } might not be used.\n\n  This may not be accurate due to some parameters are only used in language bindings but\n  passed down to XGBoost core.  Or some parameters are not used but slip through this\n  verification. Please open an issue if you find above cases.\n\n\n 65%|██████▌   | 52/80 [56:36<37:17, 79.92s/trial, best loss: -0.7711482193560124][15:47:38] WARNING: /Users/travis/build/dmlc/xgboost/src/learner.cc:480: \nParameters: { colsample_bytree, max_depth } might not be used.\n\n  This may not be accurate due to some parameters are only used in language bindings but\n  passed down to XGBoost core.  Or some parameters are not used but slip through this\n  verification. Please open an issue if you find above cases.\n\n\n 65%|██████▌   | 52/80 [56:40<37:17, 79.92s/trial, best loss: -0.7711482193560124][15:47:42] WARNING: /Users/travis/build/dmlc/xgboost/src/learner.cc:480: \nParameters: { colsample_bytree, max_depth } might not be used.\n\n  This may not be accurate due to some parameters are only used in language bindings but\n  passed down to XGBoost core.  Or some parameters are not used but slip through this\n  verification. Please open an issue if you find above cases.\n\n\n 65%|██████▌   | 52/80 [56:43<37:17, 79.92s/trial, best loss: -0.7711482193560124][15:47:45] WARNING: /Users/travis/build/dmlc/xgboost/src/learner.cc:480: \nParameters: { colsample_bytree, max_depth } might not be used.\n\n  This may not be accurate due to some parameters are only used in language bindings but\n  passed down to XGBoost core.  Or some parameters are not used but slip through this\n  verification. Please open an issue if you find above cases.\n\n\n 71%|███████▏  | 57/80 [1:03:23<32:55, 85.88s/trial, best loss: -0.7711482193560124][15:54:22] WARNING: /Users/travis/build/dmlc/xgboost/src/learner.cc:480: \nParameters: { colsample_bytree, max_depth } might not be used.\n\n  This may not be accurate due to some parameters are only used in language bindings but\n  passed down to XGBoost core.  Or some parameters are not used but slip through this\n  verification. Please open an issue if you find above cases.\n\n\n 71%|███████▏  | 57/80 [1:03:24<32:55, 85.88s/trial, best loss: -0.7711482193560124][15:54:26] WARNING: /Users/travis/build/dmlc/xgboost/src/learner.cc:480: \nParameters: { colsample_bytree, max_depth } might not be used.\n\n  This may not be accurate due to some parameters are only used in language bindings but\n  passed down to XGBoost core.  Or some parameters are not used but slip through this\n  verification. Please open an issue if you find above cases.\n\n\n 71%|███████▏  | 57/80 [1:03:27<32:55, 85.88s/trial, best loss: -0.7711482193560124][15:54:29] WARNING: /Users/travis/build/dmlc/xgboost/src/learner.cc:480: \nParameters: { colsample_bytree, max_depth } might not be used.\n\n  This may not be accurate due to some parameters are only used in language bindings but\n  passed down to XGBoost core.  Or some parameters are not used but slip through this\n  verification. Please open an issue if you find above cases.\n\n\n 71%|███████▏  | 57/80 [1:03:31<32:55, 85.88s/trial, best loss: -0.7711482193560124][15:54:32] WARNING: /Users/travis/build/dmlc/xgboost/src/learner.cc:480: \nParameters: { colsample_bytree, max_depth } might not be used.\n\n  This may not be accurate due to some parameters are only used in language bindings but\n  passed down to XGBoost core.  Or some parameters are not used but slip through this\n  verification. Please open an issue if you find above cases.\n\n\n 71%|███████▏  | 57/80 [1:03:34<32:55, 85.88s/trial, best loss: -0.7711482193560124][15:54:35] WARNING: /Users/travis/build/dmlc/xgboost/src/learner.cc:480: \nParameters: { colsample_bytree, max_depth } might not be used.\n\n  This may not be accurate due to some parameters are only used in language bindings but\n  passed down to XGBoost core.  Or some parameters are not used but slip through this\n  verification. Please open an issue if you find above cases.\n\n\n 79%|███████▉  | 63/80 [1:22:45<36:34, 129.12s/trial, best loss: -0.7711482193560124][16:13:44] WARNING: /Users/travis/build/dmlc/xgboost/src/learner.cc:480: \nParameters: { colsample_bytree, max_depth } might not be used.\n\n  This may not be accurate due to some parameters are only used in language bindings but\n  passed down to XGBoost core.  Or some parameters are not used but slip through this\n  verification. Please open an issue if you find above cases.\n\n\n 79%|███████▉  | 63/80 [1:22:46<36:34, 129.12s/trial, best loss: -0.7711482193560124][16:13:48] WARNING: /Users/travis/build/dmlc/xgboost/src/learner.cc:480: \nParameters: { colsample_bytree, max_depth } might not be used.\n\n  This may not be accurate due to some parameters are only used in language bindings but\n  passed down to XGBoost core.  Or some parameters are not used but slip through this\n  verification. Please open an issue if you find above cases.\n\n\n 79%|███████▉  | 63/80 [1:22:50<36:34, 129.12s/trial, best loss: -0.7711482193560124][16:13:52] WARNING: /Users/travis/build/dmlc/xgboost/src/learner.cc:480: \nParameters: { colsample_bytree, max_depth } might not be used.\n\n  This may not be accurate due to some parameters are only used in language bindings but\n  passed down to XGBoost core.  Or some parameters are not used but slip through this\n  verification. Please open an issue if you find above cases.\n\n\n 79%|███████▉  | 63/80 [1:22:53<36:34, 129.12s/trial, best loss: -0.7711482193560124][16:13:55] WARNING: /Users/travis/build/dmlc/xgboost/src/learner.cc:480: \nParameters: { colsample_bytree, max_depth } might not be used.\n\n  This may not be accurate due to some parameters are only used in language bindings but\n  passed down to XGBoost core.  Or some parameters are not used but slip through this\n  verification. Please open an issue if you find above cases.\n\n\n 79%|███████▉  | 63/80 [1:22:57<36:34, 129.12s/trial, best loss: -0.7711482193560124][16:13:59] WARNING: /Users/travis/build/dmlc/xgboost/src/learner.cc:480: \nParameters: { colsample_bytree, max_depth } might not be used.\n\n  This may not be accurate due to some parameters are only used in language bindings but\n  passed down to XGBoost core.  Or some parameters are not used but slip through this\n  verification. Please open an issue if you find above cases.\n\n\n 98%|█████████▊| 78/80 [1:40:52<02:27, 73.99s/trial, best loss: -0.7720727030233039][16:31:51] WARNING: /Users/travis/build/dmlc/xgboost/src/learner.cc:480: \nParameters: { colsample_bytree, max_depth } might not be used.\n\n  This may not be accurate due to some parameters are only used in language bindings but\n  passed down to XGBoost core.  Or some parameters are not used but slip through this\n  verification. Please open an issue if you find above cases.\n\n\n 98%|█████████▊| 78/80 [1:40:53<02:27, 73.99s/trial, best loss: -0.7720727030233039][16:31:56] WARNING: /Users/travis/build/dmlc/xgboost/src/learner.cc:480: \nParameters: { colsample_bytree, max_depth } might not be used.\n\n  This may not be accurate due to some parameters are only used in language bindings but\n  passed down to XGBoost core.  Or some parameters are not used but slip through this\n  verification. Please open an issue if you find above cases.\n\n\n 98%|█████████▊| 78/80 [1:40:57<02:27, 73.99s/trial, best loss: -0.7720727030233039][16:32:00] WARNING: /Users/travis/build/dmlc/xgboost/src/learner.cc:480: \nParameters: { colsample_bytree, max_depth } might not be used.\n\n  This may not be accurate due to some parameters are only used in language bindings but\n  passed down to XGBoost core.  Or some parameters are not used but slip through this\n  verification. Please open an issue if you find above cases.\n\n\n 98%|█████████▊| 78/80 [1:41:01<02:27, 73.99s/trial, best loss: -0.7720727030233039][16:32:04] WARNING: /Users/travis/build/dmlc/xgboost/src/learner.cc:480: \nParameters: { colsample_bytree, max_depth } might not be used.\n\n  This may not be accurate due to some parameters are only used in language bindings but\n  passed down to XGBoost core.  Or some parameters are not used but slip through this\n  verification. Please open an issue if you find above cases.\n\n\n 98%|█████████▊| 78/80 [1:41:05<02:27, 73.99s/trial, best loss: -0.7720727030233039][16:32:07] WARNING: /Users/travis/build/dmlc/xgboost/src/learner.cc:480: \nParameters: { colsample_bytree, max_depth } might not be used.\n\n  This may not be accurate due to some parameters are only used in language bindings but\n  passed down to XGBoost core.  Or some parameters are not used but slip through this\n  verification. Please open an issue if you find above cases.\n\n\n100%|██████████| 80/80 [1:42:35<00:00, 76.94s/trial, best loss: -0.7720727030233039]\n"
    }
   ],
   "source": [
    "# Bayesian Optimization Hyperparameter Tuning\n",
    "from hyperopt import fmin, tpe, hp, STATUS_OK, Trials, pyll\n",
    "from sklearn.model_selection import cross_val_score\n",
    "\n",
    "# Creating the hyperparameter grid\n",
    "param_grid = {\n",
    "    'max_depth': pyll.scope.int(hp.quniform('max_depth', 3, 15, 1)),\n",
    "    'learning_rate': hp.loguniform('learning_rate', np.log(0.01), np.log(1)),\n",
    "    'booster': hp.choice('booster', ['gbtree', 'dart', 'gblinear']),\n",
    "    'colsample_bytree': hp.uniform('colsample_by_tree', 0.6, 1.0),\n",
    "    'reg_lambda': hp.uniform('reg_lambda', 0.0, 1.0),\n",
    "}\n",
    "\n",
    "# The objective function that will be minimized by the hyperparameter optimization\n",
    "def objective_function(params):\n",
    "  clf = XGBClassifier(**params)\n",
    "  score = cross_val_score(clf, features_scaled, y_train, scoring='roc_auc', cv=5).mean()\n",
    "  return {'loss': -score, 'status': STATUS_OK}\n",
    "\n",
    "trials = Trials()\n",
    "\n",
    "# Performing Bayesian Optimization and getting the best hyperparameter values\n",
    "best_param_auc = fmin(objective_function,\n",
    "                  param_grid, \n",
    "                  algo=tpe.suggest, \n",
    "                  max_evals=80, \n",
    "                  trials=trials)"
   ]
  },
  {
   "cell_type": "code",
   "execution_count": 608,
   "metadata": {
    "tags": []
   },
   "outputs": [
    {
     "output_type": "stream",
     "name": "stdout",
     "text": "{'booster': 1, 'colsample_by_tree': 0.8449541758659521, 'learning_rate': 0.028931793251084758, 'max_depth': 4.0, 'reg_lambda': 0.6309968366612975}\n"
    }
   ],
   "source": [
    "print(best_param_auc)"
   ]
  },
  {
   "cell_type": "code",
   "execution_count": 686,
   "metadata": {},
   "outputs": [],
   "source": [
    "# Training an XGBoost model with the tuned hyperparameters, optimized for roc-auc\n",
    "xgb_classifier_opt_auc = XGBClassifier(\n",
    "    booster='dart',\n",
    "    colsample_by_tree=0.8449541758659521,\n",
    "    learning_rate=0.028931793251084758,\n",
    "    max_depth=4,\n",
    "    reg_lambda=0.6309968366612975\n",
    ")"
   ]
  },
  {
   "cell_type": "code",
   "execution_count": 687,
   "metadata": {
    "tags": []
   },
   "outputs": [
    {
     "output_type": "stream",
     "name": "stdout",
     "text": "[21:21:24] WARNING: /Users/travis/build/dmlc/xgboost/src/learner.cc:480: \nParameters: { colsample_by_tree } might not be used.\n\n  This may not be accurate due to some parameters are only used in language bindings but\n  passed down to XGBoost core.  Or some parameters are not used but slip through this\n  verification. Please open an issue if you find above cases.\n\n\n"
    },
    {
     "output_type": "execute_result",
     "data": {
      "text/plain": "XGBClassifier(base_score=0.5, booster='dart',\n              colsample_by_tree=0.8449541758659521, colsample_bylevel=1,\n              colsample_bynode=1, colsample_bytree=1, gamma=0, gpu_id=-1,\n              importance_type='gain', interaction_constraints='',\n              learning_rate=0.028931793251084758, max_delta_step=0, max_depth=4,\n              min_child_weight=1, missing=nan, monotone_constraints='()',\n              n_estimators=100, n_jobs=0, num_parallel_tree=1, random_state=0,\n              reg_alpha=0, reg_lambda=0.6309968366612975, scale_pos_weight=1,\n              subsample=1, tree_method='exact', validate_parameters=1,\n              verbosity=None)"
     },
     "metadata": {},
     "execution_count": 687
    }
   ],
   "source": [
    "xgb_classifier_opt_auc.fit(features_scaled, y_train)"
   ]
  },
  {
   "cell_type": "code",
   "execution_count": 579,
   "metadata": {
    "tags": []
   },
   "outputs": [
    {
     "output_type": "stream",
     "name": "stdout",
     "text": "{'booster': 0, 'colsample_by_tree': 0.8240403840626138, 'learning_rate': 0.024927968008207176, 'max_depth': 9.0, 'reg_lambda': 0.6714399694327168}\n"
    }
   ],
   "source": [
    "print(best_param)"
   ]
  },
  {
   "cell_type": "code",
   "execution_count": 580,
   "metadata": {},
   "outputs": [],
   "source": [
    "# Training an XGBoost model with the tuned hyperparameters, optimized for accuracy\n",
    "xgb_classifier_opt_accuracy = XGBClassifier(\n",
    "    booster='gbtree',\n",
    "    colsample_by_tree=best_param[\"colsample_by_tree\"],\n",
    "    learning_rate=best_param[\"learning_rate\"],\n",
    "    max_depth=int(best_param[\"max_depth\"]),\n",
    "    reg_lambda=best_param[\"reg_lambda\"]\n",
    ")"
   ]
  },
  {
   "cell_type": "code",
   "execution_count": 581,
   "metadata": {
    "tags": []
   },
   "outputs": [
    {
     "output_type": "stream",
     "name": "stdout",
     "text": "[21:25:05] WARNING: /Users/travis/build/dmlc/xgboost/src/learner.cc:480: \nParameters: { colsample_by_tree } might not be used.\n\n  This may not be accurate due to some parameters are only used in language bindings but\n  passed down to XGBoost core.  Or some parameters are not used but slip through this\n  verification. Please open an issue if you find above cases.\n\n\n"
    },
    {
     "output_type": "execute_result",
     "data": {
      "text/plain": "XGBClassifier(base_score=0.5, booster='gbtree',\n              colsample_by_tree=0.8240403840626138, colsample_bylevel=1,\n              colsample_bynode=1, colsample_bytree=1, gamma=0, gpu_id=-1,\n              importance_type='gain', interaction_constraints='',\n              learning_rate=0.024927968008207176, max_delta_step=0, max_depth=9,\n              min_child_weight=1, missing=nan, monotone_constraints='()',\n              n_estimators=100, n_jobs=0, num_parallel_tree=1, random_state=0,\n              reg_alpha=0, reg_lambda=0.6714399694327168, scale_pos_weight=1,\n              subsample=1, tree_method='exact', validate_parameters=1,\n              verbosity=None)"
     },
     "metadata": {},
     "execution_count": 581
    }
   ],
   "source": [
    "xgb_classifier_opt_accuracy.fit(features_scaled, y_train)"
   ]
  },
  {
   "cell_type": "code",
   "execution_count": 507,
   "metadata": {},
   "outputs": [],
   "source": [
    "# Creating an XGBoost model\n",
    "xgb_classifier = XGBClassifier()"
   ]
  },
  {
   "cell_type": "code",
   "execution_count": null,
   "metadata": {},
   "outputs": [],
   "source": []
  },
  {
   "cell_type": "code",
   "execution_count": 508,
   "metadata": {},
   "outputs": [
    {
     "output_type": "execute_result",
     "data": {
      "text/plain": "XGBClassifier(base_score=0.5, booster='gbtree', colsample_bylevel=1,\n              colsample_bynode=1, colsample_bytree=1, gamma=0, gpu_id=-1,\n              importance_type='gain', interaction_constraints='',\n              learning_rate=0.300000012, max_delta_step=0, max_depth=6,\n              min_child_weight=1, missing=nan, monotone_constraints='()',\n              n_estimators=100, n_jobs=0, num_parallel_tree=1, random_state=0,\n              reg_alpha=0, reg_lambda=1, scale_pos_weight=1, subsample=1,\n              tree_method='exact', validate_parameters=1, verbosity=None)"
     },
     "metadata": {},
     "execution_count": 508
    }
   ],
   "source": [
    "# Training the XGBoost model\n",
    "xgb_classifier.fit(X_train_over, y_train_over)"
   ]
  },
  {
   "cell_type": "code",
   "execution_count": 692,
   "metadata": {},
   "outputs": [
    {
     "output_type": "display_data",
     "data": {
      "text/plain": "<Figure size 604.8x489.6 with 1 Axes>",
      "image/svg+xml": "<?xml version=\"1.0\" encoding=\"utf-8\" standalone=\"no\"?>\n<!DOCTYPE svg PUBLIC \"-//W3C//DTD SVG 1.1//EN\"\n  \"http://www.w3.org/Graphics/SVG/1.1/DTD/svg11.dtd\">\n<!-- Created with matplotlib (https://matplotlib.org/) -->\n<svg height=\"429.522375pt\" version=\"1.1\" viewBox=\"0 0 526.06375 429.522375\" width=\"526.06375pt\" xmlns=\"http://www.w3.org/2000/svg\" xmlns:xlink=\"http://www.w3.org/1999/xlink\">\n <defs>\n  <style type=\"text/css\">\n*{stroke-linecap:butt;stroke-linejoin:round;}\n  </style>\n </defs>\n <g id=\"figure_1\">\n  <g id=\"patch_1\">\n   <path d=\"M 0 429.522375 \nL 526.06375 429.522375 \nL 526.06375 0 \nL 0 0 \nz\n\" style=\"fill:none;\"/>\n  </g>\n  <g id=\"axes_1\">\n   <g id=\"patch_2\">\n    <path d=\"M 50.14375 391.966125 \nL 518.86375 391.966125 \nL 518.86375 22.318125 \nL 50.14375 22.318125 \nz\n\" style=\"fill:#ebedf0;\"/>\n   </g>\n   <g id=\"matplotlib.axis_1\">\n    <g id=\"xtick_1\">\n     <g id=\"line2d_1\">\n      <path clip-path=\"url(#p337f76f250)\" d=\"M 71.449205 391.966125 \nL 71.449205 22.318125 \n\" style=\"fill:none;stroke:#808080;stroke-linecap:square;stroke-opacity:0.5;stroke-width:0.25;\"/>\n     </g>\n     <g id=\"line2d_2\">\n      <defs>\n       <path d=\"M 0 0 \nL 0 3.5 \n\" id=\"m9069f91f8f\" style=\"stroke:#000000;stroke-width:0.8;\"/>\n      </defs>\n      <g>\n       <use style=\"stroke:#000000;stroke-width:0.8;\" x=\"71.449205\" xlink:href=\"#m9069f91f8f\" y=\"391.966125\"/>\n      </g>\n     </g>\n     <g id=\"text_1\">\n      <!-- 0 -->\n      <defs>\n       <path d=\"M 31.78125 66.40625 \nQ 24.171875 66.40625 20.328125 58.90625 \nQ 16.5 51.421875 16.5 36.375 \nQ 16.5 21.390625 20.328125 13.890625 \nQ 24.171875 6.390625 31.78125 6.390625 \nQ 39.453125 6.390625 43.28125 13.890625 \nQ 47.125 21.390625 47.125 36.375 \nQ 47.125 51.421875 43.28125 58.90625 \nQ 39.453125 66.40625 31.78125 66.40625 \nz\nM 31.78125 74.21875 \nQ 44.046875 74.21875 50.515625 64.515625 \nQ 56.984375 54.828125 56.984375 36.375 \nQ 56.984375 17.96875 50.515625 8.265625 \nQ 44.046875 -1.421875 31.78125 -1.421875 \nQ 19.53125 -1.421875 13.0625 8.265625 \nQ 6.59375 17.96875 6.59375 36.375 \nQ 6.59375 54.828125 13.0625 64.515625 \nQ 19.53125 74.21875 31.78125 74.21875 \nz\n\" id=\"DejaVuSans-48\"/>\n      </defs>\n      <g transform=\"translate(68.267955 406.564562)scale(0.1 -0.1)\">\n       <use xlink:href=\"#DejaVuSans-48\"/>\n      </g>\n     </g>\n    </g>\n    <g id=\"xtick_2\">\n     <g id=\"line2d_3\">\n      <path clip-path=\"url(#p337f76f250)\" d=\"M 131.128349 391.966125 \nL 131.128349 22.318125 \n\" style=\"fill:none;stroke:#808080;stroke-linecap:square;stroke-opacity:0.5;stroke-width:0.25;\"/>\n     </g>\n     <g id=\"line2d_4\">\n      <g>\n       <use style=\"stroke:#000000;stroke-width:0.8;\" x=\"131.128349\" xlink:href=\"#m9069f91f8f\" y=\"391.966125\"/>\n      </g>\n     </g>\n     <g id=\"text_2\">\n      <!-- 50 -->\n      <defs>\n       <path d=\"M 10.796875 72.90625 \nL 49.515625 72.90625 \nL 49.515625 64.59375 \nL 19.828125 64.59375 \nL 19.828125 46.734375 \nQ 21.96875 47.46875 24.109375 47.828125 \nQ 26.265625 48.1875 28.421875 48.1875 \nQ 40.625 48.1875 47.75 41.5 \nQ 54.890625 34.8125 54.890625 23.390625 \nQ 54.890625 11.625 47.5625 5.09375 \nQ 40.234375 -1.421875 26.90625 -1.421875 \nQ 22.3125 -1.421875 17.546875 -0.640625 \nQ 12.796875 0.140625 7.71875 1.703125 \nL 7.71875 11.625 \nQ 12.109375 9.234375 16.796875 8.0625 \nQ 21.484375 6.890625 26.703125 6.890625 \nQ 35.15625 6.890625 40.078125 11.328125 \nQ 45.015625 15.765625 45.015625 23.390625 \nQ 45.015625 31 40.078125 35.4375 \nQ 35.15625 39.890625 26.703125 39.890625 \nQ 22.75 39.890625 18.8125 39.015625 \nQ 14.890625 38.140625 10.796875 36.28125 \nz\n\" id=\"DejaVuSans-53\"/>\n      </defs>\n      <g transform=\"translate(124.765849 406.564562)scale(0.1 -0.1)\">\n       <use xlink:href=\"#DejaVuSans-53\"/>\n       <use x=\"63.623047\" xlink:href=\"#DejaVuSans-48\"/>\n      </g>\n     </g>\n    </g>\n    <g id=\"xtick_3\">\n     <g id=\"line2d_5\">\n      <path clip-path=\"url(#p337f76f250)\" d=\"M 190.807493 391.966125 \nL 190.807493 22.318125 \n\" style=\"fill:none;stroke:#808080;stroke-linecap:square;stroke-opacity:0.5;stroke-width:0.25;\"/>\n     </g>\n     <g id=\"line2d_6\">\n      <g>\n       <use style=\"stroke:#000000;stroke-width:0.8;\" x=\"190.807493\" xlink:href=\"#m9069f91f8f\" y=\"391.966125\"/>\n      </g>\n     </g>\n     <g id=\"text_3\">\n      <!-- 100 -->\n      <defs>\n       <path d=\"M 12.40625 8.296875 \nL 28.515625 8.296875 \nL 28.515625 63.921875 \nL 10.984375 60.40625 \nL 10.984375 69.390625 \nL 28.421875 72.90625 \nL 38.28125 72.90625 \nL 38.28125 8.296875 \nL 54.390625 8.296875 \nL 54.390625 0 \nL 12.40625 0 \nz\n\" id=\"DejaVuSans-49\"/>\n      </defs>\n      <g transform=\"translate(181.263743 406.564562)scale(0.1 -0.1)\">\n       <use xlink:href=\"#DejaVuSans-49\"/>\n       <use x=\"63.623047\" xlink:href=\"#DejaVuSans-48\"/>\n       <use x=\"127.246094\" xlink:href=\"#DejaVuSans-48\"/>\n      </g>\n     </g>\n    </g>\n    <g id=\"xtick_4\">\n     <g id=\"line2d_7\">\n      <path clip-path=\"url(#p337f76f250)\" d=\"M 250.486638 391.966125 \nL 250.486638 22.318125 \n\" style=\"fill:none;stroke:#808080;stroke-linecap:square;stroke-opacity:0.5;stroke-width:0.25;\"/>\n     </g>\n     <g id=\"line2d_8\">\n      <g>\n       <use style=\"stroke:#000000;stroke-width:0.8;\" x=\"250.486638\" xlink:href=\"#m9069f91f8f\" y=\"391.966125\"/>\n      </g>\n     </g>\n     <g id=\"text_4\">\n      <!-- 150 -->\n      <g transform=\"translate(240.942888 406.564562)scale(0.1 -0.1)\">\n       <use xlink:href=\"#DejaVuSans-49\"/>\n       <use x=\"63.623047\" xlink:href=\"#DejaVuSans-53\"/>\n       <use x=\"127.246094\" xlink:href=\"#DejaVuSans-48\"/>\n      </g>\n     </g>\n    </g>\n    <g id=\"xtick_5\">\n     <g id=\"line2d_9\">\n      <path clip-path=\"url(#p337f76f250)\" d=\"M 310.165782 391.966125 \nL 310.165782 22.318125 \n\" style=\"fill:none;stroke:#808080;stroke-linecap:square;stroke-opacity:0.5;stroke-width:0.25;\"/>\n     </g>\n     <g id=\"line2d_10\">\n      <g>\n       <use style=\"stroke:#000000;stroke-width:0.8;\" x=\"310.165782\" xlink:href=\"#m9069f91f8f\" y=\"391.966125\"/>\n      </g>\n     </g>\n     <g id=\"text_5\">\n      <!-- 200 -->\n      <defs>\n       <path d=\"M 19.1875 8.296875 \nL 53.609375 8.296875 \nL 53.609375 0 \nL 7.328125 0 \nL 7.328125 8.296875 \nQ 12.9375 14.109375 22.625 23.890625 \nQ 32.328125 33.6875 34.8125 36.53125 \nQ 39.546875 41.84375 41.421875 45.53125 \nQ 43.3125 49.21875 43.3125 52.78125 \nQ 43.3125 58.59375 39.234375 62.25 \nQ 35.15625 65.921875 28.609375 65.921875 \nQ 23.96875 65.921875 18.8125 64.3125 \nQ 13.671875 62.703125 7.8125 59.421875 \nL 7.8125 69.390625 \nQ 13.765625 71.78125 18.9375 73 \nQ 24.125 74.21875 28.421875 74.21875 \nQ 39.75 74.21875 46.484375 68.546875 \nQ 53.21875 62.890625 53.21875 53.421875 \nQ 53.21875 48.921875 51.53125 44.890625 \nQ 49.859375 40.875 45.40625 35.40625 \nQ 44.1875 33.984375 37.640625 27.21875 \nQ 31.109375 20.453125 19.1875 8.296875 \nz\n\" id=\"DejaVuSans-50\"/>\n      </defs>\n      <g transform=\"translate(300.622032 406.564562)scale(0.1 -0.1)\">\n       <use xlink:href=\"#DejaVuSans-50\"/>\n       <use x=\"63.623047\" xlink:href=\"#DejaVuSans-48\"/>\n       <use x=\"127.246094\" xlink:href=\"#DejaVuSans-48\"/>\n      </g>\n     </g>\n    </g>\n    <g id=\"xtick_6\">\n     <g id=\"line2d_11\">\n      <path clip-path=\"url(#p337f76f250)\" d=\"M 369.844926 391.966125 \nL 369.844926 22.318125 \n\" style=\"fill:none;stroke:#808080;stroke-linecap:square;stroke-opacity:0.5;stroke-width:0.25;\"/>\n     </g>\n     <g id=\"line2d_12\">\n      <g>\n       <use style=\"stroke:#000000;stroke-width:0.8;\" x=\"369.844926\" xlink:href=\"#m9069f91f8f\" y=\"391.966125\"/>\n      </g>\n     </g>\n     <g id=\"text_6\">\n      <!-- 250 -->\n      <g transform=\"translate(360.301176 406.564562)scale(0.1 -0.1)\">\n       <use xlink:href=\"#DejaVuSans-50\"/>\n       <use x=\"63.623047\" xlink:href=\"#DejaVuSans-53\"/>\n       <use x=\"127.246094\" xlink:href=\"#DejaVuSans-48\"/>\n      </g>\n     </g>\n    </g>\n    <g id=\"xtick_7\">\n     <g id=\"line2d_13\">\n      <path clip-path=\"url(#p337f76f250)\" d=\"M 429.524071 391.966125 \nL 429.524071 22.318125 \n\" style=\"fill:none;stroke:#808080;stroke-linecap:square;stroke-opacity:0.5;stroke-width:0.25;\"/>\n     </g>\n     <g id=\"line2d_14\">\n      <g>\n       <use style=\"stroke:#000000;stroke-width:0.8;\" x=\"429.524071\" xlink:href=\"#m9069f91f8f\" y=\"391.966125\"/>\n      </g>\n     </g>\n     <g id=\"text_7\">\n      <!-- 300 -->\n      <defs>\n       <path d=\"M 40.578125 39.3125 \nQ 47.65625 37.796875 51.625 33 \nQ 55.609375 28.21875 55.609375 21.1875 \nQ 55.609375 10.40625 48.1875 4.484375 \nQ 40.765625 -1.421875 27.09375 -1.421875 \nQ 22.515625 -1.421875 17.65625 -0.515625 \nQ 12.796875 0.390625 7.625 2.203125 \nL 7.625 11.71875 \nQ 11.71875 9.328125 16.59375 8.109375 \nQ 21.484375 6.890625 26.8125 6.890625 \nQ 36.078125 6.890625 40.9375 10.546875 \nQ 45.796875 14.203125 45.796875 21.1875 \nQ 45.796875 27.640625 41.28125 31.265625 \nQ 36.765625 34.90625 28.71875 34.90625 \nL 20.21875 34.90625 \nL 20.21875 43.015625 \nL 29.109375 43.015625 \nQ 36.375 43.015625 40.234375 45.921875 \nQ 44.09375 48.828125 44.09375 54.296875 \nQ 44.09375 59.90625 40.109375 62.90625 \nQ 36.140625 65.921875 28.71875 65.921875 \nQ 24.65625 65.921875 20.015625 65.03125 \nQ 15.375 64.15625 9.8125 62.3125 \nL 9.8125 71.09375 \nQ 15.4375 72.65625 20.34375 73.4375 \nQ 25.25 74.21875 29.59375 74.21875 \nQ 40.828125 74.21875 47.359375 69.109375 \nQ 53.90625 64.015625 53.90625 55.328125 \nQ 53.90625 49.265625 50.4375 45.09375 \nQ 46.96875 40.921875 40.578125 39.3125 \nz\n\" id=\"DejaVuSans-51\"/>\n      </defs>\n      <g transform=\"translate(419.980321 406.564562)scale(0.1 -0.1)\">\n       <use xlink:href=\"#DejaVuSans-51\"/>\n       <use x=\"63.623047\" xlink:href=\"#DejaVuSans-48\"/>\n       <use x=\"127.246094\" xlink:href=\"#DejaVuSans-48\"/>\n      </g>\n     </g>\n    </g>\n    <g id=\"xtick_8\">\n     <g id=\"line2d_15\">\n      <path clip-path=\"url(#p337f76f250)\" d=\"M 489.203215 391.966125 \nL 489.203215 22.318125 \n\" style=\"fill:none;stroke:#808080;stroke-linecap:square;stroke-opacity:0.5;stroke-width:0.25;\"/>\n     </g>\n     <g id=\"line2d_16\">\n      <g>\n       <use style=\"stroke:#000000;stroke-width:0.8;\" x=\"489.203215\" xlink:href=\"#m9069f91f8f\" y=\"391.966125\"/>\n      </g>\n     </g>\n     <g id=\"text_8\">\n      <!-- 350 -->\n      <g transform=\"translate(479.659465 406.564562)scale(0.1 -0.1)\">\n       <use xlink:href=\"#DejaVuSans-51\"/>\n       <use x=\"63.623047\" xlink:href=\"#DejaVuSans-53\"/>\n       <use x=\"127.246094\" xlink:href=\"#DejaVuSans-48\"/>\n      </g>\n     </g>\n    </g>\n    <g id=\"text_9\">\n     <!-- Features -->\n     <defs>\n      <path d=\"M 9.8125 72.90625 \nL 51.703125 72.90625 \nL 51.703125 64.59375 \nL 19.671875 64.59375 \nL 19.671875 43.109375 \nL 48.578125 43.109375 \nL 48.578125 34.8125 \nL 19.671875 34.8125 \nL 19.671875 0 \nL 9.8125 0 \nz\n\" id=\"DejaVuSans-70\"/>\n      <path d=\"M 56.203125 29.59375 \nL 56.203125 25.203125 \nL 14.890625 25.203125 \nQ 15.484375 15.921875 20.484375 11.0625 \nQ 25.484375 6.203125 34.421875 6.203125 \nQ 39.59375 6.203125 44.453125 7.46875 \nQ 49.3125 8.734375 54.109375 11.28125 \nL 54.109375 2.78125 \nQ 49.265625 0.734375 44.1875 -0.34375 \nQ 39.109375 -1.421875 33.890625 -1.421875 \nQ 20.796875 -1.421875 13.15625 6.1875 \nQ 5.515625 13.8125 5.515625 26.8125 \nQ 5.515625 40.234375 12.765625 48.109375 \nQ 20.015625 56 32.328125 56 \nQ 43.359375 56 49.78125 48.890625 \nQ 56.203125 41.796875 56.203125 29.59375 \nz\nM 47.21875 32.234375 \nQ 47.125 39.59375 43.09375 43.984375 \nQ 39.0625 48.390625 32.421875 48.390625 \nQ 24.90625 48.390625 20.390625 44.140625 \nQ 15.875 39.890625 15.1875 32.171875 \nz\n\" id=\"DejaVuSans-101\"/>\n      <path d=\"M 34.28125 27.484375 \nQ 23.390625 27.484375 19.1875 25 \nQ 14.984375 22.515625 14.984375 16.5 \nQ 14.984375 11.71875 18.140625 8.90625 \nQ 21.296875 6.109375 26.703125 6.109375 \nQ 34.1875 6.109375 38.703125 11.40625 \nQ 43.21875 16.703125 43.21875 25.484375 \nL 43.21875 27.484375 \nz\nM 52.203125 31.203125 \nL 52.203125 0 \nL 43.21875 0 \nL 43.21875 8.296875 \nQ 40.140625 3.328125 35.546875 0.953125 \nQ 30.953125 -1.421875 24.3125 -1.421875 \nQ 15.921875 -1.421875 10.953125 3.296875 \nQ 6 8.015625 6 15.921875 \nQ 6 25.140625 12.171875 29.828125 \nQ 18.359375 34.515625 30.609375 34.515625 \nL 43.21875 34.515625 \nL 43.21875 35.40625 \nQ 43.21875 41.609375 39.140625 45 \nQ 35.0625 48.390625 27.6875 48.390625 \nQ 23 48.390625 18.546875 47.265625 \nQ 14.109375 46.140625 10.015625 43.890625 \nL 10.015625 52.203125 \nQ 14.9375 54.109375 19.578125 55.046875 \nQ 24.21875 56 28.609375 56 \nQ 40.484375 56 46.34375 49.84375 \nQ 52.203125 43.703125 52.203125 31.203125 \nz\n\" id=\"DejaVuSans-97\"/>\n      <path d=\"M 18.3125 70.21875 \nL 18.3125 54.6875 \nL 36.8125 54.6875 \nL 36.8125 47.703125 \nL 18.3125 47.703125 \nL 18.3125 18.015625 \nQ 18.3125 11.328125 20.140625 9.421875 \nQ 21.96875 7.515625 27.59375 7.515625 \nL 36.8125 7.515625 \nL 36.8125 0 \nL 27.59375 0 \nQ 17.1875 0 13.234375 3.875 \nQ 9.28125 7.765625 9.28125 18.015625 \nL 9.28125 47.703125 \nL 2.6875 47.703125 \nL 2.6875 54.6875 \nL 9.28125 54.6875 \nL 9.28125 70.21875 \nz\n\" id=\"DejaVuSans-116\"/>\n      <path d=\"M 8.5 21.578125 \nL 8.5 54.6875 \nL 17.484375 54.6875 \nL 17.484375 21.921875 \nQ 17.484375 14.15625 20.5 10.265625 \nQ 23.53125 6.390625 29.59375 6.390625 \nQ 36.859375 6.390625 41.078125 11.03125 \nQ 45.3125 15.671875 45.3125 23.6875 \nL 45.3125 54.6875 \nL 54.296875 54.6875 \nL 54.296875 0 \nL 45.3125 0 \nL 45.3125 8.40625 \nQ 42.046875 3.421875 37.71875 1 \nQ 33.40625 -1.421875 27.6875 -1.421875 \nQ 18.265625 -1.421875 13.375 4.4375 \nQ 8.5 10.296875 8.5 21.578125 \nz\nM 31.109375 56 \nz\n\" id=\"DejaVuSans-117\"/>\n      <path d=\"M 41.109375 46.296875 \nQ 39.59375 47.171875 37.8125 47.578125 \nQ 36.03125 48 33.890625 48 \nQ 26.265625 48 22.1875 43.046875 \nQ 18.109375 38.09375 18.109375 28.8125 \nL 18.109375 0 \nL 9.078125 0 \nL 9.078125 54.6875 \nL 18.109375 54.6875 \nL 18.109375 46.1875 \nQ 20.953125 51.171875 25.484375 53.578125 \nQ 30.03125 56 36.53125 56 \nQ 37.453125 56 38.578125 55.875 \nQ 39.703125 55.765625 41.0625 55.515625 \nz\n\" id=\"DejaVuSans-114\"/>\n      <path d=\"M 44.28125 53.078125 \nL 44.28125 44.578125 \nQ 40.484375 46.53125 36.375 47.5 \nQ 32.28125 48.484375 27.875 48.484375 \nQ 21.1875 48.484375 17.84375 46.4375 \nQ 14.5 44.390625 14.5 40.28125 \nQ 14.5 37.15625 16.890625 35.375 \nQ 19.28125 33.59375 26.515625 31.984375 \nL 29.59375 31.296875 \nQ 39.15625 29.25 43.1875 25.515625 \nQ 47.21875 21.78125 47.21875 15.09375 \nQ 47.21875 7.46875 41.1875 3.015625 \nQ 35.15625 -1.421875 24.609375 -1.421875 \nQ 20.21875 -1.421875 15.453125 -0.5625 \nQ 10.6875 0.296875 5.421875 2 \nL 5.421875 11.28125 \nQ 10.40625 8.6875 15.234375 7.390625 \nQ 20.0625 6.109375 24.8125 6.109375 \nQ 31.15625 6.109375 34.5625 8.28125 \nQ 37.984375 10.453125 37.984375 14.40625 \nQ 37.984375 18.0625 35.515625 20.015625 \nQ 33.0625 21.96875 24.703125 23.78125 \nL 21.578125 24.515625 \nQ 13.234375 26.265625 9.515625 29.90625 \nQ 5.8125 33.546875 5.8125 39.890625 \nQ 5.8125 47.609375 11.28125 51.796875 \nQ 16.75 56 26.8125 56 \nQ 31.78125 56 36.171875 55.265625 \nQ 40.578125 54.546875 44.28125 53.078125 \nz\n\" id=\"DejaVuSans-115\"/>\n     </defs>\n     <g transform=\"translate(262.627188 420.242687)scale(0.1 -0.1)\">\n      <use xlink:href=\"#DejaVuSans-70\"/>\n      <use x=\"57.441406\" xlink:href=\"#DejaVuSans-101\"/>\n      <use x=\"118.964844\" xlink:href=\"#DejaVuSans-97\"/>\n      <use x=\"180.244141\" xlink:href=\"#DejaVuSans-116\"/>\n      <use x=\"219.453125\" xlink:href=\"#DejaVuSans-117\"/>\n      <use x=\"282.832031\" xlink:href=\"#DejaVuSans-114\"/>\n      <use x=\"323.914062\" xlink:href=\"#DejaVuSans-101\"/>\n      <use x=\"385.4375\" xlink:href=\"#DejaVuSans-115\"/>\n     </g>\n    </g>\n   </g>\n   <g id=\"matplotlib.axis_2\">\n    <g id=\"ytick_1\">\n     <g id=\"line2d_17\">\n      <path clip-path=\"url(#p337f76f250)\" d=\"M 50.14375 375.163943 \nL 518.86375 375.163943 \n\" style=\"fill:none;stroke:#808080;stroke-linecap:square;stroke-opacity:0.5;stroke-width:0.25;\"/>\n     </g>\n     <g id=\"line2d_18\">\n      <defs>\n       <path d=\"M 0 0 \nL -3.5 0 \n\" id=\"mdbd116e51b\" style=\"stroke:#000000;stroke-width:0.8;\"/>\n      </defs>\n      <g>\n       <use style=\"stroke:#000000;stroke-width:0.8;\" x=\"50.14375\" xlink:href=\"#mdbd116e51b\" y=\"375.163943\"/>\n      </g>\n     </g>\n     <g id=\"text_10\">\n      <!-- 0.00 -->\n      <defs>\n       <path d=\"M 10.6875 12.40625 \nL 21 12.40625 \nL 21 0 \nL 10.6875 0 \nz\n\" id=\"DejaVuSans-46\"/>\n      </defs>\n      <g transform=\"translate(20.878125 378.963162)scale(0.1 -0.1)\">\n       <use xlink:href=\"#DejaVuSans-48\"/>\n       <use x=\"63.623047\" xlink:href=\"#DejaVuSans-46\"/>\n       <use x=\"95.410156\" xlink:href=\"#DejaVuSans-48\"/>\n       <use x=\"159.033203\" xlink:href=\"#DejaVuSans-48\"/>\n      </g>\n     </g>\n    </g>\n    <g id=\"ytick_2\">\n     <g id=\"line2d_19\">\n      <path clip-path=\"url(#p337f76f250)\" d=\"M 50.14375 319.204998 \nL 518.86375 319.204998 \n\" style=\"fill:none;stroke:#808080;stroke-linecap:square;stroke-opacity:0.5;stroke-width:0.25;\"/>\n     </g>\n     <g id=\"line2d_20\">\n      <g>\n       <use style=\"stroke:#000000;stroke-width:0.8;\" x=\"50.14375\" xlink:href=\"#mdbd116e51b\" y=\"319.204998\"/>\n      </g>\n     </g>\n     <g id=\"text_11\">\n      <!-- 0.02 -->\n      <g transform=\"translate(20.878125 323.004217)scale(0.1 -0.1)\">\n       <use xlink:href=\"#DejaVuSans-48\"/>\n       <use x=\"63.623047\" xlink:href=\"#DejaVuSans-46\"/>\n       <use x=\"95.410156\" xlink:href=\"#DejaVuSans-48\"/>\n       <use x=\"159.033203\" xlink:href=\"#DejaVuSans-50\"/>\n      </g>\n     </g>\n    </g>\n    <g id=\"ytick_3\">\n     <g id=\"line2d_21\">\n      <path clip-path=\"url(#p337f76f250)\" d=\"M 50.14375 263.246053 \nL 518.86375 263.246053 \n\" style=\"fill:none;stroke:#808080;stroke-linecap:square;stroke-opacity:0.5;stroke-width:0.25;\"/>\n     </g>\n     <g id=\"line2d_22\">\n      <g>\n       <use style=\"stroke:#000000;stroke-width:0.8;\" x=\"50.14375\" xlink:href=\"#mdbd116e51b\" y=\"263.246053\"/>\n      </g>\n     </g>\n     <g id=\"text_12\">\n      <!-- 0.04 -->\n      <defs>\n       <path d=\"M 37.796875 64.3125 \nL 12.890625 25.390625 \nL 37.796875 25.390625 \nz\nM 35.203125 72.90625 \nL 47.609375 72.90625 \nL 47.609375 25.390625 \nL 58.015625 25.390625 \nL 58.015625 17.1875 \nL 47.609375 17.1875 \nL 47.609375 0 \nL 37.796875 0 \nL 37.796875 17.1875 \nL 4.890625 17.1875 \nL 4.890625 26.703125 \nz\n\" id=\"DejaVuSans-52\"/>\n      </defs>\n      <g transform=\"translate(20.878125 267.045271)scale(0.1 -0.1)\">\n       <use xlink:href=\"#DejaVuSans-48\"/>\n       <use x=\"63.623047\" xlink:href=\"#DejaVuSans-46\"/>\n       <use x=\"95.410156\" xlink:href=\"#DejaVuSans-48\"/>\n       <use x=\"159.033203\" xlink:href=\"#DejaVuSans-52\"/>\n      </g>\n     </g>\n    </g>\n    <g id=\"ytick_4\">\n     <g id=\"line2d_23\">\n      <path clip-path=\"url(#p337f76f250)\" d=\"M 50.14375 207.287107 \nL 518.86375 207.287107 \n\" style=\"fill:none;stroke:#808080;stroke-linecap:square;stroke-opacity:0.5;stroke-width:0.25;\"/>\n     </g>\n     <g id=\"line2d_24\">\n      <g>\n       <use style=\"stroke:#000000;stroke-width:0.8;\" x=\"50.14375\" xlink:href=\"#mdbd116e51b\" y=\"207.287107\"/>\n      </g>\n     </g>\n     <g id=\"text_13\">\n      <!-- 0.06 -->\n      <defs>\n       <path d=\"M 33.015625 40.375 \nQ 26.375 40.375 22.484375 35.828125 \nQ 18.609375 31.296875 18.609375 23.390625 \nQ 18.609375 15.53125 22.484375 10.953125 \nQ 26.375 6.390625 33.015625 6.390625 \nQ 39.65625 6.390625 43.53125 10.953125 \nQ 47.40625 15.53125 47.40625 23.390625 \nQ 47.40625 31.296875 43.53125 35.828125 \nQ 39.65625 40.375 33.015625 40.375 \nz\nM 52.59375 71.296875 \nL 52.59375 62.3125 \nQ 48.875 64.0625 45.09375 64.984375 \nQ 41.3125 65.921875 37.59375 65.921875 \nQ 27.828125 65.921875 22.671875 59.328125 \nQ 17.53125 52.734375 16.796875 39.40625 \nQ 19.671875 43.65625 24.015625 45.921875 \nQ 28.375 48.1875 33.59375 48.1875 \nQ 44.578125 48.1875 50.953125 41.515625 \nQ 57.328125 34.859375 57.328125 23.390625 \nQ 57.328125 12.15625 50.6875 5.359375 \nQ 44.046875 -1.421875 33.015625 -1.421875 \nQ 20.359375 -1.421875 13.671875 8.265625 \nQ 6.984375 17.96875 6.984375 36.375 \nQ 6.984375 53.65625 15.1875 63.9375 \nQ 23.390625 74.21875 37.203125 74.21875 \nQ 40.921875 74.21875 44.703125 73.484375 \nQ 48.484375 72.75 52.59375 71.296875 \nz\n\" id=\"DejaVuSans-54\"/>\n      </defs>\n      <g transform=\"translate(20.878125 211.086326)scale(0.1 -0.1)\">\n       <use xlink:href=\"#DejaVuSans-48\"/>\n       <use x=\"63.623047\" xlink:href=\"#DejaVuSans-46\"/>\n       <use x=\"95.410156\" xlink:href=\"#DejaVuSans-48\"/>\n       <use x=\"159.033203\" xlink:href=\"#DejaVuSans-54\"/>\n      </g>\n     </g>\n    </g>\n    <g id=\"ytick_5\">\n     <g id=\"line2d_25\">\n      <path clip-path=\"url(#p337f76f250)\" d=\"M 50.14375 151.328162 \nL 518.86375 151.328162 \n\" style=\"fill:none;stroke:#808080;stroke-linecap:square;stroke-opacity:0.5;stroke-width:0.25;\"/>\n     </g>\n     <g id=\"line2d_26\">\n      <g>\n       <use style=\"stroke:#000000;stroke-width:0.8;\" x=\"50.14375\" xlink:href=\"#mdbd116e51b\" y=\"151.328162\"/>\n      </g>\n     </g>\n     <g id=\"text_14\">\n      <!-- 0.08 -->\n      <defs>\n       <path d=\"M 31.78125 34.625 \nQ 24.75 34.625 20.71875 30.859375 \nQ 16.703125 27.09375 16.703125 20.515625 \nQ 16.703125 13.921875 20.71875 10.15625 \nQ 24.75 6.390625 31.78125 6.390625 \nQ 38.8125 6.390625 42.859375 10.171875 \nQ 46.921875 13.96875 46.921875 20.515625 \nQ 46.921875 27.09375 42.890625 30.859375 \nQ 38.875 34.625 31.78125 34.625 \nz\nM 21.921875 38.8125 \nQ 15.578125 40.375 12.03125 44.71875 \nQ 8.5 49.078125 8.5 55.328125 \nQ 8.5 64.0625 14.71875 69.140625 \nQ 20.953125 74.21875 31.78125 74.21875 \nQ 42.671875 74.21875 48.875 69.140625 \nQ 55.078125 64.0625 55.078125 55.328125 \nQ 55.078125 49.078125 51.53125 44.71875 \nQ 48 40.375 41.703125 38.8125 \nQ 48.828125 37.15625 52.796875 32.3125 \nQ 56.78125 27.484375 56.78125 20.515625 \nQ 56.78125 9.90625 50.3125 4.234375 \nQ 43.84375 -1.421875 31.78125 -1.421875 \nQ 19.734375 -1.421875 13.25 4.234375 \nQ 6.78125 9.90625 6.78125 20.515625 \nQ 6.78125 27.484375 10.78125 32.3125 \nQ 14.796875 37.15625 21.921875 38.8125 \nz\nM 18.3125 54.390625 \nQ 18.3125 48.734375 21.84375 45.5625 \nQ 25.390625 42.390625 31.78125 42.390625 \nQ 38.140625 42.390625 41.71875 45.5625 \nQ 45.3125 48.734375 45.3125 54.390625 \nQ 45.3125 60.0625 41.71875 63.234375 \nQ 38.140625 66.40625 31.78125 66.40625 \nQ 25.390625 66.40625 21.84375 63.234375 \nQ 18.3125 60.0625 18.3125 54.390625 \nz\n\" id=\"DejaVuSans-56\"/>\n      </defs>\n      <g transform=\"translate(20.878125 155.127381)scale(0.1 -0.1)\">\n       <use xlink:href=\"#DejaVuSans-48\"/>\n       <use x=\"63.623047\" xlink:href=\"#DejaVuSans-46\"/>\n       <use x=\"95.410156\" xlink:href=\"#DejaVuSans-48\"/>\n       <use x=\"159.033203\" xlink:href=\"#DejaVuSans-56\"/>\n      </g>\n     </g>\n    </g>\n    <g id=\"ytick_6\">\n     <g id=\"line2d_27\">\n      <path clip-path=\"url(#p337f76f250)\" d=\"M 50.14375 95.369217 \nL 518.86375 95.369217 \n\" style=\"fill:none;stroke:#808080;stroke-linecap:square;stroke-opacity:0.5;stroke-width:0.25;\"/>\n     </g>\n     <g id=\"line2d_28\">\n      <g>\n       <use style=\"stroke:#000000;stroke-width:0.8;\" x=\"50.14375\" xlink:href=\"#mdbd116e51b\" y=\"95.369217\"/>\n      </g>\n     </g>\n     <g id=\"text_15\">\n      <!-- 0.10 -->\n      <g transform=\"translate(20.878125 99.168436)scale(0.1 -0.1)\">\n       <use xlink:href=\"#DejaVuSans-48\"/>\n       <use x=\"63.623047\" xlink:href=\"#DejaVuSans-46\"/>\n       <use x=\"95.410156\" xlink:href=\"#DejaVuSans-49\"/>\n       <use x=\"159.033203\" xlink:href=\"#DejaVuSans-48\"/>\n      </g>\n     </g>\n    </g>\n    <g id=\"ytick_7\">\n     <g id=\"line2d_29\">\n      <path clip-path=\"url(#p337f76f250)\" d=\"M 50.14375 39.410272 \nL 518.86375 39.410272 \n\" style=\"fill:none;stroke:#808080;stroke-linecap:square;stroke-opacity:0.5;stroke-width:0.25;\"/>\n     </g>\n     <g id=\"line2d_30\">\n      <g>\n       <use style=\"stroke:#000000;stroke-width:0.8;\" x=\"50.14375\" xlink:href=\"#mdbd116e51b\" y=\"39.410272\"/>\n      </g>\n     </g>\n     <g id=\"text_16\">\n      <!-- 0.12 -->\n      <g transform=\"translate(20.878125 43.209491)scale(0.1 -0.1)\">\n       <use xlink:href=\"#DejaVuSans-48\"/>\n       <use x=\"63.623047\" xlink:href=\"#DejaVuSans-46\"/>\n       <use x=\"95.410156\" xlink:href=\"#DejaVuSans-49\"/>\n       <use x=\"159.033203\" xlink:href=\"#DejaVuSans-50\"/>\n      </g>\n     </g>\n    </g>\n    <g id=\"text_17\">\n     <!-- Gini Importance -->\n     <defs>\n      <path d=\"M 59.515625 10.40625 \nL 59.515625 29.984375 \nL 43.40625 29.984375 \nL 43.40625 38.09375 \nL 69.28125 38.09375 \nL 69.28125 6.78125 \nQ 63.578125 2.734375 56.6875 0.65625 \nQ 49.8125 -1.421875 42 -1.421875 \nQ 24.90625 -1.421875 15.25 8.5625 \nQ 5.609375 18.5625 5.609375 36.375 \nQ 5.609375 54.25 15.25 64.234375 \nQ 24.90625 74.21875 42 74.21875 \nQ 49.125 74.21875 55.546875 72.453125 \nQ 61.96875 70.703125 67.390625 67.28125 \nL 67.390625 56.78125 \nQ 61.921875 61.421875 55.765625 63.765625 \nQ 49.609375 66.109375 42.828125 66.109375 \nQ 29.4375 66.109375 22.71875 58.640625 \nQ 16.015625 51.171875 16.015625 36.375 \nQ 16.015625 21.625 22.71875 14.15625 \nQ 29.4375 6.6875 42.828125 6.6875 \nQ 48.046875 6.6875 52.140625 7.59375 \nQ 56.25 8.5 59.515625 10.40625 \nz\n\" id=\"DejaVuSans-71\"/>\n      <path d=\"M 9.421875 54.6875 \nL 18.40625 54.6875 \nL 18.40625 0 \nL 9.421875 0 \nz\nM 9.421875 75.984375 \nL 18.40625 75.984375 \nL 18.40625 64.59375 \nL 9.421875 64.59375 \nz\n\" id=\"DejaVuSans-105\"/>\n      <path d=\"M 54.890625 33.015625 \nL 54.890625 0 \nL 45.90625 0 \nL 45.90625 32.71875 \nQ 45.90625 40.484375 42.875 44.328125 \nQ 39.84375 48.1875 33.796875 48.1875 \nQ 26.515625 48.1875 22.3125 43.546875 \nQ 18.109375 38.921875 18.109375 30.90625 \nL 18.109375 0 \nL 9.078125 0 \nL 9.078125 54.6875 \nL 18.109375 54.6875 \nL 18.109375 46.1875 \nQ 21.34375 51.125 25.703125 53.5625 \nQ 30.078125 56 35.796875 56 \nQ 45.21875 56 50.046875 50.171875 \nQ 54.890625 44.34375 54.890625 33.015625 \nz\n\" id=\"DejaVuSans-110\"/>\n      <path id=\"DejaVuSans-32\"/>\n      <path d=\"M 9.8125 72.90625 \nL 19.671875 72.90625 \nL 19.671875 0 \nL 9.8125 0 \nz\n\" id=\"DejaVuSans-73\"/>\n      <path d=\"M 52 44.1875 \nQ 55.375 50.25 60.0625 53.125 \nQ 64.75 56 71.09375 56 \nQ 79.640625 56 84.28125 50.015625 \nQ 88.921875 44.046875 88.921875 33.015625 \nL 88.921875 0 \nL 79.890625 0 \nL 79.890625 32.71875 \nQ 79.890625 40.578125 77.09375 44.375 \nQ 74.3125 48.1875 68.609375 48.1875 \nQ 61.625 48.1875 57.5625 43.546875 \nQ 53.515625 38.921875 53.515625 30.90625 \nL 53.515625 0 \nL 44.484375 0 \nL 44.484375 32.71875 \nQ 44.484375 40.625 41.703125 44.40625 \nQ 38.921875 48.1875 33.109375 48.1875 \nQ 26.21875 48.1875 22.15625 43.53125 \nQ 18.109375 38.875 18.109375 30.90625 \nL 18.109375 0 \nL 9.078125 0 \nL 9.078125 54.6875 \nL 18.109375 54.6875 \nL 18.109375 46.1875 \nQ 21.1875 51.21875 25.484375 53.609375 \nQ 29.78125 56 35.6875 56 \nQ 41.65625 56 45.828125 52.96875 \nQ 50 49.953125 52 44.1875 \nz\n\" id=\"DejaVuSans-109\"/>\n      <path d=\"M 18.109375 8.203125 \nL 18.109375 -20.796875 \nL 9.078125 -20.796875 \nL 9.078125 54.6875 \nL 18.109375 54.6875 \nL 18.109375 46.390625 \nQ 20.953125 51.265625 25.265625 53.625 \nQ 29.59375 56 35.59375 56 \nQ 45.5625 56 51.78125 48.09375 \nQ 58.015625 40.1875 58.015625 27.296875 \nQ 58.015625 14.40625 51.78125 6.484375 \nQ 45.5625 -1.421875 35.59375 -1.421875 \nQ 29.59375 -1.421875 25.265625 0.953125 \nQ 20.953125 3.328125 18.109375 8.203125 \nz\nM 48.6875 27.296875 \nQ 48.6875 37.203125 44.609375 42.84375 \nQ 40.53125 48.484375 33.40625 48.484375 \nQ 26.265625 48.484375 22.1875 42.84375 \nQ 18.109375 37.203125 18.109375 27.296875 \nQ 18.109375 17.390625 22.1875 11.75 \nQ 26.265625 6.109375 33.40625 6.109375 \nQ 40.53125 6.109375 44.609375 11.75 \nQ 48.6875 17.390625 48.6875 27.296875 \nz\n\" id=\"DejaVuSans-112\"/>\n      <path d=\"M 30.609375 48.390625 \nQ 23.390625 48.390625 19.1875 42.75 \nQ 14.984375 37.109375 14.984375 27.296875 \nQ 14.984375 17.484375 19.15625 11.84375 \nQ 23.34375 6.203125 30.609375 6.203125 \nQ 37.796875 6.203125 41.984375 11.859375 \nQ 46.1875 17.53125 46.1875 27.296875 \nQ 46.1875 37.015625 41.984375 42.703125 \nQ 37.796875 48.390625 30.609375 48.390625 \nz\nM 30.609375 56 \nQ 42.328125 56 49.015625 48.375 \nQ 55.71875 40.765625 55.71875 27.296875 \nQ 55.71875 13.875 49.015625 6.21875 \nQ 42.328125 -1.421875 30.609375 -1.421875 \nQ 18.84375 -1.421875 12.171875 6.21875 \nQ 5.515625 13.875 5.515625 27.296875 \nQ 5.515625 40.765625 12.171875 48.375 \nQ 18.84375 56 30.609375 56 \nz\n\" id=\"DejaVuSans-111\"/>\n      <path d=\"M 48.78125 52.59375 \nL 48.78125 44.1875 \nQ 44.96875 46.296875 41.140625 47.34375 \nQ 37.3125 48.390625 33.40625 48.390625 \nQ 24.65625 48.390625 19.8125 42.84375 \nQ 14.984375 37.3125 14.984375 27.296875 \nQ 14.984375 17.28125 19.8125 11.734375 \nQ 24.65625 6.203125 33.40625 6.203125 \nQ 37.3125 6.203125 41.140625 7.25 \nQ 44.96875 8.296875 48.78125 10.40625 \nL 48.78125 2.09375 \nQ 45.015625 0.34375 40.984375 -0.53125 \nQ 36.96875 -1.421875 32.421875 -1.421875 \nQ 20.0625 -1.421875 12.78125 6.34375 \nQ 5.515625 14.109375 5.515625 27.296875 \nQ 5.515625 40.671875 12.859375 48.328125 \nQ 20.21875 56 33.015625 56 \nQ 37.15625 56 41.109375 55.140625 \nQ 45.0625 54.296875 48.78125 52.59375 \nz\n\" id=\"DejaVuSans-99\"/>\n     </defs>\n     <g transform=\"translate(14.798438 247.205406)rotate(-90)scale(0.1 -0.1)\">\n      <use xlink:href=\"#DejaVuSans-71\"/>\n      <use x=\"77.490234\" xlink:href=\"#DejaVuSans-105\"/>\n      <use x=\"105.273438\" xlink:href=\"#DejaVuSans-110\"/>\n      <use x=\"168.652344\" xlink:href=\"#DejaVuSans-105\"/>\n      <use x=\"196.435547\" xlink:href=\"#DejaVuSans-32\"/>\n      <use x=\"228.222656\" xlink:href=\"#DejaVuSans-73\"/>\n      <use x=\"257.714844\" xlink:href=\"#DejaVuSans-109\"/>\n      <use x=\"355.126953\" xlink:href=\"#DejaVuSans-112\"/>\n      <use x=\"418.603516\" xlink:href=\"#DejaVuSans-111\"/>\n      <use x=\"479.785156\" xlink:href=\"#DejaVuSans-114\"/>\n      <use x=\"520.898438\" xlink:href=\"#DejaVuSans-116\"/>\n      <use x=\"560.107422\" xlink:href=\"#DejaVuSans-97\"/>\n      <use x=\"621.386719\" xlink:href=\"#DejaVuSans-110\"/>\n      <use x=\"684.765625\" xlink:href=\"#DejaVuSans-99\"/>\n      <use x=\"739.746094\" xlink:href=\"#DejaVuSans-101\"/>\n     </g>\n    </g>\n   </g>\n   <g id=\"line2d_31\">\n    <path clip-path=\"url(#p337f76f250)\" d=\"M 71.449205 375.163943 \nL 72.642787 339.14155 \nL 73.83637 307.349216 \nL 75.029953 339.089101 \nL 76.223536 312.952512 \nL 77.417119 375.163943 \nL 78.610702 371.533301 \nL 79.804285 375.163943 \nL 80.997868 305.731504 \nL 82.191451 375.163943 \nL 104.869525 375.163943 \nL 106.063108 363.245753 \nL 107.256691 375.163943 \nL 108.450274 363.758041 \nL 109.643857 375.163943 \nL 110.83744 375.163943 \nL 112.031023 335.790377 \nL 113.224606 375.163943 \nL 114.418189 343.555224 \nL 115.611771 375.163943 \nL 121.579686 375.163943 \nL 122.773269 276.591856 \nL 123.966852 375.163943 \nL 144.257761 375.163943 \nL 145.451344 39.120307 \nL 146.644926 375.163943 \nL 155.000007 375.163943 \nL 156.19359 364.100142 \nL 157.387172 375.163943 \nL 158.580755 370.595435 \nL 159.774338 375.163943 \nL 166.935836 375.163943 \nL 168.129418 364.51852 \nL 169.323001 375.163943 \nL 170.516584 368.973836 \nL 171.710167 375.163943 \nL 177.678082 375.163943 \nL 178.871664 331.747776 \nL 180.065247 375.163943 \nL 193.194659 375.163943 \nL 194.388242 363.629814 \nL 195.581825 363.758549 \nL 196.775408 293.368379 \nL 197.968991 375.163943 \nL 202.743322 375.163943 \nL 203.936905 368.662266 \nL 205.130488 375.163943 \nL 206.324071 375.163943 \nL 207.517654 363.536168 \nL 208.711237 375.163943 \nL 226.61498 375.163943 \nL 227.808563 280.606182 \nL 229.002146 375.163943 \nL 230.195729 341.945679 \nL 231.389311 375.163943 \nL 240.937975 375.163943 \nL 242.131557 327.939701 \nL 243.32514 375.163943 \nL 244.518723 363.210212 \nL 245.712306 375.163943 \nL 258.841718 375.163943 \nL 260.035301 373.725373 \nL 261.228884 375.163943 \nL 262.422467 375.163943 \nL 263.616049 333.914335 \nL 264.809632 375.163943 \nL 266.003215 375.163943 \nL 267.196798 305.339182 \nL 268.390381 375.163943 \nL 275.551878 375.163943 \nL 276.745461 352.973974 \nL 277.939044 375.163943 \nL 279.132627 375.163943 \nL 280.32621 293.242123 \nL 281.519793 324.349645 \nL 282.713376 375.163943 \nL 283.906959 375.163943 \nL 285.100541 306.330076 \nL 286.294124 375.163943 \nL 289.874873 375.163943 \nL 291.068456 317.694693 \nL 292.262039 375.163943 \nL 300.617119 375.163943 \nL 301.810702 334.480232 \nL 303.004285 375.163943 \nL 304.197868 325.058237 \nL 305.391451 375.163943 \nL 307.778616 375.163943 \nL 308.972199 358.538691 \nL 310.165782 375.163943 \nL 320.908028 375.163943 \nL 322.101611 283.120072 \nL 323.295194 375.163943 \nL 334.03744 375.163943 \nL 335.231023 303.511146 \nL 336.424606 375.163943 \nL 348.360434 375.163943 \nL 349.554017 294.68287 \nL 350.7476 375.163943 \nL 355.521932 375.163943 \nL 356.715515 334.635662 \nL 357.909098 375.163943 \nL 361.489846 375.163943 \nL 362.683429 303.503016 \nL 363.877012 375.163943 \nL 366.264178 375.163943 \nL 367.457761 267.751917 \nL 368.651344 332.697985 \nL 369.844926 346.432646 \nL 371.038509 375.163943 \nL 375.812841 375.163943 \nL 377.006424 360.755029 \nL 378.200007 375.163943 \nL 405.652413 375.163943 \nL 406.845996 362.536977 \nL 408.039579 375.163943 \nL 416.394659 375.163943 \nL 417.588242 364.61964 \nL 418.781825 375.163943 \nL 431.911237 375.163943 \nL 433.10482 364.453875 \nL 434.298402 375.163943 \nL 436.685568 375.163943 \nL 437.879151 334.54718 \nL 439.072734 375.163943 \nL 440.266317 375.163943 \nL 441.4599 334.20627 \nL 442.653483 375.163943 \nL 445.040648 375.163943 \nL 446.234231 312.951715 \nL 447.427814 375.163943 \nL 458.17006 375.163943 \nL 459.363643 363.378268 \nL 460.557226 375.163943 \nL 462.944392 375.163943 \nL 464.137975 363.276216 \nL 465.331557 375.163943 \nL 466.52514 375.163943 \nL 467.718723 365.342935 \nL 468.912306 375.163943 \nL 470.105889 375.163943 \nL 471.299472 363.705747 \nL 472.493055 360.779255 \nL 473.686638 375.163943 \nL 478.460969 375.163943 \nL 479.654552 337.335578 \nL 480.848135 375.163943 \nL 482.041718 375.163943 \nL 483.235301 284.495013 \nL 484.428884 375.163943 \nL 485.622467 300.700435 \nL 486.816049 293.602207 \nL 488.009632 375.163943 \nL 489.203215 375.163943 \nL 490.396798 339.097728 \nL 491.590381 375.163943 \nL 497.558295 375.163943 \nL 497.558295 375.163943 \n\" style=\"fill:none;stroke:#1f77b4;stroke-linecap:square;stroke-width:1.5;\"/>\n   </g>\n   <g id=\"patch_3\">\n    <path d=\"M 50.14375 391.966125 \nL 50.14375 22.318125 \n\" style=\"fill:none;stroke:#000000;stroke-linecap:square;stroke-linejoin:miter;stroke-width:0.8;\"/>\n   </g>\n   <g id=\"patch_4\">\n    <path d=\"M 518.86375 391.966125 \nL 518.86375 22.318125 \n\" style=\"fill:none;stroke:#000000;stroke-linecap:square;stroke-linejoin:miter;stroke-width:0.8;\"/>\n   </g>\n   <g id=\"patch_5\">\n    <path d=\"M 50.14375 391.966125 \nL 518.86375 391.966125 \n\" style=\"fill:none;stroke:#000000;stroke-linecap:square;stroke-linejoin:miter;stroke-width:0.8;\"/>\n   </g>\n   <g id=\"patch_6\">\n    <path d=\"M 50.14375 22.318125 \nL 518.86375 22.318125 \n\" style=\"fill:none;stroke:#000000;stroke-linecap:square;stroke-linejoin:miter;stroke-width:0.8;\"/>\n   </g>\n   <g id=\"text_18\">\n    <!-- Feature Importances -->\n    <g transform=\"translate(221.96125 16.318125)scale(0.12 -0.12)\">\n     <use xlink:href=\"#DejaVuSans-70\"/>\n     <use x=\"57.441406\" xlink:href=\"#DejaVuSans-101\"/>\n     <use x=\"118.964844\" xlink:href=\"#DejaVuSans-97\"/>\n     <use x=\"180.244141\" xlink:href=\"#DejaVuSans-116\"/>\n     <use x=\"219.453125\" xlink:href=\"#DejaVuSans-117\"/>\n     <use x=\"282.832031\" xlink:href=\"#DejaVuSans-114\"/>\n     <use x=\"323.914062\" xlink:href=\"#DejaVuSans-101\"/>\n     <use x=\"385.4375\" xlink:href=\"#DejaVuSans-32\"/>\n     <use x=\"417.224609\" xlink:href=\"#DejaVuSans-73\"/>\n     <use x=\"446.716797\" xlink:href=\"#DejaVuSans-109\"/>\n     <use x=\"544.128906\" xlink:href=\"#DejaVuSans-112\"/>\n     <use x=\"607.605469\" xlink:href=\"#DejaVuSans-111\"/>\n     <use x=\"668.787109\" xlink:href=\"#DejaVuSans-114\"/>\n     <use x=\"709.900391\" xlink:href=\"#DejaVuSans-116\"/>\n     <use x=\"749.109375\" xlink:href=\"#DejaVuSans-97\"/>\n     <use x=\"810.388672\" xlink:href=\"#DejaVuSans-110\"/>\n     <use x=\"873.767578\" xlink:href=\"#DejaVuSans-99\"/>\n     <use x=\"928.748047\" xlink:href=\"#DejaVuSans-101\"/>\n     <use x=\"990.271484\" xlink:href=\"#DejaVuSans-115\"/>\n    </g>\n   </g>\n  </g>\n </g>\n <defs>\n  <clipPath id=\"p337f76f250\">\n   <rect height=\"369.648\" width=\"468.72\" x=\"50.14375\" y=\"22.318125\"/>\n  </clipPath>\n </defs>\n</svg>\n",
      "image/png": "[encoded data removed]"
     },
     "metadata": {
      "needs_background": "light"
     }
    }
   ],
   "source": [
    "# Plotting the feature importance for every variable\n",
    "plt.figure(figsize=(8.4, 6.8))\n",
    "plt.plot(xgb_classifier_opt_auc.feature_importances_)\n",
    "ax = plt.gca()\n",
    "ax.set_facecolor('#ebedf0')\n",
    "plt.title(\"Feature Importances\")\n",
    "plt.xlabel(\"Features\")\n",
    "plt.ylabel(\"Gini Importance\")\n",
    "plt.grid(color='grey', linestyle='-', linewidth=0.25, alpha=0.5)\n",
    "plt.savefig('images/feature_importance')"
   ]
  },
  {
   "cell_type": "code",
   "execution_count": 636,
   "metadata": {},
   "outputs": [],
   "source": [
    "# Getting the feature importances\n",
    "feature_importance = xgb_classifier_opt_auc.feature_importances_"
   ]
  },
  {
   "cell_type": "code",
   "execution_count": 637,
   "metadata": {
    "tags": []
   },
   "outputs": [],
   "source": [
    "# Mapping each of the feature importances to their feature name\n",
    "feature_importance_dict = {}\n",
    "\n",
    "# Counter for the feature importance list\n",
    "count = 0\n",
    "\n",
    "# Looping through all the column names\n",
    "for i in features_scaled.columns:\n",
    "    feature_importance_dict[i] = feature_importance[count]\n",
    "    count += 1"
   ]
  },
  {
   "cell_type": "code",
   "execution_count": 639,
   "metadata": {
    "tags": []
   },
   "outputs": [],
   "source": [
    "# Getting a list of features that have greater than zero importance\n",
    "important_features = []\n",
    "\n",
    "for key in feature_importance_dict:\n",
    "    if feature_importance_dict[key] > 0:\n",
    "        important_features.append(key)"
   ]
  },
  {
   "cell_type": "code",
   "execution_count": 640,
   "metadata": {
    "tags": []
   },
   "outputs": [
    {
     "output_type": "stream",
     "name": "stdout",
     "text": "['AKT_DAT_KL', 'ALTER_HH', 'ALTERSKATEGORIE_FEIN', 'ANZ_HAUSHALTE_AKTIV', 'ANZ_KINDER', 'ANZ_STATISTISCHE_HAUSHALTE', 'D19_BANKEN_ONLINE_DATUM', 'D19_BANKEN_REST', 'D19_BILDUNG', 'D19_BUCH_CD', 'D19_GESAMT_ANZ_24', 'D19_SOZIALES', 'D19_TELKO_REST', 'D19_VERSAND_ANZ_12', 'D19_VERSI_ANZ_24', 'D19_VERSI_OFFLINE_DATUM', 'EINGEZOGENAM_HH_JAHR', 'GEBURTSJAHR', 'GEMEINDETYP', 'GFK_URLAUBERTYP', 'KBA05_ALTER1', 'KBA05_ALTER4', 'KBA05_HERST3', 'KBA05_HERST5', 'KBA05_KW1', 'KBA05_KW3', 'KBA05_MOTRAD', 'KBA05_SEG2', 'KBA05_SEG5', 'KBA05_ZUL1', 'KBA05_ZUL4', 'KBA13_ALTERHALTER_30', 'KBA13_ALTERHALTER_61', 'KBA13_ANZAHL_PKW', 'KBA13_BJ_2009', 'KBA13_CCM_0_1400', 'KBA13_CCM_1401_2500', 'KBA13_FIAT', 'KBA13_HALTER_60', 'KBA13_KMH_140', 'KBA13_KMH_251', 'KBA13_KRSSEG_KLEIN', 'KBA13_KW_0_60', 'KBA13_KW_110', 'KBA13_KW_120', 'KBA13_KW_61_120', 'KBA13_SEG_WOHNMOBILE', 'KBA13_VORB_3', 'MIN_GEBAEUDEJAHR', 'ONLINE_AFFINITAET', 'PLZ8_ANTG1', 'PLZ8_BAUMAX', 'SEMIO_ERL', 'SEMIO_KULT', 'SEMIO_PFLICHT', 'SEMIO_SOZ', 'SEMIO_TRADV', 'UMFELD_ALT', 'VERDICHTUNGSRAUM', 'VHA', 'VHN', 'VK_ZG11']\n"
    }
   ],
   "source": [
    "print(important_features)"
   ]
  },
  {
   "cell_type": "code",
   "execution_count": 645,
   "metadata": {},
   "outputs": [],
   "source": [
    "# Separating the training and testing into features and labels, also only including the important features\n",
    "X_train = train_data.loc[:, important_features]\n",
    "y_train = train_data[\"RESPONSE\"]\n",
    "\n",
    "X_test = test_data.loc[:, important_features]"
   ]
  },
  {
   "cell_type": "code",
   "execution_count": 647,
   "metadata": {},
   "outputs": [
    {
     "output_type": "execute_result",
     "data": {
      "text/plain": "   AKT_DAT_KL  ALTER_HH  ALTERSKATEGORIE_FEIN  ANZ_HAUSHALTE_AKTIV  \\\n0         1.0       8.0                   8.0                 15.0   \n1         4.0      13.0                  13.0                  1.0   \n2         1.0       9.0                   7.0                  0.0   \n3         1.0       6.0                   6.0                  4.0   \n4         1.0       9.0                   9.0                 53.0   \n\n   ANZ_KINDER  ANZ_STATISTISCHE_HAUSHALTE  D19_BANKEN_ONLINE_DATUM  \\\n0         0.0                        13.0                       10   \n1         0.0                         1.0                       10   \n2         0.0                         1.0                        7   \n3         0.0                         4.0                       10   \n4         0.0                        44.0                       10   \n\n   D19_BANKEN_REST  D19_BILDUNG  D19_BUCH_CD  ...  SEMIO_ERL  SEMIO_KULT  \\\n0                0            0            0  ...          7           1   \n1                0            0            0  ...          6           3   \n2                5            0            0  ...          3           4   \n3                0            0            6  ...          7           1   \n4                0            7            0  ...          4           5   \n\n   SEMIO_PFLICHT  SEMIO_SOZ  SEMIO_TRADV  UMFELD_ALT  VERDICHTUNGSRAUM  VHA  \\\n0              3          5            1         2.0               4.0  1.0   \n1              5          1            3         2.0               0.0  1.0   \n2              1          3            1         1.0              10.0  4.0   \n3              4          5            3         3.0               5.0  1.0   \n4              4          6            2         2.0               4.0  0.0   \n\n   VHN  VK_ZG11  \n0  2.0      1.0  \n1  3.0      1.0  \n2  1.0      2.0  \n3  4.0     11.0  \n4  4.0      1.0  \n\n[5 rows x 62 columns]",
      "text/html": "<div>\n<style scoped>\n    .dataframe tbody tr th:only-of-type {\n        vertical-align: middle;\n    }\n\n    .dataframe tbody tr th {\n        vertical-align: top;\n    }\n\n    .dataframe thead th {\n        text-align: right;\n    }\n</style>\n<table border=\"1\" class=\"dataframe\">\n  <thead>\n    <tr style=\"text-align: right;\">\n      <th></th>\n      <th>AKT_DAT_KL</th>\n      <th>ALTER_HH</th>\n      <th>ALTERSKATEGORIE_FEIN</th>\n      <th>ANZ_HAUSHALTE_AKTIV</th>\n      <th>ANZ_KINDER</th>\n      <th>ANZ_STATISTISCHE_HAUSHALTE</th>\n      <th>D19_BANKEN_ONLINE_DATUM</th>\n      <th>D19_BANKEN_REST</th>\n      <th>D19_BILDUNG</th>\n      <th>D19_BUCH_CD</th>\n      <th>...</th>\n      <th>SEMIO_ERL</th>\n      <th>SEMIO_KULT</th>\n      <th>SEMIO_PFLICHT</th>\n      <th>SEMIO_SOZ</th>\n      <th>SEMIO_TRADV</th>\n      <th>UMFELD_ALT</th>\n      <th>VERDICHTUNGSRAUM</th>\n      <th>VHA</th>\n      <th>VHN</th>\n      <th>VK_ZG11</th>\n    </tr>\n  </thead>\n  <tbody>\n    <tr>\n      <th>0</th>\n      <td>1.0</td>\n      <td>8.0</td>\n      <td>8.0</td>\n      <td>15.0</td>\n      <td>0.0</td>\n      <td>13.0</td>\n      <td>10</td>\n      <td>0</td>\n      <td>0</td>\n      <td>0</td>\n      <td>...</td>\n      <td>7</td>\n      <td>1</td>\n      <td>3</td>\n      <td>5</td>\n      <td>1</td>\n      <td>2.0</td>\n      <td>4.0</td>\n      <td>1.0</td>\n      <td>2.0</td>\n      <td>1.0</td>\n    </tr>\n    <tr>\n      <th>1</th>\n      <td>4.0</td>\n      <td>13.0</td>\n      <td>13.0</td>\n      <td>1.0</td>\n      <td>0.0</td>\n      <td>1.0</td>\n      <td>10</td>\n      <td>0</td>\n      <td>0</td>\n      <td>0</td>\n      <td>...</td>\n      <td>6</td>\n      <td>3</td>\n      <td>5</td>\n      <td>1</td>\n      <td>3</td>\n      <td>2.0</td>\n      <td>0.0</td>\n      <td>1.0</td>\n      <td>3.0</td>\n      <td>1.0</td>\n    </tr>\n    <tr>\n      <th>2</th>\n      <td>1.0</td>\n      <td>9.0</td>\n      <td>7.0</td>\n      <td>0.0</td>\n      <td>0.0</td>\n      <td>1.0</td>\n      <td>7</td>\n      <td>5</td>\n      <td>0</td>\n      <td>0</td>\n      <td>...</td>\n      <td>3</td>\n      <td>4</td>\n      <td>1</td>\n      <td>3</td>\n      <td>1</td>\n      <td>1.0</td>\n      <td>10.0</td>\n      <td>4.0</td>\n      <td>1.0</td>\n      <td>2.0</td>\n    </tr>\n    <tr>\n      <th>3</th>\n      <td>1.0</td>\n      <td>6.0</td>\n      <td>6.0</td>\n      <td>4.0</td>\n      <td>0.0</td>\n      <td>4.0</td>\n      <td>10</td>\n      <td>0</td>\n      <td>0</td>\n      <td>6</td>\n      <td>...</td>\n      <td>7</td>\n      <td>1</td>\n      <td>4</td>\n      <td>5</td>\n      <td>3</td>\n      <td>3.0</td>\n      <td>5.0</td>\n      <td>1.0</td>\n      <td>4.0</td>\n      <td>11.0</td>\n    </tr>\n    <tr>\n      <th>4</th>\n      <td>1.0</td>\n      <td>9.0</td>\n      <td>9.0</td>\n      <td>53.0</td>\n      <td>0.0</td>\n      <td>44.0</td>\n      <td>10</td>\n      <td>0</td>\n      <td>7</td>\n      <td>0</td>\n      <td>...</td>\n      <td>4</td>\n      <td>5</td>\n      <td>4</td>\n      <td>6</td>\n      <td>2</td>\n      <td>2.0</td>\n      <td>4.0</td>\n      <td>0.0</td>\n      <td>4.0</td>\n      <td>1.0</td>\n    </tr>\n  </tbody>\n</table>\n<p>5 rows × 62 columns</p>\n</div>"
     },
     "metadata": {},
     "execution_count": 647
    }
   ],
   "source": [
    "X_train.head()"
   ]
  },
  {
   "cell_type": "code",
   "execution_count": 648,
   "metadata": {},
   "outputs": [],
   "source": [
    "# Retraining the standard scalar with the new data\n",
    "scalar = StandardScaler()\n",
    "scalar.fit(X_train)\n",
    "features_scaled = scalar.transform(X_train)"
   ]
  },
  {
   "cell_type": "code",
   "execution_count": 649,
   "metadata": {},
   "outputs": [
    {
     "output_type": "execute_result",
     "data": {
      "text/plain": "   AKT_DAT_KL  ALTER_HH  ALTERSKATEGORIE_FEIN  ANZ_HAUSHALTE_AKTIV  \\\n0   -0.062632 -0.065451              0.035432             0.690624   \n1    1.562578  0.653960              0.897786            -0.307298   \n2   -0.062632  0.078431             -0.137039            -0.378579   \n3   -0.062632 -0.353215             -0.309510            -0.093458   \n4   -0.062632  0.078431              0.207903             3.399269   \n\n   ANZ_KINDER  ANZ_STATISTISCHE_HAUSHALTE  D19_BANKEN_ONLINE_DATUM  \\\n0    0.162072                    0.606244                 0.309102   \n1    0.162072                   -0.298460                 0.309102   \n2    0.162072                   -0.298460                -1.897182   \n3    0.162072                   -0.072284                 0.309102   \n4    0.162072                    2.943396                 0.309102   \n\n   D19_BANKEN_REST  D19_BILDUNG  D19_BUCH_CD  ...  SEMIO_ERL  SEMIO_KULT  \\\n0        -0.265409    -0.455670    -0.890460  ...   1.032410   -1.301808   \n1        -0.265409    -0.455670    -0.890460  ...   0.484453   -0.100135   \n2         3.263468    -0.455670    -0.890460  ...  -1.159419    0.500702   \n3        -0.265409    -0.455670     1.224043  ...   1.032410   -1.301808   \n4        -0.265409     2.680082    -0.890460  ...  -0.611462    1.101539   \n\n   SEMIO_PFLICHT  SEMIO_SOZ  SEMIO_TRADV  UMFELD_ALT  VERDICHTUNGSRAUM  \\\n0      -0.220122   0.819551    -1.333690   -0.079884          0.068894   \n1       1.053277  -1.564344     0.160176   -0.079884         -0.435724   \n2      -1.493521  -0.372397    -1.333690   -0.605780          0.825822   \n3       0.416577   0.819551     0.160176    0.446011          0.195049   \n4       0.416577   1.415524    -0.586757   -0.079884          0.068894   \n\n        VHA       VHN   VK_ZG11  \n0  0.128704  0.165672 -0.511335  \n1  0.128704  0.756098 -0.511335  \n2  1.973681 -0.424755 -0.151387  \n3  0.128704  1.346524  3.088141  \n4 -0.486288  1.346524 -0.511335  \n\n[5 rows x 62 columns]",
      "text/html": "<div>\n<style scoped>\n    .dataframe tbody tr th:only-of-type {\n        vertical-align: middle;\n    }\n\n    .dataframe tbody tr th {\n        vertical-align: top;\n    }\n\n    .dataframe thead th {\n        text-align: right;\n    }\n</style>\n<table border=\"1\" class=\"dataframe\">\n  <thead>\n    <tr style=\"text-align: right;\">\n      <th></th>\n      <th>AKT_DAT_KL</th>\n      <th>ALTER_HH</th>\n      <th>ALTERSKATEGORIE_FEIN</th>\n      <th>ANZ_HAUSHALTE_AKTIV</th>\n      <th>ANZ_KINDER</th>\n      <th>ANZ_STATISTISCHE_HAUSHALTE</th>\n      <th>D19_BANKEN_ONLINE_DATUM</th>\n      <th>D19_BANKEN_REST</th>\n      <th>D19_BILDUNG</th>\n      <th>D19_BUCH_CD</th>\n      <th>...</th>\n      <th>SEMIO_ERL</th>\n      <th>SEMIO_KULT</th>\n      <th>SEMIO_PFLICHT</th>\n      <th>SEMIO_SOZ</th>\n      <th>SEMIO_TRADV</th>\n      <th>UMFELD_ALT</th>\n      <th>VERDICHTUNGSRAUM</th>\n      <th>VHA</th>\n      <th>VHN</th>\n      <th>VK_ZG11</th>\n    </tr>\n  </thead>\n  <tbody>\n    <tr>\n      <th>0</th>\n      <td>-0.062632</td>\n      <td>-0.065451</td>\n      <td>0.035432</td>\n      <td>0.690624</td>\n      <td>0.162072</td>\n      <td>0.606244</td>\n      <td>0.309102</td>\n      <td>-0.265409</td>\n      <td>-0.455670</td>\n      <td>-0.890460</td>\n      <td>...</td>\n      <td>1.032410</td>\n      <td>-1.301808</td>\n      <td>-0.220122</td>\n      <td>0.819551</td>\n      <td>-1.333690</td>\n      <td>-0.079884</td>\n      <td>0.068894</td>\n      <td>0.128704</td>\n      <td>0.165672</td>\n      <td>-0.511335</td>\n    </tr>\n    <tr>\n      <th>1</th>\n      <td>1.562578</td>\n      <td>0.653960</td>\n      <td>0.897786</td>\n      <td>-0.307298</td>\n      <td>0.162072</td>\n      <td>-0.298460</td>\n      <td>0.309102</td>\n      <td>-0.265409</td>\n      <td>-0.455670</td>\n      <td>-0.890460</td>\n      <td>...</td>\n      <td>0.484453</td>\n      <td>-0.100135</td>\n      <td>1.053277</td>\n      <td>-1.564344</td>\n      <td>0.160176</td>\n      <td>-0.079884</td>\n      <td>-0.435724</td>\n      <td>0.128704</td>\n      <td>0.756098</td>\n      <td>-0.511335</td>\n    </tr>\n    <tr>\n      <th>2</th>\n      <td>-0.062632</td>\n      <td>0.078431</td>\n      <td>-0.137039</td>\n      <td>-0.378579</td>\n      <td>0.162072</td>\n      <td>-0.298460</td>\n      <td>-1.897182</td>\n      <td>3.263468</td>\n      <td>-0.455670</td>\n      <td>-0.890460</td>\n      <td>...</td>\n      <td>-1.159419</td>\n      <td>0.500702</td>\n      <td>-1.493521</td>\n      <td>-0.372397</td>\n      <td>-1.333690</td>\n      <td>-0.605780</td>\n      <td>0.825822</td>\n      <td>1.973681</td>\n      <td>-0.424755</td>\n      <td>-0.151387</td>\n    </tr>\n    <tr>\n      <th>3</th>\n      <td>-0.062632</td>\n      <td>-0.353215</td>\n      <td>-0.309510</td>\n      <td>-0.093458</td>\n      <td>0.162072</td>\n      <td>-0.072284</td>\n      <td>0.309102</td>\n      <td>-0.265409</td>\n      <td>-0.455670</td>\n      <td>1.224043</td>\n      <td>...</td>\n      <td>1.032410</td>\n      <td>-1.301808</td>\n      <td>0.416577</td>\n      <td>0.819551</td>\n      <td>0.160176</td>\n      <td>0.446011</td>\n      <td>0.195049</td>\n      <td>0.128704</td>\n      <td>1.346524</td>\n      <td>3.088141</td>\n    </tr>\n    <tr>\n      <th>4</th>\n      <td>-0.062632</td>\n      <td>0.078431</td>\n      <td>0.207903</td>\n      <td>3.399269</td>\n      <td>0.162072</td>\n      <td>2.943396</td>\n      <td>0.309102</td>\n      <td>-0.265409</td>\n      <td>2.680082</td>\n      <td>-0.890460</td>\n      <td>...</td>\n      <td>-0.611462</td>\n      <td>1.101539</td>\n      <td>0.416577</td>\n      <td>1.415524</td>\n      <td>-0.586757</td>\n      <td>-0.079884</td>\n      <td>0.068894</td>\n      <td>-0.486288</td>\n      <td>1.346524</td>\n      <td>-0.511335</td>\n    </tr>\n  </tbody>\n</table>\n<p>5 rows × 62 columns</p>\n</div>"
     },
     "metadata": {},
     "execution_count": 649
    }
   ],
   "source": [
    "# Changing the type of the scaled data to a pandas dataframe\n",
    "features_scaled = pd.DataFrame(features_scaled)\n",
    "features_scaled.columns = X_train.columns\n",
    "features_scaled.head()"
   ]
  },
  {
   "cell_type": "code",
   "execution_count": 650,
   "metadata": {
    "tags": [
     "outputPrepend"
    ]
   },
   "outputs": [
    {
     "output_type": "stream",
     "name": "stdout",
     "text": "re only used in language bindings but\n  passed down to XGBoost core.  Or some parameters are not used but slip through this\n  verification. Please open an issue if you find above cases.\n\n\n 22%|██▎       | 18/80 [02:44<08:39,  8.38s/trial, best loss: -0.777139301039691][17:23:45] WARNING: /Users/travis/build/dmlc/xgboost/src/learner.cc:480: \nParameters: { colsample_bytree, max_depth } might not be used.\n\n  This may not be accurate due to some parameters are only used in language bindings but\n  passed down to XGBoost core.  Or some parameters are not used but slip through this\n  verification. Please open an issue if you find above cases.\n\n\n 22%|██▎       | 18/80 [02:45<08:39,  8.38s/trial, best loss: -0.777139301039691][17:23:45] WARNING: /Users/travis/build/dmlc/xgboost/src/learner.cc:480: \nParameters: { colsample_bytree, max_depth } might not be used.\n\n  This may not be accurate due to some parameters are only used in language bindings but\n  passed down to XGBoost core.  Or some parameters are not used but slip through this\n  verification. Please open an issue if you find above cases.\n\n\n 22%|██▎       | 18/80 [02:45<08:39,  8.38s/trial, best loss: -0.777139301039691][17:23:46] WARNING: /Users/travis/build/dmlc/xgboost/src/learner.cc:480: \nParameters: { colsample_bytree, max_depth } might not be used.\n\n  This may not be accurate due to some parameters are only used in language bindings but\n  passed down to XGBoost core.  Or some parameters are not used but slip through this\n  verification. Please open an issue if you find above cases.\n\n\n 24%|██▍       | 19/80 [02:46<06:52,  6.77s/trial, best loss: -0.777139301039691][17:23:46] WARNING: /Users/travis/build/dmlc/xgboost/src/learner.cc:480: \nParameters: { colsample_bytree, max_depth } might not be used.\n\n  This may not be accurate due to some parameters are only used in language bindings but\n  passed down to XGBoost core.  Or some parameters are not used but slip through this\n  verification. Please open an issue if you find above cases.\n\n\n 24%|██▍       | 19/80 [02:47<06:52,  6.77s/trial, best loss: -0.777139301039691][17:23:47] WARNING: /Users/travis/build/dmlc/xgboost/src/learner.cc:480: \nParameters: { colsample_bytree, max_depth } might not be used.\n\n  This may not be accurate due to some parameters are only used in language bindings but\n  passed down to XGBoost core.  Or some parameters are not used but slip through this\n  verification. Please open an issue if you find above cases.\n\n\n 24%|██▍       | 19/80 [02:47<06:52,  6.77s/trial, best loss: -0.777139301039691][17:23:48] WARNING: /Users/travis/build/dmlc/xgboost/src/learner.cc:480: \nParameters: { colsample_bytree, max_depth } might not be used.\n\n  This may not be accurate due to some parameters are only used in language bindings but\n  passed down to XGBoost core.  Or some parameters are not used but slip through this\n  verification. Please open an issue if you find above cases.\n\n\n 24%|██▍       | 19/80 [02:48<06:52,  6.77s/trial, best loss: -0.777139301039691][17:23:48] WARNING: /Users/travis/build/dmlc/xgboost/src/learner.cc:480: \nParameters: { colsample_bytree, max_depth } might not be used.\n\n  This may not be accurate due to some parameters are only used in language bindings but\n  passed down to XGBoost core.  Or some parameters are not used but slip through this\n  verification. Please open an issue if you find above cases.\n\n\n 24%|██▍       | 19/80 [02:48<06:52,  6.77s/trial, best loss: -0.777139301039691][17:23:49] WARNING: /Users/travis/build/dmlc/xgboost/src/learner.cc:480: \nParameters: { colsample_bytree, max_depth } might not be used.\n\n  This may not be accurate due to some parameters are only used in language bindings but\n  passed down to XGBoost core.  Or some parameters are not used but slip through this\n  verification. Please open an issue if you find above cases.\n\n\n 50%|█████     | 40/80 [09:41<16:05, 24.13s/trial, best loss: -0.7790926952492375][17:30:41] WARNING: /Users/travis/build/dmlc/xgboost/src/learner.cc:480: \nParameters: { colsample_bytree, max_depth } might not be used.\n\n  This may not be accurate due to some parameters are only used in language bindings but\n  passed down to XGBoost core.  Or some parameters are not used but slip through this\n  verification. Please open an issue if you find above cases.\n\n\n 50%|█████     | 40/80 [09:41<16:05, 24.13s/trial, best loss: -0.7790926952492375][17:30:41] WARNING: /Users/travis/build/dmlc/xgboost/src/learner.cc:480: \nParameters: { colsample_bytree, max_depth } might not be used.\n\n  This may not be accurate due to some parameters are only used in language bindings but\n  passed down to XGBoost core.  Or some parameters are not used but slip through this\n  verification. Please open an issue if you find above cases.\n\n\n 50%|█████     | 40/80 [09:41<16:05, 24.13s/trial, best loss: -0.7790926952492375][17:30:42] WARNING: /Users/travis/build/dmlc/xgboost/src/learner.cc:480: \nParameters: { colsample_bytree, max_depth } might not be used.\n\n  This may not be accurate due to some parameters are only used in language bindings but\n  passed down to XGBoost core.  Or some parameters are not used but slip through this\n  verification. Please open an issue if you find above cases.\n\n\n 50%|█████     | 40/80 [09:42<16:05, 24.13s/trial, best loss: -0.7790926952492375][17:30:43] WARNING: /Users/travis/build/dmlc/xgboost/src/learner.cc:480: \nParameters: { colsample_bytree, max_depth } might not be used.\n\n  This may not be accurate due to some parameters are only used in language bindings but\n  passed down to XGBoost core.  Or some parameters are not used but slip through this\n  verification. Please open an issue if you find above cases.\n\n\n 50%|█████     | 40/80 [09:43<16:05, 24.13s/trial, best loss: -0.7790926952492375][17:30:43] WARNING: /Users/travis/build/dmlc/xgboost/src/learner.cc:480: \nParameters: { colsample_bytree, max_depth } might not be used.\n\n  This may not be accurate due to some parameters are only used in language bindings but\n  passed down to XGBoost core.  Or some parameters are not used but slip through this\n  verification. Please open an issue if you find above cases.\n\n\n 55%|█████▌    | 44/80 [10:44<10:51, 18.08s/trial, best loss: -0.7790926952492375][17:31:44] WARNING: /Users/travis/build/dmlc/xgboost/src/learner.cc:480: \nParameters: { colsample_bytree, max_depth } might not be used.\n\n  This may not be accurate due to some parameters are only used in language bindings but\n  passed down to XGBoost core.  Or some parameters are not used but slip through this\n  verification. Please open an issue if you find above cases.\n\n\n 55%|█████▌    | 44/80 [10:44<10:51, 18.08s/trial, best loss: -0.7790926952492375][17:31:44] WARNING: /Users/travis/build/dmlc/xgboost/src/learner.cc:480: \nParameters: { colsample_bytree, max_depth } might not be used.\n\n  This may not be accurate due to some parameters are only used in language bindings but\n  passed down to XGBoost core.  Or some parameters are not used but slip through this\n  verification. Please open an issue if you find above cases.\n\n\n 55%|█████▌    | 44/80 [10:44<10:51, 18.08s/trial, best loss: -0.7790926952492375][17:31:45] WARNING: /Users/travis/build/dmlc/xgboost/src/learner.cc:480: \nParameters: { colsample_bytree, max_depth } might not be used.\n\n  This may not be accurate due to some parameters are only used in language bindings but\n  passed down to XGBoost core.  Or some parameters are not used but slip through this\n  verification. Please open an issue if you find above cases.\n\n\n 55%|█████▌    | 44/80 [10:45<10:51, 18.08s/trial, best loss: -0.7790926952492375][17:31:46] WARNING: /Users/travis/build/dmlc/xgboost/src/learner.cc:480: \nParameters: { colsample_bytree, max_depth } might not be used.\n\n  This may not be accurate due to some parameters are only used in language bindings but\n  passed down to XGBoost core.  Or some parameters are not used but slip through this\n  verification. Please open an issue if you find above cases.\n\n\n 55%|█████▌    | 44/80 [10:46<10:51, 18.08s/trial, best loss: -0.7790926952492375][17:31:46] WARNING: /Users/travis/build/dmlc/xgboost/src/learner.cc:480: \nParameters: { colsample_bytree, max_depth } might not be used.\n\n  This may not be accurate due to some parameters are only used in language bindings but\n  passed down to XGBoost core.  Or some parameters are not used but slip through this\n  verification. Please open an issue if you find above cases.\n\n\n 60%|██████    | 48/80 [11:25<06:55, 12.98s/trial, best loss: -0.7790926952492375][17:32:25] WARNING: /Users/travis/build/dmlc/xgboost/src/learner.cc:480: \nParameters: { colsample_bytree, max_depth } might not be used.\n\n  This may not be accurate due to some parameters are only used in language bindings but\n  passed down to XGBoost core.  Or some parameters are not used but slip through this\n  verification. Please open an issue if you find above cases.\n\n\n 60%|██████    | 48/80 [11:25<06:55, 12.98s/trial, best loss: -0.7790926952492375][17:32:26] WARNING: /Users/travis/build/dmlc/xgboost/src/learner.cc:480: \nParameters: { colsample_bytree, max_depth } might not be used.\n\n  This may not be accurate due to some parameters are only used in language bindings but\n  passed down to XGBoost core.  Or some parameters are not used but slip through this\n  verification. Please open an issue if you find above cases.\n\n\n 60%|██████    | 48/80 [11:26<06:55, 12.98s/trial, best loss: -0.7790926952492375][17:32:26] WARNING: /Users/travis/build/dmlc/xgboost/src/learner.cc:480: \nParameters: { colsample_bytree, max_depth } might not be used.\n\n  This may not be accurate due to some parameters are only used in language bindings but\n  passed down to XGBoost core.  Or some parameters are not used but slip through this\n  verification. Please open an issue if you find above cases.\n\n\n 60%|██████    | 48/80 [11:26<06:55, 12.98s/trial, best loss: -0.7790926952492375][17:32:27] WARNING: /Users/travis/build/dmlc/xgboost/src/learner.cc:480: \nParameters: { colsample_bytree, max_depth } might not be used.\n\n  This may not be accurate due to some parameters are only used in language bindings but\n  passed down to XGBoost core.  Or some parameters are not used but slip through this\n  verification. Please open an issue if you find above cases.\n\n\n 60%|██████    | 48/80 [11:27<06:55, 12.98s/trial, best loss: -0.7790926952492375][17:32:28] WARNING: /Users/travis/build/dmlc/xgboost/src/learner.cc:480: \nParameters: { colsample_bytree, max_depth } might not be used.\n\n  This may not be accurate due to some parameters are only used in language bindings but\n  passed down to XGBoost core.  Or some parameters are not used but slip through this\n  verification. Please open an issue if you find above cases.\n\n\n 64%|██████▍   | 51/80 [11:53<05:20, 11.04s/trial, best loss: -0.7790926952492375][17:32:53] WARNING: /Users/travis/build/dmlc/xgboost/src/learner.cc:480: \nParameters: { colsample_bytree, max_depth } might not be used.\n\n  This may not be accurate due to some parameters are only used in language bindings but\n  passed down to XGBoost core.  Or some parameters are not used but slip through this\n  verification. Please open an issue if you find above cases.\n\n\n 64%|██████▍   | 51/80 [11:53<05:20, 11.04s/trial, best loss: -0.7790926952492375][17:32:54] WARNING: /Users/travis/build/dmlc/xgboost/src/learner.cc:480: \nParameters: { colsample_bytree, max_depth } might not be used.\n\n  This may not be accurate due to some parameters are only used in language bindings but\n  passed down to XGBoost core.  Or some parameters are not used but slip through this\n  verification. Please open an issue if you find above cases.\n\n\n 64%|██████▍   | 51/80 [11:54<05:20, 11.04s/trial, best loss: -0.7790926952492375][17:32:54] WARNING: /Users/travis/build/dmlc/xgboost/src/learner.cc:480: \nParameters: { colsample_bytree, max_depth } might not be used.\n\n  This may not be accurate due to some parameters are only used in language bindings but\n  passed down to XGBoost core.  Or some parameters are not used but slip through this\n  verification. Please open an issue if you find above cases.\n\n\n 64%|██████▍   | 51/80 [11:54<05:20, 11.04s/trial, best loss: -0.7790926952492375][17:32:55] WARNING: /Users/travis/build/dmlc/xgboost/src/learner.cc:480: \nParameters: { colsample_bytree, max_depth } might not be used.\n\n  This may not be accurate due to some parameters are only used in language bindings but\n  passed down to XGBoost core.  Or some parameters are not used but slip through this\n  verification. Please open an issue if you find above cases.\n\n\n 64%|██████▍   | 51/80 [11:55<05:20, 11.04s/trial, best loss: -0.7790926952492375][17:32:56] WARNING: /Users/travis/build/dmlc/xgboost/src/learner.cc:480: \nParameters: { colsample_bytree, max_depth } might not be used.\n\n  This may not be accurate due to some parameters are only used in language bindings but\n  passed down to XGBoost core.  Or some parameters are not used but slip through this\n  verification. Please open an issue if you find above cases.\n\n\n 69%|██████▉   | 55/80 [12:54<06:19, 15.19s/trial, best loss: -0.7790926952492375][17:33:54] WARNING: /Users/travis/build/dmlc/xgboost/src/learner.cc:480: \nParameters: { colsample_bytree, max_depth } might not be used.\n\n  This may not be accurate due to some parameters are only used in language bindings but\n  passed down to XGBoost core.  Or some parameters are not used but slip through this\n  verification. Please open an issue if you find above cases.\n\n\n 69%|██████▉   | 55/80 [12:54<06:19, 15.19s/trial, best loss: -0.7790926952492375][17:33:54] WARNING: /Users/travis/build/dmlc/xgboost/src/learner.cc:480: \nParameters: { colsample_bytree, max_depth } might not be used.\n\n  This may not be accurate due to some parameters are only used in language bindings but\n  passed down to XGBoost core.  Or some parameters are not used but slip through this\n  verification. Please open an issue if you find above cases.\n\n\n 69%|██████▉   | 55/80 [12:55<06:19, 15.19s/trial, best loss: -0.7790926952492375][17:33:55] WARNING: /Users/travis/build/dmlc/xgboost/src/learner.cc:480: \nParameters: { colsample_bytree, max_depth } might not be used.\n\n  This may not be accurate due to some parameters are only used in language bindings but\n  passed down to XGBoost core.  Or some parameters are not used but slip through this\n  verification. Please open an issue if you find above cases.\n\n\n 69%|██████▉   | 55/80 [12:55<06:19, 15.19s/trial, best loss: -0.7790926952492375][17:33:56] WARNING: /Users/travis/build/dmlc/xgboost/src/learner.cc:480: \nParameters: { colsample_bytree, max_depth } might not be used.\n\n  This may not be accurate due to some parameters are only used in language bindings but\n  passed down to XGBoost core.  Or some parameters are not used but slip through this\n  verification. Please open an issue if you find above cases.\n\n\n 69%|██████▉   | 55/80 [12:56<06:19, 15.19s/trial, best loss: -0.7790926952492375][17:33:56] WARNING: /Users/travis/build/dmlc/xgboost/src/learner.cc:480: \nParameters: { colsample_bytree, max_depth } might not be used.\n\n  This may not be accurate due to some parameters are only used in language bindings but\n  passed down to XGBoost core.  Or some parameters are not used but slip through this\n  verification. Please open an issue if you find above cases.\n\n\n 75%|███████▌  | 60/80 [14:07<04:59, 14.98s/trial, best loss: -0.7790926952492375][17:35:07] WARNING: /Users/travis/build/dmlc/xgboost/src/learner.cc:480: \nParameters: { colsample_bytree, max_depth } might not be used.\n\n  This may not be accurate due to some parameters are only used in language bindings but\n  passed down to XGBoost core.  Or some parameters are not used but slip through this\n  verification. Please open an issue if you find above cases.\n\n\n 75%|███████▌  | 60/80 [14:07<04:59, 14.98s/trial, best loss: -0.7790926952492375][17:35:08] WARNING: /Users/travis/build/dmlc/xgboost/src/learner.cc:480: \nParameters: { colsample_bytree, max_depth } might not be used.\n\n  This may not be accurate due to some parameters are only used in language bindings but\n  passed down to XGBoost core.  Or some parameters are not used but slip through this\n  verification. Please open an issue if you find above cases.\n\n\n 75%|███████▌  | 60/80 [14:08<04:59, 14.98s/trial, best loss: -0.7790926952492375][17:35:08] WARNING: /Users/travis/build/dmlc/xgboost/src/learner.cc:480: \nParameters: { colsample_bytree, max_depth } might not be used.\n\n  This may not be accurate due to some parameters are only used in language bindings but\n  passed down to XGBoost core.  Or some parameters are not used but slip through this\n  verification. Please open an issue if you find above cases.\n\n\n 75%|███████▌  | 60/80 [14:08<04:59, 14.98s/trial, best loss: -0.7790926952492375][17:35:09] WARNING: /Users/travis/build/dmlc/xgboost/src/learner.cc:480: \nParameters: { colsample_bytree, max_depth } might not be used.\n\n  This may not be accurate due to some parameters are only used in language bindings but\n  passed down to XGBoost core.  Or some parameters are not used but slip through this\n  verification. Please open an issue if you find above cases.\n\n\n 75%|███████▌  | 60/80 [14:09<04:59, 14.98s/trial, best loss: -0.7790926952492375][17:35:09] WARNING: /Users/travis/build/dmlc/xgboost/src/learner.cc:480: \nParameters: { colsample_bytree, max_depth } might not be used.\n\n  This may not be accurate due to some parameters are only used in language bindings but\n  passed down to XGBoost core.  Or some parameters are not used but slip through this\n  verification. Please open an issue if you find above cases.\n\n\n 96%|█████████▋| 77/80 [18:20<00:49, 16.65s/trial, best loss: -0.7814105544111302][17:39:20] WARNING: /Users/travis/build/dmlc/xgboost/src/learner.cc:480: \nParameters: { colsample_bytree, max_depth } might not be used.\n\n  This may not be accurate due to some parameters are only used in language bindings but\n  passed down to XGBoost core.  Or some parameters are not used but slip through this\n  verification. Please open an issue if you find above cases.\n\n\n 96%|█████████▋| 77/80 [18:20<00:49, 16.65s/trial, best loss: -0.7814105544111302][17:39:20] WARNING: /Users/travis/build/dmlc/xgboost/src/learner.cc:480: \nParameters: { colsample_bytree, max_depth } might not be used.\n\n  This may not be accurate due to some parameters are only used in language bindings but\n  passed down to XGBoost core.  Or some parameters are not used but slip through this\n  verification. Please open an issue if you find above cases.\n\n\n 96%|█████████▋| 77/80 [18:21<00:49, 16.65s/trial, best loss: -0.7814105544111302][17:39:21] WARNING: /Users/travis/build/dmlc/xgboost/src/learner.cc:480: \nParameters: { colsample_bytree, max_depth } might not be used.\n\n  This may not be accurate due to some parameters are only used in language bindings but\n  passed down to XGBoost core.  Or some parameters are not used but slip through this\n  verification. Please open an issue if you find above cases.\n\n\n 96%|█████████▋| 77/80 [18:21<00:49, 16.65s/trial, best loss: -0.7814105544111302][17:39:22] WARNING: /Users/travis/build/dmlc/xgboost/src/learner.cc:480: \nParameters: { colsample_bytree, max_depth } might not be used.\n\n  This may not be accurate due to some parameters are only used in language bindings but\n  passed down to XGBoost core.  Or some parameters are not used but slip through this\n  verification. Please open an issue if you find above cases.\n\n\n 96%|█████████▋| 77/80 [18:22<00:49, 16.65s/trial, best loss: -0.7814105544111302][17:39:22] WARNING: /Users/travis/build/dmlc/xgboost/src/learner.cc:480: \nParameters: { colsample_bytree, max_depth } might not be used.\n\n  This may not be accurate due to some parameters are only used in language bindings but\n  passed down to XGBoost core.  Or some parameters are not used but slip through this\n  verification. Please open an issue if you find above cases.\n\n\n100%|██████████| 80/80 [18:46<00:00, 14.09s/trial, best loss: -0.7814105544111302]\n"
    }
   ],
   "source": [
    "# Performing Bayesian hyperparameter tuning with the new data\n",
    "# Creating the hyperparameter grid\n",
    "param_grid = {\n",
    "    'max_depth': pyll.scope.int(hp.quniform('max_depth', 3, 15, 1)),\n",
    "    'learning_rate': hp.loguniform('learning_rate', np.log(0.01), np.log(1)),\n",
    "    'booster': hp.choice('booster', ['gbtree', 'dart', 'gblinear']),\n",
    "    'colsample_bytree': hp.uniform('colsample_by_tree', 0.6, 1.0),\n",
    "    'reg_lambda': hp.uniform('reg_lambda', 0.0, 1.0),\n",
    "}\n",
    "\n",
    "# The objective function that will be minimized by the hyperparameter optimization\n",
    "def objective_function(params):\n",
    "  clf = XGBClassifier(**params)\n",
    "  score = cross_val_score(clf, features_scaled, y_train, scoring='roc_auc', cv=5).mean()\n",
    "  return {'loss': -score, 'status': STATUS_OK}\n",
    "\n",
    "trials = Trials()\n",
    "\n",
    "# Performing Bayesian Optimization and getting the best hyperparameter values\n",
    "best_param_auc = fmin(objective_function,\n",
    "                  param_grid, \n",
    "                  algo=tpe.suggest, \n",
    "                  max_evals=80, \n",
    "                  trials=trials)"
   ]
  },
  {
   "cell_type": "code",
   "execution_count": 654,
   "metadata": {
    "tags": []
   },
   "outputs": [
    {
     "output_type": "stream",
     "name": "stdout",
     "text": "{'booster': 1, 'colsample_by_tree': 0.6107022200963952, 'learning_rate': 0.0671955731189981, 'max_depth': 3.0, 'reg_lambda': 0.309023245658252}\n"
    }
   ],
   "source": [
    "print(best_param_auc)"
   ]
  },
  {
   "cell_type": "code",
   "execution_count": 655,
   "metadata": {},
   "outputs": [],
   "source": [
    "# Training an XGBoost model with the tuned hyperparameters\n",
    "xgb_classifier_opt_auc = XGBClassifier(\n",
    "    booster='dart',\n",
    "    colsample_by_tree=best_param_auc[\"colsample_by_tree\"],\n",
    "    learning_rate=best_param_auc[\"learning_rate\"],\n",
    "    max_depth=int(best_param_auc[\"max_depth\"]),\n",
    "    reg_lambda=best_param_auc[\"reg_lambda\"]\n",
    ")"
   ]
  },
  {
   "cell_type": "code",
   "execution_count": 656,
   "metadata": {
    "tags": []
   },
   "outputs": [
    {
     "output_type": "stream",
     "name": "stdout",
     "text": "[17:45:19] WARNING: /Users/travis/build/dmlc/xgboost/src/learner.cc:480: \nParameters: { colsample_by_tree } might not be used.\n\n  This may not be accurate due to some parameters are only used in language bindings but\n  passed down to XGBoost core.  Or some parameters are not used but slip through this\n  verification. Please open an issue if you find above cases.\n\n\n"
    },
    {
     "output_type": "execute_result",
     "data": {
      "text/plain": "XGBClassifier(base_score=0.5, booster='dart',\n              colsample_by_tree=0.6107022200963952, colsample_bylevel=1,\n              colsample_bynode=1, colsample_bytree=1, gamma=0, gpu_id=-1,\n              importance_type='gain', interaction_constraints='',\n              learning_rate=0.0671955731189981, max_delta_step=0, max_depth=3,\n              min_child_weight=1, missing=nan, monotone_constraints='()',\n              n_estimators=100, n_jobs=0, num_parallel_tree=1, random_state=0,\n              reg_alpha=0, reg_lambda=0.309023245658252, scale_pos_weight=1,\n              subsample=1, tree_method='exact', validate_parameters=1,\n              verbosity=None)"
     },
     "metadata": {},
     "execution_count": 656
    }
   ],
   "source": [
    "xgb_classifier_opt_auc.fit(features_scaled, y_train)"
   ]
  },
  {
   "cell_type": "code",
   "execution_count": 657,
   "metadata": {},
   "outputs": [],
   "source": [
    "# Scaling the test data\n",
    "test_data_scaled = scalar.transform(X_test)"
   ]
  },
  {
   "cell_type": "code",
   "execution_count": 658,
   "metadata": {},
   "outputs": [],
   "source": [
    "# Turning the test data into an dataframe\n",
    "test_data_scaled = pd.DataFrame(test_data_scaled)\n",
    "test_data_scaled.columns = X_test.columns"
   ]
  },
  {
   "cell_type": "code",
   "execution_count": 659,
   "metadata": {},
   "outputs": [],
   "source": [
    "# Getting predictions for the test data\n",
    "predictions = xgb_classifier_opt_auc.predict_proba(test_data_scaled)"
   ]
  },
  {
   "cell_type": "code",
   "execution_count": 660,
   "metadata": {},
   "outputs": [
    {
     "output_type": "execute_result",
     "data": {
      "text/plain": "42833"
     },
     "metadata": {},
     "execution_count": 660
    }
   ],
   "source": [
    "# Making sure that there are 42826 predictions\n",
    "len(predictions)"
   ]
  },
  {
   "cell_type": "code",
   "execution_count": 661,
   "metadata": {},
   "outputs": [
    {
     "output_type": "execute_result",
     "data": {
      "text/plain": "42833"
     },
     "metadata": {},
     "execution_count": 661
    }
   ],
   "source": [
    "len(test_data)"
   ]
  },
  {
   "cell_type": "code",
   "execution_count": 662,
   "metadata": {},
   "outputs": [
    {
     "output_type": "execute_result",
     "data": {
      "text/plain": "          0         1\n0  0.961821  0.038179\n1  0.970235  0.029765\n2  0.991451  0.008549\n3  0.995798  0.004202\n4  0.995829  0.004171",
      "text/html": "<div>\n<style scoped>\n    .dataframe tbody tr th:only-of-type {\n        vertical-align: middle;\n    }\n\n    .dataframe tbody tr th {\n        vertical-align: top;\n    }\n\n    .dataframe thead th {\n        text-align: right;\n    }\n</style>\n<table border=\"1\" class=\"dataframe\">\n  <thead>\n    <tr style=\"text-align: right;\">\n      <th></th>\n      <th>0</th>\n      <th>1</th>\n    </tr>\n  </thead>\n  <tbody>\n    <tr>\n      <th>0</th>\n      <td>0.961821</td>\n      <td>0.038179</td>\n    </tr>\n    <tr>\n      <th>1</th>\n      <td>0.970235</td>\n      <td>0.029765</td>\n    </tr>\n    <tr>\n      <th>2</th>\n      <td>0.991451</td>\n      <td>0.008549</td>\n    </tr>\n    <tr>\n      <th>3</th>\n      <td>0.995798</td>\n      <td>0.004202</td>\n    </tr>\n    <tr>\n      <th>4</th>\n      <td>0.995829</td>\n      <td>0.004171</td>\n    </tr>\n  </tbody>\n</table>\n</div>"
     },
     "metadata": {},
     "execution_count": 662
    }
   ],
   "source": [
    "predictions = pd.DataFrame(predictions)\n",
    "predictions.head()"
   ]
  },
  {
   "cell_type": "code",
   "execution_count": 663,
   "metadata": {},
   "outputs": [
    {
     "output_type": "execute_result",
     "data": {
      "text/plain": "array([0, 1])"
     },
     "metadata": {},
     "execution_count": 663
    }
   ],
   "source": [
    "xgb_classifier_opt_auc.classes_"
   ]
  },
  {
   "cell_type": "code",
   "execution_count": 664,
   "metadata": {},
   "outputs": [],
   "source": [
    "predictions.columns = [\"Negative\", \"Positive\"]"
   ]
  },
  {
   "cell_type": "code",
   "execution_count": 665,
   "metadata": {},
   "outputs": [],
   "source": [
    "test_data_orig = pd.read_csv(\"../population-segmentation-data/Udacity_MAILOUT_052018_TEST.csv\", sep=\";\")"
   ]
  },
  {
   "cell_type": "code",
   "execution_count": 666,
   "metadata": {},
   "outputs": [
    {
     "output_type": "execute_result",
     "data": {
      "text/plain": "    LNR  AGER_TYP  AKT_DAT_KL  ALTER_HH  ALTER_KIND1  ALTER_KIND2  \\\n0  1754         2         1.0       7.0          NaN          NaN   \n1  1770        -1         1.0       0.0          NaN          NaN   \n2  1465         2         9.0      16.0          NaN          NaN   \n3  1470        -1         7.0       0.0          NaN          NaN   \n4  1478         1         1.0      21.0          NaN          NaN   \n\n   ALTER_KIND3  ALTER_KIND4  ALTERSKATEGORIE_FEIN  ANZ_HAUSHALTE_AKTIV  ...  \\\n0          NaN          NaN                   6.0                  2.0  ...   \n1          NaN          NaN                   0.0                 20.0  ...   \n2          NaN          NaN                  11.0                  2.0  ...   \n3          NaN          NaN                   0.0                  1.0  ...   \n4          NaN          NaN                  13.0                  1.0  ...   \n\n   VHN  VK_DHT4A  VK_DISTANZ  VK_ZG11  W_KEIT_KIND_HH  WOHNDAUER_2008  \\\n0  4.0       5.0         6.0      3.0             6.0             9.0   \n1  1.0       5.0         2.0      1.0             6.0             9.0   \n2  3.0       9.0         6.0      3.0             2.0             9.0   \n3  2.0       6.0         6.0      3.0             NaN             9.0   \n4  1.0       2.0         4.0      3.0             3.0             9.0   \n\n   WOHNLAGE ZABEOTYP ANREDE_KZ ALTERSKATEGORIE_GROB  \n0       3.0        3         1                    4  \n1       5.0        3         1                    4  \n2       4.0        3         2                    4  \n3       2.0        3         2                    4  \n4       7.0        4         2                    4  \n\n[5 rows x 366 columns]",
      "text/html": "<div>\n<style scoped>\n    .dataframe tbody tr th:only-of-type {\n        vertical-align: middle;\n    }\n\n    .dataframe tbody tr th {\n        vertical-align: top;\n    }\n\n    .dataframe thead th {\n        text-align: right;\n    }\n</style>\n<table border=\"1\" class=\"dataframe\">\n  <thead>\n    <tr style=\"text-align: right;\">\n      <th></th>\n      <th>LNR</th>\n      <th>AGER_TYP</th>\n      <th>AKT_DAT_KL</th>\n      <th>ALTER_HH</th>\n      <th>ALTER_KIND1</th>\n      <th>ALTER_KIND2</th>\n      <th>ALTER_KIND3</th>\n      <th>ALTER_KIND4</th>\n      <th>ALTERSKATEGORIE_FEIN</th>\n      <th>ANZ_HAUSHALTE_AKTIV</th>\n      <th>...</th>\n      <th>VHN</th>\n      <th>VK_DHT4A</th>\n      <th>VK_DISTANZ</th>\n      <th>VK_ZG11</th>\n      <th>W_KEIT_KIND_HH</th>\n      <th>WOHNDAUER_2008</th>\n      <th>WOHNLAGE</th>\n      <th>ZABEOTYP</th>\n      <th>ANREDE_KZ</th>\n      <th>ALTERSKATEGORIE_GROB</th>\n    </tr>\n  </thead>\n  <tbody>\n    <tr>\n      <th>0</th>\n      <td>1754</td>\n      <td>2</td>\n      <td>1.0</td>\n      <td>7.0</td>\n      <td>NaN</td>\n      <td>NaN</td>\n      <td>NaN</td>\n      <td>NaN</td>\n      <td>6.0</td>\n      <td>2.0</td>\n      <td>...</td>\n      <td>4.0</td>\n      <td>5.0</td>\n      <td>6.0</td>\n      <td>3.0</td>\n      <td>6.0</td>\n      <td>9.0</td>\n      <td>3.0</td>\n      <td>3</td>\n      <td>1</td>\n      <td>4</td>\n    </tr>\n    <tr>\n      <th>1</th>\n      <td>1770</td>\n      <td>-1</td>\n      <td>1.0</td>\n      <td>0.0</td>\n      <td>NaN</td>\n      <td>NaN</td>\n      <td>NaN</td>\n      <td>NaN</td>\n      <td>0.0</td>\n      <td>20.0</td>\n      <td>...</td>\n      <td>1.0</td>\n      <td>5.0</td>\n      <td>2.0</td>\n      <td>1.0</td>\n      <td>6.0</td>\n      <td>9.0</td>\n      <td>5.0</td>\n      <td>3</td>\n      <td>1</td>\n      <td>4</td>\n    </tr>\n    <tr>\n      <th>2</th>\n      <td>1465</td>\n      <td>2</td>\n      <td>9.0</td>\n      <td>16.0</td>\n      <td>NaN</td>\n      <td>NaN</td>\n      <td>NaN</td>\n      <td>NaN</td>\n      <td>11.0</td>\n      <td>2.0</td>\n      <td>...</td>\n      <td>3.0</td>\n      <td>9.0</td>\n      <td>6.0</td>\n      <td>3.0</td>\n      <td>2.0</td>\n      <td>9.0</td>\n      <td>4.0</td>\n      <td>3</td>\n      <td>2</td>\n      <td>4</td>\n    </tr>\n    <tr>\n      <th>3</th>\n      <td>1470</td>\n      <td>-1</td>\n      <td>7.0</td>\n      <td>0.0</td>\n      <td>NaN</td>\n      <td>NaN</td>\n      <td>NaN</td>\n      <td>NaN</td>\n      <td>0.0</td>\n      <td>1.0</td>\n      <td>...</td>\n      <td>2.0</td>\n      <td>6.0</td>\n      <td>6.0</td>\n      <td>3.0</td>\n      <td>NaN</td>\n      <td>9.0</td>\n      <td>2.0</td>\n      <td>3</td>\n      <td>2</td>\n      <td>4</td>\n    </tr>\n    <tr>\n      <th>4</th>\n      <td>1478</td>\n      <td>1</td>\n      <td>1.0</td>\n      <td>21.0</td>\n      <td>NaN</td>\n      <td>NaN</td>\n      <td>NaN</td>\n      <td>NaN</td>\n      <td>13.0</td>\n      <td>1.0</td>\n      <td>...</td>\n      <td>1.0</td>\n      <td>2.0</td>\n      <td>4.0</td>\n      <td>3.0</td>\n      <td>3.0</td>\n      <td>9.0</td>\n      <td>7.0</td>\n      <td>4</td>\n      <td>2</td>\n      <td>4</td>\n    </tr>\n  </tbody>\n</table>\n<p>5 rows × 366 columns</p>\n</div>"
     },
     "metadata": {},
     "execution_count": 666
    }
   ],
   "source": [
    "test_data_orig.head()"
   ]
  },
  {
   "cell_type": "code",
   "execution_count": 667,
   "metadata": {},
   "outputs": [
    {
     "output_type": "execute_result",
     "data": {
      "text/plain": "(42833, 366)"
     },
     "metadata": {},
     "execution_count": 667
    }
   ],
   "source": [
    "test_data_orig.shape"
   ]
  },
  {
   "cell_type": "code",
   "execution_count": 668,
   "metadata": {},
   "outputs": [],
   "source": [
    "# Getting the LNR from the original test data\n",
    "LNR = test_data_orig[\"LNR\"]"
   ]
  },
  {
   "cell_type": "code",
   "execution_count": 669,
   "metadata": {
    "tags": []
   },
   "outputs": [
    {
     "output_type": "stream",
     "name": "stdout",
     "text": "0    1754\n1    1770\n2    1465\n3    1470\n4    1478\n5    1782\n6    1485\n7    1519\n8    1835\n9    1522\nName: LNR, dtype: int64\n"
    }
   ],
   "source": [
    "print(LNR[:10])"
   ]
  },
  {
   "cell_type": "code",
   "execution_count": 670,
   "metadata": {},
   "outputs": [],
   "source": [
    "# Creating a dataframe that contains the LNR and predictions\n",
    "submission_df = pd.DataFrame({'LNR': LNR, 'RESPONSE': predictions[\"Positive\"]})"
   ]
  },
  {
   "cell_type": "code",
   "execution_count": 671,
   "metadata": {},
   "outputs": [
    {
     "output_type": "execute_result",
     "data": {
      "text/plain": "0"
     },
     "metadata": {},
     "execution_count": 671
    }
   ],
   "source": [
    "len(submission_df[submission_df[\"RESPONSE\"]==1])"
   ]
  },
  {
   "cell_type": "code",
   "execution_count": 672,
   "metadata": {},
   "outputs": [],
   "source": [
    "submission_df.to_csv('/Users/mani/Desktop/results.csv')"
   ]
  },
  {
   "cell_type": "code",
   "execution_count": 674,
   "metadata": {},
   "outputs": [
    {
     "output_type": "execute_result",
     "data": {
      "text/plain": "   AKT_DAT_KL  ALTER_HH  ALTERSKATEGORIE_FEIN  ANZ_HAUSHALTE_AKTIV  \\\n0   -0.062632 -0.065451              0.035432             0.690624   \n1    1.562578  0.653960              0.897786            -0.307298   \n2   -0.062632  0.078431             -0.137039            -0.378579   \n3   -0.062632 -0.353215             -0.309510            -0.093458   \n4   -0.062632  0.078431              0.207903             3.399269   \n\n   ANZ_KINDER  ANZ_STATISTISCHE_HAUSHALTE  D19_BANKEN_ONLINE_DATUM  \\\n0    0.162072                    0.606244                 0.309102   \n1    0.162072                   -0.298460                 0.309102   \n2    0.162072                   -0.298460                -1.897182   \n3    0.162072                   -0.072284                 0.309102   \n4    0.162072                    2.943396                 0.309102   \n\n   D19_BANKEN_REST  D19_BILDUNG  D19_BUCH_CD  ...  SEMIO_ERL  SEMIO_KULT  \\\n0        -0.265409    -0.455670    -0.890460  ...   1.032410   -1.301808   \n1        -0.265409    -0.455670    -0.890460  ...   0.484453   -0.100135   \n2         3.263468    -0.455670    -0.890460  ...  -1.159419    0.500702   \n3        -0.265409    -0.455670     1.224043  ...   1.032410   -1.301808   \n4        -0.265409     2.680082    -0.890460  ...  -0.611462    1.101539   \n\n   SEMIO_PFLICHT  SEMIO_SOZ  SEMIO_TRADV  UMFELD_ALT  VERDICHTUNGSRAUM  \\\n0      -0.220122   0.819551    -1.333690   -0.079884          0.068894   \n1       1.053277  -1.564344     0.160176   -0.079884         -0.435724   \n2      -1.493521  -0.372397    -1.333690   -0.605780          0.825822   \n3       0.416577   0.819551     0.160176    0.446011          0.195049   \n4       0.416577   1.415524    -0.586757   -0.079884          0.068894   \n\n        VHA       VHN   VK_ZG11  \n0  0.128704  0.165672 -0.511335  \n1  0.128704  0.756098 -0.511335  \n2  1.973681 -0.424755 -0.151387  \n3  0.128704  1.346524  3.088141  \n4 -0.486288  1.346524 -0.511335  \n\n[5 rows x 62 columns]",
      "text/html": "<div>\n<style scoped>\n    .dataframe tbody tr th:only-of-type {\n        vertical-align: middle;\n    }\n\n    .dataframe tbody tr th {\n        vertical-align: top;\n    }\n\n    .dataframe thead th {\n        text-align: right;\n    }\n</style>\n<table border=\"1\" class=\"dataframe\">\n  <thead>\n    <tr style=\"text-align: right;\">\n      <th></th>\n      <th>AKT_DAT_KL</th>\n      <th>ALTER_HH</th>\n      <th>ALTERSKATEGORIE_FEIN</th>\n      <th>ANZ_HAUSHALTE_AKTIV</th>\n      <th>ANZ_KINDER</th>\n      <th>ANZ_STATISTISCHE_HAUSHALTE</th>\n      <th>D19_BANKEN_ONLINE_DATUM</th>\n      <th>D19_BANKEN_REST</th>\n      <th>D19_BILDUNG</th>\n      <th>D19_BUCH_CD</th>\n      <th>...</th>\n      <th>SEMIO_ERL</th>\n      <th>SEMIO_KULT</th>\n      <th>SEMIO_PFLICHT</th>\n      <th>SEMIO_SOZ</th>\n      <th>SEMIO_TRADV</th>\n      <th>UMFELD_ALT</th>\n      <th>VERDICHTUNGSRAUM</th>\n      <th>VHA</th>\n      <th>VHN</th>\n      <th>VK_ZG11</th>\n    </tr>\n  </thead>\n  <tbody>\n    <tr>\n      <th>0</th>\n      <td>-0.062632</td>\n      <td>-0.065451</td>\n      <td>0.035432</td>\n      <td>0.690624</td>\n      <td>0.162072</td>\n      <td>0.606244</td>\n      <td>0.309102</td>\n      <td>-0.265409</td>\n      <td>-0.455670</td>\n      <td>-0.890460</td>\n      <td>...</td>\n      <td>1.032410</td>\n      <td>-1.301808</td>\n      <td>-0.220122</td>\n      <td>0.819551</td>\n      <td>-1.333690</td>\n      <td>-0.079884</td>\n      <td>0.068894</td>\n      <td>0.128704</td>\n      <td>0.165672</td>\n      <td>-0.511335</td>\n    </tr>\n    <tr>\n      <th>1</th>\n      <td>1.562578</td>\n      <td>0.653960</td>\n      <td>0.897786</td>\n      <td>-0.307298</td>\n      <td>0.162072</td>\n      <td>-0.298460</td>\n      <td>0.309102</td>\n      <td>-0.265409</td>\n      <td>-0.455670</td>\n      <td>-0.890460</td>\n      <td>...</td>\n      <td>0.484453</td>\n      <td>-0.100135</td>\n      <td>1.053277</td>\n      <td>-1.564344</td>\n      <td>0.160176</td>\n      <td>-0.079884</td>\n      <td>-0.435724</td>\n      <td>0.128704</td>\n      <td>0.756098</td>\n      <td>-0.511335</td>\n    </tr>\n    <tr>\n      <th>2</th>\n      <td>-0.062632</td>\n      <td>0.078431</td>\n      <td>-0.137039</td>\n      <td>-0.378579</td>\n      <td>0.162072</td>\n      <td>-0.298460</td>\n      <td>-1.897182</td>\n      <td>3.263468</td>\n      <td>-0.455670</td>\n      <td>-0.890460</td>\n      <td>...</td>\n      <td>-1.159419</td>\n      <td>0.500702</td>\n      <td>-1.493521</td>\n      <td>-0.372397</td>\n      <td>-1.333690</td>\n      <td>-0.605780</td>\n      <td>0.825822</td>\n      <td>1.973681</td>\n      <td>-0.424755</td>\n      <td>-0.151387</td>\n    </tr>\n    <tr>\n      <th>3</th>\n      <td>-0.062632</td>\n      <td>-0.353215</td>\n      <td>-0.309510</td>\n      <td>-0.093458</td>\n      <td>0.162072</td>\n      <td>-0.072284</td>\n      <td>0.309102</td>\n      <td>-0.265409</td>\n      <td>-0.455670</td>\n      <td>1.224043</td>\n      <td>...</td>\n      <td>1.032410</td>\n      <td>-1.301808</td>\n      <td>0.416577</td>\n      <td>0.819551</td>\n      <td>0.160176</td>\n      <td>0.446011</td>\n      <td>0.195049</td>\n      <td>0.128704</td>\n      <td>1.346524</td>\n      <td>3.088141</td>\n    </tr>\n    <tr>\n      <th>4</th>\n      <td>-0.062632</td>\n      <td>0.078431</td>\n      <td>0.207903</td>\n      <td>3.399269</td>\n      <td>0.162072</td>\n      <td>2.943396</td>\n      <td>0.309102</td>\n      <td>-0.265409</td>\n      <td>2.680082</td>\n      <td>-0.890460</td>\n      <td>...</td>\n      <td>-0.611462</td>\n      <td>1.101539</td>\n      <td>0.416577</td>\n      <td>1.415524</td>\n      <td>-0.586757</td>\n      <td>-0.079884</td>\n      <td>0.068894</td>\n      <td>-0.486288</td>\n      <td>1.346524</td>\n      <td>-0.511335</td>\n    </tr>\n  </tbody>\n</table>\n<p>5 rows × 62 columns</p>\n</div>"
     },
     "metadata": {},
     "execution_count": 674
    }
   ],
   "source": [
    "features_scaled.head()"
   ]
  },
  {
   "cell_type": "code",
   "execution_count": null,
   "metadata": {},
   "outputs": [],
   "source": []
  }
 ],
 "metadata": {
  "kernelspec": {
   "display_name": "Python 3.7.6 64-bit ('base': conda)",
   "language": "python",
   "name": "python_defaultSpec_1594686282669"
  },
  "language_info": {
   "codemirror_mode": {
    "name": "ipython",
    "version": 3
   },
   "file_extension": ".py",
   "mimetype": "text/x-python",
   "name": "python",
   "nbconvert_exporter": "python",
   "pygments_lexer": "ipython3",
   "version": "3.7.6-final"
  }
 },
 "nbformat": 4,
 "nbformat_minor": 2
}