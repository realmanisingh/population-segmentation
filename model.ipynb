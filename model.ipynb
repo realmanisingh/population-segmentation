{
 "cells": [
  {
   "cell_type": "code",
   "execution_count": 2,
   "metadata": {},
   "outputs": [],
   "source": [
    "import pandas as pd\n",
    "import numpy as np\n",
    "import matplotlib.pyplot as plt\n",
    "import seaborn as sns\n",
    "import xgboost as xgb"
   ]
  },
  {
   "cell_type": "code",
   "execution_count": 3,
   "metadata": {},
   "outputs": [],
   "source": [
    "# Reading in the data\n",
    "general_data = pd.read_csv(\"../population-segmentation-data/general_data.csv\", sep=\";\")\n",
    "customer_data = pd.read_csv(\"../population-segmentation-data/customer_data.csv\", sep=\";\")\n",
    "train_data = pd.read_csv(\"../population-segmentation-data/train_data.csv\", sep=\";\")\n",
    "test_data = pd.read_csv(\"../population-segmentation-data/test_data.csv\", sep=\";\")"
   ]
  },
  {
   "cell_type": "code",
   "execution_count": 4,
   "metadata": {},
   "outputs": [
    {
     "data": {
      "text/html": [
       "<div>\n",
       "<style scoped>\n",
       "    .dataframe tbody tr th:only-of-type {\n",
       "        vertical-align: middle;\n",
       "    }\n",
       "\n",
       "    .dataframe tbody tr th {\n",
       "        vertical-align: top;\n",
       "    }\n",
       "\n",
       "    .dataframe thead th {\n",
       "        text-align: right;\n",
       "    }\n",
       "</style>\n",
       "<table border=\"1\" class=\"dataframe\">\n",
       "  <thead>\n",
       "    <tr style=\"text-align: right;\">\n",
       "      <th></th>\n",
       "      <th>Unnamed: 0</th>\n",
       "      <th>AGER_TYP</th>\n",
       "      <th>AKT_DAT_KL</th>\n",
       "      <th>ALTER_HH</th>\n",
       "      <th>ALTERSKATEGORIE_FEIN</th>\n",
       "      <th>ANZ_HAUSHALTE_AKTIV</th>\n",
       "      <th>ANZ_HH_TITEL</th>\n",
       "      <th>ANZ_KINDER</th>\n",
       "      <th>ANZ_PERSONEN</th>\n",
       "      <th>ANZ_STATISTISCHE_HAUSHALTE</th>\n",
       "      <th>...</th>\n",
       "      <th>VK_DHT4A</th>\n",
       "      <th>VK_DISTANZ</th>\n",
       "      <th>VK_ZG11</th>\n",
       "      <th>W_KEIT_KIND_HH</th>\n",
       "      <th>WOHNDAUER_2008</th>\n",
       "      <th>WOHNLAGE</th>\n",
       "      <th>ZABEOTYP</th>\n",
       "      <th>RESPONSE</th>\n",
       "      <th>ANREDE_KZ</th>\n",
       "      <th>ALTERSKATEGORIE_GROB</th>\n",
       "    </tr>\n",
       "  </thead>\n",
       "  <tbody>\n",
       "    <tr>\n",
       "      <th>0</th>\n",
       "      <td>0</td>\n",
       "      <td>2</td>\n",
       "      <td>1.0</td>\n",
       "      <td>8.0</td>\n",
       "      <td>8.0</td>\n",
       "      <td>15.0</td>\n",
       "      <td>0.0</td>\n",
       "      <td>0.0</td>\n",
       "      <td>1.0</td>\n",
       "      <td>13.0</td>\n",
       "      <td>...</td>\n",
       "      <td>5.0</td>\n",
       "      <td>2.0</td>\n",
       "      <td>1.0</td>\n",
       "      <td>6.0</td>\n",
       "      <td>9.0</td>\n",
       "      <td>3.0</td>\n",
       "      <td>3</td>\n",
       "      <td>0</td>\n",
       "      <td>2</td>\n",
       "      <td>4</td>\n",
       "    </tr>\n",
       "    <tr>\n",
       "      <th>1</th>\n",
       "      <td>1</td>\n",
       "      <td>1</td>\n",
       "      <td>4.0</td>\n",
       "      <td>13.0</td>\n",
       "      <td>13.0</td>\n",
       "      <td>1.0</td>\n",
       "      <td>0.0</td>\n",
       "      <td>0.0</td>\n",
       "      <td>2.0</td>\n",
       "      <td>1.0</td>\n",
       "      <td>...</td>\n",
       "      <td>1.0</td>\n",
       "      <td>2.0</td>\n",
       "      <td>1.0</td>\n",
       "      <td>4.0</td>\n",
       "      <td>9.0</td>\n",
       "      <td>7.0</td>\n",
       "      <td>1</td>\n",
       "      <td>0</td>\n",
       "      <td>2</td>\n",
       "      <td>3</td>\n",
       "    </tr>\n",
       "    <tr>\n",
       "      <th>2</th>\n",
       "      <td>2</td>\n",
       "      <td>1</td>\n",
       "      <td>1.0</td>\n",
       "      <td>9.0</td>\n",
       "      <td>7.0</td>\n",
       "      <td>0.0</td>\n",
       "      <td>-1.0</td>\n",
       "      <td>0.0</td>\n",
       "      <td>0.0</td>\n",
       "      <td>1.0</td>\n",
       "      <td>...</td>\n",
       "      <td>6.0</td>\n",
       "      <td>4.0</td>\n",
       "      <td>2.0</td>\n",
       "      <td>-1.0</td>\n",
       "      <td>9.0</td>\n",
       "      <td>2.0</td>\n",
       "      <td>3</td>\n",
       "      <td>0</td>\n",
       "      <td>1</td>\n",
       "      <td>4</td>\n",
       "    </tr>\n",
       "    <tr>\n",
       "      <th>3</th>\n",
       "      <td>3</td>\n",
       "      <td>2</td>\n",
       "      <td>1.0</td>\n",
       "      <td>6.0</td>\n",
       "      <td>6.0</td>\n",
       "      <td>4.0</td>\n",
       "      <td>0.0</td>\n",
       "      <td>0.0</td>\n",
       "      <td>2.0</td>\n",
       "      <td>4.0</td>\n",
       "      <td>...</td>\n",
       "      <td>8.0</td>\n",
       "      <td>11.0</td>\n",
       "      <td>11.0</td>\n",
       "      <td>6.0</td>\n",
       "      <td>9.0</td>\n",
       "      <td>1.0</td>\n",
       "      <td>3</td>\n",
       "      <td>0</td>\n",
       "      <td>2</td>\n",
       "      <td>4</td>\n",
       "    </tr>\n",
       "    <tr>\n",
       "      <th>4</th>\n",
       "      <td>4</td>\n",
       "      <td>2</td>\n",
       "      <td>1.0</td>\n",
       "      <td>9.0</td>\n",
       "      <td>9.0</td>\n",
       "      <td>53.0</td>\n",
       "      <td>0.0</td>\n",
       "      <td>0.0</td>\n",
       "      <td>1.0</td>\n",
       "      <td>44.0</td>\n",
       "      <td>...</td>\n",
       "      <td>2.0</td>\n",
       "      <td>2.0</td>\n",
       "      <td>1.0</td>\n",
       "      <td>6.0</td>\n",
       "      <td>9.0</td>\n",
       "      <td>3.0</td>\n",
       "      <td>3</td>\n",
       "      <td>0</td>\n",
       "      <td>1</td>\n",
       "      <td>3</td>\n",
       "    </tr>\n",
       "  </tbody>\n",
       "</table>\n",
       "<p>5 rows × 360 columns</p>\n",
       "</div>"
      ],
      "text/plain": [
       "   Unnamed: 0  AGER_TYP  AKT_DAT_KL  ALTER_HH  ALTERSKATEGORIE_FEIN  \\\n",
       "0           0         2         1.0       8.0                   8.0   \n",
       "1           1         1         4.0      13.0                  13.0   \n",
       "2           2         1         1.0       9.0                   7.0   \n",
       "3           3         2         1.0       6.0                   6.0   \n",
       "4           4         2         1.0       9.0                   9.0   \n",
       "\n",
       "   ANZ_HAUSHALTE_AKTIV  ANZ_HH_TITEL  ANZ_KINDER  ANZ_PERSONEN  \\\n",
       "0                 15.0           0.0         0.0           1.0   \n",
       "1                  1.0           0.0         0.0           2.0   \n",
       "2                  0.0          -1.0         0.0           0.0   \n",
       "3                  4.0           0.0         0.0           2.0   \n",
       "4                 53.0           0.0         0.0           1.0   \n",
       "\n",
       "   ANZ_STATISTISCHE_HAUSHALTE  ...  VK_DHT4A  VK_DISTANZ  VK_ZG11  \\\n",
       "0                        13.0  ...       5.0         2.0      1.0   \n",
       "1                         1.0  ...       1.0         2.0      1.0   \n",
       "2                         1.0  ...       6.0         4.0      2.0   \n",
       "3                         4.0  ...       8.0        11.0     11.0   \n",
       "4                        44.0  ...       2.0         2.0      1.0   \n",
       "\n",
       "   W_KEIT_KIND_HH  WOHNDAUER_2008  WOHNLAGE  ZABEOTYP  RESPONSE  ANREDE_KZ  \\\n",
       "0             6.0             9.0       3.0         3         0          2   \n",
       "1             4.0             9.0       7.0         1         0          2   \n",
       "2            -1.0             9.0       2.0         3         0          1   \n",
       "3             6.0             9.0       1.0         3         0          2   \n",
       "4             6.0             9.0       3.0         3         0          1   \n",
       "\n",
       "   ALTERSKATEGORIE_GROB  \n",
       "0                     4  \n",
       "1                     3  \n",
       "2                     4  \n",
       "3                     4  \n",
       "4                     3  \n",
       "\n",
       "[5 rows x 360 columns]"
      ]
     },
     "execution_count": 4,
     "metadata": {},
     "output_type": "execute_result"
    }
   ],
   "source": [
    "train_data.head()"
   ]
  },
  {
   "cell_type": "code",
   "execution_count": 5,
   "metadata": {},
   "outputs": [
    {
     "name": "stdout",
     "output_type": "stream",
     "text": [
      "Unnamed: 0\n"
     ]
    }
   ],
   "source": [
    "# Getting the name of the extra column\n",
    "extra_col = list(general_data.columns)[0]\n",
    "print(extra_col)\n",
    "\n",
    "# Removing the extra column in every dataframe since it is redundant\n",
    "general_data.drop(extra_col, axis=1, inplace=True)\n",
    "customer_data.drop(extra_col, axis=1, inplace=True)\n",
    "train_data.drop(extra_col, axis=1, inplace=True)\n",
    "test_data.drop(extra_col, axis=1, inplace=True)"
   ]
  },
  {
   "cell_type": "code",
   "execution_count": 6,
   "metadata": {},
   "outputs": [
    {
     "data": {
      "text/html": [
       "<div>\n",
       "<style scoped>\n",
       "    .dataframe tbody tr th:only-of-type {\n",
       "        vertical-align: middle;\n",
       "    }\n",
       "\n",
       "    .dataframe tbody tr th {\n",
       "        vertical-align: top;\n",
       "    }\n",
       "\n",
       "    .dataframe thead th {\n",
       "        text-align: right;\n",
       "    }\n",
       "</style>\n",
       "<table border=\"1\" class=\"dataframe\">\n",
       "  <thead>\n",
       "    <tr style=\"text-align: right;\">\n",
       "      <th></th>\n",
       "      <th>AGER_TYP</th>\n",
       "      <th>AKT_DAT_KL</th>\n",
       "      <th>ALTER_HH</th>\n",
       "      <th>ALTERSKATEGORIE_FEIN</th>\n",
       "      <th>ANZ_HAUSHALTE_AKTIV</th>\n",
       "      <th>ANZ_HH_TITEL</th>\n",
       "      <th>ANZ_KINDER</th>\n",
       "      <th>ANZ_PERSONEN</th>\n",
       "      <th>ANZ_STATISTISCHE_HAUSHALTE</th>\n",
       "      <th>ANZ_TITEL</th>\n",
       "      <th>...</th>\n",
       "      <th>VK_DHT4A</th>\n",
       "      <th>VK_DISTANZ</th>\n",
       "      <th>VK_ZG11</th>\n",
       "      <th>W_KEIT_KIND_HH</th>\n",
       "      <th>WOHNDAUER_2008</th>\n",
       "      <th>WOHNLAGE</th>\n",
       "      <th>ZABEOTYP</th>\n",
       "      <th>RESPONSE</th>\n",
       "      <th>ANREDE_KZ</th>\n",
       "      <th>ALTERSKATEGORIE_GROB</th>\n",
       "    </tr>\n",
       "  </thead>\n",
       "  <tbody>\n",
       "    <tr>\n",
       "      <th>0</th>\n",
       "      <td>2</td>\n",
       "      <td>1.0</td>\n",
       "      <td>8.0</td>\n",
       "      <td>8.0</td>\n",
       "      <td>15.0</td>\n",
       "      <td>0.0</td>\n",
       "      <td>0.0</td>\n",
       "      <td>1.0</td>\n",
       "      <td>13.0</td>\n",
       "      <td>0.0</td>\n",
       "      <td>...</td>\n",
       "      <td>5.0</td>\n",
       "      <td>2.0</td>\n",
       "      <td>1.0</td>\n",
       "      <td>6.0</td>\n",
       "      <td>9.0</td>\n",
       "      <td>3.0</td>\n",
       "      <td>3</td>\n",
       "      <td>0</td>\n",
       "      <td>2</td>\n",
       "      <td>4</td>\n",
       "    </tr>\n",
       "    <tr>\n",
       "      <th>1</th>\n",
       "      <td>1</td>\n",
       "      <td>4.0</td>\n",
       "      <td>13.0</td>\n",
       "      <td>13.0</td>\n",
       "      <td>1.0</td>\n",
       "      <td>0.0</td>\n",
       "      <td>0.0</td>\n",
       "      <td>2.0</td>\n",
       "      <td>1.0</td>\n",
       "      <td>0.0</td>\n",
       "      <td>...</td>\n",
       "      <td>1.0</td>\n",
       "      <td>2.0</td>\n",
       "      <td>1.0</td>\n",
       "      <td>4.0</td>\n",
       "      <td>9.0</td>\n",
       "      <td>7.0</td>\n",
       "      <td>1</td>\n",
       "      <td>0</td>\n",
       "      <td>2</td>\n",
       "      <td>3</td>\n",
       "    </tr>\n",
       "    <tr>\n",
       "      <th>2</th>\n",
       "      <td>1</td>\n",
       "      <td>1.0</td>\n",
       "      <td>9.0</td>\n",
       "      <td>7.0</td>\n",
       "      <td>0.0</td>\n",
       "      <td>-1.0</td>\n",
       "      <td>0.0</td>\n",
       "      <td>0.0</td>\n",
       "      <td>1.0</td>\n",
       "      <td>0.0</td>\n",
       "      <td>...</td>\n",
       "      <td>6.0</td>\n",
       "      <td>4.0</td>\n",
       "      <td>2.0</td>\n",
       "      <td>-1.0</td>\n",
       "      <td>9.0</td>\n",
       "      <td>2.0</td>\n",
       "      <td>3</td>\n",
       "      <td>0</td>\n",
       "      <td>1</td>\n",
       "      <td>4</td>\n",
       "    </tr>\n",
       "    <tr>\n",
       "      <th>3</th>\n",
       "      <td>2</td>\n",
       "      <td>1.0</td>\n",
       "      <td>6.0</td>\n",
       "      <td>6.0</td>\n",
       "      <td>4.0</td>\n",
       "      <td>0.0</td>\n",
       "      <td>0.0</td>\n",
       "      <td>2.0</td>\n",
       "      <td>4.0</td>\n",
       "      <td>0.0</td>\n",
       "      <td>...</td>\n",
       "      <td>8.0</td>\n",
       "      <td>11.0</td>\n",
       "      <td>11.0</td>\n",
       "      <td>6.0</td>\n",
       "      <td>9.0</td>\n",
       "      <td>1.0</td>\n",
       "      <td>3</td>\n",
       "      <td>0</td>\n",
       "      <td>2</td>\n",
       "      <td>4</td>\n",
       "    </tr>\n",
       "    <tr>\n",
       "      <th>4</th>\n",
       "      <td>2</td>\n",
       "      <td>1.0</td>\n",
       "      <td>9.0</td>\n",
       "      <td>9.0</td>\n",
       "      <td>53.0</td>\n",
       "      <td>0.0</td>\n",
       "      <td>0.0</td>\n",
       "      <td>1.0</td>\n",
       "      <td>44.0</td>\n",
       "      <td>0.0</td>\n",
       "      <td>...</td>\n",
       "      <td>2.0</td>\n",
       "      <td>2.0</td>\n",
       "      <td>1.0</td>\n",
       "      <td>6.0</td>\n",
       "      <td>9.0</td>\n",
       "      <td>3.0</td>\n",
       "      <td>3</td>\n",
       "      <td>0</td>\n",
       "      <td>1</td>\n",
       "      <td>3</td>\n",
       "    </tr>\n",
       "  </tbody>\n",
       "</table>\n",
       "<p>5 rows × 359 columns</p>\n",
       "</div>"
      ],
      "text/plain": [
       "   AGER_TYP  AKT_DAT_KL  ALTER_HH  ALTERSKATEGORIE_FEIN  ANZ_HAUSHALTE_AKTIV  \\\n",
       "0         2         1.0       8.0                   8.0                 15.0   \n",
       "1         1         4.0      13.0                  13.0                  1.0   \n",
       "2         1         1.0       9.0                   7.0                  0.0   \n",
       "3         2         1.0       6.0                   6.0                  4.0   \n",
       "4         2         1.0       9.0                   9.0                 53.0   \n",
       "\n",
       "   ANZ_HH_TITEL  ANZ_KINDER  ANZ_PERSONEN  ANZ_STATISTISCHE_HAUSHALTE  \\\n",
       "0           0.0         0.0           1.0                        13.0   \n",
       "1           0.0         0.0           2.0                         1.0   \n",
       "2          -1.0         0.0           0.0                         1.0   \n",
       "3           0.0         0.0           2.0                         4.0   \n",
       "4           0.0         0.0           1.0                        44.0   \n",
       "\n",
       "   ANZ_TITEL  ...  VK_DHT4A  VK_DISTANZ  VK_ZG11  W_KEIT_KIND_HH  \\\n",
       "0        0.0  ...       5.0         2.0      1.0             6.0   \n",
       "1        0.0  ...       1.0         2.0      1.0             4.0   \n",
       "2        0.0  ...       6.0         4.0      2.0            -1.0   \n",
       "3        0.0  ...       8.0        11.0     11.0             6.0   \n",
       "4        0.0  ...       2.0         2.0      1.0             6.0   \n",
       "\n",
       "   WOHNDAUER_2008  WOHNLAGE  ZABEOTYP  RESPONSE  ANREDE_KZ  \\\n",
       "0             9.0       3.0         3         0          2   \n",
       "1             9.0       7.0         1         0          2   \n",
       "2             9.0       2.0         3         0          1   \n",
       "3             9.0       1.0         3         0          2   \n",
       "4             9.0       3.0         3         0          1   \n",
       "\n",
       "   ALTERSKATEGORIE_GROB  \n",
       "0                     4  \n",
       "1                     3  \n",
       "2                     4  \n",
       "3                     4  \n",
       "4                     3  \n",
       "\n",
       "[5 rows x 359 columns]"
      ]
     },
     "execution_count": 6,
     "metadata": {},
     "output_type": "execute_result"
    }
   ],
   "source": [
    "train_data.head()"
   ]
  },
  {
   "cell_type": "code",
   "execution_count": 7,
   "metadata": {},
   "outputs": [
    {
     "data": {
      "text/plain": [
       "(array([42419.,     0.,     0.,     0.,     0.,     0.,     0.,     0.,\n",
       "            0.,   532.]),\n",
       " array([0. , 0.1, 0.2, 0.3, 0.4, 0.5, 0.6, 0.7, 0.8, 0.9, 1. ]),\n",
       " <a list of 10 Patch objects>)"
      ]
     },
     "execution_count": 7,
     "metadata": {},
     "output_type": "execute_result"
    },
    {
     "data": {
      "image/png": "[encoded data removed]",
      "text/plain": [
       "<Figure size 432x288 with 1 Axes>"
      ]
     },
     "metadata": {
      "needs_background": "light"
     },
     "output_type": "display_data"
    }
   ],
   "source": [
    "# Graphing the distribution of the RESPONSE variable for the training data\n",
    "plt.hist(train_data[\"RESPONSE\"])"
   ]
  },
  {
   "cell_type": "code",
   "execution_count": 8,
   "metadata": {},
   "outputs": [
    {
     "data": {
      "text/plain": [
       "0.01238620753882331"
      ]
     },
     "execution_count": 8,
     "metadata": {},
     "output_type": "execute_result"
    }
   ],
   "source": [
    "# Calculating the percentage of positive outcomes for the training data\n",
    "len(train_data[train_data[\"RESPONSE\"]==1]) / len(train_data)"
   ]
  },
  {
   "cell_type": "code",
   "execution_count": 8,
   "metadata": {},
   "outputs": [],
   "source": [
    "# Using logistic regrsssion to create the benchmark model\n",
    "\n",
    "# importing the logistic regression model\n",
    "from sklearn.linear_model import LogisticRegression\n",
    "\n",
    "# Creating the logistic regression model with lasso regularization\n",
    "lr_baseline = LogisticRegression(penalty='l1',\n",
    "                                 class_weight='balanced',\n",
    "                                 solver='saga',\n",
    "                                 max_iter=5000)"
   ]
  },
  {
   "cell_type": "code",
   "execution_count": 9,
   "metadata": {},
   "outputs": [],
   "source": [
    "# Splitting the training data into features and labels\n",
    "X_train = train_data.loc[:, train_data.columns != 'RESPONSE']\n",
    "y_train = train_data['RESPONSE']"
   ]
  },
  {
   "cell_type": "code",
   "execution_count": 10,
   "metadata": {},
   "outputs": [
    {
     "name": "stderr",
     "output_type": "stream",
     "text": [
      "/anaconda3/lib/python3.7/site-packages/sklearn/linear_model/_sag.py:330: ConvergenceWarning: The max_iter was reached which means the coef_ did not converge\n",
      "  \"the coef_ did not converge\", ConvergenceWarning)\n"
     ]
    },
    {
     "data": {
      "text/plain": [
       "LogisticRegression(C=1.0, class_weight='balanced', dual=False,\n",
       "                   fit_intercept=True, intercept_scaling=1, l1_ratio=None,\n",
       "                   max_iter=5000, multi_class='auto', n_jobs=None, penalty='l1',\n",
       "                   random_state=None, solver='saga', tol=0.0001, verbose=0,\n",
       "                   warm_start=False)"
      ]
     },
     "execution_count": 10,
     "metadata": {},
     "output_type": "execute_result"
    }
   ],
   "source": [
    "# Training the baseline model\n",
    "lr_baseline.fit(X_train, y_train)"
   ]
  },
  {
   "cell_type": "code",
   "execution_count": 10,
   "metadata": {},
   "outputs": [],
   "source": [
    "# Importing functions for calculating accuracy, precision, and recall\n",
    "from sklearn.metrics import recall_score\n",
    "from sklearn.metrics import precision_score\n",
    "from sklearn.metrics import accuracy_score"
   ]
  },
  {
   "cell_type": "code",
   "execution_count": 12,
   "metadata": {},
   "outputs": [],
   "source": [
    "# Getting predictions for the training set\n",
    "y_pred = lr_baseline.predict(X_train)"
   ]
  },
  {
   "cell_type": "code",
   "execution_count": 13,
   "metadata": {},
   "outputs": [
    {
     "name": "stdout",
     "output_type": "stream",
     "text": [
      "The accuracy is 0.9442853484202929\n",
      "The recall is 0.07142857142857142\n",
      "The precision is 0.01961796592669076\n"
     ]
    }
   ],
   "source": [
    "# Calculating the accuracy, precision, and recall\n",
    "print(\"The accuracy is\", accuracy_score(y_train, y_pred))\n",
    "print(\"The recall is\", recall_score(y_train, y_pred))\n",
    "print(\"The precision is\", precision_score(y_train, y_pred))"
   ]
  },
  {
   "cell_type": "code",
   "execution_count": 14,
   "metadata": {},
   "outputs": [
    {
     "name": "stdout",
     "output_type": "stream",
     "text": [
      "[[ 1.84450348e-01 -2.06924868e-01 -1.83604229e-02 -9.67034363e-02\n",
      "  -1.50974351e-01  9.89577340e-02  1.88435767e-01  5.75442949e-02\n",
      "   1.31504100e-01  3.79114484e-02 -3.36496313e-03  1.09054392e-01\n",
      "  -1.56563181e-01 -1.81927307e-02 -1.57574565e-01 -1.27913420e-01\n",
      "   8.35027358e-02 -2.24811384e-02  3.93137707e-02  3.50727163e-02\n",
      "   7.34860695e-02 -5.05263893e-02  2.34382399e-02  5.24743427e-02\n",
      "   1.13680740e-01 -3.14355447e-01 -1.95534049e-02 -2.36826364e-01\n",
      "   8.91601647e-02 -9.67143652e-02  1.61971528e-01 -1.19515914e-01\n",
      "   1.61725556e-01 -8.70868310e-02 -1.54763680e-01  3.58326470e-03\n",
      "  -7.61265840e-02 -7.82205095e-02 -5.99056671e-02  1.50698931e-01\n",
      "   5.97688814e-02 -9.23379909e-02 -1.18042642e-01 -1.29907791e-01\n",
      "   3.05467440e-01 -1.20192910e-01  1.27846796e-01  8.01296853e-03\n",
      "   8.83863175e-02  4.45155169e-02 -1.21501853e-01 -4.80737431e-01\n",
      "  -9.79039480e-01  8.73312352e-02 -8.09821994e-02 -1.08705632e-01\n",
      "   1.09645954e-01 -1.65601828e-01  1.09122530e-01  5.31462755e-02\n",
      "  -7.88138286e-02  1.79365227e-01 -9.89806547e-01 -1.39000380e-01\n",
      "  -5.08219625e-02 -2.61221308e-02 -3.09865134e-02  1.81756291e-01\n",
      "   1.81040324e-01 -4.81381336e-02  1.02737521e-01 -5.36778152e-02\n",
      "  -2.67219876e-01 -5.47386109e-02 -5.73825482e-02 -4.23149065e-03\n",
      "  -1.15835786e-01 -5.86804423e-02  2.56368007e-02  2.13533435e-01\n",
      "  -2.84769550e-02 -2.41003642e-02  7.46078275e-02  5.02074088e-02\n",
      "  -5.93406509e-02  3.43178326e-02  1.20694346e-04 -6.92633164e-02\n",
      "   5.11537679e-02 -3.31912170e-03  3.38218440e-05  2.14851435e-01\n",
      "  -1.64128315e-02  3.78891690e-02 -1.87696718e-02  5.10650007e-02\n",
      "  -1.53056817e-01  9.61168806e-02  1.63824831e-01  2.19331064e-02\n",
      "   4.55649145e-02 -2.44605982e-02 -3.16966130e-02 -9.05395321e-03\n",
      "   3.61167767e-02  1.39304500e-01 -2.32664548e-02  2.71910742e-02\n",
      "   5.43731678e-02 -1.18317887e-01 -2.63497813e-01  1.45817392e-01\n",
      "   4.94316422e-02 -1.99065705e-01 -3.57819790e-02 -1.79616003e-01\n",
      "  -7.48506898e-02  6.17892078e-02 -3.41291021e-02 -1.71870355e-02\n",
      "  -2.23868312e-01 -1.72441005e-01  4.15126417e-02 -1.02328085e-01\n",
      "   1.03908076e-02  3.29192979e-01  3.97365191e-01 -5.91710634e-02\n",
      "   7.03539151e-02 -1.42922022e-01 -6.74690105e-02  4.52691097e-02\n",
      "   1.82375405e-01 -1.11065532e-01  2.15429061e-01  2.02720062e-02\n",
      "  -1.66477610e-01 -5.07871758e-02 -1.01454431e-01  1.27320659e-01\n",
      "  -1.16066709e-02 -9.48374764e-02  1.16174967e-01  2.54502309e-02\n",
      "  -1.13824519e-01  1.87194482e-01  4.76108422e-02 -1.56424212e-01\n",
      "   1.24176378e-01 -1.85444960e-01 -1.25777021e-02  8.32672901e-02\n",
      "   1.97480969e-01  2.94499484e-02 -6.27859091e-02 -1.48496283e-01\n",
      "   4.32954537e-02 -1.69081705e-01  1.93195947e-01 -1.33977983e-01\n",
      "  -1.63835430e-01  2.61833268e-01 -1.00330746e-02  4.67160998e-02\n",
      "  -4.28127054e-02  1.66013164e-01 -3.26455914e-02 -8.66790054e-02\n",
      "  -3.43177732e-02  2.40859952e-01  2.70204811e-02 -4.80145298e-02\n",
      "   1.33659058e-01 -1.22229995e-01 -3.74755523e-02  2.58354888e-01\n",
      "   4.72811886e-02 -6.98059589e-02 -1.79588755e-02  2.79715378e-02\n",
      "   7.98756873e-02 -3.99603267e-02 -4.00913556e-02  5.68954815e-02\n",
      "  -2.74556703e-03  2.48184212e-02 -5.55178926e-02 -2.69581031e-02\n",
      "  -8.32021264e-02 -8.79275885e-02  2.12091926e-02  1.16137004e-01\n",
      "  -1.05626524e-01  7.25236226e-02 -1.00945264e-01 -1.20227489e-01\n",
      "   1.50562353e-01 -2.06968249e-01  3.31812819e-02  2.06259987e-02\n",
      "   1.35697089e-02 -1.20457583e-01  1.59848124e-01  5.64278618e-03\n",
      "  -1.91882365e-01  1.48835854e-01  2.15363762e-01 -1.47475648e-01\n",
      "   6.91987242e-02 -1.10127468e-01  8.66964039e-02 -6.66677131e-03\n",
      "  -1.53451138e-03  8.93256199e-02 -1.22017605e-01  7.34689833e-02\n",
      "  -5.97349123e-02 -6.10924236e-02  5.22257092e-03 -2.98644921e-02\n",
      "  -4.18432299e-02  1.05607050e-01  1.06025732e-01  5.52884817e-02\n",
      "   7.06960794e-02  3.21091372e-02  5.73996404e-02  8.15815791e-02\n",
      "  -6.53099642e-02 -1.10127468e-01 -6.32857660e-02  1.23775504e-01\n",
      "   1.64205786e-01  1.06416850e-02 -5.90408389e-02  1.50127690e-02\n",
      "  -4.92419675e-02 -1.68223021e-02  1.56448039e-02 -8.29129231e-02\n",
      "   2.33564292e-02 -1.23261055e-01  1.25048956e-01 -1.70119928e-01\n",
      "  -2.60097441e-03  8.58243853e-03 -1.31679367e-01  3.99083609e-02\n",
      "  -1.67865327e-02 -1.42714449e-01 -1.58417966e-01  5.45107958e-02\n",
      "   2.45142562e-01 -9.96166312e-02  1.39766388e-01 -1.22847736e-01\n",
      "  -4.91301031e-02  8.67771009e-02 -6.41526126e-02  9.54886043e-02\n",
      "  -1.33140940e-01  1.35174949e-02  7.83655550e-02  9.41324926e-02\n",
      "  -6.94276975e-02 -4.56466910e-02  7.36591980e-02  1.37840028e-01\n",
      "   6.87466334e-03  2.47759105e-03 -1.54867354e-02 -3.81372083e-02\n",
      "  -1.80259458e-01 -1.15283942e-01 -1.16392880e-01 -2.01503758e-01\n",
      "  -3.27174955e-02  1.05748981e-01 -8.93831111e-02  2.62619264e-03\n",
      "  -1.05408531e-01  2.63470774e-01 -9.23459170e-02 -1.22604695e-01\n",
      "   1.34959410e-01 -2.94038561e-02 -1.95045194e-02  1.74458937e-01\n",
      "  -2.28002029e-02 -1.62906182e-01 -7.96772758e-02  7.78405903e-02\n",
      "  -7.79844137e-02  1.28713224e-01  6.97351775e-02 -1.81729118e-01\n",
      "   1.21696914e-01  1.55522619e-02  2.78162326e-02 -6.12005629e-02\n",
      "   1.35255656e-01 -1.92258222e-02 -5.93041788e-02 -9.32220816e-03\n",
      "   5.94802044e-02 -1.67775688e-01 -1.47628992e-02 -1.13424730e-01\n",
      "  -1.00935257e-01  4.89946068e-02  2.45964435e-03 -7.95414654e-02\n",
      "   1.85844416e-02  1.23992257e-01  6.38824733e-02 -9.74342621e-02\n",
      "  -5.45803333e-02 -6.83499702e-02  5.23225918e-02  2.39165600e-01\n",
      "  -6.32738463e-02 -4.44982907e-02  3.02166189e-01  1.70791716e-01\n",
      "   6.27087253e-02 -1.57836273e-01  3.49036656e-02  7.06171297e-02\n",
      "   1.39750361e-01  1.56391219e-01  2.28720188e-01  8.16895792e-02\n",
      "  -1.31015225e-02 -5.72028313e-03  3.97320259e-02  1.59207205e-01\n",
      "  -1.26474053e-01 -1.88012480e-01 -9.83968075e-02  1.81991705e-02\n",
      "   1.20640506e-01 -4.08986117e-04  9.30525846e-02  3.65145010e-02\n",
      "   4.10750197e-02  2.48054409e-02  1.21186535e-01 -9.26632897e-02\n",
      "  -9.70817748e-03 -3.61145354e-02 -1.13061473e-01 -1.24347524e-02\n",
      "   1.57015708e-01  1.86242920e-01  2.12386525e-01 -2.23407750e-01\n",
      "  -7.39780482e-02 -9.25972602e-02]]\n"
     ]
    }
   ],
   "source": [
    "# Viewing the coefficents learned by the model\n",
    "coefs = lr_baseline.coef_\n",
    "print(coefs)"
   ]
  },
  {
   "cell_type": "code",
   "execution_count": 15,
   "metadata": {},
   "outputs": [
    {
     "name": "stdout",
     "output_type": "stream",
     "text": [
      "358\n"
     ]
    }
   ],
   "source": [
    "print(len(coefs[0]))"
   ]
  },
  {
   "cell_type": "code",
   "execution_count": 38,
   "metadata": {},
   "outputs": [
    {
     "name": "stdout",
     "output_type": "stream",
     "text": [
      "(4296, 358)\n"
     ]
    }
   ],
   "source": [
    "# Splitting the training data into train and test to get an idea of the variance\n",
    "from sklearn.model_selection import train_test_split\n",
    "X_train, X_test, y_train, y_test = train_test_split(X_train, y_train, test_size=0.1)\n",
    "print(X_test.shape)"
   ]
  },
  {
   "cell_type": "code",
   "execution_count": 17,
   "metadata": {},
   "outputs": [],
   "source": [
    "# Creating an random forest model with untuned hyperparameters\n",
    "\n",
    "# Importing the random forest model from scikit learn\n",
    "from sklearn.ensemble import RandomForestClassifier\n",
    "\n",
    "# Creating the random forest model\n",
    "rf_classifier = RandomForestClassifier(n_estimators=200,\n",
    "                                       oob_score=True,\n",
    "                                       class_weight='balanced')"
   ]
  },
  {
   "cell_type": "code",
   "execution_count": 18,
   "metadata": {},
   "outputs": [
    {
     "data": {
      "text/plain": [
       "RandomForestClassifier(bootstrap=True, ccp_alpha=0.0, class_weight='balanced',\n",
       "                       criterion='gini', max_depth=None, max_features='auto',\n",
       "                       max_leaf_nodes=None, max_samples=None,\n",
       "                       min_impurity_decrease=0.0, min_impurity_split=None,\n",
       "                       min_samples_leaf=1, min_samples_split=2,\n",
       "                       min_weight_fraction_leaf=0.0, n_estimators=200,\n",
       "                       n_jobs=None, oob_score=True, random_state=None,\n",
       "                       verbose=0, warm_start=False)"
      ]
     },
     "execution_count": 18,
     "metadata": {},
     "output_type": "execute_result"
    }
   ],
   "source": [
    "# Training the random forest model\n",
    "rf_classifier.fit(X_train, y_train)"
   ]
  },
  {
   "cell_type": "code",
   "execution_count": 19,
   "metadata": {},
   "outputs": [
    {
     "name": "stdout",
     "output_type": "stream",
     "text": [
      "The accuracy is 0.9762773250549734\n",
      "The recall is 0.920997920997921\n",
      "The precision is 0.3350983358547655\n"
     ]
    }
   ],
   "source": [
    "# Calculating the accuracy, precision, and recall for the training set\n",
    "y_pred = rf_classifier.predict(X_train)\n",
    "\n",
    "print(\"The accuracy is\", accuracy_score(y_train, y_pred))\n",
    "print(\"The recall is\", recall_score(y_train, y_pred))\n",
    "print(\"The precision is\", precision_score(y_train, y_pred))"
   ]
  },
  {
   "cell_type": "code",
   "execution_count": 20,
   "metadata": {},
   "outputs": [
    {
     "name": "stdout",
     "output_type": "stream",
     "text": [
      "0.9652567585047213\n"
     ]
    }
   ],
   "source": [
    "# Getting the out of bag score\n",
    "print(rf_classifier.oob_score_)"
   ]
  },
  {
   "cell_type": "code",
   "execution_count": 21,
   "metadata": {},
   "outputs": [
    {
     "name": "stdout",
     "output_type": "stream",
     "text": [
      "The accuracy is 0.9671787709497207\n",
      "The recall is 0.058823529411764705\n",
      "The precision is 0.03125\n"
     ]
    }
   ],
   "source": [
    "# Calculating the evaluation metrics for the test data\n",
    "y_pred = rf_classifier.predict(X_test)\n",
    "\n",
    "print(\"The accuracy is\", accuracy_score(y_test, y_pred))\n",
    "print(\"The recall is\", recall_score(y_test, y_pred))\n",
    "print(\"The precision is\", precision_score(y_test, y_pred))"
   ]
  },
  {
   "cell_type": "code",
   "execution_count": 22,
   "metadata": {},
   "outputs": [
    {
     "data": {
      "text/plain": [
       "532"
      ]
     },
     "execution_count": 22,
     "metadata": {},
     "output_type": "execute_result"
    }
   ],
   "source": [
    "len(train_data[train_data[\"RESPONSE\"]==1])"
   ]
  },
  {
   "cell_type": "code",
   "execution_count": 23,
   "metadata": {},
   "outputs": [
    {
     "data": {
      "text/plain": [
       "42419"
      ]
     },
     "execution_count": 23,
     "metadata": {},
     "output_type": "execute_result"
    }
   ],
   "source": [
    "len(train_data[train_data[\"RESPONSE\"]==0])"
   ]
  },
  {
   "cell_type": "code",
   "execution_count": 24,
   "metadata": {},
   "outputs": [
    {
     "data": {
      "text/plain": [
       "79.73496240601504"
      ]
     },
     "execution_count": 24,
     "metadata": {},
     "output_type": "execute_result"
    }
   ],
   "source": [
    "42419 / 532"
   ]
  },
  {
   "cell_type": "code",
   "execution_count": 25,
   "metadata": {},
   "outputs": [],
   "source": [
    "# Creating an gradient boosting model with untuned hyperparameters\n",
    "\n",
    "# Importing the random forest model from scikit learn\n",
    "from sklearn.ensemble import GradientBoostingClassifier\n",
    "\n",
    "# Creating the random forest model\n",
    "gb_classifier = GradientBoostingClassifier(n_estimators=200)"
   ]
  },
  {
   "cell_type": "code",
   "execution_count": 26,
   "metadata": {},
   "outputs": [
    {
     "data": {
      "text/plain": [
       "GradientBoostingClassifier(ccp_alpha=0.0, criterion='friedman_mse', init=None,\n",
       "                           learning_rate=0.1, loss='deviance', max_depth=3,\n",
       "                           max_features=None, max_leaf_nodes=None,\n",
       "                           min_impurity_decrease=0.0, min_impurity_split=None,\n",
       "                           min_samples_leaf=1, min_samples_split=2,\n",
       "                           min_weight_fraction_leaf=0.0, n_estimators=200,\n",
       "                           n_iter_no_change=None, presort='deprecated',\n",
       "                           random_state=None, subsample=1.0, tol=0.0001,\n",
       "                           validation_fraction=0.1, verbose=0,\n",
       "                           warm_start=False)"
      ]
     },
     "execution_count": 26,
     "metadata": {},
     "output_type": "execute_result"
    }
   ],
   "source": [
    "# Training the gradient boosting model\n",
    "gb_classifier.fit(X_train, y_train)"
   ]
  },
  {
   "cell_type": "code",
   "execution_count": 27,
   "metadata": {},
   "outputs": [
    {
     "name": "stdout",
     "output_type": "stream",
     "text": [
      "The accuracy is 0.9885913853317811\n",
      "The recall is 0.08316008316008316\n",
      "The precision is 1.0\n"
     ]
    }
   ],
   "source": [
    "# Calculating the accuracy, precision, and recall for the training set\n",
    "y_pred = gb_classifier.predict(X_train)\n",
    "\n",
    "print(\"The accuracy is\", accuracy_score(y_train, y_pred))\n",
    "print(\"The recall is\", recall_score(y_train, y_pred))\n",
    "print(\"The precision is\", precision_score(y_train, y_pred))"
   ]
  },
  {
   "cell_type": "code",
   "execution_count": 28,
   "metadata": {},
   "outputs": [
    {
     "name": "stdout",
     "output_type": "stream",
     "text": [
      "The accuracy is 0.9871973929236499\n",
      "The recall is 0.0\n",
      "The precision is 0.0\n"
     ]
    }
   ],
   "source": [
    "# Calculating the accuracy, precision, and recall for the test set\n",
    "y_pred = gb_classifier.predict(X_test)\n",
    "\n",
    "print(\"The accuracy is\", accuracy_score(y_test, y_pred))\n",
    "print(\"The recall is\", recall_score(y_test, y_pred))\n",
    "print(\"The precision is\", precision_score(y_test, y_pred))"
   ]
  },
  {
   "cell_type": "code",
   "execution_count": 11,
   "metadata": {},
   "outputs": [],
   "source": [
    "# Importing the SMOTE class in order to oversample the positive class\n",
    "from imblearn.over_sampling import SMOTE\n",
    "\n",
    "# Creating the SMOTE model\n",
    "smote = SMOTE()"
   ]
  },
  {
   "cell_type": "code",
   "execution_count": 12,
   "metadata": {},
   "outputs": [],
   "source": [
    "# Redefining X_train and y_train to include all the training data that will be oversampled \n",
    "X_train = train_data.loc[:, train_data.columns != 'RESPONSE']\n",
    "y_train = train_data['RESPONSE']"
   ]
  },
  {
   "cell_type": "code",
   "execution_count": 13,
   "metadata": {},
   "outputs": [
    {
     "data": {
      "text/plain": [
       "(42951, 358)"
      ]
     },
     "execution_count": 13,
     "metadata": {},
     "output_type": "execute_result"
    }
   ],
   "source": [
    "X_train.shape"
   ]
  },
  {
   "cell_type": "code",
   "execution_count": 14,
   "metadata": {},
   "outputs": [],
   "source": [
    "# Fitting the SMOTE model to the training data and resampling the training data\n",
    "X_train_over, y_train_over = smote.fit_resample(X_train, y_train)"
   ]
  },
  {
   "cell_type": "code",
   "execution_count": 15,
   "metadata": {},
   "outputs": [
    {
     "data": {
      "text/plain": [
       "<matplotlib.axes._subplots.AxesSubplot at 0x1271c2898>"
      ]
     },
     "execution_count": 15,
     "metadata": {},
     "output_type": "execute_result"
    },
    {
     "data": {
      "image/png": "[encoded data removed]",
      "text/plain": [
       "<Figure size 432x288 with 1 Axes>"
      ]
     },
     "metadata": {
      "needs_background": "light"
     },
     "output_type": "display_data"
    }
   ],
   "source": [
    "# Visualizing the new distribution of the RESPONSE column\n",
    "y_train_over.hist()"
   ]
  },
  {
   "cell_type": "code",
   "execution_count": 17,
   "metadata": {},
   "outputs": [
    {
     "name": "stdout",
     "output_type": "stream",
     "text": [
      "(8484, 358)\n"
     ]
    }
   ],
   "source": [
    "# Re-training the random forest model to see if there is any change in the recall\n",
    "\n",
    "# Creating a small test from the training data to get an idea of what the variance is\n",
    "from sklearn.model_selection import train_test_split\n",
    "X_train, X_test, y_train, y_test = train_test_split(X_train_over, y_train_over, test_size=0.1)\n",
    "print(X_test.shape)\n",
    "\n",
    "# Importing the random forest model from scikit learn\n",
    "from sklearn.ensemble import RandomForestClassifier\n",
    "\n",
    "# Creating the random forest model\n",
    "rf_classifier = RandomForestClassifier(n_estimators=200,\n",
    "                                       oob_score=True)"
   ]
  },
  {
   "cell_type": "code",
   "execution_count": 18,
   "metadata": {},
   "outputs": [
    {
     "data": {
      "text/plain": [
       "RandomForestClassifier(n_estimators=200, oob_score=True)"
      ]
     },
     "execution_count": 18,
     "metadata": {},
     "output_type": "execute_result"
    }
   ],
   "source": [
    "# Training the random forest model\n",
    "rf_classifier.fit(X_train, y_train)"
   ]
  },
  {
   "cell_type": "code",
   "execution_count": 19,
   "metadata": {},
   "outputs": [
    {
     "name": "stdout",
     "output_type": "stream",
     "text": [
      "The accuracy is 0.948568509835765\n",
      "The recall is 0.9199202350965575\n",
      "The precision is 0.9756504800333936\n"
     ]
    }
   ],
   "source": [
    "# Calculating the accuracy, precision, and recall for the training set\n",
    "y_pred = rf_classifier.predict(X_train)\n",
    "\n",
    "print(\"The accuracy is\", accuracy_score(y_train, y_pred))\n",
    "print(\"The recall is\", recall_score(y_train, y_pred))\n",
    "print(\"The precision is\", precision_score(y_train, y_pred))"
   ]
  },
  {
   "cell_type": "code",
   "execution_count": 20,
   "metadata": {},
   "outputs": [
    {
     "name": "stdout",
     "output_type": "stream",
     "text": [
      "The accuracy is 0.9414191419141914\n",
      "The recall is 0.9071279312746692\n",
      "The precision is 0.9757742257742258\n"
     ]
    }
   ],
   "source": [
    "# Calculating the evaluation metrics for the test data\n",
    "y_pred = rf_classifier.predict(X_test)\n",
    "\n",
    "print(\"The accuracy is\", accuracy_score(y_test, y_pred))\n",
    "print(\"The recall is\", recall_score(y_test, y_pred))\n",
    "print(\"The precision is\", precision_score(y_test, y_pred))"
   ]
  },
  {
   "cell_type": "code",
   "execution_count": 21,
   "metadata": {},
   "outputs": [
    {
     "name": "stdout",
     "output_type": "stream",
     "text": [
      "The accuracy is 0.9431463970453414\n",
      "The recall is 0.9090575146935348\n",
      "The precision is 0.975366684496495\n",
      "The accuracy is 0.9411834040546911\n",
      "The recall is 0.9071279312746692\n",
      "The precision is 0.9752870693959061\n"
     ]
    }
   ],
   "source": [
    "# Repeating the process for the gbm and xgb models\n",
    "# Creating an gradient boosting model with untuned hyperparameters\n",
    "\n",
    "# Importing the random forest model from scikit learn\n",
    "from sklearn.ensemble import GradientBoostingClassifier\n",
    "\n",
    "# Creating the random forest model\n",
    "gb_classifier = GradientBoostingClassifier(n_estimators=200)\n",
    "\n",
    "# Training the gradient boosting model\n",
    "gb_classifier.fit(X_train, y_train)\n",
    "\n",
    "# Calculating the accuracy, precision, and recall for the training set\n",
    "y_pred = gb_classifier.predict(X_train)\n",
    "\n",
    "print(\"The accuracy is\", accuracy_score(y_train, y_pred))\n",
    "print(\"The recall is\", recall_score(y_train, y_pred))\n",
    "print(\"The precision is\", precision_score(y_train, y_pred))\n",
    "\n",
    "# Calculating the accuracy, precision, and recall for the test set\n",
    "y_pred = gb_classifier.predict(X_test)\n",
    "\n",
    "print(\"The accuracy is\", accuracy_score(y_test, y_pred))\n",
    "print(\"The recall is\", recall_score(y_test, y_pred))\n",
    "print(\"The precision is\", precision_score(y_test, y_pred))"
   ]
  },
  {
   "cell_type": "code",
   "execution_count": null,
   "metadata": {},
   "outputs": [],
   "source": []
  }
 ],
 "metadata": {
  "kernelspec": {
   "display_name": "Python 3",
   "language": "python",
   "name": "python3"
  },
  "language_info": {
   "codemirror_mode": {
    "name": "ipython",
    "version": 3
   },
   "file_extension": ".py",
   "mimetype": "text/x-python",
   "name": "python",
   "nbconvert_exporter": "python",
   "pygments_lexer": "ipython3",
   "version": "3.7.3"
  }
 },
 "nbformat": 4,
 "nbformat_minor": 2
}
