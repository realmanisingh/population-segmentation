{
 "cells": [
  {
   "cell_type": "code",
   "execution_count": 1,
   "metadata": {},
   "outputs": [],
   "source": [
    "import pandas as pd\n",
    "import numpy as np\n",
    "import matplotlib.pyplot as plt\n",
    "import seaborn as sns"
   ]
  },
  {
   "cell_type": "code",
   "execution_count": 2,
   "metadata": {},
   "outputs": [],
   "source": [
    "# Reading in the data\n",
    "general_data = pd.read_csv(\"../population-segmentation-data/general_data.csv\", sep=\";\")\n",
    "customer_data = pd.read_csv(\"../population-segmentation-data/customer_data.csv\", sep=\";\")\n",
    "train_data = pd.read_csv(\"../population-segmentation-data/train_data.csv\", sep=\";\")\n",
    "test_data = pd.read_csv(\"../population-segmentation-data/test_data.csv\", sep=\";\")"
   ]
  },
  {
   "cell_type": "code",
   "execution_count": 3,
   "metadata": {},
   "outputs": [
    {
     "data": {
      "text/html": [
       "<div>\n",
       "<style scoped>\n",
       "    .dataframe tbody tr th:only-of-type {\n",
       "        vertical-align: middle;\n",
       "    }\n",
       "\n",
       "    .dataframe tbody tr th {\n",
       "        vertical-align: top;\n",
       "    }\n",
       "\n",
       "    .dataframe thead th {\n",
       "        text-align: right;\n",
       "    }\n",
       "</style>\n",
       "<table border=\"1\" class=\"dataframe\">\n",
       "  <thead>\n",
       "    <tr style=\"text-align: right;\">\n",
       "      <th></th>\n",
       "      <th>Unnamed: 0</th>\n",
       "      <th>AGER_TYP</th>\n",
       "      <th>AKT_DAT_KL</th>\n",
       "      <th>ALTER_HH</th>\n",
       "      <th>ALTERSKATEGORIE_FEIN</th>\n",
       "      <th>ANZ_HAUSHALTE_AKTIV</th>\n",
       "      <th>ANZ_HH_TITEL</th>\n",
       "      <th>ANZ_KINDER</th>\n",
       "      <th>ANZ_PERSONEN</th>\n",
       "      <th>ANZ_STATISTISCHE_HAUSHALTE</th>\n",
       "      <th>...</th>\n",
       "      <th>WOHNLAGE</th>\n",
       "      <th>ZABEOTYP</th>\n",
       "      <th>ONLINE_PURCHASE</th>\n",
       "      <th>ANREDE_KZ</th>\n",
       "      <th>ALTERSKATEGORIE_GROB</th>\n",
       "      <th>SINGLE_BUYER</th>\n",
       "      <th>MULTI_BUYER</th>\n",
       "      <th>COSMETIC_AND_FOOD</th>\n",
       "      <th>COSMETIC</th>\n",
       "      <th>FOOD</th>\n",
       "    </tr>\n",
       "  </thead>\n",
       "  <tbody>\n",
       "    <tr>\n",
       "      <th>0</th>\n",
       "      <td>0</td>\n",
       "      <td>2</td>\n",
       "      <td>1.0</td>\n",
       "      <td>10.0</td>\n",
       "      <td>10.0</td>\n",
       "      <td>1.0</td>\n",
       "      <td>0.0</td>\n",
       "      <td>0.0</td>\n",
       "      <td>2.0</td>\n",
       "      <td>1.0</td>\n",
       "      <td>...</td>\n",
       "      <td>7.0</td>\n",
       "      <td>3</td>\n",
       "      <td>0</td>\n",
       "      <td>1</td>\n",
       "      <td>4</td>\n",
       "      <td>0</td>\n",
       "      <td>1</td>\n",
       "      <td>1</td>\n",
       "      <td>0</td>\n",
       "      <td>0</td>\n",
       "    </tr>\n",
       "    <tr>\n",
       "      <th>1</th>\n",
       "      <td>1</td>\n",
       "      <td>-1</td>\n",
       "      <td>9.0</td>\n",
       "      <td>11.0</td>\n",
       "      <td>-1.0</td>\n",
       "      <td>-1.0</td>\n",
       "      <td>-1.0</td>\n",
       "      <td>0.0</td>\n",
       "      <td>3.0</td>\n",
       "      <td>-1.0</td>\n",
       "      <td>...</td>\n",
       "      <td>-1.0</td>\n",
       "      <td>3</td>\n",
       "      <td>0</td>\n",
       "      <td>1</td>\n",
       "      <td>4</td>\n",
       "      <td>1</td>\n",
       "      <td>0</td>\n",
       "      <td>0</td>\n",
       "      <td>0</td>\n",
       "      <td>1</td>\n",
       "    </tr>\n",
       "    <tr>\n",
       "      <th>2</th>\n",
       "      <td>2</td>\n",
       "      <td>-1</td>\n",
       "      <td>1.0</td>\n",
       "      <td>6.0</td>\n",
       "      <td>0.0</td>\n",
       "      <td>1.0</td>\n",
       "      <td>0.0</td>\n",
       "      <td>0.0</td>\n",
       "      <td>1.0</td>\n",
       "      <td>1.0</td>\n",
       "      <td>...</td>\n",
       "      <td>2.0</td>\n",
       "      <td>3</td>\n",
       "      <td>0</td>\n",
       "      <td>2</td>\n",
       "      <td>4</td>\n",
       "      <td>0</td>\n",
       "      <td>1</td>\n",
       "      <td>1</td>\n",
       "      <td>0</td>\n",
       "      <td>0</td>\n",
       "    </tr>\n",
       "    <tr>\n",
       "      <th>3</th>\n",
       "      <td>3</td>\n",
       "      <td>1</td>\n",
       "      <td>1.0</td>\n",
       "      <td>8.0</td>\n",
       "      <td>8.0</td>\n",
       "      <td>0.0</td>\n",
       "      <td>-1.0</td>\n",
       "      <td>0.0</td>\n",
       "      <td>0.0</td>\n",
       "      <td>1.0</td>\n",
       "      <td>...</td>\n",
       "      <td>7.0</td>\n",
       "      <td>1</td>\n",
       "      <td>0</td>\n",
       "      <td>1</td>\n",
       "      <td>4</td>\n",
       "      <td>0</td>\n",
       "      <td>1</td>\n",
       "      <td>0</td>\n",
       "      <td>1</td>\n",
       "      <td>0</td>\n",
       "    </tr>\n",
       "    <tr>\n",
       "      <th>4</th>\n",
       "      <td>4</td>\n",
       "      <td>-1</td>\n",
       "      <td>1.0</td>\n",
       "      <td>20.0</td>\n",
       "      <td>14.0</td>\n",
       "      <td>7.0</td>\n",
       "      <td>0.0</td>\n",
       "      <td>0.0</td>\n",
       "      <td>4.0</td>\n",
       "      <td>7.0</td>\n",
       "      <td>...</td>\n",
       "      <td>3.0</td>\n",
       "      <td>1</td>\n",
       "      <td>0</td>\n",
       "      <td>1</td>\n",
       "      <td>3</td>\n",
       "      <td>0</td>\n",
       "      <td>1</td>\n",
       "      <td>0</td>\n",
       "      <td>0</td>\n",
       "      <td>1</td>\n",
       "    </tr>\n",
       "  </tbody>\n",
       "</table>\n",
       "<p>5 rows × 365 columns</p>\n",
       "</div>"
      ],
      "text/plain": [
       "   Unnamed: 0  AGER_TYP  AKT_DAT_KL  ALTER_HH  ALTERSKATEGORIE_FEIN  \\\n",
       "0           0         2         1.0      10.0                  10.0   \n",
       "1           1        -1         9.0      11.0                  -1.0   \n",
       "2           2        -1         1.0       6.0                   0.0   \n",
       "3           3         1         1.0       8.0                   8.0   \n",
       "4           4        -1         1.0      20.0                  14.0   \n",
       "\n",
       "   ANZ_HAUSHALTE_AKTIV  ANZ_HH_TITEL  ANZ_KINDER  ANZ_PERSONEN  \\\n",
       "0                  1.0           0.0         0.0           2.0   \n",
       "1                 -1.0          -1.0         0.0           3.0   \n",
       "2                  1.0           0.0         0.0           1.0   \n",
       "3                  0.0          -1.0         0.0           0.0   \n",
       "4                  7.0           0.0         0.0           4.0   \n",
       "\n",
       "   ANZ_STATISTISCHE_HAUSHALTE  ...  WOHNLAGE  ZABEOTYP  ONLINE_PURCHASE  \\\n",
       "0                         1.0  ...       7.0         3                0   \n",
       "1                        -1.0  ...      -1.0         3                0   \n",
       "2                         1.0  ...       2.0         3                0   \n",
       "3                         1.0  ...       7.0         1                0   \n",
       "4                         7.0  ...       3.0         1                0   \n",
       "\n",
       "   ANREDE_KZ  ALTERSKATEGORIE_GROB  SINGLE_BUYER  MULTI_BUYER  \\\n",
       "0          1                     4             0            1   \n",
       "1          1                     4             1            0   \n",
       "2          2                     4             0            1   \n",
       "3          1                     4             0            1   \n",
       "4          1                     3             0            1   \n",
       "\n",
       "   COSMETIC_AND_FOOD  COSMETIC  FOOD  \n",
       "0                  1         0     0  \n",
       "1                  0         0     1  \n",
       "2                  1         0     0  \n",
       "3                  0         1     0  \n",
       "4                  0         0     1  \n",
       "\n",
       "[5 rows x 365 columns]"
      ]
     },
     "execution_count": 3,
     "metadata": {},
     "output_type": "execute_result"
    }
   ],
   "source": [
    "customer_data.head()"
   ]
  },
  {
   "cell_type": "code",
   "execution_count": 4,
   "metadata": {},
   "outputs": [
    {
     "name": "stdout",
     "output_type": "stream",
     "text": [
      "Unnamed: 0\n"
     ]
    }
   ],
   "source": [
    "# Getting the name of the first column\n",
    "extra_col = list(general_data.columns)[0]\n",
    "print(extra_col)\n",
    "\n",
    "# Removing the extra column in every dataframe since it is redundant\n",
    "general_data.drop(extra_col, axis=1, inplace=True)\n",
    "customer_data.drop(extra_col, axis=1, inplace=True)\n",
    "train_data.drop(extra_col, axis=1, inplace=True)\n",
    "test_data.drop(extra_col, axis=1, inplace=True)"
   ]
  },
  {
   "cell_type": "code",
   "execution_count": 5,
   "metadata": {},
   "outputs": [
    {
     "data": {
      "text/html": [
       "<div>\n",
       "<style scoped>\n",
       "    .dataframe tbody tr th:only-of-type {\n",
       "        vertical-align: middle;\n",
       "    }\n",
       "\n",
       "    .dataframe tbody tr th {\n",
       "        vertical-align: top;\n",
       "    }\n",
       "\n",
       "    .dataframe thead th {\n",
       "        text-align: right;\n",
       "    }\n",
       "</style>\n",
       "<table border=\"1\" class=\"dataframe\">\n",
       "  <thead>\n",
       "    <tr style=\"text-align: right;\">\n",
       "      <th></th>\n",
       "      <th>AGER_TYP</th>\n",
       "      <th>AKT_DAT_KL</th>\n",
       "      <th>ALTER_HH</th>\n",
       "      <th>ALTERSKATEGORIE_FEIN</th>\n",
       "      <th>ANZ_HAUSHALTE_AKTIV</th>\n",
       "      <th>ANZ_HH_TITEL</th>\n",
       "      <th>ANZ_KINDER</th>\n",
       "      <th>ANZ_PERSONEN</th>\n",
       "      <th>ANZ_STATISTISCHE_HAUSHALTE</th>\n",
       "      <th>ANZ_TITEL</th>\n",
       "      <th>...</th>\n",
       "      <th>WOHNLAGE</th>\n",
       "      <th>ZABEOTYP</th>\n",
       "      <th>ONLINE_PURCHASE</th>\n",
       "      <th>ANREDE_KZ</th>\n",
       "      <th>ALTERSKATEGORIE_GROB</th>\n",
       "      <th>SINGLE_BUYER</th>\n",
       "      <th>MULTI_BUYER</th>\n",
       "      <th>COSMETIC_AND_FOOD</th>\n",
       "      <th>COSMETIC</th>\n",
       "      <th>FOOD</th>\n",
       "    </tr>\n",
       "  </thead>\n",
       "  <tbody>\n",
       "    <tr>\n",
       "      <th>0</th>\n",
       "      <td>2</td>\n",
       "      <td>1.0</td>\n",
       "      <td>10.0</td>\n",
       "      <td>10.0</td>\n",
       "      <td>1.0</td>\n",
       "      <td>0.0</td>\n",
       "      <td>0.0</td>\n",
       "      <td>2.0</td>\n",
       "      <td>1.0</td>\n",
       "      <td>0.0</td>\n",
       "      <td>...</td>\n",
       "      <td>7.0</td>\n",
       "      <td>3</td>\n",
       "      <td>0</td>\n",
       "      <td>1</td>\n",
       "      <td>4</td>\n",
       "      <td>0</td>\n",
       "      <td>1</td>\n",
       "      <td>1</td>\n",
       "      <td>0</td>\n",
       "      <td>0</td>\n",
       "    </tr>\n",
       "    <tr>\n",
       "      <th>1</th>\n",
       "      <td>-1</td>\n",
       "      <td>9.0</td>\n",
       "      <td>11.0</td>\n",
       "      <td>-1.0</td>\n",
       "      <td>-1.0</td>\n",
       "      <td>-1.0</td>\n",
       "      <td>0.0</td>\n",
       "      <td>3.0</td>\n",
       "      <td>-1.0</td>\n",
       "      <td>0.0</td>\n",
       "      <td>...</td>\n",
       "      <td>-1.0</td>\n",
       "      <td>3</td>\n",
       "      <td>0</td>\n",
       "      <td>1</td>\n",
       "      <td>4</td>\n",
       "      <td>1</td>\n",
       "      <td>0</td>\n",
       "      <td>0</td>\n",
       "      <td>0</td>\n",
       "      <td>1</td>\n",
       "    </tr>\n",
       "    <tr>\n",
       "      <th>2</th>\n",
       "      <td>-1</td>\n",
       "      <td>1.0</td>\n",
       "      <td>6.0</td>\n",
       "      <td>0.0</td>\n",
       "      <td>1.0</td>\n",
       "      <td>0.0</td>\n",
       "      <td>0.0</td>\n",
       "      <td>1.0</td>\n",
       "      <td>1.0</td>\n",
       "      <td>0.0</td>\n",
       "      <td>...</td>\n",
       "      <td>2.0</td>\n",
       "      <td>3</td>\n",
       "      <td>0</td>\n",
       "      <td>2</td>\n",
       "      <td>4</td>\n",
       "      <td>0</td>\n",
       "      <td>1</td>\n",
       "      <td>1</td>\n",
       "      <td>0</td>\n",
       "      <td>0</td>\n",
       "    </tr>\n",
       "    <tr>\n",
       "      <th>3</th>\n",
       "      <td>1</td>\n",
       "      <td>1.0</td>\n",
       "      <td>8.0</td>\n",
       "      <td>8.0</td>\n",
       "      <td>0.0</td>\n",
       "      <td>-1.0</td>\n",
       "      <td>0.0</td>\n",
       "      <td>0.0</td>\n",
       "      <td>1.0</td>\n",
       "      <td>0.0</td>\n",
       "      <td>...</td>\n",
       "      <td>7.0</td>\n",
       "      <td>1</td>\n",
       "      <td>0</td>\n",
       "      <td>1</td>\n",
       "      <td>4</td>\n",
       "      <td>0</td>\n",
       "      <td>1</td>\n",
       "      <td>0</td>\n",
       "      <td>1</td>\n",
       "      <td>0</td>\n",
       "    </tr>\n",
       "    <tr>\n",
       "      <th>4</th>\n",
       "      <td>-1</td>\n",
       "      <td>1.0</td>\n",
       "      <td>20.0</td>\n",
       "      <td>14.0</td>\n",
       "      <td>7.0</td>\n",
       "      <td>0.0</td>\n",
       "      <td>0.0</td>\n",
       "      <td>4.0</td>\n",
       "      <td>7.0</td>\n",
       "      <td>0.0</td>\n",
       "      <td>...</td>\n",
       "      <td>3.0</td>\n",
       "      <td>1</td>\n",
       "      <td>0</td>\n",
       "      <td>1</td>\n",
       "      <td>3</td>\n",
       "      <td>0</td>\n",
       "      <td>1</td>\n",
       "      <td>0</td>\n",
       "      <td>0</td>\n",
       "      <td>1</td>\n",
       "    </tr>\n",
       "  </tbody>\n",
       "</table>\n",
       "<p>5 rows × 364 columns</p>\n",
       "</div>"
      ],
      "text/plain": [
       "   AGER_TYP  AKT_DAT_KL  ALTER_HH  ALTERSKATEGORIE_FEIN  ANZ_HAUSHALTE_AKTIV  \\\n",
       "0         2         1.0      10.0                  10.0                  1.0   \n",
       "1        -1         9.0      11.0                  -1.0                 -1.0   \n",
       "2        -1         1.0       6.0                   0.0                  1.0   \n",
       "3         1         1.0       8.0                   8.0                  0.0   \n",
       "4        -1         1.0      20.0                  14.0                  7.0   \n",
       "\n",
       "   ANZ_HH_TITEL  ANZ_KINDER  ANZ_PERSONEN  ANZ_STATISTISCHE_HAUSHALTE  \\\n",
       "0           0.0         0.0           2.0                         1.0   \n",
       "1          -1.0         0.0           3.0                        -1.0   \n",
       "2           0.0         0.0           1.0                         1.0   \n",
       "3          -1.0         0.0           0.0                         1.0   \n",
       "4           0.0         0.0           4.0                         7.0   \n",
       "\n",
       "   ANZ_TITEL  ...  WOHNLAGE  ZABEOTYP  ONLINE_PURCHASE  ANREDE_KZ  \\\n",
       "0        0.0  ...       7.0         3                0          1   \n",
       "1        0.0  ...      -1.0         3                0          1   \n",
       "2        0.0  ...       2.0         3                0          2   \n",
       "3        0.0  ...       7.0         1                0          1   \n",
       "4        0.0  ...       3.0         1                0          1   \n",
       "\n",
       "   ALTERSKATEGORIE_GROB  SINGLE_BUYER  MULTI_BUYER  COSMETIC_AND_FOOD  \\\n",
       "0                     4             0            1                  1   \n",
       "1                     4             1            0                  0   \n",
       "2                     4             0            1                  1   \n",
       "3                     4             0            1                  0   \n",
       "4                     3             0            1                  0   \n",
       "\n",
       "   COSMETIC  FOOD  \n",
       "0         0     0  \n",
       "1         0     1  \n",
       "2         0     0  \n",
       "3         1     0  \n",
       "4         0     1  \n",
       "\n",
       "[5 rows x 364 columns]"
      ]
     },
     "execution_count": 5,
     "metadata": {},
     "output_type": "execute_result"
    }
   ],
   "source": [
    "customer_data.head()"
   ]
  },
  {
   "cell_type": "code",
   "execution_count": 6,
   "metadata": {},
   "outputs": [],
   "source": [
    "# Normalzing the data so that every column is on a 0 to 1 scale\n",
    "\n",
    "# Importing the scaler\n",
    "from sklearn.preprocessing import MinMaxScaler\n",
    "\n",
    "# Creating the scaler\n",
    "scaler = MinMaxScaler()\n",
    "\n",
    "# Fitting the scaler to the customer data and transforming\n",
    "customer_data_scaled = scaler.fit_transform(customer_data)"
   ]
  },
  {
   "cell_type": "code",
   "execution_count": 61,
   "metadata": {},
   "outputs": [
    {
     "data": {
      "text/plain": [
       "PCA(copy=True, iterated_power='auto', n_components=363, random_state=None,\n",
       "    svd_solver='auto', tol=0.0, whiten=False)"
      ]
     },
     "execution_count": 61,
     "metadata": {},
     "output_type": "execute_result"
    }
   ],
   "source": [
    "# import the PCA class from scikit learn\n",
    "from sklearn.decomposition import PCA\n",
    "\n",
    "# Defining the maximum number of principal components to fit the model\n",
    "num_components = len(list(customer_data.columns)) - 1\n",
    "\n",
    "# Creating a PCA model\n",
    "pca = PCA(n_components=num_components)\n",
    "\n",
    "# Fitting the PCA model\n",
    "pca.fit(customer_data_scaled)"
   ]
  },
  {
   "cell_type": "code",
   "execution_count": 62,
   "metadata": {},
   "outputs": [
    {
     "name": "stdout",
     "output_type": "stream",
     "text": [
      "[5.50444166e-01 4.13043542e-02 2.44893077e-02 1.95814997e-02\n",
      " 1.68829647e-02 1.52744762e-02 1.38610803e-02 1.07930161e-02\n",
      " 9.96348166e-03 8.64273966e-03 7.85144270e-03 7.46544275e-03\n",
      " 7.25089390e-03 5.40795060e-03 5.23551043e-03 4.86095110e-03\n",
      " 4.65122892e-03 4.19547966e-03 4.01260790e-03 3.94345652e-03\n",
      " 3.82477934e-03 3.78297882e-03 3.67448924e-03 3.60491687e-03\n",
      " 3.55511107e-03 3.53368142e-03 3.46140981e-03 3.43533795e-03\n",
      " 3.32341535e-03 3.26013278e-03 3.22219077e-03 3.11569910e-03\n",
      " 3.04040447e-03 2.90129704e-03 2.75693114e-03 2.70701525e-03\n",
      " 2.63779741e-03 2.62022772e-03 2.55234215e-03 2.49869568e-03\n",
      " 2.45067666e-03 2.42886444e-03 2.36598744e-03 2.32454376e-03\n",
      " 2.29541145e-03 2.27781924e-03 2.22781028e-03 2.20845930e-03\n",
      " 2.17455567e-03 2.15014798e-03 2.11656893e-03 2.09935817e-03\n",
      " 2.07032699e-03 2.00577588e-03 1.93197990e-03 1.90023139e-03\n",
      " 1.88952641e-03 1.83282127e-03 1.81903803e-03 1.77718764e-03\n",
      " 1.74807615e-03 1.73309576e-03 1.71643709e-03 1.67482060e-03\n",
      " 1.66731654e-03 1.64791403e-03 1.63466037e-03 1.60972485e-03\n",
      " 1.58411388e-03 1.56329906e-03 1.54637748e-03 1.54449797e-03\n",
      " 1.51888448e-03 1.48984003e-03 1.48119606e-03 1.45396323e-03\n",
      " 1.42909060e-03 1.37980178e-03 1.35818634e-03 1.34462615e-03\n",
      " 1.32540070e-03 1.31054414e-03 1.30048488e-03 1.28402287e-03\n",
      " 1.26604425e-03 1.24063087e-03 1.22909490e-03 1.22244979e-03\n",
      " 1.19158577e-03 1.18734540e-03 1.16641348e-03 1.15366135e-03\n",
      " 1.14229902e-03 1.12830056e-03 1.10648731e-03 1.09772312e-03\n",
      " 1.08652095e-03 1.05894766e-03 1.03431980e-03 1.02336869e-03\n",
      " 1.00705404e-03 9.81282978e-04 9.60440664e-04 9.57595613e-04\n",
      " 9.51554184e-04 9.43850081e-04 9.21223750e-04 9.15953948e-04\n",
      " 9.01109041e-04 8.90379031e-04 8.73649423e-04 8.65125085e-04\n",
      " 8.53996361e-04 8.45636907e-04 8.36556336e-04 8.24482275e-04\n",
      " 8.15553572e-04 8.03944615e-04 7.92926999e-04 7.80482568e-04\n",
      " 7.76795763e-04 7.62420424e-04 7.44558391e-04 7.40063755e-04\n",
      " 7.37296535e-04 7.21836073e-04 7.06385538e-04 7.01367264e-04\n",
      " 6.93266266e-04 6.86132990e-04 6.81364054e-04 6.66305501e-04\n",
      " 6.61012578e-04 6.49070964e-04 6.42352015e-04 6.24422111e-04\n",
      " 6.16961937e-04 6.11795039e-04 6.09530445e-04 5.97012211e-04\n",
      " 5.85779669e-04 5.84451518e-04 5.79121467e-04 5.61208480e-04\n",
      " 5.51358561e-04 5.46348564e-04 5.37367948e-04 5.32817423e-04\n",
      " 5.29247075e-04 5.24861095e-04 5.11152721e-04 5.03008487e-04\n",
      " 5.02373194e-04 4.96289915e-04 4.91282039e-04 4.86289105e-04\n",
      " 4.82171996e-04 4.81684580e-04 4.69324773e-04 4.58396412e-04\n",
      " 4.53510236e-04 4.47056201e-04 4.46657453e-04 4.37422483e-04\n",
      " 4.34615805e-04 4.28830006e-04 4.25872478e-04 4.24791050e-04\n",
      " 4.18668048e-04 4.13652171e-04 4.03532655e-04 4.02920497e-04\n",
      " 3.99883870e-04 3.96667225e-04 3.90376761e-04 3.87103504e-04\n",
      " 3.85631898e-04 3.76990646e-04 3.72528775e-04 3.71077924e-04\n",
      " 3.68671915e-04 3.62443988e-04 3.59964778e-04 3.49000273e-04\n",
      " 3.46928799e-04 3.43110594e-04 3.30223626e-04 3.23430755e-04\n",
      " 3.20052760e-04 3.19264442e-04 3.13074226e-04 3.09584540e-04\n",
      " 3.07686891e-04 3.05261149e-04 3.03026280e-04 2.96023321e-04\n",
      " 2.95138419e-04 2.92017636e-04 2.89640545e-04 2.87192159e-04\n",
      " 2.84955222e-04 2.82635285e-04 2.79794707e-04 2.76767670e-04\n",
      " 2.75772723e-04 2.74466060e-04 2.64313234e-04 2.60802303e-04\n",
      " 2.57463527e-04 2.51230842e-04 2.47469311e-04 2.41361438e-04\n",
      " 2.40156964e-04 2.31658143e-04 2.28414516e-04 2.27360925e-04\n",
      " 2.22408470e-04 2.21252481e-04 2.16853397e-04 2.13872005e-04\n",
      " 2.12532005e-04 2.07855669e-04 2.05930139e-04 2.02484448e-04\n",
      " 1.99304585e-04 1.97371942e-04 1.94665353e-04 1.92852800e-04\n",
      " 1.87858795e-04 1.85081403e-04 1.83200776e-04 1.79526116e-04\n",
      " 1.77856560e-04 1.74986222e-04 1.73122769e-04 1.70794825e-04\n",
      " 1.68536100e-04 1.65513515e-04 1.62926395e-04 1.58117079e-04\n",
      " 1.53431426e-04 1.52195016e-04 1.51160483e-04 1.50167696e-04\n",
      " 1.47694963e-04 1.45209348e-04 1.43987525e-04 1.42161603e-04\n",
      " 1.40206677e-04 1.38046832e-04 1.35877688e-04 1.34227634e-04\n",
      " 1.32727951e-04 1.31410374e-04 1.27916758e-04 1.26549974e-04\n",
      " 1.25136557e-04 1.21997972e-04 1.21904479e-04 1.20213822e-04\n",
      " 1.17254818e-04 1.16776761e-04 1.15801425e-04 1.12584133e-04\n",
      " 1.11029428e-04 1.09341951e-04 1.07380449e-04 1.06004082e-04\n",
      " 1.03010250e-04 1.02582218e-04 1.02421140e-04 1.01899891e-04\n",
      " 1.00816529e-04 1.00406669e-04 9.70154113e-05 9.58854930e-05\n",
      " 9.22303508e-05 8.91461902e-05 8.85148716e-05 8.58164752e-05\n",
      " 8.41108291e-05 8.36137623e-05 8.28796751e-05 7.84332959e-05\n",
      " 7.64337637e-05 7.52316333e-05 7.50396704e-05 7.44561319e-05\n",
      " 7.40107303e-05 7.30490094e-05 7.07397567e-05 6.88403129e-05\n",
      " 6.84504323e-05 6.68346616e-05 6.59481369e-05 6.55778748e-05\n",
      " 6.33002697e-05 6.02630196e-05 5.95779029e-05 5.91153717e-05\n",
      " 5.79976432e-05 5.75278818e-05 5.70749410e-05 5.64239762e-05\n",
      " 5.60503260e-05 5.51162910e-05 5.47766530e-05 5.37923710e-05\n",
      " 5.35514644e-05 5.31597612e-05 5.30217780e-05 5.25106628e-05\n",
      " 5.18443797e-05 5.13496057e-05 5.07911887e-05 5.04887076e-05\n",
      " 4.80006364e-05 4.76602557e-05 4.48664041e-05 4.26082322e-05\n",
      " 4.25126685e-05 4.15005340e-05 4.00780117e-05 3.93970704e-05\n",
      " 3.90924750e-05 3.79098311e-05 3.77592022e-05 3.65963800e-05\n",
      " 3.64743793e-05 3.50806978e-05 3.18197413e-05 2.97333137e-05\n",
      " 2.92287387e-05 2.84720825e-05 2.75882095e-05 2.71777523e-05\n",
      " 2.63823573e-05 2.47367490e-05 2.39891854e-05 2.37619564e-05\n",
      " 2.28474736e-05 2.25661581e-05 2.21013877e-05 2.20444877e-05\n",
      " 2.11561113e-05 2.02972624e-05 2.01282289e-05 1.81516157e-05\n",
      " 1.78601927e-05 1.73543796e-05 1.65400203e-05 1.60808044e-05\n",
      " 1.59897954e-05 1.55772920e-05 1.07153601e-05 8.15518090e-06\n",
      " 7.62133109e-06 6.36017357e-06 6.12485466e-06 4.27504026e-06\n",
      " 1.99724695e-07 1.08555971e-31 3.78400305e-33]\n"
     ]
    }
   ],
   "source": [
    "explained_variance_ratio = pca.explained_variance_ratio_\n",
    "print(explained_variance_ratio)"
   ]
  },
  {
   "cell_type": "code",
   "execution_count": null,
   "metadata": {},
   "outputs": [],
   "source": [
    "def create_variance_plot(explained_var_ratio, num_components):\n",
    "    \"\"\"\n",
    "    Creates a graph that shows the explained variance as a function of the number of principal components\n",
    "    param explained_var_ratio: A list that holds the explained variance ratio for each component\n",
    "    param num_components: An integer that specifies that number of components to display in the graph\n",
    "    return: Use plt.show() to display the graph\n",
    "    \"\"\"\n",
    "    # Getting an array of the cumulative sum of explained variance ratios in order to visualize the number of components needed\n",
    "    explained_var_cumulative = np.cumsum(explained_var_ratio)\n",
    "    \n",
    "    # Creating the x-axis for the plot of the explained variance over the number of components plot\n",
    "    x_axis = [*range(1, len(explained_var_cumulative)+1)]\n",
    "    \n",
    "    # Creating the plot for the explained variance over the number of components plot\n",
    "    plt.plot(x_axis[:num_components], explained_var_cumulative[:num_components])\n",
    "    # Adding a title\n",
    "    plt.title(\"Explained Variance vs Number of Principal Components\")\n",
    "    # Adding the x-axis label\n",
    "    plt.xlabel(\"Number of Principal Components\")\n",
    "    # Adding the y-axis label\n",
    "    plt.ylabel(\"Cumulative Variance\")\n",
    "    \n",
    "    # Displaying the graph\n",
    "    plt.show()"
   ]
  },
  {
   "cell_type": "code",
   "execution_count": 63,
   "metadata": {},
   "outputs": [
    {
     "data": {
      "image/png": "[encoded data removed]",
      "text/plain": [
       "<Figure size 432x288 with 1 Axes>"
      ]
     },
     "metadata": {
      "needs_background": "light"
     },
     "output_type": "display_data"
    }
   ],
   "source": [
    "# Creating a plot for explained variance vs the number of principal components for all the components\n",
    "create_variance_plot(explained_variance_ratio, len(explained_variance_ratio))"
   ]
  },
  {
   "cell_type": "code",
   "execution_count": 64,
   "metadata": {},
   "outputs": [
    {
     "data": {
      "image/png": "[encoded data removed]",
      "text/plain": [
       "<Figure size 432x288 with 1 Axes>"
      ]
     },
     "metadata": {
      "needs_background": "light"
     },
     "output_type": "display_data"
    }
   ],
   "source": [
    "# Creating a plot for explained variance vs the number of principal components for the first 250 components\n",
    "create_variance_plot(explained_variance_ratio, 250)"
   ]
  },
  {
   "cell_type": "code",
   "execution_count": 13,
   "metadata": {},
   "outputs": [
    {
     "name": "stdout",
     "output_type": "stream",
     "text": [
      "0.9276566172565575\n"
     ]
    }
   ],
   "source": [
    "print(explained_var_cumulative[100])"
   ]
  },
  {
   "cell_type": "code",
   "execution_count": 14,
   "metadata": {},
   "outputs": [],
   "source": [
    "# Reducing the dimensionality of the data using 100 principal components\n",
    "pca_100 = PCA(n_components=100)\n",
    "customer_data_reduced = pca_100.fit_transform(customer_data_scaled)"
   ]
  },
  {
   "cell_type": "code",
   "execution_count": 15,
   "metadata": {},
   "outputs": [
    {
     "name": "stdout",
     "output_type": "stream",
     "text": [
      "[[-2.74897068e+00 -6.83000719e-01 -1.75307268e+00 -8.73162616e-01\n",
      "   8.97134218e-04 -1.08473286e-01  3.67917541e-01 -1.31980708e-01\n",
      "  -3.27116552e-01  2.36320117e-01 -1.23434538e-01 -1.52758050e-01\n",
      "   6.90891421e-02 -3.29521660e-01  1.33026017e-01  2.38378491e-01\n",
      "  -8.02077930e-02  2.77940978e-01 -4.75776628e-02  2.88456010e-01\n",
      "  -2.09465708e-02 -3.39405630e-01  8.52047111e-01  3.84877689e-01\n",
      "  -5.63067483e-01  3.16546938e-01  4.03066506e-01  5.45273509e-02\n",
      "   6.01937009e-01 -2.45954542e-01  6.69866286e-02 -3.96962385e-01\n",
      "   3.24075525e-01 -2.72071916e-01  1.81847125e-01 -3.73600989e-03\n",
      "   2.09431972e-01 -1.34909420e-01 -3.19930536e-01 -2.16909355e-02\n",
      "   6.36773446e-02 -2.21336008e-01 -3.38636999e-01  3.67306501e-01\n",
      "  -1.20204752e-01 -1.12937511e-01 -8.49792976e-02  4.62957229e-01\n",
      "  -7.97865384e-02 -2.25236516e-01 -2.38819303e-01 -4.89018502e-01\n",
      "  -1.67712818e-01  1.03549990e-01 -5.45206657e-02  2.30024821e-01\n",
      "  -2.23799058e-02  1.53418884e-01 -1.41561743e-01 -1.09538095e-01\n",
      "   4.62774291e-02 -2.54899438e-02  1.36174456e-01 -1.07165251e-01\n",
      "  -5.89706302e-03  2.10093599e-01 -6.79183440e-02 -2.58340264e-01\n",
      "   2.95805454e-01  1.51641872e-01 -4.05170631e-01  7.30747344e-02\n",
      "   2.78990866e-01 -3.69266151e-01  2.97656046e-02 -3.29692300e-01\n",
      "  -6.29881516e-02 -1.19064956e-01  8.79705078e-02 -2.86691932e-01\n",
      "  -2.13045845e-01 -2.49525015e-01  2.75725836e-02 -4.45427474e-02\n",
      "  -1.42858610e-01  1.30141872e-01 -2.14923106e-01 -2.03425555e-01\n",
      "   1.84725264e-02  1.43977920e-01 -3.07560772e-01 -3.69213936e-01\n",
      "  -2.04468286e-01  1.39612002e-02  3.09495973e-01 -2.47438325e-01\n",
      "  -2.36065610e-01 -2.04284690e-01  2.02555409e-01  1.65448980e-01]\n",
      " [ 5.52018666e+00  6.87176406e-01  4.70064742e-01 -6.30968831e-01\n",
      "   6.09525922e-01 -2.61946142e-01 -1.25203556e+00 -7.94148813e-01\n",
      "  -1.40676254e+00 -2.79808934e-01  2.86692922e+00  9.66010330e-01\n",
      "   3.52842637e-01 -3.59129423e-01  2.13586182e+00  1.53999203e+00\n",
      "   7.08325489e-01 -2.86709688e-01  1.54482017e-01  1.72605548e-01\n",
      "  -4.12465402e-01  3.54999762e-01  1.71632960e-01 -1.50769521e-02\n",
      "  -1.09129501e-01 -1.41094781e-01  2.76650300e-01 -2.66568934e-01\n",
      "  -4.09341790e-01  1.51542608e-01 -2.84962632e-01  3.45046748e-01\n",
      "   3.52259051e-01 -2.15482826e-01  3.19521028e-01  2.87817674e-02\n",
      "   5.39410548e-01  1.43221059e-01  7.37472425e-03  1.45426193e-01\n",
      "   7.68231478e-02  2.12910169e-01  6.86572270e-02 -2.82050878e-01\n",
      "  -1.98489626e-01 -4.67979548e-02 -3.66924131e-02 -5.04994394e-02\n",
      "  -3.02547206e-02  2.17642504e-02 -2.58941699e-01 -2.86776385e-01\n",
      "  -2.45247215e-01 -2.83830044e-01  8.91210461e-02  3.63627664e-01\n",
      "   2.54471103e-01  1.58750825e-01 -9.27502883e-02  1.15863466e-01\n",
      "   9.29338333e-02 -1.34713628e-02  3.50820625e-01 -2.61731656e-01\n",
      "   2.29546643e-01 -1.28987608e-01  1.07735330e-01 -1.72779358e-01\n",
      "  -5.51184227e-02  2.10802101e-01 -7.73475254e-02 -8.50917323e-02\n",
      "  -3.78366467e-01  3.06235409e-01 -2.36856272e-01  2.43771607e-01\n",
      "   1.14716254e-01  2.22892205e-02 -1.99819605e-03  4.35268878e-02\n",
      "   2.30461182e-01  8.20795384e-01 -8.31935528e-02 -8.85614690e-03\n",
      "  -3.15464025e-01  1.72429397e-01 -2.54003243e-01 -2.68879364e-02\n",
      "  -1.76254566e-01 -5.70278325e-02 -4.06222586e-02  8.22785554e-02\n",
      "   6.44926675e-02 -1.01264151e-01 -4.73641229e-02 -2.46669482e-01\n",
      "   1.46601741e-01  1.15939712e-01 -2.51546171e-02 -8.18216329e-02]\n",
      " [-2.35286363e+00 -2.14137765e+00 -1.72793752e-01  4.02954344e-01\n",
      "  -5.67593520e-03  9.20065815e-01  2.48017312e-01 -8.10804235e-02\n",
      "   3.08183944e-01 -2.96570540e-01 -3.11179255e-01  1.03821559e-01\n",
      "   6.73975982e-01 -1.12456837e+00  5.10118200e-01 -6.26164243e-01\n",
      "  -4.30634847e-01  9.31048992e-01  4.84299059e-01  5.89541743e-02\n",
      "   3.81926095e-01  5.47228565e-01 -3.00259121e-01 -1.34671998e-01\n",
      "  -1.12562196e-01  2.42258492e-01  1.18710331e-02  1.82942708e-01\n",
      "   4.67111357e-01  3.51046631e-01  1.32916836e-02 -3.40681712e-01\n",
      "   3.13498047e-01  4.59327981e-01  2.33614315e-01  7.83526652e-01\n",
      "   7.37288877e-02 -2.00601585e-02  1.25588228e-01 -6.80818294e-02\n",
      "   1.43893213e-02  2.93864941e-01  3.59023656e-01 -1.33360320e-01\n",
      "   1.25819268e-01 -2.81350452e-01  2.03404265e-03 -3.45080909e-01\n",
      "  -3.67536565e-01 -3.54773977e-01  6.70375352e-04  1.72425205e-01\n",
      "   2.28622430e-01  2.71231890e-01 -1.63298410e-01  1.35572247e-01\n",
      "   2.28820264e-01  8.33357391e-02 -2.21979803e-01  1.52761228e-02\n",
      "   1.11202057e-01  2.75745510e-01  1.75927988e-01 -2.67212990e-01\n",
      "   1.92043581e-01 -2.54680373e-01  7.80376058e-02  1.61084722e-01\n",
      "   5.13673869e-01 -1.70161243e-01 -1.46098595e-02  1.52795503e-03\n",
      "   4.58923508e-02  2.15033866e-01 -2.76381180e-01 -2.34445404e-02\n",
      "   2.29340105e-01 -5.37983769e-02 -1.77001405e-01 -4.60371473e-01\n",
      "   1.45858559e-01  2.83155242e-01 -1.60991837e-01 -2.30857265e-01\n",
      "   3.31330385e-01  8.60066030e-02  1.69369442e-01  1.73386602e-01\n",
      "  -2.97402355e-01  4.33199262e-01 -1.86231947e-01  1.51421622e-01\n",
      "  -1.48082261e-01  1.28554381e-01 -6.22190729e-02  3.51990679e-01\n",
      "   1.23075712e-01  1.68701672e-01 -2.09471800e-01 -3.13356779e-03]\n",
      " [-2.17104328e+00 -8.86343972e-01 -5.26820648e-01 -9.21356470e-01\n",
      "  -6.01016271e-01 -7.44258365e-01  1.20676949e-01  1.88862785e-01\n",
      "  -6.88329565e-01  5.21370442e-01 -5.26343111e-01  4.18890606e-01\n",
      "  -7.89807571e-01  4.99089131e-01  2.31802206e-02  3.33138247e-01\n",
      "  -4.04686289e-01 -1.82976455e-01  2.64561423e-01 -1.02183715e-01\n",
      "   2.74464046e-01  2.24682856e-01  4.42580731e-01 -1.71969067e-01\n",
      "   6.73443346e-01 -6.10498218e-02  5.32201901e-01  4.16805275e-02\n",
      "  -2.80897937e-01  8.58426271e-02  9.16469894e-02  5.41691882e-01\n",
      "   2.52519487e-02 -3.94081144e-01 -4.13390337e-01 -2.15732527e-01\n",
      "  -3.23064844e-01 -2.44679709e-01  4.47706641e-01  2.16717755e-01\n",
      "  -1.74604000e-01 -1.53114994e-01  6.73917467e-02 -3.08224960e-01\n",
      "  -5.22574053e-01  7.10227149e-02  9.73465218e-02 -1.73395629e-02\n",
      "  -4.00082347e-01  5.11661902e-01 -2.43754411e-01  2.65256781e-01\n",
      "   8.49417042e-02  6.66712524e-01  6.83667830e-02  6.64814332e-02\n",
      "   9.72266038e-02 -9.58454334e-02  2.14938917e-01  2.97078757e-01\n",
      "   2.66289538e-01  7.18287314e-03 -1.75200937e-02 -5.01995424e-01\n",
      "  -1.38844768e-01  3.60703624e-02  2.05400992e-01 -3.85795739e-02\n",
      "  -2.11692638e-01 -1.89996267e-01  9.36921335e-02 -3.72661505e-02\n",
      "  -2.56372588e-01 -1.25765059e-02 -1.16577460e-02 -1.18412723e-01\n",
      "   2.76159888e-01 -2.73673330e-01 -5.24139275e-02  2.80925341e-01\n",
      "   2.59573691e-01 -1.20753722e-01  5.02198490e-02  4.15182146e-01\n",
      "   1.58441795e-01  8.05221277e-03 -5.21909776e-02 -1.46716992e-01\n",
      "  -4.43998713e-03 -3.54585195e-01 -1.27544060e-01 -1.11092450e-01\n",
      "   1.42070311e-01 -2.25940331e-01  7.97730476e-02  1.57170919e-01\n",
      "   2.26517848e-01 -3.49503430e-02 -3.81976148e-01  4.41018296e-02]\n",
      " [-2.62392351e+00  1.50216710e+00  1.27714327e+00  1.40916196e+00\n",
      "  -3.27995705e-01 -1.30080757e+00 -4.72116274e-01  3.58341578e-01\n",
      "   4.38939284e-01 -2.29866894e-01  1.58492128e-02 -4.70759823e-01\n",
      "  -1.52368702e-01 -5.47648491e-01  9.84515313e-02  2.03735613e-01\n",
      "  -5.04645922e-01  2.70112441e-01 -4.31854616e-01 -3.59832576e-01\n",
      "  -5.04085045e-01 -6.83140259e-01  4.46476602e-02  1.78302725e-01\n",
      "   7.62782599e-01  4.48778832e-01  1.89180448e-02  1.23420878e-02\n",
      "   2.55051000e-01 -1.69010097e-01  2.19207127e-01 -6.27801225e-01\n",
      "   9.13628240e-02  2.09183019e-01  7.13499850e-01  2.53443917e-01\n",
      "   5.63135635e-01 -3.96745221e-02 -2.09303744e-01  4.84610100e-04\n",
      "   1.79154385e-02 -1.89377251e-01 -6.56725725e-01  1.95920138e-01\n",
      "   5.40586197e-01 -1.14621286e-01 -2.33829515e-01 -1.80344948e-01\n",
      "  -5.63006020e-01 -4.63394799e-01 -3.47642227e-01 -2.23664506e-01\n",
      "   3.53514190e-01  1.53690559e-01 -3.02549831e-01  8.25714472e-02\n",
      "   5.74687088e-01  4.25023647e-01 -5.17211154e-01 -1.79903598e-02\n",
      "  -4.13912835e-01  1.10637835e-01  4.00466055e-02  2.62535876e-01\n",
      "  -8.41024501e-02  1.20691662e-01 -1.39220704e-01  4.63539409e-02\n",
      "   2.94923235e-01  7.03004935e-01 -6.91455504e-04  3.87365285e-01\n",
      "   5.39629109e-01 -1.88149480e-01  1.71968275e-02  1.65516366e-01\n",
      "  -2.66873660e-01  6.05468775e-02  4.52852979e-01  9.61037446e-02\n",
      "  -1.64777136e-02 -2.91375388e-02 -1.76877286e-01  2.29673087e-03\n",
      "   6.27284016e-01 -3.04220733e-01 -3.61806617e-01  2.60842366e-01\n",
      "   3.49138934e-01 -1.27418560e-01 -1.93514067e-01 -2.38439291e-01\n",
      "  -1.23383408e-01  1.73225633e-01 -1.44170327e-01  1.67416176e-01\n",
      "   2.45191520e-01  1.83768708e-01 -4.63780430e-02  3.27150091e-01]]\n"
     ]
    }
   ],
   "source": [
    "print(customer_data_reduced[:5])"
   ]
  },
  {
   "cell_type": "code",
   "execution_count": 16,
   "metadata": {},
   "outputs": [],
   "source": [
    "# Creating a dataframe that contains the correlations between a principal component and the features\n",
    "component_makeup = pd.DataFrame(pca_100.components_, columns=customer_data.columns, index=[*range(1, 101)])"
   ]
  },
  {
   "cell_type": "code",
   "execution_count": 17,
   "metadata": {},
   "outputs": [
    {
     "data": {
      "text/html": [
       "<div>\n",
       "<style scoped>\n",
       "    .dataframe tbody tr th:only-of-type {\n",
       "        vertical-align: middle;\n",
       "    }\n",
       "\n",
       "    .dataframe tbody tr th {\n",
       "        vertical-align: top;\n",
       "    }\n",
       "\n",
       "    .dataframe thead th {\n",
       "        text-align: right;\n",
       "    }\n",
       "</style>\n",
       "<table border=\"1\" class=\"dataframe\">\n",
       "  <thead>\n",
       "    <tr style=\"text-align: right;\">\n",
       "      <th></th>\n",
       "      <th>AGER_TYP</th>\n",
       "      <th>AKT_DAT_KL</th>\n",
       "      <th>ALTER_HH</th>\n",
       "      <th>ALTERSKATEGORIE_FEIN</th>\n",
       "      <th>ANZ_HAUSHALTE_AKTIV</th>\n",
       "      <th>ANZ_HH_TITEL</th>\n",
       "      <th>ANZ_KINDER</th>\n",
       "      <th>ANZ_PERSONEN</th>\n",
       "      <th>ANZ_STATISTISCHE_HAUSHALTE</th>\n",
       "      <th>ANZ_TITEL</th>\n",
       "      <th>...</th>\n",
       "      <th>WOHNLAGE</th>\n",
       "      <th>ZABEOTYP</th>\n",
       "      <th>ONLINE_PURCHASE</th>\n",
       "      <th>ANREDE_KZ</th>\n",
       "      <th>ALTERSKATEGORIE_GROB</th>\n",
       "      <th>SINGLE_BUYER</th>\n",
       "      <th>MULTI_BUYER</th>\n",
       "      <th>COSMETIC_AND_FOOD</th>\n",
       "      <th>COSMETIC</th>\n",
       "      <th>FOOD</th>\n",
       "    </tr>\n",
       "  </thead>\n",
       "  <tbody>\n",
       "    <tr>\n",
       "      <th>1</th>\n",
       "      <td>-0.044586</td>\n",
       "      <td>-0.026148</td>\n",
       "      <td>-0.057094</td>\n",
       "      <td>-0.041952</td>\n",
       "      <td>-0.001072</td>\n",
       "      <td>-0.004521</td>\n",
       "      <td>-0.012492</td>\n",
       "      <td>-0.015285</td>\n",
       "      <td>-0.001429</td>\n",
       "      <td>-0.016820</td>\n",
       "      <td>...</td>\n",
       "      <td>-0.054918</td>\n",
       "      <td>0.014415</td>\n",
       "      <td>0.001432</td>\n",
       "      <td>0.020567</td>\n",
       "      <td>-0.022343</td>\n",
       "      <td>0.005284</td>\n",
       "      <td>-0.005284</td>\n",
       "      <td>-0.004831</td>\n",
       "      <td>0.001967</td>\n",
       "      <td>0.002864</td>\n",
       "    </tr>\n",
       "    <tr>\n",
       "      <th>2</th>\n",
       "      <td>-0.018081</td>\n",
       "      <td>-0.017172</td>\n",
       "      <td>0.105949</td>\n",
       "      <td>0.052613</td>\n",
       "      <td>-0.005026</td>\n",
       "      <td>-0.001714</td>\n",
       "      <td>0.011464</td>\n",
       "      <td>0.028992</td>\n",
       "      <td>-0.006739</td>\n",
       "      <td>0.001624</td>\n",
       "      <td>...</td>\n",
       "      <td>0.012532</td>\n",
       "      <td>-0.059281</td>\n",
       "      <td>0.035009</td>\n",
       "      <td>-0.081829</td>\n",
       "      <td>-0.008442</td>\n",
       "      <td>0.061430</td>\n",
       "      <td>-0.061430</td>\n",
       "      <td>-0.067484</td>\n",
       "      <td>0.023480</td>\n",
       "      <td>0.044005</td>\n",
       "    </tr>\n",
       "    <tr>\n",
       "      <th>3</th>\n",
       "      <td>-0.050082</td>\n",
       "      <td>0.025662</td>\n",
       "      <td>0.029079</td>\n",
       "      <td>0.038009</td>\n",
       "      <td>0.004502</td>\n",
       "      <td>0.001089</td>\n",
       "      <td>0.004419</td>\n",
       "      <td>-0.005786</td>\n",
       "      <td>0.005740</td>\n",
       "      <td>-0.001056</td>\n",
       "      <td>...</td>\n",
       "      <td>0.005942</td>\n",
       "      <td>0.079637</td>\n",
       "      <td>0.035614</td>\n",
       "      <td>0.257415</td>\n",
       "      <td>-0.016591</td>\n",
       "      <td>0.353961</td>\n",
       "      <td>-0.353961</td>\n",
       "      <td>-0.364140</td>\n",
       "      <td>0.118958</td>\n",
       "      <td>0.245182</td>\n",
       "    </tr>\n",
       "    <tr>\n",
       "      <th>4</th>\n",
       "      <td>-0.031476</td>\n",
       "      <td>0.025673</td>\n",
       "      <td>0.037885</td>\n",
       "      <td>0.031912</td>\n",
       "      <td>0.005930</td>\n",
       "      <td>0.002091</td>\n",
       "      <td>0.006614</td>\n",
       "      <td>0.002151</td>\n",
       "      <td>0.007623</td>\n",
       "      <td>0.001844</td>\n",
       "      <td>...</td>\n",
       "      <td>-0.034156</td>\n",
       "      <td>0.062655</td>\n",
       "      <td>0.038975</td>\n",
       "      <td>0.110662</td>\n",
       "      <td>-0.017704</td>\n",
       "      <td>-0.357491</td>\n",
       "      <td>0.357491</td>\n",
       "      <td>0.371883</td>\n",
       "      <td>-0.148282</td>\n",
       "      <td>-0.223602</td>\n",
       "    </tr>\n",
       "    <tr>\n",
       "      <th>5</th>\n",
       "      <td>0.074601</td>\n",
       "      <td>-0.001698</td>\n",
       "      <td>-0.016877</td>\n",
       "      <td>-0.011225</td>\n",
       "      <td>0.003957</td>\n",
       "      <td>0.002672</td>\n",
       "      <td>-0.004640</td>\n",
       "      <td>0.000943</td>\n",
       "      <td>0.005174</td>\n",
       "      <td>0.003901</td>\n",
       "      <td>...</td>\n",
       "      <td>-0.140087</td>\n",
       "      <td>-0.024926</td>\n",
       "      <td>0.005656</td>\n",
       "      <td>-0.142243</td>\n",
       "      <td>0.006864</td>\n",
       "      <td>0.103524</td>\n",
       "      <td>-0.103524</td>\n",
       "      <td>-0.126744</td>\n",
       "      <td>0.121449</td>\n",
       "      <td>0.005295</td>\n",
       "    </tr>\n",
       "  </tbody>\n",
       "</table>\n",
       "<p>5 rows × 364 columns</p>\n",
       "</div>"
      ],
      "text/plain": [
       "   AGER_TYP  AKT_DAT_KL  ALTER_HH  ALTERSKATEGORIE_FEIN  ANZ_HAUSHALTE_AKTIV  \\\n",
       "1 -0.044586   -0.026148 -0.057094             -0.041952            -0.001072   \n",
       "2 -0.018081   -0.017172  0.105949              0.052613            -0.005026   \n",
       "3 -0.050082    0.025662  0.029079              0.038009             0.004502   \n",
       "4 -0.031476    0.025673  0.037885              0.031912             0.005930   \n",
       "5  0.074601   -0.001698 -0.016877             -0.011225             0.003957   \n",
       "\n",
       "   ANZ_HH_TITEL  ANZ_KINDER  ANZ_PERSONEN  ANZ_STATISTISCHE_HAUSHALTE  \\\n",
       "1     -0.004521   -0.012492     -0.015285                   -0.001429   \n",
       "2     -0.001714    0.011464      0.028992                   -0.006739   \n",
       "3      0.001089    0.004419     -0.005786                    0.005740   \n",
       "4      0.002091    0.006614      0.002151                    0.007623   \n",
       "5      0.002672   -0.004640      0.000943                    0.005174   \n",
       "\n",
       "   ANZ_TITEL  ...  WOHNLAGE  ZABEOTYP  ONLINE_PURCHASE  ANREDE_KZ  \\\n",
       "1  -0.016820  ... -0.054918  0.014415         0.001432   0.020567   \n",
       "2   0.001624  ...  0.012532 -0.059281         0.035009  -0.081829   \n",
       "3  -0.001056  ...  0.005942  0.079637         0.035614   0.257415   \n",
       "4   0.001844  ... -0.034156  0.062655         0.038975   0.110662   \n",
       "5   0.003901  ... -0.140087 -0.024926         0.005656  -0.142243   \n",
       "\n",
       "   ALTERSKATEGORIE_GROB  SINGLE_BUYER  MULTI_BUYER  COSMETIC_AND_FOOD  \\\n",
       "1             -0.022343      0.005284    -0.005284          -0.004831   \n",
       "2             -0.008442      0.061430    -0.061430          -0.067484   \n",
       "3             -0.016591      0.353961    -0.353961          -0.364140   \n",
       "4             -0.017704     -0.357491     0.357491           0.371883   \n",
       "5              0.006864      0.103524    -0.103524          -0.126744   \n",
       "\n",
       "   COSMETIC      FOOD  \n",
       "1  0.001967  0.002864  \n",
       "2  0.023480  0.044005  \n",
       "3  0.118958  0.245182  \n",
       "4 -0.148282 -0.223602  \n",
       "5  0.121449  0.005295  \n",
       "\n",
       "[5 rows x 364 columns]"
      ]
     },
     "execution_count": 17,
     "metadata": {},
     "output_type": "execute_result"
    }
   ],
   "source": [
    "component_makeup.head()"
   ]
  },
  {
   "cell_type": "code",
   "execution_count": 18,
   "metadata": {},
   "outputs": [
    {
     "data": {
      "text/plain": [
       "100"
      ]
     },
     "execution_count": 18,
     "metadata": {},
     "output_type": "execute_result"
    }
   ],
   "source": [
    "# Making sure all 100 principal components are in the dataframe\n",
    "len(component_makeup.index)"
   ]
  },
  {
   "cell_type": "code",
   "execution_count": 19,
   "metadata": {},
   "outputs": [],
   "source": [
    "# Finding the most influential features of every principal component\n",
    "\n",
    "# Dictionary that will hold the names of the most important features for every principal component\n",
    "important_features_dict = {}\n",
    "\n",
    "# Counter for the row index\n",
    "i = 1\n",
    "# Iterate through all the principal components\n",
    "for i in range(1, 101):\n",
    "    # Adding a key for the principal component\n",
    "    new_key = \"PC\" + str(i)\n",
    "    # Creating an empty list for the component\n",
    "    important_features_dict[new_key] = []\n",
    "    # Iterate through all the columns\n",
    "    for feature in component_makeup.columns:\n",
    "        # Add the name of the column and correlation coefficient if there is a strong correlation\n",
    "        if component_makeup.loc[i, feature] >= 0.2 or component_makeup.loc[i, feature] <= -0.2:\n",
    "            important_features_dict[new_key].append((feature, component_makeup.loc[i, feature]))"
   ]
  },
  {
   "cell_type": "code",
   "execution_count": 20,
   "metadata": {},
   "outputs": [
    {
     "name": "stdout",
     "output_type": "stream",
     "text": [
      "{'PC1': [], 'PC2': [('D19_GESAMT_ONLINE_QUOTE_12', 0.20151695043246737)], 'PC3': [('ANREDE_KZ', 0.2574145533663401), ('SINGLE_BUYER', 0.35396145552114333), ('MULTI_BUYER', -0.3539614555211433), ('COSMETIC_AND_FOOD', -0.36414008487083893), ('FOOD', 0.2451823704488123)], 'PC4': [('SINGLE_BUYER', -0.3574913582164754), ('MULTI_BUYER', 0.3574913582164753), ('COSMETIC_AND_FOOD', 0.37188349305147256), ('FOOD', -0.2236019180156324)], 'PC5': [('GREEN_AVANTGARDE', 0.23376134727842032)], 'PC6': [('SEMIO_ERL', 0.21597824514282993), ('SEMIO_FAM', -0.2151801961919586), ('SEMIO_KULT', -0.24220188007721183), ('ANREDE_KZ', 0.41369645813849276)], 'PC7': [('ANREDE_KZ', 0.24061055992421604)], 'PC8': [], 'PC9': [('D19_GESAMT_ONLINE_QUOTE_12', -0.20113097268355987), ('LP_FAMILIE_FEIN', 0.3809276152374599), ('LP_FAMILIE_GROB', 0.33142958192105776), ('LP_LEBENSPHASE_FEIN', 0.30848731697389176), ('LP_LEBENSPHASE_GROB', 0.32805588809350184)], 'PC10': [('LP_LEBENSPHASE_FEIN', -0.20774613209554418), ('LP_LEBENSPHASE_GROB', -0.2031920827790332)], 'PC11': [('GEBURTSJAHR', 0.2142351774797864), ('COSMETIC', -0.3337666806224888), ('FOOD', 0.2548926352250337)], 'PC12': [('COSMETIC', 0.6384668753384795), ('FOOD', -0.49187790283631644)], 'PC13': [('GREEN_AVANTGARDE', 0.4923867514652564), ('COSMETIC', -0.2324577754728249)], 'PC14': [('KBA13_CCM_0_1400', -0.22038269081182196), ('KBA13_CCM_1000', -0.20995719093096038), ('KBA13_CCM_1401_2500', 0.2225240954480413), ('KBA13_KMH_0_140', -0.2923300643182549), ('KBA13_KMH_140', -0.26076983648469737), ('KBA13_KW_61_120', 0.20995410825600722)], 'PC15': [('GEBURTSJAHR', -0.6903618535398104)], 'PC16': [('D19_GESAMT_OFFLINE_DATUM', -0.2307524838738568), ('D19_GESAMT_ONLINE_QUOTE_12', -0.2404311225936269), ('D19_KOSMETIK', -0.31693497753889427), ('D19_LOTTO', -0.34976616267860805), ('D19_REISEN', -0.25452729037639765), ('D19_SONSTIGE', -0.25501575305438967), ('D19_VERSAND_OFFLINE_DATUM', -0.20300325044375403), ('D19_VERSAND_ONLINE_QUOTE_12', -0.23163869110875115)], 'PC17': [('D19_TELKO_MOBILE', -0.2068192703768505), ('EXTSEL992', 0.230026680392425)], 'PC18': [('D19_BILDUNG', 0.2853723116872947), ('D19_KOSMETIK', -0.53057945973011), ('D19_RATGEBER', 0.21490027972254674), ('D19_REISEN', 0.5227216179114602)], 'PC19': [('AGER_TYP', -0.24383464333750007), ('D19_REISEN', -0.20733714167646666)], 'PC20': [('D19_TECHNIK', -0.43168546471114827), ('GEBURTSJAHR', -0.2161534865105151)], 'PC21': [('D19_BUCH_CD', -0.20245850068334148), ('D19_GESAMT_OFFLINE_DATUM', -0.2270024561129568), ('D19_TECHNIK', 0.26404320823442046), ('GEBURTSJAHR', -0.26301213126278733)], 'PC22': [('D19_TECHNIK', -0.23266955280120957), ('D19_VOLLSORTIMENT', -0.2078002773305671), ('KKK', -0.20086675678676344), ('REGIOTYP', -0.2386552445618811)], 'PC23': [('D19_BUCH_CD', 0.2891750440256909), ('D19_KOSMETIK', -0.26237396360021775), ('D19_REISEN', -0.41300415306559346), ('D19_TECHNIK', 0.5158269234626185), ('GEBURTSJAHR', -0.23152055968873173)], 'PC24': [('D19_HANDWERK', 0.22401650764021724), ('D19_VOLLSORTIMENT', -0.387417637562503)], 'PC25': [('SINGLE_BUYER', -0.3830156235991493), ('MULTI_BUYER', 0.38301562359914926), ('COSMETIC_AND_FOOD', -0.47412872624478475), ('FOOD', 0.3535172320422755)], 'PC26': [('D19_HANDWERK', -0.49495551257018705), ('D19_KINDERARTIKEL', 0.20126464216858841), ('D19_KOSMETIK', 0.36726530224366377), ('D19_VOLLSORTIMENT', -0.3025389115936231)], 'PC27': [('D19_HANDWERK', -0.5521138970493419), ('D19_VOLLSORTIMENT', 0.3390917498179689)], 'PC28': [('D19_HANDWERK', -0.27591509354396127), ('D19_REISEN', -0.2242345785997297), ('D19_SAMMELARTIKEL', 0.5376065006647104), ('FINANZTYP', 0.28500809434607066)], 'PC29': [('D19_BEKLEIDUNG_REST', -0.21745918327449823), ('D19_BUCH_CD', 0.24753233250020232), ('D19_HANDWERK', 0.32181636138126907), ('D19_LOTTO', 0.2232244976336612), ('D19_SAMMELARTIKEL', 0.26730435832278404), ('D19_VOLLSORTIMENT', -0.3968474552082655)], 'PC30': [('D19_KOSMETIK', -0.3643767831696039), ('D19_LOTTO', 0.7565587558416983), ('D19_TECHNIK', -0.2731595667111301)], 'PC31': [('D19_BUCH_CD', 0.4161958053633452), ('D19_VOLLSORTIMENT', -0.2757826925156635), ('FINANZTYP', -0.3672867894221942)], 'PC32': [('D19_BEKLEIDUNG_GEH', -0.23692422568069627), ('D19_BEKLEIDUNG_REST', -0.3697810943587286), ('D19_BUCH_CD', 0.25690257370821745), ('D19_KINDERARTIKEL', 0.31310958806499284), ('D19_SAMMELARTIKEL', -0.3168272455287222), ('D19_TECHNIK', -0.22051146248789574), ('D19_VOLLSORTIMENT', 0.2334819732649564), ('D19_WEIN_FEINKOST', -0.2185495764937892)], 'PC33': [('D19_BEKLEIDUNG_REST', -0.5526034567436091), ('D19_SAMMELARTIKEL', 0.29242951213796436), ('D19_VOLLSORTIMENT', 0.2697660641649398), ('FINANZTYP', -0.3911794311755265)], 'PC34': [('BALLRAUM', 0.23673110490772792), ('GREEN_AVANTGARDE', 0.21215002724730336), ('SEMIO_MAT', 0.22858608281228654)], 'PC35': [('D19_BUCH_CD', -0.20315791786158907), ('D19_SAMMELARTIKEL', 0.28775354219203847), ('FINANZTYP', -0.27054253570726583), ('KBA13_KMH_0_140', -0.22156556343051514)], 'PC36': [('D19_BILDUNG', 0.2257269989350143), ('D19_BUCH_CD', -0.20429735031746102)], 'PC37': [('D19_BANKEN_DATUM', -0.28041901341333086), ('D19_BANKEN_GROSS', 0.2200145951559246), ('D19_BANKEN_ONLINE_DATUM', -0.24300378402472597), ('D19_BANKEN_ONLINE_QUOTE_12', 0.2350963582067798), ('D19_VERSICHERUNGEN', -0.41850578322785337)], 'PC38': [('D19_VERSICHERUNGEN', -0.3412009692912446)], 'PC39': [('D19_BEKLEIDUNG_REST', 0.2833046394395347), ('D19_BUCH_CD', 0.24841228264615964), ('D19_HAUS_DEKO', -0.2676762713716068), ('D19_REISEN', 0.28329978266059486), ('D19_SAMMELARTIKEL', 0.2516328609103786), ('D19_SONSTIGE', -0.44034893769525446), ('D19_WEIN_FEINKOST', -0.24114542603083175), ('EXTSEL992', -0.2528922977581224)], 'PC40': [('D19_BEKLEIDUNG_REST', -0.20957429610968015), ('D19_BILDUNG', -0.2763990854358181), ('D19_BUCH_CD', 0.20008530998519455), ('D19_TELKO_MOBILE', 0.27746901591714), ('D19_VERSICHERUNGEN', -0.23867029093663408), ('KK_KUNDENTYP', -0.2794544160858764)], 'PC41': [('KBA13_ANZAHL_PKW', -0.2095381266156492), ('KBA13_CCM_1000', 0.2394432277198524), ('KBA13_GBZ', -0.21445465601399294), ('KBA13_HHZ', -0.2444049560410849), ('PLZ8_GBZ', -0.25897956889046325), ('PLZ8_HHZ', -0.28845200138962)], 'PC42': [('D19_HAUS_DEKO', 0.2658736340968582), ('D19_SONSTIGE', -0.29781681243898195), ('KK_KUNDENTYP', 0.20627846029090058), ('SEMIO_MAT', -0.25844290819837995)], 'PC43': [('D19_BILDUNG', 0.4079916019359499), ('D19_HAUS_DEKO', -0.3081859725502073), ('ONLINE_PURCHASE', 0.7231418398180507)], 'PC44': [('D19_BILDUNG', -0.40787309378560466), ('D19_HAUS_DEKO', 0.4440110383040085), ('D19_SONSTIGE', 0.24494616271876501), ('D19_WEIN_FEINKOST', -0.25151733524909414), ('ONLINE_PURCHASE', 0.5682845806357618)], 'PC45': [('D19_BILDUNG', 0.27515573715447655), ('D19_KINDERARTIKEL', -0.21185108548074633), ('D19_TELKO_MOBILE', 0.4088046654666594), ('D19_VERSICHERUNGEN', -0.3390937901074288), ('KK_KUNDENTYP', 0.38149962596667375)], 'PC46': [('D19_SONSTIGE', -0.3027520338308529), ('EXTSEL992', 0.28295810809533267)], 'PC47': [('D19_TELKO_MOBILE', -0.3630173090384605), ('GREEN_AVANTGARDE', 0.22326216133729113)], 'PC48': [('D19_HAUS_DEKO', 0.20458498308991493), ('GREEN_AVANTGARDE', 0.36577108570879635)], 'PC49': [('D19_BILDUNG', -0.22148662059358035), ('D19_HAUS_DEKO', -0.2240025911274935), ('D19_KINDERARTIKEL', 0.638956232684676), ('D19_WEIN_FEINKOST', 0.32540502942286925)], 'PC50': [('D19_WEIN_FEINKOST', 0.25870231128510457), ('KK_KUNDENTYP', 0.2999093652428798), ('W_KEIT_KIND_HH', -0.3934607311424791)], 'PC51': [('D19_BEKLEIDUNG_GEH', 0.5720002319491991), ('KK_KUNDENTYP', 0.21724307729986872)], 'PC52': [('D19_BEKLEIDUNG_GEH', 0.3607091004882227)], 'PC53': [('D19_BEKLEIDUNG_GEH', -0.3897447379168522), ('GREEN_AVANTGARDE', 0.24621977414453708), ('KBA13_CCM_2500', -0.21816757972409875), ('KBA13_KW_120', -0.30683902796947893), ('SEMIO_MAT', -0.20433609155747984)], 'PC54': [('KBA13_CCM_1800', -0.20137486972744023), ('KBA13_KW_120', 0.20772137736135582)], 'PC55': [('D19_DROGERIEARTIKEL', 0.22145201539655038), ('D19_TELKO_MOBILE', -0.2545200921596871), ('D19_WEIN_FEINKOST', -0.20246479930044517)], 'PC56': [('D19_DROGERIEARTIKEL', 0.3580192573385402), ('D19_NAHRUNGSERGAENZUNG', 0.22297830407062966), ('D19_WEIN_FEINKOST', -0.40688076037277726)], 'PC57': [('KBA13_KW_120', -0.28898958213876)], 'PC58': [('KBA05_ANTG2', 0.22651730689621555)], 'PC59': [('D19_KONSUMTYP', 0.2633845954858759), ('D19_KONSUMTYP_MAX', 0.29970017394689064), ('D19_TELKO_REST', -0.3008258025202479), ('KBA05_ANTG2', -0.2264340600705618)], 'PC60': [('D19_TELKO_REST', 0.42910177538571576)], 'PC61': [('D19_KONSUMTYP_MAX', -0.2290326492390327), ('D19_TELKO_REST', -0.35981903142194904), ('KBA13_CCM_1800', 0.27191166612986784), ('KBA13_KW_110', -0.22511212399763184), ('KBA13_KW_120', 0.2656814596053831), ('KBA13_KW_80', 0.265953667348084)], 'PC62': [('D19_TELKO_REST', 0.360678211378505), ('KBA13_VORB_3', 0.20528443784357125)], 'PC63': [('ALTER_HH', 0.2669450232017284), ('SHOPPER_TYP', -0.4827113977649144), ('ANREDE_KZ', 0.25806762620384593)], 'PC64': [('D19_FREIZEIT', 0.28513844940920874), ('D19_KONSUMTYP_MAX', 0.24105245235890752), ('D19_LEBENSMITTEL', -0.20759951206584146), ('D19_VERSAND_REST', 0.3208134929012055), ('GFK_URLAUBERTYP', -0.24878461647860228), ('W_KEIT_KIND_HH', 0.2522131857088619)], 'PC65': [('D19_TELKO_REST', -0.25673775987309183), ('D19_VERSAND_REST', 0.3330927189685349), ('KBA13_KW_110', 0.2202815595141959)], 'PC66': [('D19_BANKEN_GROSS', -0.2447133233559859), ('D19_BIO_OEKO', 0.26659309559793204), ('D19_VERSAND_REST', -0.38543922685823684), ('GEBAEUDETYP', -0.2256111241436387)], 'PC67': [('KBA13_CCM_1400', -0.20699427712147994), ('KBA13_CCM_1600', 0.2443044316153485), ('KBA13_CCM_1800', -0.24195227196214555), ('KBA13_KW_60', -0.3741896327259813), ('KBA13_KW_70', 0.5029381351421858), ('KBA13_KW_90', -0.2593802973185554)], 'PC68': [('D19_BANKEN_GROSS', -0.22701408578221036), ('D19_FREIZEIT', 0.5577037311809273), ('D19_LEBENSMITTEL', -0.3444487528519061), ('D19_TELKO_REST', -0.21564392695862222), ('GEBAEUDETYP', 0.23411013944218512), ('ANREDE_KZ', -0.20113425703190066)], 'PC69': [('D19_LEBENSMITTEL', 0.4032477007506175), ('D19_NAHRUNGSERGAENZUNG', -0.26971141422663863), ('D19_RATGEBER', -0.46001041628843903), ('GEBAEUDETYP', 0.3751185507550913), ('GFK_URLAUBERTYP', -0.24413879885451187)], 'PC70': [('D19_BILDUNG', -0.2051414675725057), ('D19_BIO_OEKO', -0.42725893216028527), ('D19_DROGERIEARTIKEL', 0.42340895336125), ('D19_FREIZEIT', 0.22109598666492108), ('D19_LEBENSMITTEL', 0.21850342906540768), ('D19_RATGEBER', 0.45294323846693396), ('D19_VERSAND_REST', -0.3348201512237753)], 'PC71': [('ALTER_HH', -0.28815631206367065), ('D19_BANKEN_GROSS', -0.22148136800307966), ('D19_RATGEBER', 0.25799665875991046), ('D19_VERSAND_REST', 0.32512260503055185), ('SEMIO_SOZ', 0.21965821948115868), ('ANREDE_KZ', 0.3393672365259188)], 'PC72': [('D19_BANKEN_DIREKT', 0.22246321899832186), ('D19_BANKEN_GROSS', 0.39045604076623897), ('D19_BIO_OEKO', 0.24463397331961662), ('D19_DROGERIEARTIKEL', -0.3523730630513041), ('D19_FREIZEIT', 0.23454055655891187), ('D19_LEBENSMITTEL', 0.2244685677832561), ('D19_NAHRUNGSERGAENZUNG', -0.2606166625410767), ('GFK_URLAUBERTYP', -0.2349125776478312)], 'PC73': [('D19_BANKEN_GROSS', -0.3081359089825548), ('D19_FREIZEIT', -0.27434236933937245), ('D19_LEBENSMITTEL', 0.26178973275854833), ('D19_RATGEBER', 0.4031001423565775), ('D19_VERSAND_REST', 0.3770495728324248), ('ANREDE_KZ', -0.2036495363544639)], 'PC74': [('D19_LEBENSMITTEL', -0.27746915476455536), ('GEBAEUDETYP', 0.5171371812611181)], 'PC75': [], 'PC76': [('D19_BIO_OEKO', 0.44123558465078744), ('D19_DROGERIEARTIKEL', 0.38585114867239517), ('D19_ENERGIE', -0.260175205691871), ('D19_FREIZEIT', -0.27044011536309187), ('D19_LEBENSMITTEL', -0.24862841767640956), ('D19_NAHRUNGSERGAENZUNG', -0.24042589532858588), ('GFK_URLAUBERTYP', -0.3025070656875934)], 'PC77': [('D19_ENERGIE', 0.32195482205235004), ('FIRMENDICHTE', 0.21820483113670727), ('KBA13_SEG_WOHNMOBILE', 0.32105850536558994), ('KONSUMZELLE', -0.21429888571629013)], 'PC78': [('D19_ENERGIE', 0.5821641311650257), ('ZABEOTYP', 0.23596088302243393)], 'PC79': [('KBA13_CCM_1500', 0.28008021585681536), ('KBA13_KW_110', -0.27569777517844346), ('KBA13_KW_70', 0.26054119517710506), ('KBA13_KW_80', -0.4185600408942749), ('KBA13_KW_90', 0.5523262575359248)], 'PC80': [('D19_ENERGIE', 0.30381553957589486), ('GEBAEUDETYP', -0.35450213373404243), ('KBA13_SEG_WOHNMOBILE', -0.26871893792189533)], 'PC81': [('CAMEO_DEUG_2015', 0.2185698989764431), ('CAMEO_INTL_2015', 0.21903667951432995), ('D19_ENERGIE', -0.35381796485836325), ('D19_NAHRUNGSERGAENZUNG', 0.213772630861912), ('KBA13_SEG_WOHNMOBILE', 0.32150291250499247)], 'PC82': [('D19_BANKEN_DIREKT', -0.23470873676066945), ('D19_BANKEN_REST', 0.6832976350923083)], 'PC83': [('D19_SCHUHE', 0.8129498597259874)], 'PC84': [('D19_BANKEN_DIREKT', 0.29504983708647914), ('D19_BANKEN_GROSS', -0.24692638859289898), ('D19_BANKEN_REST', 0.4643667412407438), ('D19_BIO_OEKO', -0.22394750153875578), ('D19_SCHUHE', -0.20818948556355873), ('D19_VERSI_DATUM', 0.2689396495504302)], 'PC85': [('D19_BANKEN_DIREKT', 0.28891463038464366), ('D19_BANKEN_REST', -0.24617409406118174), ('D19_BIO_OEKO', -0.21254637307885238), ('D19_NAHRUNGSERGAENZUNG', 0.2789485899496017), ('D19_SCHUHE', 0.30933931213319993), ('GFK_URLAUBERTYP', -0.20226234183702504), ('SEMIO_SOZ', -0.24431712936814096)], 'PC86': [('ALTER_HH', -0.35802187586571693), ('D19_NAHRUNGSERGAENZUNG', -0.288567538373984), ('ZABEOTYP', 0.30114931045132637)], 'PC87': [('GFK_URLAUBERTYP', -0.2871062892966861), ('KBA13_BJ_2008', -0.2932369901355323), ('KBA13_BJ_2009', 0.28930708773128266)], 'PC88': [('ALTER_HH', 0.2510170833139958), ('D19_NAHRUNGSERGAENZUNG', -0.2184265206857215), ('GFK_URLAUBERTYP', 0.22830602824019197), ('SEMIO_ERL', 0.2592529547630155), ('ZABEOTYP', -0.3107466205086197)], 'PC89': [('KBA13_BJ_2008', 0.4840936979883414), ('KBA13_BJ_2009', -0.4953263094668921)], 'PC90': [('D19_BANKEN_DIREKT', 0.2869095828254821), ('D19_VERSI_DATUM', -0.2552542184218203), ('KBA13_BJ_2009', 0.25843250044829263), ('KBA13_SEG_WOHNMOBILE', 0.21799354704641144)], 'PC91': [('ALTER_HH', -0.24527304230440836), ('D19_BANKEN_DIREKT', 0.20705331052236), ('D19_GARTEN', 0.30367185041140377)], 'PC92': [('D19_BANKEN_DIREKT', -0.25171519822371546), ('SEMIO_MAT', -0.2237351999638788), ('SEMIO_SOZ', -0.20774381581167714)], 'PC93': [('KBA13_CCM_3001', 0.26399069760378185)], 'PC94': [('KBA13_CCM_1500', -0.4054870567003166), ('ZABEOTYP', 0.3057573606640701)], 'PC95': [('KBA13_CCM_1500', 0.2877568355911275), ('KBA13_KW_40', 0.31028469883188153), ('SEMIO_SOZ', 0.23887360751350917)], 'PC96': [('D19_GARTEN', 0.3794757069950393), ('SEMIO_SOZ', 0.30593197820999496), ('VERDICHTUNGSRAUM', -0.21544861909398344)], 'PC97': [('KBA13_CCM_1500', -0.3740887039267499), ('SEMIO_SOZ', 0.20186099041921607), ('VERDICHTUNGSRAUM', 0.2454579567243983), ('ZABEOTYP', -0.2001372993935884)], 'PC98': [('D19_GARTEN', -0.31288081770269804), ('D19_SOZIALES', 0.2003738535081022)], 'PC99': [('D19_GARTEN', 0.2485916356816512), ('SEMIO_LUST', -0.2640058404881582), ('VERDICHTUNGSRAUM', 0.22761939424647876)], 'PC100': [('KBA13_CCM_1500', 0.21534073468803128), ('KBA13_CCM_3001', -0.2623368755276446), ('KBA13_FAB_SONSTIGE', 0.20909057461662128), ('KBA13_HERST_SONST', 0.20909057461662128), ('KBA13_VORB_3', -0.24135429045428788), ('UMFELD_ALT', -0.31183864369516023)]}\n"
     ]
    }
   ],
   "source": [
    "print(important_features_dict)"
   ]
  },
  {
   "cell_type": "code",
   "execution_count": 21,
   "metadata": {},
   "outputs": [],
   "source": [
    "# Finding the optimal value of k, for the number of clusters in K means clustering\n",
    "\n",
    "# Importing the K means model\n",
    "from sklearn.cluster import KMeans\n",
    "\n",
    "# For storing the distortion, the sum of squared distances of samples to their closest cluster center, for each iterations\n",
    "distortions = []\n",
    "\n",
    "# Trying different values for k, between 1 and 100\n",
    "for k in range(1, 50):\n",
    "    # Defining a k means model with the value of k for the iteration and with 100 iterations max\n",
    "    kmeans = KMeans(n_clusters=k, \n",
    "                    max_iter=100)\n",
    "    \n",
    "    # Fitting the k means model to the dimensionality reduced customer data\n",
    "    kmeans.fit(customer_data_reduced)\n",
    "    \n",
    "    # Appending the distortion value to the list\n",
    "    distortions.append(kmeans.inertia_)\n",
    "    "
   ]
  },
  {
   "cell_type": "code",
   "execution_count": 24,
   "metadata": {},
   "outputs": [
    {
     "data": {
      "text/plain": [
       "Text(0, 0.5, 'Distortion')"
      ]
     },
     "execution_count": 24,
     "metadata": {},
     "output_type": "execute_result"
    },
    {
     "data": {
      "image/png": "[encoded data removed]",
      "text/plain": [
       "<Figure size 432x288 with 1 Axes>"
      ]
     },
     "metadata": {
      "needs_background": "light"
     },
     "output_type": "display_data"
    }
   ],
   "source": [
    "plt.plot(distortions)\n",
    "plt.title(\"Distortion vs The Number of Clusters\")\n",
    "plt.xlabel(\"Number of Clusters\")\n",
    "plt.ylabel(\"Distortion\")"
   ]
  },
  {
   "cell_type": "code",
   "execution_count": 48,
   "metadata": {},
   "outputs": [
    {
     "data": {
      "text/plain": [
       "PCA(copy=True, iterated_power='auto', n_components=363, random_state=None,\n",
       "    svd_solver='auto', tol=0.0, whiten=False)"
      ]
     },
     "execution_count": 48,
     "metadata": {},
     "output_type": "execute_result"
    }
   ],
   "source": [
    "# Test using a PCA model with the unnormalized data\n",
    "\n",
    "# Defining the maximum number of principal components to fit the model\n",
    "num_components = len(list(customer_data.columns)) - 1\n",
    "\n",
    "# Creating a PCA model\n",
    "pca = PCA(n_components=num_components)\n",
    "\n",
    "# Fitting the PCA model\n",
    "pca.fit(customer_data)"
   ]
  },
  {
   "cell_type": "code",
   "execution_count": 49,
   "metadata": {},
   "outputs": [
    {
     "name": "stdout",
     "output_type": "stream",
     "text": [
      "[7.67335018e-01 1.87111768e-01 3.25792935e-02 1.23050439e-02\n",
      " 1.49945704e-04 1.20514956e-04 7.14721865e-05 4.82929112e-05\n",
      " 3.74820815e-05 2.37657140e-05 2.22471283e-05 1.37888072e-05\n",
      " 1.00935211e-05 5.77980460e-06 5.68091152e-06 5.15706887e-06\n",
      " 4.69781134e-06 4.19423534e-06 3.98388313e-06 3.81104463e-06\n",
      " 3.67447413e-06 2.90460272e-06 2.83111954e-06 2.52186478e-06\n",
      " 2.44617787e-06 2.35156217e-06 2.19396627e-06 2.12683531e-06\n",
      " 2.09559557e-06 2.05433513e-06 2.01976776e-06 2.00449404e-06\n",
      " 1.91594385e-06 1.89919359e-06 1.87089862e-06 1.83417299e-06\n",
      " 1.75617769e-06 1.75015237e-06 1.69594356e-06 1.65479929e-06\n",
      " 1.58815922e-06 1.56644211e-06 1.52907976e-06 1.48544970e-06\n",
      " 1.47063951e-06 1.43801247e-06 1.39248492e-06 1.36992319e-06\n",
      " 1.33059609e-06 1.30015416e-06 1.28350875e-06 1.26346047e-06\n",
      " 1.22178470e-06 1.20485983e-06 1.15633764e-06 1.14022143e-06\n",
      " 1.08660150e-06 1.06058034e-06 1.04480503e-06 9.89149938e-07\n",
      " 9.85063395e-07 9.69763262e-07 9.47813201e-07 9.38390687e-07\n",
      " 9.20089323e-07 9.17149468e-07 9.02294904e-07 8.97533827e-07\n",
      " 8.88046190e-07 8.75666711e-07 8.54995284e-07 8.43147547e-07\n",
      " 8.37112191e-07 8.15622275e-07 8.12832981e-07 8.04596577e-07\n",
      " 7.81025423e-07 7.73332409e-07 7.62868042e-07 7.45190027e-07\n",
      " 7.38253876e-07 7.09011475e-07 6.94769571e-07 6.87803899e-07\n",
      " 6.74092320e-07 6.58689446e-07 6.53023231e-07 6.44901674e-07\n",
      " 6.15939769e-07 6.12520407e-07 6.05445101e-07 5.94398658e-07\n",
      " 5.79702358e-07 5.72816369e-07 5.64609327e-07 5.57679502e-07\n",
      " 5.50470738e-07 5.41803237e-07 5.30701849e-07 5.25996936e-07\n",
      " 5.08136771e-07 5.02189967e-07 5.02106817e-07 4.89622841e-07\n",
      " 4.86429407e-07 4.73736430e-07 4.56821792e-07 4.56404905e-07\n",
      " 4.51551006e-07 4.43261482e-07 4.36882955e-07 4.33566188e-07\n",
      " 4.30086154e-07 4.27856962e-07 4.23060306e-07 4.20493143e-07\n",
      " 4.17910839e-07 4.09972640e-07 4.09000922e-07 4.05033725e-07\n",
      " 3.97311998e-07 3.95633910e-07 3.88168902e-07 3.85148990e-07\n",
      " 3.82448478e-07 3.80202230e-07 3.71685649e-07 3.70628399e-07\n",
      " 3.67578453e-07 3.65177607e-07 3.58563104e-07 3.53420149e-07\n",
      " 3.47973558e-07 3.45238454e-07 3.43753492e-07 3.34656447e-07\n",
      " 3.30019737e-07 3.27768127e-07 3.23666084e-07 3.15071509e-07\n",
      " 3.13699142e-07 3.08645359e-07 3.06737943e-07 3.05687293e-07\n",
      " 3.01103658e-07 3.00090649e-07 2.93681269e-07 2.87284997e-07\n",
      " 2.82128595e-07 2.77675962e-07 2.76951739e-07 2.75456633e-07\n",
      " 2.73328381e-07 2.68398154e-07 2.66357785e-07 2.64646143e-07\n",
      " 2.62957576e-07 2.55163924e-07 2.51412926e-07 2.48449166e-07\n",
      " 2.46628512e-07 2.45805122e-07 2.41371604e-07 2.38936351e-07\n",
      " 2.36027101e-07 2.35015624e-07 2.31877871e-07 2.28034499e-07\n",
      " 2.25587245e-07 2.19528521e-07 2.17759860e-07 2.15998769e-07\n",
      " 2.14805120e-07 2.13000493e-07 2.09257734e-07 2.07952916e-07\n",
      " 2.04573797e-07 2.03695575e-07 1.99538325e-07 1.97288288e-07\n",
      " 1.92027762e-07 1.91021085e-07 1.89976599e-07 1.87438791e-07\n",
      " 1.84413552e-07 1.83971108e-07 1.82004699e-07 1.80340349e-07\n",
      " 1.78482901e-07 1.74794566e-07 1.69408229e-07 1.67464414e-07\n",
      " 1.62384861e-07 1.59551476e-07 1.58312466e-07 1.57417983e-07\n",
      " 1.55401161e-07 1.53625152e-07 1.51363100e-07 1.49622399e-07\n",
      " 1.49000714e-07 1.47596615e-07 1.46137291e-07 1.41581831e-07\n",
      " 1.40581692e-07 1.40157332e-07 1.38568495e-07 1.37386467e-07\n",
      " 1.32582211e-07 1.31312563e-07 1.30410917e-07 1.29648384e-07\n",
      " 1.27645324e-07 1.24302742e-07 1.23305695e-07 1.21954511e-07\n",
      " 1.21244587e-07 1.19414272e-07 1.18366815e-07 1.16645510e-07\n",
      " 1.15127108e-07 1.14725509e-07 1.12719875e-07 1.12008571e-07\n",
      " 1.11436647e-07 1.08817798e-07 1.06524773e-07 1.06107779e-07\n",
      " 1.04777328e-07 1.03516420e-07 1.02799071e-07 9.96332056e-08\n",
      " 9.89244670e-08 9.72760672e-08 9.66871373e-08 9.62392080e-08\n",
      " 9.38093752e-08 9.24171863e-08 9.05994746e-08 8.93182303e-08\n",
      " 8.86134357e-08 8.56641571e-08 8.42038356e-08 8.29751680e-08\n",
      " 7.99937987e-08 7.92171646e-08 7.81001084e-08 7.74934568e-08\n",
      " 7.50259020e-08 7.35553132e-08 7.26140805e-08 7.16060965e-08\n",
      " 6.89578110e-08 6.74722934e-08 6.70337204e-08 6.60941600e-08\n",
      " 6.49254573e-08 6.40741842e-08 6.28666897e-08 6.24119610e-08\n",
      " 6.17869629e-08 5.94545416e-08 5.89707771e-08 5.80325085e-08\n",
      " 5.72558615e-08 5.68332423e-08 5.50705968e-08 5.43224321e-08\n",
      " 5.32148791e-08 5.26051986e-08 5.24832105e-08 5.21197824e-08\n",
      " 5.16820023e-08 5.08466906e-08 5.01231089e-08 4.90517963e-08\n",
      " 4.85605134e-08 4.80133124e-08 4.68972367e-08 4.64589667e-08\n",
      " 4.50880770e-08 4.48802900e-08 4.41713045e-08 4.33967102e-08\n",
      " 4.22191098e-08 4.20560456e-08 4.16155985e-08 4.09668143e-08\n",
      " 3.90922398e-08 3.89598244e-08 3.74771842e-08 3.65630711e-08\n",
      " 3.65334508e-08 3.60370785e-08 3.55187867e-08 3.43686951e-08\n",
      " 3.37304553e-08 3.31251860e-08 3.30101970e-08 3.27391289e-08\n",
      " 3.22682318e-08 3.19058875e-08 3.16340729e-08 3.07141765e-08\n",
      " 3.06786884e-08 3.00790686e-08 2.99004148e-08 2.97844547e-08\n",
      " 2.90846078e-08 2.83368128e-08 2.79213298e-08 2.75912652e-08\n",
      " 2.71392144e-08 2.63449887e-08 2.59067893e-08 2.55198626e-08\n",
      " 2.54188536e-08 2.52751561e-08 2.51903285e-08 2.48221836e-08\n",
      " 2.47537861e-08 2.44663261e-08 2.43395652e-08 2.42004270e-08\n",
      " 2.40837659e-08 2.36909614e-08 2.33506266e-08 2.30633221e-08\n",
      " 2.28989643e-08 2.26997079e-08 2.20419808e-08 2.18022227e-08\n",
      " 2.17338238e-08 2.14200872e-08 2.08244864e-08 2.05628833e-08\n",
      " 1.99283391e-08 1.88835503e-08 1.79727551e-08 1.69859781e-08\n",
      " 1.67113381e-08 1.65218179e-08 1.57188721e-08 1.43162375e-08\n",
      " 1.40456767e-08 1.34658840e-08 1.33481772e-08 1.29240874e-08\n",
      " 1.16137221e-08 1.04341084e-08 9.34188557e-09 8.51414948e-09\n",
      " 8.07252926e-09 7.13484996e-09 6.88954548e-09 6.59553385e-09\n",
      " 5.18966168e-09 4.53674362e-09 3.60071462e-09 3.18397762e-09\n",
      " 2.80156600e-09 1.51330149e-31 5.31688334e-33]\n"
     ]
    }
   ],
   "source": [
    "explained_variance_ratio = pca.explained_variance_ratio_\n",
    "print(explained_variance_ratio)"
   ]
  },
  {
   "cell_type": "code",
   "execution_count": 57,
   "metadata": {},
   "outputs": [],
   "source": []
  },
  {
   "cell_type": "code",
   "execution_count": 59,
   "metadata": {},
   "outputs": [
    {
     "data": {
      "image/png": "[encoded data removed]",
      "text/plain": [
       "<Figure size 432x288 with 1 Axes>"
      ]
     },
     "metadata": {
      "needs_background": "light"
     },
     "output_type": "display_data"
    }
   ],
   "source": [
    "# Creating a plot for explained variance vs the number of principal components for all components\n",
    "create_variance_plot(explained_variance_ratio, len(explained_variance_ratio))"
   ]
  },
  {
   "cell_type": "code",
   "execution_count": 60,
   "metadata": {},
   "outputs": [
    {
     "data": {
      "image/png": "[encoded data removed]",
      "text/plain": [
       "<Figure size 432x288 with 1 Axes>"
      ]
     },
     "metadata": {
      "needs_background": "light"
     },
     "output_type": "display_data"
    }
   ],
   "source": [
    "# Creating a plot for explained variance vs the number of principal components for the first 10 components\n",
    "create_variance_plot(explained_variance_ratio, 10)"
   ]
  },
  {
   "cell_type": "code",
   "execution_count": 51,
   "metadata": {},
   "outputs": [
    {
     "data": {
      "text/plain": [
       "Text(0, 0.5, 'Cumulative Variance')"
      ]
     },
     "execution_count": 51,
     "metadata": {},
     "output_type": "execute_result"
    },
    {
     "data": {
      "image/png": "[encoded data removed]",
      "text/plain": [
       "<Figure size 432x288 with 1 Axes>"
      ]
     },
     "metadata": {
      "needs_background": "light"
     },
     "output_type": "display_data"
    }
   ],
   "source": [
    "# Decreasing the number of principal components in order to see the elbow more clearly\n",
    "plt.plot(x_axis[:10], explained_var_cumulative[:10])\n",
    "plt.title(\"Explained Variance vs Number of Principal Components\")\n",
    "plt.xlabel(\"Number of Principal Components\")\n",
    "plt.ylabel(\"Cumulative Variance\")"
   ]
  },
  {
   "cell_type": "code",
   "execution_count": 52,
   "metadata": {},
   "outputs": [
    {
     "data": {
      "text/plain": [
       "array([0.76733502, 0.95444679, 0.98702608, 0.99933112, 0.99948107,\n",
       "       0.99960158, 0.99967306, 0.99972135, 0.99975883, 0.9997826 ])"
      ]
     },
     "execution_count": 52,
     "metadata": {},
     "output_type": "execute_result"
    }
   ],
   "source": [
    "explained_var_cumulative[:10]"
   ]
  },
  {
   "cell_type": "code",
   "execution_count": 41,
   "metadata": {},
   "outputs": [
    {
     "data": {
      "text/plain": [
       "RandomForestClassifier(bootstrap=True, ccp_alpha=0.0, class_weight=None,\n",
       "                       criterion='gini', max_depth=None, max_features='auto',\n",
       "                       max_leaf_nodes=None, max_samples=None,\n",
       "                       min_impurity_decrease=0.0, min_impurity_split=None,\n",
       "                       min_samples_leaf=1, min_samples_split=2,\n",
       "                       min_weight_fraction_leaf=0.0, n_estimators=100,\n",
       "                       n_jobs=None, oob_score=True, random_state=None,\n",
       "                       verbose=0, warm_start=False)"
      ]
     },
     "execution_count": 41,
     "metadata": {},
     "output_type": "execute_result"
    }
   ],
   "source": [
    "# Implementing random forest for dimensionality reduction since using PCA does not give accurate results\n",
    "\n",
    "# Importing the random forest model from scikit learn\n",
    "from sklearn.ensemble import RandomForestClassifier\n",
    "\n",
    "# Creating the random forest model\n",
    "rf_classifier = RandomForestClassifier(oob_score=True)\n",
    "\n",
    "# Creating a feature matrix and label vector from the train data\n",
    "X_train = train_data.loc[:, train_data.columns != 'RESPONSE']\n",
    "y_train = train_data['RESPONSE']\n",
    "\n",
    "# Training the model using the train_data\n",
    "rf_classifier.fit(X_train, y_train)"
   ]
  },
  {
   "cell_type": "code",
   "execution_count": 42,
   "metadata": {},
   "outputs": [
    {
     "name": "stdout",
     "output_type": "stream",
     "text": [
      "[0.00014384 0.00020396 0.00028125 0.00042558 0.00048461 0.00050798\n",
      " 0.00051948 0.00052258 0.00057782 0.0006398  0.00072168 0.00073358\n",
      " 0.00080402 0.00080498 0.00081837 0.00082894 0.00090489 0.0009641\n",
      " 0.00102231 0.00104652 0.00105441 0.00105587 0.00105749 0.00111567\n",
      " 0.00112895 0.00114537 0.0011459  0.00116037 0.0011629  0.00117999\n",
      " 0.00118114 0.00118941 0.00120036 0.00122214 0.00123765 0.00124536\n",
      " 0.00125786 0.00129405 0.00133716 0.00136398 0.00139615 0.00140837\n",
      " 0.00140993 0.00141782 0.00142636 0.00143664 0.00146727 0.00146936\n",
      " 0.00150802 0.00153188 0.00153315 0.00154302 0.00155203 0.00155996\n",
      " 0.00157367 0.00159942 0.00160466 0.00163    0.00163613 0.00165214\n",
      " 0.00165858 0.0016686  0.00168325 0.00169788 0.00170015 0.00171166\n",
      " 0.00176192 0.00177261 0.00177595 0.00177983 0.0018333  0.00185163\n",
      " 0.00185718 0.0018755  0.00187578 0.00188858 0.0018958  0.00191585\n",
      " 0.00194435 0.00195609 0.0019606  0.0019716  0.00197839 0.00201523\n",
      " 0.00202255 0.00202353 0.00205106 0.00205293 0.00206352 0.00207117\n",
      " 0.0020816  0.00208426 0.00209553 0.00211799 0.0021182  0.00211908\n",
      " 0.0021589  0.00216858 0.00217495 0.00217543 0.00217669 0.0021932\n",
      " 0.00219591 0.00221621 0.00222612 0.00224224 0.00225308 0.00225387\n",
      " 0.00225823 0.00227298 0.0022903  0.0022988  0.00230238 0.00231294\n",
      " 0.00232933 0.00233305 0.00235321 0.00236008 0.00236254 0.00237168\n",
      " 0.0023857  0.00239121 0.00240718 0.0024074  0.00241813 0.0024306\n",
      " 0.00243704 0.00244441 0.00244911 0.0024576  0.00245764 0.00246873\n",
      " 0.0024876  0.00249719 0.00250108 0.00252765 0.00253752 0.00253784\n",
      " 0.00253917 0.00255078 0.0025605  0.00258606 0.00262613 0.00265695\n",
      " 0.0026643  0.00266829 0.00266927 0.00268145 0.00269112 0.0027043\n",
      " 0.00270559 0.00272358 0.00272589 0.00272969 0.0027349  0.00273797\n",
      " 0.00274472 0.00274804 0.00274903 0.00275178 0.00275265 0.00275864\n",
      " 0.00277497 0.00277982 0.0027807  0.00279564 0.00279729 0.00279875\n",
      " 0.00280626 0.00280627 0.00281067 0.00281189 0.00281236 0.00281309\n",
      " 0.0028161  0.00281874 0.00283099 0.00283485 0.00283736 0.00284929\n",
      " 0.00284982 0.00285051 0.00285475 0.00285788 0.00286185 0.00286609\n",
      " 0.00286747 0.00287156 0.00287418 0.00288616 0.00289443 0.00290017\n",
      " 0.00290331 0.00290418 0.00290528 0.00290782 0.00290874 0.00291804\n",
      " 0.00292192 0.00292892 0.00293363 0.00295333 0.00295503 0.0029563\n",
      " 0.00296388 0.00296752 0.00296935 0.00297689 0.00298374 0.00301298\n",
      " 0.00301361 0.00301372 0.00301578 0.00301634 0.00301899 0.00301983\n",
      " 0.00302013 0.00302798 0.00303079 0.00303829 0.00304343 0.00304919\n",
      " 0.00305168 0.00305204 0.00305773 0.00306038 0.00306363 0.00306524\n",
      " 0.00307242 0.00308531 0.00308975 0.00309219 0.00311771 0.00312243\n",
      " 0.00313771 0.00315557 0.00315579 0.00316036 0.00316708 0.00317274\n",
      " 0.00317872 0.00318396 0.00318868 0.00319346 0.00319409 0.00319498\n",
      " 0.00320839 0.00321643 0.00323563 0.00324928 0.00325271 0.0032638\n",
      " 0.00326585 0.0032671  0.00326711 0.00326963 0.00328991 0.00329292\n",
      " 0.00329418 0.00329684 0.00329738 0.00330062 0.00330499 0.00330635\n",
      " 0.00331866 0.0033408  0.003343   0.00335248 0.00336691 0.00337711\n",
      " 0.00337726 0.00338324 0.00338368 0.0033856  0.0034117  0.00341203\n",
      " 0.00341599 0.00342919 0.00342986 0.0034392  0.00343934 0.00344769\n",
      " 0.00345938 0.00347104 0.00347932 0.00348372 0.00348604 0.00349881\n",
      " 0.00351197 0.0035205  0.00356002 0.00356648 0.00358358 0.00358533\n",
      " 0.00361902 0.00364833 0.00365261 0.00365798 0.00366243 0.0036644\n",
      " 0.00367568 0.00367746 0.00368268 0.00368779 0.00369211 0.00369985\n",
      " 0.00371802 0.0037577  0.00375898 0.00380224 0.00381504 0.00382589\n",
      " 0.00383247 0.00383662 0.00386403 0.00388093 0.00388763 0.00390481\n",
      " 0.00392    0.0039741  0.00398436 0.00404301 0.00406159 0.00408823\n",
      " 0.00410367 0.00410593 0.00411003 0.00414535 0.00422647 0.00423845\n",
      " 0.00425034 0.00429352 0.00431492 0.00441316 0.00444389 0.00447349\n",
      " 0.0044902  0.00450649 0.00458934 0.00460063 0.00463074 0.00473828\n",
      " 0.00489586 0.00491633 0.00503823 0.00507943 0.00508221 0.00529819\n",
      " 0.00539954 0.00554313 0.00557348 0.00589473 0.0060563  0.00630872\n",
      " 0.00640762 0.00735847 0.00869928 0.00939075]\n"
     ]
    }
   ],
   "source": [
    "feature_importances = rf_classifier.feature_importances_\n",
    "feature_importances.sort()\n",
    "print(feature_importances)"
   ]
  },
  {
   "cell_type": "code",
   "execution_count": 44,
   "metadata": {},
   "outputs": [
    {
     "name": "stdout",
     "output_type": "stream",
     "text": [
      "0.9875905101161789\n"
     ]
    }
   ],
   "source": [
    "print(rf_classifier.oob_score_)"
   ]
  },
  {
   "cell_type": "code",
   "execution_count": 31,
   "metadata": {},
   "outputs": [
    {
     "data": {
      "text/plain": [
       "0        0\n",
       "1        0\n",
       "2        0\n",
       "3        0\n",
       "4        0\n",
       "        ..\n",
       "42946    0\n",
       "42947    0\n",
       "42948    0\n",
       "42949    0\n",
       "42950    0\n",
       "Name: RESPONSE, Length: 42951, dtype: int64"
      ]
     },
     "execution_count": 31,
     "metadata": {},
     "output_type": "execute_result"
    }
   ],
   "source": [
    "train_data['RESPONSE']"
   ]
  },
  {
   "cell_type": "code",
   "execution_count": 36,
   "metadata": {},
   "outputs": [
    {
     "data": {
      "text/plain": [
       "(42951, 358)"
      ]
     },
     "execution_count": 36,
     "metadata": {},
     "output_type": "execute_result"
    }
   ],
   "source": [
    "X_train.shape"
   ]
  },
  {
   "cell_type": "code",
   "execution_count": 46,
   "metadata": {},
   "outputs": [],
   "source": [
    "# Test\n",
    "X_test = test_data.loc[:, test_data.columns != 'RESPONSE']\n",
    "\n"
   ]
  },
  {
   "cell_type": "code",
   "execution_count": 39,
   "metadata": {},
   "outputs": [],
   "source": [
    "y_pred = rf_classifier.predict(X_train)"
   ]
  },
  {
   "cell_type": "code",
   "execution_count": 40,
   "metadata": {},
   "outputs": [
    {
     "name": "stdout",
     "output_type": "stream",
     "text": [
      "0.998463365230146\n"
     ]
    }
   ],
   "source": [
    "from sklearn.metrics import accuracy_score\n",
    "print(accuracy_score(y_train, y_pred))"
   ]
  },
  {
   "cell_type": "code",
   "execution_count": 43,
   "metadata": {},
   "outputs": [
    {
     "ename": "ValueError",
     "evalue": "Found input variables with inconsistent numbers of samples: [42951, 2]",
     "output_type": "error",
     "traceback": [
      "\u001b[0;31m---------------------------------------------------------------------------\u001b[0m",
      "\u001b[0;31mValueError\u001b[0m                                Traceback (most recent call last)",
      "\u001b[0;32m<ipython-input-43-9c100d963bb9>\u001b[0m in \u001b[0;36m<module>\u001b[0;34m\u001b[0m\n\u001b[0;32m----> 1\u001b[0;31m \u001b[0mprint\u001b[0m\u001b[0;34m(\u001b[0m\u001b[0maccuracy_score\u001b[0m\u001b[0;34m(\u001b[0m\u001b[0my_train\u001b[0m\u001b[0;34m,\u001b[0m \u001b[0mrf_classifier\u001b[0m\u001b[0;34m.\u001b[0m\u001b[0mclasses_\u001b[0m\u001b[0;34m)\u001b[0m\u001b[0;34m)\u001b[0m\u001b[0;34m\u001b[0m\u001b[0;34m\u001b[0m\u001b[0m\n\u001b[0m",
      "\u001b[0;32m/anaconda3/lib/python3.7/site-packages/sklearn/metrics/_classification.py\u001b[0m in \u001b[0;36maccuracy_score\u001b[0;34m(y_true, y_pred, normalize, sample_weight)\u001b[0m\n\u001b[1;32m    183\u001b[0m \u001b[0;34m\u001b[0m\u001b[0m\n\u001b[1;32m    184\u001b[0m     \u001b[0;31m# Compute accuracy for each possible representation\u001b[0m\u001b[0;34m\u001b[0m\u001b[0;34m\u001b[0m\u001b[0;34m\u001b[0m\u001b[0m\n\u001b[0;32m--> 185\u001b[0;31m     \u001b[0my_type\u001b[0m\u001b[0;34m,\u001b[0m \u001b[0my_true\u001b[0m\u001b[0;34m,\u001b[0m \u001b[0my_pred\u001b[0m \u001b[0;34m=\u001b[0m \u001b[0m_check_targets\u001b[0m\u001b[0;34m(\u001b[0m\u001b[0my_true\u001b[0m\u001b[0;34m,\u001b[0m \u001b[0my_pred\u001b[0m\u001b[0;34m)\u001b[0m\u001b[0;34m\u001b[0m\u001b[0;34m\u001b[0m\u001b[0m\n\u001b[0m\u001b[1;32m    186\u001b[0m     \u001b[0mcheck_consistent_length\u001b[0m\u001b[0;34m(\u001b[0m\u001b[0my_true\u001b[0m\u001b[0;34m,\u001b[0m \u001b[0my_pred\u001b[0m\u001b[0;34m,\u001b[0m \u001b[0msample_weight\u001b[0m\u001b[0;34m)\u001b[0m\u001b[0;34m\u001b[0m\u001b[0;34m\u001b[0m\u001b[0m\n\u001b[1;32m    187\u001b[0m     \u001b[0;32mif\u001b[0m \u001b[0my_type\u001b[0m\u001b[0;34m.\u001b[0m\u001b[0mstartswith\u001b[0m\u001b[0;34m(\u001b[0m\u001b[0;34m'multilabel'\u001b[0m\u001b[0;34m)\u001b[0m\u001b[0;34m:\u001b[0m\u001b[0;34m\u001b[0m\u001b[0;34m\u001b[0m\u001b[0m\n",
      "\u001b[0;32m/anaconda3/lib/python3.7/site-packages/sklearn/metrics/_classification.py\u001b[0m in \u001b[0;36m_check_targets\u001b[0;34m(y_true, y_pred)\u001b[0m\n\u001b[1;32m     78\u001b[0m     \u001b[0my_pred\u001b[0m \u001b[0;34m:\u001b[0m \u001b[0marray\u001b[0m \u001b[0;32mor\u001b[0m \u001b[0mindicator\u001b[0m \u001b[0mmatrix\u001b[0m\u001b[0;34m\u001b[0m\u001b[0;34m\u001b[0m\u001b[0m\n\u001b[1;32m     79\u001b[0m     \"\"\"\n\u001b[0;32m---> 80\u001b[0;31m     \u001b[0mcheck_consistent_length\u001b[0m\u001b[0;34m(\u001b[0m\u001b[0my_true\u001b[0m\u001b[0;34m,\u001b[0m \u001b[0my_pred\u001b[0m\u001b[0;34m)\u001b[0m\u001b[0;34m\u001b[0m\u001b[0;34m\u001b[0m\u001b[0m\n\u001b[0m\u001b[1;32m     81\u001b[0m     \u001b[0mtype_true\u001b[0m \u001b[0;34m=\u001b[0m \u001b[0mtype_of_target\u001b[0m\u001b[0;34m(\u001b[0m\u001b[0my_true\u001b[0m\u001b[0;34m)\u001b[0m\u001b[0;34m\u001b[0m\u001b[0;34m\u001b[0m\u001b[0m\n\u001b[1;32m     82\u001b[0m     \u001b[0mtype_pred\u001b[0m \u001b[0;34m=\u001b[0m \u001b[0mtype_of_target\u001b[0m\u001b[0;34m(\u001b[0m\u001b[0my_pred\u001b[0m\u001b[0;34m)\u001b[0m\u001b[0;34m\u001b[0m\u001b[0;34m\u001b[0m\u001b[0m\n",
      "\u001b[0;32m/anaconda3/lib/python3.7/site-packages/sklearn/utils/validation.py\u001b[0m in \u001b[0;36mcheck_consistent_length\u001b[0;34m(*arrays)\u001b[0m\n\u001b[1;32m    210\u001b[0m     \u001b[0;32mif\u001b[0m \u001b[0mlen\u001b[0m\u001b[0;34m(\u001b[0m\u001b[0muniques\u001b[0m\u001b[0;34m)\u001b[0m \u001b[0;34m>\u001b[0m \u001b[0;36m1\u001b[0m\u001b[0;34m:\u001b[0m\u001b[0;34m\u001b[0m\u001b[0;34m\u001b[0m\u001b[0m\n\u001b[1;32m    211\u001b[0m         raise ValueError(\"Found input variables with inconsistent numbers of\"\n\u001b[0;32m--> 212\u001b[0;31m                          \" samples: %r\" % [int(l) for l in lengths])\n\u001b[0m\u001b[1;32m    213\u001b[0m \u001b[0;34m\u001b[0m\u001b[0m\n\u001b[1;32m    214\u001b[0m \u001b[0;34m\u001b[0m\u001b[0m\n",
      "\u001b[0;31mValueError\u001b[0m: Found input variables with inconsistent numbers of samples: [42951, 2]"
     ]
    }
   ],
   "source": [
    "print(accuracy_score(y_train, rf_classifier.classes_))"
   ]
  },
  {
   "cell_type": "code",
   "execution_count": 47,
   "metadata": {},
   "outputs": [],
   "source": [
    "y_pred_2 = rf_classifier.predict(X_test)"
   ]
  },
  {
   "cell_type": "code",
   "execution_count": null,
   "metadata": {},
   "outputs": [],
   "source": []
  }
 ],
 "metadata": {
  "kernelspec": {
   "display_name": "Python 3",
   "language": "python",
   "name": "python3"
  },
  "language_info": {
   "codemirror_mode": {
    "name": "ipython",
    "version": 3
   },
   "file_extension": ".py",
   "mimetype": "text/x-python",
   "name": "python",
   "nbconvert_exporter": "python",
   "pygments_lexer": "ipython3",
   "version": "3.7.3"
  }
 },
 "nbformat": 4,
 "nbformat_minor": 2
}
