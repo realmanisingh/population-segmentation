{
 "cells": [
  {
   "cell_type": "code",
   "execution_count": 1,
   "metadata": {},
   "outputs": [],
   "source": [
    "import pandas as pd\n",
    "import numpy as np\n",
    "import matplotlib.pyplot as plt\n",
    "import seaborn as sns"
   ]
  },
  {
   "cell_type": "code",
   "execution_count": 2,
   "metadata": {},
   "outputs": [],
   "source": [
    "# Reading in the data\n",
    "general_data = pd.read_csv(\"../population-segmentation-data/general_data.csv\", sep=\";\")\n",
    "customer_data = pd.read_csv(\"../population-segmentation-data/customer_data.csv\", sep=\";\")\n",
    "train_data = pd.read_csv(\"../population-segmentation-data/train_data.csv\", sep=\";\")\n",
    "test_data = pd.read_csv(\"../population-segmentation-data/test_data.csv\", sep=\";\")"
   ]
  },
  {
   "cell_type": "code",
   "execution_count": 3,
   "metadata": {},
   "outputs": [
    {
     "output_type": "execute_result",
     "data": {
      "text/plain": "   Unnamed: 0  AGER_TYP  AKT_DAT_KL  ALTER_HH  ALTERSKATEGORIE_FEIN  \\\n0           0         2         1.0      10.0                  10.0   \n1           1        -1         9.0      11.0                  -1.0   \n2           2        -1         1.0       6.0                   0.0   \n3           3         1         1.0       8.0                   8.0   \n4           4        -1         1.0      20.0                  14.0   \n\n   ANZ_HAUSHALTE_AKTIV  ANZ_HH_TITEL  ANZ_KINDER  ANZ_PERSONEN  \\\n0                  1.0           0.0         0.0           2.0   \n1                 -1.0          -1.0         0.0           3.0   \n2                  1.0           0.0         0.0           1.0   \n3                  0.0          -1.0         0.0           0.0   \n4                  7.0           0.0         0.0           4.0   \n\n   ANZ_STATISTISCHE_HAUSHALTE  ...  WOHNLAGE  ZABEOTYP  ONLINE_PURCHASE  \\\n0                         1.0  ...       7.0         3                0   \n1                        -1.0  ...      -1.0         3                0   \n2                         1.0  ...       2.0         3                0   \n3                         1.0  ...       7.0         1                0   \n4                         7.0  ...       3.0         1                0   \n\n   ANREDE_KZ  ALTERSKATEGORIE_GROB  SINGLE_BUYER  MULTI_BUYER  \\\n0          1                     4             0            1   \n1          1                     4             1            0   \n2          2                     4             0            1   \n3          1                     4             0            1   \n4          1                     3             0            1   \n\n   COSMETIC_AND_FOOD  COSMETIC  FOOD  \n0                  1         0     0  \n1                  0         0     1  \n2                  1         0     0  \n3                  0         1     0  \n4                  0         0     1  \n\n[5 rows x 365 columns]",
      "text/html": "<div>\n<style scoped>\n    .dataframe tbody tr th:only-of-type {\n        vertical-align: middle;\n    }\n\n    .dataframe tbody tr th {\n        vertical-align: top;\n    }\n\n    .dataframe thead th {\n        text-align: right;\n    }\n</style>\n<table border=\"1\" class=\"dataframe\">\n  <thead>\n    <tr style=\"text-align: right;\">\n      <th></th>\n      <th>Unnamed: 0</th>\n      <th>AGER_TYP</th>\n      <th>AKT_DAT_KL</th>\n      <th>ALTER_HH</th>\n      <th>ALTERSKATEGORIE_FEIN</th>\n      <th>ANZ_HAUSHALTE_AKTIV</th>\n      <th>ANZ_HH_TITEL</th>\n      <th>ANZ_KINDER</th>\n      <th>ANZ_PERSONEN</th>\n      <th>ANZ_STATISTISCHE_HAUSHALTE</th>\n      <th>...</th>\n      <th>WOHNLAGE</th>\n      <th>ZABEOTYP</th>\n      <th>ONLINE_PURCHASE</th>\n      <th>ANREDE_KZ</th>\n      <th>ALTERSKATEGORIE_GROB</th>\n      <th>SINGLE_BUYER</th>\n      <th>MULTI_BUYER</th>\n      <th>COSMETIC_AND_FOOD</th>\n      <th>COSMETIC</th>\n      <th>FOOD</th>\n    </tr>\n  </thead>\n  <tbody>\n    <tr>\n      <th>0</th>\n      <td>0</td>\n      <td>2</td>\n      <td>1.0</td>\n      <td>10.0</td>\n      <td>10.0</td>\n      <td>1.0</td>\n      <td>0.0</td>\n      <td>0.0</td>\n      <td>2.0</td>\n      <td>1.0</td>\n      <td>...</td>\n      <td>7.0</td>\n      <td>3</td>\n      <td>0</td>\n      <td>1</td>\n      <td>4</td>\n      <td>0</td>\n      <td>1</td>\n      <td>1</td>\n      <td>0</td>\n      <td>0</td>\n    </tr>\n    <tr>\n      <th>1</th>\n      <td>1</td>\n      <td>-1</td>\n      <td>9.0</td>\n      <td>11.0</td>\n      <td>-1.0</td>\n      <td>-1.0</td>\n      <td>-1.0</td>\n      <td>0.0</td>\n      <td>3.0</td>\n      <td>-1.0</td>\n      <td>...</td>\n      <td>-1.0</td>\n      <td>3</td>\n      <td>0</td>\n      <td>1</td>\n      <td>4</td>\n      <td>1</td>\n      <td>0</td>\n      <td>0</td>\n      <td>0</td>\n      <td>1</td>\n    </tr>\n    <tr>\n      <th>2</th>\n      <td>2</td>\n      <td>-1</td>\n      <td>1.0</td>\n      <td>6.0</td>\n      <td>0.0</td>\n      <td>1.0</td>\n      <td>0.0</td>\n      <td>0.0</td>\n      <td>1.0</td>\n      <td>1.0</td>\n      <td>...</td>\n      <td>2.0</td>\n      <td>3</td>\n      <td>0</td>\n      <td>2</td>\n      <td>4</td>\n      <td>0</td>\n      <td>1</td>\n      <td>1</td>\n      <td>0</td>\n      <td>0</td>\n    </tr>\n    <tr>\n      <th>3</th>\n      <td>3</td>\n      <td>1</td>\n      <td>1.0</td>\n      <td>8.0</td>\n      <td>8.0</td>\n      <td>0.0</td>\n      <td>-1.0</td>\n      <td>0.0</td>\n      <td>0.0</td>\n      <td>1.0</td>\n      <td>...</td>\n      <td>7.0</td>\n      <td>1</td>\n      <td>0</td>\n      <td>1</td>\n      <td>4</td>\n      <td>0</td>\n      <td>1</td>\n      <td>0</td>\n      <td>1</td>\n      <td>0</td>\n    </tr>\n    <tr>\n      <th>4</th>\n      <td>4</td>\n      <td>-1</td>\n      <td>1.0</td>\n      <td>20.0</td>\n      <td>14.0</td>\n      <td>7.0</td>\n      <td>0.0</td>\n      <td>0.0</td>\n      <td>4.0</td>\n      <td>7.0</td>\n      <td>...</td>\n      <td>3.0</td>\n      <td>1</td>\n      <td>0</td>\n      <td>1</td>\n      <td>3</td>\n      <td>0</td>\n      <td>1</td>\n      <td>0</td>\n      <td>0</td>\n      <td>1</td>\n    </tr>\n  </tbody>\n</table>\n<p>5 rows × 365 columns</p>\n</div>"
     },
     "metadata": {},
     "execution_count": 3
    }
   ],
   "source": [
    "customer_data.head()"
   ]
  },
  {
   "cell_type": "code",
   "execution_count": 4,
   "metadata": {
    "tags": []
   },
   "outputs": [
    {
     "output_type": "stream",
     "name": "stdout",
     "text": "Unnamed: 0\n"
    }
   ],
   "source": [
    "# Getting the name of the extra column\n",
    "extra_col = list(general_data.columns)[0]\n",
    "print(extra_col)\n",
    "\n",
    "# Removing the extra column in every dataframe since it is redundant\n",
    "general_data.drop(extra_col, axis=1, inplace=True)\n",
    "customer_data.drop(extra_col, axis=1, inplace=True)\n",
    "train_data.drop(extra_col, axis=1, inplace=True)\n",
    "test_data.drop(extra_col, axis=1, inplace=True)"
   ]
  },
  {
   "cell_type": "code",
   "execution_count": 5,
   "metadata": {},
   "outputs": [
    {
     "output_type": "execute_result",
     "data": {
      "text/plain": "   AGER_TYP  AKT_DAT_KL  ALTER_HH  ALTERSKATEGORIE_FEIN  ANZ_HAUSHALTE_AKTIV  \\\n0         2         1.0      10.0                  10.0                  1.0   \n1        -1         9.0      11.0                  -1.0                 -1.0   \n2        -1         1.0       6.0                   0.0                  1.0   \n3         1         1.0       8.0                   8.0                  0.0   \n4        -1         1.0      20.0                  14.0                  7.0   \n\n   ANZ_HH_TITEL  ANZ_KINDER  ANZ_PERSONEN  ANZ_STATISTISCHE_HAUSHALTE  \\\n0           0.0         0.0           2.0                         1.0   \n1          -1.0         0.0           3.0                        -1.0   \n2           0.0         0.0           1.0                         1.0   \n3          -1.0         0.0           0.0                         1.0   \n4           0.0         0.0           4.0                         7.0   \n\n   ANZ_TITEL  ...  WOHNLAGE  ZABEOTYP  ONLINE_PURCHASE  ANREDE_KZ  \\\n0        0.0  ...       7.0         3                0          1   \n1        0.0  ...      -1.0         3                0          1   \n2        0.0  ...       2.0         3                0          2   \n3        0.0  ...       7.0         1                0          1   \n4        0.0  ...       3.0         1                0          1   \n\n   ALTERSKATEGORIE_GROB  SINGLE_BUYER  MULTI_BUYER  COSMETIC_AND_FOOD  \\\n0                     4             0            1                  1   \n1                     4             1            0                  0   \n2                     4             0            1                  1   \n3                     4             0            1                  0   \n4                     3             0            1                  0   \n\n   COSMETIC  FOOD  \n0         0     0  \n1         0     1  \n2         0     0  \n3         1     0  \n4         0     1  \n\n[5 rows x 364 columns]",
      "text/html": "<div>\n<style scoped>\n    .dataframe tbody tr th:only-of-type {\n        vertical-align: middle;\n    }\n\n    .dataframe tbody tr th {\n        vertical-align: top;\n    }\n\n    .dataframe thead th {\n        text-align: right;\n    }\n</style>\n<table border=\"1\" class=\"dataframe\">\n  <thead>\n    <tr style=\"text-align: right;\">\n      <th></th>\n      <th>AGER_TYP</th>\n      <th>AKT_DAT_KL</th>\n      <th>ALTER_HH</th>\n      <th>ALTERSKATEGORIE_FEIN</th>\n      <th>ANZ_HAUSHALTE_AKTIV</th>\n      <th>ANZ_HH_TITEL</th>\n      <th>ANZ_KINDER</th>\n      <th>ANZ_PERSONEN</th>\n      <th>ANZ_STATISTISCHE_HAUSHALTE</th>\n      <th>ANZ_TITEL</th>\n      <th>...</th>\n      <th>WOHNLAGE</th>\n      <th>ZABEOTYP</th>\n      <th>ONLINE_PURCHASE</th>\n      <th>ANREDE_KZ</th>\n      <th>ALTERSKATEGORIE_GROB</th>\n      <th>SINGLE_BUYER</th>\n      <th>MULTI_BUYER</th>\n      <th>COSMETIC_AND_FOOD</th>\n      <th>COSMETIC</th>\n      <th>FOOD</th>\n    </tr>\n  </thead>\n  <tbody>\n    <tr>\n      <th>0</th>\n      <td>2</td>\n      <td>1.0</td>\n      <td>10.0</td>\n      <td>10.0</td>\n      <td>1.0</td>\n      <td>0.0</td>\n      <td>0.0</td>\n      <td>2.0</td>\n      <td>1.0</td>\n      <td>0.0</td>\n      <td>...</td>\n      <td>7.0</td>\n      <td>3</td>\n      <td>0</td>\n      <td>1</td>\n      <td>4</td>\n      <td>0</td>\n      <td>1</td>\n      <td>1</td>\n      <td>0</td>\n      <td>0</td>\n    </tr>\n    <tr>\n      <th>1</th>\n      <td>-1</td>\n      <td>9.0</td>\n      <td>11.0</td>\n      <td>-1.0</td>\n      <td>-1.0</td>\n      <td>-1.0</td>\n      <td>0.0</td>\n      <td>3.0</td>\n      <td>-1.0</td>\n      <td>0.0</td>\n      <td>...</td>\n      <td>-1.0</td>\n      <td>3</td>\n      <td>0</td>\n      <td>1</td>\n      <td>4</td>\n      <td>1</td>\n      <td>0</td>\n      <td>0</td>\n      <td>0</td>\n      <td>1</td>\n    </tr>\n    <tr>\n      <th>2</th>\n      <td>-1</td>\n      <td>1.0</td>\n      <td>6.0</td>\n      <td>0.0</td>\n      <td>1.0</td>\n      <td>0.0</td>\n      <td>0.0</td>\n      <td>1.0</td>\n      <td>1.0</td>\n      <td>0.0</td>\n      <td>...</td>\n      <td>2.0</td>\n      <td>3</td>\n      <td>0</td>\n      <td>2</td>\n      <td>4</td>\n      <td>0</td>\n      <td>1</td>\n      <td>1</td>\n      <td>0</td>\n      <td>0</td>\n    </tr>\n    <tr>\n      <th>3</th>\n      <td>1</td>\n      <td>1.0</td>\n      <td>8.0</td>\n      <td>8.0</td>\n      <td>0.0</td>\n      <td>-1.0</td>\n      <td>0.0</td>\n      <td>0.0</td>\n      <td>1.0</td>\n      <td>0.0</td>\n      <td>...</td>\n      <td>7.0</td>\n      <td>1</td>\n      <td>0</td>\n      <td>1</td>\n      <td>4</td>\n      <td>0</td>\n      <td>1</td>\n      <td>0</td>\n      <td>1</td>\n      <td>0</td>\n    </tr>\n    <tr>\n      <th>4</th>\n      <td>-1</td>\n      <td>1.0</td>\n      <td>20.0</td>\n      <td>14.0</td>\n      <td>7.0</td>\n      <td>0.0</td>\n      <td>0.0</td>\n      <td>4.0</td>\n      <td>7.0</td>\n      <td>0.0</td>\n      <td>...</td>\n      <td>3.0</td>\n      <td>1</td>\n      <td>0</td>\n      <td>1</td>\n      <td>3</td>\n      <td>0</td>\n      <td>1</td>\n      <td>0</td>\n      <td>0</td>\n      <td>1</td>\n    </tr>\n  </tbody>\n</table>\n<p>5 rows × 364 columns</p>\n</div>"
     },
     "metadata": {},
     "execution_count": 5
    }
   ],
   "source": [
    "customer_data.head()"
   ]
  },
  {
   "cell_type": "code",
   "execution_count": 11,
   "metadata": {},
   "outputs": [],
   "source": [
    "# Normalzing the data so that every column is on a 0 to 1 scale\n",
    "\n",
    "# Importing the scaler\n",
    "from sklearn.preprocessing import MinMaxScaler\n",
    "\n",
    "# Creating the scaler\n",
    "scaler = MinMaxScaler()\n",
    "\n",
    "# Fitting the scaler to the customer data and transforming\n",
    "customer_data_scaled = scaler.fit_transform(customer_data)"
   ]
  },
  {
   "cell_type": "code",
   "execution_count": 12,
   "metadata": {},
   "outputs": [
    {
     "output_type": "execute_result",
     "data": {
      "text/plain": "PCA(n_components=363)"
     },
     "metadata": {},
     "execution_count": 12
    }
   ],
   "source": [
    "# import the PCA class from scikit learn\n",
    "from sklearn.decomposition import PCA\n",
    "\n",
    "# Defining the maximum number of principal components to fit the model\n",
    "num_components = len(list(customer_data.columns)) - 1\n",
    "\n",
    "# Creating a PCA model\n",
    "pca = PCA(n_components=num_components)\n",
    "\n",
    "# Fitting the PCA model\n",
    "pca.fit(customer_data_scaled)"
   ]
  },
  {
   "cell_type": "code",
   "execution_count": 8,
   "metadata": {},
   "outputs": [
    {
     "name": "stdout",
     "output_type": "stream",
     "text": [
      "[5.50444166e-01 4.13043542e-02 2.44893077e-02 1.95814997e-02\n",
      " 1.68829647e-02 1.52744762e-02 1.38610803e-02 1.07930161e-02\n",
      " 9.96348166e-03 8.64273966e-03 7.85144270e-03 7.46544275e-03\n",
      " 7.25089390e-03 5.40795060e-03 5.23551043e-03 4.86095110e-03\n",
      " 4.65122892e-03 4.19547966e-03 4.01260790e-03 3.94345652e-03\n",
      " 3.82477934e-03 3.78297882e-03 3.67448924e-03 3.60491687e-03\n",
      " 3.55511107e-03 3.53368142e-03 3.46140981e-03 3.43533795e-03\n",
      " 3.32341535e-03 3.26013278e-03 3.22219077e-03 3.11569910e-03\n",
      " 3.04040447e-03 2.90129704e-03 2.75693114e-03 2.70701525e-03\n",
      " 2.63779741e-03 2.62022772e-03 2.55234215e-03 2.49869568e-03\n",
      " 2.45067666e-03 2.42886444e-03 2.36598744e-03 2.32454376e-03\n",
      " 2.29541145e-03 2.27781924e-03 2.22781028e-03 2.20845930e-03\n",
      " 2.17455567e-03 2.15014798e-03 2.11656893e-03 2.09935817e-03\n",
      " 2.07032699e-03 2.00577588e-03 1.93197990e-03 1.90023139e-03\n",
      " 1.88952641e-03 1.83282127e-03 1.81903803e-03 1.77718764e-03\n",
      " 1.74807615e-03 1.73309576e-03 1.71643709e-03 1.67482060e-03\n",
      " 1.66731654e-03 1.64791403e-03 1.63466037e-03 1.60972485e-03\n",
      " 1.58411388e-03 1.56329906e-03 1.54637748e-03 1.54449797e-03\n",
      " 1.51888448e-03 1.48984003e-03 1.48119606e-03 1.45396323e-03\n",
      " 1.42909060e-03 1.37980178e-03 1.35818634e-03 1.34462615e-03\n",
      " 1.32540070e-03 1.31054414e-03 1.30048488e-03 1.28402287e-03\n",
      " 1.26604425e-03 1.24063087e-03 1.22909490e-03 1.22244979e-03\n",
      " 1.19158577e-03 1.18734540e-03 1.16641348e-03 1.15366135e-03\n",
      " 1.14229902e-03 1.12830056e-03 1.10648731e-03 1.09772312e-03\n",
      " 1.08652095e-03 1.05894766e-03 1.03431980e-03 1.02336869e-03\n",
      " 1.00705404e-03 9.81282978e-04 9.60440664e-04 9.57595613e-04\n",
      " 9.51554184e-04 9.43850081e-04 9.21223750e-04 9.15953948e-04\n",
      " 9.01109041e-04 8.90379031e-04 8.73649423e-04 8.65125085e-04\n",
      " 8.53996361e-04 8.45636907e-04 8.36556336e-04 8.24482275e-04\n",
      " 8.15553572e-04 8.03944615e-04 7.92926999e-04 7.80482568e-04\n",
      " 7.76795763e-04 7.62420424e-04 7.44558391e-04 7.40063755e-04\n",
      " 7.37296535e-04 7.21836073e-04 7.06385538e-04 7.01367264e-04\n",
      " 6.93266266e-04 6.86132990e-04 6.81364054e-04 6.66305501e-04\n",
      " 6.61012578e-04 6.49070964e-04 6.42352015e-04 6.24422111e-04\n",
      " 6.16961937e-04 6.11795039e-04 6.09530445e-04 5.97012211e-04\n",
      " 5.85779669e-04 5.84451518e-04 5.79121467e-04 5.61208480e-04\n",
      " 5.51358561e-04 5.46348564e-04 5.37367948e-04 5.32817423e-04\n",
      " 5.29247075e-04 5.24861095e-04 5.11152721e-04 5.03008487e-04\n",
      " 5.02373194e-04 4.96289915e-04 4.91282039e-04 4.86289105e-04\n",
      " 4.82171996e-04 4.81684580e-04 4.69324773e-04 4.58396412e-04\n",
      " 4.53510236e-04 4.47056201e-04 4.46657453e-04 4.37422483e-04\n",
      " 4.34615805e-04 4.28830006e-04 4.25872478e-04 4.24791050e-04\n",
      " 4.18668048e-04 4.13652171e-04 4.03532655e-04 4.02920497e-04\n",
      " 3.99883870e-04 3.96667225e-04 3.90376761e-04 3.87103504e-04\n",
      " 3.85631898e-04 3.76990646e-04 3.72528775e-04 3.71077924e-04\n",
      " 3.68671915e-04 3.62443988e-04 3.59964778e-04 3.49000273e-04\n",
      " 3.46928799e-04 3.43110594e-04 3.30223626e-04 3.23430755e-04\n",
      " 3.20052760e-04 3.19264442e-04 3.13074226e-04 3.09584540e-04\n",
      " 3.07686891e-04 3.05261149e-04 3.03026280e-04 2.96023321e-04\n",
      " 2.95138419e-04 2.92017636e-04 2.89640545e-04 2.87192159e-04\n",
      " 2.84955222e-04 2.82635285e-04 2.79794707e-04 2.76767670e-04\n",
      " 2.75772723e-04 2.74466060e-04 2.64313234e-04 2.60802303e-04\n",
      " 2.57463527e-04 2.51230842e-04 2.47469311e-04 2.41361438e-04\n",
      " 2.40156964e-04 2.31658143e-04 2.28414516e-04 2.27360925e-04\n",
      " 2.22408470e-04 2.21252481e-04 2.16853397e-04 2.13872005e-04\n",
      " 2.12532005e-04 2.07855669e-04 2.05930139e-04 2.02484448e-04\n",
      " 1.99304585e-04 1.97371942e-04 1.94665353e-04 1.92852800e-04\n",
      " 1.87858795e-04 1.85081403e-04 1.83200776e-04 1.79526116e-04\n",
      " 1.77856560e-04 1.74986222e-04 1.73122769e-04 1.70794825e-04\n",
      " 1.68536100e-04 1.65513515e-04 1.62926395e-04 1.58117079e-04\n",
      " 1.53431426e-04 1.52195016e-04 1.51160483e-04 1.50167696e-04\n",
      " 1.47694963e-04 1.45209348e-04 1.43987525e-04 1.42161603e-04\n",
      " 1.40206677e-04 1.38046832e-04 1.35877688e-04 1.34227634e-04\n",
      " 1.32727951e-04 1.31410374e-04 1.27916758e-04 1.26549974e-04\n",
      " 1.25136557e-04 1.21997972e-04 1.21904479e-04 1.20213822e-04\n",
      " 1.17254818e-04 1.16776761e-04 1.15801425e-04 1.12584133e-04\n",
      " 1.11029428e-04 1.09341951e-04 1.07380449e-04 1.06004082e-04\n",
      " 1.03010250e-04 1.02582218e-04 1.02421140e-04 1.01899891e-04\n",
      " 1.00816529e-04 1.00406669e-04 9.70154113e-05 9.58854930e-05\n",
      " 9.22303508e-05 8.91461902e-05 8.85148716e-05 8.58164752e-05\n",
      " 8.41108291e-05 8.36137623e-05 8.28796751e-05 7.84332959e-05\n",
      " 7.64337637e-05 7.52316333e-05 7.50396704e-05 7.44561319e-05\n",
      " 7.40107303e-05 7.30490094e-05 7.07397567e-05 6.88403129e-05\n",
      " 6.84504323e-05 6.68346616e-05 6.59481369e-05 6.55778748e-05\n",
      " 6.33002697e-05 6.02630196e-05 5.95779029e-05 5.91153717e-05\n",
      " 5.79976432e-05 5.75278818e-05 5.70749410e-05 5.64239762e-05\n",
      " 5.60503260e-05 5.51162910e-05 5.47766530e-05 5.37923710e-05\n",
      " 5.35514644e-05 5.31597612e-05 5.30217780e-05 5.25106628e-05\n",
      " 5.18443797e-05 5.13496057e-05 5.07911887e-05 5.04887076e-05\n",
      " 4.80006364e-05 4.76602557e-05 4.48664041e-05 4.26082322e-05\n",
      " 4.25126685e-05 4.15005340e-05 4.00780117e-05 3.93970704e-05\n",
      " 3.90924750e-05 3.79098311e-05 3.77592022e-05 3.65963800e-05\n",
      " 3.64743793e-05 3.50806978e-05 3.18197413e-05 2.97333137e-05\n",
      " 2.92287387e-05 2.84720825e-05 2.75882095e-05 2.71777523e-05\n",
      " 2.63823573e-05 2.47367490e-05 2.39891854e-05 2.37619564e-05\n",
      " 2.28474736e-05 2.25661581e-05 2.21013877e-05 2.20444877e-05\n",
      " 2.11561113e-05 2.02972624e-05 2.01282289e-05 1.81516157e-05\n",
      " 1.78601927e-05 1.73543796e-05 1.65400203e-05 1.60808044e-05\n",
      " 1.59897954e-05 1.55772920e-05 1.07153601e-05 8.15518090e-06\n",
      " 7.62133109e-06 6.36017357e-06 6.12485466e-06 4.27504026e-06\n",
      " 1.99724695e-07 1.08555971e-31 3.78400305e-33]\n"
     ]
    }
   ],
   "source": [
    "explained_variance_ratio = pca.explained_variance_ratio_\n",
    "print(explained_variance_ratio)"
   ]
  },
  {
   "cell_type": "code",
   "execution_count": 19,
   "metadata": {},
   "outputs": [],
   "source": [
    "def create_variance_plot(explained_var_ratio, num_components):\n",
    "    \"\"\"\n",
    "    Creates a graph that shows the explained variance as a function of the number of principal components\n",
    "    param explained_var_ratio: A list that holds the explained variance ratio for each component\n",
    "    param num_components: An integer that specifies that number of components to display in the graph\n",
    "    return: Use plt.show() to display the graph\n",
    "    \"\"\"\n",
    "    # Getting an array of the cumulative sum of explained variance ratios in order to visualize the number of components needed\n",
    "    explained_var_cumulative = np.cumsum(explained_var_ratio)\n",
    "    \n",
    "    # Creating the x-axis for the plot of the explained variance over the number of components plot\n",
    "    x_axis = [*range(1, len(explained_var_cumulative)+1)]\n",
    "\n",
    "    # Graphing the distribution of the RESPONSE variable for the training data\n",
    "    plt.figure(figsize=(8.4, 6.8))\n",
    "    ax = plt.gca()\n",
    "    ax.set_facecolor('#ebedf0')\n",
    "    plt.grid(color='grey', linestyle='-', linewidth=0.25, alpha=0.5)\n",
    "\n",
    "    # Creating the plot for the explained variance over the number of components plot\n",
    "    plt.plot(x_axis[:num_components], explained_var_cumulative[:num_components])\n",
    "    # Adding a title\n",
    "    plt.title(\"Explained Variance vs Number of Principal Components\")\n",
    "    # Adding the x-axis label\n",
    "    plt.xlabel(\"Number of Principal Components\")\n",
    "    # Adding the y-axis label\n",
    "    plt.ylabel(\"Cumulative Variance\")\n",
    "\n",
    "    plt.savefig('images/variance_plot')\n",
    "\n",
    "    # Displaying the graph\n",
    "    plt.show()\n",
    "    \n",
    "\n",
    "    return explained_var_cumulative"
   ]
  },
  {
   "cell_type": "code",
   "execution_count": 10,
   "metadata": {},
   "outputs": [
    {
     "data": {
      "image/png": "[encoded data removed]",
      "text/plain": [
       "<Figure size 432x288 with 1 Axes>"
      ]
     },
     "metadata": {
      "needs_background": "light"
     },
     "output_type": "display_data"
    }
   ],
   "source": [
    "# Creating a plot for explained variance vs the number of principal components for all the components\n",
    "explained_var = create_variance_plot(explained_variance_ratio, len(explained_variance_ratio))"
   ]
  },
  {
   "cell_type": "code",
   "execution_count": 11,
   "metadata": {},
   "outputs": [
    {
     "data": {
      "image/png": "[encoded data removed]",
      "text/plain": [
       "<Figure size 432x288 with 1 Axes>"
      ]
     },
     "metadata": {
      "needs_background": "light"
     },
     "output_type": "display_data"
    }
   ],
   "source": [
    "# Creating a plot for explained variance vs the number of principal components for the first 250 components\n",
    "explained_var = create_variance_plot(explained_variance_ratio, 250)"
   ]
  },
  {
   "cell_type": "code",
   "execution_count": 12,
   "metadata": {},
   "outputs": [
    {
     "name": "stdout",
     "output_type": "stream",
     "text": [
      "0.9276566172565575\n"
     ]
    }
   ],
   "source": [
    "print(explained_var[100])"
   ]
  },
  {
   "cell_type": "code",
   "execution_count": 23,
   "metadata": {},
   "outputs": [],
   "source": [
    "# Reducing the dimensionality of the data using 100 principal components\n",
    "pca_100 = PCA(n_components=100)\n",
    "customer_data_reduced = pca_100.fit_transform(customer_data_scaled)"
   ]
  },
  {
   "cell_type": "code",
   "execution_count": 24,
   "metadata": {
    "tags": []
   },
   "outputs": [
    {
     "output_type": "stream",
     "name": "stdout",
     "text": "[[-2.75071432e+00 -6.92718941e-01 -1.74063368e+00 -8.75257094e-01\n   5.71775732e-04 -1.09383607e-01  3.69810228e-01 -1.31929403e-01\n  -3.26691903e-01  2.35874677e-01 -1.25480737e-01 -1.51619150e-01\n  -6.98470974e-02 -3.27416421e-01  1.39521652e-01  2.33147166e-01\n  -8.70699664e-02  2.78940428e-01 -4.39482861e-02  2.86422288e-01\n  -1.65252147e-02 -3.39260769e-01  8.52766820e-01  3.85807540e-01\n  -5.59552432e-01  3.18618718e-01  4.05994056e-01  5.45458851e-02\n   6.02286191e-01 -2.45442526e-01  7.33338716e-02 -3.94807305e-01\n   3.20268265e-01 -2.79691402e-01  1.83309805e-01 -1.62846329e-02\n   1.65550929e-01 -1.67104968e-01 -3.22185664e-01 -3.06477104e-02\n   7.03056130e-02 -2.23735957e-01 -3.37618808e-01  3.61153741e-01\n  -1.13848321e-01 -9.54594262e-02 -9.40706741e-02  4.60691799e-01\n  -7.42057111e-02 -2.22923807e-01 -2.32733714e-01 -4.88852266e-01\n   1.51685916e-01  1.02792656e-01 -6.07952411e-02  2.52289329e-01\n  -1.83703725e-02  1.23234969e-01 -1.81498982e-01 -9.36850175e-02\n   7.15557685e-02 -1.80648684e-02  1.32583385e-01 -1.05665843e-01\n   7.07554402e-02  1.55729980e-01  1.30866872e-01 -3.47029471e-01\n   3.29636861e-01  1.10376293e-01 -3.67696442e-01 -4.61442862e-02\n  -2.30965472e-01 -3.55628361e-01 -1.58278781e-01 -2.88226733e-01\n  -3.08839082e-02 -3.03160214e-02 -1.33493913e-01 -2.17363674e-01\n  -2.42512018e-01 -3.60169463e-02  8.35731270e-02  2.06504881e-02\n   1.10292672e-01 -8.03429143e-02 -1.06794507e-01 -3.94787786e-01\n  -6.60842547e-02  8.86785934e-02  5.09507072e-01  3.35308353e-01\n  -1.94486675e-01 -1.04651848e-01 -3.77509265e-01 -1.84262950e-01\n   1.91702333e-01  6.48875327e-02  3.51123020e-01  3.37194254e-01]\n [ 5.51872332e+00  6.85995727e-01  4.70713923e-01 -6.32923885e-01\n   6.08889538e-01 -2.56551855e-01 -1.25617860e+00 -7.90199941e-01\n  -1.41143276e+00 -2.70783106e-01  2.88201891e+00  9.54441188e-01\n  -3.28909765e-01 -3.27763604e-01  2.16641674e+00  1.50836794e+00\n   6.54159431e-01 -2.85672650e-01  1.61483657e-01  1.72813316e-01\n  -3.95756621e-01  3.47789788e-01  1.74230339e-01 -2.90849937e-02\n  -1.14323350e-01 -1.43444946e-01  2.79628571e-01 -2.64581757e-01\n  -4.05584097e-01  1.49674097e-01 -2.93962763e-01  3.46925980e-01\n   3.54946547e-01 -2.36646851e-01  3.25339833e-01  1.62241811e-02\n   5.47595517e-01  4.48478917e-02  1.04660309e-02  1.50493361e-01\n   6.69460658e-02  2.03164377e-01  6.83840147e-02 -2.83664101e-01\n  -1.91378784e-01 -2.95439117e-02 -3.56584926e-02 -5.01279412e-02\n  -1.73828309e-02  1.63357665e-02 -2.54668037e-01 -2.84467184e-01\n   2.31433327e-01 -2.85932281e-01  7.32123307e-02  3.84198765e-01\n   2.41379489e-01  1.47854083e-01 -9.63329012e-02  1.19522749e-01\n   1.29968376e-01 -4.65989690e-03  3.57606973e-01 -2.90434157e-01\n  -1.28781911e-01 -1.31215105e-01 -1.71600264e-01 -1.47083974e-01\n  -7.31956180e-02  2.82417455e-01 -9.87409761e-02  8.68513970e-02\n   3.39685901e-01  1.91821574e-01  3.86952549e-01  2.53793979e-01\n   8.35625816e-02  1.45678587e-01 -9.26888243e-02  8.24764855e-02\n   6.47163879e-01  5.23433532e-01 -2.71789182e-01 -1.15506048e-01\n   3.17830523e-01  7.78431989e-02 -1.81065230e-01 -2.04902154e-01\n  -7.58665701e-02 -6.94281211e-02 -1.85301298e-01 -1.81911037e-01\n  -4.23055792e-02 -2.95779836e-03 -8.96286750e-02  1.44306122e-01\n  -3.86874878e-01 -1.07922610e-02  3.37889582e-02  1.02375729e-01]\n [-2.34979528e+00 -2.14108729e+00 -1.68323297e-01  4.08664051e-01\n  -5.28592781e-03  9.17416222e-01  2.49053131e-01 -8.22205181e-02\n   3.08162347e-01 -2.97900761e-01 -3.07120731e-01  1.13596073e-01\n  -6.73506522e-01 -1.12130188e+00  5.07360664e-01 -6.42935401e-01\n  -4.20771314e-01  9.28671564e-01  4.83911962e-01  6.24872899e-02\n   3.81799925e-01  5.46314307e-01 -3.02830457e-01 -1.30373124e-01\n  -1.06458300e-01  2.47133840e-01  1.06513658e-02  1.85272795e-01\n   4.68707185e-01  3.50598284e-01  1.85193451e-02 -3.45550708e-01\n   3.15483688e-01  4.57061661e-01  2.26279520e-01  7.89945089e-01\n   9.73285631e-02 -7.63888050e-02  1.24198968e-01 -5.42779743e-02\n   4.08884624e-03  2.80819529e-01  3.56393267e-01 -1.37109967e-01\n   1.12707184e-01 -2.84837210e-01  4.31941697e-03 -3.43786217e-01\n  -3.47093003e-01 -3.69728877e-01  6.32424374e-03  1.79344291e-01\n  -2.25531603e-01  2.82430617e-01 -1.53524043e-01  1.51816574e-01\n   2.04189859e-01  3.54935014e-02 -2.54319166e-01  2.38646192e-02\n   9.33713808e-02  2.81882043e-01  1.34151609e-01 -2.74958894e-01\n  -1.52640070e-01 -2.28023403e-01 -1.09783678e-01  1.77484720e-01\n   5.26420025e-01 -2.59247934e-01 -6.89089124e-02  7.94145017e-02\n  -3.93104534e-02  8.44770746e-02  3.48606964e-01 -4.42589682e-03\n   1.74225115e-01 -5.32877710e-02  6.80283754e-02 -4.46761301e-01\n   3.48259157e-01  3.89356853e-02 -1.25252076e-01 -2.99234645e-01\n  -4.56822579e-01  8.30891209e-03 -1.83003779e-01  1.65143831e-01\n   6.85994424e-02 -2.18095813e-01  9.84726206e-02  1.17899243e-01\n  -4.76730275e-02 -2.84599380e-02  3.59355516e-01  2.47330578e-01\n   4.50799380e-02 -2.57254765e-01  9.30750851e-02 -1.12536107e-01]\n [-2.16933438e+00 -8.89061119e-01 -5.19273850e-01 -9.23490510e-01\n  -6.01219492e-01 -7.43113706e-01  1.20512351e-01  1.88953844e-01\n  -6.87357379e-01  5.20965904e-01 -5.29822760e-01  4.12309264e-01\n   7.91446005e-01  5.00804235e-01  1.96403233e-02  3.20163526e-01\n  -4.15825483e-01 -1.84294917e-01  2.66622465e-01 -9.95984025e-02\n   2.77086679e-01  2.22969172e-01  4.37306303e-01 -1.68050845e-01\n   6.71561262e-01 -7.55569948e-02  5.34108472e-01  4.05214353e-02\n  -2.84199607e-01  8.19087495e-02  8.99014797e-02  5.39695191e-01\n   2.85123990e-02 -3.92977583e-01 -4.04083142e-01 -2.24250661e-01\n  -3.72411043e-01 -1.55163911e-01  4.40765735e-01  2.07310734e-01\n  -1.72711560e-01 -1.46099808e-01  6.73177102e-02 -3.04058411e-01\n  -5.46603887e-01  6.97712613e-02  1.01096424e-01 -3.11306995e-02\n  -4.44112189e-01  4.96058396e-01 -2.60632730e-01  2.62473350e-01\n  -6.65691484e-02  6.57440428e-01  8.98097896e-02  4.50779850e-02\n   1.07435475e-01 -7.43396016e-02  2.26567017e-01  2.65588808e-01\n   2.91082658e-01  7.50515005e-02 -5.22406480e-02 -4.37149186e-01\n   2.40027005e-01  3.85474069e-02 -2.24080323e-01  1.16563934e-01\n  -2.58901059e-01 -2.03596423e-01  5.78325664e-02  6.35056351e-02\n   2.60804032e-01  2.01086305e-02 -1.11924160e-01 -1.10193928e-01\n   3.00895030e-01 -4.25823358e-01  1.06410918e-01  2.02629267e-01\n   1.60323030e-01 -1.52573024e-01  6.69258343e-02  4.39441497e-01\n  -7.75003742e-02  1.08183929e-01  2.04790445e-01 -3.73832614e-02\n  -5.96143995e-01 -2.32387855e-01  1.64743884e-01 -1.38180112e-01\n   3.94816901e-01  1.42923887e-01  1.37421626e-01 -3.22554979e-02\n   1.14056112e-02  3.00746704e-02  2.92980103e-02 -4.89140973e-02]\n [-2.61858639e+00  1.51244838e+00  1.25961962e+00  1.40519823e+00\n  -3.28672317e-01 -1.29828171e+00 -4.87419603e-01  3.58829572e-01\n   4.42727621e-01 -2.31042378e-01  1.24855358e-02 -4.72765067e-01\n   1.48412646e-01 -5.44705478e-01  1.08014877e-01  1.93581212e-01\n  -5.07252168e-01  2.69894792e-01 -4.33008042e-01 -3.61117008e-01\n  -5.07547258e-01 -6.85242526e-01  4.78225680e-02  1.78871874e-01\n   7.66375638e-01  4.35163377e-01  2.71790866e-02  7.83067273e-03\n   2.55305282e-01 -1.67206053e-01  2.24045322e-01 -6.26961409e-01\n   9.23512739e-02  1.99744330e-01  7.21003821e-01  2.40166394e-01\n   5.49234222e-01 -1.58693436e-01 -2.13444948e-01  1.72255433e-02\n   1.44208574e-02 -1.92506786e-01 -6.60846136e-01  2.00839917e-01\n   5.22040528e-01 -1.20502555e-01 -2.32166359e-01 -1.87482791e-01\n  -5.40824381e-01 -4.98141328e-01 -3.47375791e-01 -2.08099611e-01\n  -3.60747848e-01  1.39388939e-01 -2.96759353e-01  1.12131399e-01\n   5.68889493e-01  2.86086674e-01 -5.89218194e-01 -4.24134523e-03\n  -4.01325878e-01  1.00354696e-01  5.90602395e-02  2.93541700e-01\n   2.17985364e-02  8.04443166e-02  2.04785775e-01  9.99582625e-03\n   3.64771749e-01  5.90485484e-01  3.83154604e-03 -3.92977727e-01\n  -5.08613214e-01  1.37318927e-02 -2.80228927e-01  1.71783951e-01\n  -3.03525051e-01  1.59330710e-01 -3.51709439e-01  1.72420599e-01\n   2.06319186e-02 -2.14864727e-01 -8.44438126e-02  2.27103689e-01\n  -5.66570753e-01 -4.04371139e-01 -2.97424038e-01  1.64072651e-01\n  -2.35868861e-01  3.69637134e-01  2.67038353e-01 -1.18702315e-01\n   1.75150268e-01  1.99243187e-01  6.26913489e-02 -1.14982505e-01\n   9.30674348e-02 -1.73293860e-02  2.59154827e-02 -6.68329717e-02]]\n"
    }
   ],
   "source": [
    "print(customer_data_reduced[:5])"
   ]
  },
  {
   "cell_type": "code",
   "execution_count": 25,
   "metadata": {},
   "outputs": [],
   "source": [
    "# Creating a dataframe that contains the correlations between a principal component and the features\n",
    "component_makeup = pd.DataFrame(pca_100.components_, columns=customer_data.columns, index=[*range(1, 101)])"
   ]
  },
  {
   "cell_type": "code",
   "execution_count": 26,
   "metadata": {},
   "outputs": [
    {
     "output_type": "execute_result",
     "data": {
      "text/plain": "   AGER_TYP  AKT_DAT_KL  ALTER_HH  ALTERSKATEGORIE_FEIN  ANZ_HAUSHALTE_AKTIV  \\\n1 -0.044594   -0.026172 -0.057100             -0.041956            -0.001071   \n2 -0.018117   -0.017216  0.106122              0.052779            -0.004998   \n3 -0.049967    0.025582  0.028594              0.037740             0.004469   \n4 -0.032038    0.025994  0.037750              0.032068             0.005937   \n5  0.074667   -0.001707 -0.016863             -0.011198             0.003956   \n\n   ANZ_HH_TITEL  ANZ_KINDER  ANZ_PERSONEN  ANZ_STATISTISCHE_HAUSHALTE  \\\n1     -0.004521   -0.012495     -0.015286                   -0.001427   \n2     -0.001700    0.011479      0.029008                   -0.006702   \n3      0.001085    0.004351     -0.005891                    0.005697   \n4      0.002099    0.006617      0.002001                    0.007631   \n5      0.002671   -0.004644      0.000934                    0.005173   \n\n   ANZ_TITEL  ...  WOHNLAGE  ZABEOTYP  ONLINE_PURCHASE  ANREDE_KZ  \\\n1  -0.016825  ... -0.054928  0.014436         0.001432   0.020589   \n2   0.001614  ...  0.012545 -0.058994         0.035149  -0.081514   \n3  -0.001071  ...  0.006045  0.079402         0.035353   0.258127   \n4   0.001824  ... -0.034338  0.063130         0.039176   0.114526   \n5   0.003897  ... -0.140066 -0.024910         0.005643  -0.142001   \n\n   ALTERSKATEGORIE_GROB  SINGLE_BUYER  MULTI_BUYER  COSMETIC_AND_FOOD  \\\n1             -0.022353      0.005294    -0.005294          -0.004841   \n2             -0.008518      0.061763    -0.061763          -0.067829   \n3             -0.016505      0.355675    -0.355675          -0.365957   \n4             -0.017882     -0.355886     0.355886           0.370265   \n5              0.006868      0.103599    -0.103599          -0.126803   \n\n   COSMETIC      FOOD  \n1  0.001973  0.002868  \n2  0.023568  0.044261  \n3  0.119672  0.246285  \n4 -0.147771 -0.222494  \n5  0.121452  0.005351  \n\n[5 rows x 364 columns]",
      "text/html": "<div>\n<style scoped>\n    .dataframe tbody tr th:only-of-type {\n        vertical-align: middle;\n    }\n\n    .dataframe tbody tr th {\n        vertical-align: top;\n    }\n\n    .dataframe thead th {\n        text-align: right;\n    }\n</style>\n<table border=\"1\" class=\"dataframe\">\n  <thead>\n    <tr style=\"text-align: right;\">\n      <th></th>\n      <th>AGER_TYP</th>\n      <th>AKT_DAT_KL</th>\n      <th>ALTER_HH</th>\n      <th>ALTERSKATEGORIE_FEIN</th>\n      <th>ANZ_HAUSHALTE_AKTIV</th>\n      <th>ANZ_HH_TITEL</th>\n      <th>ANZ_KINDER</th>\n      <th>ANZ_PERSONEN</th>\n      <th>ANZ_STATISTISCHE_HAUSHALTE</th>\n      <th>ANZ_TITEL</th>\n      <th>...</th>\n      <th>WOHNLAGE</th>\n      <th>ZABEOTYP</th>\n      <th>ONLINE_PURCHASE</th>\n      <th>ANREDE_KZ</th>\n      <th>ALTERSKATEGORIE_GROB</th>\n      <th>SINGLE_BUYER</th>\n      <th>MULTI_BUYER</th>\n      <th>COSMETIC_AND_FOOD</th>\n      <th>COSMETIC</th>\n      <th>FOOD</th>\n    </tr>\n  </thead>\n  <tbody>\n    <tr>\n      <th>1</th>\n      <td>-0.044594</td>\n      <td>-0.026172</td>\n      <td>-0.057100</td>\n      <td>-0.041956</td>\n      <td>-0.001071</td>\n      <td>-0.004521</td>\n      <td>-0.012495</td>\n      <td>-0.015286</td>\n      <td>-0.001427</td>\n      <td>-0.016825</td>\n      <td>...</td>\n      <td>-0.054928</td>\n      <td>0.014436</td>\n      <td>0.001432</td>\n      <td>0.020589</td>\n      <td>-0.022353</td>\n      <td>0.005294</td>\n      <td>-0.005294</td>\n      <td>-0.004841</td>\n      <td>0.001973</td>\n      <td>0.002868</td>\n    </tr>\n    <tr>\n      <th>2</th>\n      <td>-0.018117</td>\n      <td>-0.017216</td>\n      <td>0.106122</td>\n      <td>0.052779</td>\n      <td>-0.004998</td>\n      <td>-0.001700</td>\n      <td>0.011479</td>\n      <td>0.029008</td>\n      <td>-0.006702</td>\n      <td>0.001614</td>\n      <td>...</td>\n      <td>0.012545</td>\n      <td>-0.058994</td>\n      <td>0.035149</td>\n      <td>-0.081514</td>\n      <td>-0.008518</td>\n      <td>0.061763</td>\n      <td>-0.061763</td>\n      <td>-0.067829</td>\n      <td>0.023568</td>\n      <td>0.044261</td>\n    </tr>\n    <tr>\n      <th>3</th>\n      <td>-0.049967</td>\n      <td>0.025582</td>\n      <td>0.028594</td>\n      <td>0.037740</td>\n      <td>0.004469</td>\n      <td>0.001085</td>\n      <td>0.004351</td>\n      <td>-0.005891</td>\n      <td>0.005697</td>\n      <td>-0.001071</td>\n      <td>...</td>\n      <td>0.006045</td>\n      <td>0.079402</td>\n      <td>0.035353</td>\n      <td>0.258127</td>\n      <td>-0.016505</td>\n      <td>0.355675</td>\n      <td>-0.355675</td>\n      <td>-0.365957</td>\n      <td>0.119672</td>\n      <td>0.246285</td>\n    </tr>\n    <tr>\n      <th>4</th>\n      <td>-0.032038</td>\n      <td>0.025994</td>\n      <td>0.037750</td>\n      <td>0.032068</td>\n      <td>0.005937</td>\n      <td>0.002099</td>\n      <td>0.006617</td>\n      <td>0.002001</td>\n      <td>0.007631</td>\n      <td>0.001824</td>\n      <td>...</td>\n      <td>-0.034338</td>\n      <td>0.063130</td>\n      <td>0.039176</td>\n      <td>0.114526</td>\n      <td>-0.017882</td>\n      <td>-0.355886</td>\n      <td>0.355886</td>\n      <td>0.370265</td>\n      <td>-0.147771</td>\n      <td>-0.222494</td>\n    </tr>\n    <tr>\n      <th>5</th>\n      <td>0.074667</td>\n      <td>-0.001707</td>\n      <td>-0.016863</td>\n      <td>-0.011198</td>\n      <td>0.003956</td>\n      <td>0.002671</td>\n      <td>-0.004644</td>\n      <td>0.000934</td>\n      <td>0.005173</td>\n      <td>0.003897</td>\n      <td>...</td>\n      <td>-0.140066</td>\n      <td>-0.024910</td>\n      <td>0.005643</td>\n      <td>-0.142001</td>\n      <td>0.006868</td>\n      <td>0.103599</td>\n      <td>-0.103599</td>\n      <td>-0.126803</td>\n      <td>0.121452</td>\n      <td>0.005351</td>\n    </tr>\n  </tbody>\n</table>\n<p>5 rows × 364 columns</p>\n</div>"
     },
     "metadata": {},
     "execution_count": 26
    }
   ],
   "source": [
    "component_makeup.head()"
   ]
  },
  {
   "cell_type": "code",
   "execution_count": 27,
   "metadata": {},
   "outputs": [
    {
     "output_type": "execute_result",
     "data": {
      "text/plain": "100"
     },
     "metadata": {},
     "execution_count": 27
    }
   ],
   "source": [
    "# Making sure all 100 principal components are in the dataframe\n",
    "len(component_makeup.index)"
   ]
  },
  {
   "cell_type": "code",
   "execution_count": 18,
   "metadata": {},
   "outputs": [],
   "source": [
    "# Finding the most influential features of every principal component\n",
    "\n",
    "# Dictionary that will hold the names of the most important features for every principal component\n",
    "important_features_dict = {}\n",
    "\n",
    "# Counter for the row index\n",
    "i = 1\n",
    "# Iterate through all the principal components\n",
    "for i in range(1, 101):\n",
    "    # Adding a key for the principal component\n",
    "    new_key = \"PC\" + str(i)\n",
    "    # Creating an empty list for the component\n",
    "    important_features_dict[new_key] = []\n",
    "    # Iterate through all the columns\n",
    "    for feature in component_makeup.columns:\n",
    "        # Add the name of the column and correlation coefficient if there is a strong correlation\n",
    "        if component_makeup.loc[i, feature] >= 0.2 or component_makeup.loc[i, feature] <= -0.2:\n",
    "            important_features_dict[new_key].append((feature, component_makeup.loc[i, feature]))"
   ]
  },
  {
   "cell_type": "code",
   "execution_count": 19,
   "metadata": {},
   "outputs": [
    {
     "name": "stdout",
     "output_type": "stream",
     "text": [
      "{'PC1': [], 'PC2': [('D19_GESAMT_ONLINE_QUOTE_12', 0.20151695032740602)], 'PC3': [('ANREDE_KZ', 0.2574145575956568), ('SINGLE_BUYER', 0.3539614557384421), ('MULTI_BUYER', -0.35396145573844207), ('COSMETIC_AND_FOOD', -0.364140084944719), ('FOOD', 0.24518237059189552)], 'PC4': [('SINGLE_BUYER', -0.3574913574416077), ('MULTI_BUYER', 0.3574913574416077), ('COSMETIC_AND_FOOD', 0.37188349286096295), ('FOOD', -0.22360191817813552)], 'PC5': [('GREEN_AVANTGARDE', 0.2337613404989215)], 'PC6': [('SEMIO_ERL', 0.21597830903283072), ('SEMIO_FAM', -0.21518003903782743), ('SEMIO_KULT', -0.24220199802228795), ('ANREDE_KZ', 0.4136964193902591)], 'PC7': [('ANREDE_KZ', 0.24061064303147575)], 'PC8': [], 'PC9': [('D19_GESAMT_ONLINE_QUOTE_12', -0.2011307859047984), ('LP_FAMILIE_FEIN', 0.38092757172849395), ('LP_FAMILIE_GROB', 0.3314294985579018), ('LP_LEBENSPHASE_FEIN', 0.30848737175804714), ('LP_LEBENSPHASE_GROB', 0.3280559102469748)], 'PC10': [('LP_LEBENSPHASE_FEIN', -0.2077459670055214), ('LP_LEBENSPHASE_GROB', -0.20319207519002094)], 'PC11': [('GEBURTSJAHR', 0.21423535848672134), ('COSMETIC', -0.3337666317720865), ('FOOD', 0.25489263123650446)], 'PC12': [('COSMETIC', 0.6384669303997521), ('FOOD', -0.49187786874917)], 'PC13': [('GREEN_AVANTGARDE', 0.49238607812390606), ('COSMETIC', -0.23245782043418523)], 'PC14': [('KBA13_CCM_0_1400', -0.22039903110931813), ('KBA13_CCM_1000', -0.2099652674329854), ('KBA13_CCM_1401_2500', 0.2225276267210561), ('KBA13_KMH_0_140', -0.2923285694481447), ('KBA13_KMH_140', -0.2607532528451349), ('KBA13_KW_61_120', 0.20996127961375777)], 'PC15': [('GEBURTSJAHR', -0.6903657264569686)], 'PC16': [('D19_GESAMT_OFFLINE_DATUM', -0.23076155588261305), ('D19_GESAMT_ONLINE_QUOTE_12', -0.24041285027606668), ('D19_KOSMETIK', -0.3169330686682474), ('D19_LOTTO', -0.3497681103277616), ('D19_REISEN', -0.25452825559824444), ('D19_SONSTIGE', -0.25501574878416594), ('D19_VERSAND_OFFLINE_DATUM', -0.20301862613342758), ('D19_VERSAND_ONLINE_QUOTE_12', -0.23162234577083732)], 'PC17': [('D19_TELKO_MOBILE', -0.20681536225279934), ('EXTSEL992', 0.23002980495491737)], 'PC18': [('D19_BILDUNG', 0.2853608584851834), ('D19_KOSMETIK', -0.5305829970182184), ('D19_RATGEBER', 0.21490201921148652), ('D19_REISEN', 0.5227216288438359)], 'PC19': [('AGER_TYP', -0.24382277430112895), ('D19_REISEN', -0.20734832474961323)], 'PC20': [('D19_TECHNIK', -0.43167553721243795), ('GEBURTSJAHR', -0.21611592856566123)], 'PC21': [('D19_BUCH_CD', -0.20245615926785174), ('D19_GESAMT_OFFLINE_DATUM', -0.2269976479440427), ('D19_TECHNIK', 0.2640386031957927), ('GEBURTSJAHR', -0.2629794762062593)], 'PC22': [('D19_TECHNIK', -0.23268999094680753), ('D19_VOLLSORTIMENT', -0.20781672030187243), ('KKK', -0.2008607088451972), ('REGIOTYP', -0.2386671275324332)], 'PC23': [('D19_BUCH_CD', 0.28917679746247904), ('D19_KOSMETIK', -0.26237879154933247), ('D19_REISEN', -0.4130030849936907), ('D19_TECHNIK', 0.5157849062036343), ('GEBURTSJAHR', -0.23149781090492874)], 'PC24': [('D19_HANDWERK', 0.2240523765166242), ('D19_VOLLSORTIMENT', -0.38745406525589526)], 'PC25': [('SINGLE_BUYER', -0.3830102779642645), ('MULTI_BUYER', 0.3830102779642645), ('COSMETIC_AND_FOOD', -0.47412978280330886), ('FOOD', 0.3535183708390959)], 'PC26': [('D19_HANDWERK', -0.49505522501488264), ('D19_KINDERARTIKEL', 0.2012423108614568), ('D19_KOSMETIK', 0.3672838637321696), ('D19_VOLLSORTIMENT', -0.30250358821295503)], 'PC27': [('D19_HANDWERK', -0.5522391704989201), ('D19_VOLLSORTIMENT', 0.3390215629918168)], 'PC28': [('D19_HANDWERK', -0.27557204891372317), ('D19_REISEN', -0.2242360171713459), ('D19_SAMMELARTIKEL', 0.5375261043420585), ('FINANZTYP', 0.28490920456773716)], 'PC29': [('D19_BEKLEIDUNG_REST', -0.2174306365372309), ('D19_BUCH_CD', 0.24749448119457967), ('D19_HANDWERK', 0.32179349861095863), ('D19_LOTTO', 0.2235311839576431), ('D19_SAMMELARTIKEL', 0.2673389066539387), ('D19_VOLLSORTIMENT', -0.3967026339489303)], 'PC30': [('D19_KOSMETIK', -0.3642699834602679), ('D19_LOTTO', 0.7565131254622794), ('D19_TECHNIK', -0.2730019046446139)], 'PC31': [('D19_BUCH_CD', 0.41624637919750973), ('D19_VOLLSORTIMENT', -0.27581302578232686), ('FINANZTYP', -0.3673751847286783)], 'PC32': [('D19_BEKLEIDUNG_GEH', -0.23707136970720116), ('D19_BEKLEIDUNG_REST', -0.3696838916478266), ('D19_BUCH_CD', 0.2568413942131139), ('D19_KINDERARTIKEL', 0.31313055556638564), ('D19_SAMMELARTIKEL', -0.31691003577437205), ('D19_TECHNIK', -0.22050947241091415), ('D19_VOLLSORTIMENT', 0.2334516468206878), ('D19_WEIN_FEINKOST', -0.2186226211722743)], 'PC33': [('D19_BEKLEIDUNG_REST', -0.5525461059821203), ('D19_SAMMELARTIKEL', 0.29242047137535776), ('D19_VOLLSORTIMENT', 0.2697515338828726), ('FINANZTYP', -0.3910165393945189)], 'PC34': [('BALLRAUM', 0.23722249122999695), ('GREEN_AVANTGARDE', 0.211924236745282), ('SEMIO_MAT', 0.22837083233585637)], 'PC35': [('D19_BUCH_CD', -0.20300895175499387), ('D19_SAMMELARTIKEL', 0.2876771438312027), ('FINANZTYP', -0.27065065781428993), ('KBA13_KMH_0_140', -0.22205474596864422)], 'PC36': [('D19_BILDUNG', 0.2255024823499342), ('D19_BUCH_CD', -0.20428240668284284)], 'PC37': [('D19_BANKEN_DATUM', -0.27993287871673167), ('D19_BANKEN_GROSS', 0.21872361705245882), ('D19_BANKEN_ONLINE_DATUM', -0.2427664956230439), ('D19_BANKEN_ONLINE_QUOTE_12', 0.23451305788596868), ('D19_VERSICHERUNGEN', -0.4184742448303333)], 'PC38': [('D19_VERSICHERUNGEN', -0.3416762886725174)], 'PC39': [('D19_BEKLEIDUNG_REST', 0.28267179570965606), ('D19_BUCH_CD', 0.24910808410570887), ('D19_HAUS_DEKO', -0.2684710183288246), ('D19_REISEN', 0.2837624868612575), ('D19_SAMMELARTIKEL', 0.2509903343806813), ('D19_SONSTIGE', -0.44061205207309034), ('D19_WEIN_FEINKOST', -0.24079858388472217), ('EXTSEL992', -0.25187999299307406)], 'PC40': [('D19_BEKLEIDUNG_REST', -0.2106149352136427), ('D19_BILDUNG', -0.27601373988435435), ('D19_TELKO_MOBILE', 0.2785050936651389), ('D19_VERSICHERUNGEN', -0.2401160890810839), ('KK_KUNDENTYP', -0.2803731067346314)], 'PC41': [('KBA13_ANZAHL_PKW', -0.20966928473446078), ('KBA13_CCM_1000', 0.23902428314362525), ('KBA13_GBZ', -0.2144975339829422), ('KBA13_HHZ', -0.24447134954021835), ('PLZ8_GBZ', -0.25904317765039725), ('PLZ8_HHZ', -0.28853638638054524)], 'PC42': [('D19_HAUS_DEKO', 0.2654201164572289), ('D19_SONSTIGE', -0.2980718506931505), ('KK_KUNDENTYP', 0.20503000055655984), ('SEMIO_MAT', -0.2582284754136621)], 'PC43': [('D19_BILDUNG', 0.4073258298711444), ('D19_HAUS_DEKO', -0.30815555436903025), ('ONLINE_PURCHASE', 0.7237960371061728)], 'PC44': [('D19_BILDUNG', -0.40758348660765775), ('D19_HAUS_DEKO', 0.4442087525388947), ('D19_SONSTIGE', 0.24488087846212123), ('D19_WEIN_FEINKOST', -0.25230136612554177), ('ONLINE_PURCHASE', 0.5671636269367744)], 'PC45': [('D19_BILDUNG', 0.27686903337539953), ('D19_KINDERARTIKEL', -0.2115332926316193), ('D19_TELKO_MOBILE', 0.40828380197635034), ('D19_VERSICHERUNGEN', -0.33962219619855355), ('KK_KUNDENTYP', 0.38275680733597545)], 'PC46': [('D19_SONSTIGE', -0.3039513552225179), ('EXTSEL992', 0.2841944605269525)], 'PC47': [('D19_TELKO_MOBILE', -0.362543502344522), ('GREEN_AVANTGARDE', 0.2243876515871718)], 'PC48': [('D19_HAUS_DEKO', 0.2049924692714644), ('GREEN_AVANTGARDE', 0.3641056186405028)], 'PC49': [('D19_BILDUNG', -0.22019656244331196), ('D19_HAUS_DEKO', -0.22399253154361928), ('D19_KINDERARTIKEL', 0.6388594672974601), ('D19_WEIN_FEINKOST', 0.32885217671079175)], 'PC50': [('D19_WEIN_FEINKOST', 0.25688647488078337), ('KK_KUNDENTYP', 0.29746158204528117), ('W_KEIT_KIND_HH', -0.3962032419863996)], 'PC51': [('D19_BEKLEIDUNG_GEH', 0.5738006354505827), ('KK_KUNDENTYP', 0.21671959798316534)], 'PC52': [('D19_BEKLEIDUNG_GEH', 0.35986054264200973)], 'PC53': [('D19_BEKLEIDUNG_GEH', -0.388940129125747), ('GREEN_AVANTGARDE', 0.24660032636530435), ('KBA13_CCM_2500', -0.21676802838809084), ('KBA13_KW_120', -0.3061416156656379), ('SEMIO_MAT', -0.20507180853591603)], 'PC54': [('KBA13_CCM_1800', -0.20441443589146932), ('KBA13_KW_120', 0.2066492875335598)], 'PC55': [('D19_DROGERIEARTIKEL', 0.21684426201998358), ('D19_TELKO_MOBILE', -0.2522872016723103)], 'PC56': [('D19_DROGERIEARTIKEL', 0.36248595534939526), ('D19_NAHRUNGSERGAENZUNG', 0.22263471434643245), ('D19_WEIN_FEINKOST', -0.4101993007066769)], 'PC57': [('KBA13_KW_120', -0.2896357014350141)], 'PC58': [('KBA05_ANTG2', 0.21569221666962937)], 'PC59': [('D19_KONSUMTYP', 0.2655778867389242), ('D19_KONSUMTYP_MAX', 0.30069618060860254), ('D19_TELKO_REST', -0.3007207093875796), ('KBA05_ANTG2', -0.22803513034502848)], 'PC60': [('D19_TELKO_REST', 0.4062333457567561)], 'PC61': [('D19_KONSUMTYP_MAX', -0.22398865822068745), ('D19_TELKO_REST', -0.3748755695631107), ('KBA13_CCM_1800', 0.2713841067374505), ('KBA13_KW_110', -0.22538984671798878), ('KBA13_KW_120', 0.2624047883931039), ('KBA13_KW_80', 0.2531289288342905)], 'PC62': [('D19_TELKO_REST', 0.3653739307591948), ('KBA13_VORB_3', 0.20663989206884298)], 'PC63': [('ALTER_HH', 0.267644570882162), ('SHOPPER_TYP', -0.47743370476767416), ('ANREDE_KZ', 0.2662188254414177)], 'PC64': [('D19_FREIZEIT', 0.262656291190786), ('D19_KONSUMTYP_MAX', 0.20595480485294865), ('D19_LEBENSMITTEL', -0.22674364498385208), ('D19_VERSAND_REST', 0.35946524788013867), ('GFK_URLAUBERTYP', -0.2657266187924194), ('W_KEIT_KIND_HH', 0.23560685147295624)], 'PC65': [('D19_TELKO_REST', -0.2622488785154495), ('D19_VERSAND_REST', 0.2346080283874328), ('KBA13_KW_110', 0.2307593683840655), ('KBA13_KW_80', -0.20757377326741178)], 'PC66': [('D19_BANKEN_GROSS', -0.24804983736041938), ('D19_BIO_OEKO', 0.2782969973006278), ('D19_VERSAND_REST', -0.39801516566704553), ('GEBAEUDETYP', -0.22064260419977527)], 'PC67': [('KBA13_CCM_1400', 0.20257794976495053), ('KBA13_CCM_1600', -0.24535645747743237), ('KBA13_CCM_1800', 0.2410065008119851), ('KBA13_KW_60', 0.3678459393201709), ('KBA13_KW_70', -0.49700372517929303), ('KBA13_KW_90', 0.25794381842224534)], 'PC68': [('D19_BIO_OEKO', 0.20333974998850043), ('D19_FREIZEIT', 0.5519232011516682), ('D19_LEBENSMITTEL', -0.3663797039374871), ('D19_TELKO_REST', -0.2138308182982107), ('SEMIO_MAT', 0.2039947788233045), ('ANREDE_KZ', -0.21620781104420736)], 'PC69': [('D19_LEBENSMITTEL', 0.40666429002754423), ('D19_NAHRUNGSERGAENZUNG', -0.28367452442024726), ('D19_RATGEBER', -0.3717610964590309), ('GEBAEUDETYP', 0.39695550144373015), ('GFK_URLAUBERTYP', -0.2636036128933111)], 'PC70': [('D19_BILDUNG', -0.24636111519284354), ('D19_BIO_OEKO', -0.389052891400978), ('D19_DROGERIEARTIKEL', 0.3843260348841833), ('D19_FREIZEIT', 0.20414463577846448), ('D19_RATGEBER', 0.5619607392264376), ('D19_VERSAND_REST', -0.2847442790366289)], 'PC71': [('D19_BANKEN_GROSS', 0.2176026933638711), ('D19_DROGERIEARTIKEL', -0.4022741339293031), ('D19_FREIZEIT', 0.25586213173787775), ('D19_RATGEBER', 0.2590640120333739), ('ANREDE_KZ', 0.20700728989432152)], 'PC72': [('ALTER_HH', 0.242257496468238), ('D19_BANKEN_DIREKT', 0.20214265703482392), ('D19_BANKEN_GROSS', 0.3851333507337408), ('D19_LEBENSMITTEL', 0.3173010485934977), ('D19_NAHRUNGSERGAENZUNG', -0.20922897993085615), ('D19_VERSAND_REST', -0.36965396536004197), ('ANREDE_KZ', -0.2613241652005792)], 'PC73': [('D19_BANKEN_GROSS', 0.32015998696271003), ('D19_FREIZEIT', 0.29016256095314114), ('D19_LEBENSMITTEL', -0.2057784275009179), ('D19_RATGEBER', -0.39545466473795116), ('D19_VERSAND_REST', -0.413962793650935)], 'PC74': [('D19_LEBENSMITTEL', -0.2770211980055092), ('GEBAEUDETYP', 0.4949990677970044)], 'PC75': [('ZABEOTYP', 0.2095606442897753)], 'PC76': [('D19_BIO_OEKO', -0.4688337368075527), ('D19_DROGERIEARTIKEL', -0.3851518233009156), ('D19_ENERGIE', 0.310859108213945), ('D19_FREIZEIT', 0.28898423971163284), ('D19_LEBENSMITTEL', 0.22695192259271332), ('D19_NAHRUNGSERGAENZUNG', 0.28127515773589373), ('GFK_URLAUBERTYP', 0.271209534411621)], 'PC77': [('D19_ENERGIE', 0.3988376562538238), ('FIRMENDICHTE', 0.22758820577256617), ('KBA13_SEG_WOHNMOBILE', 0.29997109784641823), ('KONSUMZELLE', -0.2194618768895779)], 'PC78': [('D19_ENERGIE', 0.4950181515269956), ('KBA13_KW_80', -0.22053215675158866), ('KBA13_KW_90', 0.31089358643873494), ('ZABEOTYP', 0.2475784020464882)], 'PC79': [('D19_ENERGIE', 0.24223364668156475), ('KBA13_CCM_1500', -0.25347767118842995), ('KBA13_KW_110', 0.26452141478000163), ('KBA13_KW_70', -0.22772873069153277), ('KBA13_KW_80', 0.38448199778722625), ('KBA13_KW_90', -0.514564318917894)], 'PC80': [('CAMEO_DEUG_2015', -0.20343681917995168), ('CAMEO_INTL_2015', -0.2073374376684285), ('D19_ENERGIE', 0.460378852751173), ('KBA13_SEG_WOHNMOBILE', -0.3961858740898841)], 'PC81': [('D19_SCHUHE', 0.20611578881962475), ('GEBAEUDETYP', 0.32917418851089986), ('KBA05_ANTG1', -0.21715794780535708)], 'PC82': [('D19_BANKEN_DIREKT', -0.2773812303833084), ('D19_BANKEN_GROSS', 0.20797591291234482), ('D19_BANKEN_REST', 0.4827962328849134), ('D19_SCHUHE', -0.2965757056435404), ('GFK_URLAUBERTYP', -0.24417812293025662), ('SEMIO_SOZ', -0.2278219340884795)], 'PC83': [('D19_BANKEN_DIREKT', -0.21039754807925637), ('D19_BANKEN_REST', 0.3837333693128667), ('D19_SCHUHE', 0.7267932898419815)], 'PC84': [('D19_BANKEN_REST', 0.5687073332932001), ('D19_SCHUHE', -0.35215679358806357), ('D19_VERSI_DATUM', 0.23023817497551063)], 'PC85': [('D19_BANKEN_DIREKT', -0.37204267424995235), ('D19_BANKEN_GROSS', 0.26083507164487424), ('D19_BIO_OEKO', 0.2542203321308154), ('D19_NAHRUNGSERGAENZUNG', -0.29603332573343594), ('D19_SCHUHE', -0.21885234786783164), ('GFK_URLAUBERTYP', 0.2379154463948995), ('SEMIO_SOZ', 0.20285958314568076)], 'PC86': [('ALTER_HH', -0.3452106857461346), ('D19_BANKEN_REST', 0.22512387600546685), ('KBA13_SEG_WOHNMOBILE', -0.23497989762493549), ('ZABEOTYP', 0.44927635912012065)], 'PC87': [('D19_NAHRUNGSERGAENZUNG', -0.24680543869469207), ('SEMIO_ERL', 0.238875673368365), ('SEMIO_SOZ', -0.2685246117521564), ('UMFELD_ALT', 0.20476815463024264), ('VHN', -0.2554709679382459)], 'PC88': [('ALTER_HH', -0.24983145354897426), ('D19_NAHRUNGSERGAENZUNG', -0.20821533729024544), ('GFK_URLAUBERTYP', 0.2841694770744771), ('KBA13_BJ_2008', 0.3735449388495376), ('KBA13_BJ_2009', -0.343724527095163)], 'PC89': [('KBA13_BJ_2008', -0.30733108723628766), ('KBA13_BJ_2009', 0.41822883430203733), ('KBA13_SEG_WOHNMOBILE', 0.2932803797873493)], 'PC90': [('VERDICHTUNGSRAUM', 0.32236405518128924)], 'PC91': [('D19_BANKEN_DIREKT', 0.3920880676320086), ('D19_BANKEN_GROSS', -0.23772003364305339), ('D19_VERSI_DATUM', -0.348716455649796), ('D19_VERSICHERUNGEN', -0.21486747083012067), ('KBA13_BJ_2009', -0.218780190809142), ('KBA13_CCM_1500', -0.30850562114779095)], 'PC92': [('D19_BANKEN_DIREKT', 0.23356774726213683), ('KBA13_CCM_1500', 0.3111896398658508), ('ZABEOTYP', -0.313467773270519)], 'PC93': [('KBA13_KW_40', -0.2337625259669305), ('SEMIO_ERL', -0.20740327603706216), ('SEMIO_MAT', -0.2886059602033632), ('SEMIO_SOZ', -0.263140194479867)], 'PC94': [('D19_GARTEN', 0.21956811404242374), ('VERDICHTUNGSRAUM', 0.2517664473220085)], 'PC95': [('D19_GARTEN', 0.3067116860973751), ('KONSUMZELLE', 0.2117171826221554), ('SEMIO_SOZ', 0.31677683503040904), ('VERDICHTUNGSRAUM', -0.2040692439997742), ('VHA', 0.20805979968028654)], 'PC96': [('KBA13_CCM_1500', -0.32097621443928687), ('KBA13_CCM_1800', -0.2015811470816197), ('SEMIO_ERL', 0.20136342538616414)], 'PC97': [('AKT_DAT_KL', 0.2065605609621065), ('KBA13_KW_40', -0.22703098488520396)], 'PC98': [('D19_GARTEN', 0.6036634577499597), ('SEMIO_ERL', -0.2022933353046308), ('SEMIO_LUST', -0.24670983971806945)], 'PC99': [('KBA13_CCM_1500', -0.35504696092452165), ('KBA13_CCM_3000', -0.20754760356361704), ('KBA13_KW_110', -0.20399345690773135), ('KBA13_SEG_OBERKLASSE', 0.2891109682551583), ('SEMIO_LUST', 0.24034456482878017)], 'PC100': [('AGER_TYP', 0.31300920400781546), ('ALTER_HH', -0.20248286353648964), ('D19_GARTEN', -0.21020947732003728), ('KBA13_VORB_3', 0.27882956338526493)]}\n"
     ]
    }
   ],
   "source": [
    "print(important_features_dict)"
   ]
  },
  {
   "cell_type": "code",
   "execution_count": 21,
   "metadata": {},
   "outputs": [],
   "source": [
    "# Importing the K means model\n",
    "from sklearn.cluster import MiniBatchKMeans\n",
    "\n",
    "\n",
    "def find_optimal_k(data, num_clusters):\n",
    "    \"\"\"\n",
    "    Creates a graph of the cumulative distortion of a k-means clustering model as a function of the number of clusters\n",
    "    param data: A dataframe or numpy array with features\n",
    "    param num_clusters: An integer that specifies the number of clusters that will be shown in the graph\n",
    "    return: Uses plt.show() to display the graph\n",
    "    \"\"\"\n",
    "    # For storing the distortion, the sum of squared distances of samples to their closest cluster center, for each iterations\n",
    "    distortions = []\n",
    "    \n",
    "    # Trying different values for k, between 1 and num_clusters\n",
    "    for k in range(1, num_clusters):\n",
    "        # Defining a k means model with the value of k for the iteration and with 100 iterations max\n",
    "        kmeans = MiniBatchKMeans(n_clusters=k, \n",
    "                        max_iter=100)\n",
    "    \n",
    "        # Fitting the k means model to the dimensionality reduced customer data\n",
    "        kmeans.fit(data)\n",
    "    \n",
    "        # Appending the distortion value to the list\n",
    "        distortions.append(kmeans.inertia_)\n",
    "        \n",
    "    # Creating a graph of the cumulative distortion as a function of the number of components\n",
    "    plt.figure(figsize=(8.4, 6.8))\n",
    "    ax = plt.gca()\n",
    "    ax.set_facecolor('#ebedf0')\n",
    "    plt.grid(color='grey', linestyle='-', linewidth=0.25, alpha=0.5)\n",
    "    plt.plot(distortions)\n",
    "    # Adding a title\n",
    "    plt.title(\"Inertia vs The Number of Clusters\")\n",
    "    # Adding a label for the x-axis\n",
    "    plt.xlabel(\"Number of Clusters\")\n",
    "    # Adding a label for the y-axis\n",
    "    plt.ylabel(\"Inertia\")\n",
    "\n",
    "    plt.savefig('images/distortion_plot')\n",
    "    \n",
    "    # Displaying the graph\n",
    "    plt.show()"
   ]
  },
  {
   "cell_type": "code",
   "execution_count": 22,
   "metadata": {},
   "outputs": [
    {
     "output_type": "error",
     "ename": "NameError",
     "evalue": "name 'customer_data_reduced' is not defined",
     "traceback": [
      "\u001b[0;31m---------------------------------------------------------------------------\u001b[0m",
      "\u001b[0;31mNameError\u001b[0m                                 Traceback (most recent call last)",
      "\u001b[0;32m<ipython-input-22-0bb344f94c40>\u001b[0m in \u001b[0;36m<module>\u001b[0;34m\u001b[0m\n\u001b[1;32m      1\u001b[0m \u001b[0;31m# Creating a graph that shows the cumulative distortion as a function of the number of clusters in order to find the optimal value for k\u001b[0m\u001b[0;34m\u001b[0m\u001b[0;34m\u001b[0m\u001b[0;34m\u001b[0m\u001b[0m\n\u001b[0;32m----> 2\u001b[0;31m \u001b[0mfind_optimal_k\u001b[0m\u001b[0;34m(\u001b[0m\u001b[0mcustomer_data_reduced\u001b[0m\u001b[0;34m,\u001b[0m \u001b[0;36m100\u001b[0m\u001b[0;34m)\u001b[0m\u001b[0;34m\u001b[0m\u001b[0;34m\u001b[0m\u001b[0m\n\u001b[0m",
      "\u001b[0;31mNameError\u001b[0m: name 'customer_data_reduced' is not defined"
     ]
    }
   ],
   "source": [
    "# Creating a graph that shows the cumulative distortion as a function of the number of clusters in order to find the optimal value for k\n",
    "find_optimal_k(customer_data_reduced, 100)"
   ]
  },
  {
   "cell_type": "code",
   "execution_count": 13,
   "metadata": {},
   "outputs": [
    {
     "output_type": "execute_result",
     "data": {
      "text/plain": "PCA(n_components=363)"
     },
     "metadata": {},
     "execution_count": 13
    }
   ],
   "source": [
    "# Test using a PCA model with the unnormalized data\n",
    "\n",
    "# Defining the maximum number of principal components to fit the model\n",
    "num_components = len(list(customer_data.columns)) - 1\n",
    "\n",
    "# Creating a PCA model\n",
    "pca = PCA(n_components=num_components)\n",
    "\n",
    "# Fitting the PCA model\n",
    "pca.fit(customer_data)"
   ]
  },
  {
   "cell_type": "code",
   "execution_count": 15,
   "metadata": {
    "tags": []
   },
   "outputs": [
    {
     "output_type": "stream",
     "name": "stdout",
     "text": "[7.67176584e-01 1.87255103e-01 3.25981965e-02 1.23008299e-02\n 1.50010254e-04 1.20512287e-04 7.15749937e-05 4.83518885e-05\n 3.75139797e-05 2.37736421e-05 2.22601777e-05 1.38017251e-05\n 1.00980830e-05 5.78538669e-06 5.68434264e-06 5.16114017e-06\n 4.70082322e-06 4.19991351e-06 3.99423322e-06 3.81297588e-06\n 3.68348386e-06 2.90536591e-06 2.83277870e-06 2.52454409e-06\n 2.44774383e-06 2.35253025e-06 2.19581857e-06 2.12805713e-06\n 2.09773823e-06 2.05485929e-06 2.02061495e-06 2.00621115e-06\n 1.91800064e-06 1.90156446e-06 1.87237420e-06 1.83518456e-06\n 1.75749558e-06 1.75110099e-06 1.69760828e-06 1.65585555e-06\n 1.58901377e-06 1.56699533e-06 1.53013509e-06 1.48636186e-06\n 1.47130103e-06 1.43868417e-06 1.39294541e-06 1.37074574e-06\n 1.33132016e-06 1.30061841e-06 1.28434024e-06 1.26402263e-06\n 1.22218713e-06 1.20634592e-06 1.15691872e-06 1.14044011e-06\n 1.08778390e-06 1.06100815e-06 1.04595225e-06 9.89539309e-07\n 9.85852576e-07 9.70356030e-07 9.48150640e-07 9.38712153e-07\n 9.20433146e-07 9.17182221e-07 9.02518851e-07 8.97731071e-07\n 8.88204188e-07 8.76188460e-07 8.55369619e-07 8.43840245e-07\n 8.37375185e-07 8.15965976e-07 8.13158187e-07 8.04894205e-07\n 7.81247231e-07 7.73500507e-07 7.63062638e-07 7.45566171e-07\n 7.38576016e-07 7.09128380e-07 6.95081511e-07 6.88123752e-07\n 6.74320919e-07 6.58939243e-07 6.53212483e-07 6.45173185e-07\n 6.16133979e-07 6.12786706e-07 6.05776388e-07 5.94609771e-07\n 5.80034600e-07 5.73062468e-07 5.64952472e-07 5.57873909e-07\n 5.50820346e-07 5.42006501e-07 5.30976231e-07 5.26252995e-07\n 5.08414104e-07 5.02485471e-07 5.02318160e-07 4.89726696e-07\n 4.86701651e-07 4.74034155e-07 4.57036657e-07 4.56504485e-07\n 4.51755193e-07 4.43430708e-07 4.37042171e-07 4.33849035e-07\n 4.30230438e-07 4.27930002e-07 4.23342761e-07 4.20690096e-07\n 4.18173317e-07 4.10129873e-07 4.09115482e-07 4.05188919e-07\n 3.97469563e-07 3.95797449e-07 3.88394800e-07 3.85366690e-07\n 3.82691423e-07 3.80347253e-07 3.71928579e-07 3.70910615e-07\n 3.67896032e-07 3.65449281e-07 3.58795022e-07 3.53550272e-07\n 3.48212530e-07 3.45342649e-07 3.43990786e-07 3.34826476e-07\n 3.30168643e-07 3.27936489e-07 3.23914865e-07 3.15211053e-07\n 3.13804879e-07 3.08811507e-07 3.06887920e-07 3.05902851e-07\n 3.01269514e-07 3.00258639e-07 2.94101754e-07 2.87341359e-07\n 2.82257887e-07 2.77769664e-07 2.77102619e-07 2.75528119e-07\n 2.73482840e-07 2.68638475e-07 2.66622537e-07 2.64686822e-07\n 2.63086572e-07 2.55266038e-07 2.51471422e-07 2.48544730e-07\n 2.46738165e-07 2.45952194e-07 2.41469102e-07 2.39107187e-07\n 2.36071614e-07 2.35140546e-07 2.31974667e-07 2.28126220e-07\n 2.25689554e-07 2.19626292e-07 2.17852270e-07 2.16075159e-07\n 2.14892736e-07 2.13151111e-07 2.09386434e-07 2.08045605e-07\n 2.04652986e-07 2.03779895e-07 1.99625349e-07 1.97380101e-07\n 1.92087363e-07 1.91126570e-07 1.90096478e-07 1.87478331e-07\n 1.84512419e-07 1.84111972e-07 1.82090840e-07 1.80410321e-07\n 1.78557238e-07 1.74878614e-07 1.69473079e-07 1.67540600e-07\n 1.62440866e-07 1.59622632e-07 1.58386913e-07 1.57480499e-07\n 1.55427856e-07 1.53750800e-07 1.51431401e-07 1.49688509e-07\n 1.49044473e-07 1.47663973e-07 1.46213241e-07 1.41650166e-07\n 1.40657130e-07 1.40202765e-07 1.38607407e-07 1.37465635e-07\n 1.32655036e-07 1.31379160e-07 1.30508301e-07 1.29694712e-07\n 1.27733891e-07 1.24376778e-07 1.23368034e-07 1.22004006e-07\n 1.21311897e-07 1.19470603e-07 1.18415863e-07 1.16700047e-07\n 1.15178222e-07 1.14803953e-07 1.12817972e-07 1.12181321e-07\n 1.11529527e-07 1.08917379e-07 1.06593825e-07 1.06155142e-07\n 1.04807963e-07 1.03538738e-07 1.02855130e-07 9.96879455e-08\n 9.89991808e-08 9.73097760e-08 9.67353437e-08 9.62516551e-08\n 9.38567608e-08 9.24583694e-08 9.06318797e-08 8.93499624e-08\n 8.86217012e-08 8.56871518e-08 8.42174801e-08 8.29976815e-08\n 8.00237482e-08 7.92516668e-08 7.81394146e-08 7.75376180e-08\n 7.50610537e-08 7.35827580e-08 7.26396462e-08 7.16318192e-08\n 6.89823952e-08 6.75077681e-08 6.70249083e-08 6.61196980e-08\n 6.49519741e-08 6.41082855e-08 6.28879115e-08 6.24476027e-08\n 6.18123293e-08 5.94852531e-08 5.89999865e-08 5.80526586e-08\n 5.72746585e-08 5.68618429e-08 5.50831177e-08 5.43500190e-08\n 5.32284488e-08 5.26277180e-08 5.25019247e-08 5.21224518e-08\n 5.16917758e-08 5.08567874e-08 5.01330453e-08 4.90715202e-08\n 4.85665714e-08 4.80302832e-08 4.69121705e-08 4.64825236e-08\n 4.51062079e-08 4.48894212e-08 4.41879956e-08 4.34147679e-08\n 4.22328106e-08 4.20750919e-08 4.16287231e-08 4.09843730e-08\n 3.91033189e-08 3.89682820e-08 3.74823892e-08 3.65767982e-08\n 3.65461786e-08 3.60548593e-08 3.55351913e-08 3.43881829e-08\n 3.37476972e-08 3.31411457e-08 3.30230699e-08 3.27566396e-08\n 3.22781110e-08 3.19160187e-08 3.16445560e-08 3.07293154e-08\n 3.06889278e-08 3.00934324e-08 2.99124365e-08 2.97932475e-08\n 2.90969969e-08 2.83469014e-08 2.79298518e-08 2.75997850e-08\n 2.71515697e-08 2.63518277e-08 2.59197987e-08 2.55312740e-08\n 2.54283906e-08 2.52892286e-08 2.52000921e-08 2.48304267e-08\n 2.47715399e-08 2.44749798e-08 2.43467060e-08 2.42067993e-08\n 2.40943251e-08 2.36996123e-08 2.33613437e-08 2.30827386e-08\n 2.29151920e-08 2.27111393e-08 2.20492080e-08 2.18111828e-08\n 2.17402303e-08 2.14215833e-08 2.08367077e-08 2.05737965e-08\n 1.99327470e-08 1.88880691e-08 1.79761779e-08 1.70007440e-08\n 1.67158230e-08 1.65279301e-08 1.57243591e-08 1.43231835e-08\n 1.40480566e-08 1.34743826e-08 1.33530906e-08 1.29248185e-08\n 1.16150357e-08 1.04353821e-08 9.35970553e-09 8.51839162e-09\n 8.07584145e-09 7.14404544e-09 6.89076423e-09 6.59662607e-09\n 5.19313933e-09 4.53639966e-09 3.60556677e-09 3.18522364e-09\n 2.80630510e-09 1.51298904e-31 5.31684042e-33]\n"
    }
   ],
   "source": [
    "explained_variance_ratio = pca.explained_variance_ratio_\n",
    "print(explained_variance_ratio)"
   ]
  },
  {
   "cell_type": "code",
   "execution_count": 23,
   "metadata": {},
   "outputs": [
    {
     "data": {
      "image/png": "[encoded data removed]",
      "text/plain": [
       "<Figure size 432x288 with 1 Axes>"
      ]
     },
     "metadata": {
      "needs_background": "light"
     },
     "output_type": "display_data"
    },
    {
     "data": {
      "text/plain": [
       "array([0.76733502, 0.95444679, 0.98702608, 0.99933112, 0.99948107,\n",
       "       0.99960158, 0.99967306, 0.99972135, 0.99975883, 0.9997826 ,\n",
       "       0.99980484, 0.99981863, 0.99982873, 0.99983451, 0.99984019,\n",
       "       0.99984534, 0.99985004, 0.99985424, 0.99985822, 0.99986203,\n",
       "       0.99986571, 0.99986861, 0.99987144, 0.99987396, 0.99987641,\n",
       "       0.99987876, 0.99988095, 0.99988308, 0.99988518, 0.99988723,\n",
       "       0.99988925, 0.99989126, 0.99989317, 0.99989507, 0.99989694,\n",
       "       0.99989878, 0.99990053, 0.99990228, 0.99990398, 0.99990563,\n",
       "       0.99990722, 0.99990879, 0.99991032, 0.9999118 , 0.99991327,\n",
       "       0.99991471, 0.9999161 , 0.99991747, 0.9999188 , 0.9999201 ,\n",
       "       0.99992139, 0.99992265, 0.99992387, 0.99992508, 0.99992623,\n",
       "       0.99992737, 0.99992846, 0.99992952, 0.99993057, 0.99993156,\n",
       "       0.99993254, 0.99993351, 0.99993446, 0.9999354 , 0.99993632,\n",
       "       0.99993723, 0.99993814, 0.99993903, 0.99993992, 0.9999408 ,\n",
       "       0.99994165, 0.9999425 , 0.99994333, 0.99994415, 0.99994496,\n",
       "       0.99994577, 0.99994655, 0.99994732, 0.99994808, 0.99994883,\n",
       "       0.99994957, 0.99995028, 0.99995097, 0.99995166, 0.99995233,\n",
       "       0.99995299, 0.99995364, 0.99995429, 0.9999549 , 0.99995552,\n",
       "       0.99995612, 0.99995672, 0.9999573 , 0.99995787, 0.99995843,\n",
       "       0.99995899, 0.99995954, 0.99996008, 0.99996061, 0.99996114,\n",
       "       0.99996165, 0.99996215, 0.99996265, 0.99996314, 0.99996363,\n",
       "       0.9999641 , 0.99996456, 0.99996502, 0.99996547, 0.99996591,\n",
       "       0.99996635, 0.99996678, 0.99996721, 0.99996764, 0.99996806,\n",
       "       0.99996848, 0.9999689 , 0.99996931, 0.99996972, 0.99997012,\n",
       "       0.99997052, 0.99997092, 0.99997131, 0.99997169, 0.99997207,\n",
       "       0.99997245, 0.99997283, 0.9999732 , 0.99997356, 0.99997393,\n",
       "       0.99997429, 0.99997464, 0.99997499, 0.99997533, 0.99997568,\n",
       "       0.99997601, 0.99997634, 0.99997667, 0.99997699, 0.99997731,\n",
       "       0.99997762, 0.99997793, 0.99997824, 0.99997854, 0.99997884,\n",
       "       0.99997914, 0.99997944, 0.99997973, 0.99998001, 0.99998029,\n",
       "       0.99998056, 0.99998084, 0.99998111, 0.99998138, 0.99998165,\n",
       "       0.99998191, 0.99998217, 0.99998243, 0.99998268, 0.99998293,\n",
       "       0.99998318, 0.99998342, 0.99998366, 0.9999839 , 0.99998414,\n",
       "       0.99998437, 0.9999846 , 0.99998483, 0.99998506, 0.99998528,\n",
       "       0.9999855 , 0.99998571, 0.99998593, 0.99998614, 0.99998635,\n",
       "       0.99998656, 0.99998676, 0.99998696, 0.99998716, 0.99998736,\n",
       "       0.99998755, 0.99998774, 0.99998793, 0.99998812, 0.99998831,\n",
       "       0.99998849, 0.99998867, 0.99998885, 0.99998903, 0.99998921,\n",
       "       0.99998938, 0.99998954, 0.9999897 , 0.99998986, 0.99999002,\n",
       "       0.99999018, 0.99999034, 0.99999049, 0.99999064, 0.99999079,\n",
       "       0.99999094, 0.99999109, 0.99999123, 0.99999137, 0.99999152,\n",
       "       0.99999166, 0.99999179, 0.99999193, 0.99999206, 0.9999922 ,\n",
       "       0.99999233, 0.99999246, 0.99999258, 0.99999271, 0.99999283,\n",
       "       0.99999295, 0.99999307, 0.99999319, 0.99999331, 0.99999343,\n",
       "       0.99999354, 0.99999366, 0.99999377, 0.99999388, 0.99999399,\n",
       "       0.9999941 , 0.99999421, 0.99999432, 0.99999442, 0.99999452,\n",
       "       0.99999463, 0.99999473, 0.99999483, 0.99999492, 0.99999502,\n",
       "       0.99999512, 0.99999521, 0.9999953 , 0.99999539, 0.99999548,\n",
       "       0.99999557, 0.99999566, 0.99999574, 0.99999582, 0.9999959 ,\n",
       "       0.99999598, 0.99999606, 0.99999614, 0.99999621, 0.99999629,\n",
       "       0.99999636, 0.99999643, 0.9999965 , 0.99999657, 0.99999663,\n",
       "       0.9999967 , 0.99999677, 0.99999683, 0.99999689, 0.99999695,\n",
       "       0.99999702, 0.99999708, 0.99999713, 0.99999719, 0.99999725,\n",
       "       0.99999731, 0.99999736, 0.99999742, 0.99999747, 0.99999752,\n",
       "       0.99999757, 0.99999763, 0.99999768, 0.99999773, 0.99999778,\n",
       "       0.99999783, 0.99999788, 0.99999792, 0.99999797, 0.99999802,\n",
       "       0.99999806, 0.99999811, 0.99999815, 0.9999982 , 0.99999824,\n",
       "       0.99999828, 0.99999832, 0.99999836, 0.9999984 , 0.99999844,\n",
       "       0.99999848, 0.99999851, 0.99999855, 0.99999859, 0.99999862,\n",
       "       0.99999866, 0.99999869, 0.99999872, 0.99999876, 0.99999879,\n",
       "       0.99999882, 0.99999885, 0.99999889, 0.99999892, 0.99999895,\n",
       "       0.99999898, 0.99999901, 0.99999904, 0.99999907, 0.99999909,\n",
       "       0.99999912, 0.99999915, 0.99999918, 0.9999992 , 0.99999923,\n",
       "       0.99999925, 0.99999928, 0.99999931, 0.99999933, 0.99999936,\n",
       "       0.99999938, 0.9999994 , 0.99999943, 0.99999945, 0.99999948,\n",
       "       0.9999995 , 0.99999952, 0.99999955, 0.99999957, 0.99999959,\n",
       "       0.99999961, 0.99999964, 0.99999966, 0.99999968, 0.9999997 ,\n",
       "       0.99999972, 0.99999974, 0.99999976, 0.99999978, 0.9999998 ,\n",
       "       0.99999981, 0.99999983, 0.99999984, 0.99999986, 0.99999987,\n",
       "       0.99999989, 0.9999999 , 0.99999991, 0.99999992, 0.99999993,\n",
       "       0.99999994, 0.99999995, 0.99999996, 0.99999997, 0.99999997,\n",
       "       0.99999998, 0.99999999, 0.99999999, 0.99999999, 1.        ,\n",
       "       1.        , 1.        , 1.        ])"
      ]
     },
     "execution_count": 23,
     "metadata": {},
     "output_type": "execute_result"
    }
   ],
   "source": [
    "# Creating a plot for explained variance vs the number of principal components for all components\n",
    "create_variance_plot(explained_variance_ratio, len(explained_variance_ratio))"
   ]
  },
  {
   "cell_type": "code",
   "execution_count": 20,
   "metadata": {},
   "outputs": [
    {
     "output_type": "display_data",
     "data": {
      "text/plain": "<Figure size 604.8x489.6 with 1 Axes>",
      "image/svg+xml": "<?xml version=\"1.0\" encoding=\"utf-8\" standalone=\"no\"?>\n<!DOCTYPE svg PUBLIC \"-//W3C//DTD SVG 1.1//EN\"\n  \"http://www.w3.org/Graphics/SVG/1.1/DTD/svg11.dtd\">\n<!-- Created with matplotlib (https://matplotlib.org/) -->\n<svg height=\"429.522375pt\" version=\"1.1\" viewBox=\"0 0 526.06375 429.522375\" width=\"526.06375pt\" xmlns=\"http://www.w3.org/2000/svg\" xmlns:xlink=\"http://www.w3.org/1999/xlink\">\n <defs>\n  <style type=\"text/css\">\n*{stroke-linecap:butt;stroke-linejoin:round;}\n  </style>\n </defs>\n <g id=\"figure_1\">\n  <g id=\"patch_1\">\n   <path d=\"M 0 429.522375 \nL 526.06375 429.522375 \nL 526.06375 0 \nL 0 0 \nz\n\" style=\"fill:none;\"/>\n  </g>\n  <g id=\"axes_1\">\n   <g id=\"patch_2\">\n    <path d=\"M 50.14375 391.966125 \nL 518.86375 391.966125 \nL 518.86375 22.318125 \nL 50.14375 22.318125 \nz\n\" style=\"fill:#ebedf0;\"/>\n   </g>\n   <g id=\"matplotlib.axis_1\">\n    <g id=\"xtick_1\">\n     <g id=\"line2d_1\">\n      <path clip-path=\"url(#p083876d391)\" d=\"M 118.794659 391.966125 \nL 118.794659 22.318125 \n\" style=\"fill:none;stroke:#808080;stroke-linecap:square;stroke-opacity:0.5;stroke-width:0.25;\"/>\n     </g>\n     <g id=\"line2d_2\">\n      <defs>\n       <path d=\"M 0 0 \nL 0 3.5 \n\" id=\"me3a8b37d3d\" style=\"stroke:#000000;stroke-width:0.8;\"/>\n      </defs>\n      <g>\n       <use style=\"stroke:#000000;stroke-width:0.8;\" x=\"118.794659\" xlink:href=\"#me3a8b37d3d\" y=\"391.966125\"/>\n      </g>\n     </g>\n     <g id=\"text_1\">\n      <!-- 2 -->\n      <defs>\n       <path d=\"M 19.1875 8.296875 \nL 53.609375 8.296875 \nL 53.609375 0 \nL 7.328125 0 \nL 7.328125 8.296875 \nQ 12.9375 14.109375 22.625 23.890625 \nQ 32.328125 33.6875 34.8125 36.53125 \nQ 39.546875 41.84375 41.421875 45.53125 \nQ 43.3125 49.21875 43.3125 52.78125 \nQ 43.3125 58.59375 39.234375 62.25 \nQ 35.15625 65.921875 28.609375 65.921875 \nQ 23.96875 65.921875 18.8125 64.3125 \nQ 13.671875 62.703125 7.8125 59.421875 \nL 7.8125 69.390625 \nQ 13.765625 71.78125 18.9375 73 \nQ 24.125 74.21875 28.421875 74.21875 \nQ 39.75 74.21875 46.484375 68.546875 \nQ 53.21875 62.890625 53.21875 53.421875 \nQ 53.21875 48.921875 51.53125 44.890625 \nQ 49.859375 40.875 45.40625 35.40625 \nQ 44.1875 33.984375 37.640625 27.21875 \nQ 31.109375 20.453125 19.1875 8.296875 \nz\n\" id=\"DejaVuSans-50\"/>\n      </defs>\n      <g transform=\"translate(115.613409 406.564562)scale(0.1 -0.1)\">\n       <use xlink:href=\"#DejaVuSans-50\"/>\n      </g>\n     </g>\n    </g>\n    <g id=\"xtick_2\">\n     <g id=\"line2d_3\">\n      <path clip-path=\"url(#p083876d391)\" d=\"M 213.485568 391.966125 \nL 213.485568 22.318125 \n\" style=\"fill:none;stroke:#808080;stroke-linecap:square;stroke-opacity:0.5;stroke-width:0.25;\"/>\n     </g>\n     <g id=\"line2d_4\">\n      <g>\n       <use style=\"stroke:#000000;stroke-width:0.8;\" x=\"213.485568\" xlink:href=\"#me3a8b37d3d\" y=\"391.966125\"/>\n      </g>\n     </g>\n     <g id=\"text_2\">\n      <!-- 4 -->\n      <defs>\n       <path d=\"M 37.796875 64.3125 \nL 12.890625 25.390625 \nL 37.796875 25.390625 \nz\nM 35.203125 72.90625 \nL 47.609375 72.90625 \nL 47.609375 25.390625 \nL 58.015625 25.390625 \nL 58.015625 17.1875 \nL 47.609375 17.1875 \nL 47.609375 0 \nL 37.796875 0 \nL 37.796875 17.1875 \nL 4.890625 17.1875 \nL 4.890625 26.703125 \nz\n\" id=\"DejaVuSans-52\"/>\n      </defs>\n      <g transform=\"translate(210.304318 406.564562)scale(0.1 -0.1)\">\n       <use xlink:href=\"#DejaVuSans-52\"/>\n      </g>\n     </g>\n    </g>\n    <g id=\"xtick_3\">\n     <g id=\"line2d_5\">\n      <path clip-path=\"url(#p083876d391)\" d=\"M 308.176477 391.966125 \nL 308.176477 22.318125 \n\" style=\"fill:none;stroke:#808080;stroke-linecap:square;stroke-opacity:0.5;stroke-width:0.25;\"/>\n     </g>\n     <g id=\"line2d_6\">\n      <g>\n       <use style=\"stroke:#000000;stroke-width:0.8;\" x=\"308.176477\" xlink:href=\"#me3a8b37d3d\" y=\"391.966125\"/>\n      </g>\n     </g>\n     <g id=\"text_3\">\n      <!-- 6 -->\n      <defs>\n       <path d=\"M 33.015625 40.375 \nQ 26.375 40.375 22.484375 35.828125 \nQ 18.609375 31.296875 18.609375 23.390625 \nQ 18.609375 15.53125 22.484375 10.953125 \nQ 26.375 6.390625 33.015625 6.390625 \nQ 39.65625 6.390625 43.53125 10.953125 \nQ 47.40625 15.53125 47.40625 23.390625 \nQ 47.40625 31.296875 43.53125 35.828125 \nQ 39.65625 40.375 33.015625 40.375 \nz\nM 52.59375 71.296875 \nL 52.59375 62.3125 \nQ 48.875 64.0625 45.09375 64.984375 \nQ 41.3125 65.921875 37.59375 65.921875 \nQ 27.828125 65.921875 22.671875 59.328125 \nQ 17.53125 52.734375 16.796875 39.40625 \nQ 19.671875 43.65625 24.015625 45.921875 \nQ 28.375 48.1875 33.59375 48.1875 \nQ 44.578125 48.1875 50.953125 41.515625 \nQ 57.328125 34.859375 57.328125 23.390625 \nQ 57.328125 12.15625 50.6875 5.359375 \nQ 44.046875 -1.421875 33.015625 -1.421875 \nQ 20.359375 -1.421875 13.671875 8.265625 \nQ 6.984375 17.96875 6.984375 36.375 \nQ 6.984375 53.65625 15.1875 63.9375 \nQ 23.390625 74.21875 37.203125 74.21875 \nQ 40.921875 74.21875 44.703125 73.484375 \nQ 48.484375 72.75 52.59375 71.296875 \nz\n\" id=\"DejaVuSans-54\"/>\n      </defs>\n      <g transform=\"translate(304.995227 406.564562)scale(0.1 -0.1)\">\n       <use xlink:href=\"#DejaVuSans-54\"/>\n      </g>\n     </g>\n    </g>\n    <g id=\"xtick_4\">\n     <g id=\"line2d_7\">\n      <path clip-path=\"url(#p083876d391)\" d=\"M 402.867386 391.966125 \nL 402.867386 22.318125 \n\" style=\"fill:none;stroke:#808080;stroke-linecap:square;stroke-opacity:0.5;stroke-width:0.25;\"/>\n     </g>\n     <g id=\"line2d_8\">\n      <g>\n       <use style=\"stroke:#000000;stroke-width:0.8;\" x=\"402.867386\" xlink:href=\"#me3a8b37d3d\" y=\"391.966125\"/>\n      </g>\n     </g>\n     <g id=\"text_4\">\n      <!-- 8 -->\n      <defs>\n       <path d=\"M 31.78125 34.625 \nQ 24.75 34.625 20.71875 30.859375 \nQ 16.703125 27.09375 16.703125 20.515625 \nQ 16.703125 13.921875 20.71875 10.15625 \nQ 24.75 6.390625 31.78125 6.390625 \nQ 38.8125 6.390625 42.859375 10.171875 \nQ 46.921875 13.96875 46.921875 20.515625 \nQ 46.921875 27.09375 42.890625 30.859375 \nQ 38.875 34.625 31.78125 34.625 \nz\nM 21.921875 38.8125 \nQ 15.578125 40.375 12.03125 44.71875 \nQ 8.5 49.078125 8.5 55.328125 \nQ 8.5 64.0625 14.71875 69.140625 \nQ 20.953125 74.21875 31.78125 74.21875 \nQ 42.671875 74.21875 48.875 69.140625 \nQ 55.078125 64.0625 55.078125 55.328125 \nQ 55.078125 49.078125 51.53125 44.71875 \nQ 48 40.375 41.703125 38.8125 \nQ 48.828125 37.15625 52.796875 32.3125 \nQ 56.78125 27.484375 56.78125 20.515625 \nQ 56.78125 9.90625 50.3125 4.234375 \nQ 43.84375 -1.421875 31.78125 -1.421875 \nQ 19.734375 -1.421875 13.25 4.234375 \nQ 6.78125 9.90625 6.78125 20.515625 \nQ 6.78125 27.484375 10.78125 32.3125 \nQ 14.796875 37.15625 21.921875 38.8125 \nz\nM 18.3125 54.390625 \nQ 18.3125 48.734375 21.84375 45.5625 \nQ 25.390625 42.390625 31.78125 42.390625 \nQ 38.140625 42.390625 41.71875 45.5625 \nQ 45.3125 48.734375 45.3125 54.390625 \nQ 45.3125 60.0625 41.71875 63.234375 \nQ 38.140625 66.40625 31.78125 66.40625 \nQ 25.390625 66.40625 21.84375 63.234375 \nQ 18.3125 60.0625 18.3125 54.390625 \nz\n\" id=\"DejaVuSans-56\"/>\n      </defs>\n      <g transform=\"translate(399.686136 406.564562)scale(0.1 -0.1)\">\n       <use xlink:href=\"#DejaVuSans-56\"/>\n      </g>\n     </g>\n    </g>\n    <g id=\"xtick_5\">\n     <g id=\"line2d_9\">\n      <path clip-path=\"url(#p083876d391)\" d=\"M 497.558295 391.966125 \nL 497.558295 22.318125 \n\" style=\"fill:none;stroke:#808080;stroke-linecap:square;stroke-opacity:0.5;stroke-width:0.25;\"/>\n     </g>\n     <g id=\"line2d_10\">\n      <g>\n       <use style=\"stroke:#000000;stroke-width:0.8;\" x=\"497.558295\" xlink:href=\"#me3a8b37d3d\" y=\"391.966125\"/>\n      </g>\n     </g>\n     <g id=\"text_5\">\n      <!-- 10 -->\n      <defs>\n       <path d=\"M 12.40625 8.296875 \nL 28.515625 8.296875 \nL 28.515625 63.921875 \nL 10.984375 60.40625 \nL 10.984375 69.390625 \nL 28.421875 72.90625 \nL 38.28125 72.90625 \nL 38.28125 8.296875 \nL 54.390625 8.296875 \nL 54.390625 0 \nL 12.40625 0 \nz\n\" id=\"DejaVuSans-49\"/>\n       <path d=\"M 31.78125 66.40625 \nQ 24.171875 66.40625 20.328125 58.90625 \nQ 16.5 51.421875 16.5 36.375 \nQ 16.5 21.390625 20.328125 13.890625 \nQ 24.171875 6.390625 31.78125 6.390625 \nQ 39.453125 6.390625 43.28125 13.890625 \nQ 47.125 21.390625 47.125 36.375 \nQ 47.125 51.421875 43.28125 58.90625 \nQ 39.453125 66.40625 31.78125 66.40625 \nz\nM 31.78125 74.21875 \nQ 44.046875 74.21875 50.515625 64.515625 \nQ 56.984375 54.828125 56.984375 36.375 \nQ 56.984375 17.96875 50.515625 8.265625 \nQ 44.046875 -1.421875 31.78125 -1.421875 \nQ 19.53125 -1.421875 13.0625 8.265625 \nQ 6.59375 17.96875 6.59375 36.375 \nQ 6.59375 54.828125 13.0625 64.515625 \nQ 19.53125 74.21875 31.78125 74.21875 \nz\n\" id=\"DejaVuSans-48\"/>\n      </defs>\n      <g transform=\"translate(491.195795 406.564562)scale(0.1 -0.1)\">\n       <use xlink:href=\"#DejaVuSans-49\"/>\n       <use x=\"63.623047\" xlink:href=\"#DejaVuSans-48\"/>\n      </g>\n     </g>\n    </g>\n    <g id=\"text_6\">\n     <!-- Number of Principal Components -->\n     <defs>\n      <path d=\"M 9.8125 72.90625 \nL 23.09375 72.90625 \nL 55.421875 11.921875 \nL 55.421875 72.90625 \nL 64.984375 72.90625 \nL 64.984375 0 \nL 51.703125 0 \nL 19.390625 60.984375 \nL 19.390625 0 \nL 9.8125 0 \nz\n\" id=\"DejaVuSans-78\"/>\n      <path d=\"M 8.5 21.578125 \nL 8.5 54.6875 \nL 17.484375 54.6875 \nL 17.484375 21.921875 \nQ 17.484375 14.15625 20.5 10.265625 \nQ 23.53125 6.390625 29.59375 6.390625 \nQ 36.859375 6.390625 41.078125 11.03125 \nQ 45.3125 15.671875 45.3125 23.6875 \nL 45.3125 54.6875 \nL 54.296875 54.6875 \nL 54.296875 0 \nL 45.3125 0 \nL 45.3125 8.40625 \nQ 42.046875 3.421875 37.71875 1 \nQ 33.40625 -1.421875 27.6875 -1.421875 \nQ 18.265625 -1.421875 13.375 4.4375 \nQ 8.5 10.296875 8.5 21.578125 \nz\nM 31.109375 56 \nz\n\" id=\"DejaVuSans-117\"/>\n      <path d=\"M 52 44.1875 \nQ 55.375 50.25 60.0625 53.125 \nQ 64.75 56 71.09375 56 \nQ 79.640625 56 84.28125 50.015625 \nQ 88.921875 44.046875 88.921875 33.015625 \nL 88.921875 0 \nL 79.890625 0 \nL 79.890625 32.71875 \nQ 79.890625 40.578125 77.09375 44.375 \nQ 74.3125 48.1875 68.609375 48.1875 \nQ 61.625 48.1875 57.5625 43.546875 \nQ 53.515625 38.921875 53.515625 30.90625 \nL 53.515625 0 \nL 44.484375 0 \nL 44.484375 32.71875 \nQ 44.484375 40.625 41.703125 44.40625 \nQ 38.921875 48.1875 33.109375 48.1875 \nQ 26.21875 48.1875 22.15625 43.53125 \nQ 18.109375 38.875 18.109375 30.90625 \nL 18.109375 0 \nL 9.078125 0 \nL 9.078125 54.6875 \nL 18.109375 54.6875 \nL 18.109375 46.1875 \nQ 21.1875 51.21875 25.484375 53.609375 \nQ 29.78125 56 35.6875 56 \nQ 41.65625 56 45.828125 52.96875 \nQ 50 49.953125 52 44.1875 \nz\n\" id=\"DejaVuSans-109\"/>\n      <path d=\"M 48.6875 27.296875 \nQ 48.6875 37.203125 44.609375 42.84375 \nQ 40.53125 48.484375 33.40625 48.484375 \nQ 26.265625 48.484375 22.1875 42.84375 \nQ 18.109375 37.203125 18.109375 27.296875 \nQ 18.109375 17.390625 22.1875 11.75 \nQ 26.265625 6.109375 33.40625 6.109375 \nQ 40.53125 6.109375 44.609375 11.75 \nQ 48.6875 17.390625 48.6875 27.296875 \nz\nM 18.109375 46.390625 \nQ 20.953125 51.265625 25.265625 53.625 \nQ 29.59375 56 35.59375 56 \nQ 45.5625 56 51.78125 48.09375 \nQ 58.015625 40.1875 58.015625 27.296875 \nQ 58.015625 14.40625 51.78125 6.484375 \nQ 45.5625 -1.421875 35.59375 -1.421875 \nQ 29.59375 -1.421875 25.265625 0.953125 \nQ 20.953125 3.328125 18.109375 8.203125 \nL 18.109375 0 \nL 9.078125 0 \nL 9.078125 75.984375 \nL 18.109375 75.984375 \nz\n\" id=\"DejaVuSans-98\"/>\n      <path d=\"M 56.203125 29.59375 \nL 56.203125 25.203125 \nL 14.890625 25.203125 \nQ 15.484375 15.921875 20.484375 11.0625 \nQ 25.484375 6.203125 34.421875 6.203125 \nQ 39.59375 6.203125 44.453125 7.46875 \nQ 49.3125 8.734375 54.109375 11.28125 \nL 54.109375 2.78125 \nQ 49.265625 0.734375 44.1875 -0.34375 \nQ 39.109375 -1.421875 33.890625 -1.421875 \nQ 20.796875 -1.421875 13.15625 6.1875 \nQ 5.515625 13.8125 5.515625 26.8125 \nQ 5.515625 40.234375 12.765625 48.109375 \nQ 20.015625 56 32.328125 56 \nQ 43.359375 56 49.78125 48.890625 \nQ 56.203125 41.796875 56.203125 29.59375 \nz\nM 47.21875 32.234375 \nQ 47.125 39.59375 43.09375 43.984375 \nQ 39.0625 48.390625 32.421875 48.390625 \nQ 24.90625 48.390625 20.390625 44.140625 \nQ 15.875 39.890625 15.1875 32.171875 \nz\n\" id=\"DejaVuSans-101\"/>\n      <path d=\"M 41.109375 46.296875 \nQ 39.59375 47.171875 37.8125 47.578125 \nQ 36.03125 48 33.890625 48 \nQ 26.265625 48 22.1875 43.046875 \nQ 18.109375 38.09375 18.109375 28.8125 \nL 18.109375 0 \nL 9.078125 0 \nL 9.078125 54.6875 \nL 18.109375 54.6875 \nL 18.109375 46.1875 \nQ 20.953125 51.171875 25.484375 53.578125 \nQ 30.03125 56 36.53125 56 \nQ 37.453125 56 38.578125 55.875 \nQ 39.703125 55.765625 41.0625 55.515625 \nz\n\" id=\"DejaVuSans-114\"/>\n      <path id=\"DejaVuSans-32\"/>\n      <path d=\"M 30.609375 48.390625 \nQ 23.390625 48.390625 19.1875 42.75 \nQ 14.984375 37.109375 14.984375 27.296875 \nQ 14.984375 17.484375 19.15625 11.84375 \nQ 23.34375 6.203125 30.609375 6.203125 \nQ 37.796875 6.203125 41.984375 11.859375 \nQ 46.1875 17.53125 46.1875 27.296875 \nQ 46.1875 37.015625 41.984375 42.703125 \nQ 37.796875 48.390625 30.609375 48.390625 \nz\nM 30.609375 56 \nQ 42.328125 56 49.015625 48.375 \nQ 55.71875 40.765625 55.71875 27.296875 \nQ 55.71875 13.875 49.015625 6.21875 \nQ 42.328125 -1.421875 30.609375 -1.421875 \nQ 18.84375 -1.421875 12.171875 6.21875 \nQ 5.515625 13.875 5.515625 27.296875 \nQ 5.515625 40.765625 12.171875 48.375 \nQ 18.84375 56 30.609375 56 \nz\n\" id=\"DejaVuSans-111\"/>\n      <path d=\"M 37.109375 75.984375 \nL 37.109375 68.5 \nL 28.515625 68.5 \nQ 23.6875 68.5 21.796875 66.546875 \nQ 19.921875 64.59375 19.921875 59.515625 \nL 19.921875 54.6875 \nL 34.71875 54.6875 \nL 34.71875 47.703125 \nL 19.921875 47.703125 \nL 19.921875 0 \nL 10.890625 0 \nL 10.890625 47.703125 \nL 2.296875 47.703125 \nL 2.296875 54.6875 \nL 10.890625 54.6875 \nL 10.890625 58.5 \nQ 10.890625 67.625 15.140625 71.796875 \nQ 19.390625 75.984375 28.609375 75.984375 \nz\n\" id=\"DejaVuSans-102\"/>\n      <path d=\"M 19.671875 64.796875 \nL 19.671875 37.40625 \nL 32.078125 37.40625 \nQ 38.96875 37.40625 42.71875 40.96875 \nQ 46.484375 44.53125 46.484375 51.125 \nQ 46.484375 57.671875 42.71875 61.234375 \nQ 38.96875 64.796875 32.078125 64.796875 \nz\nM 9.8125 72.90625 \nL 32.078125 72.90625 \nQ 44.34375 72.90625 50.609375 67.359375 \nQ 56.890625 61.8125 56.890625 51.125 \nQ 56.890625 40.328125 50.609375 34.8125 \nQ 44.34375 29.296875 32.078125 29.296875 \nL 19.671875 29.296875 \nL 19.671875 0 \nL 9.8125 0 \nz\n\" id=\"DejaVuSans-80\"/>\n      <path d=\"M 9.421875 54.6875 \nL 18.40625 54.6875 \nL 18.40625 0 \nL 9.421875 0 \nz\nM 9.421875 75.984375 \nL 18.40625 75.984375 \nL 18.40625 64.59375 \nL 9.421875 64.59375 \nz\n\" id=\"DejaVuSans-105\"/>\n      <path d=\"M 54.890625 33.015625 \nL 54.890625 0 \nL 45.90625 0 \nL 45.90625 32.71875 \nQ 45.90625 40.484375 42.875 44.328125 \nQ 39.84375 48.1875 33.796875 48.1875 \nQ 26.515625 48.1875 22.3125 43.546875 \nQ 18.109375 38.921875 18.109375 30.90625 \nL 18.109375 0 \nL 9.078125 0 \nL 9.078125 54.6875 \nL 18.109375 54.6875 \nL 18.109375 46.1875 \nQ 21.34375 51.125 25.703125 53.5625 \nQ 30.078125 56 35.796875 56 \nQ 45.21875 56 50.046875 50.171875 \nQ 54.890625 44.34375 54.890625 33.015625 \nz\n\" id=\"DejaVuSans-110\"/>\n      <path d=\"M 48.78125 52.59375 \nL 48.78125 44.1875 \nQ 44.96875 46.296875 41.140625 47.34375 \nQ 37.3125 48.390625 33.40625 48.390625 \nQ 24.65625 48.390625 19.8125 42.84375 \nQ 14.984375 37.3125 14.984375 27.296875 \nQ 14.984375 17.28125 19.8125 11.734375 \nQ 24.65625 6.203125 33.40625 6.203125 \nQ 37.3125 6.203125 41.140625 7.25 \nQ 44.96875 8.296875 48.78125 10.40625 \nL 48.78125 2.09375 \nQ 45.015625 0.34375 40.984375 -0.53125 \nQ 36.96875 -1.421875 32.421875 -1.421875 \nQ 20.0625 -1.421875 12.78125 6.34375 \nQ 5.515625 14.109375 5.515625 27.296875 \nQ 5.515625 40.671875 12.859375 48.328125 \nQ 20.21875 56 33.015625 56 \nQ 37.15625 56 41.109375 55.140625 \nQ 45.0625 54.296875 48.78125 52.59375 \nz\n\" id=\"DejaVuSans-99\"/>\n      <path d=\"M 18.109375 8.203125 \nL 18.109375 -20.796875 \nL 9.078125 -20.796875 \nL 9.078125 54.6875 \nL 18.109375 54.6875 \nL 18.109375 46.390625 \nQ 20.953125 51.265625 25.265625 53.625 \nQ 29.59375 56 35.59375 56 \nQ 45.5625 56 51.78125 48.09375 \nQ 58.015625 40.1875 58.015625 27.296875 \nQ 58.015625 14.40625 51.78125 6.484375 \nQ 45.5625 -1.421875 35.59375 -1.421875 \nQ 29.59375 -1.421875 25.265625 0.953125 \nQ 20.953125 3.328125 18.109375 8.203125 \nz\nM 48.6875 27.296875 \nQ 48.6875 37.203125 44.609375 42.84375 \nQ 40.53125 48.484375 33.40625 48.484375 \nQ 26.265625 48.484375 22.1875 42.84375 \nQ 18.109375 37.203125 18.109375 27.296875 \nQ 18.109375 17.390625 22.1875 11.75 \nQ 26.265625 6.109375 33.40625 6.109375 \nQ 40.53125 6.109375 44.609375 11.75 \nQ 48.6875 17.390625 48.6875 27.296875 \nz\n\" id=\"DejaVuSans-112\"/>\n      <path d=\"M 34.28125 27.484375 \nQ 23.390625 27.484375 19.1875 25 \nQ 14.984375 22.515625 14.984375 16.5 \nQ 14.984375 11.71875 18.140625 8.90625 \nQ 21.296875 6.109375 26.703125 6.109375 \nQ 34.1875 6.109375 38.703125 11.40625 \nQ 43.21875 16.703125 43.21875 25.484375 \nL 43.21875 27.484375 \nz\nM 52.203125 31.203125 \nL 52.203125 0 \nL 43.21875 0 \nL 43.21875 8.296875 \nQ 40.140625 3.328125 35.546875 0.953125 \nQ 30.953125 -1.421875 24.3125 -1.421875 \nQ 15.921875 -1.421875 10.953125 3.296875 \nQ 6 8.015625 6 15.921875 \nQ 6 25.140625 12.171875 29.828125 \nQ 18.359375 34.515625 30.609375 34.515625 \nL 43.21875 34.515625 \nL 43.21875 35.40625 \nQ 43.21875 41.609375 39.140625 45 \nQ 35.0625 48.390625 27.6875 48.390625 \nQ 23 48.390625 18.546875 47.265625 \nQ 14.109375 46.140625 10.015625 43.890625 \nL 10.015625 52.203125 \nQ 14.9375 54.109375 19.578125 55.046875 \nQ 24.21875 56 28.609375 56 \nQ 40.484375 56 46.34375 49.84375 \nQ 52.203125 43.703125 52.203125 31.203125 \nz\n\" id=\"DejaVuSans-97\"/>\n      <path d=\"M 9.421875 75.984375 \nL 18.40625 75.984375 \nL 18.40625 0 \nL 9.421875 0 \nz\n\" id=\"DejaVuSans-108\"/>\n      <path d=\"M 64.40625 67.28125 \nL 64.40625 56.890625 \nQ 59.421875 61.53125 53.78125 63.8125 \nQ 48.140625 66.109375 41.796875 66.109375 \nQ 29.296875 66.109375 22.65625 58.46875 \nQ 16.015625 50.828125 16.015625 36.375 \nQ 16.015625 21.96875 22.65625 14.328125 \nQ 29.296875 6.6875 41.796875 6.6875 \nQ 48.140625 6.6875 53.78125 8.984375 \nQ 59.421875 11.28125 64.40625 15.921875 \nL 64.40625 5.609375 \nQ 59.234375 2.09375 53.4375 0.328125 \nQ 47.65625 -1.421875 41.21875 -1.421875 \nQ 24.65625 -1.421875 15.125 8.703125 \nQ 5.609375 18.84375 5.609375 36.375 \nQ 5.609375 53.953125 15.125 64.078125 \nQ 24.65625 74.21875 41.21875 74.21875 \nQ 47.75 74.21875 53.53125 72.484375 \nQ 59.328125 70.75 64.40625 67.28125 \nz\n\" id=\"DejaVuSans-67\"/>\n      <path d=\"M 18.3125 70.21875 \nL 18.3125 54.6875 \nL 36.8125 54.6875 \nL 36.8125 47.703125 \nL 18.3125 47.703125 \nL 18.3125 18.015625 \nQ 18.3125 11.328125 20.140625 9.421875 \nQ 21.96875 7.515625 27.59375 7.515625 \nL 36.8125 7.515625 \nL 36.8125 0 \nL 27.59375 0 \nQ 17.1875 0 13.234375 3.875 \nQ 9.28125 7.765625 9.28125 18.015625 \nL 9.28125 47.703125 \nL 2.6875 47.703125 \nL 2.6875 54.6875 \nL 9.28125 54.6875 \nL 9.28125 70.21875 \nz\n\" id=\"DejaVuSans-116\"/>\n      <path d=\"M 44.28125 53.078125 \nL 44.28125 44.578125 \nQ 40.484375 46.53125 36.375 47.5 \nQ 32.28125 48.484375 27.875 48.484375 \nQ 21.1875 48.484375 17.84375 46.4375 \nQ 14.5 44.390625 14.5 40.28125 \nQ 14.5 37.15625 16.890625 35.375 \nQ 19.28125 33.59375 26.515625 31.984375 \nL 29.59375 31.296875 \nQ 39.15625 29.25 43.1875 25.515625 \nQ 47.21875 21.78125 47.21875 15.09375 \nQ 47.21875 7.46875 41.1875 3.015625 \nQ 35.15625 -1.421875 24.609375 -1.421875 \nQ 20.21875 -1.421875 15.453125 -0.5625 \nQ 10.6875 0.296875 5.421875 2 \nL 5.421875 11.28125 \nQ 10.40625 8.6875 15.234375 7.390625 \nQ 20.0625 6.109375 24.8125 6.109375 \nQ 31.15625 6.109375 34.5625 8.28125 \nQ 37.984375 10.453125 37.984375 14.40625 \nQ 37.984375 18.0625 35.515625 20.015625 \nQ 33.0625 21.96875 24.703125 23.78125 \nL 21.578125 24.515625 \nQ 13.234375 26.265625 9.515625 29.90625 \nQ 5.8125 33.546875 5.8125 39.890625 \nQ 5.8125 47.609375 11.28125 51.796875 \nQ 16.75 56 26.8125 56 \nQ 31.78125 56 36.171875 55.265625 \nQ 40.578125 54.546875 44.28125 53.078125 \nz\n\" id=\"DejaVuSans-115\"/>\n     </defs>\n     <g transform=\"translate(201.804531 420.242687)scale(0.1 -0.1)\">\n      <use xlink:href=\"#DejaVuSans-78\"/>\n      <use x=\"74.804688\" xlink:href=\"#DejaVuSans-117\"/>\n      <use x=\"138.183594\" xlink:href=\"#DejaVuSans-109\"/>\n      <use x=\"235.595703\" xlink:href=\"#DejaVuSans-98\"/>\n      <use x=\"299.072266\" xlink:href=\"#DejaVuSans-101\"/>\n      <use x=\"360.595703\" xlink:href=\"#DejaVuSans-114\"/>\n      <use x=\"401.708984\" xlink:href=\"#DejaVuSans-32\"/>\n      <use x=\"433.496094\" xlink:href=\"#DejaVuSans-111\"/>\n      <use x=\"494.677734\" xlink:href=\"#DejaVuSans-102\"/>\n      <use x=\"529.882812\" xlink:href=\"#DejaVuSans-32\"/>\n      <use x=\"561.669922\" xlink:href=\"#DejaVuSans-80\"/>\n      <use x=\"621.957031\" xlink:href=\"#DejaVuSans-114\"/>\n      <use x=\"663.070312\" xlink:href=\"#DejaVuSans-105\"/>\n      <use x=\"690.853516\" xlink:href=\"#DejaVuSans-110\"/>\n      <use x=\"754.232422\" xlink:href=\"#DejaVuSans-99\"/>\n      <use x=\"809.212891\" xlink:href=\"#DejaVuSans-105\"/>\n      <use x=\"836.996094\" xlink:href=\"#DejaVuSans-112\"/>\n      <use x=\"900.472656\" xlink:href=\"#DejaVuSans-97\"/>\n      <use x=\"961.751953\" xlink:href=\"#DejaVuSans-108\"/>\n      <use x=\"989.535156\" xlink:href=\"#DejaVuSans-32\"/>\n      <use x=\"1021.322266\" xlink:href=\"#DejaVuSans-67\"/>\n      <use x=\"1091.146484\" xlink:href=\"#DejaVuSans-111\"/>\n      <use x=\"1152.328125\" xlink:href=\"#DejaVuSans-109\"/>\n      <use x=\"1249.740234\" xlink:href=\"#DejaVuSans-112\"/>\n      <use x=\"1313.216797\" xlink:href=\"#DejaVuSans-111\"/>\n      <use x=\"1374.398438\" xlink:href=\"#DejaVuSans-110\"/>\n      <use x=\"1437.777344\" xlink:href=\"#DejaVuSans-101\"/>\n      <use x=\"1499.300781\" xlink:href=\"#DejaVuSans-110\"/>\n      <use x=\"1562.679688\" xlink:href=\"#DejaVuSans-116\"/>\n      <use x=\"1601.888672\" xlink:href=\"#DejaVuSans-115\"/>\n     </g>\n    </g>\n   </g>\n   <g id=\"matplotlib.axis_2\">\n    <g id=\"ytick_1\">\n     <g id=\"line2d_11\">\n      <path clip-path=\"url(#p083876d391)\" d=\"M 50.14375 327.744244 \nL 518.86375 327.744244 \n\" style=\"fill:none;stroke:#808080;stroke-linecap:square;stroke-opacity:0.5;stroke-width:0.25;\"/>\n     </g>\n     <g id=\"line2d_12\">\n      <defs>\n       <path d=\"M 0 0 \nL -3.5 0 \n\" id=\"m536604eb73\" style=\"stroke:#000000;stroke-width:0.8;\"/>\n      </defs>\n      <g>\n       <use style=\"stroke:#000000;stroke-width:0.8;\" x=\"50.14375\" xlink:href=\"#m536604eb73\" y=\"327.744244\"/>\n      </g>\n     </g>\n     <g id=\"text_7\">\n      <!-- 0.80 -->\n      <defs>\n       <path d=\"M 10.6875 12.40625 \nL 21 12.40625 \nL 21 0 \nL 10.6875 0 \nz\n\" id=\"DejaVuSans-46\"/>\n      </defs>\n      <g transform=\"translate(20.878125 331.543463)scale(0.1 -0.1)\">\n       <use xlink:href=\"#DejaVuSans-48\"/>\n       <use x=\"63.623047\" xlink:href=\"#DejaVuSans-46\"/>\n       <use x=\"95.410156\" xlink:href=\"#DejaVuSans-56\"/>\n       <use x=\"159.033203\" xlink:href=\"#DejaVuSans-48\"/>\n      </g>\n     </g>\n    </g>\n    <g id=\"ytick_2\">\n     <g id=\"line2d_13\">\n      <path clip-path=\"url(#p083876d391)\" d=\"M 50.14375 255.509687 \nL 518.86375 255.509687 \n\" style=\"fill:none;stroke:#808080;stroke-linecap:square;stroke-opacity:0.5;stroke-width:0.25;\"/>\n     </g>\n     <g id=\"line2d_14\">\n      <g>\n       <use style=\"stroke:#000000;stroke-width:0.8;\" x=\"50.14375\" xlink:href=\"#m536604eb73\" y=\"255.509687\"/>\n      </g>\n     </g>\n     <g id=\"text_8\">\n      <!-- 0.85 -->\n      <defs>\n       <path d=\"M 10.796875 72.90625 \nL 49.515625 72.90625 \nL 49.515625 64.59375 \nL 19.828125 64.59375 \nL 19.828125 46.734375 \nQ 21.96875 47.46875 24.109375 47.828125 \nQ 26.265625 48.1875 28.421875 48.1875 \nQ 40.625 48.1875 47.75 41.5 \nQ 54.890625 34.8125 54.890625 23.390625 \nQ 54.890625 11.625 47.5625 5.09375 \nQ 40.234375 -1.421875 26.90625 -1.421875 \nQ 22.3125 -1.421875 17.546875 -0.640625 \nQ 12.796875 0.140625 7.71875 1.703125 \nL 7.71875 11.625 \nQ 12.109375 9.234375 16.796875 8.0625 \nQ 21.484375 6.890625 26.703125 6.890625 \nQ 35.15625 6.890625 40.078125 11.328125 \nQ 45.015625 15.765625 45.015625 23.390625 \nQ 45.015625 31 40.078125 35.4375 \nQ 35.15625 39.890625 26.703125 39.890625 \nQ 22.75 39.890625 18.8125 39.015625 \nQ 14.890625 38.140625 10.796875 36.28125 \nz\n\" id=\"DejaVuSans-53\"/>\n      </defs>\n      <g transform=\"translate(20.878125 259.308905)scale(0.1 -0.1)\">\n       <use xlink:href=\"#DejaVuSans-48\"/>\n       <use x=\"63.623047\" xlink:href=\"#DejaVuSans-46\"/>\n       <use x=\"95.410156\" xlink:href=\"#DejaVuSans-56\"/>\n       <use x=\"159.033203\" xlink:href=\"#DejaVuSans-53\"/>\n      </g>\n     </g>\n    </g>\n    <g id=\"ytick_3\">\n     <g id=\"line2d_15\">\n      <path clip-path=\"url(#p083876d391)\" d=\"M 50.14375 183.275129 \nL 518.86375 183.275129 \n\" style=\"fill:none;stroke:#808080;stroke-linecap:square;stroke-opacity:0.5;stroke-width:0.25;\"/>\n     </g>\n     <g id=\"line2d_16\">\n      <g>\n       <use style=\"stroke:#000000;stroke-width:0.8;\" x=\"50.14375\" xlink:href=\"#m536604eb73\" y=\"183.275129\"/>\n      </g>\n     </g>\n     <g id=\"text_9\">\n      <!-- 0.90 -->\n      <defs>\n       <path d=\"M 10.984375 1.515625 \nL 10.984375 10.5 \nQ 14.703125 8.734375 18.5 7.8125 \nQ 22.3125 6.890625 25.984375 6.890625 \nQ 35.75 6.890625 40.890625 13.453125 \nQ 46.046875 20.015625 46.78125 33.40625 \nQ 43.953125 29.203125 39.59375 26.953125 \nQ 35.25 24.703125 29.984375 24.703125 \nQ 19.046875 24.703125 12.671875 31.3125 \nQ 6.296875 37.9375 6.296875 49.421875 \nQ 6.296875 60.640625 12.9375 67.421875 \nQ 19.578125 74.21875 30.609375 74.21875 \nQ 43.265625 74.21875 49.921875 64.515625 \nQ 56.59375 54.828125 56.59375 36.375 \nQ 56.59375 19.140625 48.40625 8.859375 \nQ 40.234375 -1.421875 26.421875 -1.421875 \nQ 22.703125 -1.421875 18.890625 -0.6875 \nQ 15.09375 0.046875 10.984375 1.515625 \nz\nM 30.609375 32.421875 \nQ 37.25 32.421875 41.125 36.953125 \nQ 45.015625 41.5 45.015625 49.421875 \nQ 45.015625 57.28125 41.125 61.84375 \nQ 37.25 66.40625 30.609375 66.40625 \nQ 23.96875 66.40625 20.09375 61.84375 \nQ 16.21875 57.28125 16.21875 49.421875 \nQ 16.21875 41.5 20.09375 36.953125 \nQ 23.96875 32.421875 30.609375 32.421875 \nz\n\" id=\"DejaVuSans-57\"/>\n      </defs>\n      <g transform=\"translate(20.878125 187.074348)scale(0.1 -0.1)\">\n       <use xlink:href=\"#DejaVuSans-48\"/>\n       <use x=\"63.623047\" xlink:href=\"#DejaVuSans-46\"/>\n       <use x=\"95.410156\" xlink:href=\"#DejaVuSans-57\"/>\n       <use x=\"159.033203\" xlink:href=\"#DejaVuSans-48\"/>\n      </g>\n     </g>\n    </g>\n    <g id=\"ytick_4\">\n     <g id=\"line2d_17\">\n      <path clip-path=\"url(#p083876d391)\" d=\"M 50.14375 111.040572 \nL 518.86375 111.040572 \n\" style=\"fill:none;stroke:#808080;stroke-linecap:square;stroke-opacity:0.5;stroke-width:0.25;\"/>\n     </g>\n     <g id=\"line2d_18\">\n      <g>\n       <use style=\"stroke:#000000;stroke-width:0.8;\" x=\"50.14375\" xlink:href=\"#m536604eb73\" y=\"111.040572\"/>\n      </g>\n     </g>\n     <g id=\"text_10\">\n      <!-- 0.95 -->\n      <g transform=\"translate(20.878125 114.839791)scale(0.1 -0.1)\">\n       <use xlink:href=\"#DejaVuSans-48\"/>\n       <use x=\"63.623047\" xlink:href=\"#DejaVuSans-46\"/>\n       <use x=\"95.410156\" xlink:href=\"#DejaVuSans-57\"/>\n       <use x=\"159.033203\" xlink:href=\"#DejaVuSans-53\"/>\n      </g>\n     </g>\n    </g>\n    <g id=\"ytick_5\">\n     <g id=\"line2d_19\">\n      <path clip-path=\"url(#p083876d391)\" d=\"M 50.14375 38.806014 \nL 518.86375 38.806014 \n\" style=\"fill:none;stroke:#808080;stroke-linecap:square;stroke-opacity:0.5;stroke-width:0.25;\"/>\n     </g>\n     <g id=\"line2d_20\">\n      <g>\n       <use style=\"stroke:#000000;stroke-width:0.8;\" x=\"50.14375\" xlink:href=\"#m536604eb73\" y=\"38.806014\"/>\n      </g>\n     </g>\n     <g id=\"text_11\">\n      <!-- 1.00 -->\n      <g transform=\"translate(20.878125 42.605233)scale(0.1 -0.1)\">\n       <use xlink:href=\"#DejaVuSans-49\"/>\n       <use x=\"63.623047\" xlink:href=\"#DejaVuSans-46\"/>\n       <use x=\"95.410156\" xlink:href=\"#DejaVuSans-48\"/>\n       <use x=\"159.033203\" xlink:href=\"#DejaVuSans-48\"/>\n      </g>\n     </g>\n    </g>\n    <g id=\"text_12\">\n     <!-- Cumulative Variance -->\n     <defs>\n      <path d=\"M 2.984375 54.6875 \nL 12.5 54.6875 \nL 29.59375 8.796875 \nL 46.6875 54.6875 \nL 56.203125 54.6875 \nL 35.6875 0 \nL 23.484375 0 \nz\n\" id=\"DejaVuSans-118\"/>\n      <path d=\"M 28.609375 0 \nL 0.78125 72.90625 \nL 11.078125 72.90625 \nL 34.1875 11.53125 \nL 57.328125 72.90625 \nL 67.578125 72.90625 \nL 39.796875 0 \nz\n\" id=\"DejaVuSans-86\"/>\n     </defs>\n     <g transform=\"translate(14.798438 259.250719)rotate(-90)scale(0.1 -0.1)\">\n      <use xlink:href=\"#DejaVuSans-67\"/>\n      <use x=\"69.824219\" xlink:href=\"#DejaVuSans-117\"/>\n      <use x=\"133.203125\" xlink:href=\"#DejaVuSans-109\"/>\n      <use x=\"230.615234\" xlink:href=\"#DejaVuSans-117\"/>\n      <use x=\"293.994141\" xlink:href=\"#DejaVuSans-108\"/>\n      <use x=\"321.777344\" xlink:href=\"#DejaVuSans-97\"/>\n      <use x=\"383.056641\" xlink:href=\"#DejaVuSans-116\"/>\n      <use x=\"422.265625\" xlink:href=\"#DejaVuSans-105\"/>\n      <use x=\"450.048828\" xlink:href=\"#DejaVuSans-118\"/>\n      <use x=\"509.228516\" xlink:href=\"#DejaVuSans-101\"/>\n      <use x=\"570.751953\" xlink:href=\"#DejaVuSans-32\"/>\n      <use x=\"602.539062\" xlink:href=\"#DejaVuSans-86\"/>\n      <use x=\"670.837891\" xlink:href=\"#DejaVuSans-97\"/>\n      <use x=\"732.117188\" xlink:href=\"#DejaVuSans-114\"/>\n      <use x=\"773.230469\" xlink:href=\"#DejaVuSans-105\"/>\n      <use x=\"801.013672\" xlink:href=\"#DejaVuSans-97\"/>\n      <use x=\"862.292969\" xlink:href=\"#DejaVuSans-110\"/>\n      <use x=\"925.671875\" xlink:href=\"#DejaVuSans-99\"/>\n      <use x=\"980.652344\" xlink:href=\"#DejaVuSans-101\"/>\n     </g>\n    </g>\n   </g>\n   <g id=\"line2d_21\">\n    <path clip-path=\"url(#p083876d391)\" d=\"M 71.449205 375.163943 \nL 118.794659 104.638153 \nL 166.140114 57.543827 \nL 213.485568 39.772927 \nL 260.831023 39.556209 \nL 308.176477 39.382106 \nL 355.521932 39.278702 \nL 402.867386 39.208849 \nL 450.212841 39.154652 \nL 497.558295 39.120307 \n\" style=\"fill:none;stroke:#1f77b4;stroke-linecap:square;stroke-width:1.5;\"/>\n   </g>\n   <g id=\"patch_3\">\n    <path d=\"M 50.14375 391.966125 \nL 50.14375 22.318125 \n\" style=\"fill:none;stroke:#000000;stroke-linecap:square;stroke-linejoin:miter;stroke-width:0.8;\"/>\n   </g>\n   <g id=\"patch_4\">\n    <path d=\"M 518.86375 391.966125 \nL 518.86375 22.318125 \n\" style=\"fill:none;stroke:#000000;stroke-linecap:square;stroke-linejoin:miter;stroke-width:0.8;\"/>\n   </g>\n   <g id=\"patch_5\">\n    <path d=\"M 50.14375 391.966125 \nL 518.86375 391.966125 \n\" style=\"fill:none;stroke:#000000;stroke-linecap:square;stroke-linejoin:miter;stroke-width:0.8;\"/>\n   </g>\n   <g id=\"patch_6\">\n    <path d=\"M 50.14375 22.318125 \nL 518.86375 22.318125 \n\" style=\"fill:none;stroke:#000000;stroke-linecap:square;stroke-linejoin:miter;stroke-width:0.8;\"/>\n   </g>\n   <g id=\"text_13\">\n    <!-- Explained Variance vs Number of Principal Components -->\n    <defs>\n     <path d=\"M 9.8125 72.90625 \nL 55.90625 72.90625 \nL 55.90625 64.59375 \nL 19.671875 64.59375 \nL 19.671875 43.015625 \nL 54.390625 43.015625 \nL 54.390625 34.71875 \nL 19.671875 34.71875 \nL 19.671875 8.296875 \nL 56.78125 8.296875 \nL 56.78125 0 \nL 9.8125 0 \nz\n\" id=\"DejaVuSans-69\"/>\n     <path d=\"M 54.890625 54.6875 \nL 35.109375 28.078125 \nL 55.90625 0 \nL 45.3125 0 \nL 29.390625 21.484375 \nL 13.484375 0 \nL 2.875 0 \nL 24.125 28.609375 \nL 4.6875 54.6875 \nL 15.28125 54.6875 \nL 29.78125 35.203125 \nL 44.28125 54.6875 \nz\n\" id=\"DejaVuSans-120\"/>\n     <path d=\"M 45.40625 46.390625 \nL 45.40625 75.984375 \nL 54.390625 75.984375 \nL 54.390625 0 \nL 45.40625 0 \nL 45.40625 8.203125 \nQ 42.578125 3.328125 38.25 0.953125 \nQ 33.9375 -1.421875 27.875 -1.421875 \nQ 17.96875 -1.421875 11.734375 6.484375 \nQ 5.515625 14.40625 5.515625 27.296875 \nQ 5.515625 40.1875 11.734375 48.09375 \nQ 17.96875 56 27.875 56 \nQ 33.9375 56 38.25 53.625 \nQ 42.578125 51.265625 45.40625 46.390625 \nz\nM 14.796875 27.296875 \nQ 14.796875 17.390625 18.875 11.75 \nQ 22.953125 6.109375 30.078125 6.109375 \nQ 37.203125 6.109375 41.296875 11.75 \nQ 45.40625 17.390625 45.40625 27.296875 \nQ 45.40625 37.203125 41.296875 42.84375 \nQ 37.203125 48.484375 30.078125 48.484375 \nQ 22.953125 48.484375 18.875 42.84375 \nQ 14.796875 37.203125 14.796875 27.296875 \nz\n\" id=\"DejaVuSans-100\"/>\n    </defs>\n    <g transform=\"translate(117.023125 16.318125)scale(0.12 -0.12)\">\n     <use xlink:href=\"#DejaVuSans-69\"/>\n     <use x=\"63.183594\" xlink:href=\"#DejaVuSans-120\"/>\n     <use x=\"122.363281\" xlink:href=\"#DejaVuSans-112\"/>\n     <use x=\"185.839844\" xlink:href=\"#DejaVuSans-108\"/>\n     <use x=\"213.623047\" xlink:href=\"#DejaVuSans-97\"/>\n     <use x=\"274.902344\" xlink:href=\"#DejaVuSans-105\"/>\n     <use x=\"302.685547\" xlink:href=\"#DejaVuSans-110\"/>\n     <use x=\"366.064453\" xlink:href=\"#DejaVuSans-101\"/>\n     <use x=\"427.587891\" xlink:href=\"#DejaVuSans-100\"/>\n     <use x=\"491.064453\" xlink:href=\"#DejaVuSans-32\"/>\n     <use x=\"522.851562\" xlink:href=\"#DejaVuSans-86\"/>\n     <use x=\"591.150391\" xlink:href=\"#DejaVuSans-97\"/>\n     <use x=\"652.429688\" xlink:href=\"#DejaVuSans-114\"/>\n     <use x=\"693.542969\" xlink:href=\"#DejaVuSans-105\"/>\n     <use x=\"721.326172\" xlink:href=\"#DejaVuSans-97\"/>\n     <use x=\"782.605469\" xlink:href=\"#DejaVuSans-110\"/>\n     <use x=\"845.984375\" xlink:href=\"#DejaVuSans-99\"/>\n     <use x=\"900.964844\" xlink:href=\"#DejaVuSans-101\"/>\n     <use x=\"962.488281\" xlink:href=\"#DejaVuSans-32\"/>\n     <use x=\"994.275391\" xlink:href=\"#DejaVuSans-118\"/>\n     <use x=\"1053.455078\" xlink:href=\"#DejaVuSans-115\"/>\n     <use x=\"1105.554688\" xlink:href=\"#DejaVuSans-32\"/>\n     <use x=\"1137.341797\" xlink:href=\"#DejaVuSans-78\"/>\n     <use x=\"1212.146484\" xlink:href=\"#DejaVuSans-117\"/>\n     <use x=\"1275.525391\" xlink:href=\"#DejaVuSans-109\"/>\n     <use x=\"1372.9375\" xlink:href=\"#DejaVuSans-98\"/>\n     <use x=\"1436.414062\" xlink:href=\"#DejaVuSans-101\"/>\n     <use x=\"1497.9375\" xlink:href=\"#DejaVuSans-114\"/>\n     <use x=\"1539.050781\" xlink:href=\"#DejaVuSans-32\"/>\n     <use x=\"1570.837891\" xlink:href=\"#DejaVuSans-111\"/>\n     <use x=\"1632.019531\" xlink:href=\"#DejaVuSans-102\"/>\n     <use x=\"1667.224609\" xlink:href=\"#DejaVuSans-32\"/>\n     <use x=\"1699.011719\" xlink:href=\"#DejaVuSans-80\"/>\n     <use x=\"1759.298828\" xlink:href=\"#DejaVuSans-114\"/>\n     <use x=\"1800.412109\" xlink:href=\"#DejaVuSans-105\"/>\n     <use x=\"1828.195312\" xlink:href=\"#DejaVuSans-110\"/>\n     <use x=\"1891.574219\" xlink:href=\"#DejaVuSans-99\"/>\n     <use x=\"1946.554688\" xlink:href=\"#DejaVuSans-105\"/>\n     <use x=\"1974.337891\" xlink:href=\"#DejaVuSans-112\"/>\n     <use x=\"2037.814453\" xlink:href=\"#DejaVuSans-97\"/>\n     <use x=\"2099.09375\" xlink:href=\"#DejaVuSans-108\"/>\n     <use x=\"2126.876953\" xlink:href=\"#DejaVuSans-32\"/>\n     <use x=\"2158.664062\" xlink:href=\"#DejaVuSans-67\"/>\n     <use x=\"2228.488281\" xlink:href=\"#DejaVuSans-111\"/>\n     <use x=\"2289.669922\" xlink:href=\"#DejaVuSans-109\"/>\n     <use x=\"2387.082031\" xlink:href=\"#DejaVuSans-112\"/>\n     <use x=\"2450.558594\" xlink:href=\"#DejaVuSans-111\"/>\n     <use x=\"2511.740234\" xlink:href=\"#DejaVuSans-110\"/>\n     <use x=\"2575.119141\" xlink:href=\"#DejaVuSans-101\"/>\n     <use x=\"2636.642578\" xlink:href=\"#DejaVuSans-110\"/>\n     <use x=\"2700.021484\" xlink:href=\"#DejaVuSans-116\"/>\n     <use x=\"2739.230469\" xlink:href=\"#DejaVuSans-115\"/>\n    </g>\n   </g>\n  </g>\n </g>\n <defs>\n  <clipPath id=\"p083876d391\">\n   <rect height=\"369.648\" width=\"468.72\" x=\"50.14375\" y=\"22.318125\"/>\n  </clipPath>\n </defs>\n</svg>\n",
      "image/png": "[encoded data removed]"
     },
     "metadata": {
      "needs_background": "light"
     }
    },
    {
     "output_type": "execute_result",
     "data": {
      "text/plain": "array([0.76717658, 0.95443169, 0.98702988, 0.99933071, 0.99948072,\n       0.99960124, 0.99967281, 0.99972116, 0.99975868, 0.99978245,\n       0.99980471, 0.99981851, 0.99982861, 0.9998344 , 0.99984008,\n       0.99984524, 0.99984994, 0.99985414, 0.99985814, 0.99986195,\n       0.99986563, 0.99986854, 0.99987137, 0.9998739 , 0.99987634,\n       0.9998787 , 0.99988089, 0.99988302, 0.99988512, 0.99988717,\n       0.99988919, 0.9998912 , 0.99989312, 0.99989502, 0.99989689,\n       0.99989873, 0.99990048, 0.99990223, 0.99990393, 0.99990559,\n       0.99990718, 0.99990874, 0.99991027, 0.99991176, 0.99991323,\n       0.99991467, 0.99991606, 0.99991743, 0.99991877, 0.99992007,\n       0.99992135, 0.99992261, 0.99992384, 0.99992504, 0.9999262 ,\n       0.99992734, 0.99992843, 0.99992949, 0.99993053, 0.99993152,\n       0.99993251, 0.99993348, 0.99993443, 0.99993537, 0.99993629,\n       0.99993721, 0.99993811, 0.99993901, 0.99993989, 0.99994077,\n       0.99994163, 0.99994247, 0.99994331, 0.99994412, 0.99994494,\n       0.99994574, 0.99994652, 0.9999473 , 0.99994806, 0.9999488 ,\n       0.99994954, 0.99995025, 0.99995095, 0.99995163, 0.99995231,\n       0.99995297, 0.99995362, 0.99995427, 0.99995488, 0.9999555 ,\n       0.9999561 , 0.9999567 , 0.99995728, 0.99995785, 0.99995841,\n       0.99995897, 0.99995952, 0.99996006, 0.9999606 , 0.99996112,\n       0.99996163, 0.99996213, 0.99996263, 0.99996312, 0.99996361,\n       0.99996409, 0.99996454, 0.999965  , 0.99996545, 0.99996589,\n       0.99996633, 0.99996676, 0.9999672 , 0.99996762, 0.99996805,\n       0.99996847, 0.99996889, 0.9999693 , 0.9999697 , 0.99997011,\n       0.99997051, 0.9999709 , 0.99997129, 0.99997168, 0.99997206,\n       0.99997244, 0.99997281, 0.99997318, 0.99997355, 0.99997392,\n       0.99997427, 0.99997463, 0.99997498, 0.99997532, 0.99997567,\n       0.999976  , 0.99997633, 0.99997666, 0.99997698, 0.9999773 ,\n       0.99997761, 0.99997792, 0.99997823, 0.99997853, 0.99997883,\n       0.99997913, 0.99997943, 0.99997972, 0.99998   , 0.99998028,\n       0.99998055, 0.99998083, 0.9999811 , 0.99998137, 0.99998164,\n       0.9999819 , 0.99998217, 0.99998242, 0.99998267, 0.99998292,\n       0.99998317, 0.99998341, 0.99998365, 0.99998389, 0.99998413,\n       0.99998437, 0.9999846 , 0.99998483, 0.99998505, 0.99998527,\n       0.99998549, 0.9999857 , 0.99998592, 0.99998613, 0.99998634,\n       0.99998655, 0.99998675, 0.99998696, 0.99998716, 0.99998736,\n       0.99998755, 0.99998774, 0.99998793, 0.99998812, 0.9999883 ,\n       0.99998848, 0.99998867, 0.99998885, 0.99998903, 0.9999892 ,\n       0.99998937, 0.99998954, 0.9999897 , 0.99998986, 0.99999002,\n       0.99999018, 0.99999033, 0.99999049, 0.99999064, 0.99999079,\n       0.99999094, 0.99999108, 0.99999123, 0.99999137, 0.99999151,\n       0.99999165, 0.99999179, 0.99999193, 0.99999206, 0.99999219,\n       0.99999232, 0.99999245, 0.99999258, 0.9999927 , 0.99999283,\n       0.99999295, 0.99999307, 0.99999319, 0.99999331, 0.99999343,\n       0.99999354, 0.99999366, 0.99999377, 0.99999388, 0.99999399,\n       0.9999941 , 0.99999421, 0.99999431, 0.99999442, 0.99999452,\n       0.99999462, 0.99999472, 0.99999482, 0.99999492, 0.99999502,\n       0.99999511, 0.99999521, 0.9999953 , 0.99999539, 0.99999548,\n       0.99999557, 0.99999565, 0.99999574, 0.99999582, 0.9999959 ,\n       0.99999598, 0.99999606, 0.99999614, 0.99999621, 0.99999629,\n       0.99999636, 0.99999643, 0.9999965 , 0.99999657, 0.99999663,\n       0.9999967 , 0.99999676, 0.99999683, 0.99999689, 0.99999695,\n       0.99999702, 0.99999707, 0.99999713, 0.99999719, 0.99999725,\n       0.99999731, 0.99999736, 0.99999742, 0.99999747, 0.99999752,\n       0.99999757, 0.99999763, 0.99999768, 0.99999773, 0.99999778,\n       0.99999783, 0.99999788, 0.99999792, 0.99999797, 0.99999802,\n       0.99999806, 0.99999811, 0.99999815, 0.9999982 , 0.99999824,\n       0.99999828, 0.99999832, 0.99999836, 0.9999984 , 0.99999844,\n       0.99999848, 0.99999851, 0.99999855, 0.99999859, 0.99999862,\n       0.99999866, 0.99999869, 0.99999872, 0.99999876, 0.99999879,\n       0.99999882, 0.99999885, 0.99999889, 0.99999892, 0.99999895,\n       0.99999898, 0.99999901, 0.99999904, 0.99999907, 0.99999909,\n       0.99999912, 0.99999915, 0.99999918, 0.9999992 , 0.99999923,\n       0.99999925, 0.99999928, 0.99999931, 0.99999933, 0.99999936,\n       0.99999938, 0.9999994 , 0.99999943, 0.99999945, 0.99999948,\n       0.9999995 , 0.99999952, 0.99999955, 0.99999957, 0.99999959,\n       0.99999961, 0.99999964, 0.99999966, 0.99999968, 0.9999997 ,\n       0.99999972, 0.99999974, 0.99999976, 0.99999978, 0.99999979,\n       0.99999981, 0.99999983, 0.99999984, 0.99999986, 0.99999987,\n       0.99999989, 0.9999999 , 0.99999991, 0.99999992, 0.99999993,\n       0.99999994, 0.99999995, 0.99999996, 0.99999997, 0.99999997,\n       0.99999998, 0.99999999, 0.99999999, 0.99999999, 1.        ,\n       1.        , 1.        , 1.        ])"
     },
     "metadata": {},
     "execution_count": 20
    }
   ],
   "source": [
    "# Creating a plot for explained variance vs the number of principal components for the first 10 components\n",
    "create_variance_plot(explained_variance_ratio, 10)"
   ]
  },
  {
   "cell_type": "code",
   "execution_count": 25,
   "metadata": {},
   "outputs": [
    {
     "data": {
      "text/plain": [
       "array([0.55044417, 0.59174852, 0.61623783, 0.63581933, 0.65270229,\n",
       "       0.66797677, 0.68183785, 0.69263087, 0.70259435, 0.71123709])"
      ]
     },
     "execution_count": 25,
     "metadata": {},
     "output_type": "execute_result"
    }
   ],
   "source": [
    "explained_var[:10]"
   ]
  },
  {
   "cell_type": "code",
   "execution_count": 26,
   "metadata": {},
   "outputs": [],
   "source": [
    "# Reducing the dimensionality of the data to have 4 principal components\n",
    "\n",
    "# Creating a PCA model with 4 principal components\n",
    "pca = PCA(n_components=4)\n",
    "\n",
    "# Fitting the PCA model\n",
    "customer_data_reduced_4 = pca.fit_transform(customer_data)"
   ]
  },
  {
   "cell_type": "code",
   "execution_count": 27,
   "metadata": {},
   "outputs": [],
   "source": [
    "# Creating a dataframe that contains the correlations between a principal component and the features\n",
    "component_makeup = pd.DataFrame(pca.components_, columns=customer_data.columns, index=[*range(1, 5)])"
   ]
  },
  {
   "cell_type": "code",
   "execution_count": 28,
   "metadata": {},
   "outputs": [
    {
     "data": {
      "text/html": [
       "<div>\n",
       "<style scoped>\n",
       "    .dataframe tbody tr th:only-of-type {\n",
       "        vertical-align: middle;\n",
       "    }\n",
       "\n",
       "    .dataframe tbody tr th {\n",
       "        vertical-align: top;\n",
       "    }\n",
       "\n",
       "    .dataframe thead th {\n",
       "        text-align: right;\n",
       "    }\n",
       "</style>\n",
       "<table border=\"1\" class=\"dataframe\">\n",
       "  <thead>\n",
       "    <tr style=\"text-align: right;\">\n",
       "      <th></th>\n",
       "      <th>AGER_TYP</th>\n",
       "      <th>AKT_DAT_KL</th>\n",
       "      <th>ALTER_HH</th>\n",
       "      <th>ALTERSKATEGORIE_FEIN</th>\n",
       "      <th>ANZ_HAUSHALTE_AKTIV</th>\n",
       "      <th>ANZ_HH_TITEL</th>\n",
       "      <th>ANZ_KINDER</th>\n",
       "      <th>ANZ_PERSONEN</th>\n",
       "      <th>ANZ_STATISTISCHE_HAUSHALTE</th>\n",
       "      <th>ANZ_TITEL</th>\n",
       "      <th>...</th>\n",
       "      <th>WOHNLAGE</th>\n",
       "      <th>ZABEOTYP</th>\n",
       "      <th>ONLINE_PURCHASE</th>\n",
       "      <th>ANREDE_KZ</th>\n",
       "      <th>ALTERSKATEGORIE_GROB</th>\n",
       "      <th>SINGLE_BUYER</th>\n",
       "      <th>MULTI_BUYER</th>\n",
       "      <th>COSMETIC_AND_FOOD</th>\n",
       "      <th>COSMETIC</th>\n",
       "      <th>FOOD</th>\n",
       "    </tr>\n",
       "  </thead>\n",
       "  <tbody>\n",
       "    <tr>\n",
       "      <th>1</th>\n",
       "      <td>-0.000541</td>\n",
       "      <td>-0.000766</td>\n",
       "      <td>-0.003803</td>\n",
       "      <td>-0.003567</td>\n",
       "      <td>-0.001634</td>\n",
       "      <td>-0.000303</td>\n",
       "      <td>-0.000332</td>\n",
       "      <td>-0.000951</td>\n",
       "      <td>-0.001554</td>\n",
       "      <td>-0.000291</td>\n",
       "      <td>...</td>\n",
       "      <td>-0.001395</td>\n",
       "      <td>0.000170</td>\n",
       "      <td>-0.000002</td>\n",
       "      <td>0.000047</td>\n",
       "      <td>-0.000496</td>\n",
       "      <td>0.000008</td>\n",
       "      <td>-0.000008</td>\n",
       "      <td>-0.000007</td>\n",
       "      <td>0.000004</td>\n",
       "      <td>0.000002</td>\n",
       "    </tr>\n",
       "    <tr>\n",
       "      <th>2</th>\n",
       "      <td>0.000061</td>\n",
       "      <td>0.000561</td>\n",
       "      <td>0.000449</td>\n",
       "      <td>-0.000937</td>\n",
       "      <td>0.001563</td>\n",
       "      <td>0.000218</td>\n",
       "      <td>0.000150</td>\n",
       "      <td>0.000463</td>\n",
       "      <td>0.001552</td>\n",
       "      <td>0.000178</td>\n",
       "      <td>...</td>\n",
       "      <td>0.000835</td>\n",
       "      <td>-0.000177</td>\n",
       "      <td>-0.000035</td>\n",
       "      <td>-0.000073</td>\n",
       "      <td>0.000396</td>\n",
       "      <td>-0.000052</td>\n",
       "      <td>0.000052</td>\n",
       "      <td>0.000053</td>\n",
       "      <td>-0.000014</td>\n",
       "      <td>-0.000038</td>\n",
       "    </tr>\n",
       "    <tr>\n",
       "      <th>3</th>\n",
       "      <td>-0.000209</td>\n",
       "      <td>-0.000602</td>\n",
       "      <td>-0.000775</td>\n",
       "      <td>-0.000854</td>\n",
       "      <td>-0.003153</td>\n",
       "      <td>-0.000087</td>\n",
       "      <td>-0.000129</td>\n",
       "      <td>-0.000225</td>\n",
       "      <td>-0.002911</td>\n",
       "      <td>-0.000142</td>\n",
       "      <td>...</td>\n",
       "      <td>0.000576</td>\n",
       "      <td>-0.000387</td>\n",
       "      <td>0.000004</td>\n",
       "      <td>-0.000022</td>\n",
       "      <td>-0.000220</td>\n",
       "      <td>-0.000007</td>\n",
       "      <td>0.000007</td>\n",
       "      <td>0.000003</td>\n",
       "      <td>-0.000007</td>\n",
       "      <td>0.000003</td>\n",
       "    </tr>\n",
       "    <tr>\n",
       "      <th>4</th>\n",
       "      <td>0.000713</td>\n",
       "      <td>0.001027</td>\n",
       "      <td>0.003572</td>\n",
       "      <td>0.002638</td>\n",
       "      <td>-0.002726</td>\n",
       "      <td>-0.000379</td>\n",
       "      <td>0.000385</td>\n",
       "      <td>0.001095</td>\n",
       "      <td>-0.002527</td>\n",
       "      <td>0.000355</td>\n",
       "      <td>...</td>\n",
       "      <td>-0.001460</td>\n",
       "      <td>0.000530</td>\n",
       "      <td>-0.000003</td>\n",
       "      <td>-0.000071</td>\n",
       "      <td>0.000630</td>\n",
       "      <td>-0.000034</td>\n",
       "      <td>0.000034</td>\n",
       "      <td>0.000044</td>\n",
       "      <td>-0.000021</td>\n",
       "      <td>-0.000023</td>\n",
       "    </tr>\n",
       "  </tbody>\n",
       "</table>\n",
       "<p>4 rows × 364 columns</p>\n",
       "</div>"
      ],
      "text/plain": [
       "   AGER_TYP  AKT_DAT_KL  ALTER_HH  ALTERSKATEGORIE_FEIN  ANZ_HAUSHALTE_AKTIV  \\\n",
       "1 -0.000541   -0.000766 -0.003803             -0.003567            -0.001634   \n",
       "2  0.000061    0.000561  0.000449             -0.000937             0.001563   \n",
       "3 -0.000209   -0.000602 -0.000775             -0.000854            -0.003153   \n",
       "4  0.000713    0.001027  0.003572              0.002638            -0.002726   \n",
       "\n",
       "   ANZ_HH_TITEL  ANZ_KINDER  ANZ_PERSONEN  ANZ_STATISTISCHE_HAUSHALTE  \\\n",
       "1     -0.000303   -0.000332     -0.000951                   -0.001554   \n",
       "2      0.000218    0.000150      0.000463                    0.001552   \n",
       "3     -0.000087   -0.000129     -0.000225                   -0.002911   \n",
       "4     -0.000379    0.000385      0.001095                   -0.002527   \n",
       "\n",
       "   ANZ_TITEL  ...  WOHNLAGE  ZABEOTYP  ONLINE_PURCHASE  ANREDE_KZ  \\\n",
       "1  -0.000291  ... -0.001395  0.000170        -0.000002   0.000047   \n",
       "2   0.000178  ...  0.000835 -0.000177        -0.000035  -0.000073   \n",
       "3  -0.000142  ...  0.000576 -0.000387         0.000004  -0.000022   \n",
       "4   0.000355  ... -0.001460  0.000530        -0.000003  -0.000071   \n",
       "\n",
       "   ALTERSKATEGORIE_GROB  SINGLE_BUYER  MULTI_BUYER  COSMETIC_AND_FOOD  \\\n",
       "1             -0.000496      0.000008    -0.000008          -0.000007   \n",
       "2              0.000396     -0.000052     0.000052           0.000053   \n",
       "3             -0.000220     -0.000007     0.000007           0.000003   \n",
       "4              0.000630     -0.000034     0.000034           0.000044   \n",
       "\n",
       "   COSMETIC      FOOD  \n",
       "1  0.000004  0.000002  \n",
       "2 -0.000014 -0.000038  \n",
       "3 -0.000007  0.000003  \n",
       "4 -0.000021 -0.000023  \n",
       "\n",
       "[4 rows x 364 columns]"
      ]
     },
     "execution_count": 28,
     "metadata": {},
     "output_type": "execute_result"
    }
   ],
   "source": [
    "component_makeup.head()"
   ]
  },
  {
   "cell_type": "code",
   "execution_count": 29,
   "metadata": {},
   "outputs": [],
   "source": [
    "# Finding the most influential features of every principal component\n",
    "\n",
    "# Dictionary that will hold the names of the most important features for every principal component\n",
    "important_features_dict = {}\n",
    "\n",
    "# Counter for the row index\n",
    "i = 1\n",
    "# Iterate through all the principal components\n",
    "for i in range(1, 5):\n",
    "    # Adding a key for the principal component\n",
    "    new_key = \"PC\" + str(i)\n",
    "    # Creating an empty list for the component\n",
    "    important_features_dict[new_key] = []\n",
    "    # Iterate through all the columns\n",
    "    for feature in component_makeup.columns:\n",
    "        # Add the name of the column and correlation coefficient if there is a strong correlation\n",
    "        if component_makeup.loc[i, feature] >= 0.2 or component_makeup.loc[i, feature] <= -0.2:\n",
    "            important_features_dict[new_key].append((feature, component_makeup.loc[i, feature]))"
   ]
  },
  {
   "cell_type": "code",
   "execution_count": 30,
   "metadata": {},
   "outputs": [
    {
     "name": "stdout",
     "output_type": "stream",
     "text": [
      "{'PC1': [('EINGEZOGENAM_HH_JAHR', -0.5705858446297307), ('GEBURTSJAHR', -0.5483833813896041), ('KBA13_ANZAHL_PKW', -0.20095104609047684), ('MIN_GEBAEUDEJAHR', -0.5768392379786956)], 'PC2': [('EINGEZOGENAM_HH_JAHR', 0.34332665363661685), ('GEBURTSJAHR', -0.8353791122580406), ('MIN_GEBAEUDEJAHR', 0.3996877280816066)], 'PC3': [('EINGEZOGENAM_HH_JAHR', -0.27591706165808405), ('KBA13_ANZAHL_PKW', 0.9570914797595232)], 'PC4': [('EINGEZOGENAM_HH_JAHR', 0.6928193421153951), ('MIN_GEBAEUDEJAHR', -0.7066321367269783)]}\n"
     ]
    }
   ],
   "source": [
    "print(important_features_dict)"
   ]
  },
  {
   "cell_type": "code",
   "execution_count": 32,
   "metadata": {},
   "outputs": [
    {
     "data": {
      "image/png": "[encoded data removed]",
      "text/plain": [
       "<Figure size 432x288 with 1 Axes>"
      ]
     },
     "metadata": {
      "needs_background": "light"
     },
     "output_type": "display_data"
    }
   ],
   "source": [
    "# Creating a graph that shows the cumulative distortion as a function of the number of clusters in order to find the optimal value for k\n",
    "find_optimal_k(customer_data_reduced_4, 30)"
   ]
  },
  {
   "cell_type": "code",
   "execution_count": 31,
   "metadata": {},
   "outputs": [],
   "source": [
    "# Training a k means clustering model with 4 clusters on the unnormalized data\n",
    "kmeans = MiniBatchKMeans(n_clusters=4)"
   ]
  },
  {
   "cell_type": "code",
   "execution_count": 32,
   "metadata": {},
   "outputs": [],
   "source": [
    "# Creating a dataframe that contains the cluster distances for each row\n",
    "customer_cluster_distances = kmeans.fit_transform(customer_data_reduced_4)\n",
    "\n",
    "# Getting the cluster predictions for each customer (cluster indices)\n",
    "customer_clusters = kmeans.predict(customer_data_reduced_4)"
   ]
  },
  {
   "cell_type": "code",
   "execution_count": 33,
   "metadata": {},
   "outputs": [],
   "source": [
    "# Converting the customer_cluster_distances numpy array to a pandas dataframe\n",
    "customer_cluster_distances = pd.DataFrame(customer_cluster_distances)"
   ]
  },
  {
   "cell_type": "code",
   "execution_count": 34,
   "metadata": {},
   "outputs": [],
   "source": [
    "# Combining the cluster distances dataframe with the cluster indices for each customer\n",
    "customers_transformed = customer_cluster_distances.copy()\n",
    "customers_transformed[\"labels\"] = customer_clusters"
   ]
  },
  {
   "cell_type": "code",
   "execution_count": 35,
   "metadata": {},
   "outputs": [
    {
     "data": {
      "text/html": [
       "<div>\n",
       "<style scoped>\n",
       "    .dataframe tbody tr th:only-of-type {\n",
       "        vertical-align: middle;\n",
       "    }\n",
       "\n",
       "    .dataframe tbody tr th {\n",
       "        vertical-align: top;\n",
       "    }\n",
       "\n",
       "    .dataframe thead th {\n",
       "        text-align: right;\n",
       "    }\n",
       "</style>\n",
       "<table border=\"1\" class=\"dataframe\">\n",
       "  <thead>\n",
       "    <tr style=\"text-align: right;\">\n",
       "      <th></th>\n",
       "      <th>0</th>\n",
       "      <th>1</th>\n",
       "      <th>2</th>\n",
       "      <th>3</th>\n",
       "      <th>labels</th>\n",
       "    </tr>\n",
       "  </thead>\n",
       "  <tbody>\n",
       "    <tr>\n",
       "      <th>0</th>\n",
       "      <td>1959.633686</td>\n",
       "      <td>3042.195759</td>\n",
       "      <td>537.168428</td>\n",
       "      <td>2098.741726</td>\n",
       "      <td>2</td>\n",
       "    </tr>\n",
       "    <tr>\n",
       "      <th>1</th>\n",
       "      <td>2967.445411</td>\n",
       "      <td>1970.372212</td>\n",
       "      <td>2103.055329</td>\n",
       "      <td>2756.541684</td>\n",
       "      <td>1</td>\n",
       "    </tr>\n",
       "    <tr>\n",
       "      <th>2</th>\n",
       "      <td>2033.692453</td>\n",
       "      <td>2829.250440</td>\n",
       "      <td>231.220370</td>\n",
       "      <td>1953.106230</td>\n",
       "      <td>2</td>\n",
       "    </tr>\n",
       "    <tr>\n",
       "      <th>3</th>\n",
       "      <td>1966.790369</td>\n",
       "      <td>2896.647856</td>\n",
       "      <td>90.961910</td>\n",
       "      <td>1979.489572</td>\n",
       "      <td>2</td>\n",
       "    </tr>\n",
       "    <tr>\n",
       "      <th>4</th>\n",
       "      <td>496.523265</td>\n",
       "      <td>3453.469707</td>\n",
       "      <td>1965.845060</td>\n",
       "      <td>125.105870</td>\n",
       "      <td>3</td>\n",
       "    </tr>\n",
       "  </tbody>\n",
       "</table>\n",
       "</div>"
      ],
      "text/plain": [
       "             0            1            2            3  labels\n",
       "0  1959.633686  3042.195759   537.168428  2098.741726       2\n",
       "1  2967.445411  1970.372212  2103.055329  2756.541684       1\n",
       "2  2033.692453  2829.250440   231.220370  1953.106230       2\n",
       "3  1966.790369  2896.647856    90.961910  1979.489572       2\n",
       "4   496.523265  3453.469707  1965.845060   125.105870       3"
      ]
     },
     "execution_count": 35,
     "metadata": {},
     "output_type": "execute_result"
    }
   ],
   "source": [
    "customers_transformed.head()"
   ]
  },
  {
   "cell_type": "code",
   "execution_count": 36,
   "metadata": {},
   "outputs": [],
   "source": [
    "# Changing the column names to correspond to the cluster numbers\n",
    "customers_transformed.columns = [\"1\", \"2\", \"3\", \"4\", \"labels\"]"
   ]
  },
  {
   "cell_type": "code",
   "execution_count": 37,
   "metadata": {},
   "outputs": [],
   "source": [
    "# Adding 1 to each of the cluster labels since they should start at 1\n",
    "customers_transformed[\"labels\"] = customers_transformed[\"labels\"] + 1"
   ]
  },
  {
   "cell_type": "code",
   "execution_count": 38,
   "metadata": {},
   "outputs": [
    {
     "data": {
      "text/html": [
       "<div>\n",
       "<style scoped>\n",
       "    .dataframe tbody tr th:only-of-type {\n",
       "        vertical-align: middle;\n",
       "    }\n",
       "\n",
       "    .dataframe tbody tr th {\n",
       "        vertical-align: top;\n",
       "    }\n",
       "\n",
       "    .dataframe thead th {\n",
       "        text-align: right;\n",
       "    }\n",
       "</style>\n",
       "<table border=\"1\" class=\"dataframe\">\n",
       "  <thead>\n",
       "    <tr style=\"text-align: right;\">\n",
       "      <th></th>\n",
       "      <th>1</th>\n",
       "      <th>2</th>\n",
       "      <th>3</th>\n",
       "      <th>4</th>\n",
       "      <th>labels</th>\n",
       "    </tr>\n",
       "  </thead>\n",
       "  <tbody>\n",
       "    <tr>\n",
       "      <th>0</th>\n",
       "      <td>1959.633686</td>\n",
       "      <td>3042.195759</td>\n",
       "      <td>537.168428</td>\n",
       "      <td>2098.741726</td>\n",
       "      <td>3</td>\n",
       "    </tr>\n",
       "    <tr>\n",
       "      <th>1</th>\n",
       "      <td>2967.445411</td>\n",
       "      <td>1970.372212</td>\n",
       "      <td>2103.055329</td>\n",
       "      <td>2756.541684</td>\n",
       "      <td>2</td>\n",
       "    </tr>\n",
       "    <tr>\n",
       "      <th>2</th>\n",
       "      <td>2033.692453</td>\n",
       "      <td>2829.250440</td>\n",
       "      <td>231.220370</td>\n",
       "      <td>1953.106230</td>\n",
       "      <td>3</td>\n",
       "    </tr>\n",
       "    <tr>\n",
       "      <th>3</th>\n",
       "      <td>1966.790369</td>\n",
       "      <td>2896.647856</td>\n",
       "      <td>90.961910</td>\n",
       "      <td>1979.489572</td>\n",
       "      <td>3</td>\n",
       "    </tr>\n",
       "    <tr>\n",
       "      <th>4</th>\n",
       "      <td>496.523265</td>\n",
       "      <td>3453.469707</td>\n",
       "      <td>1965.845060</td>\n",
       "      <td>125.105870</td>\n",
       "      <td>4</td>\n",
       "    </tr>\n",
       "  </tbody>\n",
       "</table>\n",
       "</div>"
      ],
      "text/plain": [
       "             1            2            3            4  labels\n",
       "0  1959.633686  3042.195759   537.168428  2098.741726       3\n",
       "1  2967.445411  1970.372212  2103.055329  2756.541684       2\n",
       "2  2033.692453  2829.250440   231.220370  1953.106230       3\n",
       "3  1966.790369  2896.647856    90.961910  1979.489572       3\n",
       "4   496.523265  3453.469707  1965.845060   125.105870       4"
      ]
     },
     "execution_count": 38,
     "metadata": {},
     "output_type": "execute_result"
    }
   ],
   "source": [
    "customers_transformed.head()"
   ]
  },
  {
   "cell_type": "code",
   "execution_count": 39,
   "metadata": {},
   "outputs": [],
   "source": [
    "# Creating another dataframe that contains the centroid distances\n",
    "cluster_centroids = pd.DataFrame(kmeans.cluster_centers_)"
   ]
  },
  {
   "cell_type": "code",
   "execution_count": 40,
   "metadata": {},
   "outputs": [
    {
     "data": {
      "text/html": [
       "<div>\n",
       "<style scoped>\n",
       "    .dataframe tbody tr th:only-of-type {\n",
       "        vertical-align: middle;\n",
       "    }\n",
       "\n",
       "    .dataframe tbody tr th {\n",
       "        vertical-align: top;\n",
       "    }\n",
       "\n",
       "    .dataframe thead th {\n",
       "        text-align: right;\n",
       "    }\n",
       "</style>\n",
       "<table border=\"1\" class=\"dataframe\">\n",
       "  <thead>\n",
       "    <tr style=\"text-align: right;\">\n",
       "      <th></th>\n",
       "      <th>0</th>\n",
       "      <th>1</th>\n",
       "      <th>2</th>\n",
       "      <th>3</th>\n",
       "    </tr>\n",
       "  </thead>\n",
       "  <tbody>\n",
       "    <tr>\n",
       "      <th>0</th>\n",
       "      <td>-1201.817809</td>\n",
       "      <td>-334.648451</td>\n",
       "      <td>344.276323</td>\n",
       "      <td>15.126360</td>\n",
       "    </tr>\n",
       "    <tr>\n",
       "      <th>1</th>\n",
       "      <td>2342.484601</td>\n",
       "      <td>-334.737004</td>\n",
       "      <td>37.919222</td>\n",
       "      <td>-19.769240</td>\n",
       "    </tr>\n",
       "    <tr>\n",
       "      <th>2</th>\n",
       "      <td>-62.479048</td>\n",
       "      <td>1240.462022</td>\n",
       "      <td>-34.510897</td>\n",
       "      <td>21.343388</td>\n",
       "    </tr>\n",
       "    <tr>\n",
       "      <th>3</th>\n",
       "      <td>-1030.865239</td>\n",
       "      <td>-463.273777</td>\n",
       "      <td>-199.551738</td>\n",
       "      <td>4.204879</td>\n",
       "    </tr>\n",
       "  </tbody>\n",
       "</table>\n",
       "</div>"
      ],
      "text/plain": [
       "             0            1           2          3\n",
       "0 -1201.817809  -334.648451  344.276323  15.126360\n",
       "1  2342.484601  -334.737004   37.919222 -19.769240\n",
       "2   -62.479048  1240.462022  -34.510897  21.343388\n",
       "3 -1030.865239  -463.273777 -199.551738   4.204879"
      ]
     },
     "execution_count": 40,
     "metadata": {},
     "output_type": "execute_result"
    }
   ],
   "source": [
    "cluster_centroids.head()"
   ]
  },
  {
   "cell_type": "code",
   "execution_count": 41,
   "metadata": {},
   "outputs": [],
   "source": [
    "# Changing the column names to represent the principal components\n",
    "cluster_centroids.columns = [\"c_1\", \"c_2\", \"c_3\", \"c_4\"]"
   ]
  },
  {
   "cell_type": "code",
   "execution_count": 42,
   "metadata": {},
   "outputs": [
    {
     "data": {
      "text/html": [
       "<div>\n",
       "<style scoped>\n",
       "    .dataframe tbody tr th:only-of-type {\n",
       "        vertical-align: middle;\n",
       "    }\n",
       "\n",
       "    .dataframe tbody tr th {\n",
       "        vertical-align: top;\n",
       "    }\n",
       "\n",
       "    .dataframe thead th {\n",
       "        text-align: right;\n",
       "    }\n",
       "</style>\n",
       "<table border=\"1\" class=\"dataframe\">\n",
       "  <thead>\n",
       "    <tr style=\"text-align: right;\">\n",
       "      <th></th>\n",
       "      <th>c_1</th>\n",
       "      <th>c_2</th>\n",
       "      <th>c_3</th>\n",
       "      <th>c_4</th>\n",
       "    </tr>\n",
       "  </thead>\n",
       "  <tbody>\n",
       "    <tr>\n",
       "      <th>0</th>\n",
       "      <td>-1201.817809</td>\n",
       "      <td>-334.648451</td>\n",
       "      <td>344.276323</td>\n",
       "      <td>15.126360</td>\n",
       "    </tr>\n",
       "    <tr>\n",
       "      <th>1</th>\n",
       "      <td>2342.484601</td>\n",
       "      <td>-334.737004</td>\n",
       "      <td>37.919222</td>\n",
       "      <td>-19.769240</td>\n",
       "    </tr>\n",
       "    <tr>\n",
       "      <th>2</th>\n",
       "      <td>-62.479048</td>\n",
       "      <td>1240.462022</td>\n",
       "      <td>-34.510897</td>\n",
       "      <td>21.343388</td>\n",
       "    </tr>\n",
       "    <tr>\n",
       "      <th>3</th>\n",
       "      <td>-1030.865239</td>\n",
       "      <td>-463.273777</td>\n",
       "      <td>-199.551738</td>\n",
       "      <td>4.204879</td>\n",
       "    </tr>\n",
       "  </tbody>\n",
       "</table>\n",
       "</div>"
      ],
      "text/plain": [
       "           c_1          c_2         c_3        c_4\n",
       "0 -1201.817809  -334.648451  344.276323  15.126360\n",
       "1  2342.484601  -334.737004   37.919222 -19.769240\n",
       "2   -62.479048  1240.462022  -34.510897  21.343388\n",
       "3 -1030.865239  -463.273777 -199.551738   4.204879"
      ]
     },
     "execution_count": 42,
     "metadata": {},
     "output_type": "execute_result"
    }
   ],
   "source": [
    "cluster_centroids.head()"
   ]
  },
  {
   "cell_type": "code",
   "execution_count": 43,
   "metadata": {},
   "outputs": [
    {
     "data": {
      "image/png": "[encoded data removed]",
      "text/plain": [
       "<Figure size 864x648 with 2 Axes>"
      ]
     },
     "metadata": {
      "needs_background": "light"
     },
     "output_type": "display_data"
    }
   ],
   "source": [
    "# Creating a heat map in order to visualize the clusters\n",
    "plt.figure(figsize = (12,9))\n",
    "ax = sns.heatmap(cluster_centroids.T, cmap = 'YlGnBu')\n",
    "ax.set_xlabel(\"Cluster\")\n",
    "plt.yticks(fontsize = 16)\n",
    "plt.xticks(fontsize = 16)\n",
    "ax.set_title(\"Attribute Value by Centroid\")\n",
    "plt.show()"
   ]
  },
  {
   "cell_type": "code",
   "execution_count": 48,
   "metadata": {},
   "outputs": [
    {
     "data": {
      "text/plain": [
       "(array([42419.,     0.,     0.,     0.,     0.,     0.,     0.,     0.,\n",
       "            0.,   532.]),\n",
       " array([0. , 0.1, 0.2, 0.3, 0.4, 0.5, 0.6, 0.7, 0.8, 0.9, 1. ]),\n",
       " <a list of 10 Patch objects>)"
      ]
     },
     "execution_count": 48,
     "metadata": {},
     "output_type": "execute_result"
    },
    {
     "data": {
      "image/png": "[encoded data removed]",
      "text/plain": [
       "<Figure size 432x288 with 1 Axes>"
      ]
     },
     "metadata": {
      "needs_background": "light"
     },
     "output_type": "display_data"
    }
   ],
   "source": [
    "plt.hist(train_data[\"RESPONSE\"])"
   ]
  },
  {
   "cell_type": "code",
   "execution_count": 51,
   "metadata": {},
   "outputs": [
    {
     "data": {
      "text/plain": [
       "0.01238620753882331"
      ]
     },
     "execution_count": 51,
     "metadata": {},
     "output_type": "execute_result"
    }
   ],
   "source": [
    "len(train_data[train_data[\"RESPONSE\"]==1]) / len(train_data)"
   ]
  },
  {
   "cell_type": "code",
   "execution_count": 44,
   "metadata": {},
   "outputs": [
    {
     "data": {
      "text/plain": [
       "RandomForestClassifier(bootstrap=True, ccp_alpha=0.0, class_weight=None,\n",
       "                       criterion='gini', max_depth=None, max_features='auto',\n",
       "                       max_leaf_nodes=None, max_samples=None,\n",
       "                       min_impurity_decrease=0.0, min_impurity_split=None,\n",
       "                       min_samples_leaf=1, min_samples_split=2,\n",
       "                       min_weight_fraction_leaf=0.0, n_estimators=100,\n",
       "                       n_jobs=None, oob_score=True, random_state=None,\n",
       "                       verbose=0, warm_start=False)"
      ]
     },
     "execution_count": 44,
     "metadata": {},
     "output_type": "execute_result"
    }
   ],
   "source": [
    "# Implementing random forest for dimensionality reduction since using PCA does not give accurate results\n",
    "\n",
    "# Importing the random forest model from scikit learn\n",
    "from sklearn.ensemble import RandomForestClassifier\n",
    "\n",
    "# Creating the random forest model\n",
    "rf_classifier = RandomForestClassifier(oob_score=True)\n",
    "\n",
    "# Creating a feature matrix and label vector from the train data\n",
    "X_train = train_data.loc[:, train_data.columns != 'RESPONSE']\n",
    "y_train = train_data['RESPONSE']\n",
    "\n",
    "# Training the model using the train_data\n",
    "rf_classifier.fit(X_train, y_train)"
   ]
  },
  {
   "cell_type": "code",
   "execution_count": 45,
   "metadata": {},
   "outputs": [
    {
     "name": "stdout",
     "output_type": "stream",
     "text": [
      "[0.00029296 0.00031663 0.00032947 0.00033262 0.00043197 0.00045262\n",
      " 0.00049297 0.00057856 0.00059319 0.00065086 0.00066503 0.00066946\n",
      " 0.00069619 0.00074469 0.00075388 0.0007853  0.00080694 0.00084449\n",
      " 0.00087563 0.00087575 0.00093133 0.00096368 0.00096395 0.00099569\n",
      " 0.00100593 0.00101053 0.0010488  0.00106299 0.001064   0.00106498\n",
      " 0.00107823 0.00110422 0.00112748 0.00113597 0.00116838 0.00118603\n",
      " 0.00120238 0.00121448 0.0012226  0.00126114 0.0012783  0.00129975\n",
      " 0.00134959 0.00139113 0.00145599 0.00145646 0.00147634 0.00149205\n",
      " 0.00150406 0.00154759 0.00154932 0.00155827 0.00157932 0.00158852\n",
      " 0.00161055 0.0016311  0.0016373  0.00165598 0.00166496 0.0016866\n",
      " 0.00170722 0.00171519 0.00172157 0.00175582 0.00175905 0.00176357\n",
      " 0.00176772 0.00177116 0.00177786 0.00178517 0.00181647 0.00181827\n",
      " 0.0018196  0.00182506 0.00188358 0.00190112 0.00190144 0.00191353\n",
      " 0.0019344  0.00194946 0.00195729 0.00196511 0.00200724 0.00200909\n",
      " 0.00202485 0.00207048 0.00208154 0.00209333 0.00210215 0.00210367\n",
      " 0.00210418 0.00210683 0.0021127  0.00212062 0.00212304 0.00213975\n",
      " 0.00215093 0.00218711 0.00222456 0.00226063 0.00227511 0.00227645\n",
      " 0.00228269 0.00229567 0.00230078 0.00231494 0.00233094 0.00234571\n",
      " 0.00235254 0.00236156 0.00237043 0.00237806 0.00238363 0.00239291\n",
      " 0.0024208  0.00243405 0.00244721 0.00244942 0.00245684 0.00245733\n",
      " 0.00246926 0.00246942 0.00247827 0.00249036 0.00249105 0.00249228\n",
      " 0.00250368 0.00251858 0.00252187 0.0025327  0.00254132 0.00254367\n",
      " 0.00254963 0.00255168 0.00255664 0.00256222 0.0025712  0.00257337\n",
      " 0.00257515 0.00257518 0.00259023 0.00259469 0.00260055 0.00261549\n",
      " 0.00261862 0.00262639 0.00263061 0.00263102 0.00264025 0.00265654\n",
      " 0.0026706  0.00267073 0.00268105 0.00268504 0.00268543 0.00268944\n",
      " 0.0026925  0.00269556 0.00269572 0.0027129  0.00271451 0.00271992\n",
      " 0.00273375 0.00274303 0.00274311 0.00274974 0.00274979 0.00275388\n",
      " 0.0027542  0.00275466 0.00276611 0.00276658 0.00276876 0.0027703\n",
      " 0.00277051 0.00277874 0.00278313 0.00278755 0.00279102 0.00279559\n",
      " 0.00280329 0.00281273 0.00281318 0.00281899 0.00282178 0.00282673\n",
      " 0.00283025 0.00283653 0.00283754 0.00283859 0.0028396  0.00284438\n",
      " 0.00285296 0.00286573 0.00287026 0.00287226 0.00287418 0.00288277\n",
      " 0.00288403 0.00288611 0.00288866 0.0028896  0.00289305 0.00289332\n",
      " 0.002895   0.002905   0.00291105 0.002926   0.00292944 0.00293779\n",
      " 0.00294553 0.00295725 0.00295893 0.00296234 0.00296692 0.00298838\n",
      " 0.00299288 0.00299309 0.00301187 0.00301453 0.00301756 0.00302389\n",
      " 0.00303227 0.0030328  0.00303595 0.003042   0.0030489  0.0030494\n",
      " 0.0030572  0.00306233 0.00307212 0.00309473 0.00310638 0.00311361\n",
      " 0.00311846 0.00312501 0.00312972 0.00313268 0.00313422 0.00313591\n",
      " 0.00314388 0.0031479  0.00315058 0.00315099 0.00315754 0.00316385\n",
      " 0.0031824  0.00319567 0.00320446 0.00320689 0.00320766 0.00320913\n",
      " 0.00321714 0.0032218  0.00322788 0.00323199 0.0032487  0.00324951\n",
      " 0.00325656 0.00326651 0.00326982 0.00327778 0.00328286 0.00328936\n",
      " 0.00330807 0.00333747 0.00333934 0.00334336 0.00334669 0.00334676\n",
      " 0.0033486  0.00335506 0.00336399 0.00338431 0.00338816 0.00340031\n",
      " 0.00340038 0.0034005  0.00340911 0.00343189 0.00346319 0.00347147\n",
      " 0.00347566 0.00349033 0.00349428 0.00350301 0.00351199 0.00352143\n",
      " 0.00352556 0.00355062 0.00355586 0.00356128 0.00357678 0.00357958\n",
      " 0.00360133 0.00361777 0.00362752 0.00362781 0.00363882 0.00364806\n",
      " 0.00365413 0.00365742 0.00366166 0.00370163 0.0037018  0.0037384\n",
      " 0.00374144 0.0037632  0.00378893 0.00384143 0.00384734 0.00385025\n",
      " 0.00385565 0.00386105 0.00387187 0.00391031 0.0039105  0.00393118\n",
      " 0.00393698 0.00396408 0.00400185 0.00403436 0.00404041 0.00406414\n",
      " 0.00409266 0.00413317 0.00416028 0.0042194  0.00429734 0.00431087\n",
      " 0.00432759 0.00434477 0.0043508  0.00435885 0.00438841 0.00442124\n",
      " 0.0044343  0.00449499 0.00461047 0.00484554 0.00486004 0.00486686\n",
      " 0.00488306 0.00492882 0.00496127 0.00497658 0.00499801 0.00524402\n",
      " 0.00540129 0.00563807 0.00569478 0.00592871 0.00609214 0.00658733\n",
      " 0.00709636 0.00805721 0.00966103 0.00973846]\n"
     ]
    }
   ],
   "source": [
    "feature_importances = rf_classifier.feature_importances_\n",
    "feature_importances.sort()\n",
    "print(feature_importances)"
   ]
  },
  {
   "cell_type": "code",
   "execution_count": 46,
   "metadata": {},
   "outputs": [
    {
     "name": "stdout",
     "output_type": "stream",
     "text": [
      "0.9875905101161789\n"
     ]
    }
   ],
   "source": [
    "print(rf_classifier.oob_score_)"
   ]
  },
  {
   "cell_type": "code",
   "execution_count": 31,
   "metadata": {},
   "outputs": [
    {
     "data": {
      "text/plain": [
       "0        0\n",
       "1        0\n",
       "2        0\n",
       "3        0\n",
       "4        0\n",
       "        ..\n",
       "42946    0\n",
       "42947    0\n",
       "42948    0\n",
       "42949    0\n",
       "42950    0\n",
       "Name: RESPONSE, Length: 42951, dtype: int64"
      ]
     },
     "execution_count": 31,
     "metadata": {},
     "output_type": "execute_result"
    }
   ],
   "source": [
    "train_data['RESPONSE']"
   ]
  },
  {
   "cell_type": "code",
   "execution_count": 36,
   "metadata": {},
   "outputs": [
    {
     "data": {
      "text/plain": [
       "(42951, 358)"
      ]
     },
     "execution_count": 36,
     "metadata": {},
     "output_type": "execute_result"
    }
   ],
   "source": [
    "X_train.shape"
   ]
  },
  {
   "cell_type": "code",
   "execution_count": 46,
   "metadata": {},
   "outputs": [],
   "source": [
    "# Test\n",
    "X_test = test_data.loc[:, test_data.columns != 'RESPONSE']\n",
    "\n"
   ]
  },
  {
   "cell_type": "code",
   "execution_count": 39,
   "metadata": {},
   "outputs": [],
   "source": [
    "y_pred = rf_classifier.predict(X_train)"
   ]
  },
  {
   "cell_type": "code",
   "execution_count": 40,
   "metadata": {},
   "outputs": [
    {
     "name": "stdout",
     "output_type": "stream",
     "text": [
      "0.998463365230146\n"
     ]
    }
   ],
   "source": [
    "from sklearn.metrics import accuracy_score\n",
    "print(accuracy_score(y_train, y_pred))"
   ]
  },
  {
   "cell_type": "code",
   "execution_count": 49,
   "metadata": {},
   "outputs": [
    {
     "ename": "NameError",
     "evalue": "name 'accuracy_score' is not defined",
     "output_type": "error",
     "traceback": [
      "\u001b[0;31m---------------------------------------------------------------------------\u001b[0m",
      "\u001b[0;31mNameError\u001b[0m                                 Traceback (most recent call last)",
      "\u001b[0;32m<ipython-input-49-9c100d963bb9>\u001b[0m in \u001b[0;36m<module>\u001b[0;34m\u001b[0m\n\u001b[0;32m----> 1\u001b[0;31m \u001b[0mprint\u001b[0m\u001b[0;34m(\u001b[0m\u001b[0maccuracy_score\u001b[0m\u001b[0;34m(\u001b[0m\u001b[0my_train\u001b[0m\u001b[0;34m,\u001b[0m \u001b[0mrf_classifier\u001b[0m\u001b[0;34m.\u001b[0m\u001b[0mclasses_\u001b[0m\u001b[0;34m)\u001b[0m\u001b[0;34m)\u001b[0m\u001b[0;34m\u001b[0m\u001b[0;34m\u001b[0m\u001b[0m\n\u001b[0m",
      "\u001b[0;31mNameError\u001b[0m: name 'accuracy_score' is not defined"
     ]
    }
   ],
   "source": [
    "print(accuracy_score(y_train, rf_classifier.classes_))"
   ]
  },
  {
   "cell_type": "code",
   "execution_count": 47,
   "metadata": {},
   "outputs": [],
   "source": [
    "y_pred_2 = rf_classifier.predict(X_test)"
   ]
  },
  {
   "cell_type": "code",
   "execution_count": 48,
   "metadata": {},
   "outputs": [
    {
     "ename": "NameError",
     "evalue": "name 'X_train' is not defined",
     "output_type": "error",
     "traceback": [
      "\u001b[0;31m---------------------------------------------------------------------------\u001b[0m",
      "\u001b[0;31mNameError\u001b[0m                                 Traceback (most recent call last)",
      "\u001b[0;32m<ipython-input-48-0ff8777b8c55>\u001b[0m in \u001b[0;36m<module>\u001b[0;34m\u001b[0m\n\u001b[1;32m      1\u001b[0m \u001b[0;32mfrom\u001b[0m \u001b[0msklearn\u001b[0m\u001b[0;34m.\u001b[0m\u001b[0mmodel_selection\u001b[0m \u001b[0;32mimport\u001b[0m \u001b[0mtrain_test_split\u001b[0m\u001b[0;34m\u001b[0m\u001b[0;34m\u001b[0m\u001b[0m\n\u001b[0;32m----> 2\u001b[0;31m \u001b[0mx1\u001b[0m\u001b[0;34m,\u001b[0m \u001b[0mx2\u001b[0m\u001b[0;34m,\u001b[0m \u001b[0my1\u001b[0m\u001b[0;34m,\u001b[0m \u001b[0my2\u001b[0m \u001b[0;34m=\u001b[0m \u001b[0mtrain_test_split\u001b[0m\u001b[0;34m(\u001b[0m\u001b[0mX_train\u001b[0m\u001b[0;34m,\u001b[0m \u001b[0my_train\u001b[0m\u001b[0;34m,\u001b[0m \u001b[0mtest_size\u001b[0m\u001b[0;34m=\u001b[0m\u001b[0;36m0.1\u001b[0m\u001b[0;34m)\u001b[0m\u001b[0;34m\u001b[0m\u001b[0;34m\u001b[0m\u001b[0m\n\u001b[0m",
      "\u001b[0;31mNameError\u001b[0m: name 'X_train' is not defined"
     ]
    }
   ],
   "source": [
    "from sklearn.model_selection import train_test_split\n",
    "x1, x2, y1, y2 = train_test_split(X_train, y_train, test_size=0.1)"
   ]
  },
  {
   "cell_type": "code",
   "execution_count": null,
   "metadata": {},
   "outputs": [],
   "source": []
  }
 ],
 "metadata": {
  "kernelspec": {
   "display_name": "Python 3.7.6 64-bit ('base': conda)",
   "language": "python",
   "name": "python_defaultSpec_1595380811230"
  },
  "language_info": {
   "codemirror_mode": {
    "name": "ipython",
    "version": 3
   },
   "file_extension": ".py",
   "mimetype": "text/x-python",
   "name": "python",
   "nbconvert_exporter": "python",
   "pygments_lexer": "ipython3",
   "version": "3.7.6-final"
  }
 },
 "nbformat": 4,
 "nbformat_minor": 2
}