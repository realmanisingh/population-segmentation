{
 "cells": [
  {
   "cell_type": "code",
   "execution_count": 1,
   "metadata": {},
   "outputs": [],
   "source": [
    "import pandas as pd\n",
    "import numpy as np\n",
    "import matplotlib.pyplot as plt\n",
    "import seaborn as sns"
   ]
  },
  {
   "cell_type": "code",
   "execution_count": 2,
   "metadata": {},
   "outputs": [],
   "source": [
    "# Reading in the data\n",
    "general_data = pd.read_csv(\"../population-segmentation-data/general_data.csv\", sep=\";\")\n",
    "customer_data = pd.read_csv(\"../population-segmentation-data/customer_data.csv\", sep=\";\")\n",
    "train_data = pd.read_csv(\"../population-segmentation-data/train_data.csv\", sep=\";\")\n",
    "test_data = pd.read_csv(\"../population-segmentation-data/test_data.csv\", sep=\";\")"
   ]
  },
  {
   "cell_type": "code",
   "execution_count": 3,
   "metadata": {},
   "outputs": [
    {
     "data": {
      "text/html": [
       "<div>\n",
       "<style scoped>\n",
       "    .dataframe tbody tr th:only-of-type {\n",
       "        vertical-align: middle;\n",
       "    }\n",
       "\n",
       "    .dataframe tbody tr th {\n",
       "        vertical-align: top;\n",
       "    }\n",
       "\n",
       "    .dataframe thead th {\n",
       "        text-align: right;\n",
       "    }\n",
       "</style>\n",
       "<table border=\"1\" class=\"dataframe\">\n",
       "  <thead>\n",
       "    <tr style=\"text-align: right;\">\n",
       "      <th></th>\n",
       "      <th>Unnamed: 0</th>\n",
       "      <th>AGER_TYP</th>\n",
       "      <th>AKT_DAT_KL</th>\n",
       "      <th>ALTER_HH</th>\n",
       "      <th>ALTERSKATEGORIE_FEIN</th>\n",
       "      <th>ANZ_HAUSHALTE_AKTIV</th>\n",
       "      <th>ANZ_HH_TITEL</th>\n",
       "      <th>ANZ_KINDER</th>\n",
       "      <th>ANZ_PERSONEN</th>\n",
       "      <th>ANZ_STATISTISCHE_HAUSHALTE</th>\n",
       "      <th>...</th>\n",
       "      <th>WOHNLAGE</th>\n",
       "      <th>ZABEOTYP</th>\n",
       "      <th>ONLINE_PURCHASE</th>\n",
       "      <th>ANREDE_KZ</th>\n",
       "      <th>ALTERSKATEGORIE_GROB</th>\n",
       "      <th>SINGLE_BUYER</th>\n",
       "      <th>MULTI_BUYER</th>\n",
       "      <th>COSMETIC_AND_FOOD</th>\n",
       "      <th>COSMETIC</th>\n",
       "      <th>FOOD</th>\n",
       "    </tr>\n",
       "  </thead>\n",
       "  <tbody>\n",
       "    <tr>\n",
       "      <th>0</th>\n",
       "      <td>0</td>\n",
       "      <td>2</td>\n",
       "      <td>1.0</td>\n",
       "      <td>10.0</td>\n",
       "      <td>10.0</td>\n",
       "      <td>1.0</td>\n",
       "      <td>0.0</td>\n",
       "      <td>0.0</td>\n",
       "      <td>2.0</td>\n",
       "      <td>1.0</td>\n",
       "      <td>...</td>\n",
       "      <td>7.0</td>\n",
       "      <td>3</td>\n",
       "      <td>0</td>\n",
       "      <td>1</td>\n",
       "      <td>4</td>\n",
       "      <td>0</td>\n",
       "      <td>1</td>\n",
       "      <td>1</td>\n",
       "      <td>0</td>\n",
       "      <td>0</td>\n",
       "    </tr>\n",
       "    <tr>\n",
       "      <th>1</th>\n",
       "      <td>1</td>\n",
       "      <td>-1</td>\n",
       "      <td>9.0</td>\n",
       "      <td>11.0</td>\n",
       "      <td>-1.0</td>\n",
       "      <td>-1.0</td>\n",
       "      <td>-1.0</td>\n",
       "      <td>0.0</td>\n",
       "      <td>3.0</td>\n",
       "      <td>-1.0</td>\n",
       "      <td>...</td>\n",
       "      <td>-1.0</td>\n",
       "      <td>3</td>\n",
       "      <td>0</td>\n",
       "      <td>1</td>\n",
       "      <td>4</td>\n",
       "      <td>1</td>\n",
       "      <td>0</td>\n",
       "      <td>0</td>\n",
       "      <td>0</td>\n",
       "      <td>1</td>\n",
       "    </tr>\n",
       "    <tr>\n",
       "      <th>2</th>\n",
       "      <td>2</td>\n",
       "      <td>-1</td>\n",
       "      <td>1.0</td>\n",
       "      <td>6.0</td>\n",
       "      <td>0.0</td>\n",
       "      <td>1.0</td>\n",
       "      <td>0.0</td>\n",
       "      <td>0.0</td>\n",
       "      <td>1.0</td>\n",
       "      <td>1.0</td>\n",
       "      <td>...</td>\n",
       "      <td>2.0</td>\n",
       "      <td>3</td>\n",
       "      <td>0</td>\n",
       "      <td>2</td>\n",
       "      <td>4</td>\n",
       "      <td>0</td>\n",
       "      <td>1</td>\n",
       "      <td>1</td>\n",
       "      <td>0</td>\n",
       "      <td>0</td>\n",
       "    </tr>\n",
       "    <tr>\n",
       "      <th>3</th>\n",
       "      <td>3</td>\n",
       "      <td>1</td>\n",
       "      <td>1.0</td>\n",
       "      <td>8.0</td>\n",
       "      <td>8.0</td>\n",
       "      <td>0.0</td>\n",
       "      <td>-1.0</td>\n",
       "      <td>0.0</td>\n",
       "      <td>0.0</td>\n",
       "      <td>1.0</td>\n",
       "      <td>...</td>\n",
       "      <td>7.0</td>\n",
       "      <td>1</td>\n",
       "      <td>0</td>\n",
       "      <td>1</td>\n",
       "      <td>4</td>\n",
       "      <td>0</td>\n",
       "      <td>1</td>\n",
       "      <td>0</td>\n",
       "      <td>1</td>\n",
       "      <td>0</td>\n",
       "    </tr>\n",
       "    <tr>\n",
       "      <th>4</th>\n",
       "      <td>4</td>\n",
       "      <td>-1</td>\n",
       "      <td>1.0</td>\n",
       "      <td>20.0</td>\n",
       "      <td>14.0</td>\n",
       "      <td>7.0</td>\n",
       "      <td>0.0</td>\n",
       "      <td>0.0</td>\n",
       "      <td>4.0</td>\n",
       "      <td>7.0</td>\n",
       "      <td>...</td>\n",
       "      <td>3.0</td>\n",
       "      <td>1</td>\n",
       "      <td>0</td>\n",
       "      <td>1</td>\n",
       "      <td>3</td>\n",
       "      <td>0</td>\n",
       "      <td>1</td>\n",
       "      <td>0</td>\n",
       "      <td>0</td>\n",
       "      <td>1</td>\n",
       "    </tr>\n",
       "  </tbody>\n",
       "</table>\n",
       "<p>5 rows × 365 columns</p>\n",
       "</div>"
      ],
      "text/plain": [
       "   Unnamed: 0  AGER_TYP  AKT_DAT_KL  ALTER_HH  ALTERSKATEGORIE_FEIN  \\\n",
       "0           0         2         1.0      10.0                  10.0   \n",
       "1           1        -1         9.0      11.0                  -1.0   \n",
       "2           2        -1         1.0       6.0                   0.0   \n",
       "3           3         1         1.0       8.0                   8.0   \n",
       "4           4        -1         1.0      20.0                  14.0   \n",
       "\n",
       "   ANZ_HAUSHALTE_AKTIV  ANZ_HH_TITEL  ANZ_KINDER  ANZ_PERSONEN  \\\n",
       "0                  1.0           0.0         0.0           2.0   \n",
       "1                 -1.0          -1.0         0.0           3.0   \n",
       "2                  1.0           0.0         0.0           1.0   \n",
       "3                  0.0          -1.0         0.0           0.0   \n",
       "4                  7.0           0.0         0.0           4.0   \n",
       "\n",
       "   ANZ_STATISTISCHE_HAUSHALTE  ...  WOHNLAGE  ZABEOTYP  ONLINE_PURCHASE  \\\n",
       "0                         1.0  ...       7.0         3                0   \n",
       "1                        -1.0  ...      -1.0         3                0   \n",
       "2                         1.0  ...       2.0         3                0   \n",
       "3                         1.0  ...       7.0         1                0   \n",
       "4                         7.0  ...       3.0         1                0   \n",
       "\n",
       "   ANREDE_KZ  ALTERSKATEGORIE_GROB  SINGLE_BUYER  MULTI_BUYER  \\\n",
       "0          1                     4             0            1   \n",
       "1          1                     4             1            0   \n",
       "2          2                     4             0            1   \n",
       "3          1                     4             0            1   \n",
       "4          1                     3             0            1   \n",
       "\n",
       "   COSMETIC_AND_FOOD  COSMETIC  FOOD  \n",
       "0                  1         0     0  \n",
       "1                  0         0     1  \n",
       "2                  1         0     0  \n",
       "3                  0         1     0  \n",
       "4                  0         0     1  \n",
       "\n",
       "[5 rows x 365 columns]"
      ]
     },
     "execution_count": 3,
     "metadata": {},
     "output_type": "execute_result"
    }
   ],
   "source": [
    "customer_data.head()"
   ]
  },
  {
   "cell_type": "code",
   "execution_count": 4,
   "metadata": {},
   "outputs": [
    {
     "name": "stdout",
     "output_type": "stream",
     "text": [
      "Unnamed: 0\n"
     ]
    }
   ],
   "source": [
    "# Getting the name of the extra column\n",
    "extra_col = list(general_data.columns)[0]\n",
    "print(extra_col)\n",
    "\n",
    "# Removing the extra column in every dataframe since it is redundant\n",
    "general_data.drop(extra_col, axis=1, inplace=True)\n",
    "customer_data.drop(extra_col, axis=1, inplace=True)\n",
    "train_data.drop(extra_col, axis=1, inplace=True)\n",
    "test_data.drop(extra_col, axis=1, inplace=True)"
   ]
  },
  {
   "cell_type": "code",
   "execution_count": 5,
   "metadata": {},
   "outputs": [
    {
     "data": {
      "text/html": [
       "<div>\n",
       "<style scoped>\n",
       "    .dataframe tbody tr th:only-of-type {\n",
       "        vertical-align: middle;\n",
       "    }\n",
       "\n",
       "    .dataframe tbody tr th {\n",
       "        vertical-align: top;\n",
       "    }\n",
       "\n",
       "    .dataframe thead th {\n",
       "        text-align: right;\n",
       "    }\n",
       "</style>\n",
       "<table border=\"1\" class=\"dataframe\">\n",
       "  <thead>\n",
       "    <tr style=\"text-align: right;\">\n",
       "      <th></th>\n",
       "      <th>AGER_TYP</th>\n",
       "      <th>AKT_DAT_KL</th>\n",
       "      <th>ALTER_HH</th>\n",
       "      <th>ALTERSKATEGORIE_FEIN</th>\n",
       "      <th>ANZ_HAUSHALTE_AKTIV</th>\n",
       "      <th>ANZ_HH_TITEL</th>\n",
       "      <th>ANZ_KINDER</th>\n",
       "      <th>ANZ_PERSONEN</th>\n",
       "      <th>ANZ_STATISTISCHE_HAUSHALTE</th>\n",
       "      <th>ANZ_TITEL</th>\n",
       "      <th>...</th>\n",
       "      <th>WOHNLAGE</th>\n",
       "      <th>ZABEOTYP</th>\n",
       "      <th>ONLINE_PURCHASE</th>\n",
       "      <th>ANREDE_KZ</th>\n",
       "      <th>ALTERSKATEGORIE_GROB</th>\n",
       "      <th>SINGLE_BUYER</th>\n",
       "      <th>MULTI_BUYER</th>\n",
       "      <th>COSMETIC_AND_FOOD</th>\n",
       "      <th>COSMETIC</th>\n",
       "      <th>FOOD</th>\n",
       "    </tr>\n",
       "  </thead>\n",
       "  <tbody>\n",
       "    <tr>\n",
       "      <th>0</th>\n",
       "      <td>2</td>\n",
       "      <td>1.0</td>\n",
       "      <td>10.0</td>\n",
       "      <td>10.0</td>\n",
       "      <td>1.0</td>\n",
       "      <td>0.0</td>\n",
       "      <td>0.0</td>\n",
       "      <td>2.0</td>\n",
       "      <td>1.0</td>\n",
       "      <td>0.0</td>\n",
       "      <td>...</td>\n",
       "      <td>7.0</td>\n",
       "      <td>3</td>\n",
       "      <td>0</td>\n",
       "      <td>1</td>\n",
       "      <td>4</td>\n",
       "      <td>0</td>\n",
       "      <td>1</td>\n",
       "      <td>1</td>\n",
       "      <td>0</td>\n",
       "      <td>0</td>\n",
       "    </tr>\n",
       "    <tr>\n",
       "      <th>1</th>\n",
       "      <td>-1</td>\n",
       "      <td>9.0</td>\n",
       "      <td>11.0</td>\n",
       "      <td>-1.0</td>\n",
       "      <td>-1.0</td>\n",
       "      <td>-1.0</td>\n",
       "      <td>0.0</td>\n",
       "      <td>3.0</td>\n",
       "      <td>-1.0</td>\n",
       "      <td>0.0</td>\n",
       "      <td>...</td>\n",
       "      <td>-1.0</td>\n",
       "      <td>3</td>\n",
       "      <td>0</td>\n",
       "      <td>1</td>\n",
       "      <td>4</td>\n",
       "      <td>1</td>\n",
       "      <td>0</td>\n",
       "      <td>0</td>\n",
       "      <td>0</td>\n",
       "      <td>1</td>\n",
       "    </tr>\n",
       "    <tr>\n",
       "      <th>2</th>\n",
       "      <td>-1</td>\n",
       "      <td>1.0</td>\n",
       "      <td>6.0</td>\n",
       "      <td>0.0</td>\n",
       "      <td>1.0</td>\n",
       "      <td>0.0</td>\n",
       "      <td>0.0</td>\n",
       "      <td>1.0</td>\n",
       "      <td>1.0</td>\n",
       "      <td>0.0</td>\n",
       "      <td>...</td>\n",
       "      <td>2.0</td>\n",
       "      <td>3</td>\n",
       "      <td>0</td>\n",
       "      <td>2</td>\n",
       "      <td>4</td>\n",
       "      <td>0</td>\n",
       "      <td>1</td>\n",
       "      <td>1</td>\n",
       "      <td>0</td>\n",
       "      <td>0</td>\n",
       "    </tr>\n",
       "    <tr>\n",
       "      <th>3</th>\n",
       "      <td>1</td>\n",
       "      <td>1.0</td>\n",
       "      <td>8.0</td>\n",
       "      <td>8.0</td>\n",
       "      <td>0.0</td>\n",
       "      <td>-1.0</td>\n",
       "      <td>0.0</td>\n",
       "      <td>0.0</td>\n",
       "      <td>1.0</td>\n",
       "      <td>0.0</td>\n",
       "      <td>...</td>\n",
       "      <td>7.0</td>\n",
       "      <td>1</td>\n",
       "      <td>0</td>\n",
       "      <td>1</td>\n",
       "      <td>4</td>\n",
       "      <td>0</td>\n",
       "      <td>1</td>\n",
       "      <td>0</td>\n",
       "      <td>1</td>\n",
       "      <td>0</td>\n",
       "    </tr>\n",
       "    <tr>\n",
       "      <th>4</th>\n",
       "      <td>-1</td>\n",
       "      <td>1.0</td>\n",
       "      <td>20.0</td>\n",
       "      <td>14.0</td>\n",
       "      <td>7.0</td>\n",
       "      <td>0.0</td>\n",
       "      <td>0.0</td>\n",
       "      <td>4.0</td>\n",
       "      <td>7.0</td>\n",
       "      <td>0.0</td>\n",
       "      <td>...</td>\n",
       "      <td>3.0</td>\n",
       "      <td>1</td>\n",
       "      <td>0</td>\n",
       "      <td>1</td>\n",
       "      <td>3</td>\n",
       "      <td>0</td>\n",
       "      <td>1</td>\n",
       "      <td>0</td>\n",
       "      <td>0</td>\n",
       "      <td>1</td>\n",
       "    </tr>\n",
       "  </tbody>\n",
       "</table>\n",
       "<p>5 rows × 364 columns</p>\n",
       "</div>"
      ],
      "text/plain": [
       "   AGER_TYP  AKT_DAT_KL  ALTER_HH  ALTERSKATEGORIE_FEIN  ANZ_HAUSHALTE_AKTIV  \\\n",
       "0         2         1.0      10.0                  10.0                  1.0   \n",
       "1        -1         9.0      11.0                  -1.0                 -1.0   \n",
       "2        -1         1.0       6.0                   0.0                  1.0   \n",
       "3         1         1.0       8.0                   8.0                  0.0   \n",
       "4        -1         1.0      20.0                  14.0                  7.0   \n",
       "\n",
       "   ANZ_HH_TITEL  ANZ_KINDER  ANZ_PERSONEN  ANZ_STATISTISCHE_HAUSHALTE  \\\n",
       "0           0.0         0.0           2.0                         1.0   \n",
       "1          -1.0         0.0           3.0                        -1.0   \n",
       "2           0.0         0.0           1.0                         1.0   \n",
       "3          -1.0         0.0           0.0                         1.0   \n",
       "4           0.0         0.0           4.0                         7.0   \n",
       "\n",
       "   ANZ_TITEL  ...  WOHNLAGE  ZABEOTYP  ONLINE_PURCHASE  ANREDE_KZ  \\\n",
       "0        0.0  ...       7.0         3                0          1   \n",
       "1        0.0  ...      -1.0         3                0          1   \n",
       "2        0.0  ...       2.0         3                0          2   \n",
       "3        0.0  ...       7.0         1                0          1   \n",
       "4        0.0  ...       3.0         1                0          1   \n",
       "\n",
       "   ALTERSKATEGORIE_GROB  SINGLE_BUYER  MULTI_BUYER  COSMETIC_AND_FOOD  \\\n",
       "0                     4             0            1                  1   \n",
       "1                     4             1            0                  0   \n",
       "2                     4             0            1                  1   \n",
       "3                     4             0            1                  0   \n",
       "4                     3             0            1                  0   \n",
       "\n",
       "   COSMETIC  FOOD  \n",
       "0         0     0  \n",
       "1         0     1  \n",
       "2         0     0  \n",
       "3         1     0  \n",
       "4         0     1  \n",
       "\n",
       "[5 rows x 364 columns]"
      ]
     },
     "execution_count": 5,
     "metadata": {},
     "output_type": "execute_result"
    }
   ],
   "source": [
    "customer_data.head()"
   ]
  },
  {
   "cell_type": "code",
   "execution_count": 6,
   "metadata": {},
   "outputs": [],
   "source": [
    "# Normalzing the data so that every column is on a 0 to 1 scale\n",
    "\n",
    "# Importing the scaler\n",
    "from sklearn.preprocessing import MinMaxScaler\n",
    "\n",
    "# Creating the scaler\n",
    "scaler = MinMaxScaler()\n",
    "\n",
    "# Fitting the scaler to the customer data and transforming\n",
    "customer_data_scaled = scaler.fit_transform(customer_data)"
   ]
  },
  {
   "cell_type": "code",
   "execution_count": 7,
   "metadata": {},
   "outputs": [
    {
     "data": {
      "text/plain": [
       "PCA(copy=True, iterated_power='auto', n_components=363, random_state=None,\n",
       "    svd_solver='auto', tol=0.0, whiten=False)"
      ]
     },
     "execution_count": 7,
     "metadata": {},
     "output_type": "execute_result"
    }
   ],
   "source": [
    "# import the PCA class from scikit learn\n",
    "from sklearn.decomposition import PCA\n",
    "\n",
    "# Defining the maximum number of principal components to fit the model\n",
    "num_components = len(list(customer_data.columns)) - 1\n",
    "\n",
    "# Creating a PCA model\n",
    "pca = PCA(n_components=num_components)\n",
    "\n",
    "# Fitting the PCA model\n",
    "pca.fit(customer_data_scaled)"
   ]
  },
  {
   "cell_type": "code",
   "execution_count": 8,
   "metadata": {},
   "outputs": [
    {
     "name": "stdout",
     "output_type": "stream",
     "text": [
      "[5.50444166e-01 4.13043542e-02 2.44893077e-02 1.95814997e-02\n",
      " 1.68829647e-02 1.52744762e-02 1.38610803e-02 1.07930161e-02\n",
      " 9.96348166e-03 8.64273966e-03 7.85144270e-03 7.46544275e-03\n",
      " 7.25089390e-03 5.40795060e-03 5.23551043e-03 4.86095110e-03\n",
      " 4.65122892e-03 4.19547966e-03 4.01260790e-03 3.94345652e-03\n",
      " 3.82477934e-03 3.78297882e-03 3.67448924e-03 3.60491687e-03\n",
      " 3.55511107e-03 3.53368142e-03 3.46140981e-03 3.43533795e-03\n",
      " 3.32341535e-03 3.26013278e-03 3.22219077e-03 3.11569910e-03\n",
      " 3.04040447e-03 2.90129704e-03 2.75693114e-03 2.70701525e-03\n",
      " 2.63779741e-03 2.62022772e-03 2.55234215e-03 2.49869568e-03\n",
      " 2.45067666e-03 2.42886444e-03 2.36598744e-03 2.32454376e-03\n",
      " 2.29541145e-03 2.27781924e-03 2.22781028e-03 2.20845930e-03\n",
      " 2.17455567e-03 2.15014798e-03 2.11656893e-03 2.09935817e-03\n",
      " 2.07032699e-03 2.00577588e-03 1.93197990e-03 1.90023139e-03\n",
      " 1.88952641e-03 1.83282127e-03 1.81903803e-03 1.77718764e-03\n",
      " 1.74807615e-03 1.73309576e-03 1.71643709e-03 1.67482060e-03\n",
      " 1.66731654e-03 1.64791403e-03 1.63466037e-03 1.60972485e-03\n",
      " 1.58411388e-03 1.56329906e-03 1.54637748e-03 1.54449797e-03\n",
      " 1.51888448e-03 1.48984003e-03 1.48119606e-03 1.45396323e-03\n",
      " 1.42909060e-03 1.37980178e-03 1.35818634e-03 1.34462615e-03\n",
      " 1.32540070e-03 1.31054414e-03 1.30048488e-03 1.28402287e-03\n",
      " 1.26604425e-03 1.24063087e-03 1.22909490e-03 1.22244979e-03\n",
      " 1.19158577e-03 1.18734540e-03 1.16641348e-03 1.15366135e-03\n",
      " 1.14229902e-03 1.12830056e-03 1.10648731e-03 1.09772312e-03\n",
      " 1.08652095e-03 1.05894766e-03 1.03431980e-03 1.02336869e-03\n",
      " 1.00705404e-03 9.81282978e-04 9.60440664e-04 9.57595613e-04\n",
      " 9.51554184e-04 9.43850081e-04 9.21223750e-04 9.15953948e-04\n",
      " 9.01109041e-04 8.90379031e-04 8.73649423e-04 8.65125085e-04\n",
      " 8.53996361e-04 8.45636907e-04 8.36556336e-04 8.24482275e-04\n",
      " 8.15553572e-04 8.03944615e-04 7.92926999e-04 7.80482568e-04\n",
      " 7.76795763e-04 7.62420424e-04 7.44558391e-04 7.40063755e-04\n",
      " 7.37296535e-04 7.21836073e-04 7.06385538e-04 7.01367264e-04\n",
      " 6.93266266e-04 6.86132990e-04 6.81364054e-04 6.66305501e-04\n",
      " 6.61012578e-04 6.49070964e-04 6.42352015e-04 6.24422111e-04\n",
      " 6.16961937e-04 6.11795039e-04 6.09530445e-04 5.97012211e-04\n",
      " 5.85779669e-04 5.84451518e-04 5.79121467e-04 5.61208480e-04\n",
      " 5.51358561e-04 5.46348564e-04 5.37367948e-04 5.32817423e-04\n",
      " 5.29247075e-04 5.24861095e-04 5.11152721e-04 5.03008487e-04\n",
      " 5.02373194e-04 4.96289915e-04 4.91282039e-04 4.86289105e-04\n",
      " 4.82171996e-04 4.81684580e-04 4.69324773e-04 4.58396412e-04\n",
      " 4.53510236e-04 4.47056201e-04 4.46657453e-04 4.37422483e-04\n",
      " 4.34615805e-04 4.28830006e-04 4.25872478e-04 4.24791050e-04\n",
      " 4.18668048e-04 4.13652171e-04 4.03532655e-04 4.02920497e-04\n",
      " 3.99883870e-04 3.96667225e-04 3.90376761e-04 3.87103504e-04\n",
      " 3.85631898e-04 3.76990646e-04 3.72528775e-04 3.71077924e-04\n",
      " 3.68671915e-04 3.62443988e-04 3.59964778e-04 3.49000273e-04\n",
      " 3.46928799e-04 3.43110594e-04 3.30223626e-04 3.23430755e-04\n",
      " 3.20052760e-04 3.19264442e-04 3.13074226e-04 3.09584540e-04\n",
      " 3.07686891e-04 3.05261149e-04 3.03026280e-04 2.96023321e-04\n",
      " 2.95138419e-04 2.92017636e-04 2.89640545e-04 2.87192159e-04\n",
      " 2.84955222e-04 2.82635285e-04 2.79794707e-04 2.76767670e-04\n",
      " 2.75772723e-04 2.74466060e-04 2.64313234e-04 2.60802303e-04\n",
      " 2.57463527e-04 2.51230842e-04 2.47469311e-04 2.41361438e-04\n",
      " 2.40156964e-04 2.31658143e-04 2.28414516e-04 2.27360925e-04\n",
      " 2.22408470e-04 2.21252481e-04 2.16853397e-04 2.13872005e-04\n",
      " 2.12532005e-04 2.07855669e-04 2.05930139e-04 2.02484448e-04\n",
      " 1.99304585e-04 1.97371942e-04 1.94665353e-04 1.92852800e-04\n",
      " 1.87858795e-04 1.85081403e-04 1.83200776e-04 1.79526116e-04\n",
      " 1.77856560e-04 1.74986222e-04 1.73122769e-04 1.70794825e-04\n",
      " 1.68536100e-04 1.65513515e-04 1.62926395e-04 1.58117079e-04\n",
      " 1.53431426e-04 1.52195016e-04 1.51160483e-04 1.50167696e-04\n",
      " 1.47694963e-04 1.45209348e-04 1.43987525e-04 1.42161603e-04\n",
      " 1.40206677e-04 1.38046832e-04 1.35877688e-04 1.34227634e-04\n",
      " 1.32727951e-04 1.31410374e-04 1.27916758e-04 1.26549974e-04\n",
      " 1.25136557e-04 1.21997972e-04 1.21904479e-04 1.20213822e-04\n",
      " 1.17254818e-04 1.16776761e-04 1.15801425e-04 1.12584133e-04\n",
      " 1.11029428e-04 1.09341951e-04 1.07380449e-04 1.06004082e-04\n",
      " 1.03010250e-04 1.02582218e-04 1.02421140e-04 1.01899891e-04\n",
      " 1.00816529e-04 1.00406669e-04 9.70154113e-05 9.58854930e-05\n",
      " 9.22303508e-05 8.91461902e-05 8.85148716e-05 8.58164752e-05\n",
      " 8.41108291e-05 8.36137623e-05 8.28796751e-05 7.84332959e-05\n",
      " 7.64337637e-05 7.52316333e-05 7.50396704e-05 7.44561319e-05\n",
      " 7.40107303e-05 7.30490094e-05 7.07397567e-05 6.88403129e-05\n",
      " 6.84504323e-05 6.68346616e-05 6.59481369e-05 6.55778748e-05\n",
      " 6.33002697e-05 6.02630196e-05 5.95779029e-05 5.91153717e-05\n",
      " 5.79976432e-05 5.75278818e-05 5.70749410e-05 5.64239762e-05\n",
      " 5.60503260e-05 5.51162910e-05 5.47766530e-05 5.37923710e-05\n",
      " 5.35514644e-05 5.31597612e-05 5.30217780e-05 5.25106628e-05\n",
      " 5.18443797e-05 5.13496057e-05 5.07911887e-05 5.04887076e-05\n",
      " 4.80006364e-05 4.76602557e-05 4.48664041e-05 4.26082322e-05\n",
      " 4.25126685e-05 4.15005340e-05 4.00780117e-05 3.93970704e-05\n",
      " 3.90924750e-05 3.79098311e-05 3.77592022e-05 3.65963800e-05\n",
      " 3.64743793e-05 3.50806978e-05 3.18197413e-05 2.97333137e-05\n",
      " 2.92287387e-05 2.84720825e-05 2.75882095e-05 2.71777523e-05\n",
      " 2.63823573e-05 2.47367490e-05 2.39891854e-05 2.37619564e-05\n",
      " 2.28474736e-05 2.25661581e-05 2.21013877e-05 2.20444877e-05\n",
      " 2.11561113e-05 2.02972624e-05 2.01282289e-05 1.81516157e-05\n",
      " 1.78601927e-05 1.73543796e-05 1.65400203e-05 1.60808044e-05\n",
      " 1.59897954e-05 1.55772920e-05 1.07153601e-05 8.15518090e-06\n",
      " 7.62133109e-06 6.36017357e-06 6.12485466e-06 4.27504026e-06\n",
      " 1.99724695e-07 1.08555971e-31 3.78400305e-33]\n"
     ]
    }
   ],
   "source": [
    "explained_variance_ratio = pca.explained_variance_ratio_\n",
    "print(explained_variance_ratio)"
   ]
  },
  {
   "cell_type": "code",
   "execution_count": 9,
   "metadata": {},
   "outputs": [],
   "source": [
    "def create_variance_plot(explained_var_ratio, num_components):\n",
    "    \"\"\"\n",
    "    Creates a graph that shows the explained variance as a function of the number of principal components\n",
    "    param explained_var_ratio: A list that holds the explained variance ratio for each component\n",
    "    param num_components: An integer that specifies that number of components to display in the graph\n",
    "    return: Use plt.show() to display the graph\n",
    "    \"\"\"\n",
    "    # Getting an array of the cumulative sum of explained variance ratios in order to visualize the number of components needed\n",
    "    explained_var_cumulative = np.cumsum(explained_var_ratio)\n",
    "    \n",
    "    # Creating the x-axis for the plot of the explained variance over the number of components plot\n",
    "    x_axis = [*range(1, len(explained_var_cumulative)+1)]\n",
    "    \n",
    "    # Creating the plot for the explained variance over the number of components plot\n",
    "    plt.plot(x_axis[:num_components], explained_var_cumulative[:num_components])\n",
    "    # Adding a title\n",
    "    plt.title(\"Explained Variance vs Number of Principal Components\")\n",
    "    # Adding the x-axis label\n",
    "    plt.xlabel(\"Number of Principal Components\")\n",
    "    # Adding the y-axis label\n",
    "    plt.ylabel(\"Cumulative Variance\")\n",
    "    \n",
    "    # Displaying the graph\n",
    "    plt.show()\n",
    "    \n",
    "    return explained_var_cumulative"
   ]
  },
  {
   "cell_type": "code",
   "execution_count": 10,
   "metadata": {},
   "outputs": [
    {
     "data": {
      "image/png": "[encoded data removed]",
      "text/plain": [
       "<Figure size 432x288 with 1 Axes>"
      ]
     },
     "metadata": {
      "needs_background": "light"
     },
     "output_type": "display_data"
    }
   ],
   "source": [
    "# Creating a plot for explained variance vs the number of principal components for all the components\n",
    "explained_var = create_variance_plot(explained_variance_ratio, len(explained_variance_ratio))"
   ]
  },
  {
   "cell_type": "code",
   "execution_count": 11,
   "metadata": {},
   "outputs": [
    {
     "data": {
      "image/png": "[encoded data removed]",
      "text/plain": [
       "<Figure size 432x288 with 1 Axes>"
      ]
     },
     "metadata": {
      "needs_background": "light"
     },
     "output_type": "display_data"
    }
   ],
   "source": [
    "# Creating a plot for explained variance vs the number of principal components for the first 250 components\n",
    "explained_var = create_variance_plot(explained_variance_ratio, 250)"
   ]
  },
  {
   "cell_type": "code",
   "execution_count": 12,
   "metadata": {},
   "outputs": [
    {
     "name": "stdout",
     "output_type": "stream",
     "text": [
      "0.9276566172565575\n"
     ]
    }
   ],
   "source": [
    "print(explained_var[100])"
   ]
  },
  {
   "cell_type": "code",
   "execution_count": 13,
   "metadata": {},
   "outputs": [],
   "source": [
    "# Reducing the dimensionality of the data using 100 principal components\n",
    "pca_100 = PCA(n_components=100)\n",
    "customer_data_reduced = pca_100.fit_transform(customer_data_scaled)"
   ]
  },
  {
   "cell_type": "code",
   "execution_count": 14,
   "metadata": {},
   "outputs": [
    {
     "name": "stdout",
     "output_type": "stream",
     "text": [
      "[[-2.74897068e+00 -6.83000741e-01 -1.75307252e+00 -8.73159671e-01\n",
      "   8.95727347e-04 -1.08472951e-01  3.67911038e-01 -1.31991560e-01\n",
      "  -3.27105498e-01  2.36306128e-01 -1.23448413e-01 -1.52710376e-01\n",
      "   6.91341169e-02 -3.29948004e-01  1.33043722e-01  2.38383238e-01\n",
      "  -7.97576836e-02  2.77679153e-01 -4.69732403e-02  2.87862211e-01\n",
      "  -1.96338519e-02 -3.39288270e-01  8.52572559e-01  3.84924576e-01\n",
      "  -5.62934347e-01  3.16158871e-01  4.02368787e-01  5.44303673e-02\n",
      "   6.01502177e-01 -2.46624271e-01  6.50219113e-02 -3.93281870e-01\n",
      "   3.24015136e-01 -2.73378508e-01  1.74831121e-01 -5.45636108e-03\n",
      "   2.00393431e-01 -1.31864023e-01 -3.13566609e-01 -2.81494750e-02\n",
      "   6.93498280e-02 -2.21610478e-01 -3.37480899e-01  3.60500018e-01\n",
      "  -1.01937129e-01 -1.10789733e-01 -8.40259039e-02  4.59195518e-01\n",
      "  -7.50353178e-02 -2.27071385e-01 -2.26998504e-01 -4.83144890e-01\n",
      "  -1.66777009e-01  1.09527447e-01 -7.93664738e-02  2.51915457e-01\n",
      "  -2.42097087e-02  1.48148708e-01 -1.66809934e-01 -9.81543991e-02\n",
      "   6.51569593e-02 -3.88244421e-02  1.40190096e-01 -9.59562932e-02\n",
      "   7.22748658e-02  2.39200442e-01  6.93331310e-02 -3.08497031e-01\n",
      "   3.13166086e-01  6.89348738e-02 -1.62769854e-01  4.41896411e-01\n",
      "  -2.11378413e-01 -3.41877790e-01 -1.34472594e-01  2.59058941e-01\n",
      "   1.46425719e-02  2.12328157e-02 -1.39617150e-01 -3.35277735e-03\n",
      "   2.83624359e-01 -2.51319177e-01 -1.81268607e-01  3.43717409e-02\n",
      "   1.39630895e-01  5.32439888e-02 -3.27309050e-01  1.52104857e-01\n",
      "   5.53391016e-02  3.56135533e-01  4.52042997e-02 -3.17240625e-01\n",
      "  -1.30494933e-01  2.60124233e-01 -1.03631229e-01  1.55953573e-02\n",
      "  -3.68815273e-01  1.48182212e-01 -3.43988144e-01 -2.22519095e-01]\n",
      " [ 5.52018666e+00  6.87176414e-01  4.70064448e-01 -6.30966294e-01\n",
      "   6.09526297e-01 -2.61946729e-01 -1.25204295e+00 -7.94159798e-01\n",
      "  -1.40675668e+00 -2.79827396e-01  2.86686272e+00  9.66056632e-01\n",
      "   3.52848569e-01 -3.59137722e-01  2.13555596e+00  1.53971027e+00\n",
      "   7.08394345e-01 -2.86618198e-01  1.54620893e-01  1.73254267e-01\n",
      "  -4.11281454e-01  3.54709642e-01  1.71743394e-01 -1.41165948e-02\n",
      "  -1.08963795e-01 -1.40717849e-01  2.77871644e-01 -2.66301957e-01\n",
      "  -4.09253972e-01  1.51291107e-01 -2.86848582e-01  3.49604876e-01\n",
      "   3.53117287e-01 -2.17159645e-01  3.18762183e-01  3.21029371e-02\n",
      "   5.36660565e-01  1.43677059e-01  1.49518216e-02  1.41429852e-01\n",
      "   7.63672576e-02  2.08259713e-01  6.71795568e-02 -2.78393925e-01\n",
      "  -1.90582676e-01 -5.12850174e-02 -4.28699453e-02 -5.00969913e-02\n",
      "  -2.79984573e-02  2.33890349e-02 -2.50206285e-01 -2.87790517e-01\n",
      "  -2.41087774e-01 -2.95966209e-01  6.51023460e-02  3.78033313e-01\n",
      "   2.37937774e-01  1.92648905e-01 -8.20767966e-02  1.14234797e-01\n",
      "   9.91408868e-02 -1.23113490e-03  3.48815332e-01 -1.50291902e-01\n",
      "   2.67402709e-01 -1.53721422e-01 -1.14912031e-01 -1.50226566e-01\n",
      "  -1.98724433e-02  1.75182189e-01 -1.17417059e-01  4.01060689e-03\n",
      "   3.42855428e-01  1.81583416e-01  3.59127816e-01 -2.98506300e-01\n",
      "   1.83034249e-02  9.66102202e-02 -6.16891250e-02  2.62493681e-02\n",
      "   7.24487458e-02  8.14882548e-01  2.96935502e-01  1.86761840e-01\n",
      "   2.63132250e-01  1.24680757e-01  5.43171743e-02  2.38294668e-01\n",
      "   1.36508193e-01 -1.84064696e-01 -1.41799635e-01 -2.87149085e-02\n",
      "   1.51532707e-01 -3.65660950e-02 -1.37311833e-01 -2.12944768e-01\n",
      "   2.38894914e-01 -2.15397786e-01  1.36577133e-01 -2.30119867e-01]\n",
      " [-2.35286363e+00 -2.14137761e+00 -1.72794192e-01  4.02954902e-01\n",
      "  -5.67511343e-03  9.20065928e-01  2.48020813e-01 -8.10821019e-02\n",
      "   3.08164501e-01 -2.96593536e-01 -3.11197393e-01  1.03785843e-01\n",
      "   6.73994880e-01 -1.12447332e+00  5.10361364e-01 -6.26436885e-01\n",
      "  -4.30601853e-01  9.31190101e-01  4.85191868e-01  5.95349355e-02\n",
      "   3.82460259e-01  5.46149151e-01 -3.00255914e-01 -1.34394913e-01\n",
      "  -1.14047640e-01  2.42014939e-01  1.34378809e-02  1.82411334e-01\n",
      "   4.67104853e-01  3.51027655e-01  1.44875252e-02 -3.38533116e-01\n",
      "   3.15035332e-01  4.56860632e-01  2.32712055e-01  7.82279082e-01\n",
      "   7.50146031e-02 -1.87534821e-02  1.26784461e-01 -7.50152492e-02\n",
      "   1.53520365e-02  2.98910313e-01  3.59557740e-01 -1.36938625e-01\n",
      "   1.25620693e-01 -2.79829961e-01  9.34582174e-03 -3.43782184e-01\n",
      "  -3.65839557e-01 -3.45699422e-01  3.28576525e-03  1.61808487e-01\n",
      "   2.23675417e-01  2.63946693e-01 -1.71848729e-01  1.36902431e-01\n",
      "   2.28697532e-01  6.82078279e-02 -2.32979956e-01 -1.06886256e-04\n",
      "   1.23363161e-01  2.95679144e-01  1.48393003e-01 -2.50463642e-01\n",
      "   2.65087502e-01 -2.86578327e-01 -6.95158611e-02  1.44855508e-01\n",
      "   4.98967601e-01 -2.56997741e-01 -1.43671056e-02 -4.57165986e-03\n",
      "  -7.94461245e-02  1.08114701e-01  3.62555879e-01 -1.36867439e-01\n",
      "   1.31483016e-01 -8.30490532e-02  2.03100278e-01 -1.65310642e-01\n",
      "   4.32313382e-01  3.02021108e-01 -1.76483606e-01 -3.51129728e-01\n",
      "  -1.85053243e-01  7.91815092e-03  1.27579729e-01 -2.37842174e-01\n",
      "   3.35743806e-01  9.04804738e-02 -1.46181227e-01 -6.93703829e-02\n",
      "   4.24650145e-02  1.68793930e-01  2.52445807e-01  6.12092830e-02\n",
      "   3.58911133e-01 -2.96077752e-02 -1.57556858e-01  2.99492562e-01]\n",
      " [-2.17104328e+00 -8.86343962e-01 -5.26820882e-01 -9.21360250e-01\n",
      "  -6.01013584e-01 -7.44251934e-01  1.20689281e-01  1.88865591e-01\n",
      "  -6.88357551e-01  5.21323555e-01 -5.26339202e-01  4.18612942e-01\n",
      "  -7.89731793e-01  4.99320150e-01  2.37092267e-02  3.33221413e-01\n",
      "  -4.05002979e-01 -1.84107071e-01  2.64059064e-01 -1.01179480e-01\n",
      "   2.72452272e-01  2.25748233e-01  4.39894782e-01 -1.71106698e-01\n",
      "   6.73486823e-01 -6.08301624e-02  5.34487136e-01  3.98830062e-02\n",
      "  -2.80491874e-01  8.40703646e-02  9.41127702e-02  5.36596353e-01\n",
      "   3.01911943e-02 -3.91825065e-01 -4.11633862e-01 -2.20529498e-01\n",
      "  -3.16147501e-01 -2.48342948e-01  4.30252618e-01  2.11712161e-01\n",
      "  -1.68709928e-01 -1.42220469e-01  7.63577412e-02 -3.09192906e-01\n",
      "  -5.47280515e-01  5.63528852e-02  1.06386868e-01 -1.12958338e-02\n",
      "  -4.05055512e-01  5.32426365e-01 -2.41877922e-01  2.48015254e-01\n",
      "   7.34936570e-02  6.47508205e-01  9.14227030e-02  6.82512364e-02\n",
      "   1.01744966e-01 -9.70388199e-02  2.38900954e-01  2.85667596e-01\n",
      "   2.33721197e-01  4.38332987e-02 -2.92729217e-02 -5.32513351e-01\n",
      "  -3.61846393e-02  4.13532430e-02 -2.29347794e-01  1.07291503e-01\n",
      "  -3.42233145e-01 -1.07559230e-01  2.18898530e-02 -1.47231752e-01\n",
      "   2.78056623e-01  7.80116601e-02 -6.45683620e-02  1.84043264e-01\n",
      "   3.22889657e-01 -4.58648069e-01  7.19810725e-02 -2.97332494e-01\n",
      "  -1.54616558e-01 -1.45768287e-02  9.63031818e-02  2.41986262e-01\n",
      "  -3.03375749e-01  2.05083840e-01 -5.81887158e-02  1.97548577e-01\n",
      "  -5.12291057e-01  2.63634122e-01 -3.42810230e-01  9.63672874e-02\n",
      "   3.42914261e-02  8.14871088e-02 -6.68385071e-02  1.13326137e-01\n",
      "   1.23505233e-01 -1.58684874e-01 -3.38135469e-02  1.55346047e-01]\n",
      " [-2.62392351e+00  1.50216714e+00  1.27714259e+00  1.40916097e+00\n",
      "  -3.27995145e-01 -1.30080891e+00 -4.72111102e-01  3.58336645e-01\n",
      "   4.38920213e-01 -2.29892517e-01  1.58279935e-02 -4.70858386e-01\n",
      "  -1.52399653e-01 -5.47434410e-01  9.85009192e-02  2.03041663e-01\n",
      "  -5.04747354e-01  2.69989829e-01 -4.31581305e-01 -3.59199071e-01\n",
      "  -5.04453931e-01 -6.84147425e-01  4.45862705e-02  1.78916949e-01\n",
      "   7.61485507e-01  4.49230148e-01  2.03523762e-02  1.21706248e-02\n",
      "   2.55010502e-01 -1.70471179e-01  2.19806611e-01 -6.29640811e-01\n",
      "   9.24480731e-02  2.05824222e-01  7.16764072e-01  2.56458661e-01\n",
      "   5.67784695e-01 -4.26147237e-02 -2.11495611e-01  1.01301035e-03\n",
      "   1.52699088e-02 -1.87700041e-01 -6.56950100e-01  2.00634730e-01\n",
      "   5.25711538e-01 -1.18629373e-01 -2.33528778e-01 -1.79812054e-01\n",
      "  -5.72856360e-01 -4.48457130e-01 -3.50085093e-01 -2.31797491e-01\n",
      "   3.41497456e-01  1.41116269e-01 -3.05277200e-01  9.52391206e-02\n",
      "   5.71975912e-01  3.96054728e-01 -5.26022912e-01 -6.70578710e-02\n",
      "  -4.06739149e-01  1.32172588e-01  4.24359955e-02  2.35471768e-01\n",
      "  -1.10147921e-01  1.03602715e-01  1.55080204e-01  9.39011821e-02\n",
      "   3.73750450e-01  6.32948092e-01  2.42935537e-01  2.09836446e-01\n",
      "  -4.81929778e-01 -5.83815999e-02 -2.81880094e-01 -5.22089226e-02\n",
      "  -3.05755202e-01 -1.67180980e-02 -3.26794144e-01  1.27588561e-02\n",
      "  -1.06273084e-01  1.56233795e-02 -2.00608205e-01 -2.23929048e-01\n",
      "  -8.01511224e-01 -4.10261644e-01  9.49578411e-02  3.10109354e-01\n",
      "  -3.00780720e-01  1.23502632e-01  2.93825008e-01 -1.50491016e-01\n",
      "   1.60018157e-02  1.01527819e-01 -6.83099613e-02  1.67708025e-01\n",
      "   1.21542905e-01 -1.00450126e-01 -2.34862910e-01 -1.00675792e-01]]\n"
     ]
    }
   ],
   "source": [
    "print(customer_data_reduced[:5])"
   ]
  },
  {
   "cell_type": "code",
   "execution_count": 15,
   "metadata": {},
   "outputs": [],
   "source": [
    "# Creating a dataframe that contains the correlations between a principal component and the features\n",
    "component_makeup = pd.DataFrame(pca_100.components_, columns=customer_data.columns, index=[*range(1, 101)])"
   ]
  },
  {
   "cell_type": "code",
   "execution_count": 16,
   "metadata": {},
   "outputs": [
    {
     "data": {
      "text/html": [
       "<div>\n",
       "<style scoped>\n",
       "    .dataframe tbody tr th:only-of-type {\n",
       "        vertical-align: middle;\n",
       "    }\n",
       "\n",
       "    .dataframe tbody tr th {\n",
       "        vertical-align: top;\n",
       "    }\n",
       "\n",
       "    .dataframe thead th {\n",
       "        text-align: right;\n",
       "    }\n",
       "</style>\n",
       "<table border=\"1\" class=\"dataframe\">\n",
       "  <thead>\n",
       "    <tr style=\"text-align: right;\">\n",
       "      <th></th>\n",
       "      <th>AGER_TYP</th>\n",
       "      <th>AKT_DAT_KL</th>\n",
       "      <th>ALTER_HH</th>\n",
       "      <th>ALTERSKATEGORIE_FEIN</th>\n",
       "      <th>ANZ_HAUSHALTE_AKTIV</th>\n",
       "      <th>ANZ_HH_TITEL</th>\n",
       "      <th>ANZ_KINDER</th>\n",
       "      <th>ANZ_PERSONEN</th>\n",
       "      <th>ANZ_STATISTISCHE_HAUSHALTE</th>\n",
       "      <th>ANZ_TITEL</th>\n",
       "      <th>...</th>\n",
       "      <th>WOHNLAGE</th>\n",
       "      <th>ZABEOTYP</th>\n",
       "      <th>ONLINE_PURCHASE</th>\n",
       "      <th>ANREDE_KZ</th>\n",
       "      <th>ALTERSKATEGORIE_GROB</th>\n",
       "      <th>SINGLE_BUYER</th>\n",
       "      <th>MULTI_BUYER</th>\n",
       "      <th>COSMETIC_AND_FOOD</th>\n",
       "      <th>COSMETIC</th>\n",
       "      <th>FOOD</th>\n",
       "    </tr>\n",
       "  </thead>\n",
       "  <tbody>\n",
       "    <tr>\n",
       "      <th>1</th>\n",
       "      <td>-0.044586</td>\n",
       "      <td>-0.026148</td>\n",
       "      <td>-0.057094</td>\n",
       "      <td>-0.041952</td>\n",
       "      <td>-0.001072</td>\n",
       "      <td>-0.004521</td>\n",
       "      <td>-0.012492</td>\n",
       "      <td>-0.015285</td>\n",
       "      <td>-0.001429</td>\n",
       "      <td>-0.016820</td>\n",
       "      <td>...</td>\n",
       "      <td>-0.054918</td>\n",
       "      <td>0.014415</td>\n",
       "      <td>0.001432</td>\n",
       "      <td>0.020567</td>\n",
       "      <td>-0.022343</td>\n",
       "      <td>0.005284</td>\n",
       "      <td>-0.005284</td>\n",
       "      <td>-0.004831</td>\n",
       "      <td>0.001967</td>\n",
       "      <td>0.002864</td>\n",
       "    </tr>\n",
       "    <tr>\n",
       "      <th>2</th>\n",
       "      <td>-0.018081</td>\n",
       "      <td>-0.017172</td>\n",
       "      <td>0.105949</td>\n",
       "      <td>0.052613</td>\n",
       "      <td>-0.005026</td>\n",
       "      <td>-0.001714</td>\n",
       "      <td>0.011464</td>\n",
       "      <td>0.028992</td>\n",
       "      <td>-0.006739</td>\n",
       "      <td>0.001624</td>\n",
       "      <td>...</td>\n",
       "      <td>0.012532</td>\n",
       "      <td>-0.059281</td>\n",
       "      <td>0.035009</td>\n",
       "      <td>-0.081829</td>\n",
       "      <td>-0.008442</td>\n",
       "      <td>0.061430</td>\n",
       "      <td>-0.061430</td>\n",
       "      <td>-0.067484</td>\n",
       "      <td>0.023480</td>\n",
       "      <td>0.044005</td>\n",
       "    </tr>\n",
       "    <tr>\n",
       "      <th>3</th>\n",
       "      <td>-0.050082</td>\n",
       "      <td>0.025662</td>\n",
       "      <td>0.029079</td>\n",
       "      <td>0.038009</td>\n",
       "      <td>0.004502</td>\n",
       "      <td>0.001089</td>\n",
       "      <td>0.004419</td>\n",
       "      <td>-0.005786</td>\n",
       "      <td>0.005740</td>\n",
       "      <td>-0.001056</td>\n",
       "      <td>...</td>\n",
       "      <td>0.005942</td>\n",
       "      <td>0.079637</td>\n",
       "      <td>0.035614</td>\n",
       "      <td>0.257415</td>\n",
       "      <td>-0.016591</td>\n",
       "      <td>0.353961</td>\n",
       "      <td>-0.353961</td>\n",
       "      <td>-0.364140</td>\n",
       "      <td>0.118958</td>\n",
       "      <td>0.245182</td>\n",
       "    </tr>\n",
       "    <tr>\n",
       "      <th>4</th>\n",
       "      <td>-0.031476</td>\n",
       "      <td>0.025673</td>\n",
       "      <td>0.037885</td>\n",
       "      <td>0.031912</td>\n",
       "      <td>0.005930</td>\n",
       "      <td>0.002091</td>\n",
       "      <td>0.006614</td>\n",
       "      <td>0.002151</td>\n",
       "      <td>0.007623</td>\n",
       "      <td>0.001844</td>\n",
       "      <td>...</td>\n",
       "      <td>-0.034156</td>\n",
       "      <td>0.062655</td>\n",
       "      <td>0.038975</td>\n",
       "      <td>0.110662</td>\n",
       "      <td>-0.017704</td>\n",
       "      <td>-0.357491</td>\n",
       "      <td>0.357491</td>\n",
       "      <td>0.371883</td>\n",
       "      <td>-0.148282</td>\n",
       "      <td>-0.223602</td>\n",
       "    </tr>\n",
       "    <tr>\n",
       "      <th>5</th>\n",
       "      <td>0.074601</td>\n",
       "      <td>-0.001698</td>\n",
       "      <td>-0.016877</td>\n",
       "      <td>-0.011225</td>\n",
       "      <td>0.003957</td>\n",
       "      <td>0.002672</td>\n",
       "      <td>-0.004640</td>\n",
       "      <td>0.000943</td>\n",
       "      <td>0.005174</td>\n",
       "      <td>0.003901</td>\n",
       "      <td>...</td>\n",
       "      <td>-0.140087</td>\n",
       "      <td>-0.024926</td>\n",
       "      <td>0.005656</td>\n",
       "      <td>-0.142243</td>\n",
       "      <td>0.006864</td>\n",
       "      <td>0.103524</td>\n",
       "      <td>-0.103524</td>\n",
       "      <td>-0.126744</td>\n",
       "      <td>0.121449</td>\n",
       "      <td>0.005295</td>\n",
       "    </tr>\n",
       "  </tbody>\n",
       "</table>\n",
       "<p>5 rows × 364 columns</p>\n",
       "</div>"
      ],
      "text/plain": [
       "   AGER_TYP  AKT_DAT_KL  ALTER_HH  ALTERSKATEGORIE_FEIN  ANZ_HAUSHALTE_AKTIV  \\\n",
       "1 -0.044586   -0.026148 -0.057094             -0.041952            -0.001072   \n",
       "2 -0.018081   -0.017172  0.105949              0.052613            -0.005026   \n",
       "3 -0.050082    0.025662  0.029079              0.038009             0.004502   \n",
       "4 -0.031476    0.025673  0.037885              0.031912             0.005930   \n",
       "5  0.074601   -0.001698 -0.016877             -0.011225             0.003957   \n",
       "\n",
       "   ANZ_HH_TITEL  ANZ_KINDER  ANZ_PERSONEN  ANZ_STATISTISCHE_HAUSHALTE  \\\n",
       "1     -0.004521   -0.012492     -0.015285                   -0.001429   \n",
       "2     -0.001714    0.011464      0.028992                   -0.006739   \n",
       "3      0.001089    0.004419     -0.005786                    0.005740   \n",
       "4      0.002091    0.006614      0.002151                    0.007623   \n",
       "5      0.002672   -0.004640      0.000943                    0.005174   \n",
       "\n",
       "   ANZ_TITEL  ...  WOHNLAGE  ZABEOTYP  ONLINE_PURCHASE  ANREDE_KZ  \\\n",
       "1  -0.016820  ... -0.054918  0.014415         0.001432   0.020567   \n",
       "2   0.001624  ...  0.012532 -0.059281         0.035009  -0.081829   \n",
       "3  -0.001056  ...  0.005942  0.079637         0.035614   0.257415   \n",
       "4   0.001844  ... -0.034156  0.062655         0.038975   0.110662   \n",
       "5   0.003901  ... -0.140087 -0.024926         0.005656  -0.142243   \n",
       "\n",
       "   ALTERSKATEGORIE_GROB  SINGLE_BUYER  MULTI_BUYER  COSMETIC_AND_FOOD  \\\n",
       "1             -0.022343      0.005284    -0.005284          -0.004831   \n",
       "2             -0.008442      0.061430    -0.061430          -0.067484   \n",
       "3             -0.016591      0.353961    -0.353961          -0.364140   \n",
       "4             -0.017704     -0.357491     0.357491           0.371883   \n",
       "5              0.006864      0.103524    -0.103524          -0.126744   \n",
       "\n",
       "   COSMETIC      FOOD  \n",
       "1  0.001967  0.002864  \n",
       "2  0.023480  0.044005  \n",
       "3  0.118958  0.245182  \n",
       "4 -0.148282 -0.223602  \n",
       "5  0.121449  0.005295  \n",
       "\n",
       "[5 rows x 364 columns]"
      ]
     },
     "execution_count": 16,
     "metadata": {},
     "output_type": "execute_result"
    }
   ],
   "source": [
    "component_makeup.head()"
   ]
  },
  {
   "cell_type": "code",
   "execution_count": 17,
   "metadata": {},
   "outputs": [
    {
     "data": {
      "text/plain": [
       "100"
      ]
     },
     "execution_count": 17,
     "metadata": {},
     "output_type": "execute_result"
    }
   ],
   "source": [
    "# Making sure all 100 principal components are in the dataframe\n",
    "len(component_makeup.index)"
   ]
  },
  {
   "cell_type": "code",
   "execution_count": 18,
   "metadata": {},
   "outputs": [],
   "source": [
    "# Finding the most influential features of every principal component\n",
    "\n",
    "# Dictionary that will hold the names of the most important features for every principal component\n",
    "important_features_dict = {}\n",
    "\n",
    "# Counter for the row index\n",
    "i = 1\n",
    "# Iterate through all the principal components\n",
    "for i in range(1, 101):\n",
    "    # Adding a key for the principal component\n",
    "    new_key = \"PC\" + str(i)\n",
    "    # Creating an empty list for the component\n",
    "    important_features_dict[new_key] = []\n",
    "    # Iterate through all the columns\n",
    "    for feature in component_makeup.columns:\n",
    "        # Add the name of the column and correlation coefficient if there is a strong correlation\n",
    "        if component_makeup.loc[i, feature] >= 0.2 or component_makeup.loc[i, feature] <= -0.2:\n",
    "            important_features_dict[new_key].append((feature, component_makeup.loc[i, feature]))"
   ]
  },
  {
   "cell_type": "code",
   "execution_count": 19,
   "metadata": {},
   "outputs": [
    {
     "name": "stdout",
     "output_type": "stream",
     "text": [
      "{'PC1': [], 'PC2': [('D19_GESAMT_ONLINE_QUOTE_12', 0.20151695032740602)], 'PC3': [('ANREDE_KZ', 0.2574145575956568), ('SINGLE_BUYER', 0.3539614557384421), ('MULTI_BUYER', -0.35396145573844207), ('COSMETIC_AND_FOOD', -0.364140084944719), ('FOOD', 0.24518237059189552)], 'PC4': [('SINGLE_BUYER', -0.3574913574416077), ('MULTI_BUYER', 0.3574913574416077), ('COSMETIC_AND_FOOD', 0.37188349286096295), ('FOOD', -0.22360191817813552)], 'PC5': [('GREEN_AVANTGARDE', 0.2337613404989215)], 'PC6': [('SEMIO_ERL', 0.21597830903283072), ('SEMIO_FAM', -0.21518003903782743), ('SEMIO_KULT', -0.24220199802228795), ('ANREDE_KZ', 0.4136964193902591)], 'PC7': [('ANREDE_KZ', 0.24061064303147575)], 'PC8': [], 'PC9': [('D19_GESAMT_ONLINE_QUOTE_12', -0.2011307859047984), ('LP_FAMILIE_FEIN', 0.38092757172849395), ('LP_FAMILIE_GROB', 0.3314294985579018), ('LP_LEBENSPHASE_FEIN', 0.30848737175804714), ('LP_LEBENSPHASE_GROB', 0.3280559102469748)], 'PC10': [('LP_LEBENSPHASE_FEIN', -0.2077459670055214), ('LP_LEBENSPHASE_GROB', -0.20319207519002094)], 'PC11': [('GEBURTSJAHR', 0.21423535848672134), ('COSMETIC', -0.3337666317720865), ('FOOD', 0.25489263123650446)], 'PC12': [('COSMETIC', 0.6384669303997521), ('FOOD', -0.49187786874917)], 'PC13': [('GREEN_AVANTGARDE', 0.49238607812390606), ('COSMETIC', -0.23245782043418523)], 'PC14': [('KBA13_CCM_0_1400', -0.22039903110931813), ('KBA13_CCM_1000', -0.2099652674329854), ('KBA13_CCM_1401_2500', 0.2225276267210561), ('KBA13_KMH_0_140', -0.2923285694481447), ('KBA13_KMH_140', -0.2607532528451349), ('KBA13_KW_61_120', 0.20996127961375777)], 'PC15': [('GEBURTSJAHR', -0.6903657264569686)], 'PC16': [('D19_GESAMT_OFFLINE_DATUM', -0.23076155588261305), ('D19_GESAMT_ONLINE_QUOTE_12', -0.24041285027606668), ('D19_KOSMETIK', -0.3169330686682474), ('D19_LOTTO', -0.3497681103277616), ('D19_REISEN', -0.25452825559824444), ('D19_SONSTIGE', -0.25501574878416594), ('D19_VERSAND_OFFLINE_DATUM', -0.20301862613342758), ('D19_VERSAND_ONLINE_QUOTE_12', -0.23162234577083732)], 'PC17': [('D19_TELKO_MOBILE', -0.20681536225279934), ('EXTSEL992', 0.23002980495491737)], 'PC18': [('D19_BILDUNG', 0.2853608584851834), ('D19_KOSMETIK', -0.5305829970182184), ('D19_RATGEBER', 0.21490201921148652), ('D19_REISEN', 0.5227216288438359)], 'PC19': [('AGER_TYP', -0.24382277430112895), ('D19_REISEN', -0.20734832474961323)], 'PC20': [('D19_TECHNIK', -0.43167553721243795), ('GEBURTSJAHR', -0.21611592856566123)], 'PC21': [('D19_BUCH_CD', -0.20245615926785174), ('D19_GESAMT_OFFLINE_DATUM', -0.2269976479440427), ('D19_TECHNIK', 0.2640386031957927), ('GEBURTSJAHR', -0.2629794762062593)], 'PC22': [('D19_TECHNIK', -0.23268999094680753), ('D19_VOLLSORTIMENT', -0.20781672030187243), ('KKK', -0.2008607088451972), ('REGIOTYP', -0.2386671275324332)], 'PC23': [('D19_BUCH_CD', 0.28917679746247904), ('D19_KOSMETIK', -0.26237879154933247), ('D19_REISEN', -0.4130030849936907), ('D19_TECHNIK', 0.5157849062036343), ('GEBURTSJAHR', -0.23149781090492874)], 'PC24': [('D19_HANDWERK', 0.2240523765166242), ('D19_VOLLSORTIMENT', -0.38745406525589526)], 'PC25': [('SINGLE_BUYER', -0.3830102779642645), ('MULTI_BUYER', 0.3830102779642645), ('COSMETIC_AND_FOOD', -0.47412978280330886), ('FOOD', 0.3535183708390959)], 'PC26': [('D19_HANDWERK', -0.49505522501488264), ('D19_KINDERARTIKEL', 0.2012423108614568), ('D19_KOSMETIK', 0.3672838637321696), ('D19_VOLLSORTIMENT', -0.30250358821295503)], 'PC27': [('D19_HANDWERK', -0.5522391704989201), ('D19_VOLLSORTIMENT', 0.3390215629918168)], 'PC28': [('D19_HANDWERK', -0.27557204891372317), ('D19_REISEN', -0.2242360171713459), ('D19_SAMMELARTIKEL', 0.5375261043420585), ('FINANZTYP', 0.28490920456773716)], 'PC29': [('D19_BEKLEIDUNG_REST', -0.2174306365372309), ('D19_BUCH_CD', 0.24749448119457967), ('D19_HANDWERK', 0.32179349861095863), ('D19_LOTTO', 0.2235311839576431), ('D19_SAMMELARTIKEL', 0.2673389066539387), ('D19_VOLLSORTIMENT', -0.3967026339489303)], 'PC30': [('D19_KOSMETIK', -0.3642699834602679), ('D19_LOTTO', 0.7565131254622794), ('D19_TECHNIK', -0.2730019046446139)], 'PC31': [('D19_BUCH_CD', 0.41624637919750973), ('D19_VOLLSORTIMENT', -0.27581302578232686), ('FINANZTYP', -0.3673751847286783)], 'PC32': [('D19_BEKLEIDUNG_GEH', -0.23707136970720116), ('D19_BEKLEIDUNG_REST', -0.3696838916478266), ('D19_BUCH_CD', 0.2568413942131139), ('D19_KINDERARTIKEL', 0.31313055556638564), ('D19_SAMMELARTIKEL', -0.31691003577437205), ('D19_TECHNIK', -0.22050947241091415), ('D19_VOLLSORTIMENT', 0.2334516468206878), ('D19_WEIN_FEINKOST', -0.2186226211722743)], 'PC33': [('D19_BEKLEIDUNG_REST', -0.5525461059821203), ('D19_SAMMELARTIKEL', 0.29242047137535776), ('D19_VOLLSORTIMENT', 0.2697515338828726), ('FINANZTYP', -0.3910165393945189)], 'PC34': [('BALLRAUM', 0.23722249122999695), ('GREEN_AVANTGARDE', 0.211924236745282), ('SEMIO_MAT', 0.22837083233585637)], 'PC35': [('D19_BUCH_CD', -0.20300895175499387), ('D19_SAMMELARTIKEL', 0.2876771438312027), ('FINANZTYP', -0.27065065781428993), ('KBA13_KMH_0_140', -0.22205474596864422)], 'PC36': [('D19_BILDUNG', 0.2255024823499342), ('D19_BUCH_CD', -0.20428240668284284)], 'PC37': [('D19_BANKEN_DATUM', -0.27993287871673167), ('D19_BANKEN_GROSS', 0.21872361705245882), ('D19_BANKEN_ONLINE_DATUM', -0.2427664956230439), ('D19_BANKEN_ONLINE_QUOTE_12', 0.23451305788596868), ('D19_VERSICHERUNGEN', -0.4184742448303333)], 'PC38': [('D19_VERSICHERUNGEN', -0.3416762886725174)], 'PC39': [('D19_BEKLEIDUNG_REST', 0.28267179570965606), ('D19_BUCH_CD', 0.24910808410570887), ('D19_HAUS_DEKO', -0.2684710183288246), ('D19_REISEN', 0.2837624868612575), ('D19_SAMMELARTIKEL', 0.2509903343806813), ('D19_SONSTIGE', -0.44061205207309034), ('D19_WEIN_FEINKOST', -0.24079858388472217), ('EXTSEL992', -0.25187999299307406)], 'PC40': [('D19_BEKLEIDUNG_REST', -0.2106149352136427), ('D19_BILDUNG', -0.27601373988435435), ('D19_TELKO_MOBILE', 0.2785050936651389), ('D19_VERSICHERUNGEN', -0.2401160890810839), ('KK_KUNDENTYP', -0.2803731067346314)], 'PC41': [('KBA13_ANZAHL_PKW', -0.20966928473446078), ('KBA13_CCM_1000', 0.23902428314362525), ('KBA13_GBZ', -0.2144975339829422), ('KBA13_HHZ', -0.24447134954021835), ('PLZ8_GBZ', -0.25904317765039725), ('PLZ8_HHZ', -0.28853638638054524)], 'PC42': [('D19_HAUS_DEKO', 0.2654201164572289), ('D19_SONSTIGE', -0.2980718506931505), ('KK_KUNDENTYP', 0.20503000055655984), ('SEMIO_MAT', -0.2582284754136621)], 'PC43': [('D19_BILDUNG', 0.4073258298711444), ('D19_HAUS_DEKO', -0.30815555436903025), ('ONLINE_PURCHASE', 0.7237960371061728)], 'PC44': [('D19_BILDUNG', -0.40758348660765775), ('D19_HAUS_DEKO', 0.4442087525388947), ('D19_SONSTIGE', 0.24488087846212123), ('D19_WEIN_FEINKOST', -0.25230136612554177), ('ONLINE_PURCHASE', 0.5671636269367744)], 'PC45': [('D19_BILDUNG', 0.27686903337539953), ('D19_KINDERARTIKEL', -0.2115332926316193), ('D19_TELKO_MOBILE', 0.40828380197635034), ('D19_VERSICHERUNGEN', -0.33962219619855355), ('KK_KUNDENTYP', 0.38275680733597545)], 'PC46': [('D19_SONSTIGE', -0.3039513552225179), ('EXTSEL992', 0.2841944605269525)], 'PC47': [('D19_TELKO_MOBILE', -0.362543502344522), ('GREEN_AVANTGARDE', 0.2243876515871718)], 'PC48': [('D19_HAUS_DEKO', 0.2049924692714644), ('GREEN_AVANTGARDE', 0.3641056186405028)], 'PC49': [('D19_BILDUNG', -0.22019656244331196), ('D19_HAUS_DEKO', -0.22399253154361928), ('D19_KINDERARTIKEL', 0.6388594672974601), ('D19_WEIN_FEINKOST', 0.32885217671079175)], 'PC50': [('D19_WEIN_FEINKOST', 0.25688647488078337), ('KK_KUNDENTYP', 0.29746158204528117), ('W_KEIT_KIND_HH', -0.3962032419863996)], 'PC51': [('D19_BEKLEIDUNG_GEH', 0.5738006354505827), ('KK_KUNDENTYP', 0.21671959798316534)], 'PC52': [('D19_BEKLEIDUNG_GEH', 0.35986054264200973)], 'PC53': [('D19_BEKLEIDUNG_GEH', -0.388940129125747), ('GREEN_AVANTGARDE', 0.24660032636530435), ('KBA13_CCM_2500', -0.21676802838809084), ('KBA13_KW_120', -0.3061416156656379), ('SEMIO_MAT', -0.20507180853591603)], 'PC54': [('KBA13_CCM_1800', -0.20441443589146932), ('KBA13_KW_120', 0.2066492875335598)], 'PC55': [('D19_DROGERIEARTIKEL', 0.21684426201998358), ('D19_TELKO_MOBILE', -0.2522872016723103)], 'PC56': [('D19_DROGERIEARTIKEL', 0.36248595534939526), ('D19_NAHRUNGSERGAENZUNG', 0.22263471434643245), ('D19_WEIN_FEINKOST', -0.4101993007066769)], 'PC57': [('KBA13_KW_120', -0.2896357014350141)], 'PC58': [('KBA05_ANTG2', 0.21569221666962937)], 'PC59': [('D19_KONSUMTYP', 0.2655778867389242), ('D19_KONSUMTYP_MAX', 0.30069618060860254), ('D19_TELKO_REST', -0.3007207093875796), ('KBA05_ANTG2', -0.22803513034502848)], 'PC60': [('D19_TELKO_REST', 0.4062333457567561)], 'PC61': [('D19_KONSUMTYP_MAX', -0.22398865822068745), ('D19_TELKO_REST', -0.3748755695631107), ('KBA13_CCM_1800', 0.2713841067374505), ('KBA13_KW_110', -0.22538984671798878), ('KBA13_KW_120', 0.2624047883931039), ('KBA13_KW_80', 0.2531289288342905)], 'PC62': [('D19_TELKO_REST', 0.3653739307591948), ('KBA13_VORB_3', 0.20663989206884298)], 'PC63': [('ALTER_HH', 0.267644570882162), ('SHOPPER_TYP', -0.47743370476767416), ('ANREDE_KZ', 0.2662188254414177)], 'PC64': [('D19_FREIZEIT', 0.262656291190786), ('D19_KONSUMTYP_MAX', 0.20595480485294865), ('D19_LEBENSMITTEL', -0.22674364498385208), ('D19_VERSAND_REST', 0.35946524788013867), ('GFK_URLAUBERTYP', -0.2657266187924194), ('W_KEIT_KIND_HH', 0.23560685147295624)], 'PC65': [('D19_TELKO_REST', -0.2622488785154495), ('D19_VERSAND_REST', 0.2346080283874328), ('KBA13_KW_110', 0.2307593683840655), ('KBA13_KW_80', -0.20757377326741178)], 'PC66': [('D19_BANKEN_GROSS', -0.24804983736041938), ('D19_BIO_OEKO', 0.2782969973006278), ('D19_VERSAND_REST', -0.39801516566704553), ('GEBAEUDETYP', -0.22064260419977527)], 'PC67': [('KBA13_CCM_1400', 0.20257794976495053), ('KBA13_CCM_1600', -0.24535645747743237), ('KBA13_CCM_1800', 0.2410065008119851), ('KBA13_KW_60', 0.3678459393201709), ('KBA13_KW_70', -0.49700372517929303), ('KBA13_KW_90', 0.25794381842224534)], 'PC68': [('D19_BIO_OEKO', 0.20333974998850043), ('D19_FREIZEIT', 0.5519232011516682), ('D19_LEBENSMITTEL', -0.3663797039374871), ('D19_TELKO_REST', -0.2138308182982107), ('SEMIO_MAT', 0.2039947788233045), ('ANREDE_KZ', -0.21620781104420736)], 'PC69': [('D19_LEBENSMITTEL', 0.40666429002754423), ('D19_NAHRUNGSERGAENZUNG', -0.28367452442024726), ('D19_RATGEBER', -0.3717610964590309), ('GEBAEUDETYP', 0.39695550144373015), ('GFK_URLAUBERTYP', -0.2636036128933111)], 'PC70': [('D19_BILDUNG', -0.24636111519284354), ('D19_BIO_OEKO', -0.389052891400978), ('D19_DROGERIEARTIKEL', 0.3843260348841833), ('D19_FREIZEIT', 0.20414463577846448), ('D19_RATGEBER', 0.5619607392264376), ('D19_VERSAND_REST', -0.2847442790366289)], 'PC71': [('D19_BANKEN_GROSS', 0.2176026933638711), ('D19_DROGERIEARTIKEL', -0.4022741339293031), ('D19_FREIZEIT', 0.25586213173787775), ('D19_RATGEBER', 0.2590640120333739), ('ANREDE_KZ', 0.20700728989432152)], 'PC72': [('ALTER_HH', 0.242257496468238), ('D19_BANKEN_DIREKT', 0.20214265703482392), ('D19_BANKEN_GROSS', 0.3851333507337408), ('D19_LEBENSMITTEL', 0.3173010485934977), ('D19_NAHRUNGSERGAENZUNG', -0.20922897993085615), ('D19_VERSAND_REST', -0.36965396536004197), ('ANREDE_KZ', -0.2613241652005792)], 'PC73': [('D19_BANKEN_GROSS', 0.32015998696271003), ('D19_FREIZEIT', 0.29016256095314114), ('D19_LEBENSMITTEL', -0.2057784275009179), ('D19_RATGEBER', -0.39545466473795116), ('D19_VERSAND_REST', -0.413962793650935)], 'PC74': [('D19_LEBENSMITTEL', -0.2770211980055092), ('GEBAEUDETYP', 0.4949990677970044)], 'PC75': [('ZABEOTYP', 0.2095606442897753)], 'PC76': [('D19_BIO_OEKO', -0.4688337368075527), ('D19_DROGERIEARTIKEL', -0.3851518233009156), ('D19_ENERGIE', 0.310859108213945), ('D19_FREIZEIT', 0.28898423971163284), ('D19_LEBENSMITTEL', 0.22695192259271332), ('D19_NAHRUNGSERGAENZUNG', 0.28127515773589373), ('GFK_URLAUBERTYP', 0.271209534411621)], 'PC77': [('D19_ENERGIE', 0.3988376562538238), ('FIRMENDICHTE', 0.22758820577256617), ('KBA13_SEG_WOHNMOBILE', 0.29997109784641823), ('KONSUMZELLE', -0.2194618768895779)], 'PC78': [('D19_ENERGIE', 0.4950181515269956), ('KBA13_KW_80', -0.22053215675158866), ('KBA13_KW_90', 0.31089358643873494), ('ZABEOTYP', 0.2475784020464882)], 'PC79': [('D19_ENERGIE', 0.24223364668156475), ('KBA13_CCM_1500', -0.25347767118842995), ('KBA13_KW_110', 0.26452141478000163), ('KBA13_KW_70', -0.22772873069153277), ('KBA13_KW_80', 0.38448199778722625), ('KBA13_KW_90', -0.514564318917894)], 'PC80': [('CAMEO_DEUG_2015', -0.20343681917995168), ('CAMEO_INTL_2015', -0.2073374376684285), ('D19_ENERGIE', 0.460378852751173), ('KBA13_SEG_WOHNMOBILE', -0.3961858740898841)], 'PC81': [('D19_SCHUHE', 0.20611578881962475), ('GEBAEUDETYP', 0.32917418851089986), ('KBA05_ANTG1', -0.21715794780535708)], 'PC82': [('D19_BANKEN_DIREKT', -0.2773812303833084), ('D19_BANKEN_GROSS', 0.20797591291234482), ('D19_BANKEN_REST', 0.4827962328849134), ('D19_SCHUHE', -0.2965757056435404), ('GFK_URLAUBERTYP', -0.24417812293025662), ('SEMIO_SOZ', -0.2278219340884795)], 'PC83': [('D19_BANKEN_DIREKT', -0.21039754807925637), ('D19_BANKEN_REST', 0.3837333693128667), ('D19_SCHUHE', 0.7267932898419815)], 'PC84': [('D19_BANKEN_REST', 0.5687073332932001), ('D19_SCHUHE', -0.35215679358806357), ('D19_VERSI_DATUM', 0.23023817497551063)], 'PC85': [('D19_BANKEN_DIREKT', -0.37204267424995235), ('D19_BANKEN_GROSS', 0.26083507164487424), ('D19_BIO_OEKO', 0.2542203321308154), ('D19_NAHRUNGSERGAENZUNG', -0.29603332573343594), ('D19_SCHUHE', -0.21885234786783164), ('GFK_URLAUBERTYP', 0.2379154463948995), ('SEMIO_SOZ', 0.20285958314568076)], 'PC86': [('ALTER_HH', -0.3452106857461346), ('D19_BANKEN_REST', 0.22512387600546685), ('KBA13_SEG_WOHNMOBILE', -0.23497989762493549), ('ZABEOTYP', 0.44927635912012065)], 'PC87': [('D19_NAHRUNGSERGAENZUNG', -0.24680543869469207), ('SEMIO_ERL', 0.238875673368365), ('SEMIO_SOZ', -0.2685246117521564), ('UMFELD_ALT', 0.20476815463024264), ('VHN', -0.2554709679382459)], 'PC88': [('ALTER_HH', -0.24983145354897426), ('D19_NAHRUNGSERGAENZUNG', -0.20821533729024544), ('GFK_URLAUBERTYP', 0.2841694770744771), ('KBA13_BJ_2008', 0.3735449388495376), ('KBA13_BJ_2009', -0.343724527095163)], 'PC89': [('KBA13_BJ_2008', -0.30733108723628766), ('KBA13_BJ_2009', 0.41822883430203733), ('KBA13_SEG_WOHNMOBILE', 0.2932803797873493)], 'PC90': [('VERDICHTUNGSRAUM', 0.32236405518128924)], 'PC91': [('D19_BANKEN_DIREKT', 0.3920880676320086), ('D19_BANKEN_GROSS', -0.23772003364305339), ('D19_VERSI_DATUM', -0.348716455649796), ('D19_VERSICHERUNGEN', -0.21486747083012067), ('KBA13_BJ_2009', -0.218780190809142), ('KBA13_CCM_1500', -0.30850562114779095)], 'PC92': [('D19_BANKEN_DIREKT', 0.23356774726213683), ('KBA13_CCM_1500', 0.3111896398658508), ('ZABEOTYP', -0.313467773270519)], 'PC93': [('KBA13_KW_40', -0.2337625259669305), ('SEMIO_ERL', -0.20740327603706216), ('SEMIO_MAT', -0.2886059602033632), ('SEMIO_SOZ', -0.263140194479867)], 'PC94': [('D19_GARTEN', 0.21956811404242374), ('VERDICHTUNGSRAUM', 0.2517664473220085)], 'PC95': [('D19_GARTEN', 0.3067116860973751), ('KONSUMZELLE', 0.2117171826221554), ('SEMIO_SOZ', 0.31677683503040904), ('VERDICHTUNGSRAUM', -0.2040692439997742), ('VHA', 0.20805979968028654)], 'PC96': [('KBA13_CCM_1500', -0.32097621443928687), ('KBA13_CCM_1800', -0.2015811470816197), ('SEMIO_ERL', 0.20136342538616414)], 'PC97': [('AKT_DAT_KL', 0.2065605609621065), ('KBA13_KW_40', -0.22703098488520396)], 'PC98': [('D19_GARTEN', 0.6036634577499597), ('SEMIO_ERL', -0.2022933353046308), ('SEMIO_LUST', -0.24670983971806945)], 'PC99': [('KBA13_CCM_1500', -0.35504696092452165), ('KBA13_CCM_3000', -0.20754760356361704), ('KBA13_KW_110', -0.20399345690773135), ('KBA13_SEG_OBERKLASSE', 0.2891109682551583), ('SEMIO_LUST', 0.24034456482878017)], 'PC100': [('AGER_TYP', 0.31300920400781546), ('ALTER_HH', -0.20248286353648964), ('D19_GARTEN', -0.21020947732003728), ('KBA13_VORB_3', 0.27882956338526493)]}\n"
     ]
    }
   ],
   "source": [
    "print(important_features_dict)"
   ]
  },
  {
   "cell_type": "code",
   "execution_count": 20,
   "metadata": {},
   "outputs": [],
   "source": [
    "# Importing the K means model\n",
    "from sklearn.cluster import MiniBatchKMeans\n",
    "\n",
    "\n",
    "def find_optimal_k(data, num_clusters):\n",
    "    \"\"\"\n",
    "    Creates a graph of the cumulative distortion of a k-means clustering model as a function of the number of clusters\n",
    "    param data: A dataframe or numpy array with features\n",
    "    param num_clusters: An integer that specifies the number of clusters that will be shown in the graph\n",
    "    return: Uses plt.show() to display the graph\n",
    "    \"\"\"\n",
    "    # For storing the distortion, the sum of squared distances of samples to their closest cluster center, for each iterations\n",
    "    distortions = []\n",
    "    \n",
    "    # Trying different values for k, between 1 and num_clusters\n",
    "    for k in range(1, num_clusters):\n",
    "        # Defining a k means model with the value of k for the iteration and with 100 iterations max\n",
    "        kmeans = MiniBatchKMeans(n_clusters=k, \n",
    "                        max_iter=100)\n",
    "    \n",
    "        # Fitting the k means model to the dimensionality reduced customer data\n",
    "        kmeans.fit(data)\n",
    "    \n",
    "        # Appending the distortion value to the list\n",
    "        distortions.append(kmeans.inertia_)\n",
    "        \n",
    "    # Creating a graph of the cumulative distortion as a function of the number of components\n",
    "    plt.plot(distortions)\n",
    "    # Adding a title\n",
    "    plt.title(\"Inertia vs The Number of Clusters\")\n",
    "    # Adding a label for the x-axis\n",
    "    plt.xlabel(\"Number of Clusters\")\n",
    "    # Adding a label for the y-axis\n",
    "    plt.ylabel(\"Inertia\")\n",
    "    \n",
    "    # Displaying the graph\n",
    "    plt.show()"
   ]
  },
  {
   "cell_type": "code",
   "execution_count": 21,
   "metadata": {},
   "outputs": [
    {
     "data": {
      "image/png": "[encoded data removed]",
      "text/plain": [
       "<Figure size 432x288 with 1 Axes>"
      ]
     },
     "metadata": {
      "needs_background": "light"
     },
     "output_type": "display_data"
    }
   ],
   "source": [
    "# Creating a graph that shows the cumulative distortion as a function of the number of clusters in order to find the optimal value for k\n",
    "find_optimal_k(customer_data_reduced, 100)"
   ]
  },
  {
   "cell_type": "code",
   "execution_count": 21,
   "metadata": {},
   "outputs": [
    {
     "data": {
      "text/plain": [
       "PCA(copy=True, iterated_power='auto', n_components=363, random_state=None,\n",
       "    svd_solver='auto', tol=0.0, whiten=False)"
      ]
     },
     "execution_count": 21,
     "metadata": {},
     "output_type": "execute_result"
    }
   ],
   "source": [
    "# Test using a PCA model with the unnormalized data\n",
    "\n",
    "# Defining the maximum number of principal components to fit the model\n",
    "num_components = len(list(customer_data.columns)) - 1\n",
    "\n",
    "# Creating a PCA model\n",
    "pca = PCA(n_components=num_components)\n",
    "\n",
    "# Fitting the PCA model\n",
    "pca.fit(customer_data)"
   ]
  },
  {
   "cell_type": "code",
   "execution_count": 22,
   "metadata": {},
   "outputs": [
    {
     "name": "stdout",
     "output_type": "stream",
     "text": [
      "[7.67335018e-01 1.87111768e-01 3.25792935e-02 1.23050439e-02\n",
      " 1.49945704e-04 1.20514956e-04 7.14721865e-05 4.82929112e-05\n",
      " 3.74820815e-05 2.37657140e-05 2.22471283e-05 1.37888072e-05\n",
      " 1.00935211e-05 5.77980460e-06 5.68091152e-06 5.15706887e-06\n",
      " 4.69781134e-06 4.19423534e-06 3.98388313e-06 3.81104463e-06\n",
      " 3.67447413e-06 2.90460272e-06 2.83111954e-06 2.52186478e-06\n",
      " 2.44617787e-06 2.35156217e-06 2.19396627e-06 2.12683531e-06\n",
      " 2.09559557e-06 2.05433513e-06 2.01976776e-06 2.00449404e-06\n",
      " 1.91594385e-06 1.89919359e-06 1.87089862e-06 1.83417299e-06\n",
      " 1.75617769e-06 1.75015237e-06 1.69594356e-06 1.65479929e-06\n",
      " 1.58815922e-06 1.56644211e-06 1.52907976e-06 1.48544970e-06\n",
      " 1.47063951e-06 1.43801247e-06 1.39248492e-06 1.36992319e-06\n",
      " 1.33059609e-06 1.30015416e-06 1.28350875e-06 1.26346047e-06\n",
      " 1.22178470e-06 1.20485983e-06 1.15633764e-06 1.14022143e-06\n",
      " 1.08660150e-06 1.06058034e-06 1.04480503e-06 9.89149938e-07\n",
      " 9.85063395e-07 9.69763262e-07 9.47813201e-07 9.38390687e-07\n",
      " 9.20089323e-07 9.17149468e-07 9.02294904e-07 8.97533827e-07\n",
      " 8.88046190e-07 8.75666711e-07 8.54995284e-07 8.43147547e-07\n",
      " 8.37112191e-07 8.15622275e-07 8.12832981e-07 8.04596577e-07\n",
      " 7.81025423e-07 7.73332409e-07 7.62868042e-07 7.45190027e-07\n",
      " 7.38253876e-07 7.09011475e-07 6.94769571e-07 6.87803899e-07\n",
      " 6.74092320e-07 6.58689446e-07 6.53023231e-07 6.44901674e-07\n",
      " 6.15939769e-07 6.12520407e-07 6.05445101e-07 5.94398658e-07\n",
      " 5.79702358e-07 5.72816369e-07 5.64609327e-07 5.57679502e-07\n",
      " 5.50470738e-07 5.41803237e-07 5.30701849e-07 5.25996936e-07\n",
      " 5.08136771e-07 5.02189967e-07 5.02106817e-07 4.89622841e-07\n",
      " 4.86429407e-07 4.73736430e-07 4.56821792e-07 4.56404905e-07\n",
      " 4.51551006e-07 4.43261482e-07 4.36882955e-07 4.33566188e-07\n",
      " 4.30086154e-07 4.27856962e-07 4.23060306e-07 4.20493143e-07\n",
      " 4.17910839e-07 4.09972640e-07 4.09000922e-07 4.05033725e-07\n",
      " 3.97311998e-07 3.95633910e-07 3.88168902e-07 3.85148990e-07\n",
      " 3.82448478e-07 3.80202230e-07 3.71685649e-07 3.70628399e-07\n",
      " 3.67578453e-07 3.65177607e-07 3.58563104e-07 3.53420149e-07\n",
      " 3.47973558e-07 3.45238454e-07 3.43753492e-07 3.34656447e-07\n",
      " 3.30019737e-07 3.27768127e-07 3.23666084e-07 3.15071509e-07\n",
      " 3.13699142e-07 3.08645359e-07 3.06737943e-07 3.05687293e-07\n",
      " 3.01103658e-07 3.00090649e-07 2.93681269e-07 2.87284997e-07\n",
      " 2.82128595e-07 2.77675962e-07 2.76951739e-07 2.75456633e-07\n",
      " 2.73328381e-07 2.68398154e-07 2.66357785e-07 2.64646143e-07\n",
      " 2.62957576e-07 2.55163924e-07 2.51412926e-07 2.48449166e-07\n",
      " 2.46628512e-07 2.45805122e-07 2.41371604e-07 2.38936351e-07\n",
      " 2.36027101e-07 2.35015624e-07 2.31877871e-07 2.28034499e-07\n",
      " 2.25587245e-07 2.19528521e-07 2.17759860e-07 2.15998769e-07\n",
      " 2.14805120e-07 2.13000493e-07 2.09257734e-07 2.07952916e-07\n",
      " 2.04573797e-07 2.03695575e-07 1.99538325e-07 1.97288288e-07\n",
      " 1.92027762e-07 1.91021085e-07 1.89976599e-07 1.87438791e-07\n",
      " 1.84413552e-07 1.83971108e-07 1.82004699e-07 1.80340349e-07\n",
      " 1.78482901e-07 1.74794566e-07 1.69408229e-07 1.67464414e-07\n",
      " 1.62384861e-07 1.59551476e-07 1.58312466e-07 1.57417983e-07\n",
      " 1.55401161e-07 1.53625152e-07 1.51363100e-07 1.49622399e-07\n",
      " 1.49000714e-07 1.47596615e-07 1.46137291e-07 1.41581831e-07\n",
      " 1.40581692e-07 1.40157332e-07 1.38568495e-07 1.37386467e-07\n",
      " 1.32582211e-07 1.31312563e-07 1.30410917e-07 1.29648384e-07\n",
      " 1.27645324e-07 1.24302742e-07 1.23305695e-07 1.21954511e-07\n",
      " 1.21244587e-07 1.19414272e-07 1.18366815e-07 1.16645510e-07\n",
      " 1.15127108e-07 1.14725509e-07 1.12719875e-07 1.12008571e-07\n",
      " 1.11436647e-07 1.08817798e-07 1.06524773e-07 1.06107779e-07\n",
      " 1.04777328e-07 1.03516420e-07 1.02799071e-07 9.96332056e-08\n",
      " 9.89244670e-08 9.72760672e-08 9.66871373e-08 9.62392080e-08\n",
      " 9.38093752e-08 9.24171863e-08 9.05994746e-08 8.93182303e-08\n",
      " 8.86134357e-08 8.56641571e-08 8.42038356e-08 8.29751680e-08\n",
      " 7.99937987e-08 7.92171646e-08 7.81001084e-08 7.74934568e-08\n",
      " 7.50259020e-08 7.35553132e-08 7.26140805e-08 7.16060965e-08\n",
      " 6.89578110e-08 6.74722934e-08 6.70337204e-08 6.60941600e-08\n",
      " 6.49254573e-08 6.40741842e-08 6.28666897e-08 6.24119610e-08\n",
      " 6.17869629e-08 5.94545416e-08 5.89707771e-08 5.80325085e-08\n",
      " 5.72558615e-08 5.68332423e-08 5.50705968e-08 5.43224321e-08\n",
      " 5.32148791e-08 5.26051986e-08 5.24832105e-08 5.21197824e-08\n",
      " 5.16820023e-08 5.08466906e-08 5.01231089e-08 4.90517963e-08\n",
      " 4.85605134e-08 4.80133124e-08 4.68972367e-08 4.64589667e-08\n",
      " 4.50880770e-08 4.48802900e-08 4.41713045e-08 4.33967102e-08\n",
      " 4.22191098e-08 4.20560456e-08 4.16155985e-08 4.09668143e-08\n",
      " 3.90922398e-08 3.89598244e-08 3.74771842e-08 3.65630711e-08\n",
      " 3.65334508e-08 3.60370785e-08 3.55187867e-08 3.43686951e-08\n",
      " 3.37304553e-08 3.31251860e-08 3.30101970e-08 3.27391289e-08\n",
      " 3.22682318e-08 3.19058875e-08 3.16340729e-08 3.07141765e-08\n",
      " 3.06786884e-08 3.00790686e-08 2.99004148e-08 2.97844547e-08\n",
      " 2.90846078e-08 2.83368128e-08 2.79213298e-08 2.75912652e-08\n",
      " 2.71392144e-08 2.63449887e-08 2.59067893e-08 2.55198626e-08\n",
      " 2.54188536e-08 2.52751561e-08 2.51903285e-08 2.48221836e-08\n",
      " 2.47537861e-08 2.44663261e-08 2.43395652e-08 2.42004270e-08\n",
      " 2.40837659e-08 2.36909614e-08 2.33506266e-08 2.30633221e-08\n",
      " 2.28989643e-08 2.26997079e-08 2.20419808e-08 2.18022227e-08\n",
      " 2.17338238e-08 2.14200872e-08 2.08244864e-08 2.05628833e-08\n",
      " 1.99283391e-08 1.88835503e-08 1.79727551e-08 1.69859781e-08\n",
      " 1.67113381e-08 1.65218179e-08 1.57188721e-08 1.43162375e-08\n",
      " 1.40456767e-08 1.34658840e-08 1.33481772e-08 1.29240874e-08\n",
      " 1.16137221e-08 1.04341084e-08 9.34188557e-09 8.51414948e-09\n",
      " 8.07252926e-09 7.13484996e-09 6.88954548e-09 6.59553385e-09\n",
      " 5.18966168e-09 4.53674362e-09 3.60071462e-09 3.18397762e-09\n",
      " 2.80156600e-09 1.51330149e-31 5.31688334e-33]\n"
     ]
    }
   ],
   "source": [
    "explained_variance_ratio = pca.explained_variance_ratio_\n",
    "print(explained_variance_ratio)"
   ]
  },
  {
   "cell_type": "code",
   "execution_count": 23,
   "metadata": {},
   "outputs": [
    {
     "data": {
      "image/png": "[encoded data removed]",
      "text/plain": [
       "<Figure size 432x288 with 1 Axes>"
      ]
     },
     "metadata": {
      "needs_background": "light"
     },
     "output_type": "display_data"
    },
    {
     "data": {
      "text/plain": [
       "array([0.76733502, 0.95444679, 0.98702608, 0.99933112, 0.99948107,\n",
       "       0.99960158, 0.99967306, 0.99972135, 0.99975883, 0.9997826 ,\n",
       "       0.99980484, 0.99981863, 0.99982873, 0.99983451, 0.99984019,\n",
       "       0.99984534, 0.99985004, 0.99985424, 0.99985822, 0.99986203,\n",
       "       0.99986571, 0.99986861, 0.99987144, 0.99987396, 0.99987641,\n",
       "       0.99987876, 0.99988095, 0.99988308, 0.99988518, 0.99988723,\n",
       "       0.99988925, 0.99989126, 0.99989317, 0.99989507, 0.99989694,\n",
       "       0.99989878, 0.99990053, 0.99990228, 0.99990398, 0.99990563,\n",
       "       0.99990722, 0.99990879, 0.99991032, 0.9999118 , 0.99991327,\n",
       "       0.99991471, 0.9999161 , 0.99991747, 0.9999188 , 0.9999201 ,\n",
       "       0.99992139, 0.99992265, 0.99992387, 0.99992508, 0.99992623,\n",
       "       0.99992737, 0.99992846, 0.99992952, 0.99993057, 0.99993156,\n",
       "       0.99993254, 0.99993351, 0.99993446, 0.9999354 , 0.99993632,\n",
       "       0.99993723, 0.99993814, 0.99993903, 0.99993992, 0.9999408 ,\n",
       "       0.99994165, 0.9999425 , 0.99994333, 0.99994415, 0.99994496,\n",
       "       0.99994577, 0.99994655, 0.99994732, 0.99994808, 0.99994883,\n",
       "       0.99994957, 0.99995028, 0.99995097, 0.99995166, 0.99995233,\n",
       "       0.99995299, 0.99995364, 0.99995429, 0.9999549 , 0.99995552,\n",
       "       0.99995612, 0.99995672, 0.9999573 , 0.99995787, 0.99995843,\n",
       "       0.99995899, 0.99995954, 0.99996008, 0.99996061, 0.99996114,\n",
       "       0.99996165, 0.99996215, 0.99996265, 0.99996314, 0.99996363,\n",
       "       0.9999641 , 0.99996456, 0.99996502, 0.99996547, 0.99996591,\n",
       "       0.99996635, 0.99996678, 0.99996721, 0.99996764, 0.99996806,\n",
       "       0.99996848, 0.9999689 , 0.99996931, 0.99996972, 0.99997012,\n",
       "       0.99997052, 0.99997092, 0.99997131, 0.99997169, 0.99997207,\n",
       "       0.99997245, 0.99997283, 0.9999732 , 0.99997356, 0.99997393,\n",
       "       0.99997429, 0.99997464, 0.99997499, 0.99997533, 0.99997568,\n",
       "       0.99997601, 0.99997634, 0.99997667, 0.99997699, 0.99997731,\n",
       "       0.99997762, 0.99997793, 0.99997824, 0.99997854, 0.99997884,\n",
       "       0.99997914, 0.99997944, 0.99997973, 0.99998001, 0.99998029,\n",
       "       0.99998056, 0.99998084, 0.99998111, 0.99998138, 0.99998165,\n",
       "       0.99998191, 0.99998217, 0.99998243, 0.99998268, 0.99998293,\n",
       "       0.99998318, 0.99998342, 0.99998366, 0.9999839 , 0.99998414,\n",
       "       0.99998437, 0.9999846 , 0.99998483, 0.99998506, 0.99998528,\n",
       "       0.9999855 , 0.99998571, 0.99998593, 0.99998614, 0.99998635,\n",
       "       0.99998656, 0.99998676, 0.99998696, 0.99998716, 0.99998736,\n",
       "       0.99998755, 0.99998774, 0.99998793, 0.99998812, 0.99998831,\n",
       "       0.99998849, 0.99998867, 0.99998885, 0.99998903, 0.99998921,\n",
       "       0.99998938, 0.99998954, 0.9999897 , 0.99998986, 0.99999002,\n",
       "       0.99999018, 0.99999034, 0.99999049, 0.99999064, 0.99999079,\n",
       "       0.99999094, 0.99999109, 0.99999123, 0.99999137, 0.99999152,\n",
       "       0.99999166, 0.99999179, 0.99999193, 0.99999206, 0.9999922 ,\n",
       "       0.99999233, 0.99999246, 0.99999258, 0.99999271, 0.99999283,\n",
       "       0.99999295, 0.99999307, 0.99999319, 0.99999331, 0.99999343,\n",
       "       0.99999354, 0.99999366, 0.99999377, 0.99999388, 0.99999399,\n",
       "       0.9999941 , 0.99999421, 0.99999432, 0.99999442, 0.99999452,\n",
       "       0.99999463, 0.99999473, 0.99999483, 0.99999492, 0.99999502,\n",
       "       0.99999512, 0.99999521, 0.9999953 , 0.99999539, 0.99999548,\n",
       "       0.99999557, 0.99999566, 0.99999574, 0.99999582, 0.9999959 ,\n",
       "       0.99999598, 0.99999606, 0.99999614, 0.99999621, 0.99999629,\n",
       "       0.99999636, 0.99999643, 0.9999965 , 0.99999657, 0.99999663,\n",
       "       0.9999967 , 0.99999677, 0.99999683, 0.99999689, 0.99999695,\n",
       "       0.99999702, 0.99999708, 0.99999713, 0.99999719, 0.99999725,\n",
       "       0.99999731, 0.99999736, 0.99999742, 0.99999747, 0.99999752,\n",
       "       0.99999757, 0.99999763, 0.99999768, 0.99999773, 0.99999778,\n",
       "       0.99999783, 0.99999788, 0.99999792, 0.99999797, 0.99999802,\n",
       "       0.99999806, 0.99999811, 0.99999815, 0.9999982 , 0.99999824,\n",
       "       0.99999828, 0.99999832, 0.99999836, 0.9999984 , 0.99999844,\n",
       "       0.99999848, 0.99999851, 0.99999855, 0.99999859, 0.99999862,\n",
       "       0.99999866, 0.99999869, 0.99999872, 0.99999876, 0.99999879,\n",
       "       0.99999882, 0.99999885, 0.99999889, 0.99999892, 0.99999895,\n",
       "       0.99999898, 0.99999901, 0.99999904, 0.99999907, 0.99999909,\n",
       "       0.99999912, 0.99999915, 0.99999918, 0.9999992 , 0.99999923,\n",
       "       0.99999925, 0.99999928, 0.99999931, 0.99999933, 0.99999936,\n",
       "       0.99999938, 0.9999994 , 0.99999943, 0.99999945, 0.99999948,\n",
       "       0.9999995 , 0.99999952, 0.99999955, 0.99999957, 0.99999959,\n",
       "       0.99999961, 0.99999964, 0.99999966, 0.99999968, 0.9999997 ,\n",
       "       0.99999972, 0.99999974, 0.99999976, 0.99999978, 0.9999998 ,\n",
       "       0.99999981, 0.99999983, 0.99999984, 0.99999986, 0.99999987,\n",
       "       0.99999989, 0.9999999 , 0.99999991, 0.99999992, 0.99999993,\n",
       "       0.99999994, 0.99999995, 0.99999996, 0.99999997, 0.99999997,\n",
       "       0.99999998, 0.99999999, 0.99999999, 0.99999999, 1.        ,\n",
       "       1.        , 1.        , 1.        ])"
      ]
     },
     "execution_count": 23,
     "metadata": {},
     "output_type": "execute_result"
    }
   ],
   "source": [
    "# Creating a plot for explained variance vs the number of principal components for all components\n",
    "create_variance_plot(explained_variance_ratio, len(explained_variance_ratio))"
   ]
  },
  {
   "cell_type": "code",
   "execution_count": 24,
   "metadata": {},
   "outputs": [
    {
     "data": {
      "image/png": "[encoded data removed]",
      "text/plain": [
       "<Figure size 432x288 with 1 Axes>"
      ]
     },
     "metadata": {
      "needs_background": "light"
     },
     "output_type": "display_data"
    },
    {
     "data": {
      "text/plain": [
       "array([0.76733502, 0.95444679, 0.98702608, 0.99933112, 0.99948107,\n",
       "       0.99960158, 0.99967306, 0.99972135, 0.99975883, 0.9997826 ,\n",
       "       0.99980484, 0.99981863, 0.99982873, 0.99983451, 0.99984019,\n",
       "       0.99984534, 0.99985004, 0.99985424, 0.99985822, 0.99986203,\n",
       "       0.99986571, 0.99986861, 0.99987144, 0.99987396, 0.99987641,\n",
       "       0.99987876, 0.99988095, 0.99988308, 0.99988518, 0.99988723,\n",
       "       0.99988925, 0.99989126, 0.99989317, 0.99989507, 0.99989694,\n",
       "       0.99989878, 0.99990053, 0.99990228, 0.99990398, 0.99990563,\n",
       "       0.99990722, 0.99990879, 0.99991032, 0.9999118 , 0.99991327,\n",
       "       0.99991471, 0.9999161 , 0.99991747, 0.9999188 , 0.9999201 ,\n",
       "       0.99992139, 0.99992265, 0.99992387, 0.99992508, 0.99992623,\n",
       "       0.99992737, 0.99992846, 0.99992952, 0.99993057, 0.99993156,\n",
       "       0.99993254, 0.99993351, 0.99993446, 0.9999354 , 0.99993632,\n",
       "       0.99993723, 0.99993814, 0.99993903, 0.99993992, 0.9999408 ,\n",
       "       0.99994165, 0.9999425 , 0.99994333, 0.99994415, 0.99994496,\n",
       "       0.99994577, 0.99994655, 0.99994732, 0.99994808, 0.99994883,\n",
       "       0.99994957, 0.99995028, 0.99995097, 0.99995166, 0.99995233,\n",
       "       0.99995299, 0.99995364, 0.99995429, 0.9999549 , 0.99995552,\n",
       "       0.99995612, 0.99995672, 0.9999573 , 0.99995787, 0.99995843,\n",
       "       0.99995899, 0.99995954, 0.99996008, 0.99996061, 0.99996114,\n",
       "       0.99996165, 0.99996215, 0.99996265, 0.99996314, 0.99996363,\n",
       "       0.9999641 , 0.99996456, 0.99996502, 0.99996547, 0.99996591,\n",
       "       0.99996635, 0.99996678, 0.99996721, 0.99996764, 0.99996806,\n",
       "       0.99996848, 0.9999689 , 0.99996931, 0.99996972, 0.99997012,\n",
       "       0.99997052, 0.99997092, 0.99997131, 0.99997169, 0.99997207,\n",
       "       0.99997245, 0.99997283, 0.9999732 , 0.99997356, 0.99997393,\n",
       "       0.99997429, 0.99997464, 0.99997499, 0.99997533, 0.99997568,\n",
       "       0.99997601, 0.99997634, 0.99997667, 0.99997699, 0.99997731,\n",
       "       0.99997762, 0.99997793, 0.99997824, 0.99997854, 0.99997884,\n",
       "       0.99997914, 0.99997944, 0.99997973, 0.99998001, 0.99998029,\n",
       "       0.99998056, 0.99998084, 0.99998111, 0.99998138, 0.99998165,\n",
       "       0.99998191, 0.99998217, 0.99998243, 0.99998268, 0.99998293,\n",
       "       0.99998318, 0.99998342, 0.99998366, 0.9999839 , 0.99998414,\n",
       "       0.99998437, 0.9999846 , 0.99998483, 0.99998506, 0.99998528,\n",
       "       0.9999855 , 0.99998571, 0.99998593, 0.99998614, 0.99998635,\n",
       "       0.99998656, 0.99998676, 0.99998696, 0.99998716, 0.99998736,\n",
       "       0.99998755, 0.99998774, 0.99998793, 0.99998812, 0.99998831,\n",
       "       0.99998849, 0.99998867, 0.99998885, 0.99998903, 0.99998921,\n",
       "       0.99998938, 0.99998954, 0.9999897 , 0.99998986, 0.99999002,\n",
       "       0.99999018, 0.99999034, 0.99999049, 0.99999064, 0.99999079,\n",
       "       0.99999094, 0.99999109, 0.99999123, 0.99999137, 0.99999152,\n",
       "       0.99999166, 0.99999179, 0.99999193, 0.99999206, 0.9999922 ,\n",
       "       0.99999233, 0.99999246, 0.99999258, 0.99999271, 0.99999283,\n",
       "       0.99999295, 0.99999307, 0.99999319, 0.99999331, 0.99999343,\n",
       "       0.99999354, 0.99999366, 0.99999377, 0.99999388, 0.99999399,\n",
       "       0.9999941 , 0.99999421, 0.99999432, 0.99999442, 0.99999452,\n",
       "       0.99999463, 0.99999473, 0.99999483, 0.99999492, 0.99999502,\n",
       "       0.99999512, 0.99999521, 0.9999953 , 0.99999539, 0.99999548,\n",
       "       0.99999557, 0.99999566, 0.99999574, 0.99999582, 0.9999959 ,\n",
       "       0.99999598, 0.99999606, 0.99999614, 0.99999621, 0.99999629,\n",
       "       0.99999636, 0.99999643, 0.9999965 , 0.99999657, 0.99999663,\n",
       "       0.9999967 , 0.99999677, 0.99999683, 0.99999689, 0.99999695,\n",
       "       0.99999702, 0.99999708, 0.99999713, 0.99999719, 0.99999725,\n",
       "       0.99999731, 0.99999736, 0.99999742, 0.99999747, 0.99999752,\n",
       "       0.99999757, 0.99999763, 0.99999768, 0.99999773, 0.99999778,\n",
       "       0.99999783, 0.99999788, 0.99999792, 0.99999797, 0.99999802,\n",
       "       0.99999806, 0.99999811, 0.99999815, 0.9999982 , 0.99999824,\n",
       "       0.99999828, 0.99999832, 0.99999836, 0.9999984 , 0.99999844,\n",
       "       0.99999848, 0.99999851, 0.99999855, 0.99999859, 0.99999862,\n",
       "       0.99999866, 0.99999869, 0.99999872, 0.99999876, 0.99999879,\n",
       "       0.99999882, 0.99999885, 0.99999889, 0.99999892, 0.99999895,\n",
       "       0.99999898, 0.99999901, 0.99999904, 0.99999907, 0.99999909,\n",
       "       0.99999912, 0.99999915, 0.99999918, 0.9999992 , 0.99999923,\n",
       "       0.99999925, 0.99999928, 0.99999931, 0.99999933, 0.99999936,\n",
       "       0.99999938, 0.9999994 , 0.99999943, 0.99999945, 0.99999948,\n",
       "       0.9999995 , 0.99999952, 0.99999955, 0.99999957, 0.99999959,\n",
       "       0.99999961, 0.99999964, 0.99999966, 0.99999968, 0.9999997 ,\n",
       "       0.99999972, 0.99999974, 0.99999976, 0.99999978, 0.9999998 ,\n",
       "       0.99999981, 0.99999983, 0.99999984, 0.99999986, 0.99999987,\n",
       "       0.99999989, 0.9999999 , 0.99999991, 0.99999992, 0.99999993,\n",
       "       0.99999994, 0.99999995, 0.99999996, 0.99999997, 0.99999997,\n",
       "       0.99999998, 0.99999999, 0.99999999, 0.99999999, 1.        ,\n",
       "       1.        , 1.        , 1.        ])"
      ]
     },
     "execution_count": 24,
     "metadata": {},
     "output_type": "execute_result"
    }
   ],
   "source": [
    "# Creating a plot for explained variance vs the number of principal components for the first 10 components\n",
    "create_variance_plot(explained_variance_ratio, 10)"
   ]
  },
  {
   "cell_type": "code",
   "execution_count": 25,
   "metadata": {},
   "outputs": [
    {
     "data": {
      "text/plain": [
       "array([0.55044417, 0.59174852, 0.61623783, 0.63581933, 0.65270229,\n",
       "       0.66797677, 0.68183785, 0.69263087, 0.70259435, 0.71123709])"
      ]
     },
     "execution_count": 25,
     "metadata": {},
     "output_type": "execute_result"
    }
   ],
   "source": [
    "explained_var[:10]"
   ]
  },
  {
   "cell_type": "code",
   "execution_count": 26,
   "metadata": {},
   "outputs": [],
   "source": [
    "# Reducing the dimensionality of the data to have 4 principal components\n",
    "\n",
    "# Creating a PCA model with 4 principal components\n",
    "pca = PCA(n_components=4)\n",
    "\n",
    "# Fitting the PCA model\n",
    "customer_data_reduced_4 = pca.fit_transform(customer_data)"
   ]
  },
  {
   "cell_type": "code",
   "execution_count": 27,
   "metadata": {},
   "outputs": [],
   "source": [
    "# Creating a dataframe that contains the correlations between a principal component and the features\n",
    "component_makeup = pd.DataFrame(pca.components_, columns=customer_data.columns, index=[*range(1, 5)])"
   ]
  },
  {
   "cell_type": "code",
   "execution_count": 28,
   "metadata": {},
   "outputs": [
    {
     "data": {
      "text/html": [
       "<div>\n",
       "<style scoped>\n",
       "    .dataframe tbody tr th:only-of-type {\n",
       "        vertical-align: middle;\n",
       "    }\n",
       "\n",
       "    .dataframe tbody tr th {\n",
       "        vertical-align: top;\n",
       "    }\n",
       "\n",
       "    .dataframe thead th {\n",
       "        text-align: right;\n",
       "    }\n",
       "</style>\n",
       "<table border=\"1\" class=\"dataframe\">\n",
       "  <thead>\n",
       "    <tr style=\"text-align: right;\">\n",
       "      <th></th>\n",
       "      <th>AGER_TYP</th>\n",
       "      <th>AKT_DAT_KL</th>\n",
       "      <th>ALTER_HH</th>\n",
       "      <th>ALTERSKATEGORIE_FEIN</th>\n",
       "      <th>ANZ_HAUSHALTE_AKTIV</th>\n",
       "      <th>ANZ_HH_TITEL</th>\n",
       "      <th>ANZ_KINDER</th>\n",
       "      <th>ANZ_PERSONEN</th>\n",
       "      <th>ANZ_STATISTISCHE_HAUSHALTE</th>\n",
       "      <th>ANZ_TITEL</th>\n",
       "      <th>...</th>\n",
       "      <th>WOHNLAGE</th>\n",
       "      <th>ZABEOTYP</th>\n",
       "      <th>ONLINE_PURCHASE</th>\n",
       "      <th>ANREDE_KZ</th>\n",
       "      <th>ALTERSKATEGORIE_GROB</th>\n",
       "      <th>SINGLE_BUYER</th>\n",
       "      <th>MULTI_BUYER</th>\n",
       "      <th>COSMETIC_AND_FOOD</th>\n",
       "      <th>COSMETIC</th>\n",
       "      <th>FOOD</th>\n",
       "    </tr>\n",
       "  </thead>\n",
       "  <tbody>\n",
       "    <tr>\n",
       "      <th>1</th>\n",
       "      <td>-0.000541</td>\n",
       "      <td>-0.000766</td>\n",
       "      <td>-0.003803</td>\n",
       "      <td>-0.003567</td>\n",
       "      <td>-0.001634</td>\n",
       "      <td>-0.000303</td>\n",
       "      <td>-0.000332</td>\n",
       "      <td>-0.000951</td>\n",
       "      <td>-0.001554</td>\n",
       "      <td>-0.000291</td>\n",
       "      <td>...</td>\n",
       "      <td>-0.001395</td>\n",
       "      <td>0.000170</td>\n",
       "      <td>-0.000002</td>\n",
       "      <td>0.000047</td>\n",
       "      <td>-0.000496</td>\n",
       "      <td>0.000008</td>\n",
       "      <td>-0.000008</td>\n",
       "      <td>-0.000007</td>\n",
       "      <td>0.000004</td>\n",
       "      <td>0.000002</td>\n",
       "    </tr>\n",
       "    <tr>\n",
       "      <th>2</th>\n",
       "      <td>0.000061</td>\n",
       "      <td>0.000561</td>\n",
       "      <td>0.000449</td>\n",
       "      <td>-0.000937</td>\n",
       "      <td>0.001563</td>\n",
       "      <td>0.000218</td>\n",
       "      <td>0.000150</td>\n",
       "      <td>0.000463</td>\n",
       "      <td>0.001552</td>\n",
       "      <td>0.000178</td>\n",
       "      <td>...</td>\n",
       "      <td>0.000835</td>\n",
       "      <td>-0.000177</td>\n",
       "      <td>-0.000035</td>\n",
       "      <td>-0.000073</td>\n",
       "      <td>0.000396</td>\n",
       "      <td>-0.000052</td>\n",
       "      <td>0.000052</td>\n",
       "      <td>0.000053</td>\n",
       "      <td>-0.000014</td>\n",
       "      <td>-0.000038</td>\n",
       "    </tr>\n",
       "    <tr>\n",
       "      <th>3</th>\n",
       "      <td>-0.000209</td>\n",
       "      <td>-0.000602</td>\n",
       "      <td>-0.000775</td>\n",
       "      <td>-0.000854</td>\n",
       "      <td>-0.003153</td>\n",
       "      <td>-0.000087</td>\n",
       "      <td>-0.000129</td>\n",
       "      <td>-0.000225</td>\n",
       "      <td>-0.002911</td>\n",
       "      <td>-0.000142</td>\n",
       "      <td>...</td>\n",
       "      <td>0.000576</td>\n",
       "      <td>-0.000387</td>\n",
       "      <td>0.000004</td>\n",
       "      <td>-0.000022</td>\n",
       "      <td>-0.000220</td>\n",
       "      <td>-0.000007</td>\n",
       "      <td>0.000007</td>\n",
       "      <td>0.000003</td>\n",
       "      <td>-0.000007</td>\n",
       "      <td>0.000003</td>\n",
       "    </tr>\n",
       "    <tr>\n",
       "      <th>4</th>\n",
       "      <td>0.000713</td>\n",
       "      <td>0.001027</td>\n",
       "      <td>0.003572</td>\n",
       "      <td>0.002638</td>\n",
       "      <td>-0.002726</td>\n",
       "      <td>-0.000379</td>\n",
       "      <td>0.000385</td>\n",
       "      <td>0.001095</td>\n",
       "      <td>-0.002527</td>\n",
       "      <td>0.000355</td>\n",
       "      <td>...</td>\n",
       "      <td>-0.001460</td>\n",
       "      <td>0.000530</td>\n",
       "      <td>-0.000003</td>\n",
       "      <td>-0.000071</td>\n",
       "      <td>0.000630</td>\n",
       "      <td>-0.000034</td>\n",
       "      <td>0.000034</td>\n",
       "      <td>0.000044</td>\n",
       "      <td>-0.000021</td>\n",
       "      <td>-0.000023</td>\n",
       "    </tr>\n",
       "  </tbody>\n",
       "</table>\n",
       "<p>4 rows × 364 columns</p>\n",
       "</div>"
      ],
      "text/plain": [
       "   AGER_TYP  AKT_DAT_KL  ALTER_HH  ALTERSKATEGORIE_FEIN  ANZ_HAUSHALTE_AKTIV  \\\n",
       "1 -0.000541   -0.000766 -0.003803             -0.003567            -0.001634   \n",
       "2  0.000061    0.000561  0.000449             -0.000937             0.001563   \n",
       "3 -0.000209   -0.000602 -0.000775             -0.000854            -0.003153   \n",
       "4  0.000713    0.001027  0.003572              0.002638            -0.002726   \n",
       "\n",
       "   ANZ_HH_TITEL  ANZ_KINDER  ANZ_PERSONEN  ANZ_STATISTISCHE_HAUSHALTE  \\\n",
       "1     -0.000303   -0.000332     -0.000951                   -0.001554   \n",
       "2      0.000218    0.000150      0.000463                    0.001552   \n",
       "3     -0.000087   -0.000129     -0.000225                   -0.002911   \n",
       "4     -0.000379    0.000385      0.001095                   -0.002527   \n",
       "\n",
       "   ANZ_TITEL  ...  WOHNLAGE  ZABEOTYP  ONLINE_PURCHASE  ANREDE_KZ  \\\n",
       "1  -0.000291  ... -0.001395  0.000170        -0.000002   0.000047   \n",
       "2   0.000178  ...  0.000835 -0.000177        -0.000035  -0.000073   \n",
       "3  -0.000142  ...  0.000576 -0.000387         0.000004  -0.000022   \n",
       "4   0.000355  ... -0.001460  0.000530        -0.000003  -0.000071   \n",
       "\n",
       "   ALTERSKATEGORIE_GROB  SINGLE_BUYER  MULTI_BUYER  COSMETIC_AND_FOOD  \\\n",
       "1             -0.000496      0.000008    -0.000008          -0.000007   \n",
       "2              0.000396     -0.000052     0.000052           0.000053   \n",
       "3             -0.000220     -0.000007     0.000007           0.000003   \n",
       "4              0.000630     -0.000034     0.000034           0.000044   \n",
       "\n",
       "   COSMETIC      FOOD  \n",
       "1  0.000004  0.000002  \n",
       "2 -0.000014 -0.000038  \n",
       "3 -0.000007  0.000003  \n",
       "4 -0.000021 -0.000023  \n",
       "\n",
       "[4 rows x 364 columns]"
      ]
     },
     "execution_count": 28,
     "metadata": {},
     "output_type": "execute_result"
    }
   ],
   "source": [
    "component_makeup.head()"
   ]
  },
  {
   "cell_type": "code",
   "execution_count": 29,
   "metadata": {},
   "outputs": [],
   "source": [
    "# Finding the most influential features of every principal component\n",
    "\n",
    "# Dictionary that will hold the names of the most important features for every principal component\n",
    "important_features_dict = {}\n",
    "\n",
    "# Counter for the row index\n",
    "i = 1\n",
    "# Iterate through all the principal components\n",
    "for i in range(1, 5):\n",
    "    # Adding a key for the principal component\n",
    "    new_key = \"PC\" + str(i)\n",
    "    # Creating an empty list for the component\n",
    "    important_features_dict[new_key] = []\n",
    "    # Iterate through all the columns\n",
    "    for feature in component_makeup.columns:\n",
    "        # Add the name of the column and correlation coefficient if there is a strong correlation\n",
    "        if component_makeup.loc[i, feature] >= 0.2 or component_makeup.loc[i, feature] <= -0.2:\n",
    "            important_features_dict[new_key].append((feature, component_makeup.loc[i, feature]))"
   ]
  },
  {
   "cell_type": "code",
   "execution_count": 30,
   "metadata": {},
   "outputs": [
    {
     "name": "stdout",
     "output_type": "stream",
     "text": [
      "{'PC1': [('EINGEZOGENAM_HH_JAHR', -0.5705858446297307), ('GEBURTSJAHR', -0.5483833813896041), ('KBA13_ANZAHL_PKW', -0.20095104609047684), ('MIN_GEBAEUDEJAHR', -0.5768392379786956)], 'PC2': [('EINGEZOGENAM_HH_JAHR', 0.34332665363661685), ('GEBURTSJAHR', -0.8353791122580406), ('MIN_GEBAEUDEJAHR', 0.3996877280816066)], 'PC3': [('EINGEZOGENAM_HH_JAHR', -0.27591706165808405), ('KBA13_ANZAHL_PKW', 0.9570914797595232)], 'PC4': [('EINGEZOGENAM_HH_JAHR', 0.6928193421153951), ('MIN_GEBAEUDEJAHR', -0.7066321367269783)]}\n"
     ]
    }
   ],
   "source": [
    "print(important_features_dict)"
   ]
  },
  {
   "cell_type": "code",
   "execution_count": 32,
   "metadata": {},
   "outputs": [
    {
     "data": {
      "image/png": "[encoded data removed]",
      "text/plain": [
       "<Figure size 432x288 with 1 Axes>"
      ]
     },
     "metadata": {
      "needs_background": "light"
     },
     "output_type": "display_data"
    }
   ],
   "source": [
    "# Creating a graph that shows the cumulative distortion as a function of the number of clusters in order to find the optimal value for k\n",
    "find_optimal_k(customer_data_reduced_4, 30)"
   ]
  },
  {
   "cell_type": "code",
   "execution_count": 31,
   "metadata": {},
   "outputs": [],
   "source": [
    "# Training a k means clustering model with 4 clusters on the unnormalized data\n",
    "kmeans = MiniBatchKMeans(n_clusters=4)"
   ]
  },
  {
   "cell_type": "code",
   "execution_count": 32,
   "metadata": {},
   "outputs": [],
   "source": [
    "# Creating a dataframe that contains the cluster distances for each row\n",
    "customer_cluster_distances = kmeans.fit_transform(customer_data_reduced_4)\n",
    "\n",
    "# Getting the cluster predictions for each customer (cluster indices)\n",
    "customer_clusters = kmeans.predict(customer_data_reduced_4)"
   ]
  },
  {
   "cell_type": "code",
   "execution_count": 33,
   "metadata": {},
   "outputs": [],
   "source": [
    "# Converting the customer_cluster_distances numpy array to a pandas dataframe\n",
    "customer_cluster_distances = pd.DataFrame(customer_cluster_distances)"
   ]
  },
  {
   "cell_type": "code",
   "execution_count": 34,
   "metadata": {},
   "outputs": [],
   "source": [
    "# Combining the cluster distances dataframe with the cluster indices for each customer\n",
    "customers_transformed = customer_cluster_distances.copy()\n",
    "customers_transformed[\"labels\"] = customer_clusters"
   ]
  },
  {
   "cell_type": "code",
   "execution_count": 35,
   "metadata": {},
   "outputs": [
    {
     "data": {
      "text/html": [
       "<div>\n",
       "<style scoped>\n",
       "    .dataframe tbody tr th:only-of-type {\n",
       "        vertical-align: middle;\n",
       "    }\n",
       "\n",
       "    .dataframe tbody tr th {\n",
       "        vertical-align: top;\n",
       "    }\n",
       "\n",
       "    .dataframe thead th {\n",
       "        text-align: right;\n",
       "    }\n",
       "</style>\n",
       "<table border=\"1\" class=\"dataframe\">\n",
       "  <thead>\n",
       "    <tr style=\"text-align: right;\">\n",
       "      <th></th>\n",
       "      <th>0</th>\n",
       "      <th>1</th>\n",
       "      <th>2</th>\n",
       "      <th>3</th>\n",
       "      <th>labels</th>\n",
       "    </tr>\n",
       "  </thead>\n",
       "  <tbody>\n",
       "    <tr>\n",
       "      <th>0</th>\n",
       "      <td>1959.633686</td>\n",
       "      <td>3042.195759</td>\n",
       "      <td>537.168428</td>\n",
       "      <td>2098.741726</td>\n",
       "      <td>2</td>\n",
       "    </tr>\n",
       "    <tr>\n",
       "      <th>1</th>\n",
       "      <td>2967.445411</td>\n",
       "      <td>1970.372212</td>\n",
       "      <td>2103.055329</td>\n",
       "      <td>2756.541684</td>\n",
       "      <td>1</td>\n",
       "    </tr>\n",
       "    <tr>\n",
       "      <th>2</th>\n",
       "      <td>2033.692453</td>\n",
       "      <td>2829.250440</td>\n",
       "      <td>231.220370</td>\n",
       "      <td>1953.106230</td>\n",
       "      <td>2</td>\n",
       "    </tr>\n",
       "    <tr>\n",
       "      <th>3</th>\n",
       "      <td>1966.790369</td>\n",
       "      <td>2896.647856</td>\n",
       "      <td>90.961910</td>\n",
       "      <td>1979.489572</td>\n",
       "      <td>2</td>\n",
       "    </tr>\n",
       "    <tr>\n",
       "      <th>4</th>\n",
       "      <td>496.523265</td>\n",
       "      <td>3453.469707</td>\n",
       "      <td>1965.845060</td>\n",
       "      <td>125.105870</td>\n",
       "      <td>3</td>\n",
       "    </tr>\n",
       "  </tbody>\n",
       "</table>\n",
       "</div>"
      ],
      "text/plain": [
       "             0            1            2            3  labels\n",
       "0  1959.633686  3042.195759   537.168428  2098.741726       2\n",
       "1  2967.445411  1970.372212  2103.055329  2756.541684       1\n",
       "2  2033.692453  2829.250440   231.220370  1953.106230       2\n",
       "3  1966.790369  2896.647856    90.961910  1979.489572       2\n",
       "4   496.523265  3453.469707  1965.845060   125.105870       3"
      ]
     },
     "execution_count": 35,
     "metadata": {},
     "output_type": "execute_result"
    }
   ],
   "source": [
    "customers_transformed.head()"
   ]
  },
  {
   "cell_type": "code",
   "execution_count": 36,
   "metadata": {},
   "outputs": [],
   "source": [
    "# Changing the column names to correspond to the cluster numbers\n",
    "customers_transformed.columns = [\"1\", \"2\", \"3\", \"4\", \"labels\"]"
   ]
  },
  {
   "cell_type": "code",
   "execution_count": 37,
   "metadata": {},
   "outputs": [],
   "source": [
    "# Adding 1 to each of the cluster labels since they should start at 1\n",
    "customers_transformed[\"labels\"] = customers_transformed[\"labels\"] + 1"
   ]
  },
  {
   "cell_type": "code",
   "execution_count": 38,
   "metadata": {},
   "outputs": [
    {
     "data": {
      "text/html": [
       "<div>\n",
       "<style scoped>\n",
       "    .dataframe tbody tr th:only-of-type {\n",
       "        vertical-align: middle;\n",
       "    }\n",
       "\n",
       "    .dataframe tbody tr th {\n",
       "        vertical-align: top;\n",
       "    }\n",
       "\n",
       "    .dataframe thead th {\n",
       "        text-align: right;\n",
       "    }\n",
       "</style>\n",
       "<table border=\"1\" class=\"dataframe\">\n",
       "  <thead>\n",
       "    <tr style=\"text-align: right;\">\n",
       "      <th></th>\n",
       "      <th>1</th>\n",
       "      <th>2</th>\n",
       "      <th>3</th>\n",
       "      <th>4</th>\n",
       "      <th>labels</th>\n",
       "    </tr>\n",
       "  </thead>\n",
       "  <tbody>\n",
       "    <tr>\n",
       "      <th>0</th>\n",
       "      <td>1959.633686</td>\n",
       "      <td>3042.195759</td>\n",
       "      <td>537.168428</td>\n",
       "      <td>2098.741726</td>\n",
       "      <td>3</td>\n",
       "    </tr>\n",
       "    <tr>\n",
       "      <th>1</th>\n",
       "      <td>2967.445411</td>\n",
       "      <td>1970.372212</td>\n",
       "      <td>2103.055329</td>\n",
       "      <td>2756.541684</td>\n",
       "      <td>2</td>\n",
       "    </tr>\n",
       "    <tr>\n",
       "      <th>2</th>\n",
       "      <td>2033.692453</td>\n",
       "      <td>2829.250440</td>\n",
       "      <td>231.220370</td>\n",
       "      <td>1953.106230</td>\n",
       "      <td>3</td>\n",
       "    </tr>\n",
       "    <tr>\n",
       "      <th>3</th>\n",
       "      <td>1966.790369</td>\n",
       "      <td>2896.647856</td>\n",
       "      <td>90.961910</td>\n",
       "      <td>1979.489572</td>\n",
       "      <td>3</td>\n",
       "    </tr>\n",
       "    <tr>\n",
       "      <th>4</th>\n",
       "      <td>496.523265</td>\n",
       "      <td>3453.469707</td>\n",
       "      <td>1965.845060</td>\n",
       "      <td>125.105870</td>\n",
       "      <td>4</td>\n",
       "    </tr>\n",
       "  </tbody>\n",
       "</table>\n",
       "</div>"
      ],
      "text/plain": [
       "             1            2            3            4  labels\n",
       "0  1959.633686  3042.195759   537.168428  2098.741726       3\n",
       "1  2967.445411  1970.372212  2103.055329  2756.541684       2\n",
       "2  2033.692453  2829.250440   231.220370  1953.106230       3\n",
       "3  1966.790369  2896.647856    90.961910  1979.489572       3\n",
       "4   496.523265  3453.469707  1965.845060   125.105870       4"
      ]
     },
     "execution_count": 38,
     "metadata": {},
     "output_type": "execute_result"
    }
   ],
   "source": [
    "customers_transformed.head()"
   ]
  },
  {
   "cell_type": "code",
   "execution_count": 39,
   "metadata": {},
   "outputs": [],
   "source": [
    "# Creating another dataframe that contains the centroid distances\n",
    "cluster_centroids = pd.DataFrame(kmeans.cluster_centers_)"
   ]
  },
  {
   "cell_type": "code",
   "execution_count": 40,
   "metadata": {},
   "outputs": [
    {
     "data": {
      "text/html": [
       "<div>\n",
       "<style scoped>\n",
       "    .dataframe tbody tr th:only-of-type {\n",
       "        vertical-align: middle;\n",
       "    }\n",
       "\n",
       "    .dataframe tbody tr th {\n",
       "        vertical-align: top;\n",
       "    }\n",
       "\n",
       "    .dataframe thead th {\n",
       "        text-align: right;\n",
       "    }\n",
       "</style>\n",
       "<table border=\"1\" class=\"dataframe\">\n",
       "  <thead>\n",
       "    <tr style=\"text-align: right;\">\n",
       "      <th></th>\n",
       "      <th>0</th>\n",
       "      <th>1</th>\n",
       "      <th>2</th>\n",
       "      <th>3</th>\n",
       "    </tr>\n",
       "  </thead>\n",
       "  <tbody>\n",
       "    <tr>\n",
       "      <th>0</th>\n",
       "      <td>-1201.817809</td>\n",
       "      <td>-334.648451</td>\n",
       "      <td>344.276323</td>\n",
       "      <td>15.126360</td>\n",
       "    </tr>\n",
       "    <tr>\n",
       "      <th>1</th>\n",
       "      <td>2342.484601</td>\n",
       "      <td>-334.737004</td>\n",
       "      <td>37.919222</td>\n",
       "      <td>-19.769240</td>\n",
       "    </tr>\n",
       "    <tr>\n",
       "      <th>2</th>\n",
       "      <td>-62.479048</td>\n",
       "      <td>1240.462022</td>\n",
       "      <td>-34.510897</td>\n",
       "      <td>21.343388</td>\n",
       "    </tr>\n",
       "    <tr>\n",
       "      <th>3</th>\n",
       "      <td>-1030.865239</td>\n",
       "      <td>-463.273777</td>\n",
       "      <td>-199.551738</td>\n",
       "      <td>4.204879</td>\n",
       "    </tr>\n",
       "  </tbody>\n",
       "</table>\n",
       "</div>"
      ],
      "text/plain": [
       "             0            1           2          3\n",
       "0 -1201.817809  -334.648451  344.276323  15.126360\n",
       "1  2342.484601  -334.737004   37.919222 -19.769240\n",
       "2   -62.479048  1240.462022  -34.510897  21.343388\n",
       "3 -1030.865239  -463.273777 -199.551738   4.204879"
      ]
     },
     "execution_count": 40,
     "metadata": {},
     "output_type": "execute_result"
    }
   ],
   "source": [
    "cluster_centroids.head()"
   ]
  },
  {
   "cell_type": "code",
   "execution_count": 41,
   "metadata": {},
   "outputs": [],
   "source": [
    "# Changing the column names to represent the principal components\n",
    "cluster_centroids.columns = [\"c_1\", \"c_2\", \"c_3\", \"c_4\"]"
   ]
  },
  {
   "cell_type": "code",
   "execution_count": 42,
   "metadata": {},
   "outputs": [
    {
     "data": {
      "text/html": [
       "<div>\n",
       "<style scoped>\n",
       "    .dataframe tbody tr th:only-of-type {\n",
       "        vertical-align: middle;\n",
       "    }\n",
       "\n",
       "    .dataframe tbody tr th {\n",
       "        vertical-align: top;\n",
       "    }\n",
       "\n",
       "    .dataframe thead th {\n",
       "        text-align: right;\n",
       "    }\n",
       "</style>\n",
       "<table border=\"1\" class=\"dataframe\">\n",
       "  <thead>\n",
       "    <tr style=\"text-align: right;\">\n",
       "      <th></th>\n",
       "      <th>c_1</th>\n",
       "      <th>c_2</th>\n",
       "      <th>c_3</th>\n",
       "      <th>c_4</th>\n",
       "    </tr>\n",
       "  </thead>\n",
       "  <tbody>\n",
       "    <tr>\n",
       "      <th>0</th>\n",
       "      <td>-1201.817809</td>\n",
       "      <td>-334.648451</td>\n",
       "      <td>344.276323</td>\n",
       "      <td>15.126360</td>\n",
       "    </tr>\n",
       "    <tr>\n",
       "      <th>1</th>\n",
       "      <td>2342.484601</td>\n",
       "      <td>-334.737004</td>\n",
       "      <td>37.919222</td>\n",
       "      <td>-19.769240</td>\n",
       "    </tr>\n",
       "    <tr>\n",
       "      <th>2</th>\n",
       "      <td>-62.479048</td>\n",
       "      <td>1240.462022</td>\n",
       "      <td>-34.510897</td>\n",
       "      <td>21.343388</td>\n",
       "    </tr>\n",
       "    <tr>\n",
       "      <th>3</th>\n",
       "      <td>-1030.865239</td>\n",
       "      <td>-463.273777</td>\n",
       "      <td>-199.551738</td>\n",
       "      <td>4.204879</td>\n",
       "    </tr>\n",
       "  </tbody>\n",
       "</table>\n",
       "</div>"
      ],
      "text/plain": [
       "           c_1          c_2         c_3        c_4\n",
       "0 -1201.817809  -334.648451  344.276323  15.126360\n",
       "1  2342.484601  -334.737004   37.919222 -19.769240\n",
       "2   -62.479048  1240.462022  -34.510897  21.343388\n",
       "3 -1030.865239  -463.273777 -199.551738   4.204879"
      ]
     },
     "execution_count": 42,
     "metadata": {},
     "output_type": "execute_result"
    }
   ],
   "source": [
    "cluster_centroids.head()"
   ]
  },
  {
   "cell_type": "code",
   "execution_count": 43,
   "metadata": {},
   "outputs": [
    {
     "data": {
      "image/png": "[encoded data removed]",
      "text/plain": [
       "<Figure size 864x648 with 2 Axes>"
      ]
     },
     "metadata": {
      "needs_background": "light"
     },
     "output_type": "display_data"
    }
   ],
   "source": [
    "# Creating a heat map in order to visualize the clusters\n",
    "plt.figure(figsize = (12,9))\n",
    "ax = sns.heatmap(cluster_centroids.T, cmap = 'YlGnBu')\n",
    "ax.set_xlabel(\"Cluster\")\n",
    "plt.yticks(fontsize = 16)\n",
    "plt.xticks(fontsize = 16)\n",
    "ax.set_title(\"Attribute Value by Centroid\")\n",
    "plt.show()"
   ]
  },
  {
   "cell_type": "code",
   "execution_count": 48,
   "metadata": {},
   "outputs": [
    {
     "data": {
      "text/plain": [
       "(array([42419.,     0.,     0.,     0.,     0.,     0.,     0.,     0.,\n",
       "            0.,   532.]),\n",
       " array([0. , 0.1, 0.2, 0.3, 0.4, 0.5, 0.6, 0.7, 0.8, 0.9, 1. ]),\n",
       " <a list of 10 Patch objects>)"
      ]
     },
     "execution_count": 48,
     "metadata": {},
     "output_type": "execute_result"
    },
    {
     "data": {
      "image/png": "[encoded data removed]",
      "text/plain": [
       "<Figure size 432x288 with 1 Axes>"
      ]
     },
     "metadata": {
      "needs_background": "light"
     },
     "output_type": "display_data"
    }
   ],
   "source": [
    "plt.hist(train_data[\"RESPONSE\"])"
   ]
  },
  {
   "cell_type": "code",
   "execution_count": 51,
   "metadata": {},
   "outputs": [
    {
     "data": {
      "text/plain": [
       "0.01238620753882331"
      ]
     },
     "execution_count": 51,
     "metadata": {},
     "output_type": "execute_result"
    }
   ],
   "source": [
    "len(train_data[train_data[\"RESPONSE\"]==1]) / len(train_data)"
   ]
  },
  {
   "cell_type": "code",
   "execution_count": 44,
   "metadata": {},
   "outputs": [
    {
     "data": {
      "text/plain": [
       "RandomForestClassifier(bootstrap=True, ccp_alpha=0.0, class_weight=None,\n",
       "                       criterion='gini', max_depth=None, max_features='auto',\n",
       "                       max_leaf_nodes=None, max_samples=None,\n",
       "                       min_impurity_decrease=0.0, min_impurity_split=None,\n",
       "                       min_samples_leaf=1, min_samples_split=2,\n",
       "                       min_weight_fraction_leaf=0.0, n_estimators=100,\n",
       "                       n_jobs=None, oob_score=True, random_state=None,\n",
       "                       verbose=0, warm_start=False)"
      ]
     },
     "execution_count": 44,
     "metadata": {},
     "output_type": "execute_result"
    }
   ],
   "source": [
    "# Implementing random forest for dimensionality reduction since using PCA does not give accurate results\n",
    "\n",
    "# Importing the random forest model from scikit learn\n",
    "from sklearn.ensemble import RandomForestClassifier\n",
    "\n",
    "# Creating the random forest model\n",
    "rf_classifier = RandomForestClassifier(oob_score=True)\n",
    "\n",
    "# Creating a feature matrix and label vector from the train data\n",
    "X_train = train_data.loc[:, train_data.columns != 'RESPONSE']\n",
    "y_train = train_data['RESPONSE']\n",
    "\n",
    "# Training the model using the train_data\n",
    "rf_classifier.fit(X_train, y_train)"
   ]
  },
  {
   "cell_type": "code",
   "execution_count": 45,
   "metadata": {},
   "outputs": [
    {
     "name": "stdout",
     "output_type": "stream",
     "text": [
      "[0.00029296 0.00031663 0.00032947 0.00033262 0.00043197 0.00045262\n",
      " 0.00049297 0.00057856 0.00059319 0.00065086 0.00066503 0.00066946\n",
      " 0.00069619 0.00074469 0.00075388 0.0007853  0.00080694 0.00084449\n",
      " 0.00087563 0.00087575 0.00093133 0.00096368 0.00096395 0.00099569\n",
      " 0.00100593 0.00101053 0.0010488  0.00106299 0.001064   0.00106498\n",
      " 0.00107823 0.00110422 0.00112748 0.00113597 0.00116838 0.00118603\n",
      " 0.00120238 0.00121448 0.0012226  0.00126114 0.0012783  0.00129975\n",
      " 0.00134959 0.00139113 0.00145599 0.00145646 0.00147634 0.00149205\n",
      " 0.00150406 0.00154759 0.00154932 0.00155827 0.00157932 0.00158852\n",
      " 0.00161055 0.0016311  0.0016373  0.00165598 0.00166496 0.0016866\n",
      " 0.00170722 0.00171519 0.00172157 0.00175582 0.00175905 0.00176357\n",
      " 0.00176772 0.00177116 0.00177786 0.00178517 0.00181647 0.00181827\n",
      " 0.0018196  0.00182506 0.00188358 0.00190112 0.00190144 0.00191353\n",
      " 0.0019344  0.00194946 0.00195729 0.00196511 0.00200724 0.00200909\n",
      " 0.00202485 0.00207048 0.00208154 0.00209333 0.00210215 0.00210367\n",
      " 0.00210418 0.00210683 0.0021127  0.00212062 0.00212304 0.00213975\n",
      " 0.00215093 0.00218711 0.00222456 0.00226063 0.00227511 0.00227645\n",
      " 0.00228269 0.00229567 0.00230078 0.00231494 0.00233094 0.00234571\n",
      " 0.00235254 0.00236156 0.00237043 0.00237806 0.00238363 0.00239291\n",
      " 0.0024208  0.00243405 0.00244721 0.00244942 0.00245684 0.00245733\n",
      " 0.00246926 0.00246942 0.00247827 0.00249036 0.00249105 0.00249228\n",
      " 0.00250368 0.00251858 0.00252187 0.0025327  0.00254132 0.00254367\n",
      " 0.00254963 0.00255168 0.00255664 0.00256222 0.0025712  0.00257337\n",
      " 0.00257515 0.00257518 0.00259023 0.00259469 0.00260055 0.00261549\n",
      " 0.00261862 0.00262639 0.00263061 0.00263102 0.00264025 0.00265654\n",
      " 0.0026706  0.00267073 0.00268105 0.00268504 0.00268543 0.00268944\n",
      " 0.0026925  0.00269556 0.00269572 0.0027129  0.00271451 0.00271992\n",
      " 0.00273375 0.00274303 0.00274311 0.00274974 0.00274979 0.00275388\n",
      " 0.0027542  0.00275466 0.00276611 0.00276658 0.00276876 0.0027703\n",
      " 0.00277051 0.00277874 0.00278313 0.00278755 0.00279102 0.00279559\n",
      " 0.00280329 0.00281273 0.00281318 0.00281899 0.00282178 0.00282673\n",
      " 0.00283025 0.00283653 0.00283754 0.00283859 0.0028396  0.00284438\n",
      " 0.00285296 0.00286573 0.00287026 0.00287226 0.00287418 0.00288277\n",
      " 0.00288403 0.00288611 0.00288866 0.0028896  0.00289305 0.00289332\n",
      " 0.002895   0.002905   0.00291105 0.002926   0.00292944 0.00293779\n",
      " 0.00294553 0.00295725 0.00295893 0.00296234 0.00296692 0.00298838\n",
      " 0.00299288 0.00299309 0.00301187 0.00301453 0.00301756 0.00302389\n",
      " 0.00303227 0.0030328  0.00303595 0.003042   0.0030489  0.0030494\n",
      " 0.0030572  0.00306233 0.00307212 0.00309473 0.00310638 0.00311361\n",
      " 0.00311846 0.00312501 0.00312972 0.00313268 0.00313422 0.00313591\n",
      " 0.00314388 0.0031479  0.00315058 0.00315099 0.00315754 0.00316385\n",
      " 0.0031824  0.00319567 0.00320446 0.00320689 0.00320766 0.00320913\n",
      " 0.00321714 0.0032218  0.00322788 0.00323199 0.0032487  0.00324951\n",
      " 0.00325656 0.00326651 0.00326982 0.00327778 0.00328286 0.00328936\n",
      " 0.00330807 0.00333747 0.00333934 0.00334336 0.00334669 0.00334676\n",
      " 0.0033486  0.00335506 0.00336399 0.00338431 0.00338816 0.00340031\n",
      " 0.00340038 0.0034005  0.00340911 0.00343189 0.00346319 0.00347147\n",
      " 0.00347566 0.00349033 0.00349428 0.00350301 0.00351199 0.00352143\n",
      " 0.00352556 0.00355062 0.00355586 0.00356128 0.00357678 0.00357958\n",
      " 0.00360133 0.00361777 0.00362752 0.00362781 0.00363882 0.00364806\n",
      " 0.00365413 0.00365742 0.00366166 0.00370163 0.0037018  0.0037384\n",
      " 0.00374144 0.0037632  0.00378893 0.00384143 0.00384734 0.00385025\n",
      " 0.00385565 0.00386105 0.00387187 0.00391031 0.0039105  0.00393118\n",
      " 0.00393698 0.00396408 0.00400185 0.00403436 0.00404041 0.00406414\n",
      " 0.00409266 0.00413317 0.00416028 0.0042194  0.00429734 0.00431087\n",
      " 0.00432759 0.00434477 0.0043508  0.00435885 0.00438841 0.00442124\n",
      " 0.0044343  0.00449499 0.00461047 0.00484554 0.00486004 0.00486686\n",
      " 0.00488306 0.00492882 0.00496127 0.00497658 0.00499801 0.00524402\n",
      " 0.00540129 0.00563807 0.00569478 0.00592871 0.00609214 0.00658733\n",
      " 0.00709636 0.00805721 0.00966103 0.00973846]\n"
     ]
    }
   ],
   "source": [
    "feature_importances = rf_classifier.feature_importances_\n",
    "feature_importances.sort()\n",
    "print(feature_importances)"
   ]
  },
  {
   "cell_type": "code",
   "execution_count": 46,
   "metadata": {},
   "outputs": [
    {
     "name": "stdout",
     "output_type": "stream",
     "text": [
      "0.9875905101161789\n"
     ]
    }
   ],
   "source": [
    "print(rf_classifier.oob_score_)"
   ]
  },
  {
   "cell_type": "code",
   "execution_count": 31,
   "metadata": {},
   "outputs": [
    {
     "data": {
      "text/plain": [
       "0        0\n",
       "1        0\n",
       "2        0\n",
       "3        0\n",
       "4        0\n",
       "        ..\n",
       "42946    0\n",
       "42947    0\n",
       "42948    0\n",
       "42949    0\n",
       "42950    0\n",
       "Name: RESPONSE, Length: 42951, dtype: int64"
      ]
     },
     "execution_count": 31,
     "metadata": {},
     "output_type": "execute_result"
    }
   ],
   "source": [
    "train_data['RESPONSE']"
   ]
  },
  {
   "cell_type": "code",
   "execution_count": 36,
   "metadata": {},
   "outputs": [
    {
     "data": {
      "text/plain": [
       "(42951, 358)"
      ]
     },
     "execution_count": 36,
     "metadata": {},
     "output_type": "execute_result"
    }
   ],
   "source": [
    "X_train.shape"
   ]
  },
  {
   "cell_type": "code",
   "execution_count": 46,
   "metadata": {},
   "outputs": [],
   "source": [
    "# Test\n",
    "X_test = test_data.loc[:, test_data.columns != 'RESPONSE']\n",
    "\n"
   ]
  },
  {
   "cell_type": "code",
   "execution_count": 39,
   "metadata": {},
   "outputs": [],
   "source": [
    "y_pred = rf_classifier.predict(X_train)"
   ]
  },
  {
   "cell_type": "code",
   "execution_count": 40,
   "metadata": {},
   "outputs": [
    {
     "name": "stdout",
     "output_type": "stream",
     "text": [
      "0.998463365230146\n"
     ]
    }
   ],
   "source": [
    "from sklearn.metrics import accuracy_score\n",
    "print(accuracy_score(y_train, y_pred))"
   ]
  },
  {
   "cell_type": "code",
   "execution_count": 49,
   "metadata": {},
   "outputs": [
    {
     "ename": "NameError",
     "evalue": "name 'accuracy_score' is not defined",
     "output_type": "error",
     "traceback": [
      "\u001b[0;31m---------------------------------------------------------------------------\u001b[0m",
      "\u001b[0;31mNameError\u001b[0m                                 Traceback (most recent call last)",
      "\u001b[0;32m<ipython-input-49-9c100d963bb9>\u001b[0m in \u001b[0;36m<module>\u001b[0;34m\u001b[0m\n\u001b[0;32m----> 1\u001b[0;31m \u001b[0mprint\u001b[0m\u001b[0;34m(\u001b[0m\u001b[0maccuracy_score\u001b[0m\u001b[0;34m(\u001b[0m\u001b[0my_train\u001b[0m\u001b[0;34m,\u001b[0m \u001b[0mrf_classifier\u001b[0m\u001b[0;34m.\u001b[0m\u001b[0mclasses_\u001b[0m\u001b[0;34m)\u001b[0m\u001b[0;34m)\u001b[0m\u001b[0;34m\u001b[0m\u001b[0;34m\u001b[0m\u001b[0m\n\u001b[0m",
      "\u001b[0;31mNameError\u001b[0m: name 'accuracy_score' is not defined"
     ]
    }
   ],
   "source": [
    "print(accuracy_score(y_train, rf_classifier.classes_))"
   ]
  },
  {
   "cell_type": "code",
   "execution_count": 47,
   "metadata": {},
   "outputs": [],
   "source": [
    "y_pred_2 = rf_classifier.predict(X_test)"
   ]
  },
  {
   "cell_type": "code",
   "execution_count": 48,
   "metadata": {},
   "outputs": [
    {
     "ename": "NameError",
     "evalue": "name 'X_train' is not defined",
     "output_type": "error",
     "traceback": [
      "\u001b[0;31m---------------------------------------------------------------------------\u001b[0m",
      "\u001b[0;31mNameError\u001b[0m                                 Traceback (most recent call last)",
      "\u001b[0;32m<ipython-input-48-0ff8777b8c55>\u001b[0m in \u001b[0;36m<module>\u001b[0;34m\u001b[0m\n\u001b[1;32m      1\u001b[0m \u001b[0;32mfrom\u001b[0m \u001b[0msklearn\u001b[0m\u001b[0;34m.\u001b[0m\u001b[0mmodel_selection\u001b[0m \u001b[0;32mimport\u001b[0m \u001b[0mtrain_test_split\u001b[0m\u001b[0;34m\u001b[0m\u001b[0;34m\u001b[0m\u001b[0m\n\u001b[0;32m----> 2\u001b[0;31m \u001b[0mx1\u001b[0m\u001b[0;34m,\u001b[0m \u001b[0mx2\u001b[0m\u001b[0;34m,\u001b[0m \u001b[0my1\u001b[0m\u001b[0;34m,\u001b[0m \u001b[0my2\u001b[0m \u001b[0;34m=\u001b[0m \u001b[0mtrain_test_split\u001b[0m\u001b[0;34m(\u001b[0m\u001b[0mX_train\u001b[0m\u001b[0;34m,\u001b[0m \u001b[0my_train\u001b[0m\u001b[0;34m,\u001b[0m \u001b[0mtest_size\u001b[0m\u001b[0;34m=\u001b[0m\u001b[0;36m0.1\u001b[0m\u001b[0;34m)\u001b[0m\u001b[0;34m\u001b[0m\u001b[0;34m\u001b[0m\u001b[0m\n\u001b[0m",
      "\u001b[0;31mNameError\u001b[0m: name 'X_train' is not defined"
     ]
    }
   ],
   "source": [
    "from sklearn.model_selection import train_test_split\n",
    "x1, x2, y1, y2 = train_test_split(X_train, y_train, test_size=0.1)"
   ]
  },
  {
   "cell_type": "code",
   "execution_count": null,
   "metadata": {},
   "outputs": [],
   "source": []
  }
 ],
 "metadata": {
  "kernelspec": {
   "display_name": "Python 3",
   "language": "python",
   "name": "python3"
  },
  "language_info": {
   "codemirror_mode": {
    "name": "ipython",
    "version": 3
   },
   "file_extension": ".py",
   "mimetype": "text/x-python",
   "name": "python",
   "nbconvert_exporter": "python",
   "pygments_lexer": "ipython3",
   "version": "3.7.3"
  }
 },
 "nbformat": 4,
 "nbformat_minor": 2
}